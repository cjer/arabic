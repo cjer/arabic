{
 "cells": [
  {
   "cell_type": "code",
   "execution_count": 47,
   "id": "cc4b0b91-62a2-4ec2-a96e-21530e30de59",
   "metadata": {},
   "outputs": [],
   "source": [
    "import html\n",
    "from bs4 import BeautifulSoup\n",
    "from glob import glob\n",
    "from itertools import chain\n",
    "from pathlib import Path\n",
    "import pandas as pd\n",
    "import requests\n",
    "import numpy as np\n",
    "from tqdm import tqdm\n",
    "import json"
   ]
  },
  {
   "cell_type": "markdown",
   "id": "0e22651c-f9e5-4f51-8bce-cd46312941b6",
   "metadata": {},
   "source": [
    "## Arabic - Hebrew"
   ]
  },
  {
   "cell_type": "code",
   "execution_count": 16,
   "id": "7107217d-6d31-4662-89f0-ee7436f743f9",
   "metadata": {
    "tags": []
   },
   "outputs": [
    {
     "name": "stderr",
     "output_type": "stream",
     "text": [
      "100%|██████████████████████████████████████████████████████████████████████████████████████████████████████████████████████████████████████████████████████████| 231/231 [05:58<00:00,  1.55s/it]\n"
     ]
    }
   ],
   "source": [
    "arabit_browse_template = \"https://arabit.me/page/{page_number}/\"\n",
    "headers = {\n",
    "    \"User-Agent\": \"Mozilla/5.0 (Macintosh; Intel Mac OS X 10_15_7) AppleWebKit/537.36 (KHTML, like Gecko) Chrome/120.0.0.0 Safari/537.36\",\n",
    "}\n",
    "page_htmls = []\n",
    "for page_number in tqdm(np.arange(1, 232)):\n",
    "    page_url = arabit_browse_template.format(page_number=page_number)\n",
    "    page_html = requests.get(page_url, headers=headers)\n",
    "    page_htmls.append(page_html)"
   ]
  },
  {
   "cell_type": "code",
   "execution_count": 17,
   "id": "6688e98a-e4e1-4e50-8ad4-bf8e2ecbde66",
   "metadata": {},
   "outputs": [],
   "source": [
    "for i, page in enumerate(page_htmls):\n",
    "    with open(f'data/arabit/browse/{str(i+1)}', 'w') as f:\n",
    "        f.write(page.text)"
   ]
  },
  {
   "cell_type": "code",
   "execution_count": 23,
   "id": "72c4f98b-1175-418b-9257-2e4e9280b2de",
   "metadata": {},
   "outputs": [],
   "source": [
    "word_pages = []\n",
    "for page in page_htmls:\n",
    "    soup = BeautifulSoup(page.text, 'html.parser')\n",
    "\n",
    "    entries = soup.find_all('h2', class_='entry-title')\n",
    "    for entry in entries:\n",
    "        link = entry.find('a').get(\"href\")\n",
    "        title = entry.text.strip()\n",
    "        word_pages.append((title, link))"
   ]
  },
  {
   "cell_type": "code",
   "execution_count": 24,
   "id": "989af54b-e967-482d-ae4e-e188b0264cea",
   "metadata": {},
   "outputs": [
    {
     "data": {
      "text/html": [
       "<div>\n",
       "<style scoped>\n",
       "    .dataframe tbody tr th:only-of-type {\n",
       "        vertical-align: middle;\n",
       "    }\n",
       "\n",
       "    .dataframe tbody tr th {\n",
       "        vertical-align: top;\n",
       "    }\n",
       "\n",
       "    .dataframe thead th {\n",
       "        text-align: right;\n",
       "    }\n",
       "</style>\n",
       "<table border=\"1\" class=\"dataframe\">\n",
       "  <thead>\n",
       "    <tr style=\"text-align: right;\">\n",
       "      <th></th>\n",
       "      <th>title</th>\n",
       "      <th>link</th>\n",
       "    </tr>\n",
       "  </thead>\n",
       "  <tbody>\n",
       "    <tr>\n",
       "      <th>2297</th>\n",
       "      <td>איכס</td>\n",
       "      <td>https://arabit.me/%d7%90%d7%99%d7%9b%d7%a1/</td>\n",
       "    </tr>\n",
       "    <tr>\n",
       "      <th>2298</th>\n",
       "      <td>כלוא</td>\n",
       "      <td>https://arabit.me/%d7%9b%d7%9c%d7%95%d7%90/</td>\n",
       "    </tr>\n",
       "    <tr>\n",
       "      <th>2299</th>\n",
       "      <td>נעל ישנה</td>\n",
       "      <td>https://arabit.me/%d7%a0%d7%a2%d7%9c-%d7%99%d7...</td>\n",
       "    </tr>\n",
       "    <tr>\n",
       "      <th>2300</th>\n",
       "      <td>טבח</td>\n",
       "      <td>https://arabit.me/%d7%98%d7%91%d7%97/</td>\n",
       "    </tr>\n",
       "    <tr>\n",
       "      <th>2301</th>\n",
       "      <td>נביא</td>\n",
       "      <td>https://arabit.me/%d7%a0%d7%91%d7%99%d7%90/</td>\n",
       "    </tr>\n",
       "  </tbody>\n",
       "</table>\n",
       "</div>"
      ],
      "text/plain": [
       "         title                                               link\n",
       "2297      איכס        https://arabit.me/%d7%90%d7%99%d7%9b%d7%a1/\n",
       "2298      כלוא        https://arabit.me/%d7%9b%d7%9c%d7%95%d7%90/\n",
       "2299  נעל ישנה  https://arabit.me/%d7%a0%d7%a2%d7%9c-%d7%99%d7...\n",
       "2300       טבח              https://arabit.me/%d7%98%d7%91%d7%97/\n",
       "2301      נביא        https://arabit.me/%d7%a0%d7%91%d7%99%d7%90/"
      ]
     },
     "execution_count": 24,
     "metadata": {},
     "output_type": "execute_result"
    }
   ],
   "source": [
    "wp_df = pd.DataFrame(word_pages, columns=['title', 'link'])\n",
    "wp_df.tail()"
   ]
  },
  {
   "cell_type": "code",
   "execution_count": 25,
   "id": "604659f2-6e8e-4e16-9d1b-19a5e9dbdf18",
   "metadata": {},
   "outputs": [
    {
     "data": {
      "text/plain": [
       "(2302, 2)"
      ]
     },
     "execution_count": 25,
     "metadata": {},
     "output_type": "execute_result"
    }
   ],
   "source": [
    "wp_df.shape"
   ]
  },
  {
   "cell_type": "code",
   "execution_count": 28,
   "id": "0f0f55f9-b709-49ae-a31e-de5bcf9d6bdb",
   "metadata": {},
   "outputs": [
    {
     "data": {
      "text/plain": [
       "2167"
      ]
     },
     "execution_count": 28,
     "metadata": {},
     "output_type": "execute_result"
    }
   ],
   "source": [
    "wp_df.title.nunique()"
   ]
  },
  {
   "cell_type": "code",
   "execution_count": 27,
   "id": "0c0d45d5-b593-4f8b-a2cc-e43adc6914f8",
   "metadata": {},
   "outputs": [
    {
     "data": {
      "text/plain": [
       "2302"
      ]
     },
     "execution_count": 27,
     "metadata": {},
     "output_type": "execute_result"
    }
   ],
   "source": [
    "wp_df.link.nunique()"
   ]
  },
  {
   "cell_type": "code",
   "execution_count": 26,
   "id": "fe4e5808-e5c7-4bb2-8030-12f6b7acaaeb",
   "metadata": {},
   "outputs": [],
   "source": [
    "wp_df.to_csv('data/arabit/pages.csv', index=False)"
   ]
  },
  {
   "cell_type": "code",
   "execution_count": 33,
   "id": "27c686e1-a6e4-477a-be0e-945fb289501c",
   "metadata": {},
   "outputs": [],
   "source": [
    "import os"
   ]
  },
  {
   "cell_type": "raw",
   "id": "d5e47ec3-c895-493c-a834-7832af58a6a3",
   "metadata": {},
   "source": [
    "word_page_htmls = []\n",
    "for i, title, link in tqdm(wp_df.itertuples(), total=len(wp_df)):\n",
    "    output_path = f'data/arabit/word_pages/{str(i+1)}.html'\n",
    "    if not os.path.exists(output_path): \n",
    "        word_page_html = requests.get(link, headers=headers)\n",
    "        word_page_htmls.append(word_page_html)\n",
    "        with open(output_path, 'w') as f:\n",
    "            f.write(word_page_html.text)"
   ]
  },
  {
   "cell_type": "code",
   "execution_count": 35,
   "id": "f4d46495-40a4-44b9-90cf-2d0412f6e59d",
   "metadata": {},
   "outputs": [
    {
     "name": "stderr",
     "output_type": "stream",
     "text": [
      "100%|████████████████████████████████████████████████████████████████████████████████████████████████████████████████████████████████████████████████████████| 2302/2302 [17:21<00:00,  2.21it/s]\n"
     ]
    }
   ],
   "source": [
    "from concurrent.futures import ThreadPoolExecutor\n",
    "\n",
    "def save_page(params):\n",
    "    i, title, link = params\n",
    "    output_path = f'data/arabit/word_pages/{str(i+1)}.html'\n",
    "    if not os.path.exists(output_path): \n",
    "        word_page_html = requests.get(link, headers=headers)\n",
    "        with open(output_path, 'w') as f:\n",
    "            f.write(word_page_html.text)\n",
    "\n",
    "with ThreadPoolExecutor(max_workers=10) as executor:\n",
    "    list(tqdm(executor.map(save_page, wp_df.itertuples()), total=len(wp_df)))"
   ]
  },
  {
   "cell_type": "code",
   "execution_count": 95,
   "id": "39623e7f-ce89-432d-a357-c8b593ff36bb",
   "metadata": {},
   "outputs": [
    {
     "name": "stderr",
     "output_type": "stream",
     "text": [
      " 26%|████████████████████████████████████████▌                                                                                                                | 610/2302 [00:27<01:01, 27.45it/s]"
     ]
    },
    {
     "name": "stdout",
     "output_type": "stream",
     "text": [
      "Failed: https://arabit.me/%d7%9e%d7%9b%d7%95%d7%9c%d7%aa/\n"
     ]
    },
    {
     "name": "stderr",
     "output_type": "stream",
     "text": [
      " 29%|███████████████████████████████████████████▋                                                                                                             | 657/2302 [00:30<01:05, 25.02it/s]"
     ]
    },
    {
     "name": "stdout",
     "output_type": "stream",
     "text": [
      "Failed: https://arabit.me/%d7%a4%d7%9c%d7%99%d7%a9%d7%94/\n"
     ]
    },
    {
     "name": "stderr",
     "output_type": "stream",
     "text": [
      " 68%|██████████████████████████████████████████████████████████████████████████████████████████████████████▊                                                 | 1558/2302 [01:10<00:26, 28.11it/s]"
     ]
    },
    {
     "name": "stdout",
     "output_type": "stream",
     "text": [
      "Failed: https://arabit.me/%d7%a9%d7%9c%d7%95%d7%9d-2/\n",
      "Failed: https://arabit.me/%d7%94%d7%a9%d7%aa%d7%97%d7%a8%d7%a8-%d7%94%d7%aa%d7%a8%d7%95%d7%a4%d7%a3/\n",
      "Failed: https://arabit.me/%d7%a4%d7%a8%d7%97%d7%97%d7%99%d7%9d/\n"
     ]
    },
    {
     "name": "stderr",
     "output_type": "stream",
     "text": [
      " 69%|█████████████████████████████████████████████████████████████████████████████████████████████████████████▍                                              | 1596/2302 [01:12<00:25, 27.95it/s]"
     ]
    },
    {
     "name": "stdout",
     "output_type": "stream",
     "text": [
      "Failed: https://arabit.me/%d7%92%d7%9c%d7%a2%d7%99%d7%9f/\n"
     ]
    },
    {
     "name": "stderr",
     "output_type": "stream",
     "text": [
      " 70%|█████████████████████████████████████████████████████████████████████████████████████████████████████████▊                                              | 1602/2302 [01:12<00:38, 18.00it/s]"
     ]
    },
    {
     "name": "stdout",
     "output_type": "stream",
     "text": [
      "Failed: https://arabit.me/%d7%99%d7%95%d7%a6%d7%90-%d7%9e%d7%92%d7%93%d7%a8-%d7%94%d7%a8%d7%92%d7%99%d7%9c/\n",
      "Failed: https://arabit.me/%d7%9c%d7%9b%d7%9c-%d7%94%d7%a8%d7%95%d7%97%d7%95%d7%aa/\n",
      "Failed: https://arabit.me/%d7%96%d7%99%d7%95%d7%a3-%d7%91%d7%a9%d7%99%d7%a8%d7%94/\n",
      "Failed: https://arabit.me/%d7%90%d7%a1%d7%95%d7%a8/\n",
      "Failed: https://arabit.me/%d7%a9%d7%90%d7%9c%d7%9c%d7%94-%d7%99%d7%a2%d7%96%d7%95%d7%a8-%d7%9c%d7%9a/\n",
      "Failed: https://arabit.me/%d7%97%d7%9c%d7%a9/\n"
     ]
    },
    {
     "name": "stderr",
     "output_type": "stream",
     "text": [
      " 70%|██████████████████████████████████████████████████████████████████████████████████████████████████████████▏                                             | 1608/2302 [01:12<00:31, 21.88it/s]"
     ]
    },
    {
     "name": "stdout",
     "output_type": "stream",
     "text": [
      "Failed: https://arabit.me/%d7%9e%d7%a6%d7%95%d7%99%d7%9f/\n",
      "Failed: https://arabit.me/%d7%90%d7%97%d7%95%d7%a9%d7%9c%d7%95%d7%a7%d7%99/\n",
      "Failed: https://arabit.me/%d7%a9%d7%99%d7%a4%d7%95%d7%a8/\n"
     ]
    },
    {
     "name": "stderr",
     "output_type": "stream",
     "text": [
      " 77%|████████████████████████████████████████████████████████████████████████████████████████████████████████████████████▋                                   | 1768/2302 [01:19<00:24, 21.63it/s]"
     ]
    },
    {
     "name": "stdout",
     "output_type": "stream",
     "text": [
      "Failed: https://arabit.me/%d7%a4%d7%99%d7%aa%d7%aa-%d7%9c%d7%a4%d7%94-2/\n"
     ]
    },
    {
     "name": "stderr",
     "output_type": "stream",
     "text": [
      "100%|████████████████████████████████████████████████████████████████████████████████████████████████████████████████████████████████████████████████████████| 2302/2302 [01:44<00:00, 22.12it/s]\n"
     ]
    }
   ],
   "source": [
    "import re\n",
    "import unicodedata\n",
    "\n",
    "\n",
    "def normalize_text(text):\n",
    "    return ''.join(c for c in unicodedata.normalize('NFD', text)\n",
    "                   if unicodedata.category(c) != 'Mn')\n",
    "\n",
    "\n",
    "def find_image(soup):\n",
    "    yoast = json.loads(soup.find(\"script\", class_=\"yoast-schema-graph\").string)\n",
    "    for elem in yoast[\"@graph\"]:\n",
    "        if elem.get(\"@type\") == 'ImageObject':\n",
    "            return elem[\"caption\"], elem[\"url\"]\n",
    "        \n",
    "        \n",
    "SEPS = \"();,\"\n",
    "rsplit = re.compile(\"\\\\\"+\"|\\\\\".join(SEPS)).split\n",
    "\n",
    "\n",
    "def find_arabic_words(s):\n",
    "    pattern = r'[\\u0600-\\u06FF\\s]+'\n",
    "    return [ w for w in re.findall(pattern, s) if len(w)>1 ]\n",
    "\n",
    "\n",
    "words = []\n",
    "for i, title, link in tqdm(list(wp_df.itertuples()), total=len(wp_df)):\n",
    "    #print(i, title, link)\n",
    "    wp_path = f'data/arabit/word_pages/{str(i+1)}.html'\n",
    "    with open(wp_path, 'r') as f:\n",
    "        wp_html = f.read()\n",
    "    soup = BeautifulSoup(wp_html, 'html.parser')\n",
    "    try:\n",
    "        caption, image = find_image(soup)\n",
    "    except:\n",
    "        print(f\"Failed: {link}\")\n",
    "        continue\n",
    "    caption_part = normalize_text(rsplit(caption)[0].strip(\" “\\\"\"))\n",
    "    #print(caption_part, image)\n",
    "    \n",
    "    #find in body\n",
    "    body = soup.find(\"body\")\n",
    "    arabic_word = None\n",
    "    for line in body.text.split(\"\\n\"):\n",
    "        line_norm = normalize_text(line)\n",
    "        if caption_part in line_norm:\n",
    "            arabic_words = find_arabic_words(line)\n",
    "            if arabic_words:\n",
    "                arabic_word = arabic_words[0]\n",
    "                break\n",
    "    #print(arabic_word)\n",
    "    words.append((i+1, title, link, image, caption, caption_part, arabic_word))\n"
   ]
  },
  {
   "cell_type": "markdown",
   "id": "ce51e032-20c4-49ad-b860-93106a7d7a79",
   "metadata": {},
   "source": [
    "## Download images\n"
   ]
  },
  {
   "cell_type": "code",
   "execution_count": 102,
   "id": "31781e96-632d-4ff2-953d-18b48d2ef4c4",
   "metadata": {},
   "outputs": [],
   "source": [
    "image_urls = [iu for w in words if (iu:=w[3]).startswith(\"http\")]"
   ]
  },
  {
   "cell_type": "code",
   "execution_count": 104,
   "id": "636de2a5-1e53-47d5-9ece-8efefa9ef2a5",
   "metadata": {},
   "outputs": [
    {
     "name": "stderr",
     "output_type": "stream",
     "text": [
      "100%|████████████████████████████████████████████████████████████████████████████████████████████████████████████████████████████████████████████████████████| 2286/2286 [02:36<00:00, 14.61it/s]\n"
     ]
    }
   ],
   "source": [
    "from concurrent.futures import ThreadPoolExecutor\n",
    "import shutil\n",
    "\n",
    "def save_image(image_url):\n",
    "    image_name = image_url.split(\"/\")[-1]\n",
    "    output_path = f'data/arabit/images/{image_name}'\n",
    "    if not os.path.exists(output_path): \n",
    "        r = requests.get(image_url, headers=headers, stream=True)\n",
    "        if r.status_code == 200:\n",
    "            with open(output_path, 'wb') as f:\n",
    "                for chunk in r:\n",
    "                    f.write(chunk)\n",
    "\n",
    "with ThreadPoolExecutor(max_workers=10) as executor:\n",
    "    list(tqdm(executor.map(save_image, image_urls), total=len(image_urls)))"
   ]
  },
  {
   "cell_type": "markdown",
   "id": "db1bdf44-86e5-4bc1-884f-2c1d4d5f91c8",
   "metadata": {},
   "source": [
    "## Reduce image size"
   ]
  },
  {
   "cell_type": "code",
   "execution_count": 117,
   "id": "d3948287-0073-4a5c-9dac-a10311710f02",
   "metadata": {
    "tags": []
   },
   "outputs": [
    {
     "name": "stderr",
     "output_type": "stream",
     "text": [
      "100%|████████████████████████████████████████████████████████████████████████████████████████████████████████████████████████████████████████████████████████| 2254/2254 [06:35<00:00,  5.69it/s]\n"
     ]
    }
   ],
   "source": [
    "from PIL import Image\n",
    "OUTPUT_FOLDER = 'data/arabit/images_smaller/'\n",
    "def compress_image(image, max_size=100000, scale=0.9):\n",
    "    output_path = os.path.join(OUTPUT_FOLDER, image)\n",
    "    if os.path.exists(output_path):\n",
    "        return\n",
    "    image_path = os.path.join('data/arabit/images/', image)\n",
    "    img = Image.open(image_path)\n",
    "\n",
    "    if os.path.getsize(image_path) <= max_size:\n",
    "        shutil.copy(image_path, output_path)\n",
    "        return\n",
    "    # If image size is more than max size provided, reduce the quality of image \n",
    "    while os.path.getsize(image_path) > max_size:\n",
    "        width, height = img.size\n",
    "        img.thumbnail((width*scale, height*scale))\n",
    "        image_path = os.path.join(OUTPUT_FOLDER, image)\n",
    "        img.save(image_path,optimize=True, quality=85)\n",
    "\n",
    "for image in tqdm(os.listdir('data/arabit/images/')):\n",
    "    filename, extension = os.path.splitext(image)\n",
    "    compress_image(image)"
   ]
  },
  {
   "cell_type": "code",
   "execution_count": 119,
   "id": "e841f291-f853-4d80-8b1a-8f353a64f582",
   "metadata": {
    "tags": []
   },
   "outputs": [
    {
     "name": "stderr",
     "output_type": "stream",
     "text": [
      "100%|████████████████████████████████████████████████████████████████████████████████████████████████████████████████████████████████████████████████████████| 2255/2255 [02:54<00:00, 12.94it/s]\n"
     ]
    }
   ],
   "source": [
    "from PIL import Image\n",
    "OUTPUT_FOLDER = 'data/arabit/images_xs/'\n",
    "def compress_image(image, max_size=25000, scale=0.9):\n",
    "    output_path = os.path.join(OUTPUT_FOLDER, image)\n",
    "    if os.path.exists(output_path):\n",
    "        return\n",
    "    image_path = os.path.join('data/arabit/images_smaller/', image)\n",
    "    img = Image.open(image_path)\n",
    "\n",
    "    if os.path.getsize(image_path) <= max_size:\n",
    "        shutil.copy(image_path, output_path)\n",
    "        return\n",
    "    # If image size is more than max size provided, reduce the quality of image \n",
    "    while os.path.getsize(image_path) > max_size:\n",
    "        width, height = img.size\n",
    "        img.thumbnail((width*scale, height*scale))\n",
    "        image_path = os.path.join(OUTPUT_FOLDER, image)\n",
    "        img.save(image_path,optimize=True, quality=75)\n",
    "\n",
    "for image in tqdm(os.listdir('data/arabit/images_smaller/')):\n",
    "    if '.DS_Store' in image or '.ipynb' in image:\n",
    "        continue\n",
    "    filename, extension = os.path.splitext(image)\n",
    "    compress_image(image)"
   ]
  },
  {
   "cell_type": "markdown",
   "id": "6a4bd330-e301-485e-97a6-2e281a7f9fcf",
   "metadata": {},
   "source": [
    "## Find matching audio for each page"
   ]
  },
  {
   "cell_type": "code",
   "execution_count": 204,
   "id": "b6a77202-b288-40e3-9804-308ed397ad95",
   "metadata": {},
   "outputs": [],
   "source": [
    "url_re = re.compile(\"https?:\\\\/\\\\/(?:w+\\\\.)?[-a-zA-Z0-9@:%._\\\\+~#=]{1,256}\\\\.[a-zA-Z0-9()]{1,6}\\\\b(?:[-a-zA-Z0-9()@:%_\\\\+.~#?&\\\\/=]*)\")\n",
    "soundcloud_re = url_re = re.compile(r\"https?://(?:[\\w\\.]+\\.)?soundcloud\\.[a-zA-Z0-9()]{1,6}\\b(?:[-a-zA-Z0-9()@:%_\\+.~#?&/=]*)\")"
   ]
  },
  {
   "cell_type": "code",
   "execution_count": 206,
   "id": "49ca58d8-52a5-412f-92da-00233286d5f4",
   "metadata": {},
   "outputs": [
    {
     "name": "stderr",
     "output_type": "stream",
     "text": [
      "100%|███████████████████████████████████████████████████████████████████████████████| 2302/2302 [01:51<00:00, 20.63it/s]\n"
     ]
    }
   ],
   "source": [
    "sounds = []\n",
    "for i, title, link in tqdm(list(wp_df.itertuples()), total=len(wp_df)):\n",
    "    #print(i, title, link)\n",
    "    wp_path = f'data/arabit/word_pages/{str(i+1)}.html'\n",
    "    with open(wp_path, 'r') as f:\n",
    "        wp_html = f.read()\n",
    "    soup = BeautifulSoup(wp_html, 'html.parser')\n",
    "    article = soup.find(\"article\")\n",
    "    sound_link = re.findall(soundcloud_re, article.prettify())\n",
    "    sound = article.find(\"iframe\", title=re.compile(\".* by Arabit\"))\n",
    "    if sound is not None:\n",
    "        sound = sound.get(\"title\")\n",
    "    else:\n",
    "        sound = None\n",
    "    sounds.append((i+1, title, sound, sound_link))"
   ]
  },
  {
   "cell_type": "code",
   "execution_count": 209,
   "id": "4db3b15c-76af-4d85-8669-a78ea1149b20",
   "metadata": {},
   "outputs": [
    {
     "data": {
      "text/plain": [
       "683"
      ]
     },
     "execution_count": 209,
     "metadata": {},
     "output_type": "execute_result"
    }
   ],
   "source": [
    "len([1 for s in sounds if s[2] is not None])"
   ]
  },
  {
   "cell_type": "code",
   "execution_count": 210,
   "id": "c37d75fd-5e4a-4ee6-ba52-c33986ad85de",
   "metadata": {},
   "outputs": [
    {
     "data": {
      "text/plain": [
       "1129"
      ]
     },
     "execution_count": 210,
     "metadata": {},
     "output_type": "execute_result"
    }
   ],
   "source": [
    "len([1 for s in sounds if s[3]!=[]])"
   ]
  },
  {
   "cell_type": "code",
   "execution_count": 156,
   "id": "7540ebe8-44a9-4c84-af95-ab52bcb1ff1c",
   "metadata": {},
   "outputs": [
    {
     "data": {
      "text/plain": [
       "2302"
      ]
     },
     "execution_count": 156,
     "metadata": {},
     "output_type": "execute_result"
    }
   ],
   "source": [
    "len([1 for s in sounds if s[2] is not None or (s[3] is not None and s[3]!=[])])"
   ]
  },
  {
   "cell_type": "code",
   "execution_count": 157,
   "id": "8a04254e-9123-4205-b2ae-19f32104e4ab",
   "metadata": {},
   "outputs": [
    {
     "data": {
      "text/plain": [
       "1143"
      ]
     },
     "execution_count": 157,
     "metadata": {},
     "output_type": "execute_result"
    }
   ],
   "source": [
    "len(os.listdir('data/arabit/soundcloud/'))"
   ]
  },
  {
   "cell_type": "code",
   "execution_count": 158,
   "id": "90ae9470-c8b8-4ae2-a747-3dbe359e4836",
   "metadata": {},
   "outputs": [
    {
     "data": {
      "text/plain": [
       "2303"
      ]
     },
     "execution_count": 158,
     "metadata": {},
     "output_type": "execute_result"
    }
   ],
   "source": [
    "len(os.listdir('data/arabit/word_pages/'))"
   ]
  },
  {
   "cell_type": "code",
   "execution_count": 239,
   "id": "d1ee01b6-cfbd-4928-92ec-5519d49903f5",
   "metadata": {},
   "outputs": [],
   "source": [
    "r = requests.get('https://on.soundcloud.com/s1Lxr?_imcp=1')"
   ]
  },
  {
   "cell_type": "markdown",
   "id": "6d7b4fef-3d79-4321-9f71-032902d96405",
   "metadata": {},
   "source": [
    "## Scrape title of soundcloud links and match to soundcloud file names"
   ]
  },
  {
   "cell_type": "code",
   "execution_count": 247,
   "id": "2d1c41df-ae06-4a8f-84e1-11858561cf6d",
   "metadata": {
    "collapsed": true,
    "jupyter": {
     "outputs_hidden": true
    },
    "tags": []
   },
   "outputs": [
    {
     "name": "stdout",
     "output_type": "stream",
     "text": [
      "https://on.soundcloud.com/s1Lxr?fbclid=IwAR2rKTdcdVf0Q2KqfKO5sd8ryS9v8YkyM4vTCNf1mM5GDWK7PFamfmh4-tI\n",
      "https://on.soundcloud.com/s1Lxr?_impcp=1\n",
      "https://soundcloud.com/listen2arabit/d5yl754v5w1h?si=9bac91b8a0e2456da7e61b40cdd345bf&utm_source=clipboard&utm_medium=text&utm_campaign=social_sharing\n",
      "Stream שכרן (תודה) by Arabit | Listen online for free on SoundCloud\n",
      "https://on.soundcloud.com/Jag6v?fbclid=IwAR2DYrZ5SIN2FY_glT5_Dk9PgcXtkwbg0fjPc6ii808n_QMext7GPH73qjI\n",
      "https://on.soundcloud.com/Jag6v?_impcp=1\n",
      "https://soundcloud.com/listen2arabit/n1c2fhnql01s?si=9bac91b8a0e2456da7e61b40cdd345bf&utm_source=clipboard&utm_medium=text&utm_campaign=social_sharing\n",
      "Stream מע׳ארה (מערה) by Arabit | Listen online for free on SoundCloud\n",
      "https://on.soundcloud.com/9RqRd?fbclid=IwAR1tQ0S383bBOnmGrl1Ra12LwOxaTUeb79i-3j_nKnPlAvk2vUR77ORw3ko\n",
      "https://on.soundcloud.com/9RqRd?_impcp=1\n",
      "https://soundcloud.com/listen2arabit/k0obd6mtnt47?si=9bac91b8a0e2456da7e61b40cdd345bf&utm_source=clipboard&utm_medium=text&utm_campaign=social_sharing\n",
      "Stream כרסי רג׳אג׳ (כסא נדנדה) by Arabit | Listen online for free on SoundCloud\n",
      "https://on.soundcloud.com/HAA6e?fbclid=IwAR1e3r3Ng81_W_iHjGE_2OSld40V3zYkslbvG9ODc29ZiLIcPVAD2wRVQCk\n",
      "https://on.soundcloud.com/HAA6e?_impcp=1\n",
      "https://soundcloud.com/listen2arabit/3rbrejejjcsd?si=9bac91b8a0e2456da7e61b40cdd345bf&utm_source=clipboard&utm_medium=text&utm_campaign=social_sharing\n",
      "Stream אנצ׳ם (הצטרף) by Arabit | Listen online for free on SoundCloud\n",
      "https://on.soundcloud.com/SDpcs\n",
      "https://on.soundcloud.com/SDpcs?_impcp=1\n",
      "https://soundcloud.com/listen2arabit/brxcpvenredd?si=9bac91b8a0e2456da7e61b40cdd345bf&utm_source=clipboard&utm_medium=text&utm_campaign=social_sharing\n",
      "Stream האתף (טלפון) by Arabit | Listen online for free on SoundCloud\n",
      "https://on.soundcloud.com/9LNpN?fbclid=IwAR2zSqZ9LWTFOfFOH-XfZQvdHSqdWsF7MKfoo0M2O40SKioF71QEr341k7k\n",
      "https://on.soundcloud.com/9LNpN?_impcp=1\n",
      "https://soundcloud.com/listen2arabit/6byzhibn5whn?si=111fc806ad32450c8fb8009832e444bc&utm_source=clipboard&utm_medium=text&utm_campaign=social_sharing\n",
      "Stream זנאן (פטפטן) by Arabit | Listen online for free on SoundCloud\n",
      "https://on.soundcloud.com/2vKQi?fbclid=IwAR3dck487XOcFSWEtf-NQN48qJFiOXA_yns3kmW7aCepp8PSxfPLvmOuKf0\n",
      "https://on.soundcloud.com/2vKQi?_impcp=1\n",
      "https://soundcloud.com/listen2arabit/lhezielzgdlb?si=111fc806ad32450c8fb8009832e444bc&utm_source=clipboard&utm_medium=text&utm_campaign=social_sharing\n",
      "Stream רסאם (צייר) by Arabit | Listen online for free on SoundCloud\n",
      "https://on.soundcloud.com/Duit7\n",
      "https://on.soundcloud.com/Duit7?_impcp=1\n",
      "https://soundcloud.com/listen2arabit/09xrqtinsgzi?si=111fc806ad32450c8fb8009832e444bc&utm_source=clipboard&utm_medium=text&utm_campaign=social_sharing\n",
      "Stream מח׳מן (שמאי) by Arabit | Listen online for free on SoundCloud\n",
      "https://on.soundcloud.com/cEU6s?fbclid=IwAR0Gpo1KeoWhxdLpxiiYyfqUjGlgo56wDFajMAoiIdPv96r4CBu2GBH4b08\n",
      "https://on.soundcloud.com/cEU6s?_impcp=1\n",
      "https://soundcloud.com/listen2arabit/k6ocfohevrkx?si=111fc806ad32450c8fb8009832e444bc&utm_source=clipboard&utm_medium=text&utm_campaign=social_sharing\n",
      "Stream ע׳סיל אמואל (הלבנת כספים) by Arabit | Listen online for free on SoundCloud\n",
      "https://on.soundcloud.com/nCZCk\n",
      "https://on.soundcloud.com/nCZCk?_impcp=1\n",
      "https://soundcloud.com/listen2arabit/4iwz4vfohvh6?si=111fc806ad32450c8fb8009832e444bc&utm_source=clipboard&utm_medium=text&utm_campaign=social_sharing\n",
      "Stream כעב (עקב, קרסול) by Arabit | Listen online for free on SoundCloud\n",
      "https://on.soundcloud.com/FbWTy\n",
      "https://on.soundcloud.com/FbWTy?_impcp=1\n",
      "https://soundcloud.com/listen2arabit/0h1avoymhm2a?si=111fc806ad32450c8fb8009832e444bc&utm_source=clipboard&utm_medium=text&utm_campaign=social_sharing\n",
      "Stream עלם אלע׳יב (חכמת הנסתר) by Arabit | Listen online for free on SoundCloud\n",
      "https://on.soundcloud.com/qTV3D?fbclid=IwAR2u6Tgio--WCDZ0QeUtMQ-SMqtLi1v9fdDGVhagUxAdqi4SjO960ze3O_8\n",
      "https://on.soundcloud.com/qTV3D?_impcp=1\n",
      "https://soundcloud.com/listen2arabit/gyxfzohxqvei?si=111fc806ad32450c8fb8009832e444bc&utm_source=clipboard&utm_medium=text&utm_campaign=social_sharing\n",
      "Stream תפאאל (אופטימיות) by Arabit | Listen online for free on SoundCloud\n",
      "https://on.soundcloud.com/tyXHN?fbclid=IwAR1Xvw44uXilNmlxCqR1DHx9SyDsbT3xVOuP3ZCB6hY1OW4symvW9WkdHmU\n",
      "https://on.soundcloud.com/tyXHN?_impcp=1\n",
      "https://soundcloud.com/listen2arabit/enlnwky3edce?si=7b827f4110204929964d8627f6b64efe&utm_source=clipboard&utm_medium=text&utm_campaign=social_sharing\n",
      "Stream מצ׳ח׳ה (משאבה) by Arabit | Listen online for free on SoundCloud\n",
      "https://on.soundcloud.com/e7Wcz?fbclid=IwAR1gvWNKJiSvFD3jNUVRNrzbxiVdDWn8AVHahV6kJzGH4AKMyffaMKuKbag\n",
      "https://on.soundcloud.com/e7Wcz?_impcp=1\n",
      "https://soundcloud.com/listen2arabit/wmuy46jyxpkb?si=7b827f4110204929964d8627f6b64efe&utm_source=clipboard&utm_medium=text&utm_campaign=social_sharing\n",
      "Stream צ׳ע׳ט (לחץ) by Arabit | Listen online for free on SoundCloud\n",
      "https://on.soundcloud.com/869ND\n",
      "https://on.soundcloud.com/869ND?_impcp=1\n",
      "https://soundcloud.com/listen2arabit/cbpxead0m6in?si=7b827f4110204929964d8627f6b64efe&utm_source=clipboard&utm_medium=text&utm_campaign=social_sharing\n",
      "Stream זאוד (התנשא) by Arabit | Listen online for free on SoundCloud\n",
      "https://on.soundcloud.com/wdLbM?fbclid=IwAR0eY2efAUcPcPwOcrzWkguq_leirGP2VgmQTYtYPcOIsY17Bc7OEqXAdIw\n",
      "https://on.soundcloud.com/wdLbM?_impcp=1\n",
      "https://soundcloud.com/listen2arabit/t4hxrd3les6b?si=7b827f4110204929964d8627f6b64efe&utm_source=clipboard&utm_medium=text&utm_campaign=social_sharing\n",
      "Stream ברהאן (הוכחה) by Arabit | Listen online for free on SoundCloud\n",
      "https://on.soundcloud.com/z12Fh\n",
      "https://on.soundcloud.com/z12Fh?_impcp=1\n",
      "https://soundcloud.com/listen2arabit/llfdceobjjnt?si=7b827f4110204929964d8627f6b64efe&utm_source=clipboard&utm_medium=text&utm_campaign=social_sharing\n",
      "Stream עמיל מדסוס (סוכן חשאי) by Arabit | Listen online for free on SoundCloud\n",
      "https://on.soundcloud.com/6NXmn\n",
      "https://on.soundcloud.com/6NXmn?_impcp=1\n",
      "https://soundcloud.com/listen2arabit/aan2jmhtoerx?si=7b827f4110204929964d8627f6b64efe&utm_source=clipboard&utm_medium=text&utm_campaign=social_sharing\n",
      "Stream שאכוש (פטיש) by Arabit | Listen online for free on SoundCloud\n",
      "https://on.soundcloud.com/ECWHp\n",
      "https://on.soundcloud.com/ECWHp?_impcp=1\n",
      "https://soundcloud.com/listen2arabit/vgaavs9nov5e?si=7b827f4110204929964d8627f6b64efe&utm_source=clipboard&utm_medium=text&utm_campaign=social_sharing\n",
      "Stream תעליק (תגובה ברשת) by Arabit | Listen online for free on SoundCloud\n",
      "https://on.soundcloud.com/vVEHH\n",
      "https://on.soundcloud.com/vVEHH?_impcp=1\n",
      "https://soundcloud.com/listen2arabit/mnyahny0kczc?si=c4ac38e1033e4189a54abb01f5d860ed&utm_source=clipboard&utm_medium=text&utm_campaign=social_sharing\n",
      "Stream אלעצר אלחג׳רי (תקופת האבן) by Arabit | Listen online for free on SoundCloud\n",
      "https://on.soundcloud.com/rfJ7z\n",
      "https://on.soundcloud.com/rfJ7z?_impcp=1\n",
      "https://soundcloud.com/listen2arabit/jrclivdricwg?si=423c6c719c0a46109b91298cb39e252b&utm_source=clipboard&utm_medium=text&utm_campaign=social_sharing\n",
      "Stream חג׳אר by Arabit | Listen online for free on SoundCloud\n",
      "https://on.soundcloud.com/jX4Px\n",
      "https://on.soundcloud.com/jX4Px?_impcp=1\n",
      "https://soundcloud.com/listen2arabit/lgozctgmqqyf?si=c4ac38e1033e4189a54abb01f5d860ed&utm_source=clipboard&utm_medium=text&utm_campaign=social_sharing\n",
      "Stream פאד (הועיל) by Arabit | Listen online for free on SoundCloud\n",
      "https://on.soundcloud.com/z2VqL\n",
      "https://on.soundcloud.com/z2VqL?_impcp=1\n",
      "https://soundcloud.com/listen2arabit/d1qbbf50uxjq?si=6157f469e8324eaea9b44cd97da31f01&utm_source=clipboard&utm_medium=text&utm_campaign=social_sharing\n",
      "Stream פאאדה by Arabit | Listen online for free on SoundCloud\n",
      "https://on.soundcloud.com/8qi2u\n",
      "https://on.soundcloud.com/8qi2u?_impcp=1\n",
      "https://soundcloud.com/listen2arabit/v5u0aqntt48n?si=c4ac38e1033e4189a54abb01f5d860ed&utm_source=clipboard&utm_medium=text&utm_campaign=social_sharing\n",
      "Stream אנחבס (נעצר במשטרה) by Arabit | Listen online for free on SoundCloud\n",
      "https://on.soundcloud.com/k1kdk\n",
      "https://on.soundcloud.com/k1kdk?_impcp=1\n",
      "https://soundcloud.com/listen2arabit/6dmc7ntozha6?si=c4ac38e1033e4189a54abb01f5d860ed&utm_source=clipboard&utm_medium=text&utm_campaign=social_sharing\n",
      "Stream סמכרי (פחח) by Arabit | Listen online for free on SoundCloud\n",
      "https://on.soundcloud.com/fQYE4\n",
      "https://on.soundcloud.com/fQYE4?_impcp=1\n",
      "https://soundcloud.com/listen2arabit/cxn8yh53xccn?si=c4ac38e1033e4189a54abb01f5d860ed&utm_source=clipboard&utm_medium=text&utm_campaign=social_sharing\n",
      "Stream מחאיד (ניטרלי) by Arabit | Listen online for free on SoundCloud\n",
      "https://on.soundcloud.com/xgJDA\n",
      "https://on.soundcloud.com/xgJDA?_impcp=1\n",
      "https://soundcloud.com/listen2arabit/oru2euwvevhf?si=c4ac38e1033e4189a54abb01f5d860ed&utm_source=clipboard&utm_medium=text&utm_campaign=social_sharing\n",
      "Stream ג׳ד׳ר (שורש) by Arabit | Listen online for free on SoundCloud\n",
      "https://on.soundcloud.com/n5R1T\n",
      "https://on.soundcloud.com/n5R1T?_impcp=1\n",
      "https://soundcloud.com/listen2arabit/qrkn2l5iq2t4?si=c4ac38e1033e4189a54abb01f5d860ed&utm_source=clipboard&utm_medium=text&utm_campaign=social_sharing\n",
      "Stream כמאן (כינור) by Arabit | Listen online for free on SoundCloud\n",
      "https://on.soundcloud.com/rMX6w?fbclid=IwAR3PCllhMV6ubREGDkuiuWlYjgec9f5Fz_6dskmmE9Oh8jVkG9H4Vhm1ZjQ\n",
      "https://on.soundcloud.com/rMX6w?_impcp=1\n",
      "https://soundcloud.com/listen2arabit/0806wnknpvdo?si=684dbd251c4e4ba99cab6917884a26c5&utm_source=clipboard&utm_medium=text&utm_campaign=social_sharing\n",
      "Stream מדח (דברי שבח ותהילה) by Arabit | Listen online for free on SoundCloud\n",
      "https://on.soundcloud.com/2Pm22?fbclid=IwAR0TCTtFHFwBbi1O78dXjE4B9J25NdpR929jrYMP31fYQIcYrx8wqKOL1Ak\n",
      "https://on.soundcloud.com/2Pm22?_impcp=1\n",
      "https://soundcloud.com/listen2arabit/kqd0wcts64cg?si=684dbd251c4e4ba99cab6917884a26c5&utm_source=clipboard&utm_medium=text&utm_campaign=social_sharing\n",
      "Stream חדיג׳ (פג) by Arabit | Listen online for free on SoundCloud\n",
      "https://on.soundcloud.com/ok4ix\n",
      "https://on.soundcloud.com/ok4ix?_impcp=1\n",
      "https://soundcloud.com/listen2arabit/iuhx8tycl0ln?si=684dbd251c4e4ba99cab6917884a26c5&utm_source=clipboard&utm_medium=text&utm_campaign=social_sharing\n",
      "Stream ניה (כוונה) by Arabit | Listen online for free on SoundCloud\n",
      "https://on.soundcloud.com/BptgQ\n",
      "https://on.soundcloud.com/BptgQ?_impcp=1\n",
      "https://soundcloud.com/listen2arabit/dsagsi10njen?si=684dbd251c4e4ba99cab6917884a26c5&utm_source=clipboard&utm_medium=text&utm_campaign=social_sharing\n",
      "Stream וט׳יפה (תפקיד) by Arabit | Listen online for free on SoundCloud\n",
      "https://soundcloud.com/listen2arabit/dswmvkmzjhwf\n",
      "https://soundcloud.com/listen2arabit/dswmvkmzjhwf\n",
      "https://soundcloud.com/listen2arabit/dswmvkmzjhwf\n",
      "Stream מוט'פ by Arabit | Listen online for free on SoundCloud\n",
      "https://on.soundcloud.com/nh1n6?fbclid=IwAR3Q1Yc_Kpm_qx4HU95RQp7UMbH4_WMPuFXvNQCzM6vXIm298ICoI9pEFks\n",
      "https://on.soundcloud.com/nh1n6?_impcp=1\n",
      "https://soundcloud.com/listen2arabit/9o7rnjszr1oh?si=684dbd251c4e4ba99cab6917884a26c5&utm_source=clipboard&utm_medium=text&utm_campaign=social_sharing\n",
      "Stream מג׳ד (תהילה) by Arabit | Listen online for free on SoundCloud\n",
      "https://on.soundcloud.com/m1jxP\n",
      "https://on.soundcloud.com/m1jxP?_impcp=1\n",
      "https://soundcloud.com/listen2arabit/ehyvpsooposl?si=684dbd251c4e4ba99cab6917884a26c5&utm_source=clipboard&utm_medium=text&utm_campaign=social_sharing\n",
      "Stream זאכי (טעים) by Arabit | Listen online for free on SoundCloud\n",
      "https://on.soundcloud.com/4qZp1\n",
      "https://on.soundcloud.com/4qZp1?_impcp=1\n",
      "https://soundcloud.com/listen2arabit/xakd9qedlour?si=684dbd251c4e4ba99cab6917884a26c5&utm_source=clipboard&utm_medium=text&utm_campaign=social_sharing\n",
      "Stream צ׳אחיה (פרבר) by Arabit | Listen online for free on SoundCloud\n",
      "https://on.soundcloud.com/McfVc\n",
      "https://on.soundcloud.com/McfVc?_impcp=1\n",
      "https://soundcloud.com/listen2arabit/xbvc0m6afrrl?si=8741b8d006634c709907f540d2ab939d&utm_source=clipboard&utm_medium=text&utm_campaign=social_sharing\n",
      "Stream מאסורה מפג׳ורה (צינור מפוצץ) by Arabit | Listen online for free on SoundCloud\n",
      "https://on.soundcloud.com/g4qTr\n",
      "https://on.soundcloud.com/g4qTr?_impcp=1\n",
      "https://soundcloud.com/listen2arabit/bhrrhkwgexlu?si=8741b8d006634c709907f540d2ab939d&utm_source=clipboard&utm_medium=text&utm_campaign=social_sharing\n",
      "Stream תרג׳מה (תרגום) by Arabit | Listen online for free on SoundCloud\n",
      "https://on.soundcloud.com/LXAj8?fbclid=IwAR1OO8KEKTAU4Dx5FViQ4kl4LzsZG56CtALDzcFZ7Gs99Nmj8LgEqAYDNpM\n",
      "https://on.soundcloud.com/LXAj8?_impcp=1\n",
      "https://soundcloud.com/listen2arabit/fvazoympuazn?si=8741b8d006634c709907f540d2ab939d&utm_source=clipboard&utm_medium=text&utm_campaign=social_sharing\n",
      "Stream נאשד (פנה בקריאה) by Arabit | Listen online for free on SoundCloud\n",
      "https://on.soundcloud.com/8P9L8\n",
      "https://on.soundcloud.com/8P9L8?_impcp=1\n",
      "https://soundcloud.com/listen2arabit/5oyvo9q8bs1d?si=720a9e8dcb3f451986f743159c3f06c0&utm_source=clipboard&utm_medium=text&utm_campaign=social_sharing\n",
      "Stream נשיד וטני by Arabit | Listen online for free on SoundCloud\n",
      "https://on.soundcloud.com/P5UQP?fbclid=IwAR33QRhsnTudqUaVfvnN5j1lR9H_FOkBTNgPK0d6VlYueQTefQv4trBgpzc\n",
      "https://on.soundcloud.com/P5UQP?_impcp=1\n",
      "https://soundcloud.com/listen2arabit/2nnoqwao0exx?si=8741b8d006634c709907f540d2ab939d&utm_source=clipboard&utm_medium=text&utm_campaign=social_sharing\n",
      "Stream מאזן (ממטיר גשם) by Arabit | Listen online for free on SoundCloud\n",
      "https://on.soundcloud.com/QBvAJ\n",
      "https://on.soundcloud.com/QBvAJ?_impcp=1\n",
      "https://soundcloud.com/listen2arabit/6aao1gkgxchd?si=8741b8d006634c709907f540d2ab939d&utm_source=clipboard&utm_medium=text&utm_campaign=social_sharing\n",
      "Stream שו ג׳אב אלטז במרחבא (מה הקשר בין זה לזה) by Arabit | Listen online for free on SoundCloud\n",
      "https://on.soundcloud.com/LEWRH?fbclid=IwAR2e9y3vtQ8YBSAVwHgShL01HOzB6D61rPggCb0X2jtmbEEwzyiX-7lmcwE\n",
      "https://on.soundcloud.com/LEWRH?_impcp=1\n",
      "https://soundcloud.com/listen2arabit/wo5fhq2xc23k?si=8741b8d006634c709907f540d2ab939d&utm_source=clipboard&utm_medium=text&utm_campaign=social_sharing\n",
      "Stream סלאח (נשק) by Arabit | Listen online for free on SoundCloud\n",
      "https://on.soundcloud.com/6LVd5?fbclid=IwAR1cARMJrplG894E5Cwj_NUSzxPSFBSX_FT63SbPRxb_oCDpVHbs0cndS6o\n",
      "https://on.soundcloud.com/6LVd5?_impcp=1\n",
      "https://soundcloud.com/listen2arabit/grgq0f5g5vxt?si=8741b8d006634c709907f540d2ab939d&utm_source=clipboard&utm_medium=text&utm_campaign=social_sharing\n",
      "Stream שפאא׳ (החלמה) by Arabit | Listen online for free on SoundCloud\n",
      "https://on.soundcloud.com/bqXPU?fbclid=IwAR0HiDFOSR7FhWRmLngFYT0khBiYQ82QWcw9wK37sqeTZ1Q7jlrsCcobnNM\n",
      "https://on.soundcloud.com/bqXPU?_impcp=1\n",
      "https://soundcloud.com/listen2arabit/vfiphof4emj1?si=70ca468da76a4c77a9cebdaeb1259b45&utm_source=clipboard&utm_medium=text&utm_campaign=social_sharing\n",
      "Stream נשר (פרסם) by Arabit | Listen online for free on SoundCloud\n",
      "https://soundcloud.com/listen2arabit/64wda3y9wt6d\n",
      "https://soundcloud.com/listen2arabit/64wda3y9wt6d\n",
      "https://soundcloud.com/listen2arabit/64wda3y9wt6d\n",
      "Stream מנשור by Arabit | Listen online for free on SoundCloud\n",
      "https://on.soundcloud.com/RjT8c\n",
      "https://on.soundcloud.com/RjT8c?_impcp=1\n",
      "https://soundcloud.com/listen2arabit/2kgjku4swei6?si=70ca468da76a4c77a9cebdaeb1259b45&utm_source=clipboard&utm_medium=text&utm_campaign=social_sharing\n",
      "Stream קלם (עט) by Arabit | Listen online for free on SoundCloud\n",
      "https://on.soundcloud.com/F8e12\n",
      "https://on.soundcloud.com/F8e12?_impcp=1\n",
      "https://soundcloud.com/listen2arabit/esc4nk6c01zf?si=70ca468da76a4c77a9cebdaeb1259b45&utm_source=clipboard&utm_medium=text&utm_campaign=social_sharing\n",
      "Stream נח׳בה (חבורה מובחרת) by Arabit | Listen online for free on SoundCloud\n",
      "https://on.soundcloud.com/RkvyQ?fbclid=IwAR1dFLLp_jRnigHN3L1fNOU7D63KVyXSma8YVV20VDArXenLZAnhj_PpwdA\n",
      "https://on.soundcloud.com/RkvyQ?_impcp=1\n",
      "https://soundcloud.com/listen2arabit/lxstukwn2nmc?si=70ca468da76a4c77a9cebdaeb1259b45&utm_source=clipboard&utm_medium=text&utm_campaign=social_sharing\n",
      "Stream עיד מילאד (יום הולדת) by Arabit | Listen online for free on SoundCloud\n",
      "https://soundcloud.com/listen2arabit/jbpyytlrhzsp\n",
      "https://soundcloud.com/listen2arabit/jbpyytlrhzsp\n",
      "https://soundcloud.com/listen2arabit/jbpyytlrhzsp\n",
      "Stream ולאויד by Arabit | Listen online for free on SoundCloud\n",
      "https://soundcloud.com/listen2arabit/2uucaoawpkgo\n",
      "https://soundcloud.com/listen2arabit/2uucaoawpkgo\n",
      "https://soundcloud.com/listen2arabit/2uucaoawpkgo\n",
      "Stream ולד by Arabit | Listen online for free on SoundCloud\n",
      "https://on.soundcloud.com/8qah5?fbclid=IwAR0gW4avW14dnZUTDxp7xr6w6vDbuFXlOrjbWuDhk2PaX1YKhf7MI_e61JE\n",
      "https://on.soundcloud.com/8qah5?_impcp=1\n",
      "https://soundcloud.com/listen2arabit/ude9cwsx281s?si=70ca468da76a4c77a9cebdaeb1259b45&utm_source=clipboard&utm_medium=text&utm_campaign=social_sharing\n",
      "Stream כבאיה (ספל, כוס) by Arabit | Listen online for free on SoundCloud\n",
      "https://on.soundcloud.com/j9mAB?fbclid=IwAR0VXJDsXAqtddigJ_KJAxLPFe6lr0XsT4_1IXROAQA52RMYi4AfV6t7geU\n",
      "https://on.soundcloud.com/j9mAB?_impcp=1\n",
      "https://soundcloud.com/listen2arabit/o0u4rv3gtg8x?si=70ca468da76a4c77a9cebdaeb1259b45&utm_source=clipboard&utm_medium=text&utm_campaign=social_sharing\n",
      "Stream דרס (לימד) by Arabit | Listen online for free on SoundCloud\n",
      "https://on.soundcloud.com/cgqCY?fbclid=IwAR3ug9ha9BH4X_JVAd2-t7Icb8psOuETZnusFxt7WolTA76S8---kKtD8bo\n",
      "https://on.soundcloud.com/cgqCY?_impcp=1\n",
      "https://soundcloud.com/listen2arabit/wgedsghamlrs?si=70ca468da76a4c77a9cebdaeb1259b45&utm_source=clipboard&utm_medium=text&utm_campaign=social_sharing\n",
      "Stream עטר (בושם) by Arabit | Listen online for free on SoundCloud\n",
      "https://on.soundcloud.com/8znGQ\n",
      "https://on.soundcloud.com/8znGQ?_impcp=1\n",
      "https://soundcloud.com/listen2arabit/lrg9am6omrok?si=97f4f55bb2894603a8c4ed4115b749ba&utm_source=clipboard&utm_medium=text&utm_campaign=social_sharing\n",
      "Stream מנסף by Arabit | Listen online for free on SoundCloud\n",
      "https://on.soundcloud.com/cQjdp?fbclid=IwAR3V-vf8tqNzYep1S9adKgIhUNYn8hyvE6rEO1b6tu8f9hmJT59ih2R_1LE\n",
      "https://on.soundcloud.com/cQjdp?_impcp=1\n",
      "https://soundcloud.com/listen2arabit/z7ervv57psbm?si=97f4f55bb2894603a8c4ed4115b749ba&utm_source=clipboard&utm_medium=text&utm_campaign=social_sharing\n",
      "Stream נתפה (קצת) by Arabit | Listen online for free on SoundCloud\n",
      "https://on.soundcloud.com/Dqjap?fbclid=IwAR2L9IQRTVZgjf_F-asOEc0Xb8GtIj8GB_X9E1Q_BQZSCw-qNrnPjPzUs08\n",
      "https://on.soundcloud.com/Dqjap?_impcp=1\n",
      "https://soundcloud.com/listen2arabit/ycanvyxijaso?si=97f4f55bb2894603a8c4ed4115b749ba&utm_source=clipboard&utm_medium=text&utm_campaign=social_sharing\n",
      "Stream בהדל (השפיל) by Arabit | Listen online for free on SoundCloud\n",
      "https://on.soundcloud.com/dVYjG?fbclid=IwAR2NiF0n5y_zGKhd_6Kt5rYcJtdi9Zj1Xlf8GtrGUClJUvwPLTvJaXjkLI4\n",
      "https://on.soundcloud.com/dVYjG?_impcp=1\n",
      "https://soundcloud.com/listen2arabit/t9u0x48sutcy?si=97f4f55bb2894603a8c4ed4115b749ba&utm_source=clipboard&utm_medium=text&utm_campaign=social_sharing\n",
      "Stream אעדאם (עונש מוות) by Arabit | Listen online for free on SoundCloud\n",
      "https://on.soundcloud.com/cKUSC?fbclid=IwAR0P9cfBGdvYyy_r6JQ6z3aLZWP9ynEi_pqCh3_RLbPH_9NF1rZecKw_N68\n",
      "https://on.soundcloud.com/cKUSC?_impcp=1\n",
      "https://soundcloud.com/listen2arabit/1hw4ubkslu2g?si=97f4f55bb2894603a8c4ed4115b749ba&utm_source=clipboard&utm_medium=text&utm_campaign=social_sharing\n",
      "Stream אסתועב (קלט) by Arabit | Listen online for free on SoundCloud\n",
      "https://on.soundcloud.com/EyRkh\n",
      "https://on.soundcloud.com/EyRkh?_impcp=1\n",
      "https://soundcloud.com/listen2arabit/tkogszf0tw7w?si=97f4f55bb2894603a8c4ed4115b749ba&utm_source=clipboard&utm_medium=text&utm_campaign=social_sharing\n",
      "Stream סבי (שבי) by Arabit | Listen online for free on SoundCloud\n",
      "https://on.soundcloud.com/4dJWK\n",
      "https://on.soundcloud.com/4dJWK?_impcp=1\n",
      "https://soundcloud.com/listen2arabit/ai17xd2vmcxz?si=4a084a426d1441838ea26f9166c1ac14&utm_source=clipboard&utm_medium=text&utm_campaign=social_sharing\n",
      "Stream מרפא׳ (נמל) by Arabit | Listen online for free on SoundCloud\n",
      "https://on.soundcloud.com/bVJGN?fbclid=IwAR2Roh2rxKpS4BvbEoUDXM7c5E53XL0jLPl092KFTH1P9REboNwhWATkhok\n",
      "https://on.soundcloud.com/bVJGN?_impcp=1\n",
      "https://soundcloud.com/listen2arabit/rejbkzrx4iag?si=e498761b3882431789504b16a88a2d4b&utm_source=clipboard&utm_medium=text&utm_campaign=social_sharing\n",
      "Stream בחירה (אגם) by Arabit | Listen online for free on SoundCloud\n",
      "https://on.soundcloud.com/ZaMh4?fbclid=IwAR2vXT7XAfkOmOVylhX4pSgngzNHh5ozqYlVBUkaTERjDhGCGCKuR_a_CVk\n",
      "https://on.soundcloud.com/ZaMh4?_impcp=1\n",
      "https://soundcloud.com/listen2arabit/tywzhxartgla?si=e498761b3882431789504b16a88a2d4b&utm_source=clipboard&utm_medium=text&utm_campaign=social_sharing\n",
      "Stream תוקית (עיתוי) by Arabit | Listen online for free on SoundCloud\n",
      "https://on.soundcloud.com/S2mPw\n",
      "https://on.soundcloud.com/S2mPw?_impcp=1\n",
      "https://soundcloud.com/listen2arabit/zdiur9x2htif?si=e498761b3882431789504b16a88a2d4b&utm_source=clipboard&utm_medium=text&utm_campaign=social_sharing\n",
      "Stream מיל (נטיה) by Arabit | Listen online for free on SoundCloud\n",
      "https://on.soundcloud.com/a4NrR\n",
      "https://on.soundcloud.com/a4NrR?_impcp=1\n",
      "https://soundcloud.com/listen2arabit/tofzn3ytownb?si=e498761b3882431789504b16a88a2d4b&utm_source=clipboard&utm_medium=text&utm_campaign=social_sharing\n",
      "Stream מרעוב (מבוהל) by Arabit | Listen online for free on SoundCloud\n",
      "https://soundcloud.com/listen2arabit/tzheuvc7xeh8\n",
      "https://soundcloud.com/listen2arabit/tzheuvc7xeh8\n",
      "https://soundcloud.com/listen2arabit/tzheuvc7xeh8\n",
      "Stream רעב by Arabit | Listen online for free on SoundCloud\n",
      "https://on.soundcloud.com/5gzdu?fbclid=IwAR0xQjbJXiL5_TTJEKSaCkZvrbGc12PtTaY_S0_5jSN9c25IK5Ke-wVkU0s\n",
      "https://on.soundcloud.com/5gzdu?_impcp=1\n",
      "https://soundcloud.com/listen2arabit/jrfqzqepw9ds?si=e498761b3882431789504b16a88a2d4b&utm_source=clipboard&utm_medium=text&utm_campaign=social_sharing\n",
      "Stream סתה (שש) by Arabit | Listen online for free on SoundCloud\n",
      "https://soundcloud.com/listen2arabit/mmd7kv9a2yaq\n",
      "https://soundcloud.com/listen2arabit/mmd7kv9a2yaq\n",
      "https://soundcloud.com/listen2arabit/mmd7kv9a2yaq\n",
      "Stream מסדס by Arabit | Listen online for free on SoundCloud\n",
      "https://on.soundcloud.com/qX9JY?fbclid=IwAR03rAIz09d8WYG6xq5ML6BedBA4t08i5-vKZlqj_pYFoT1aDas95osye1c\n",
      "https://on.soundcloud.com/qX9JY?_impcp=1\n",
      "https://soundcloud.com/listen2arabit/beeknyuhmaih?si=e498761b3882431789504b16a88a2d4b&utm_source=clipboard&utm_medium=text&utm_campaign=social_sharing\n",
      "Stream ביץ׳ (ביצים) by Arabit | Listen online for free on SoundCloud\n",
      "https://on.soundcloud.com/15ESW?fbclid=IwAR3gzRKmZII5goMxBxEsG73v9zlzsIg2PqSJZDEC56h1w2ZPRWCx0b-qZaU\n",
      "https://on.soundcloud.com/15ESW?_impcp=1\n",
      "https://soundcloud.com/listen2arabit/dhhnsx52d9hx?si=c663eb36730a42e4be328d5165c96c20&utm_source=clipboard&utm_medium=text&utm_campaign=social_sharing\n",
      "Stream מדני (אזרחי) by Arabit | Listen online for free on SoundCloud\n",
      "https://on.soundcloud.com/QktsA?fbclid=IwAR2_0E4jJW3qso_afcPp_tbcvd0kf9ey8sqUCaZl0gaG4Q9nle50X3iKMCA\n",
      "https://on.soundcloud.com/QktsA?_impcp=1\n",
      "https://soundcloud.com/listen2arabit/my9sd8dqyamc?si=c663eb36730a42e4be328d5165c96c20&utm_source=clipboard&utm_medium=text&utm_campaign=social_sharing\n",
      "Stream כלסאת (גרביים) by Arabit | Listen online for free on SoundCloud\n",
      "https://on.soundcloud.com/4WwZm?fbclid=IwAR1alrQHR0CESVb6ObYwQ6zKYLFlJp4SctsIQtOb_UqeNkgXCVNxGAr2HIc\n",
      "https://on.soundcloud.com/4WwZm?_impcp=1\n",
      "https://soundcloud.com/listen2arabit/sv5auiiih7ry?si=c663eb36730a42e4be328d5165c96c20&utm_source=clipboard&utm_medium=text&utm_campaign=social_sharing\n",
      "Stream אשתכא (התלונן) by Arabit | Listen online for free on SoundCloud\n",
      "https://on.soundcloud.com/N7Vvi?fbclid=IwAR2m-BI63r9xf76ltkFGO8NTr3h7rr3Cj--ivNfHIZQNFxHD96YERZwnfI0\n",
      "https://on.soundcloud.com/N7Vvi?_impcp=1\n",
      "https://soundcloud.com/listen2arabit/wampf3r7u3ly?si=c663eb36730a42e4be328d5165c96c20&utm_source=clipboard&utm_medium=text&utm_campaign=social_sharing\n",
      "Stream חכי (דיבור) by Arabit | Listen online for free on SoundCloud\n",
      "https://on.soundcloud.com/YtcgD?fbclid=IwAR3jAmttjl8ops-w9eo0J7U48eelmWlejILSNx_wEJhNqfNMCHdBsqLEulM\n",
      "https://on.soundcloud.com/YtcgD?_impcp=1\n",
      "https://soundcloud.com/listen2arabit/4g02fe9rhntu?si=c663eb36730a42e4be328d5165c96c20&utm_source=clipboard&utm_medium=text&utm_campaign=social_sharing\n",
      "Stream פנדק (מלון) by Arabit | Listen online for free on SoundCloud\n",
      "https://on.soundcloud.com/ZEpCh\n",
      "https://on.soundcloud.com/ZEpCh?_impcp=1\n",
      "https://soundcloud.com/listen2arabit/b8dpk1irjakf?si=c663eb36730a42e4be328d5165c96c20&utm_source=clipboard&utm_medium=text&utm_campaign=social_sharing\n",
      "Stream אחבאט (תסכול) by Arabit | Listen online for free on SoundCloud\n",
      "https://on.soundcloud.com/y5i8q\n",
      "https://on.soundcloud.com/y5i8q?_impcp=1\n",
      "https://soundcloud.com/listen2arabit/prxn5nocl8iy?si=c663eb36730a42e4be328d5165c96c20&utm_source=clipboard&utm_medium=text&utm_campaign=social_sharing\n",
      "Stream חלאק (ספר) by Arabit | Listen online for free on SoundCloud\n",
      "https://on.soundcloud.com/x8Qrr\n",
      "https://on.soundcloud.com/x8Qrr?_impcp=1\n",
      "https://soundcloud.com/listen2arabit/tjbuoj6ly5lz?si=12474e1165da4af680061a12ce847d2a&utm_source=clipboard&utm_medium=text&utm_campaign=social_sharing\n",
      "Stream ג׳ואב (תשובה) by Arabit | Listen online for free on SoundCloud\n",
      "https://on.soundcloud.com/BQXwU?fbclid=IwAR02Bzkk_tXUXwEMnrFK5Juh6W0Yx_9lJkE9tL0uqK5h8FtUpKVoD6pzV1A\n",
      "https://on.soundcloud.com/BQXwU?_impcp=1\n",
      "https://soundcloud.com/listen2arabit/84s37xkkxkjw?si=12474e1165da4af680061a12ce847d2a&utm_source=clipboard&utm_medium=text&utm_campaign=social_sharing\n",
      "Stream האמל (בריון, פרחח) by Arabit | Listen online for free on SoundCloud\n",
      "https://on.soundcloud.com/aW3s8\n",
      "https://on.soundcloud.com/aW3s8?_impcp=1\n",
      "https://soundcloud.com/listen2arabit/nnc7zeolcyq4?si=12474e1165da4af680061a12ce847d2a&utm_source=clipboard&utm_medium=text&utm_campaign=social_sharing\n",
      "Stream האשם (מרסק) by Arabit | Listen online for free on SoundCloud\n",
      "https://on.soundcloud.com/fwvtT\n",
      "https://on.soundcloud.com/fwvtT?_impcp=1\n",
      "https://soundcloud.com/listen2arabit/nyo0setd2wic?si=12474e1165da4af680061a12ce847d2a&utm_source=clipboard&utm_medium=text&utm_campaign=social_sharing\n",
      "Stream פרג׳א (הראה) by Arabit | Listen online for free on SoundCloud\n",
      "https://on.soundcloud.com/pecM7\n",
      "https://on.soundcloud.com/pecM7?_impcp=1\n",
      "https://soundcloud.com/listen2arabit/kuntejd7hfxy?si=12474e1165da4af680061a12ce847d2a&utm_source=clipboard&utm_medium=text&utm_campaign=social_sharing\n",
      "Stream אליונאן (יוון) by Arabit | Listen online for free on SoundCloud\n",
      "https://on.soundcloud.com/TMwVv?fbclid=IwAR0v5ghmYeURd6lBRTerO8t68Tk81CtQ3OyoCRh4CutSvJzkMLyxAZS-EHQ\n",
      "https://on.soundcloud.com/TMwVv?_impcp=1\n",
      "https://soundcloud.com/listen2arabit/yjcpos7v5kr0?si=12474e1165da4af680061a12ce847d2a&utm_source=clipboard&utm_medium=text&utm_campaign=social_sharing\n",
      "Stream דרכ (ז׳נדרמריה) by Arabit | Listen online for free on SoundCloud\n",
      "https://on.soundcloud.com/8aZCA\n",
      "https://on.soundcloud.com/8aZCA?_impcp=1\n",
      "https://soundcloud.com/listen2arabit/dw6c6octkpvr?si=f5385a34718f41fe8c364b4f87d0c560&utm_source=clipboard&utm_medium=text&utm_campaign=social_sharing\n",
      "Stream זית (שמן) by Arabit | Listen online for free on SoundCloud\n",
      "https://on.soundcloud.com/yBTxQ?fbclid=IwAR2BYHx9kjooRY8A0rNyeYpAjt0UcyCgFHxh58m_9CT8bgOgYaPuXMp5xvA\n",
      "https://on.soundcloud.com/yBTxQ?_impcp=1\n",
      "https://soundcloud.com/listen2arabit/dqhtc7d1xw0t?si=f5385a34718f41fe8c364b4f87d0c560&utm_source=clipboard&utm_medium=text&utm_campaign=social_sharing\n",
      "Stream כוסא (קישוא) by Arabit | Listen online for free on SoundCloud\n",
      "https://on.soundcloud.com/zgRk9?fbclid=IwAR3M2Lx8_s2XEfOc-UIABgf7EYbSE_nKE2tdXN4knwQgQvUOWrQlZO495Vs\n",
      "https://on.soundcloud.com/zgRk9?_impcp=1\n",
      "https://soundcloud.com/listen2arabit/zlwgtzlb1u6g?si=f5385a34718f41fe8c364b4f87d0c560&utm_source=clipboard&utm_medium=text&utm_campaign=social_sharing\n",
      "Stream אנחטאט (הדרדרות) by Arabit | Listen online for free on SoundCloud\n",
      "https://soundcloud.com/listen2arabit/slo3jcldkztx\n",
      "https://soundcloud.com/listen2arabit/slo3jcldkztx\n",
      "https://soundcloud.com/listen2arabit/slo3jcldkztx\n",
      "Stream חט ע ראסה by Arabit | Listen online for free on SoundCloud\n",
      "https://on.soundcloud.com/L1xtR\n",
      "https://on.soundcloud.com/L1xtR?_impcp=1\n",
      "https://soundcloud.com/listen2arabit/1lfx6vvmf1ba?si=f5385a34718f41fe8c364b4f87d0c560&utm_source=clipboard&utm_medium=text&utm_campaign=social_sharing\n",
      "Stream קצ׳יה (בעיה) by Arabit | Listen online for free on SoundCloud\n",
      "https://on.soundcloud.com/EUkRt?fbclid=IwAR2SfpeLgU-7ftyVzwGNfdWSAsovkTPJ_BZq9GY3ksovLc0kKMRy8uy_UPw\n",
      "https://on.soundcloud.com/EUkRt?_impcp=1\n",
      "https://soundcloud.com/listen2arabit/rsufom2tb3ua?si=f5385a34718f41fe8c364b4f87d0c560&utm_source=clipboard&utm_medium=text&utm_campaign=social_sharing\n",
      "Stream ע׳יר מסבוק (חסר תקדים) by Arabit | Listen online for free on SoundCloud\n",
      "https://soundcloud.com/listen2arabit/xalagodpsctv\n",
      "https://soundcloud.com/listen2arabit/xalagodpsctv\n",
      "https://soundcloud.com/listen2arabit/xalagodpsctv\n",
      "Stream סבאק by Arabit | Listen online for free on SoundCloud\n",
      "https://on.soundcloud.com/ACD8C?fbclid=IwAR2_agOrYm6vG6VvjvtWn5-QQANW_UAwUKvFp0HRiNQEScT3HU09VZN4HYA\n",
      "https://on.soundcloud.com/ACD8C?_impcp=1\n",
      "https://soundcloud.com/listen2arabit/szo6i3gqv1x6?si=f5385a34718f41fe8c364b4f87d0c560&utm_source=clipboard&utm_medium=text&utm_campaign=social_sharing\n",
      "Stream באיח׳ (מטופש) by Arabit | Listen online for free on SoundCloud\n",
      "https://on.soundcloud.com/wQ135\n",
      "https://on.soundcloud.com/wQ135?_impcp=1\n",
      "https://soundcloud.com/listen2arabit/v6vtkmupz3yj?si=f5385a34718f41fe8c364b4f87d0c560&utm_source=clipboard&utm_medium=text&utm_campaign=social_sharing\n",
      "Stream חזב (מפלגה) by Arabit | Listen online for free on SoundCloud\n",
      "https://on.soundcloud.com/2asJa?fbclid=IwAR3GCzwKIr6Pwf4Y9_dFZF7DzKNeL_TGxlQJsJpZ1TnqjO6mNDfA0JnJVvE\n",
      "https://on.soundcloud.com/2asJa?_impcp=1\n",
      "https://soundcloud.com/listen2arabit/udljaqmuj9kf?si=8abffb9463c24e2e825684a9b0ab6b37&utm_source=clipboard&utm_medium=text&utm_campaign=social_sharing\n",
      "Stream רע׳יף (פיתה) by Arabit | Listen online for free on SoundCloud\n",
      "https://on.soundcloud.com/37zDf\n",
      "https://on.soundcloud.com/37zDf?_impcp=1\n",
      "https://soundcloud.com/listen2arabit/owkzf1b7ccpe?si=8abffb9463c24e2e825684a9b0ab6b37&utm_source=clipboard&utm_medium=text&utm_campaign=social_sharing\n",
      "Stream ודיע (ענו) by Arabit | Listen online for free on SoundCloud\n",
      "https://on.soundcloud.com/vez5F\n",
      "https://on.soundcloud.com/vez5F?_impcp=1\n",
      "https://soundcloud.com/listen2arabit/wmy2bksv5wrr?si=8abffb9463c24e2e825684a9b0ab6b37&utm_source=clipboard&utm_medium=text&utm_campaign=social_sharing\n",
      "Stream בסטאר (נעליים צבאיות גבוהות) by Arabit | Listen online for free on SoundCloud\n",
      "https://on.soundcloud.com/Uz9HT\n",
      "https://on.soundcloud.com/Uz9HT?_impcp=1\n",
      "https://soundcloud.com/listen2arabit/1t109o0oelgh?si=8abffb9463c24e2e825684a9b0ab6b37&utm_source=clipboard&utm_medium=text&utm_campaign=social_sharing\n",
      "Stream מג׳הול (בלתי מזוהה) by Arabit | Listen online for free on SoundCloud\n",
      "https://on.soundcloud.com/cd2KJ\n",
      "https://on.soundcloud.com/cd2KJ?_impcp=1\n",
      "https://soundcloud.com/listen2arabit/fezl6383bibx?si=8abffb9463c24e2e825684a9b0ab6b37&utm_source=clipboard&utm_medium=text&utm_campaign=social_sharing\n",
      "Stream אפתח׳ר (התגאה) by Arabit | Listen online for free on SoundCloud\n",
      "https://soundcloud.com/listen2arabit/bwbe3hstkmmg?fbclid=IwAR2gctxtvF32-hzviw7NgxY_a4-tClNL4WL3G9hw_rdSUD8t02XAtxsbDAE\n",
      "https://soundcloud.com/listen2arabit/bwbe3hstkmmg\n",
      "https://soundcloud.com/listen2arabit/bwbe3hstkmmg\n",
      "Stream פאח'ר by Arabit | Listen online for free on SoundCloud\n",
      "https://on.soundcloud.com/WK9pS\n",
      "https://on.soundcloud.com/WK9pS?_impcp=1\n",
      "https://soundcloud.com/listen2arabit/zyr7lo0nqwoq?si=8abffb9463c24e2e825684a9b0ab6b37&utm_source=clipboard&utm_medium=text&utm_campaign=social_sharing\n",
      "Stream בלח (תמרים) by Arabit | Listen online for free on SoundCloud\n",
      "https://on.soundcloud.com/H8Mdh?fbclid=IwAR0nDOm3a09riwvIh4KNzaccQhbUP7BFOnKI7O10BKSq9A7zmNobYtMVLxQ\n",
      "https://on.soundcloud.com/H8Mdh?_impcp=1\n",
      "https://soundcloud.com/listen2arabit/ivhgicueq5ch?si=8abffb9463c24e2e825684a9b0ab6b37&utm_source=clipboard&utm_medium=text&utm_campaign=social_sharing\n",
      "Stream הדום (בגדים) by Arabit | Listen online for free on SoundCloud\n",
      "https://on.soundcloud.com/23maF?fbclid=IwAR0WVKcEnQhTK8BapHIgLbFjMsUOMSozc6heTi0ED0qitiy4aha9tVLRnrE\n",
      "https://on.soundcloud.com/23maF?_impcp=1\n",
      "https://soundcloud.com/listen2arabit/kr6rg7ygbt2t?si=7d80acdf247c436a980bf029ffcc9b42&utm_source=clipboard&utm_medium=text&utm_campaign=social_sharing\n",
      "Stream שטה (פלפל חריף) by Arabit | Listen online for free on SoundCloud\n",
      "https://on.soundcloud.com/EMsne\n",
      "https://on.soundcloud.com/EMsne?_impcp=1\n",
      "https://soundcloud.com/listen2arabit/hy8vzboejeym?si=7d80acdf247c436a980bf029ffcc9b42&utm_source=clipboard&utm_medium=text&utm_campaign=social_sharing\n",
      "Stream צבאיא (בחורות) by Arabit | Listen online for free on SoundCloud\n",
      "https://on.soundcloud.com/ftRgG\n",
      "https://on.soundcloud.com/ftRgG?_impcp=1\n",
      "https://soundcloud.com/listen2arabit/k1cxvpygymgu?si=7d80acdf247c436a980bf029ffcc9b42&utm_source=clipboard&utm_medium=text&utm_campaign=social_sharing\n",
      "Stream באחה (רחבה, כיכר) by Arabit | Listen online for free on SoundCloud\n",
      "https://on.soundcloud.com/bw4UB?fbclid=IwAR3xLCaqoK5Slk_659vlFrmPZE7OdjSQZOmCXLOqd2EWqHpuHrO5lNuZIBY\n",
      "https://on.soundcloud.com/bw4UB?_impcp=1\n",
      "https://soundcloud.com/listen2arabit/34ajxwr2ietw?si=cafff629521142ea8a8634268bf715e9&utm_source=clipboard&utm_medium=text&utm_campaign=social_sharing\n",
      "Stream אסתבאח by Arabit | Listen online for free on SoundCloud\n",
      "https://on.soundcloud.com/kpHEL\n",
      "https://on.soundcloud.com/kpHEL?_impcp=1\n",
      "https://soundcloud.com/listen2arabit/97ln4qtnmyp2?si=7d80acdf247c436a980bf029ffcc9b42&utm_source=clipboard&utm_medium=text&utm_campaign=social_sharing\n",
      "Stream אחתראף (מקצוענות) by Arabit | Listen online for free on SoundCloud\n",
      "https://on.soundcloud.com/nntQT\n",
      "https://on.soundcloud.com/nntQT?_impcp=1\n",
      "https://soundcloud.com/listen2arabit/svjekp98ifux?si=7d80acdf247c436a980bf029ffcc9b42&utm_source=clipboard&utm_medium=text&utm_campaign=social_sharing\n",
      "Stream בלאע׳ה (כושר ביטוי / שכנוע) by Arabit | Listen online for free on SoundCloud\n",
      "https://on.soundcloud.com/RR4iY\n",
      "https://on.soundcloud.com/RR4iY?_impcp=1\n",
      "https://soundcloud.com/listen2arabit/vvjybgbcyvkc?si=7d80acdf247c436a980bf029ffcc9b42&utm_source=clipboard&utm_medium=text&utm_campaign=social_sharing\n",
      "Stream סאג׳דה (משתחווה, סוגדת בתפילה) by Arabit | Listen online for free on SoundCloud\n",
      "https://on.soundcloud.com/o4KpG\n",
      "https://on.soundcloud.com/o4KpG?_impcp=1\n",
      "https://soundcloud.com/listen2arabit/d5u5ntldxaue?si=7d80acdf247c436a980bf029ffcc9b42&utm_source=clipboard&utm_medium=text&utm_campaign=social_sharing\n",
      "Stream אנקאצ׳ (הריסות, חורבות) by Arabit | Listen online for free on SoundCloud\n",
      "https://on.soundcloud.com/RHNPJ?fbclid=IwAR18zHmx9z6qv38XqxrjzCdGhH8wRmvTxm383teulUnZmz57T4QbnEEOgBo\n",
      "https://on.soundcloud.com/RHNPJ?_impcp=1\n",
      "https://soundcloud.com/listen2arabit/ki9038ntstml?si=c071e6edb6de4d1db29817f21ee6a7fd&utm_source=clipboard&utm_medium=text&utm_campaign=social_sharing\n",
      "Stream תמאס (מגע) by Arabit | Listen online for free on SoundCloud\n",
      "https://on.soundcloud.com/awN4e\n",
      "https://on.soundcloud.com/awN4e?_impcp=1\n",
      "https://soundcloud.com/listen2arabit/lxqlhezv7wda?si=c071e6edb6de4d1db29817f21ee6a7fd&utm_source=clipboard&utm_medium=text&utm_campaign=social_sharing\n",
      "Stream שטח נטח (רק הגיע וכבר עשה משהו לא טוב) by Arabit | Listen online for free on SoundCloud\n",
      "https://on.soundcloud.com/Ji1m2\n",
      "https://on.soundcloud.com/Ji1m2?_impcp=1\n",
      "https://soundcloud.com/listen2arabit/ebnq1qoi35bw?si=c071e6edb6de4d1db29817f21ee6a7fd&utm_source=clipboard&utm_medium=text&utm_campaign=social_sharing\n",
      "Stream עריאן (ערום) by Arabit | Listen online for free on SoundCloud\n",
      "https://on.soundcloud.com/fsfcg\n",
      "https://on.soundcloud.com/fsfcg?_impcp=1\n",
      "https://soundcloud.com/listen2arabit/6kqcs9cflrkf?si=c071e6edb6de4d1db29817f21ee6a7fd&utm_source=clipboard&utm_medium=text&utm_campaign=social_sharing\n",
      "Stream באלמאל ולא באלעיאל (ברכוש ולא בנפש) by Arabit | Listen online for free on SoundCloud\n",
      "https://on.soundcloud.com/YqL2z\n",
      "https://on.soundcloud.com/YqL2z?_impcp=1\n",
      "https://soundcloud.com/listen2arabit/vqd7mvsdll4u?si=aa5562af823847b4a049c966e386948d&utm_source=clipboard&utm_medium=text&utm_campaign=social_sharing\n",
      "Stream שיאל (גופיה) by Arabit | Listen online for free on SoundCloud\n",
      "https://on.soundcloud.com/YpVLF\n",
      "https://on.soundcloud.com/YpVLF?_impcp=1\n",
      "https://soundcloud.com/listen2arabit/zn6pvsgym9ak?si=544f993facb542bd9ce2f24da9a4b4ef&utm_source=clipboard&utm_medium=text&utm_campaign=social_sharing\n",
      "Stream ערקלה (מכשול) by Arabit | Listen online for free on SoundCloud\n",
      "https://on.soundcloud.com/3Dz9b?fbclid=IwAR2ULbtGFBqEUXRxVtsqq4oNCO_lFRDxsmAfRBykcp_TYr5fjtAGHmUUwBQ\n",
      "https://on.soundcloud.com/3Dz9b?_impcp=1\n",
      "https://soundcloud.com/listen2arabit/8uow4mdscaud?si=544f993facb542bd9ce2f24da9a4b4ef&utm_source=clipboard&utm_medium=text&utm_campaign=social_sharing\n",
      "Stream פחל (סוס זכר חזק שאינו מסורס) by Arabit | Listen online for free on SoundCloud\n",
      "https://on.soundcloud.com/JLFcw\n",
      "https://on.soundcloud.com/JLFcw?_impcp=1\n",
      "https://soundcloud.com/listen2arabit/p4jhkd297ycx?si=544f993facb542bd9ce2f24da9a4b4ef&utm_source=clipboard&utm_medium=text&utm_campaign=social_sharing\n",
      "Stream ח׳דיעה (תרמית) by Arabit | Listen online for free on SoundCloud\n",
      "https://on.soundcloud.com/8d8gu?fbclid=IwAR1B-okAlymL2q-7PJaWJ2StdDTcs2_Ib66VdzR8jI7Yvf7bvxlUK39zAXw\n",
      "https://on.soundcloud.com/8d8gu?_impcp=1\n",
      "https://soundcloud.com/listen2arabit/dntqu0fyav9l?si=544f993facb542bd9ce2f24da9a4b4ef&utm_source=clipboard&utm_medium=text&utm_campaign=social_sharing\n",
      "Stream בטר (חוסר דאגות) by Arabit | Listen online for free on SoundCloud\n",
      "https://on.soundcloud.com/U3D5c\n",
      "https://on.soundcloud.com/U3D5c?_impcp=1\n",
      "https://soundcloud.com/listen2arabit/ijdgh7lryqtl?si=544f993facb542bd9ce2f24da9a4b4ef&utm_source=clipboard&utm_medium=text&utm_campaign=social_sharing\n",
      "Stream ואללה אלעט׳ים (אני נשבע באל העצום) by Arabit | Listen online for free on SoundCloud\n",
      "https://soundcloud.com/listen2arabit/k51r2vlgwrcz?fbclid=IwAR001AcCj-YiQI9-VIPhUgwHmau8OjUTNdYctHqrTdKjsBhiJyoCxIlmqhc\n",
      "https://soundcloud.com/listen2arabit/k51r2vlgwrcz\n",
      "https://soundcloud.com/listen2arabit/k51r2vlgwrcz\n",
      "Stream עט'ם by Arabit | Listen online for free on SoundCloud\n",
      "https://on.soundcloud.com/bmqyA\n",
      "https://on.soundcloud.com/bmqyA?_impcp=1\n",
      "https://soundcloud.com/listen2arabit/0ci6m8xnqbsl?si=544f993facb542bd9ce2f24da9a4b4ef&utm_source=clipboard&utm_medium=text&utm_campaign=social_sharing\n",
      "Stream מסאלה (סוגיה) by Arabit | Listen online for free on SoundCloud\n",
      "https://on.soundcloud.com/T7Ba5\n",
      "https://on.soundcloud.com/T7Ba5?_impcp=1\n",
      "https://soundcloud.com/listen2arabit/mc2nmliiam21?si=544f993facb542bd9ce2f24da9a4b4ef&utm_source=clipboard&utm_medium=text&utm_campaign=social_sharing\n",
      "Stream לאקא (פגש) by Arabit | Listen online for free on SoundCloud\n",
      "https://on.soundcloud.com/ayZmd\n",
      "https://on.soundcloud.com/ayZmd?_impcp=1\n",
      "https://soundcloud.com/listen2arabit/i6txdqcaqjxs?si=544f993facb542bd9ce2f24da9a4b4ef&utm_source=clipboard&utm_medium=text&utm_campaign=social_sharing\n",
      "Stream זהד (סגפנות) by Arabit | Listen online for free on SoundCloud\n",
      "https://on.soundcloud.com/5AiUx\n",
      "https://on.soundcloud.com/5AiUx?_impcp=1\n",
      "https://soundcloud.com/listen2arabit/rzlr3c5ugok3?si=544f993facb542bd9ce2f24da9a4b4ef&utm_source=clipboard&utm_medium=text&utm_campaign=social_sharing\n",
      "Stream מצבאח (מנורה) by Arabit | Listen online for free on SoundCloud\n",
      "https://on.soundcloud.com/hgbNA?fbclid=IwAR0oPkOk8jWEmxJE32rstOr7gm30nHJTfGRsBoP9TsL1Hx-YcuID06p036k\n",
      "https://on.soundcloud.com/hgbNA?_impcp=1\n",
      "https://soundcloud.com/listen2arabit/coo8fu1ynibb?si=d72bea5eaf324e2b88345f350e51b790&utm_source=clipboard&utm_medium=text&utm_campaign=social_sharing\n",
      "Stream ספרה (שולחן אוכל) by Arabit | Listen online for free on SoundCloud\n",
      "https://on.soundcloud.com/GkxSq?fbclid=IwAR1yNsZLmpqPd7JjziGpsfkuzL_9L_MeS3ok6JWSDod2XjfOKhS0cqkX4Qw\n",
      "https://on.soundcloud.com/GkxSq?_impcp=1\n",
      "https://soundcloud.com/listen2arabit/hh7a4rko0sjn?si=d72bea5eaf324e2b88345f350e51b790&utm_source=clipboard&utm_medium=text&utm_campaign=social_sharing\n",
      "Stream נהר by Arabit | Listen online for free on SoundCloud\n",
      "https://on.soundcloud.com/WewdD?fbclid=IwAR1cN5yEzWaf64MIlTZ6nTxlg8Pegb4hQlQRmbKBz4UN7uN-ucZRz_fJZiM\n",
      "https://on.soundcloud.com/WewdD?_impcp=1\n",
      "https://soundcloud.com/listen2arabit/ufi9qbfbildj?si=d72bea5eaf324e2b88345f350e51b790&utm_source=clipboard&utm_medium=text&utm_campaign=social_sharing\n",
      "Stream עריש (סוכה) by Arabit | Listen online for free on SoundCloud\n",
      "https://on.soundcloud.com/PR3vZ\n",
      "https://on.soundcloud.com/PR3vZ?_impcp=1\n",
      "https://soundcloud.com/listen2arabit/46mfcvz4sk12?si=d72bea5eaf324e2b88345f350e51b790&utm_source=clipboard&utm_medium=text&utm_campaign=social_sharing\n",
      "Stream פטנה (פיקחות, תפיסה מהירה) by Arabit | Listen online for free on SoundCloud\n",
      "https://on.soundcloud.com/FCkNU\n",
      "https://on.soundcloud.com/FCkNU?_impcp=1\n",
      "https://soundcloud.com/listen2arabit/6sztdiarglmy?si=d72bea5eaf324e2b88345f350e51b790&utm_source=clipboard&utm_medium=text&utm_campaign=social_sharing\n",
      "Stream (מדהים) מד׳הל by Arabit | Listen online for free on SoundCloud\n",
      "https://on.soundcloud.com/EnJLY\n",
      "https://on.soundcloud.com/EnJLY?_impcp=1\n",
      "https://soundcloud.com/listen2arabit/jak2iyt1yv9n?si=d72bea5eaf324e2b88345f350e51b790&utm_source=clipboard&utm_medium=text&utm_campaign=social_sharing\n",
      "Stream הואדה (מתינות) by Arabit | Listen online for free on SoundCloud\n",
      "https://on.soundcloud.com/FEqC8?fbclid=IwAR0DOP2QqKkLIR3vN2LOASH-fzYcSl6c-utxlOEFwC7uBTSo-zrQ97qkc8Y\n",
      "https://on.soundcloud.com/FEqC8?_impcp=1\n",
      "https://soundcloud.com/listen2arabit/1xcpecldgtau?si=d72bea5eaf324e2b88345f350e51b790&utm_source=clipboard&utm_medium=text&utm_campaign=social_sharing\n",
      "Stream שעט קלבי (נשרף לי הלב) by Arabit | Listen online for free on SoundCloud\n",
      "https://on.soundcloud.com/QZxk6?fbclid=IwAR0Ov3BVxr6exldCYjQUwM4bed5k7SwaH9tG-Cm7zJRX3yd9MgPcemBkHVw\n",
      "https://on.soundcloud.com/QZxk6?_impcp=1\n",
      "https://soundcloud.com/listen2arabit/uww5lvbahety?si=50e4ba80e2994a0abcd5b7599f5d41ef&utm_source=clipboard&utm_medium=text&utm_campaign=social_sharing\n",
      "Stream כאא׳ן פצ׳אאי (חייזר) by Arabit | Listen online for free on SoundCloud\n",
      "https://on.soundcloud.com/HwucB?fbclid=IwAR2woai_gZy9ZyIx43NPmpC59WLITcGs9DGdnX3Ql_QEnXXzqTw8Lmz8v7o\n",
      "https://on.soundcloud.com/HwucB?_impcp=1\n",
      "https://soundcloud.com/listen2arabit/otbkztyemdty?si=50e4ba80e2994a0abcd5b7599f5d41ef&utm_source=clipboard&utm_medium=text&utm_campaign=social_sharing\n",
      "Stream מתטרף (קיצוני) by Arabit | Listen online for free on SoundCloud\n",
      "https://on.soundcloud.com/mzCwT\n",
      "https://on.soundcloud.com/mzCwT?_impcp=1\n",
      "https://soundcloud.com/listen2arabit/jfcirvabcvop?si=50e4ba80e2994a0abcd5b7599f5d41ef&utm_source=clipboard&utm_medium=text&utm_campaign=social_sharing\n",
      "Stream צפט (ערם ערימה מסודרת) by Arabit | Listen online for free on SoundCloud\n",
      "https://on.soundcloud.com/ht4d1\n",
      "https://on.soundcloud.com/ht4d1?_impcp=1\n",
      "https://soundcloud.com/listen2arabit/murz5pronehl?si=1ae9ced9b06b4bdb9f7bd2870b332e83&utm_source=clipboard&utm_medium=text&utm_campaign=social_sharing\n",
      "Stream מנקד׳ בחרי (מציל) by Arabit | Listen online for free on SoundCloud\n",
      "https://soundcloud.com/listen2arabit/svyslhatb6uk\n",
      "https://soundcloud.com/listen2arabit/svyslhatb6uk\n",
      "https://soundcloud.com/listen2arabit/svyslhatb6uk\n",
      "Stream אנקאד׳ by Arabit | Listen online for free on SoundCloud\n",
      "https://on.soundcloud.com/7AwAb?fbclid=IwAR3dYkXksTWOoDCzSok17VbpWZ5U2IGET8rpiKF-OfnWSylBepRTLULbo4U\n",
      "https://on.soundcloud.com/7AwAb?_impcp=1\n",
      "https://soundcloud.com/listen2arabit/yapyory1yo8u?si=50e4ba80e2994a0abcd5b7599f5d41ef&utm_source=clipboard&utm_medium=text&utm_campaign=social_sharing\n",
      "Stream כביר אלסנ (אדם מבוגר) by Arabit | Listen online for free on SoundCloud\n",
      "https://on.soundcloud.com/XbTXi\n",
      "https://on.soundcloud.com/XbTXi?_impcp=1\n",
      "https://soundcloud.com/listen2arabit/oqe8k1e8pzez?si=c526b93c473d42f3bd62371cb7ca0286&utm_source=clipboard&utm_medium=text&utm_campaign=social_sharing\n",
      "Stream סנאן by Arabit | Listen online for free on SoundCloud\n",
      "https://on.soundcloud.com/JL3M1?fbclid=IwAR2RWNc9zLq26Z2Gwtm6HACe_zfCQEGQ-w5mEYGAxYzdxfSBfPM4jlaSk3Q\n",
      "https://on.soundcloud.com/JL3M1?_impcp=1\n",
      "https://soundcloud.com/listen2arabit/rrcyhix9scen?si=50e4ba80e2994a0abcd5b7599f5d41ef&utm_source=clipboard&utm_medium=text&utm_campaign=social_sharing\n",
      "Stream אנאא׳ (כלי קיבול) by Arabit | Listen online for free on SoundCloud\n",
      "https://on.soundcloud.com/GV77B?fbclid=IwAR1nHshJpAPyXh3awehUqgl2eGY6jS51EEGtB-ScP5-NhPFqyIz9TX7xJSM\n",
      "https://on.soundcloud.com/GV77B?_impcp=1\n",
      "https://soundcloud.com/listen2arabit/jdp7otmrqnnr?si=50e4ba80e2994a0abcd5b7599f5d41ef&utm_source=clipboard&utm_medium=text&utm_campaign=social_sharing\n",
      "Stream עש (קן) by Arabit | Listen online for free on SoundCloud\n",
      "https://on.soundcloud.com/GSQAu\n",
      "https://on.soundcloud.com/GSQAu?_impcp=1\n",
      "https://soundcloud.com/listen2arabit/u9ru8f0fc22z?si=a698687a0668486db01eab510e149583&utm_source=clipboard&utm_medium=text&utm_campaign=social_sharing\n",
      "Stream מאדי (חומרי) by Arabit | Listen online for free on SoundCloud\n",
      "https://on.soundcloud.com/wGx5X\n",
      "https://on.soundcloud.com/wGx5X?_impcp=1\n",
      "https://soundcloud.com/listen2arabit/zy2kvktd3cii?si=a698687a0668486db01eab510e149583&utm_source=clipboard&utm_medium=text&utm_campaign=social_sharing\n",
      "Stream נטק (ביטא) by Arabit | Listen online for free on SoundCloud\n",
      "https://on.soundcloud.com/S4n8M\n",
      "https://on.soundcloud.com/S4n8M?_impcp=1\n",
      "https://soundcloud.com/listen2arabit/fslsv6l2era8?si=a698687a0668486db01eab510e149583&utm_source=clipboard&utm_medium=text&utm_campaign=social_sharing\n",
      "Stream ממנוע (אסור) by Arabit | Listen online for free on SoundCloud\n",
      "https://on.soundcloud.com/DAKLg?fbclid=IwAR1cQHoyJhTPH9f0-Qr0y8-D8uYtKjUuNb2yakuj3Ml6GacomKjzNQAeNk8\n",
      "https://on.soundcloud.com/DAKLg?_impcp=1\n",
      "https://soundcloud.com/listen2arabit/gfvzg9ugwtme?si=a698687a0668486db01eab510e149583&utm_source=clipboard&utm_medium=text&utm_campaign=social_sharing\n",
      "Stream מהדד (מאוים) by Arabit | Listen online for free on SoundCloud\n",
      "https://on.soundcloud.com/ocEZt?fbclid=IwAR1AkmfXQqkFarOjQfFMUvCCzAkXano1nkhZdVlALnAhyYQnsO0RpVz4TBY\n",
      "https://on.soundcloud.com/ocEZt?_impcp=1\n",
      "https://soundcloud.com/listen2arabit/wgejnzoh7uvh?si=a698687a0668486db01eab510e149583&utm_source=clipboard&utm_medium=text&utm_campaign=social_sharing\n",
      "Stream מג׳בור (חייב) by Arabit | Listen online for free on SoundCloud\n",
      "https://on.soundcloud.com/YFQnu?fbclid=IwAR3Kh-8BxjswEBpa9Pt-M8eaFGigHxPMeCQxMbkynwwzU4uHsbLBvOa_ous\n",
      "https://on.soundcloud.com/YFQnu?_impcp=1\n",
      "https://soundcloud.com/listen2arabit/liney4gnzizv?si=a698687a0668486db01eab510e149583&utm_source=clipboard&utm_medium=text&utm_campaign=social_sharing\n",
      "Stream מת׳אברה (שקידה) by Arabit | Listen online for free on SoundCloud\n",
      "https://on.soundcloud.com/tTzdP?fbclid=IwAR3nmFWa_qZyBMayv9HdkBVaBBsD_eNrTDE2q1K5HcaEJqCZkNJYQZ3_SY0\n",
      "https://on.soundcloud.com/tTzdP?_impcp=1\n",
      "https://soundcloud.com/listen2arabit/qqlvbvvkgchz?si=a698687a0668486db01eab510e149583&utm_source=clipboard&utm_medium=text&utm_campaign=social_sharing\n",
      "Stream נזיה (שאין בו דופי) by Arabit | Listen online for free on SoundCloud\n",
      "https://on.soundcloud.com/efdnR?fbclid=IwAR28qlnxfIVJ7lhvdd2sP0BBc78-sdvmxjoJYhUw_zcjbSpmAHgfcdk-VYs\n",
      "https://on.soundcloud.com/efdnR?_impcp=1\n",
      "https://soundcloud.com/listen2arabit/iby6vsy1qzp1?si=759a0e67adad48f6ae870d582cfc29a4&utm_source=clipboard&utm_medium=text&utm_campaign=social_sharing\n",
      "Stream עשא (ארוחת ערב) by Arabit | Listen online for free on SoundCloud\n",
      "https://on.soundcloud.com/t8Tbt?fbclid=IwAR37mNZLSRq4rGkBHH5DbAM20swlQp0wExwx1R0oqSGAoWzY82aKjJ8D8dM\n",
      "https://on.soundcloud.com/t8Tbt?_impcp=1\n",
      "https://soundcloud.com/listen2arabit/wjvqtrufjnzx?si=759a0e67adad48f6ae870d582cfc29a4&utm_source=clipboard&utm_medium=text&utm_campaign=social_sharing\n",
      "Stream רנ (צלצל) by Arabit | Listen online for free on SoundCloud\n",
      "https://on.soundcloud.com/BKVwj?fbclid=IwAR2m1KRKcRGuYKD7BGd8otBqz5Xzq2T4f_AukIOPZBZzCnLy3Ziw2r_ZC5Y\n",
      "https://on.soundcloud.com/BKVwj?_impcp=1\n",
      "https://soundcloud.com/listen2arabit/mysa4utuwye7?si=759a0e67adad48f6ae870d582cfc29a4&utm_source=clipboard&utm_medium=text&utm_campaign=social_sharing\n",
      "Stream אצפר (צהוב) by Arabit | Listen online for free on SoundCloud\n",
      "https://on.soundcloud.com/VGmTU\n",
      "https://on.soundcloud.com/VGmTU?_impcp=1\n",
      "https://soundcloud.com/listen2arabit/8cr1ayu1mrtu?si=759a0e67adad48f6ae870d582cfc29a4&utm_source=clipboard&utm_medium=text&utm_campaign=social_sharing\n",
      "Stream דקן (זקן) by Arabit | Listen online for free on SoundCloud\n",
      "https://on.soundcloud.com/gKvLS\n",
      "https://on.soundcloud.com/gKvLS?_impcp=1\n",
      "https://soundcloud.com/listen2arabit/5nl5umcxmtt7?si=759a0e67adad48f6ae870d582cfc29a4&utm_source=clipboard&utm_medium=text&utm_campaign=social_sharing\n",
      "Stream נשאמא (בחורים שופעים תכונות גבריות) by Arabit | Listen online for free on SoundCloud\n",
      "https://on.soundcloud.com/2eeNA\n",
      "https://on.soundcloud.com/2eeNA?_impcp=1\n",
      "https://soundcloud.com/listen2arabit/g3yrdepuxyfh?si=759a0e67adad48f6ae870d582cfc29a4&utm_source=clipboard&utm_medium=text&utm_campaign=social_sharing\n",
      "Stream חאמצ׳ (חמוץ) by Arabit | Listen online for free on SoundCloud\n",
      "https://on.soundcloud.com/qCfyx?fbclid=IwAR3FiRUpKuXzNe4437Paicsh5EZtrTQtzzOX4gAqWWXdwcN6jhsA_eGcesY\n",
      "https://on.soundcloud.com/qCfyx?_impcp=1\n",
      "https://soundcloud.com/listen2arabit/il9zqnlomrcw?si=759a0e67adad48f6ae870d582cfc29a4&utm_source=clipboard&utm_medium=text&utm_campaign=social_sharing\n",
      "Stream ד׳יל (זנב) by Arabit | Listen online for free on SoundCloud\n",
      "https://on.soundcloud.com/PSyMg?fbclid=IwAR3IP1tb1oHA7BuWvQqgkD-g0RXdKwGxqGX0mt7VmDI21yoYW-QtQCTkIXo\n",
      "https://on.soundcloud.com/PSyMg?_impcp=1\n",
      "https://soundcloud.com/listen2arabit/n3qizrcm9oer?si=041f31369503434cb7ce36ff77971e2d&utm_source=clipboard&utm_medium=text&utm_campaign=social_sharing\n",
      "Stream ציפ (בילה את הקיץ) by Arabit | Listen online for free on SoundCloud\n",
      "https://on.soundcloud.com/qLaFF\n",
      "https://on.soundcloud.com/qLaFF?_impcp=1\n",
      "https://soundcloud.com/listen2arabit/3df2uqeugxy2?si=041f31369503434cb7ce36ff77971e2d&utm_source=clipboard&utm_medium=text&utm_campaign=social_sharing\n",
      "Stream חרג׳ (מבוכה) by Arabit | Listen online for free on SoundCloud\n",
      "https://on.soundcloud.com/gvCpo?fbclid=IwAR2thZwaeryiiYVNjMq5-cyaHJ-YGKcRAnJH2JhdbvJotgwiE4_mC_ACcts\n",
      "https://on.soundcloud.com/gvCpo?_impcp=1\n",
      "https://soundcloud.com/listen2arabit/cflljrsy2sr9?si=56f61e23c78b40a69d428d8aed549961&utm_source=clipboard&utm_medium=text&utm_campaign=social_sharing\n",
      "Stream מדינה מלאהי (לונה פארק) by Arabit | Listen online for free on SoundCloud\n",
      "https://on.soundcloud.com/XUe9B\n",
      "https://on.soundcloud.com/XUe9B?_impcp=1\n",
      "https://soundcloud.com/listen2arabit/goheofaegr8m?si=041f31369503434cb7ce36ff77971e2d&utm_source=clipboard&utm_medium=text&utm_campaign=social_sharing\n",
      "Stream נחוי (מומחה בתורת הדקדוק) by Arabit | Listen online for free on SoundCloud\n",
      "https://on.soundcloud.com/enup3?fbclid=IwAR0kxvHCsO7gB1t5WCWemBZ1eIDCWTxjyd8siZY9Ov_QUlieY_Pa3d8fOI0\n",
      "https://on.soundcloud.com/enup3?_impcp=1\n",
      "https://soundcloud.com/listen2arabit/rbe1snspw8sp?si=56f61e23c78b40a69d428d8aed549961&utm_source=clipboard&utm_medium=text&utm_campaign=social_sharing\n",
      "Stream חקל (שדה) by Arabit | Listen online for free on SoundCloud\n",
      "https://on.soundcloud.com/FVU4R\n",
      "https://on.soundcloud.com/FVU4R?_impcp=1\n",
      "https://soundcloud.com/listen2arabit/rsbvrdnrqhqp?si=4d175e0a6d71481fb4f50d39f32c53f1&utm_source=clipboard&utm_medium=text&utm_campaign=social_sharing\n",
      "Stream ת׳עבאן (נחש) by Arabit | Listen online for free on SoundCloud\n",
      "https://on.soundcloud.com/RoJrM?fbclid=IwAR0ehQ1m_6rRs2QbBAwiZKqj6x-nxIaix9JVZXfmWZGko865noc80o-qV5Y\n",
      "https://on.soundcloud.com/RoJrM?_impcp=1\n",
      "https://soundcloud.com/listen2arabit/ye3t423cxtd2?si=041f31369503434cb7ce36ff77971e2d&utm_source=clipboard&utm_medium=text&utm_campaign=social_sharing\n",
      "Stream שלח׳ תשליח׳ (קרע לגזרים) by Arabit | Listen online for free on SoundCloud\n",
      "https://on.soundcloud.com/EZRq4?fbclid=IwAR0UotU6xvXv4VQhYNr_oqT9rD7iE0073OSEBWCZ0pDodmFYNBRwJoMvzkw\n",
      "https://on.soundcloud.com/EZRq4?_impcp=1\n",
      "https://soundcloud.com/listen2arabit/evadhzomk07k?si=2f6518d7f2f84d1ab2203a308370c4e9&utm_source=clipboard&utm_medium=text&utm_campaign=social_sharing\n",
      "Stream מנבר (במה ציבורית) by Arabit | Listen online for free on SoundCloud\n",
      "https://on.soundcloud.com/MWiX4\n",
      "https://on.soundcloud.com/MWiX4?_impcp=1\n",
      "https://soundcloud.com/listen2arabit/qwy8cc2lndhm?si=2f6518d7f2f84d1ab2203a308370c4e9&utm_source=clipboard&utm_medium=text&utm_campaign=social_sharing\n",
      "Stream כב (שפך) by Arabit | Listen online for free on SoundCloud\n",
      "https://on.soundcloud.com/iYy4T?fbclid=IwAR2Zvl0EqP4EjUiAez73oVCTEYsIs5lp9IvyTY0L2jzLX2Yxo0HuJP1N2Wo\n",
      "https://on.soundcloud.com/iYy4T?_impcp=1\n",
      "https://soundcloud.com/listen2arabit/m6itmgds79ss?si=2f6518d7f2f84d1ab2203a308370c4e9&utm_source=clipboard&utm_medium=text&utm_campaign=social_sharing\n",
      "Stream ח׳צא (סירס) by Arabit | Listen online for free on SoundCloud\n",
      "https://on.soundcloud.com/zVDVx\n",
      "https://on.soundcloud.com/zVDVx?_impcp=1\n",
      "https://soundcloud.com/listen2arabit/bc7e9uv3paef?si=2f6518d7f2f84d1ab2203a308370c4e9&utm_source=clipboard&utm_medium=text&utm_campaign=social_sharing\n",
      "Stream דרג׳ (מדרגות) by Arabit | Listen online for free on SoundCloud\n",
      "https://on.soundcloud.com/SPMQ4\n",
      "https://on.soundcloud.com/SPMQ4?_impcp=1\n",
      "https://soundcloud.com/listen2arabit/brf0zn67wdcf?si=2f6518d7f2f84d1ab2203a308370c4e9&utm_source=clipboard&utm_medium=text&utm_campaign=social_sharing\n",
      "Stream לציקה (מדבקה) by Arabit | Listen online for free on SoundCloud\n",
      "https://on.soundcloud.com/6H9hX?fbclid=IwAR1vXiz2pWkui2OJo0WnmJUHkRttKNQTuv2fuuMVrrLq9EGyC5ysSSk09CQ\n",
      "https://on.soundcloud.com/6H9hX?_impcp=1\n",
      "https://soundcloud.com/listen2arabit/bbyookke8d8l?si=2f6518d7f2f84d1ab2203a308370c4e9&utm_source=clipboard&utm_medium=text&utm_campaign=social_sharing\n",
      "Stream עיט (בכה) by Arabit | Listen online for free on SoundCloud\n",
      "https://on.soundcloud.com/uk5Nt?fbclid=IwAR3W7kEVtVmSRQ5Kr6d9TXG_G27toFIg0YwJTbRm6WlINhADmXqeDqRBp0g\n",
      "https://on.soundcloud.com/uk5Nt?_impcp=1\n",
      "https://soundcloud.com/listen2arabit/3c0z21r1i3e0?si=2f6518d7f2f84d1ab2203a308370c4e9&utm_source=clipboard&utm_medium=text&utm_campaign=social_sharing\n",
      "Stream אכראמיה (טיפ) by Arabit | Listen online for free on SoundCloud\n",
      "https://on.soundcloud.com/Qk4LJ?fbclid=IwAR0sr6aPuRVbHSF9ST50bhon3wgvLqp_WbsfM6KDXOMytGTp2-IYtTJsDZU\n",
      "https://on.soundcloud.com/Qk4LJ?_impcp=1\n",
      "https://soundcloud.com/listen2arabit/zxu351kz3wgt?si=5ab2cef65b5a45bca9a7a0c626c4f536&utm_source=clipboard&utm_medium=text&utm_campaign=social_sharing\n",
      "Stream כוע (מרפק) by Arabit | Listen online for free on SoundCloud\n",
      "https://on.soundcloud.com/en5Ai?fbclid=IwAR3L8mUkb1M2a_p-UiU3HvsbuGt8jA6B0zEjZ92JgMkzn3wVxFkAnW3hWLQ\n",
      "https://on.soundcloud.com/en5Ai?_impcp=1\n",
      "https://soundcloud.com/listen2arabit/ajvh6n00qiew?si=5ab2cef65b5a45bca9a7a0c626c4f536&utm_source=clipboard&utm_medium=text&utm_campaign=social_sharing\n",
      "Stream בשרה (עור) by Arabit | Listen online for free on SoundCloud\n",
      "https://on.soundcloud.com/Y8Mpa\n",
      "https://on.soundcloud.com/Y8Mpa?_impcp=1\n",
      "https://soundcloud.com/listen2arabit/blrrwpzk1v6b?si=5ab2cef65b5a45bca9a7a0c626c4f536&utm_source=clipboard&utm_medium=text&utm_campaign=social_sharing\n",
      "Stream וקח (חצוף) by Arabit | Listen online for free on SoundCloud\n",
      "https://on.soundcloud.com/XCsCD?fbclid=IwAR0rMEE9p0c91a4cq8iVE8p6EiKUB6rafHcBNvDNEjZkc74IlGudWR3R6m0\n",
      "https://on.soundcloud.com/XCsCD?_impcp=1\n",
      "https://soundcloud.com/listen2arabit/uexyrby2dqko?si=5ab2cef65b5a45bca9a7a0c626c4f536&utm_source=clipboard&utm_medium=text&utm_campaign=social_sharing\n",
      "Stream עבוה נאספה by Arabit | Listen online for free on SoundCloud\n",
      "https://on.soundcloud.com/B8Pw3?fbclid=IwAR3KU_V8sJRGLzFHky2XI-g91tg_2flgwDRFmla_NMonvT7inwcPsXRznhk\n",
      "https://on.soundcloud.com/B8Pw3?_impcp=1\n",
      "https://soundcloud.com/listen2arabit/jlp2w40so5ns?si=5ab2cef65b5a45bca9a7a0c626c4f536&utm_source=clipboard&utm_medium=text&utm_campaign=social_sharing\n",
      "Stream אלשיטאן by Arabit | Listen online for free on SoundCloud\n",
      "https://on.soundcloud.com/RNHtN\n",
      "https://on.soundcloud.com/RNHtN?_impcp=1\n",
      "https://soundcloud.com/listen2arabit/s7fzaof5ovgv?si=5ab2cef65b5a45bca9a7a0c626c4f536&utm_source=clipboard&utm_medium=text&utm_campaign=social_sharing\n",
      "Stream מתן (סיפון) by Arabit | Listen online for free on SoundCloud\n",
      "https://on.soundcloud.com/9ScCk?fbclid=IwAR2lsXl8bFt-yykXBIowqqh86gZ7ZSr5KDP_XSffwrOAYb40OJ6x8Gtxnco\n",
      "https://on.soundcloud.com/9ScCk?_impcp=1\n",
      "https://soundcloud.com/listen2arabit/dppdj5kuygh9?si=5ab2cef65b5a45bca9a7a0c626c4f536&utm_source=clipboard&utm_medium=text&utm_campaign=social_sharing\n",
      "Stream עאלג׳ (טיפל) by Arabit | Listen online for free on SoundCloud\n",
      "https://on.soundcloud.com/8p2xm\n",
      "https://on.soundcloud.com/8p2xm?_impcp=1\n",
      "https://soundcloud.com/listen2arabit/l5rustvhqn09?si=6df5afe7829e47a6a948876e0d6e1a52&utm_source=clipboard&utm_medium=text&utm_campaign=social_sharing\n",
      "Stream לולב by Arabit | Listen online for free on SoundCloud\n",
      "https://on.soundcloud.com/9b7du?fbclid=IwAR2eXbc9cWJw9_OpFm-xHQtmi95SxKjdGaFV5E7mYY3Xodolo9ZNbIyWym4\n",
      "https://on.soundcloud.com/9b7du?_impcp=1\n",
      "https://soundcloud.com/listen2arabit/ojztoh4ywfbu?si=6df5afe7829e47a6a948876e0d6e1a52&utm_source=clipboard&utm_medium=text&utm_campaign=social_sharing\n",
      "Stream אבריק by Arabit | Listen online for free on SoundCloud\n",
      "https://on.soundcloud.com/QF6PP?fbclid=IwAR1yrDoL-nhCNtu6vyYhIfvO0LDp9JU-KZuOS6CLhrTH0CQrvIP96L0B6po\n",
      "https://on.soundcloud.com/QF6PP?_impcp=1\n",
      "https://soundcloud.com/listen2arabit/nydcd8ugrinp?si=6df5afe7829e47a6a948876e0d6e1a52&utm_source=clipboard&utm_medium=text&utm_campaign=social_sharing\n",
      "Stream רע׳וה by Arabit | Listen online for free on SoundCloud\n",
      "https://on.soundcloud.com/CZ5ek\n",
      "https://on.soundcloud.com/CZ5ek?_impcp=1\n",
      "https://soundcloud.com/listen2arabit/whbjjjbhty12?si=6df5afe7829e47a6a948876e0d6e1a52&utm_source=clipboard&utm_medium=text&utm_campaign=social_sharing\n",
      "Stream חצ׳אנת אטפאל by Arabit | Listen online for free on SoundCloud\n",
      "https://on.soundcloud.com/9DakF?fbclid=IwAR3vcziHNxRPw7NVI32QxjtIIHYE6uw8GobZyby4H2bI-ycGfFD2Ezso5fM\n",
      "https://on.soundcloud.com/9DakF?_impcp=1\n",
      "https://soundcloud.com/listen2arabit/l389uwovbya8?si=6df5afe7829e47a6a948876e0d6e1a52&utm_source=clipboard&utm_medium=text&utm_campaign=social_sharing\n",
      "Stream אלעאלם אלספלי by Arabit | Listen online for free on SoundCloud\n",
      "https://soundcloud.com/listen2arabit/9mlwccehqj0f\n",
      "https://soundcloud.com/listen2arabit/9mlwccehqj0f\n",
      "https://soundcloud.com/listen2arabit/9mlwccehqj0f\n",
      "Stream סאפל by Arabit | Listen online for free on SoundCloud\n",
      "https://on.soundcloud.com/Cn5zh\n",
      "https://on.soundcloud.com/Cn5zh?_impcp=1\n",
      "https://soundcloud.com/listen2arabit/pwtjdyudvekn?si=6df5afe7829e47a6a948876e0d6e1a52&utm_source=clipboard&utm_medium=text&utm_campaign=social_sharing\n",
      "Stream סאעה by Arabit | Listen online for free on SoundCloud\n",
      "https://on.soundcloud.com/C1vpH\n",
      "https://on.soundcloud.com/C1vpH?_impcp=1\n",
      "https://soundcloud.com/listen2arabit/jsgszylpit0x?si=6df5afe7829e47a6a948876e0d6e1a52&utm_source=clipboard&utm_medium=text&utm_campaign=social_sharing\n",
      "Stream ח׳ס by Arabit | Listen online for free on SoundCloud\n",
      "https://on.soundcloud.com/5QASg\n",
      "https://on.soundcloud.com/5QASg?_impcp=1\n",
      "https://soundcloud.com/listen2arabit/sqrfep8awrox?si=6df5afe7829e47a6a948876e0d6e1a52&utm_source=clipboard&utm_medium=text&utm_campaign=social_sharing\n",
      "Stream שח׳ציה by Arabit | Listen online for free on SoundCloud\n",
      "https://on.soundcloud.com/E8jyL?fbclid=IwAR3vCzZ486NqwlOEiJaoA0d281ymrNDf8mb6zuTE9_OJTyKOojO1IqkL6h0\n",
      "https://on.soundcloud.com/E8jyL?_impcp=1\n",
      "https://soundcloud.com/listen2arabit/4dgngpdpe7zj?si=3d3e16ed72f14facaf8d553e56bc315b&utm_source=clipboard&utm_medium=text&utm_campaign=social_sharing\n",
      "Stream מרשרש by Arabit | Listen online for free on SoundCloud\n",
      "https://on.soundcloud.com/cSdvo?fbclid=IwAR3yyNvvWSIMcmcxbIjqZKlpW5M0i0aB3CzCRE_8rJCf96SPCBQCcEz9w4s\n",
      "https://on.soundcloud.com/cSdvo?_impcp=1\n",
      "https://soundcloud.com/listen2arabit/nam8nhnigqvz?si=3d3e16ed72f14facaf8d553e56bc315b&utm_source=clipboard&utm_medium=text&utm_campaign=social_sharing\n",
      "Stream צ׳וא׳ by Arabit | Listen online for free on SoundCloud\n",
      "https://on.soundcloud.com/yqS4t\n",
      "https://on.soundcloud.com/yqS4t?_impcp=1\n",
      "https://soundcloud.com/listen2arabit/qgguaom0rvzx?si=3d3e16ed72f14facaf8d553e56bc315b&utm_source=clipboard&utm_medium=text&utm_campaign=social_sharing\n",
      "Stream מסרוק by Arabit | Listen online for free on SoundCloud\n",
      "https://on.soundcloud.com/Fsufr?fbclid=IwAR2q3q6ZRav-BOw9KoBUoAbHDq7Oz3ZoLfhdAh01XZWHOwq69KwUIhC6iK8\n",
      "https://on.soundcloud.com/Fsufr?_impcp=1\n",
      "https://soundcloud.com/listen2arabit/ama5maepxbku?si=3d3e16ed72f14facaf8d553e56bc315b&utm_source=clipboard&utm_medium=text&utm_campaign=social_sharing\n",
      "Stream פציל by Arabit | Listen online for free on SoundCloud\n",
      "https://on.soundcloud.com/YeHwA?fbclid=IwAR3xza-RtZ1lrcAuDX0y9noaM61aN1Gi9mYD_hLlldnP8XWCtAys_KMt-A8\n",
      "https://on.soundcloud.com/YeHwA?_impcp=1\n",
      "https://soundcloud.com/listen2arabit/gobcundaqqt2?si=3d3e16ed72f14facaf8d553e56bc315b&utm_source=clipboard&utm_medium=text&utm_campaign=social_sharing\n",
      "Stream וחמה by Arabit | Listen online for free on SoundCloud\n",
      "https://on.soundcloud.com/f2oBH\n",
      "https://on.soundcloud.com/f2oBH?_impcp=1\n",
      "https://soundcloud.com/listen2arabit/8tnsxvjngdff?si=3d3e16ed72f14facaf8d553e56bc315b&utm_source=clipboard&utm_medium=text&utm_campaign=social_sharing\n",
      "Stream טקיע by Arabit | Listen online for free on SoundCloud\n",
      "https://on.soundcloud.com/d8yR6?fbclid=IwAR3kHNdHqowI5tnL9x1_PbNWVbXa9KBFDv3yLS_jItWPyBSN-vRes3uAMcY\n",
      "https://on.soundcloud.com/d8yR6?_impcp=1\n",
      "https://soundcloud.com/listen2arabit/phd0xbq9dcyh?si=3d3e16ed72f14facaf8d553e56bc315b&utm_source=clipboard&utm_medium=text&utm_campaign=social_sharing\n",
      "Stream עבקרי by Arabit | Listen online for free on SoundCloud\n",
      "https://on.soundcloud.com/F3y1A\n",
      "https://on.soundcloud.com/F3y1A?_impcp=1\n",
      "https://soundcloud.com/listen2arabit/grmggvacdedu?si=423c6c719c0a46109b91298cb39e252b&utm_source=clipboard&utm_medium=text&utm_campaign=social_sharing\n",
      "Stream שפאפיה by Arabit | Listen online for free on SoundCloud\n",
      "https://on.soundcloud.com/DbmDk?fbclid=IwAR1FHKVUfjHMumR0SX7-okBJPQRSqeh5ZaKAIZ7NB3UTtfwG7I-0Am83C78\n",
      "https://on.soundcloud.com/DbmDk?_impcp=1\n",
      "https://soundcloud.com/listen2arabit/734sswbtnxws?si=423c6c719c0a46109b91298cb39e252b&utm_source=clipboard&utm_medium=text&utm_campaign=social_sharing\n",
      "Stream אפק by Arabit | Listen online for free on SoundCloud\n",
      "https://on.soundcloud.com/a7cdu\n",
      "https://on.soundcloud.com/a7cdu?_impcp=1\n",
      "https://soundcloud.com/listen2arabit/w687sr982w5a?si=423c6c719c0a46109b91298cb39e252b&utm_source=clipboard&utm_medium=text&utm_campaign=social_sharing\n",
      "Stream מסרורה by Arabit | Listen online for free on SoundCloud\n",
      "https://on.soundcloud.com/7BQ91?fbclid=IwAR1D3wDF0A3ilPzMERlcJPwVf1FEezE1wnzZjPFaz3sL0XewoTvkdJvcv4g\n",
      "https://on.soundcloud.com/7BQ91?_impcp=1\n",
      "https://soundcloud.com/listen2arabit/2c7xob9lp2b8?si=9c0e31e2ba67440c9f0f446ebbfd24f7&utm_source=clipboard&utm_medium=text&utm_campaign=social_sharing\n",
      "Stream סריר by Arabit | Listen online for free on SoundCloud\n",
      "https://on.soundcloud.com/Jvc8G\n",
      "https://on.soundcloud.com/Jvc8G?_impcp=1\n",
      "https://soundcloud.com/listen2arabit/fcxxlhwhymzv?si=423c6c719c0a46109b91298cb39e252b&utm_source=clipboard&utm_medium=text&utm_campaign=social_sharing\n",
      "Stream נדבה by Arabit | Listen online for free on SoundCloud\n",
      "https://on.soundcloud.com/fmPXS\n",
      "https://on.soundcloud.com/fmPXS?_impcp=1\n",
      "https://soundcloud.com/listen2arabit/zjcpztgnopai?si=423c6c719c0a46109b91298cb39e252b&utm_source=clipboard&utm_medium=text&utm_campaign=social_sharing\n",
      "Stream צ׳רע by Arabit | Listen online for free on SoundCloud\n",
      "https://on.soundcloud.com/wR1AZ?fbclid=IwAR1gH-__Ij4ffLlVU2M8kXub58dqTqzCrivTa7V73JB2avPqpxrFfxQbAGI\n",
      "https://on.soundcloud.com/wR1AZ?_impcp=1\n",
      "https://soundcloud.com/listen2arabit/x92oemryfvcj?si=423c6c719c0a46109b91298cb39e252b&utm_source=clipboard&utm_medium=text&utm_campaign=social_sharing\n",
      "Stream ג׳וז הנדי by Arabit | Listen online for free on SoundCloud\n",
      "https://soundcloud.com/listen2arabit/pmc2c4wd4zkq?fbclid=IwAR2Vv9yd20lq0vd74bbgmhckNdBgbUmvYYf0v1JlCKRo0mK5hn2Je2SsCbg\n",
      "https://soundcloud.com/listen2arabit/pmc2c4wd4zkq\n",
      "https://soundcloud.com/listen2arabit/pmc2c4wd4zkq\n",
      "Stream ג'אאזה by Arabit | Listen online for free on SoundCloud\n",
      "https://on.soundcloud.com/d3Sy1\n",
      "https://on.soundcloud.com/d3Sy1?_impcp=1\n",
      "https://soundcloud.com/listen2arabit/q1zfn0yeifme?si=85d523044a094e0b9e42c21aa5b2dc33&utm_source=clipboard&utm_medium=text&utm_campaign=social_sharing\n",
      "Stream פאק by Arabit | Listen online for free on SoundCloud\n",
      "https://soundcloud.com/listen2arabit/c47gsfsmred0\n",
      "https://soundcloud.com/listen2arabit/c47gsfsmred0\n",
      "https://soundcloud.com/listen2arabit/c47gsfsmred0\n",
      "Stream תפוק by Arabit | Listen online for free on SoundCloud\n",
      "https://on.soundcloud.com/6G48s?fbclid=IwAR1dJMidQrByivRqAw7z1dnXQWlXfW-4tlFB6HzhtjDYFqmuMaXjTZWic_s\n",
      "https://on.soundcloud.com/6G48s?_impcp=1\n",
      "https://soundcloud.com/listen2arabit/s2fynaplkypn?si=85d523044a094e0b9e42c21aa5b2dc33&utm_source=clipboard&utm_medium=text&utm_campaign=social_sharing\n",
      "Stream סלחפאה by Arabit | Listen online for free on SoundCloud\n",
      "https://on.soundcloud.com/9USkJ\n",
      "https://on.soundcloud.com/9USkJ?_impcp=1\n",
      "https://soundcloud.com/listen2arabit/pknd6z1woirr?si=85d523044a094e0b9e42c21aa5b2dc33&utm_source=clipboard&utm_medium=text&utm_campaign=social_sharing\n",
      "Stream חאפלה by Arabit | Listen online for free on SoundCloud\n",
      "https://on.soundcloud.com/FSWmf?fbclid=IwAR20UDoGYieBFKhk2NzloZB5NQ42uRt_9D7FKjYAnFAz3EYA0NVxXqe-BRA\n",
      "https://on.soundcloud.com/FSWmf?_impcp=1\n",
      "https://soundcloud.com/listen2arabit/uguab2yuvpgy?si=85d523044a094e0b9e42c21aa5b2dc33&utm_source=clipboard&utm_medium=text&utm_campaign=social_sharing\n",
      "Stream זפאף by Arabit | Listen online for free on SoundCloud\n",
      "https://on.soundcloud.com/ig2kE\n",
      "https://on.soundcloud.com/ig2kE?_impcp=1\n",
      "https://soundcloud.com/listen2arabit/mxm3odzeqbpr?si=85d523044a094e0b9e42c21aa5b2dc33&utm_source=clipboard&utm_medium=text&utm_campaign=social_sharing\n",
      "Stream פקמה by Arabit | Listen online for free on SoundCloud\n",
      "https://on.soundcloud.com/oZgDB?fbclid=IwAR0lEip6zDMU_f9KI7fizqTO2SXEId0D396yCxFLKP-Z0PcR6tH2h2SXHWs\n",
      "https://on.soundcloud.com/oZgDB?_impcp=1\n",
      "https://soundcloud.com/listen2arabit/ikbh0i1bwtyj?si=85d523044a094e0b9e42c21aa5b2dc33&utm_source=clipboard&utm_medium=text&utm_campaign=social_sharing\n",
      "Stream דת׳ר by Arabit | Listen online for free on SoundCloud\n",
      "https://on.soundcloud.com/3pRtA?fbclid=IwAR1jbje0ajrx8NR1XVB249QnyVtScVX_DfZbbVgnTTvs4k7PL5yEwa5SYns\n",
      "https://on.soundcloud.com/3pRtA?_impcp=1\n",
      "https://soundcloud.com/listen2arabit/lspnfqluj9ao?si=85d523044a094e0b9e42c21aa5b2dc33&utm_source=clipboard&utm_medium=text&utm_campaign=social_sharing\n",
      "Stream ת׳מן by Arabit | Listen online for free on SoundCloud\n",
      "https://on.soundcloud.com/fFp8c\n",
      "https://on.soundcloud.com/fFp8c?_impcp=1\n",
      "https://soundcloud.com/listen2arabit/qiwheoqt7egm?si=ffe903a4369d4e278995bb682704dab3&utm_source=clipboard&utm_medium=text&utm_campaign=social_sharing\n",
      "Stream נענע by Arabit | Listen online for free on SoundCloud\n",
      "https://on.soundcloud.com/L7ZLN?fbclid=IwAR2f4eCvPKzyq3CTQNQR7aJU_K8-RBDEgMyVMn72yPcH41DpWKeIUBnQ4BM\n",
      "https://on.soundcloud.com/L7ZLN?_impcp=1\n",
      "https://soundcloud.com/listen2arabit/byl9s9tfpcuu?si=ffe903a4369d4e278995bb682704dab3&utm_source=clipboard&utm_medium=text&utm_campaign=social_sharing\n",
      "Stream בטה by Arabit | Listen online for free on SoundCloud\n",
      "https://on.soundcloud.com/QAsvP?fbclid=IwAR1adW1_FzjEY235ImI4S3vydls00KNxAx9hkNcWWp3WikzX7T3OLprNGFc\n",
      "https://on.soundcloud.com/QAsvP?_impcp=1\n",
      "https://soundcloud.com/listen2arabit/kykt7dlbtxwz?si=ffe903a4369d4e278995bb682704dab3&utm_source=clipboard&utm_medium=text&utm_campaign=social_sharing\n",
      "Stream שאב by Arabit | Listen online for free on SoundCloud\n",
      "https://on.soundcloud.com/gErPz\n",
      "https://on.soundcloud.com/gErPz?_impcp=1\n",
      "https://soundcloud.com/listen2arabit/v94yufvfvche?si=ffe903a4369d4e278995bb682704dab3&utm_source=clipboard&utm_medium=text&utm_campaign=social_sharing\n",
      "Stream וסים by Arabit | Listen online for free on SoundCloud\n",
      "https://on.soundcloud.com/PCDAN\n",
      "https://on.soundcloud.com/PCDAN?_impcp=1\n",
      "https://soundcloud.com/listen2arabit/ysjatdvshtjj?si=85ede980fe2b4e65bd23d8ba4f40918a&utm_source=clipboard&utm_medium=text&utm_campaign=social_sharing\n",
      "Stream פח׳ד׳ by Arabit | Listen online for free on SoundCloud\n",
      "https://on.soundcloud.com/ME1Br\n",
      "https://on.soundcloud.com/ME1Br?_impcp=1\n",
      "https://soundcloud.com/listen2arabit/q8btqnq8kfff?si=1cdedbad94ea49d482a35fd26e79a4c4&utm_source=clipboard&utm_medium=text&utm_campaign=social_sharing\n",
      "Stream כוז by Arabit | Listen online for free on SoundCloud\n",
      "https://on.soundcloud.com/BQmJB\n",
      "https://on.soundcloud.com/BQmJB?_impcp=1\n",
      "https://soundcloud.com/listen2arabit/37pjky52hqvy?si=ffe903a4369d4e278995bb682704dab3&utm_source=clipboard&utm_medium=text&utm_campaign=social_sharing\n",
      "Stream ג׳לבאב by Arabit | Listen online for free on SoundCloud\n",
      "https://on.soundcloud.com/EUpc7?fbclid=IwAR0m_bLcYpyZfIBlZynb3VPmlBtPJh8Oy58bYqUALwAUMiy4fCTEPsE2Ilo\n",
      "https://on.soundcloud.com/EUpc7?_impcp=1\n",
      "https://soundcloud.com/listen2arabit/ornreslqc3zy?si=e0fbe40ba32147258bb45767a55819e2&utm_source=clipboard&utm_medium=text&utm_campaign=social_sharing\n",
      "Stream לחט׳ת נדם by Arabit | Listen online for free on SoundCloud\n",
      "https://on.soundcloud.com/gAA2g?fbclid=IwAR2F8APag-ny8rKtpcmRyDHRONHcJ8L9Fs9aYLJdyKjryqxZ52UP84ly2Ws\n",
      "https://on.soundcloud.com/gAA2g?_impcp=1\n",
      "https://soundcloud.com/listen2arabit/ih7xvlkyki6m?si=e0fbe40ba32147258bb45767a55819e2&utm_source=clipboard&utm_medium=text&utm_campaign=social_sharing\n",
      "Stream הני by Arabit | Listen online for free on SoundCloud\n",
      "https://on.soundcloud.com/UuqQr?fbclid=IwAR1aoqQ7zy79SGsfdvms2U2VXQt3zvDwg79SYzfLEbjUOIF8PQ2I8nEpYoY\n",
      "https://on.soundcloud.com/UuqQr?_impcp=1\n",
      "https://soundcloud.com/listen2arabit/dpkdr7lcpvrz?si=e0fbe40ba32147258bb45767a55819e2&utm_source=clipboard&utm_medium=text&utm_campaign=social_sharing\n",
      "Stream תאח׳ר by Arabit | Listen online for free on SoundCloud\n",
      "https://soundcloud.com/listen2arabit/frm1elg3pvs9\n",
      "https://soundcloud.com/listen2arabit/frm1elg3pvs9\n",
      "https://soundcloud.com/listen2arabit/frm1elg3pvs9\n",
      "Stream אלאאח׳רה by Arabit | Listen online for free on SoundCloud\n",
      "https://on.soundcloud.com/f47G8?fbclid=IwAR2nDvgLp4hRJ96MUNpkHrvdDI5mMiU-4Iepy5Ib-_PEKapwyIDsi_jaxAU\n",
      "https://on.soundcloud.com/f47G8?_impcp=1\n",
      "https://soundcloud.com/listen2arabit/acpfyvgrvfay?si=e0fbe40ba32147258bb45767a55819e2&utm_source=clipboard&utm_medium=text&utm_campaign=social_sharing\n",
      "Stream ג׳יד by Arabit | Listen online for free on SoundCloud\n",
      "https://on.soundcloud.com/dGM7X\n",
      "https://on.soundcloud.com/dGM7X?_impcp=1\n",
      "https://soundcloud.com/listen2arabit/6ubbdnwi6faz?si=e0fbe40ba32147258bb45767a55819e2&utm_source=clipboard&utm_medium=text&utm_campaign=social_sharing\n",
      "Stream כשכ by Arabit | Listen online for free on SoundCloud\n",
      "https://on.soundcloud.com/gHjqT\n",
      "https://on.soundcloud.com/gHjqT?_impcp=1\n",
      "https://soundcloud.com/listen2arabit/wdq05ylgiy8n?si=e0fbe40ba32147258bb45767a55819e2&utm_source=clipboard&utm_medium=text&utm_campaign=social_sharing\n",
      "Stream שאמל by Arabit | Listen online for free on SoundCloud\n",
      "https://on.soundcloud.com/hzss5\n",
      "https://on.soundcloud.com/hzss5?_impcp=1\n",
      "https://soundcloud.com/listen2arabit/cojkm7lfehah?si=0244e13a8db449a3bbed8da8cfdc1a96&utm_source=clipboard&utm_medium=text&utm_campaign=social_sharing\n",
      "Stream אח׳טבוט by Arabit | Listen online for free on SoundCloud\n",
      "https://on.soundcloud.com/Rabzn\n",
      "https://on.soundcloud.com/Rabzn?_impcp=1\n",
      "https://soundcloud.com/listen2arabit/bcaj8jwgttrs?si=0244e13a8db449a3bbed8da8cfdc1a96&utm_source=clipboard&utm_medium=text&utm_campaign=social_sharing\n",
      "Stream סרד by Arabit | Listen online for free on SoundCloud\n",
      "https://on.soundcloud.com/1XQTk?fbclid=IwAR3eOzgZesVqeNhyf01gxHNV9rFYt1aw9nolNjQ3FDiC5B4zGvFpHPB7hnE\n",
      "https://on.soundcloud.com/1XQTk?_impcp=1\n",
      "https://soundcloud.com/listen2arabit/olblsbfidx7a?si=0244e13a8db449a3bbed8da8cfdc1a96&utm_source=clipboard&utm_medium=text&utm_campaign=social_sharing\n",
      "SoundCloud - Hear the worldâ€™s sounds\n",
      "https://on.soundcloud.com/KSUw4\n",
      "https://on.soundcloud.com/KSUw4?_impcp=1\n",
      "https://soundcloud.com/listen2arabit/11xjsb235cau?si=0244e13a8db449a3bbed8da8cfdc1a96&utm_source=clipboard&utm_medium=text&utm_campaign=social_sharing\n",
      "Stream תוציה by Arabit | Listen online for free on SoundCloud\n",
      "https://on.soundcloud.com/Rxnah?fbclid=IwAR1cRM4GGf0z06g7kGkC9W2pMvcZ9hI_V1lO3hpIL2NMh8YsxJaiSjFuPmA\n",
      "https://on.soundcloud.com/Rxnah?_impcp=1\n",
      "https://soundcloud.com/listen2arabit/13ph3ptdgh6k?si=0244e13a8db449a3bbed8da8cfdc1a96&utm_source=clipboard&utm_medium=text&utm_campaign=social_sharing\n",
      "Stream ג׳בה by Arabit | Listen online for free on SoundCloud\n",
      "https://on.soundcloud.com/xuruc\n",
      "https://on.soundcloud.com/xuruc?_impcp=1\n",
      "https://soundcloud.com/listen2arabit/7tgolpnzp5la?si=0244e13a8db449a3bbed8da8cfdc1a96&utm_source=clipboard&utm_medium=text&utm_campaign=social_sharing\n",
      "Stream סאק by Arabit | Listen online for free on SoundCloud\n",
      "https://soundcloud.com/listen2arabit/jhdzesk5iexs\n",
      "https://soundcloud.com/listen2arabit/jhdzesk5iexs\n",
      "https://soundcloud.com/listen2arabit/jhdzesk5iexs\n",
      "Stream סוק by Arabit | Listen online for free on SoundCloud\n",
      "https://on.soundcloud.com/djoua?fbclid=IwAR3yACilEAQESKX_bwEvh6fPHZQ2YJXNmXEpm0ZJC_nZvla6ks-Ml6npu-Q\n",
      "https://on.soundcloud.com/djoua?_impcp=1\n",
      "https://soundcloud.com/listen2arabit/criizrqyovx4?si=0244e13a8db449a3bbed8da8cfdc1a96&utm_source=clipboard&utm_medium=text&utm_campaign=social_sharing\n",
      "Stream דבוס בדלת אלעריס by Arabit | Listen online for free on SoundCloud\n",
      "https://on.soundcloud.com/7evsh?fbclid=IwAR0e8nBVNY9VFUllBlx8R67aBZG4XXJzC2c59NiEpCCq2FA54QLMTRx8WZE\n",
      "https://on.soundcloud.com/7evsh?_impcp=1\n",
      "https://soundcloud.com/listen2arabit/ydiwgni471zr?si=b53443c4f6dc427ca9d39561bf144c8a&utm_source=clipboard&utm_medium=text&utm_campaign=social_sharing\n",
      "Stream אניק by Arabit | Listen online for free on SoundCloud\n",
      "https://on.soundcloud.com/pP8wG?fbclid=IwAR1Hs6ljkSfDH59Y0BeFG7Mw9BWg_Uy7nlEj_zQV_JGyzV7xtDnmsC1ypr8\n",
      "https://on.soundcloud.com/pP8wG?_impcp=1\n",
      "https://soundcloud.com/listen2arabit/ll0tjybyibxo?si=b53443c4f6dc427ca9d39561bf144c8a&utm_source=clipboard&utm_medium=text&utm_campaign=social_sharing\n",
      "Stream שרח' by Arabit | Listen online for free on SoundCloud\n",
      "https://on.soundcloud.com/b5uSr\n",
      "https://on.soundcloud.com/b5uSr?_impcp=1\n",
      "https://soundcloud.com/listen2arabit/dnpvrahr4yvv?si=b53443c4f6dc427ca9d39561bf144c8a&utm_source=clipboard&utm_medium=text&utm_campaign=social_sharing\n",
      "Stream נח'לה by Arabit | Listen online for free on SoundCloud\n",
      "https://on.soundcloud.com/i4q5j\n",
      "https://on.soundcloud.com/i4q5j?_impcp=1\n",
      "https://soundcloud.com/listen2arabit/vcgq3y3ggkfh?si=b53443c4f6dc427ca9d39561bf144c8a&utm_source=clipboard&utm_medium=text&utm_campaign=social_sharing\n",
      "Stream טנטור by Arabit | Listen online for free on SoundCloud\n",
      "https://on.soundcloud.com/XF7Tf\n",
      "https://on.soundcloud.com/XF7Tf?_impcp=1\n",
      "https://soundcloud.com/listen2arabit/hxacfxrvvrt5?si=b53443c4f6dc427ca9d39561bf144c8a&utm_source=clipboard&utm_medium=text&utm_campaign=social_sharing\n",
      "Stream מסלכ by Arabit | Listen online for free on SoundCloud\n",
      "https://on.soundcloud.com/QdGbf\n",
      "https://on.soundcloud.com/QdGbf?_impcp=1\n",
      "https://soundcloud.com/listen2arabit/iqg6uvwrk4re?si=b53443c4f6dc427ca9d39561bf144c8a&utm_source=clipboard&utm_medium=text&utm_campaign=social_sharing\n",
      "Stream שמט by Arabit | Listen online for free on SoundCloud\n",
      "https://on.soundcloud.com/RWZb8?fbclid=IwAR1yH4CivA-93dv4Al6TxBtGlg-Ebyzb7XX-yx4RU9fEwXVYIiQuz2nvPiQ\n",
      "https://on.soundcloud.com/RWZb8?_impcp=1\n",
      "https://soundcloud.com/listen2arabit/mm7dkgcs3qvb?si=b53443c4f6dc427ca9d39561bf144c8a&utm_source=clipboard&utm_medium=text&utm_campaign=social_sharing\n",
      "Stream חאסס by Arabit | Listen online for free on SoundCloud\n",
      "https://on.soundcloud.com/r6878\n",
      "https://on.soundcloud.com/r6878?_impcp=1\n",
      "https://soundcloud.com/listen2arabit/mdu4i7egpjvk?si=7a65d0020c054f8ab3bacc5b5af3a784&utm_source=clipboard&utm_medium=text&utm_campaign=social_sharing\n",
      "Stream האת by Arabit | Listen online for free on SoundCloud\n",
      "https://on.soundcloud.com/dCMnT?fbclid=IwAR1GVw0syJWOJqEKcxPJD8Fs0DnqhB194afiWR21mhcVm333QQQ62EdcYEE\n",
      "https://on.soundcloud.com/dCMnT?_impcp=1\n",
      "https://soundcloud.com/listen2arabit/8cfi5q0favtk?si=7a65d0020c054f8ab3bacc5b5af3a784&utm_source=clipboard&utm_medium=text&utm_campaign=social_sharing\n",
      "Stream תוזע by Arabit | Listen online for free on SoundCloud\n",
      "https://on.soundcloud.com/uYpAo\n",
      "https://on.soundcloud.com/uYpAo?_impcp=1\n",
      "https://soundcloud.com/listen2arabit/xqnrhkiy4v1k?si=7a65d0020c054f8ab3bacc5b5af3a784&utm_source=clipboard&utm_medium=text&utm_campaign=social_sharing\n",
      "Stream ממת'ל by Arabit | Listen online for free on SoundCloud\n",
      "https://on.soundcloud.com/bYczT?fbclid=IwAR0KcR3y-gRX4PnKdmRYbG2GqEJY6upSeBTQPcduG4R6FUG4nivNmaxWdfU\n",
      "https://on.soundcloud.com/bYczT?_impcp=1\n",
      "https://soundcloud.com/listen2arabit/kdlbz6xbfime?si=7a65d0020c054f8ab3bacc5b5af3a784&utm_source=clipboard&utm_medium=text&utm_campaign=social_sharing\n",
      "Stream עלף by Arabit | Listen online for free on SoundCloud\n",
      "https://on.soundcloud.com/mxxNc\n",
      "https://on.soundcloud.com/mxxNc?_impcp=1\n",
      "https://soundcloud.com/listen2arabit/etpy01uq9iwj?si=7a65d0020c054f8ab3bacc5b5af3a784&utm_source=clipboard&utm_medium=text&utm_campaign=social_sharing\n",
      "Stream אראד by Arabit | Listen online for free on SoundCloud\n",
      "https://soundcloud.com/listen2arabit/xdv1fz96fczo\n",
      "https://soundcloud.com/listen2arabit/xdv1fz96fczo\n",
      "https://soundcloud.com/listen2arabit/xdv1fz96fczo\n",
      "Stream ראא'ד by Arabit | Listen online for free on SoundCloud\n",
      "https://on.soundcloud.com/4eDmg\n",
      "https://on.soundcloud.com/4eDmg?_impcp=1\n",
      "https://soundcloud.com/listen2arabit/op6idt7cvh7e?si=7a65d0020c054f8ab3bacc5b5af3a784&utm_source=clipboard&utm_medium=text&utm_campaign=social_sharing\n",
      "Stream קאע by Arabit | Listen online for free on SoundCloud\n",
      "https://on.soundcloud.com/5dwNm\n",
      "https://on.soundcloud.com/5dwNm?_impcp=1\n",
      "https://soundcloud.com/listen2arabit/5tcorme67kjl?si=7a65d0020c054f8ab3bacc5b5af3a784&utm_source=clipboard&utm_medium=text&utm_campaign=social_sharing\n",
      "Stream קתיל by Arabit | Listen online for free on SoundCloud\n",
      "https://on.soundcloud.com/QhHyy\n",
      "https://on.soundcloud.com/QhHyy?_impcp=1\n",
      "https://soundcloud.com/listen2arabit/ldtycc8mqngk?si=fdacf8d852994a008a4faa5e4636802e&utm_source=clipboard&utm_medium=text&utm_campaign=social_sharing\n",
      "Stream ח'נזיר by Arabit | Listen online for free on SoundCloud\n",
      "https://on.soundcloud.com/JjbXv?fbclid=IwAR12CQuxRXP8U5_EwaVeGXdSz05w9nQ-BnNfqK_GwwJsn5JfDxFBhwesN1Y\n",
      "https://on.soundcloud.com/JjbXv?_impcp=1\n",
      "https://soundcloud.com/listen2arabit/ylpxmvkul16v?si=fdacf8d852994a008a4faa5e4636802e&utm_source=clipboard&utm_medium=text&utm_campaign=social_sharing\n",
      "Stream זורק by Arabit | Listen online for free on SoundCloud\n",
      "https://on.soundcloud.com/s2osi?fbclid=IwAR1NsGgs7EtljjKJZVJ-AyZ1sOl7nWmBCpix5rJP3CnZDcEwlXMQlJDmZMw\n",
      "https://on.soundcloud.com/s2osi?_impcp=1\n",
      "https://soundcloud.com/listen2arabit/0exhmlk3mdcg?si=fdacf8d852994a008a4faa5e4636802e&utm_source=clipboard&utm_medium=text&utm_campaign=social_sharing\n",
      "Stream תוכל עלא אללה by Arabit | Listen online for free on SoundCloud\n",
      "https://soundcloud.com/listen2arabit/pg7xzg29nwov?fbclid=IwAR3LN8GYZZZqRtqegpKpU9g-0cnx-AcLnGnWAsNQshHWeWKJYuMvaHwGOFM\n",
      "https://soundcloud.com/listen2arabit/pg7xzg29nwov\n",
      "https://soundcloud.com/listen2arabit/pg7xzg29nwov\n",
      "Stream וכאלה by Arabit | Listen online for free on SoundCloud\n",
      "https://on.soundcloud.com/GQsoq?fbclid=IwAR21grm9DihemktO4eyU565G61HR4LnIvkqsai93mefz9UI68lukxBTaL3E\n",
      "https://on.soundcloud.com/GQsoq?_impcp=1\n",
      "https://soundcloud.com/listen2arabit/xoj6ginuyybc?si=fdacf8d852994a008a4faa5e4636802e&utm_source=clipboard&utm_medium=text&utm_campaign=social_sharing\n",
      "Stream קילולה by Arabit | Listen online for free on SoundCloud\n",
      "https://on.soundcloud.com/QgiRQ?fbclid=IwAR02V_NMZoUyCmm7cEjU9ix5U1udqSjFzh63qFeVVTDKoAPgtcAUNoA2Jp0\n",
      "https://on.soundcloud.com/QgiRQ?_impcp=1\n",
      "https://soundcloud.com/listen2arabit/p4eruafxy6p4?si=fdacf8d852994a008a4faa5e4636802e&utm_source=clipboard&utm_medium=text&utm_campaign=social_sharing\n",
      "Stream ע'רקאן by Arabit | Listen online for free on SoundCloud\n",
      "https://soundcloud.com/listen2arabit/5znwka11yn5x\n",
      "https://soundcloud.com/listen2arabit/5znwka11yn5x\n",
      "https://soundcloud.com/listen2arabit/5znwka11yn5x\n",
      "Stream ע'רק by Arabit | Listen online for free on SoundCloud\n",
      "https://on.soundcloud.com/dJvjd\n",
      "https://on.soundcloud.com/dJvjd?_impcp=1\n",
      "https://soundcloud.com/listen2arabit/mukjf02xnuiq?si=fdacf8d852994a008a4faa5e4636802e&utm_source=clipboard&utm_medium=text&utm_campaign=social_sharing\n",
      "Stream סמר by Arabit | Listen online for free on SoundCloud\n",
      "https://on.soundcloud.com/MmMTB\n",
      "https://on.soundcloud.com/MmMTB?_impcp=1\n",
      "https://soundcloud.com/listen2arabit/58izvwwfsbqt?si=fdacf8d852994a008a4faa5e4636802e&utm_source=clipboard&utm_medium=text&utm_campaign=social_sharing\n",
      "Stream סכמלה by Arabit | Listen online for free on SoundCloud\n",
      "https://on.soundcloud.com/TrfNh\n",
      "https://on.soundcloud.com/TrfNh?_impcp=1\n",
      "https://soundcloud.com/listen2arabit/52mwkfeogtmy?si=375f7bbf2ffe44b3ae25a0c270d6c409&utm_source=clipboard&utm_medium=text&utm_campaign=social_sharing\n",
      "Stream בושאר by Arabit | Listen online for free on SoundCloud\n",
      "https://on.soundcloud.com/5eivL\n",
      "https://on.soundcloud.com/5eivL?_impcp=1\n",
      "https://soundcloud.com/listen2arabit/u5qkdulmqvld?si=375f7bbf2ffe44b3ae25a0c270d6c409&utm_source=clipboard&utm_medium=text&utm_campaign=social_sharing\n",
      "Stream צבע'ה by Arabit | Listen online for free on SoundCloud\n",
      "https://on.soundcloud.com/z2B1J\n",
      "https://on.soundcloud.com/z2B1J?_impcp=1\n",
      "https://soundcloud.com/listen2arabit/zw5uvaskodo1?si=375f7bbf2ffe44b3ae25a0c270d6c409&utm_source=clipboard&utm_medium=text&utm_campaign=social_sharing\n",
      "Stream שאסע by Arabit | Listen online for free on SoundCloud\n",
      "https://on.soundcloud.com/kZSdo?fbclid=IwAR0JWw30LBSiMw7BzKqLsJUdVgkzrrejKxjZkZYDDpmXHWt6JPZUlMB1h5E\n",
      "https://on.soundcloud.com/kZSdo?_impcp=1\n",
      "https://soundcloud.com/listen2arabit/qyc6gl9e0xit?si=375f7bbf2ffe44b3ae25a0c270d6c409&utm_source=clipboard&utm_medium=text&utm_campaign=social_sharing\n",
      "Stream מקדס by Arabit | Listen online for free on SoundCloud\n",
      "https://soundcloud.com/listen2arabit/qrlbb6fwp9hd\n",
      "https://soundcloud.com/listen2arabit/qrlbb6fwp9hd\n",
      "https://soundcloud.com/listen2arabit/qrlbb6fwp9hd\n",
      "Stream בית אלמקדס by Arabit | Listen online for free on SoundCloud\n",
      "https://on.soundcloud.com/ikdxv?fbclid=IwAR2wobcbVqe92lw4KDeWrz13KO3t14w65r2KroQ3OXVoIe86PloPsnCypqY\n",
      "https://on.soundcloud.com/ikdxv?_impcp=1\n",
      "https://soundcloud.com/listen2arabit/x7n9nlffvrlh?si=375f7bbf2ffe44b3ae25a0c270d6c409&utm_source=clipboard&utm_medium=text&utm_campaign=social_sharing\n",
      "Stream אטמאנאן by Arabit | Listen online for free on SoundCloud\n",
      "https://soundcloud.com/listen2arabit/gvrfb29ep2ly?fbclid=IwAR03iziQXtkpT_KmPNb9MGmgQy0KlJF_FxinoNIXsnf9osV9Ve5TV6SsrHA\n",
      "https://soundcloud.com/listen2arabit/gvrfb29ep2ly\n",
      "https://soundcloud.com/listen2arabit/gvrfb29ep2ly\n",
      "Stream מטמאן by Arabit | Listen online for free on SoundCloud\n",
      "https://on.soundcloud.com/bMHJs?fbclid=IwAR2R9Cxa3ir1uJ--uYu4QBCUruBrLs-jAzQYAxOXK63gdGnKAeDzIYBf9VE\n",
      "https://on.soundcloud.com/bMHJs?_impcp=1\n",
      "https://soundcloud.com/listen2arabit/hbodxfzvl45s?si=375f7bbf2ffe44b3ae25a0c270d6c409&utm_source=clipboard&utm_medium=text&utm_campaign=social_sharing\n",
      "Stream רד'ילה by Arabit | Listen online for free on SoundCloud\n",
      "https://on.soundcloud.com/UGuRw\n",
      "https://on.soundcloud.com/UGuRw?_impcp=1\n",
      "https://soundcloud.com/listen2arabit/yf69qxllhj3k?si=375f7bbf2ffe44b3ae25a0c270d6c409&utm_source=clipboard&utm_medium=text&utm_campaign=social_sharing\n",
      "Stream חקד by Arabit | Listen online for free on SoundCloud\n",
      "https://on.soundcloud.com/auvdi?fbclid=IwAR06__bxe9aOcsdCYyvK74JD6IwZ6JBAIc1NA6MQojsspnIW3wGJUmBlxFk\n",
      "https://on.soundcloud.com/auvdi?_impcp=1\n",
      "https://soundcloud.com/listen2arabit/wiykz2lyzub1?si=27454bebcff8450eadff72caaea8b7ee&utm_source=clipboard&utm_medium=text&utm_campaign=social_sharing\n",
      "Stream חות by Arabit | Listen online for free on SoundCloud\n",
      "https://on.soundcloud.com/4ph3C?fbclid=IwAR16cVxhi6NC7MZFCM-_YZAAeEttGMXJdruMJ8GgRtcAQhjurn6N-d-e1Yo\n",
      "https://on.soundcloud.com/4ph3C?_impcp=1\n",
      "https://soundcloud.com/listen2arabit/h5r53nqnoaox?si=27454bebcff8450eadff72caaea8b7ee&utm_source=clipboard&utm_medium=text&utm_campaign=social_sharing\n",
      "Stream סנדרה by Arabit | Listen online for free on SoundCloud\n",
      "https://on.soundcloud.com/49azN\n",
      "https://on.soundcloud.com/49azN?_impcp=1\n",
      "https://soundcloud.com/listen2arabit/m0w4txu8ejdj?si=27454bebcff8450eadff72caaea8b7ee&utm_source=clipboard&utm_medium=text&utm_campaign=social_sharing\n",
      "Stream דמאע' by Arabit | Listen online for free on SoundCloud\n",
      "https://on.soundcloud.com/upRuV?fbclid=IwAR23C8KzH_zIVASdN3QWpp2xOM0g33Jal6Cv3--Ds9E_9WI52TybPgWnjGg\n",
      "https://on.soundcloud.com/upRuV?_impcp=1\n",
      "https://soundcloud.com/listen2arabit/w7mutvcwvxqe?si=27454bebcff8450eadff72caaea8b7ee&utm_source=clipboard&utm_medium=text&utm_campaign=social_sharing\n",
      "Stream מרחלה by Arabit | Listen online for free on SoundCloud\n",
      "https://soundcloud.com/listen2arabit/rtmgxfwopkq6\n",
      "https://soundcloud.com/listen2arabit/rtmgxfwopkq6\n",
      "https://soundcloud.com/listen2arabit/rtmgxfwopkq6\n",
      "Stream רחיל by Arabit | Listen online for free on SoundCloud\n",
      "https://on.soundcloud.com/6PpJu?fbclid=IwAR1nRVQ7f_7HwdJSI7mHStuMWY612T-Y0Zn1A-H9BMmAr929V1UsyuoQoX4\n",
      "https://on.soundcloud.com/6PpJu?_impcp=1\n",
      "https://soundcloud.com/listen2arabit/zkh3nhi1mluk?si=27454bebcff8450eadff72caaea8b7ee&utm_source=clipboard&utm_medium=text&utm_campaign=social_sharing\n",
      "Stream מהנה by Arabit | Listen online for free on SoundCloud\n",
      "https://on.soundcloud.com/uYV4m\n",
      "https://on.soundcloud.com/uYV4m?_impcp=1\n",
      "https://soundcloud.com/listen2arabit/qbqrc5wtqpa6?si=27454bebcff8450eadff72caaea8b7ee&utm_source=clipboard&utm_medium=text&utm_campaign=social_sharing\n",
      "Stream תדנא by Arabit | Listen online for free on SoundCloud\n",
      "https://on.soundcloud.com/g7cPm?fbclid=IwAR1iRzK-TksEv2wZxh8gq1M2KGxqSX89CoL_eGLKEB97SqL7vftUS8YpGJ0\n",
      "https://on.soundcloud.com/g7cPm?_impcp=1\n",
      "https://soundcloud.com/listen2arabit/ybji69codtqd?si=27454bebcff8450eadff72caaea8b7ee&utm_source=clipboard&utm_medium=text&utm_campaign=social_sharing\n",
      "Stream בויג'י by Arabit | Listen online for free on SoundCloud\n",
      "https://on.soundcloud.com/vMiK1\n",
      "https://on.soundcloud.com/vMiK1?_impcp=1\n",
      "https://soundcloud.com/listen2arabit/pgenslnmld55?si=27454bebcff8450eadff72caaea8b7ee&utm_source=clipboard&utm_medium=text&utm_campaign=social_sharing\n",
      "Stream זקה by Arabit | Listen online for free on SoundCloud\n",
      "https://on.soundcloud.com/8kQe1\n",
      "https://on.soundcloud.com/8kQe1?_impcp=1\n",
      "https://soundcloud.com/listen2arabit/veznrcapouw8?si=27454bebcff8450eadff72caaea8b7ee&utm_source=clipboard&utm_medium=text&utm_campaign=social_sharing\n",
      "Stream הנאדי by Arabit | Listen online for free on SoundCloud\n",
      "https://on.soundcloud.com/U9y89\n",
      "https://on.soundcloud.com/U9y89?_impcp=1\n",
      "https://soundcloud.com/listen2arabit/4gdu1uoscnrx?si=27454bebcff8450eadff72caaea8b7ee&utm_source=clipboard&utm_medium=text&utm_campaign=social_sharing\n",
      "Stream מטלוב by Arabit | Listen online for free on SoundCloud\n",
      "https://on.soundcloud.com/TDqDv\n",
      "https://on.soundcloud.com/TDqDv?_impcp=1\n",
      "https://soundcloud.com/listen2arabit/usbmu8nucbsq?si=27454bebcff8450eadff72caaea8b7ee&utm_source=clipboard&utm_medium=text&utm_campaign=social_sharing\n",
      "Stream מלעקה by Arabit | Listen online for free on SoundCloud\n",
      "https://on.soundcloud.com/5kps6\n",
      "https://on.soundcloud.com/5kps6?_impcp=1\n",
      "https://soundcloud.com/listen2arabit/mjwgr3taul9w?si=27454bebcff8450eadff72caaea8b7ee&utm_source=clipboard&utm_medium=text&utm_campaign=social_sharing\n",
      "Stream חצ'רת ג'נאבכ by Arabit | Listen online for free on SoundCloud\n",
      "https://on.soundcloud.com/z16xq\n",
      "https://on.soundcloud.com/z16xq?_impcp=1\n",
      "https://soundcloud.com/listen2arabit/ojt9hekqcv99?si=27454bebcff8450eadff72caaea8b7ee&utm_source=clipboard&utm_medium=text&utm_campaign=social_sharing\n",
      "Stream תלאשא by Arabit | Listen online for free on SoundCloud\n",
      "https://on.soundcloud.com/ke1D9\n",
      "https://on.soundcloud.com/ke1D9?_impcp=1\n",
      "https://soundcloud.com/listen2arabit/xn9vykz5ojqb?si=27454bebcff8450eadff72caaea8b7ee&utm_source=clipboard&utm_medium=text&utm_campaign=social_sharing\n",
      "Stream נסים by Arabit | Listen online for free on SoundCloud\n",
      "https://on.soundcloud.com/KSpgW?fbclid=IwAR1QyPtNCQa1lzE9luF7WBpDKRMEPCWH1EgHYAoZIfaKK-lYwh9QW-wADc4\n",
      "https://on.soundcloud.com/KSpgW?_impcp=1\n",
      "https://soundcloud.com/listen2arabit/jpminrrp5cjr?si=847f67a95c5044fbbde306d543877a63&utm_source=clipboard&utm_medium=text&utm_campaign=social_sharing\n",
      "Stream תמזק by Arabit | Listen online for free on SoundCloud\n",
      "https://on.soundcloud.com/bePxG?fbclid=IwAR3PNsIH0orIPjHBhlD2zk6K-Z6taBoMR3cWH_sUMSzOtEfMMkPFVEAFl4Q\n",
      "https://on.soundcloud.com/bePxG?_impcp=1\n",
      "https://soundcloud.com/listen2arabit/csfs9gjmz6rh?si=847f67a95c5044fbbde306d543877a63&utm_source=clipboard&utm_medium=text&utm_campaign=social_sharing\n",
      "Stream מצנע by Arabit | Listen online for free on SoundCloud\n",
      "https://on.soundcloud.com/6v6Fn\n",
      "https://on.soundcloud.com/6v6Fn?_impcp=1\n",
      "https://soundcloud.com/listen2arabit/cfaf1eaqlbgw?si=847f67a95c5044fbbde306d543877a63&utm_source=clipboard&utm_medium=text&utm_campaign=social_sharing\n",
      "Stream תטביק by Arabit | Listen online for free on SoundCloud\n",
      "https://soundcloud.com/listen2arabit/fqkjo96ctiy4\n",
      "https://soundcloud.com/listen2arabit/fqkjo96ctiy4\n",
      "https://soundcloud.com/listen2arabit/fqkjo96ctiy4\n",
      "Stream טאבק by Arabit | Listen online for free on SoundCloud\n",
      "https://on.soundcloud.com/9Y4gf\n",
      "https://on.soundcloud.com/9Y4gf?_impcp=1\n",
      "https://soundcloud.com/listen2arabit/ror9s2goit8o?si=847f67a95c5044fbbde306d543877a63&utm_source=clipboard&utm_medium=text&utm_campaign=social_sharing\n",
      "Stream טאאפה by Arabit | Listen online for free on SoundCloud\n",
      "https://on.soundcloud.com/k2KHj?fbclid=IwAR0aZHeWQR9zB8n7qB-XhOvfqiC1YYHOtiG0Xm8TBb6el4P2Gim1ftqZ9bI\n",
      "https://on.soundcloud.com/k2KHj?_impcp=1\n",
      "https://soundcloud.com/listen2arabit/wrnxi3mav7f3?si=847f67a95c5044fbbde306d543877a63&utm_source=clipboard&utm_medium=text&utm_campaign=social_sharing\n",
      "Stream עאן by Arabit | Listen online for free on SoundCloud\n",
      "https://on.soundcloud.com/XAqXW\n",
      "https://on.soundcloud.com/XAqXW?_impcp=1\n",
      "https://soundcloud.com/listen2arabit/wrcloq049jgb?si=847f67a95c5044fbbde306d543877a63&utm_source=clipboard&utm_medium=text&utm_campaign=social_sharing\n",
      "Stream תשנג' by Arabit | Listen online for free on SoundCloud\n",
      "https://on.soundcloud.com/6JaTm?fbclid=IwAR15PYJZZ68X8Ecqz_8VwPHozJATdszQOYcsAY5bo3QfjYmkfBqKxOxdXwo\n",
      "https://on.soundcloud.com/6JaTm?_impcp=1\n",
      "https://soundcloud.com/listen2arabit/cr1snqryi22m?si=847f67a95c5044fbbde306d543877a63&utm_source=clipboard&utm_medium=text&utm_campaign=social_sharing\n",
      "Stream להפה by Arabit | Listen online for free on SoundCloud\n",
      "https://on.soundcloud.com/3SfS6\n",
      "https://on.soundcloud.com/3SfS6?_impcp=1\n",
      "https://soundcloud.com/listen2arabit/vmjzaw5s82kg?si=20b2d91f9d174acdb9fdaa39f0c09276&utm_source=clipboard&utm_medium=text&utm_campaign=social_sharing\n",
      "Stream נקר by Arabit | Listen online for free on SoundCloud\n",
      "https://on.soundcloud.com/FuDW8\n",
      "https://on.soundcloud.com/FuDW8?_impcp=1\n",
      "https://soundcloud.com/listen2arabit/olqhtib4gohl?si=20b2d91f9d174acdb9fdaa39f0c09276&utm_source=clipboard&utm_medium=text&utm_campaign=social_sharing\n",
      "Stream סם בדנכ by Arabit | Listen online for free on SoundCloud\n",
      "https://on.soundcloud.com/ioZxQ?fbclid=IwAR0SLw9tumLpfMkv53XXuVimQ_t6EWtTfwCpSGPxinMohPgLgvjOLRHrE0Y\n",
      "https://on.soundcloud.com/ioZxQ?_impcp=1\n",
      "https://soundcloud.com/listen2arabit/uv0dlv8xboth?si=20b2d91f9d174acdb9fdaa39f0c09276&utm_source=clipboard&utm_medium=text&utm_campaign=social_sharing\n",
      "Stream קריר אלעין by Arabit | Listen online for free on SoundCloud\n",
      "https://soundcloud.com/listen2arabit/w67sbhygknh0\n",
      "https://soundcloud.com/listen2arabit/w67sbhygknh0\n",
      "https://soundcloud.com/listen2arabit/w67sbhygknh0\n",
      "Stream קראר by Arabit | Listen online for free on SoundCloud\n",
      "https://on.soundcloud.com/zbfVc\n",
      "https://on.soundcloud.com/zbfVc?_impcp=1\n",
      "https://soundcloud.com/listen2arabit/aaaqzeiadweb?si=20b2d91f9d174acdb9fdaa39f0c09276&utm_source=clipboard&utm_medium=text&utm_campaign=social_sharing\n",
      "Stream טעמא by Arabit | Listen online for free on SoundCloud\n",
      "https://soundcloud.com/listen2arabit/0jxkubpap0pf?fbclid=IwAR1lhkhRWPfLv_aIUyM_z8Nuc8e4JPrWqtgTXMTkocTE5fNE26eHMApA8sk\n",
      "https://soundcloud.com/listen2arabit/0jxkubpap0pf\n",
      "https://soundcloud.com/listen2arabit/0jxkubpap0pf\n",
      "Stream טעאם by Arabit | Listen online for free on SoundCloud\n",
      "https://soundcloud.com/listen2arabit/gawy8tzvovuz?fbclid=IwAR0V_cp354kYpOhIY73A8soDorg8TxUUEyakDt1tiWPo8G8dxjbCStD9gYo\n",
      "https://soundcloud.com/listen2arabit/gawy8tzvovuz\n",
      "https://soundcloud.com/listen2arabit/gawy8tzvovuz\n",
      "Stream תטעים by Arabit | Listen online for free on SoundCloud\n",
      "https://on.soundcloud.com/Ktxg1\n",
      "https://on.soundcloud.com/Ktxg1?_impcp=1\n",
      "https://soundcloud.com/listen2arabit/ynsxjcepvdmc?si=20b2d91f9d174acdb9fdaa39f0c09276&utm_source=clipboard&utm_medium=text&utm_campaign=social_sharing\n",
      "Stream מט'אהרה by Arabit | Listen online for free on SoundCloud\n",
      "https://soundcloud.com/listen2arabit/gj436i65yqqw\n",
      "https://soundcloud.com/listen2arabit/gj436i65yqqw\n",
      "https://soundcloud.com/listen2arabit/gj436i65yqqw\n",
      "Stream מתט׳אהרין by Arabit | Listen online for free on SoundCloud\n",
      "https://on.soundcloud.com/bUVS7?fbclid=IwAR2XyS6JVN867dA_-7FRBwOVG9OdQk9qtD0TqOoLDD_RpT2FqZ3XE1hYsco\n",
      "https://on.soundcloud.com/bUVS7?_impcp=1\n",
      "https://soundcloud.com/listen2arabit/9sffi8wtfivj?si=20b2d91f9d174acdb9fdaa39f0c09276&utm_source=clipboard&utm_medium=text&utm_campaign=social_sharing\n",
      "Stream נומה by Arabit | Listen online for free on SoundCloud\n",
      "https://on.soundcloud.com/Ma1uE?fbclid=IwAR3UPX8yDw8wmSvRoERc4VemBA5w_nlO8X4fzEzseptxebKyZssgdMnsdrI\n",
      "https://on.soundcloud.com/Ma1uE?_impcp=1\n",
      "https://soundcloud.com/listen2arabit/qcekhhgz5kpd?si=20b2d91f9d174acdb9fdaa39f0c09276&utm_source=clipboard&utm_medium=text&utm_campaign=social_sharing\n",
      "Stream ברתקאל by Arabit | Listen online for free on SoundCloud\n",
      "https://on.soundcloud.com/JuZjb?fbclid=IwAR211CBID3ifET_dbdtOPTYg5XrWuQabeFgQxIkfjprP9xTVv2nodzA2UTw\n",
      "https://on.soundcloud.com/JuZjb?_impcp=1\n",
      "https://soundcloud.com/listen2arabit/6juuqhshga8z?si=25529cf255e046e19a06561a19f5f806&utm_source=clipboard&utm_medium=text&utm_campaign=social_sharing\n",
      "Stream מלכת ג'מאל by Arabit | Listen online for free on SoundCloud\n",
      "https://on.soundcloud.com/kDz56\n",
      "https://on.soundcloud.com/kDz56?_impcp=1\n",
      "https://soundcloud.com/listen2arabit/d17bjfklrjyj?si=45cbfd58cf6b4a7188994e2a3be351f0&utm_source=clipboard&utm_medium=text&utm_campaign=social_sharing\n",
      "Stream זעל by Arabit | Listen online for free on SoundCloud\n",
      "https://on.soundcloud.com/wnXkf?fbclid=IwAR0Jo-FQpNVCCNYYqJUQTOB2g_TWgekxl8f2rHpIGNFyMoQLWG0OLFwSE48\n",
      "https://on.soundcloud.com/wnXkf?_impcp=1\n",
      "https://soundcloud.com/listen2arabit/dcqi55ji8qg7?si=25529cf255e046e19a06561a19f5f806&utm_source=clipboard&utm_medium=text&utm_campaign=social_sharing\n",
      "Stream טביח' by Arabit | Listen online for free on SoundCloud\n",
      "https://on.soundcloud.com/kDysh?fbclid=IwAR1QMo0eaBvA1NiXzJV5hEAdv7aJsvnULHoNOgDyoNJzzG0-h_1nVMnwTTQ\n",
      "https://on.soundcloud.com/kDysh?_impcp=1\n",
      "https://soundcloud.com/listen2arabit/rf4kncvdjivg?si=25529cf255e046e19a06561a19f5f806&utm_source=clipboard&utm_medium=text&utm_campaign=social_sharing\n",
      "Stream פאת by Arabit | Listen online for free on SoundCloud\n",
      "https://on.soundcloud.com/oAu5V\n",
      "https://on.soundcloud.com/oAu5V?_impcp=1\n",
      "https://soundcloud.com/listen2arabit/o6grgz4d41gi?si=25529cf255e046e19a06561a19f5f806&utm_source=clipboard&utm_medium=text&utm_campaign=social_sharing\n",
      "Stream סבב by Arabit | Listen online for free on SoundCloud\n",
      "https://on.soundcloud.com/rdEi8\n",
      "https://on.soundcloud.com/rdEi8?_impcp=1\n",
      "https://soundcloud.com/listen2arabit/s8vjotnjposf?si=25529cf255e046e19a06561a19f5f806&utm_source=clipboard&utm_medium=text&utm_campaign=social_sharing\n",
      "Stream אנא ואיאכ by Arabit | Listen online for free on SoundCloud\n",
      "https://on.soundcloud.com/BhZbC\n",
      "https://on.soundcloud.com/BhZbC?_impcp=1\n",
      "https://soundcloud.com/listen2arabit/cffgw82ltckw?si=25529cf255e046e19a06561a19f5f806&utm_source=clipboard&utm_medium=text&utm_campaign=social_sharing\n",
      "Stream תל אביב by Arabit | Listen online for free on SoundCloud\n",
      "https://on.soundcloud.com/NpQjt\n",
      "https://on.soundcloud.com/NpQjt?_impcp=1\n",
      "https://soundcloud.com/listen2arabit/wrciibfdkbxw?si=bb0c39fd1db24361858dbcf3ed66428a&utm_source=clipboard&utm_medium=text&utm_campaign=social_sharing\n",
      "Stream בוק by Arabit | Listen online for free on SoundCloud\n",
      "https://on.soundcloud.com/63zEF\n",
      "https://on.soundcloud.com/63zEF?_impcp=1\n",
      "https://soundcloud.com/listen2arabit/vosvfnjlh0pw?si=bb0c39fd1db24361858dbcf3ed66428a&utm_source=clipboard&utm_medium=text&utm_campaign=social_sharing\n",
      "Stream פורן by Arabit | Listen online for free on SoundCloud\n",
      "https://on.soundcloud.com/j3XZH?fbclid=IwAR3g5AfMFRprUO3uA2zsBsrBlBfmkX58qF6MmU_7wuSbnFE1HG50XTTSwro\n",
      "https://on.soundcloud.com/j3XZH?_impcp=1\n",
      "https://soundcloud.com/listen2arabit/cajqkflirrjd?si=bb0c39fd1db24361858dbcf3ed66428a&utm_source=clipboard&utm_medium=text&utm_campaign=social_sharing\n",
      "Stream כסול by Arabit | Listen online for free on SoundCloud\n",
      "https://on.soundcloud.com/iNurk\n",
      "https://on.soundcloud.com/iNurk?_impcp=1\n",
      "https://soundcloud.com/listen2arabit/0tmyw845jkpt?si=bb0c39fd1db24361858dbcf3ed66428a&utm_source=clipboard&utm_medium=text&utm_campaign=social_sharing\n",
      "Stream רתבה by Arabit | Listen online for free on SoundCloud\n",
      "https://on.soundcloud.com/VdY9i?fbclid=IwAR1t8RzAfD5JnQoE19GJDsPYP38ustNYP2NKwvuKAE3pix1bMQ_qDEnWuWs\n",
      "https://on.soundcloud.com/VdY9i?_impcp=1\n",
      "https://soundcloud.com/listen2arabit/mjw7qecq30sw?si=bb0c39fd1db24361858dbcf3ed66428a&utm_source=clipboard&utm_medium=text&utm_campaign=social_sharing\n",
      "Stream ג'עפר by Arabit | Listen online for free on SoundCloud\n",
      "https://on.soundcloud.com/igoud?fbclid=IwAR3HKRydKVdfnvR5wP-lfDKSE9WjiCEQQWqfVT-4q38HvOUDdgfHzbIcxXQ\n",
      "https://on.soundcloud.com/igoud?_impcp=1\n",
      "https://soundcloud.com/listen2arabit/kcckcnrpjnp9?si=bb0c39fd1db24361858dbcf3ed66428a&utm_source=clipboard&utm_medium=text&utm_campaign=social_sharing\n",
      "Stream מואצלת עאמה by Arabit | Listen online for free on SoundCloud\n",
      "https://on.soundcloud.com/rNy3F?fbclid=IwAR1QRQQ43NNlYVAiR8CQqR9JP9Wh1uqcXgdDuMtmMzC-XNpgbo9mOLIpbdk\n",
      "https://on.soundcloud.com/rNy3F?_impcp=1\n",
      "https://soundcloud.com/listen2arabit/qh8muwp3egri?si=6157f469e8324eaea9b44cd97da31f01&utm_source=clipboard&utm_medium=text&utm_campaign=social_sharing\n",
      "Stream ח'לקת רבנא by Arabit | Listen online for free on SoundCloud\n",
      "https://soundcloud.com/listen2arabit/hfrddzviwomw?fbclid=IwAR0AtKLF2flU76KGVf5hEyDtq8-et_iJCN7-W88Z3n64ZqOcmwPUNVnwobg\n",
      "https://soundcloud.com/listen2arabit/hfrddzviwomw\n",
      "https://soundcloud.com/listen2arabit/hfrddzviwomw\n",
      "Stream אח'לאק by Arabit | Listen online for free on SoundCloud\n",
      "https://on.soundcloud.com/S3nNQ?fbclid=IwAR1xDXYvKtmMWYVEvkSgDZLeA9ev4f5taMBtBZ23WumZAc_NJpQOLwXPc3k\n",
      "https://on.soundcloud.com/S3nNQ?_impcp=1\n",
      "https://soundcloud.com/listen2arabit/4b9c0wuruiyj?si=6157f469e8324eaea9b44cd97da31f01&utm_source=clipboard&utm_medium=text&utm_campaign=social_sharing\n",
      "Stream צידליה by Arabit | Listen online for free on SoundCloud\n",
      "https://on.soundcloud.com/ZQ7Xw\n",
      "https://on.soundcloud.com/ZQ7Xw?_impcp=1\n",
      "https://soundcloud.com/listen2arabit/qmbfkuu0gt1a?si=6157f469e8324eaea9b44cd97da31f01&utm_source=clipboard&utm_medium=text&utm_campaign=social_sharing\n",
      "Stream תמייז by Arabit | Listen online for free on SoundCloud\n",
      "https://on.soundcloud.com/Cwdxi\n",
      "https://on.soundcloud.com/Cwdxi?_impcp=1\n",
      "https://soundcloud.com/listen2arabit/kn5se45sapim?si=6157f469e8324eaea9b44cd97da31f01&utm_source=clipboard&utm_medium=text&utm_campaign=social_sharing\n",
      "Stream וזיר by Arabit | Listen online for free on SoundCloud\n",
      "https://soundcloud.com/listen2arabit/hd1parnxikq2\n",
      "https://soundcloud.com/listen2arabit/hd1parnxikq2\n",
      "https://soundcloud.com/listen2arabit/hd1parnxikq2\n",
      "Stream וזר by Arabit | Listen online for free on SoundCloud\n",
      "https://on.soundcloud.com/5XuGL\n",
      "https://on.soundcloud.com/5XuGL?_impcp=1\n",
      "https://soundcloud.com/listen2arabit/k37vkycnmudo?si=6157f469e8324eaea9b44cd97da31f01&utm_source=clipboard&utm_medium=text&utm_campaign=social_sharing\n",
      "Stream מיועה by Arabit | Listen online for free on SoundCloud\n",
      "https://on.soundcloud.com/oS4st?fbclid=IwAR3p_93HgWdinTcTlhL8JyJB1dQdfYcccrkOUfisqsrv_WuDSG0L0FnMKn4\n",
      "https://on.soundcloud.com/oS4st?_impcp=1\n",
      "https://soundcloud.com/listen2arabit/nsladrefcgfk?si=6157f469e8324eaea9b44cd97da31f01&utm_source=clipboard&utm_medium=text&utm_campaign=social_sharing\n",
      "Stream דעמ אלטפל by Arabit | Listen online for free on SoundCloud\n",
      "https://soundcloud.com/listen2arabit/t39mj3raafua\n",
      "https://soundcloud.com/listen2arabit/t39mj3raafua\n",
      "https://soundcloud.com/listen2arabit/t39mj3raafua\n",
      "Stream טפל by Arabit | Listen online for free on SoundCloud\n",
      "https://on.soundcloud.com/Uzdzv?fbclid=IwAR3untAEJRrHgID5rNPFkWwdkf6R0rUHsbSZLSen7YJ-A55YkG5Mz3mWvEE\n",
      "https://on.soundcloud.com/Uzdzv?_impcp=1\n",
      "https://soundcloud.com/listen2arabit/4nrdlqpgfpku?si=48b524c16b964557a20dba1e11eab297&utm_source=clipboard&utm_medium=text&utm_campaign=social_sharing\n",
      "Stream ראוף by Arabit | Listen online for free on SoundCloud\n",
      "https://on.soundcloud.com/dNoHj?fbclid=IwAR0dd0M1F7loqktHSXtcz_6RmOvd7zPNXDVkxkDh85wWM3OuaYCuc2TVkbk\n",
      "https://on.soundcloud.com/dNoHj?_impcp=1\n",
      "https://soundcloud.com/listen2arabit/7ztf2kfein9h?si=48b524c16b964557a20dba1e11eab297&utm_source=clipboard&utm_medium=text&utm_campaign=social_sharing\n",
      "Stream כפתה by Arabit | Listen online for free on SoundCloud\n",
      "https://on.soundcloud.com/HRrk8?fbclid=IwAR3ln6EVWaGxd1cboMiGopd04a43tmFRvz46S7B2irobOPKf5rrZhohzvdg\n",
      "https://on.soundcloud.com/HRrk8?_impcp=1\n",
      "https://soundcloud.com/listen2arabit/nzanzua9uh7m?si=48b524c16b964557a20dba1e11eab297&utm_source=clipboard&utm_medium=text&utm_campaign=social_sharing\n",
      "Stream אהל by Arabit | Listen online for free on SoundCloud\n",
      "https://on.soundcloud.com/UwkX3\n",
      "https://on.soundcloud.com/UwkX3?_impcp=1\n",
      "https://soundcloud.com/listen2arabit/qjzzwbe4agvb?si=48b524c16b964557a20dba1e11eab297&utm_source=clipboard&utm_medium=text&utm_campaign=social_sharing\n",
      "Stream חשום by Arabit | Listen online for free on SoundCloud\n",
      "https://on.soundcloud.com/8gcJc?fbclid=IwAR0cFjRb54SB7rqUujpYI6_lYD4JewaOoU1mSWD9LXOosBfQWlJKpJWWeTI\n",
      "https://on.soundcloud.com/8gcJc?_impcp=1\n",
      "https://soundcloud.com/listen2arabit/wfsnomd2yght?si=48b524c16b964557a20dba1e11eab297&utm_source=clipboard&utm_medium=text&utm_campaign=social_sharing\n",
      "Stream כאנון אלאול by Arabit | Listen online for free on SoundCloud\n",
      "https://on.soundcloud.com/uPR77?fbclid=IwAR2tD6zkWeU3-Wqj_4WdjvwMASYEeg4QJgy9Y-47xLKMLFvBm_WfNhmnRJE\n",
      "https://on.soundcloud.com/uPR77?_impcp=1\n",
      "https://soundcloud.com/listen2arabit/the3zm0eqcvx?si=48b524c16b964557a20dba1e11eab297&utm_source=clipboard&utm_medium=text&utm_campaign=social_sharing\n",
      "Stream שמר by Arabit | Listen online for free on SoundCloud\n",
      "https://on.soundcloud.com/XQSDc\n",
      "https://on.soundcloud.com/XQSDc?_impcp=1\n",
      "https://soundcloud.com/listen2arabit/f5rjpdh88rrr?si=48b524c16b964557a20dba1e11eab297&utm_source=clipboard&utm_medium=text&utm_campaign=social_sharing\n",
      "Stream קחט by Arabit | Listen online for free on SoundCloud\n",
      "https://on.soundcloud.com/Us1KA\n",
      "https://on.soundcloud.com/Us1KA?_impcp=1\n",
      "https://soundcloud.com/listen2arabit/te2j2hnvt1bx?si=0c6b6889a42341caa36813fda72fa4bf&utm_source=clipboard&utm_medium=text&utm_campaign=social_sharing\n",
      "Stream נהיק by Arabit | Listen online for free on SoundCloud\n",
      "https://on.soundcloud.com/5XFFv\n",
      "https://on.soundcloud.com/5XFFv?_impcp=1\n",
      "https://soundcloud.com/listen2arabit/ub2mq0asgqyy?si=0c6b6889a42341caa36813fda72fa4bf&utm_source=clipboard&utm_medium=text&utm_campaign=social_sharing\n",
      "Stream ח'ש by Arabit | Listen online for free on SoundCloud\n",
      "https://on.soundcloud.com/gRZAs?fbclid=IwAR0KtsZ9Yhg_RzHf484HEXdRdkeXtMqvnPo1jXz9dSf8JeDmetRievSBAPQ\n",
      "https://on.soundcloud.com/gRZAs?_impcp=1\n",
      "https://soundcloud.com/listen2arabit/9bygciwtn7pq?si=0c6b6889a42341caa36813fda72fa4bf&utm_source=clipboard&utm_medium=text&utm_campaign=social_sharing\n",
      "Stream רד by Arabit | Listen online for free on SoundCloud\n",
      "https://on.soundcloud.com/RQXqP?fbclid=IwAR0LU3FQEro3OPY8kXZ31dc_HtMjiAtkwGxFmNFxtNmlJpdf_moJ1hKxJvk\n",
      "https://on.soundcloud.com/RQXqP?_impcp=1\n",
      "https://soundcloud.com/listen2arabit/5ry5wifsgo7t?si=0c6b6889a42341caa36813fda72fa4bf&utm_source=clipboard&utm_medium=text&utm_campaign=social_sharing\n",
      "Stream תאפה by Arabit | Listen online for free on SoundCloud\n",
      "https://on.soundcloud.com/jzBxj\n",
      "https://on.soundcloud.com/jzBxj?_impcp=1\n",
      "https://soundcloud.com/listen2arabit/iirmf2vemd8z?si=0c6b6889a42341caa36813fda72fa4bf&utm_source=clipboard&utm_medium=text&utm_campaign=social_sharing\n",
      "Stream זהרה by Arabit | Listen online for free on SoundCloud\n",
      "https://on.soundcloud.com/eBKdJ?fbclid=IwAR3eMR8aRoywGT1oQvek_oAIqbiw2xjctvkZOV3yZHr0mSqUYHOz4tdy-mA\n",
      "https://on.soundcloud.com/eBKdJ?_impcp=1\n",
      "https://soundcloud.com/listen2arabit/gxz5naw16afj?si=0c6b6889a42341caa36813fda72fa4bf&utm_source=clipboard&utm_medium=text&utm_campaign=social_sharing\n",
      "Stream חד'ר by Arabit | Listen online for free on SoundCloud\n",
      "https://on.soundcloud.com/9exVw\n",
      "https://on.soundcloud.com/9exVw?_impcp=1\n",
      "https://soundcloud.com/listen2arabit/msiyxjh4ohew?si=0c6b6889a42341caa36813fda72fa4bf&utm_source=clipboard&utm_medium=text&utm_campaign=social_sharing\n",
      "Stream פתש by Arabit | Listen online for free on SoundCloud\n",
      "https://on.soundcloud.com/Ce5iT?fbclid=IwAR2sKZkFM1NgbsXUUqwxXKMvUT8e6hOWyqQtTjsG9YUtGTkyDQkkld2pp9w\n",
      "https://on.soundcloud.com/Ce5iT?_impcp=1\n",
      "https://soundcloud.com/listen2arabit/jqvmvirlzt7q?si=1984fc590e0c427dae3474104f04eecd&utm_source=clipboard&utm_medium=text&utm_campaign=social_sharing\n",
      "Stream טפא by Arabit | Listen online for free on SoundCloud\n",
      "https://on.soundcloud.com/DQLJN?fbclid=IwAR0qYQd8TtJjA7q2jp22CGnu948LAP19WNyUkOkafk1tSJWThc224QqREEE\n",
      "https://on.soundcloud.com/DQLJN?_impcp=1\n",
      "https://soundcloud.com/listen2arabit/ap9n051dnxdk?si=1984fc590e0c427dae3474104f04eecd&utm_source=clipboard&utm_medium=text&utm_campaign=social_sharing\n",
      "Stream מעראג' by Arabit | Listen online for free on SoundCloud\n",
      "https://on.soundcloud.com/AbJsU?fbclid=IwAR3ge1IYH3AcIYd3MV2nqR0gpyge8M37-wVdNJIqTP4k8XByLqvdTOiX0UA\n",
      "https://on.soundcloud.com/AbJsU?_impcp=1\n",
      "https://soundcloud.com/listen2arabit/iknfnzpxopim?si=1984fc590e0c427dae3474104f04eecd&utm_source=clipboard&utm_medium=text&utm_campaign=social_sharing\n",
      "Stream קלקאן by Arabit | Listen online for free on SoundCloud\n",
      "https://soundcloud.com/listen2arabit/nwzg8xxmwapq\n",
      "https://soundcloud.com/listen2arabit/nwzg8xxmwapq\n",
      "https://soundcloud.com/listen2arabit/nwzg8xxmwapq\n",
      "Stream קלק by Arabit | Listen online for free on SoundCloud\n",
      "https://on.soundcloud.com/5F2oh?fbclid=IwAR35DFVd9kUXfZ2N4OnLiqJgNfeATijhxQG7j4MXH0e2W5NOC7OOHGzo2sA\n",
      "https://on.soundcloud.com/5F2oh?_impcp=1\n",
      "https://soundcloud.com/listen2arabit/bvwb0ubq5zfn?si=1984fc590e0c427dae3474104f04eecd&utm_source=clipboard&utm_medium=text&utm_campaign=social_sharing\n",
      "Stream פקע by Arabit | Listen online for free on SoundCloud\n",
      "https://on.soundcloud.com/LfBDB?fbclid=IwAR06lwEd2WmGKuGxch43EVZNobh7hRZ-0fysNGEpyzZ-fEae0mH9qOAq1wA\n",
      "https://on.soundcloud.com/LfBDB?_impcp=1\n",
      "https://soundcloud.com/listen2arabit/h3ujonttq7wc?si=1984fc590e0c427dae3474104f04eecd&utm_source=clipboard&utm_medium=text&utm_campaign=social_sharing\n",
      "Stream הויה by Arabit | Listen online for free on SoundCloud\n",
      "https://on.soundcloud.com/cY1ai?fbclid=IwAR2asE1h57XX5cdBraD896QCS6q68E1SzcSQVOyize4byfJZHNoRhkERiss\n",
      "https://on.soundcloud.com/cY1ai?_impcp=1\n",
      "https://soundcloud.com/listen2arabit/ayfrxym8rdrf?si=1984fc590e0c427dae3474104f04eecd&utm_source=clipboard&utm_medium=text&utm_campaign=social_sharing\n",
      "Stream ג'ראפה by Arabit | Listen online for free on SoundCloud\n",
      "https://on.soundcloud.com/XEzwB?fbclid=IwAR3lx1amMG9GzxP3n_2Nwlr_ngQHllIGM6k1CwfGYryQYXTAEDavl2mhzlk\n",
      "https://on.soundcloud.com/XEzwB?_impcp=1\n",
      "https://soundcloud.com/listen2arabit/rhdmg6nv9beh?si=1984fc590e0c427dae3474104f04eecd&utm_source=clipboard&utm_medium=text&utm_campaign=social_sharing\n",
      "Stream נמימה by Arabit | Listen online for free on SoundCloud\n",
      "https://on.soundcloud.com/cz6TX?fbclid=IwAR12jmmO7rwo8XPg2tVUh7Ijnh4WiuNObwCRmXq6K9XA6nCSBC-8zcjDDcg\n",
      "https://on.soundcloud.com/cz6TX?_impcp=1\n",
      "https://soundcloud.com/listen2arabit/xeovcq4iafuf?si=1984fc590e0c427dae3474104f04eecd&utm_source=clipboard&utm_medium=text&utm_campaign=social_sharing\n",
      "Stream ג'נס by Arabit | Listen online for free on SoundCloud\n",
      "https://on.soundcloud.com/iYYzs?fbclid=IwAR0W3ArpCjApO33T6lGZj8KYFzl75s_cYJr4VsNX26zulBlc7ij4Z8V1UNU\n",
      "https://on.soundcloud.com/iYYzs?_impcp=1\n",
      "https://soundcloud.com/listen2arabit/cnpbyebwpcfl?si=0b9011c89509423cb54925e574009b02&utm_source=clipboard&utm_medium=text&utm_campaign=social_sharing\n",
      "Stream וג'בה by Arabit | Listen online for free on SoundCloud\n",
      "https://on.soundcloud.com/WPnhL?fbclid=IwAR0pHO7Fxcma4NSedUBBuqW7XV_4fnDcd-eHi07GPmtlCmxZNoYa8VOn7kw\n",
      "https://on.soundcloud.com/WPnhL?_impcp=1\n",
      "https://soundcloud.com/listen2arabit/fnjspbck7weu?si=0b9011c89509423cb54925e574009b02&utm_source=clipboard&utm_medium=text&utm_campaign=social_sharing\n",
      "Stream זרדיה by Arabit | Listen online for free on SoundCloud\n",
      "https://on.soundcloud.com/Q7QfX\n",
      "https://on.soundcloud.com/Q7QfX?_impcp=1\n",
      "https://soundcloud.com/listen2arabit/voopezh5stnf?si=0b9011c89509423cb54925e574009b02&utm_source=clipboard&utm_medium=text&utm_campaign=social_sharing\n",
      "Stream מרקה by Arabit | Listen online for free on SoundCloud\n",
      "https://on.soundcloud.com/Ss6X2?fbclid=IwAR15IGlSqmGlFtth3doPcIDj7Viilb4elDlkAbi7l1REEIHdnjWYapLFZKU\n",
      "https://on.soundcloud.com/Ss6X2?_impcp=1\n",
      "https://soundcloud.com/listen2arabit/1thfpldxjing?si=0b9011c89509423cb54925e574009b02&utm_source=clipboard&utm_medium=text&utm_campaign=social_sharing\n",
      "Stream באזילא by Arabit | Listen online for free on SoundCloud\n",
      "https://on.soundcloud.com/V91HF\n",
      "https://on.soundcloud.com/V91HF?_impcp=1\n",
      "https://soundcloud.com/listen2arabit/6txwqbjr7mjr?si=0b9011c89509423cb54925e574009b02&utm_source=clipboard&utm_medium=text&utm_campaign=social_sharing\n",
      "Stream חמאתכ בתחבכ by Arabit | Listen online for free on SoundCloud\n",
      "https://on.soundcloud.com/xncyW\n",
      "https://on.soundcloud.com/xncyW?_impcp=1\n",
      "https://soundcloud.com/listen2arabit/mxkru9i0qxkz?si=0b9011c89509423cb54925e574009b02&utm_source=clipboard&utm_medium=text&utm_campaign=social_sharing\n",
      "Stream בעצ' by Arabit | Listen online for free on SoundCloud\n",
      "https://on.soundcloud.com/UMAow\n",
      "https://on.soundcloud.com/UMAow?_impcp=1\n",
      "https://soundcloud.com/listen2arabit/jcfzznve8mlv?si=0b9011c89509423cb54925e574009b02&utm_source=clipboard&utm_medium=text&utm_campaign=social_sharing\n",
      "Stream דכתורה by Arabit | Listen online for free on SoundCloud\n",
      "https://on.soundcloud.com/9qZT9\n",
      "https://on.soundcloud.com/9qZT9?_impcp=1\n",
      "https://soundcloud.com/listen2arabit/9gmkdyw6hwpb?si=298067c09edf4d76bd2618a9912a506b&utm_source=clipboard&utm_medium=text&utm_campaign=social_sharing\n",
      "Stream לקלק by Arabit | Listen online for free on SoundCloud\n",
      "https://on.soundcloud.com/eHg7w\n",
      "https://on.soundcloud.com/eHg7w?_impcp=1\n",
      "https://soundcloud.com/listen2arabit/zra9lt9jxlmb?si=298067c09edf4d76bd2618a9912a506b&utm_source=clipboard&utm_medium=text&utm_campaign=social_sharing\n",
      "Stream אג'נבי by Arabit | Listen online for free on SoundCloud\n",
      "https://soundcloud.com/listen2arabit/qsdmsw22hqxm?fbclid=IwAR2Guyc6xj6abNvGatWWuJ_y7M85F_aDLR-i2Yl9IQZ023sSAXhsyLD2SyA\n",
      "https://soundcloud.com/listen2arabit/qsdmsw22hqxm\n",
      "https://soundcloud.com/listen2arabit/qsdmsw22hqxm\n",
      "Stream תג׳נב by Arabit | Listen online for free on SoundCloud\n",
      "https://on.soundcloud.com/eaJ3Q\n",
      "https://on.soundcloud.com/eaJ3Q?_impcp=1\n",
      "https://soundcloud.com/listen2arabit/ehwvbatwmjeh?si=298067c09edf4d76bd2618a9912a506b&utm_source=clipboard&utm_medium=text&utm_campaign=social_sharing\n",
      "Stream קהוה by Arabit | Listen online for free on SoundCloud\n",
      "https://on.soundcloud.com/xt8Bn?fbclid=IwAR2dKNTKPtpOUy3J64fi0goGoOSI8ueEMF64GZrQmhRZiB3k7iNSzXSdhPs\n",
      "https://on.soundcloud.com/xt8Bn?_impcp=1\n",
      "https://soundcloud.com/listen2arabit/xcjg2qdioz4k?si=298067c09edf4d76bd2618a9912a506b&utm_source=clipboard&utm_medium=text&utm_campaign=social_sharing\n",
      "Stream מראהק by Arabit | Listen online for free on SoundCloud\n",
      "https://on.soundcloud.com/EzsQH\n",
      "https://on.soundcloud.com/EzsQH?_impcp=1\n",
      "https://soundcloud.com/listen2arabit/hqbtepwuclic?si=298067c09edf4d76bd2618a9912a506b&utm_source=clipboard&utm_medium=text&utm_campaign=social_sharing\n",
      "Stream עג'מי by Arabit | Listen online for free on SoundCloud\n",
      "https://on.soundcloud.com/fVULo\n",
      "https://on.soundcloud.com/fVULo?_impcp=1\n",
      "https://soundcloud.com/listen2arabit/mga7dl1zpjla?si=298067c09edf4d76bd2618a9912a506b&utm_source=clipboard&utm_medium=text&utm_campaign=social_sharing\n",
      "Stream זפר by Arabit | Listen online for free on SoundCloud\n",
      "https://on.soundcloud.com/jx4xg\n",
      "https://on.soundcloud.com/jx4xg?_impcp=1\n",
      "https://soundcloud.com/listen2arabit/sdungyzhrjxi?si=298067c09edf4d76bd2618a9912a506b&utm_source=clipboard&utm_medium=text&utm_campaign=social_sharing\n",
      "Stream חדיקה אלחיאונאת by Arabit | Listen online for free on SoundCloud\n",
      "https://on.soundcloud.com/xJya9?fbclid=IwAR2mtMRmPVmkFi24MgoKugWvZJIGW-OlgLtQMmg-qMLTkUtG9vew-oKBxn4\n",
      "https://on.soundcloud.com/xJya9?_impcp=1\n",
      "https://soundcloud.com/listen2arabit/mt86m38webrn?si=2782c7a2f42f4f0391af0aeeb670be0e&utm_source=clipboard&utm_medium=text&utm_campaign=social_sharing\n",
      "Stream צ'אבט by Arabit | Listen online for free on SoundCloud\n",
      "https://on.soundcloud.com/k1e2v?fbclid=IwAR2pv5ttOMCC2Okv6ME9a2hSlda_-oQcIy7Tyb-wmcpUSac3ob3BGA_1tkg\n",
      "https://on.soundcloud.com/k1e2v?_impcp=1\n",
      "https://soundcloud.com/listen2arabit/efmwusb5d8jb?si=2782c7a2f42f4f0391af0aeeb670be0e&utm_source=clipboard&utm_medium=text&utm_campaign=social_sharing\n",
      "Stream ראיא by Arabit | Listen online for free on SoundCloud\n",
      "https://soundcloud.com/listen2arabit/tssqeggcnojw\n",
      "https://soundcloud.com/listen2arabit/tssqeggcnojw\n",
      "https://soundcloud.com/listen2arabit/tssqeggcnojw\n",
      "Stream מראיה by Arabit | Listen online for free on SoundCloud\n",
      "https://on.soundcloud.com/gjb4R?fbclid=IwAR1CLHieiuPfYCAT_OONH9WAmj4h4PBeYijgXlUc3ludGbntea5sjUdVFA8\n",
      "https://on.soundcloud.com/gjb4R?_impcp=1\n",
      "https://soundcloud.com/listen2arabit/grztul2hozsg?si=2782c7a2f42f4f0391af0aeeb670be0e&utm_source=clipboard&utm_medium=text&utm_campaign=social_sharing\n",
      "Stream סבח by Arabit | Listen online for free on SoundCloud\n",
      "https://soundcloud.com/listen2arabit/zfhgjjkrasat?fbclid=IwAR0PdmLg73HSnBelf-Cx-mCeNKDTscNFt7LQZnHEzfwPCQ_OXNkw_vpG7e0\n",
      "https://soundcloud.com/listen2arabit/zfhgjjkrasat\n",
      "https://soundcloud.com/listen2arabit/zfhgjjkrasat\n",
      "Stream סבחאן אללה by Arabit | Listen online for free on SoundCloud\n",
      "https://on.soundcloud.com/djRk2\n",
      "https://on.soundcloud.com/djRk2?_impcp=1\n",
      "https://soundcloud.com/listen2arabit/ofj4g5tekxsh?si=2782c7a2f42f4f0391af0aeeb670be0e&utm_source=clipboard&utm_medium=text&utm_campaign=social_sharing\n",
      "Stream ת'ור by Arabit | Listen online for free on SoundCloud\n",
      "https://on.soundcloud.com/gR8TP?fbclid=IwAR2F3abOpU0KByAznK2QKOd3kH3PGzDhUkbIJy-eu3GVDBjDnsZIM4Pshzw\n",
      "https://on.soundcloud.com/gR8TP?_impcp=1\n",
      "https://soundcloud.com/listen2arabit/ohrbwudq49zm?si=2782c7a2f42f4f0391af0aeeb670be0e&utm_source=clipboard&utm_medium=text&utm_campaign=social_sharing\n",
      "Stream עפארם by Arabit | Listen online for free on SoundCloud\n",
      "https://on.soundcloud.com/gAMJv\n",
      "https://on.soundcloud.com/gAMJv?_impcp=1\n",
      "https://soundcloud.com/listen2arabit/en0zsyggqxx4?si=2782c7a2f42f4f0391af0aeeb670be0e&utm_source=clipboard&utm_medium=text&utm_campaign=social_sharing\n",
      "Stream טרה או נקשה by Arabit | Listen online for free on SoundCloud\n",
      "https://on.soundcloud.com/nAq4b\n",
      "https://on.soundcloud.com/nAq4b?_impcp=1\n",
      "https://soundcloud.com/listen2arabit/3l5xhyv7htac?si=2782c7a2f42f4f0391af0aeeb670be0e&utm_source=clipboard&utm_medium=text&utm_campaign=social_sharing\n",
      "Stream זחף by Arabit | Listen online for free on SoundCloud\n",
      "https://on.soundcloud.com/Lnq4j?fbclid=IwAR1SqX_Tu0ZaHX7_aSFpc_6qhuF1KuPgddVcdfvP2Qmswivvw2FZcpwA5-0\n",
      "https://on.soundcloud.com/Lnq4j?_impcp=1\n",
      "https://soundcloud.com/listen2arabit/sg27vlhl7za7?si=f005bd1b53474a6dbf24c92f71f08df2&utm_source=clipboard&utm_medium=text&utm_campaign=social_sharing\n",
      "Stream ענצר by Arabit | Listen online for free on SoundCloud\n",
      "https://on.soundcloud.com/95GsS\n",
      "https://on.soundcloud.com/95GsS?_impcp=1\n",
      "https://soundcloud.com/listen2arabit/i0xkksw9raou?si=f005bd1b53474a6dbf24c92f71f08df2&utm_source=clipboard&utm_medium=text&utm_campaign=social_sharing\n",
      "Stream סמסם by Arabit | Listen online for free on SoundCloud\n",
      "https://on.soundcloud.com/eV7ph?fbclid=IwAR2BXfpp7YR_XW66nP7sxVoqNVWaXFZq9Dg9B1qsuYbxFLFERwytv-MdZf4\n",
      "https://on.soundcloud.com/eV7ph?_impcp=1\n",
      "https://soundcloud.com/listen2arabit/46ukrkgbvf9y?si=f005bd1b53474a6dbf24c92f71f08df2&utm_source=clipboard&utm_medium=text&utm_campaign=social_sharing\n",
      "Stream פרח'ה by Arabit | Listen online for free on SoundCloud\n",
      "https://on.soundcloud.com/zoqmE?fbclid=IwAR2n7JiWz2boZ3WhR1nwykuqeZAwwPD2MV7PucKPXwn0ZAGQTMMdzXYyq7g\n",
      "https://on.soundcloud.com/zoqmE?_impcp=1\n",
      "https://soundcloud.com/listen2arabit/pdvovxgqi2mc?si=f005bd1b53474a6dbf24c92f71f08df2&utm_source=clipboard&utm_medium=text&utm_campaign=social_sharing\n",
      "Stream מלס by Arabit | Listen online for free on SoundCloud\n",
      "https://on.soundcloud.com/BxzZE?fbclid=IwAR27hVBeOr1a2KE2BNnnUPghU7tZv1dtpyMkWVMJRW_PGiRuzj6nVoYYnjY\n",
      "https://on.soundcloud.com/BxzZE?_impcp=1\n",
      "https://soundcloud.com/listen2arabit/hnmnsdjv2kmd?si=f005bd1b53474a6dbf24c92f71f08df2&utm_source=clipboard&utm_medium=text&utm_campaign=social_sharing\n",
      "Stream פסוה by Arabit | Listen online for free on SoundCloud\n",
      "https://on.soundcloud.com/9ppRq?fbclid=IwAR0QttQlJbV-CVcTeoDOGVgREn4H5M8u450cs3p0l1Y3D3N-FvjHteucvk8\n",
      "https://on.soundcloud.com/9ppRq?_impcp=1\n",
      "https://soundcloud.com/listen2arabit/yyhepbfqilun?si=f005bd1b53474a6dbf24c92f71f08df2&utm_source=clipboard&utm_medium=text&utm_campaign=social_sharing\n",
      "Stream מטרקה by Arabit | Listen online for free on SoundCloud\n",
      "https://on.soundcloud.com/LnnYM?fbclid=IwAR06SH3hP8mKThtYWSRmw1hhitLzzLUodbRf0e3OSDTs5iogVP1rfGLEGdA\n",
      "https://on.soundcloud.com/LnnYM?_impcp=1\n",
      "https://soundcloud.com/listen2arabit/wn1j282qij4l?si=f005bd1b53474a6dbf24c92f71f08df2&utm_source=clipboard&utm_medium=text&utm_campaign=social_sharing\n",
      "Stream הנדסה by Arabit | Listen online for free on SoundCloud\n",
      "https://soundcloud.com/listen2arabit/wjqybvhlbnkg?fbclid=IwAR09gSfjlTHRAqxt6-2Syq_c6Pfmo9p2OgqqG_F-d3pBGNNVeK4hVc2WaUs\n",
      "https://soundcloud.com/listen2arabit/wjqybvhlbnkg\n",
      "https://soundcloud.com/listen2arabit/wjqybvhlbnkg\n",
      "Stream חבת קמח by Arabit | Listen online for free on SoundCloud\n",
      "https://soundcloud.com/listen2arabit/di9iqxsfuxtj\n",
      "https://soundcloud.com/listen2arabit/di9iqxsfuxtj\n",
      "https://soundcloud.com/listen2arabit/di9iqxsfuxtj\n",
      "Stream קמח by Arabit | Listen online for free on SoundCloud\n",
      "https://soundcloud.com/listen2arabit/vwb99o9ozd8k?fbclid=IwAR1z7OmEJfNbE0eV-kfCrRrDfg63zCz1nZE6ddxFgxuimtVrtIW-8PdUijY\n",
      "https://soundcloud.com/listen2arabit/vwb99o9ozd8k\n",
      "https://soundcloud.com/listen2arabit/vwb99o9ozd8k\n",
      "Stream תרויג' by Arabit | Listen online for free on SoundCloud\n",
      "https://soundcloud.com/listen2arabit/yftjyhpozmmx?fbclid=IwAR0YIP5GlkwhNHQzexv2Zd1Ro5JpN2D-WLkxY5-72jgVAAXlhTRzfwx572Q\n",
      "https://soundcloud.com/listen2arabit/yftjyhpozmmx\n",
      "https://soundcloud.com/listen2arabit/yftjyhpozmmx\n",
      "Stream וג'ד by Arabit | Listen online for free on SoundCloud\n",
      "https://soundcloud.com/listen2arabit/hgkjhrtu7di8?fbclid=IwAR0GdOYsiBFYjkW8uzETbsFCuLsTNLMkh79b0__s4KxFF0wgcF2YOpsG5lY\n",
      "https://soundcloud.com/listen2arabit/hgkjhrtu7di8\n",
      "https://soundcloud.com/listen2arabit/hgkjhrtu7di8\n",
      "Stream עדאוה by Arabit | Listen online for free on SoundCloud\n",
      "https://soundcloud.com/listen2arabit/uykubzfxgcff?fbclid=IwAR0l44xeqyJuQhBrlqRXdBcxbYxtDnNlnqfxzI60sOARErDQW8hespXb01I\n",
      "https://soundcloud.com/listen2arabit/uykubzfxgcff\n",
      "https://soundcloud.com/listen2arabit/uykubzfxgcff\n",
      "Stream אעתדאא' by Arabit | Listen online for free on SoundCloud\n",
      "https://soundcloud.com/listen2arabit/ivogve0r42n2?fbclid=IwAR2Bhn7T9RKu1Z2G7Eu-wMcLJbqMkXsoXOFwfTM1He3YTgDpJIEG74XKylk\n",
      "https://soundcloud.com/listen2arabit/ivogve0r42n2\n",
      "https://soundcloud.com/listen2arabit/ivogve0r42n2\n",
      "Stream ת'וב by Arabit | Listen online for free on SoundCloud\n",
      "https://soundcloud.com/listen2arabit/dx9jzenbi0zh?fbclid=IwAR38gaX5B-B70zG1Q9RV6U0EnHcZrMINNVndj28H1XsHB4rTK8efg5J599U\n",
      "https://soundcloud.com/listen2arabit/dx9jzenbi0zh\n",
      "https://soundcloud.com/listen2arabit/dx9jzenbi0zh\n",
      "Stream לחן by Arabit | Listen online for free on SoundCloud\n",
      "https://soundcloud.com/listen2arabit/9tcyeh3rihyy?fbclid=IwAR30MHc_9cjzjgADySkFKxmn-L8MNHNFuAFqXJOOUBr3UuyMLScb1QFRAT4\n",
      "https://soundcloud.com/listen2arabit/9tcyeh3rihyy\n",
      "https://soundcloud.com/listen2arabit/9tcyeh3rihyy\n",
      "Stream זמיל by Arabit | Listen online for free on SoundCloud\n",
      "https://soundcloud.com/listen2arabit/wyr3xf2kutia\n",
      "https://soundcloud.com/listen2arabit/wyr3xf2kutia\n",
      "https://soundcloud.com/listen2arabit/wyr3xf2kutia\n",
      "Stream אלף by Arabit | Listen online for free on SoundCloud\n",
      "https://soundcloud.com/listen2arabit/kew72wqvzczx?fbclid=IwAR0eX4de6SnntqVwV6yj_iazoTQfLUEY7MZz4aOapxxcnHOnJ1cIsbGj1JA\n",
      "https://soundcloud.com/listen2arabit/kew72wqvzczx\n",
      "https://soundcloud.com/listen2arabit/kew72wqvzczx\n",
      "Stream ערוה by Arabit | Listen online for free on SoundCloud\n",
      "https://on.soundcloud.com/EEdrP?fbclid=IwAR0SJ4-KKiDAgIR9FWGQyelr_c53hzX_1DS32UP6G3Nbz-kpBzRz-v9tXoU\n",
      "https://on.soundcloud.com/EEdrP?_impcp=1\n",
      "https://soundcloud.com/listen2arabit/t8hmzrk5yqt5?si=e41b953ae5d148e4a2839bdba81d4d73&utm_source=clipboard&utm_medium=text&utm_campaign=social_sharing\n",
      "Stream שתם by Arabit | Listen online for free on SoundCloud\n",
      "https://on.soundcloud.com/1t6Dk\n",
      "https://on.soundcloud.com/1t6Dk?_impcp=1\n",
      "https://soundcloud.com/listen2arabit/qm4cydyrrlpf?si=e41b953ae5d148e4a2839bdba81d4d73&utm_source=clipboard&utm_medium=text&utm_campaign=social_sharing\n",
      "Stream מסח'מט by Arabit | Listen online for free on SoundCloud\n",
      "https://on.soundcloud.com/Wsx8e?fbclid=IwAR0CSuoOtK0i5fABU9ECQSgl3S3-17DdAzas0oom5xOp0632kNaTFHkbBb8\n",
      "https://on.soundcloud.com/Wsx8e?_impcp=1\n",
      "https://soundcloud.com/listen2arabit/l23ij2hplifr?si=e41b953ae5d148e4a2839bdba81d4d73&utm_source=clipboard&utm_medium=text&utm_campaign=social_sharing\n",
      "Stream 'חט by Arabit | Listen online for free on SoundCloud\n",
      "https://on.soundcloud.com/RoC6J?fbclid=IwAR3XpLQc8s5OhtlFjSw1C1wpaRxsfU0JcZg0enrVi8fkumzxxklCBAuOOfI\n",
      "https://on.soundcloud.com/RoC6J?_impcp=1\n",
      "https://soundcloud.com/listen2arabit/ic2mmwjo2hv1?si=e41b953ae5d148e4a2839bdba81d4d73&utm_source=clipboard&utm_medium=text&utm_campaign=social_sharing\n",
      "Stream שאטי by Arabit | Listen online for free on SoundCloud\n",
      "https://on.soundcloud.com/YmEM8\n",
      "https://on.soundcloud.com/YmEM8?_impcp=1\n",
      "https://soundcloud.com/listen2arabit/jstlfgw2luv4?si=e41b953ae5d148e4a2839bdba81d4d73&utm_source=clipboard&utm_medium=text&utm_campaign=social_sharing\n",
      "Stream הדפ by Arabit | Listen online for free on SoundCloud\n",
      "https://on.soundcloud.com/CeSZJ\n",
      "https://on.soundcloud.com/CeSZJ?_impcp=1\n",
      "https://soundcloud.com/listen2arabit/lkzyvgvyplpq?si=e41b953ae5d148e4a2839bdba81d4d73&utm_source=clipboard&utm_medium=text&utm_campaign=social_sharing\n",
      "Stream באתנג'אן by Arabit | Listen online for free on SoundCloud\n",
      "https://on.soundcloud.com/wmxN4?fbclid=IwAR0QXcIubUwTA3_extwbCOneWWBayx9xW-dTuf1xOv2c9oew6NbpCYrpsGM\n",
      "https://on.soundcloud.com/wmxN4?_impcp=1\n",
      "https://soundcloud.com/listen2arabit/rnlihamyaf2a?si=4eb7225d21924253b0a861d47d6952d8&utm_source=clipboard&utm_medium=text&utm_campaign=social_sharing\n",
      "Stream זרע אעצ'אא' by Arabit | Listen online for free on SoundCloud\n",
      "https://on.soundcloud.com/cPywK?fbclid=IwAR1l9P6Pk2-XsXvTZsmPePEdE7NxQwxny7e20NGndSZgJyRRSjf8CAnT9PI\n",
      "https://on.soundcloud.com/cPywK?_impcp=1\n",
      "https://soundcloud.com/listen2arabit/tvtlrjndq8o9?si=4eb7225d21924253b0a861d47d6952d8&utm_source=clipboard&utm_medium=text&utm_campaign=social_sharing\n",
      "Stream מפכ by Arabit | Listen online for free on SoundCloud\n",
      "https://on.soundcloud.com/VAExh?fbclid=IwAR31ebtTfoBoFZDit7E8-CU83BEtlW-DAQ-zPtR7JwnhRgfZfQyqMYhEr0w\n",
      "https://on.soundcloud.com/VAExh?_impcp=1\n",
      "https://soundcloud.com/listen2arabit/tkj4opkfcq4h?si=4eb7225d21924253b0a861d47d6952d8&utm_source=clipboard&utm_medium=text&utm_campaign=social_sharing\n",
      "Stream ח'רטום by Arabit | Listen online for free on SoundCloud\n",
      "https://on.soundcloud.com/Lo5Cw\n",
      "https://on.soundcloud.com/Lo5Cw?_impcp=1\n",
      "https://soundcloud.com/listen2arabit/0hwoegqmorzg?si=4eb7225d21924253b0a861d47d6952d8&utm_source=clipboard&utm_medium=text&utm_campaign=social_sharing\n",
      "Stream חדאיה שעביה by Arabit | Listen online for free on SoundCloud\n",
      "https://on.soundcloud.com/nkgh7?fbclid=IwAR3-mi3Q5hs0d2ZAr398Fr85DJOC5mAJj1_deUHRYp1jY6PYdbtGOGO4RhU\n",
      "https://on.soundcloud.com/nkgh7?_impcp=1\n",
      "https://soundcloud.com/listen2arabit/ahkm0aqsrkjq?si=4eb7225d21924253b0a861d47d6952d8&utm_source=clipboard&utm_medium=text&utm_campaign=social_sharing\n",
      "Stream וכר by Arabit | Listen online for free on SoundCloud\n",
      "https://on.soundcloud.com/HBokd\n",
      "https://on.soundcloud.com/HBokd?_impcp=1\n",
      "https://soundcloud.com/listen2arabit/t9nqrzzdhutq?si=4eb7225d21924253b0a861d47d6952d8&utm_source=clipboard&utm_medium=text&utm_campaign=social_sharing\n",
      "Stream נק by Arabit | Listen online for free on SoundCloud\n",
      "https://on.soundcloud.com/rGWKP?fbclid=IwAR2wDW0ZXHazbMwu3pkwvuj9jCWGt4gGQxzf0fJrUF8-FnTDIsSl9EvjV3Y\n",
      "https://on.soundcloud.com/rGWKP?_impcp=1\n",
      "https://soundcloud.com/listen2arabit/yc7z00jpkhxp?si=4eb7225d21924253b0a861d47d6952d8&utm_source=clipboard&utm_medium=text&utm_campaign=social_sharing\n",
      "Stream תרכה לחאלה by Arabit | Listen online for free on SoundCloud\n",
      "https://on.soundcloud.com/bHxPz?fbclid=IwAR11ECd74ZAVmuwUm1hQrVUi5-g61S_7yqDDRRulTMwO8XPLwhPY7z2FxB8\n",
      "https://on.soundcloud.com/bHxPz?_impcp=1\n",
      "https://soundcloud.com/listen2arabit/4wp9khxj4tru?si=b8542567dc5341caa02d61cbf46f9967&utm_source=clipboard&utm_medium=text&utm_campaign=social_sharing\n",
      "Stream ����'��专��转 by Arabit | Listen online for free on SoundCloud\n",
      "https://on.soundcloud.com/WZJps?fbclid=IwAR1lrWQl6yovghSUtU0SmLabY_05htKkwx9nXv0v34-nkCa7Nk9kEozPvdg\n",
      "https://on.soundcloud.com/WZJps?_impcp=1\n",
      "https://soundcloud.com/listen2arabit/hk8cl0unht5x?si=b8542567dc5341caa02d61cbf46f9967&utm_source=clipboard&utm_medium=text&utm_campaign=social_sharing\n",
      "Stream פריסה by Arabit | Listen online for free on SoundCloud\n",
      "https://on.soundcloud.com/9JB4E?fbclid=IwAR27dSwLGcLua30rjAGPpzp7BF5sNwUsQo3AZV_xI3V3FHL0zpjTZ4wzDVE\n",
      "https://on.soundcloud.com/9JB4E?_impcp=1\n",
      "https://soundcloud.com/listen2arabit/afqzvbhnhweg?si=b8542567dc5341caa02d61cbf46f9967&utm_source=clipboard&utm_medium=text&utm_campaign=social_sharing\n",
      "Stream תשרשח by Arabit | Listen online for free on SoundCloud\n",
      "https://on.soundcloud.com/4kSaS?fbclid=IwAR2-qONm1GBhhZGqvmswr_VKC0qg27XYJDmqlcFB1WhIV7Tkdagl8qMyZmg\n",
      "https://on.soundcloud.com/4kSaS?_impcp=1\n",
      "https://soundcloud.com/listen2arabit/rgf8r6qugyls?si=b8542567dc5341caa02d61cbf46f9967&utm_source=clipboard&utm_medium=text&utm_campaign=social_sharing\n",
      "Stream עסאכר by Arabit | Listen online for free on SoundCloud\n",
      "https://on.soundcloud.com/JFsuf?fbclid=IwAR2H82I8FtdGwMz7M3fsTkIoKTw9-Jw9NWRP2cRxWaI1mEZBuu81Ogi8Jn4\n",
      "https://on.soundcloud.com/JFsuf?_impcp=1\n",
      "https://soundcloud.com/listen2arabit/kiq96allz0ds?si=b8542567dc5341caa02d61cbf46f9967&utm_source=clipboard&utm_medium=text&utm_campaign=social_sharing\n",
      "Stream תפצחן by Arabit | Listen online for free on SoundCloud\n",
      "https://on.soundcloud.com/acR77\n",
      "https://on.soundcloud.com/acR77?_impcp=1\n",
      "https://soundcloud.com/listen2arabit/xkjcfftmaikh?si=b8542567dc5341caa02d61cbf46f9967&utm_source=clipboard&utm_medium=text&utm_campaign=social_sharing\n",
      "Stream אסתאד by Arabit | Listen online for free on SoundCloud\n",
      "https://on.soundcloud.com/3t41H?fbclid=IwAR0aHwhD-wJuapP7Q8LwNDPVbbZygqJTRExxbazeDFv7DQkegvqiJLLO_Qc\n",
      "https://on.soundcloud.com/3t41H?_impcp=1\n",
      "https://soundcloud.com/listen2arabit/elksr6augbc6?si=e8692a74ae204f56842ef7899aa8c1f7&utm_source=clipboard&utm_medium=text&utm_campaign=social_sharing\n",
      "Stream סחיג' by Arabit | Listen online for free on SoundCloud\n",
      "https://on.soundcloud.com/aSqCn?fbclid=IwAR1Q_on_Is2WYSI7z2Bzl3-84h6oasYidWiFEQkQvPTgUAdDIwEMuZtiKjI\n",
      "https://on.soundcloud.com/aSqCn?_impcp=1\n",
      "https://soundcloud.com/listen2arabit/exwidtzsx3na?si=e8692a74ae204f56842ef7899aa8c1f7&utm_source=clipboard&utm_medium=text&utm_campaign=social_sharing\n",
      "Stream בזק by Arabit | Listen online for free on SoundCloud\n",
      "https://on.soundcloud.com/y4LHx\n",
      "https://on.soundcloud.com/y4LHx?_impcp=1\n",
      "https://soundcloud.com/listen2arabit/54ff2ixe9o3h?si=e8692a74ae204f56842ef7899aa8c1f7&utm_source=clipboard&utm_medium=text&utm_campaign=social_sharing\n",
      "Stream ואדי עארה by Arabit | Listen online for free on SoundCloud\n",
      "https://on.soundcloud.com/yevop?fbclid=IwAR0R1WxXY75w193f461e8lcNnrWiW7T5-ZhXp0g1C7sfYZuBYJ89wePcqnA\n",
      "https://on.soundcloud.com/yevop?_impcp=1\n",
      "https://soundcloud.com/listen2arabit/6yrgukduq2jr?si=e8692a74ae204f56842ef7899aa8c1f7&utm_source=clipboard&utm_medium=text&utm_campaign=social_sharing\n",
      "Stream ח'אין by Arabit | Listen online for free on SoundCloud\n",
      "https://on.soundcloud.com/Paxzx?fbclid=IwAR3Ae7G65q-CvFQGeMGsPuo_ReY2KLrRJesgI_RRetpsWWiNylYGyQDEHdM\n",
      "https://on.soundcloud.com/Paxzx?_impcp=1\n",
      "https://soundcloud.com/listen2arabit/jietnytnk6ol?si=e8692a74ae204f56842ef7899aa8c1f7&utm_source=clipboard&utm_medium=text&utm_campaign=social_sharing\n",
      "Stream ע'זה by Arabit | Listen online for free on SoundCloud\n",
      "https://on.soundcloud.com/ByYUd?fbclid=IwAR0hh0znL6E4-Zu2wXZQHmVr1QAOtXxNoAM7_5h7a8IC28O45oKhrgwhd-s\n",
      "https://on.soundcloud.com/ByYUd?_impcp=1\n",
      "https://soundcloud.com/listen2arabit/5h90ftxnrknt?si=e8692a74ae204f56842ef7899aa8c1f7&utm_source=clipboard&utm_medium=text&utm_campaign=social_sharing\n",
      "Stream שדוא בעצ'כם by Arabit | Listen online for free on SoundCloud\n",
      "https://on.soundcloud.com/dCLwm\n",
      "https://on.soundcloud.com/dCLwm?_impcp=1\n",
      "https://soundcloud.com/listen2arabit/spddccvooevv?si=cafff629521142ea8a8634268bf715e9&utm_source=clipboard&utm_medium=text&utm_campaign=social_sharing\n",
      "Stream בז by Arabit | Listen online for free on SoundCloud\n",
      "https://on.soundcloud.com/jtecy?fbclid=IwAR0ZSSZUJnbjUntTgGnjJfaxGHqx9YJ1jC62ic_dQ5ImAT4jDsA19-jlSXM\n",
      "https://on.soundcloud.com/jtecy?_impcp=1\n",
      "https://soundcloud.com/listen2arabit/ziduwfwkkyuj?si=cafff629521142ea8a8634268bf715e9&utm_source=clipboard&utm_medium=text&utm_campaign=social_sharing\n",
      "Stream איש נאקצכ by Arabit | Listen online for free on SoundCloud\n",
      "https://soundcloud.com/listen2arabit/5qjwdeqhiya1\n",
      "https://soundcloud.com/listen2arabit/5qjwdeqhiya1\n",
      "https://soundcloud.com/listen2arabit/5qjwdeqhiya1\n",
      "Stream אנתקאץ by Arabit | Listen online for free on SoundCloud\n",
      "https://on.soundcloud.com/qv2YW?fbclid=IwAR2Q7N4FVNSdnlV0X8_dHRiak6Y969_6nOQ6V_efaVgb6Nf3-1Mqe4rgYwQ\n",
      "https://on.soundcloud.com/qv2YW?_impcp=1\n",
      "https://soundcloud.com/listen2arabit/zarh4vsvpy3x?si=cafff629521142ea8a8634268bf715e9&utm_source=clipboard&utm_medium=text&utm_campaign=social_sharing\n",
      "Stream מואקע אלתואצל אלאג'תמאעי by Arabit | Listen online for free on SoundCloud\n",
      "https://on.soundcloud.com/x334w?fbclid=IwAR077Bh3iTSBozS3b0zkX3ZcB90eMA0XP186Bp1wct_LhrfWj8I2561jKEI\n",
      "https://on.soundcloud.com/x334w?_impcp=1\n",
      "https://soundcloud.com/listen2arabit/pdxpwxt5r5rr?si=cafff629521142ea8a8634268bf715e9&utm_source=clipboard&utm_medium=text&utm_campaign=social_sharing\n",
      "Stream חקוק אלאנסאן by Arabit | Listen online for free on SoundCloud\n",
      "https://on.soundcloud.com/ANzxS?fbclid=IwAR29LSN7ej5s7s7vbm3XeJ2-MybBPNQ4MWuluxIyZb8yPNKwk6SasBKR1L8\n",
      "https://on.soundcloud.com/ANzxS?_impcp=1\n",
      "https://soundcloud.com/listen2arabit/n3koe9f7oqwx?si=cafff629521142ea8a8634268bf715e9&utm_source=clipboard&utm_medium=text&utm_campaign=social_sharing\n",
      "Stream בלוזה by Arabit | Listen online for free on SoundCloud\n",
      "https://on.soundcloud.com/GN7sP?fbclid=IwAR3mNTILHu71dnB3sUVOMjOicO6YiMnjerAzL2ciAaju7US8RGtL3KD68gg\n",
      "https://on.soundcloud.com/GN7sP?_impcp=1\n",
      "https://soundcloud.com/listen2arabit/hj1bl6pnqn3m?si=9c0e31e2ba67440c9f0f446ebbfd24f7&utm_source=clipboard&utm_medium=text&utm_campaign=social_sharing\n",
      "Stream קים by Arabit | Listen online for free on SoundCloud\n",
      "https://on.soundcloud.com/Av2yC?fbclid=IwAR0asvq2QAfF4MLqvSg9JajIy0ZuexLR2wLIuDNl0ZDfr4jmFuXP3Og4YD0\n",
      "https://on.soundcloud.com/Av2yC?_impcp=1\n",
      "https://soundcloud.com/listen2arabit/lemyy8oixoui?si=9c0e31e2ba67440c9f0f446ebbfd24f7&utm_source=clipboard&utm_medium=text&utm_campaign=social_sharing\n",
      "Stream סוא by Arabit | Listen online for free on SoundCloud\n",
      "https://on.soundcloud.com/z7Rby?fbclid=IwAR34-nhc0lqRluKsi-4KMPfh4tO7slhATj4CvA4nBJGAdA1TD_24eAHZyFw\n",
      "https://on.soundcloud.com/z7Rby?_impcp=1\n",
      "https://soundcloud.com/listen2arabit/t4zbx5bhgcsr?si=9c0e31e2ba67440c9f0f446ebbfd24f7&utm_source=clipboard&utm_medium=text&utm_campaign=social_sharing\n",
      "Stream סקף by Arabit | Listen online for free on SoundCloud\n",
      "https://on.soundcloud.com/hGPXK?fbclid=IwAR31tLmZILKPANQh5UoHd25yOjQWJFKsV9HQv-6L_d2PMuD5DU7KfHf5Mus\n",
      "https://on.soundcloud.com/hGPXK?_impcp=1\n",
      "https://soundcloud.com/listen2arabit/q1m8peuolalm?si=9c0e31e2ba67440c9f0f446ebbfd24f7&utm_source=clipboard&utm_medium=text&utm_campaign=social_sharing\n",
      "Stream יא ח'סארה by Arabit | Listen online for free on SoundCloud\n",
      "https://on.soundcloud.com/hTR9u\n",
      "https://on.soundcloud.com/hTR9u?_impcp=1\n",
      "https://soundcloud.com/listen2arabit/s9x1bq93sonl?si=9c0e31e2ba67440c9f0f446ebbfd24f7&utm_source=clipboard&utm_medium=text&utm_campaign=social_sharing\n",
      "Stream ע'פי by Arabit | Listen online for free on SoundCloud\n",
      "https://on.soundcloud.com/Qpwpx\n",
      "https://on.soundcloud.com/Qpwpx?_impcp=1\n",
      "https://soundcloud.com/listen2arabit/7ixqudytlxyn?si=9c0e31e2ba67440c9f0f446ebbfd24f7&utm_source=clipboard&utm_medium=text&utm_campaign=social_sharing\n",
      "Stream אלנכסה by Arabit | Listen online for free on SoundCloud\n",
      "https://on.soundcloud.com/JhCYJ\n",
      "https://on.soundcloud.com/JhCYJ?_impcp=1\n",
      "https://soundcloud.com/listen2arabit/ovhyvgtb00fx?si=1195f22a82c94ebd8aff579ef18157bc&utm_source=clipboard&utm_medium=text&utm_campaign=social_sharing\n",
      "Stream לכנה by Arabit | Listen online for free on SoundCloud\n",
      "https://on.soundcloud.com/4TDqD?fbclid=IwAR1FC2yCF8Pmc43IqJgIDKFwL3YhTMW3bS8FIM1CnHWNtn43DeMPbXUeqzY\n",
      "https://on.soundcloud.com/4TDqD?_impcp=1\n",
      "https://soundcloud.com/listen2arabit/eomdlbwloz4k?si=1195f22a82c94ebd8aff579ef18157bc&utm_source=clipboard&utm_medium=text&utm_campaign=social_sharing\n",
      "Stream נזפנא דם by Arabit | Listen online for free on SoundCloud\n",
      "https://on.soundcloud.com/36ZPC\n",
      "https://on.soundcloud.com/36ZPC?_impcp=1\n",
      "https://soundcloud.com/listen2arabit/plyg1yxng8pa?si=1195f22a82c94ebd8aff579ef18157bc&utm_source=clipboard&utm_medium=text&utm_campaign=social_sharing\n",
      "Stream תצ'אמן by Arabit | Listen online for free on SoundCloud\n",
      "https://on.soundcloud.com/XTdVe?fbclid=IwAR17ZPs3gZDmNPSgVJNzdtWrwSTlShK8yOyPTFEbFJAyRIhSU_gh2y23-OU\n",
      "https://on.soundcloud.com/XTdVe?_impcp=1\n",
      "https://soundcloud.com/listen2arabit/tfzvtp5svxib?si=1195f22a82c94ebd8aff579ef18157bc&utm_source=clipboard&utm_medium=text&utm_campaign=social_sharing\n",
      "Stream עדאד by Arabit | Listen online for free on SoundCloud\n",
      "https://on.soundcloud.com/wNRUw?fbclid=IwAR3t1k2P7rrLBEWKmhgcsQrwFv0IxvItBgT7LteqLV9NE05RytdN6Bq50d4\n",
      "https://on.soundcloud.com/wNRUw?_impcp=1\n",
      "https://soundcloud.com/listen2arabit/psawm0jj0nvd?si=1195f22a82c94ebd8aff579ef18157bc&utm_source=clipboard&utm_medium=text&utm_campaign=social_sharing\n",
      "Stream תטוע by Arabit | Listen online for free on SoundCloud\n",
      "https://on.soundcloud.com/6thx6\n",
      "https://on.soundcloud.com/6thx6?_impcp=1\n",
      "https://soundcloud.com/listen2arabit/g3jodjwr6hem?si=1195f22a82c94ebd8aff579ef18157bc&utm_source=clipboard&utm_medium=text&utm_campaign=social_sharing\n",
      "Stream נכהה by Arabit | Listen online for free on SoundCloud\n",
      "https://on.soundcloud.com/fHL2A\n",
      "https://on.soundcloud.com/fHL2A?_impcp=1\n",
      "https://soundcloud.com/listen2arabit/yx8tqt3swexf?si=1195f22a82c94ebd8aff579ef18157bc&utm_source=clipboard&utm_medium=text&utm_campaign=social_sharing\n",
      "Stream מנט'מה by Arabit | Listen online for free on SoundCloud\n",
      "https://on.soundcloud.com/2xzwL\n",
      "https://on.soundcloud.com/2xzwL?_impcp=1\n",
      "https://soundcloud.com/listen2arabit/lvqkktzcwopu?si=c526b93c473d42f3bd62371cb7ca0286&utm_source=clipboard&utm_medium=text&utm_campaign=social_sharing\n",
      "Stream ג'יש by Arabit | Listen online for free on SoundCloud\n",
      "https://on.soundcloud.com/Xm5rg?fbclid=IwAR15WsgbDNVCIjjyiS0Rt7FmhVvkYo0axwScLunP9XU19iFqQHtDMcV1uJs\n",
      "https://on.soundcloud.com/Xm5rg?_impcp=1\n",
      "https://soundcloud.com/listen2arabit/qflbyc61h40g?si=c526b93c473d42f3bd62371cb7ca0286&utm_source=clipboard&utm_medium=text&utm_campaign=social_sharing\n",
      "Stream צלי ע אלנבי by Arabit | Listen online for free on SoundCloud\n",
      "https://on.soundcloud.com/xJ1aK?fbclid=IwAR2GG2sqW4-SIlcsqavHi3GmJZKdxY4knJ8kNBUafmZ-lzGSKIHBBASWS60\n",
      "https://on.soundcloud.com/xJ1aK?_impcp=1\n",
      "https://soundcloud.com/listen2arabit/do4zcyqab7u3?si=4825e026ac60457ab9a095175c257d39&utm_source=clipboard&utm_medium=text&utm_campaign=social_sharing\n",
      "Stream פואכה by Arabit | Listen online for free on SoundCloud\n",
      "https://on.soundcloud.com/BDLtM?fbclid=IwAR1q1Ww5PHWUt4_eDs1dBYBLOLNCU6CN5vJVmJiWCOpKaVf6JI5r5nCYuSs\n",
      "https://on.soundcloud.com/BDLtM?_impcp=1\n",
      "https://soundcloud.com/listen2arabit/szj6lxes0tao?si=c526b93c473d42f3bd62371cb7ca0286&utm_source=clipboard&utm_medium=text&utm_campaign=social_sharing\n",
      "Stream מנהאג' by Arabit | Listen online for free on SoundCloud\n",
      "https://on.soundcloud.com/RUzRA?fbclid=IwAR3ki6X0dxOuzGX3nnnAjd64J3FrSrzCefxraSv1GtfcID2PbrbYBI0i60c\n",
      "https://on.soundcloud.com/RUzRA?_impcp=1\n",
      "https://soundcloud.com/listen2arabit/ql8ufge3evj2?si=c526b93c473d42f3bd62371cb7ca0286&utm_source=clipboard&utm_medium=text&utm_campaign=social_sharing\n",
      "Stream בלאטה by Arabit | Listen online for free on SoundCloud\n",
      "https://on.soundcloud.com/ZX2TJ?fbclid=IwAR3-7JT077jFGYn8Vl4kKOEd8D2chWHmHMRxxAbOOXpx1_w9smCyyVebCcg\n",
      "https://on.soundcloud.com/ZX2TJ?_impcp=1\n",
      "https://soundcloud.com/listen2arabit/g7dqrwk94b2y?si=d9a0eb2567364e0685468fa62f8f7c58&utm_source=clipboard&utm_medium=text&utm_campaign=social_sharing\n",
      "Stream אנפעץ by Arabit | Listen online for free on SoundCloud\n",
      "https://soundcloud.com/listen2arabit/ko46mvkfa3zh\n",
      "https://soundcloud.com/listen2arabit/ko46mvkfa3zh\n",
      "https://soundcloud.com/listen2arabit/ko46mvkfa3zh\n",
      "Stream אואעי by Arabit | Listen online for free on SoundCloud\n",
      "https://on.soundcloud.com/6XBem?fbclid=IwAR12OMfsvJ2X4Dx6JfN4J1oSXV_nR1vHDAEKsGoGxKReBEIPbzRf8bsYFcs\n",
      "https://on.soundcloud.com/6XBem?_impcp=1\n",
      "https://soundcloud.com/listen2arabit/hfvzzjqoa22k?si=152242b81d464a58a5f81cc0c460cfdb&utm_source=clipboard&utm_medium=text&utm_campaign=social_sharing\n",
      "Stream ח'אדם by Arabit | Listen online for free on SoundCloud\n",
      "https://on.soundcloud.com/mt8v1?fbclid=IwAR0ENfL8vf_n_7_8G5X1B3L8YNpzailOd-o98KNHH7pawBdEIjNpU8YNT4s\n",
      "https://on.soundcloud.com/mt8v1?_impcp=1\n",
      "https://soundcloud.com/listen2arabit/pnq5oyijgn1e?si=152242b81d464a58a5f81cc0c460cfdb&utm_source=clipboard&utm_medium=text&utm_campaign=social_sharing\n",
      "Stream בעיד ענ סאמעין by Arabit | Listen online for free on SoundCloud\n",
      "https://on.soundcloud.com/gEDuZ?fbclid=IwAR14-KTTUckRkkqSTxFDad_Uh8sUf3jCW7xO5xDNBC32P-J_dPixUBk--zc\n",
      "https://on.soundcloud.com/gEDuZ?_impcp=1\n",
      "https://soundcloud.com/listen2arabit/m7dv4dul2rsy?si=152242b81d464a58a5f81cc0c460cfdb&utm_source=clipboard&utm_medium=text&utm_campaign=social_sharing\n",
      "Stream מע'לוב by Arabit | Listen online for free on SoundCloud\n",
      "https://on.soundcloud.com/TJ1N1?fbclid=IwAR271j6D3sFUXXGzDj_ylj9ep7gkyeYh3jmuJWW7S9zr4pJqvOYpTa_4e6w\n",
      "https://on.soundcloud.com/TJ1N1?_impcp=1\n",
      "https://soundcloud.com/listen2arabit/rjny5sfx0inx?si=152242b81d464a58a5f81cc0c460cfdb&utm_source=clipboard&utm_medium=text&utm_campaign=social_sharing\n",
      "Stream צ'יק by Arabit | Listen online for free on SoundCloud\n",
      "https://on.soundcloud.com/6H819?fbclid=IwAR2m16BeFIEG4R1hATvw8w5XSic3LotIZTcTMNGUcMxcTDRkI00Cn3URK50\n",
      "https://on.soundcloud.com/6H819?_impcp=1\n",
      "https://soundcloud.com/listen2arabit/2i2kohboda9z?si=152242b81d464a58a5f81cc0c460cfdb&utm_source=clipboard&utm_medium=text&utm_campaign=social_sharing\n",
      "Stream נקט by Arabit | Listen online for free on SoundCloud\n",
      "https://on.soundcloud.com/QXvJf?fbclid=IwAR1zRCKLtIu7ds9W5keZhMLAtCqjbMLcBdqfylinf43lw0IsKZIic2f7nAs\n",
      "https://on.soundcloud.com/QXvJf?_impcp=1\n",
      "https://soundcloud.com/listen2arabit/ygdpowzme4dz?si=152242b81d464a58a5f81cc0c460cfdb&utm_source=clipboard&utm_medium=text&utm_campaign=social_sharing\n",
      "Stream חט'ר by Arabit | Listen online for free on SoundCloud\n",
      "https://on.soundcloud.com/HiZTy\n",
      "https://on.soundcloud.com/HiZTy?_impcp=1\n",
      "https://soundcloud.com/listen2arabit/trrobm54ogz4?si=152242b81d464a58a5f81cc0c460cfdb&utm_source=clipboard&utm_medium=text&utm_campaign=social_sharing\n",
      "Stream קבעה by Arabit | Listen online for free on SoundCloud\n",
      "https://on.soundcloud.com/4tY3Y?fbclid=IwAR3YZKZnm7akRykH9JEM0bCb0l0QL-GxuG7b5tzFzt9ulYVbY9OyCS6uWOs\n",
      "https://on.soundcloud.com/4tY3Y?_impcp=1\n",
      "https://soundcloud.com/listen2arabit/okf5fhzqvj26?si=8b811aa6d29d4cb99421f1831252725d&utm_source=clipboard&utm_medium=text&utm_campaign=social_sharing\n",
      "Stream רזק by Arabit | Listen online for free on SoundCloud\n",
      "https://on.soundcloud.com/P26iN?fbclid=IwAR0upSXOI6QzaeXCMCqsl2yel5PK24YRy-aReGuqY_k5YyjGKSNNAXnPt9I\n",
      "https://on.soundcloud.com/P26iN?_impcp=1\n",
      "https://soundcloud.com/listen2arabit/htgc6zs4gbec?si=8b811aa6d29d4cb99421f1831252725d&utm_source=clipboard&utm_medium=text&utm_campaign=social_sharing\n",
      "Stream זחלק by Arabit | Listen online for free on SoundCloud\n",
      "https://on.soundcloud.com/1Dy4w\n",
      "https://on.soundcloud.com/1Dy4w?_impcp=1\n",
      "https://soundcloud.com/listen2arabit/indjyfop4807?si=8b811aa6d29d4cb99421f1831252725d&utm_source=clipboard&utm_medium=text&utm_campaign=social_sharing\n",
      "Stream אלאתג'אה אלמעאכס by Arabit | Listen online for free on SoundCloud\n",
      "https://on.soundcloud.com/PhA1b\n",
      "https://on.soundcloud.com/PhA1b?_impcp=1\n",
      "https://soundcloud.com/listen2arabit/6z7uiydgcxcm?si=8b811aa6d29d4cb99421f1831252725d&utm_source=clipboard&utm_medium=text&utm_campaign=social_sharing\n",
      "Stream רקי by Arabit | Listen online for free on SoundCloud\n",
      "https://on.soundcloud.com/G4v2H\n",
      "https://on.soundcloud.com/G4v2H?_impcp=1\n",
      "https://soundcloud.com/listen2arabit/vceevwlwizph?si=8b811aa6d29d4cb99421f1831252725d&utm_source=clipboard&utm_medium=text&utm_campaign=social_sharing\n",
      "Stream יתים by Arabit | Listen online for free on SoundCloud\n",
      "https://on.soundcloud.com/JGiyw\n",
      "https://on.soundcloud.com/JGiyw?_impcp=1\n",
      "https://soundcloud.com/listen2arabit/sqdz3bkibhwq?si=8b811aa6d29d4cb99421f1831252725d&utm_source=clipboard&utm_medium=text&utm_campaign=social_sharing\n",
      "Stream תשייא' by Arabit | Listen online for free on SoundCloud\n",
      "https://on.soundcloud.com/RgQam\n",
      "https://on.soundcloud.com/RgQam?_impcp=1\n",
      "https://soundcloud.com/listen2arabit/wytozlx2pd9i?si=8b811aa6d29d4cb99421f1831252725d&utm_source=clipboard&utm_medium=text&utm_campaign=social_sharing\n",
      "Stream לחם by Arabit | Listen online for free on SoundCloud\n",
      "https://on.soundcloud.com/n3knP?fbclid=IwAR09J2BQQ8FkMLrS1u_KA1Skog5Esg4z-OVFv1ZVszu2wPl6RqbP5nEvYBg\n",
      "https://on.soundcloud.com/n3knP?_impcp=1\n",
      "https://soundcloud.com/listen2arabit/f4fxjdomv02j?si=9a5ff8759f114d8ca51dd7168eee390f&utm_source=clipboard&utm_medium=text&utm_campaign=social_sharing\n",
      "Stream אלמח'אבראת by Arabit | Listen online for free on SoundCloud\n",
      "https://on.soundcloud.com/pdUxF?fbclid=IwAR0-LU8hBTFzGYEkhCla5BuDq5mnFNznChzDwRgNBPDMGbAaNtaEhWan8tw\n",
      "https://on.soundcloud.com/pdUxF?_impcp=1\n",
      "https://soundcloud.com/listen2arabit/dka3mez6vmse?si=9a5ff8759f114d8ca51dd7168eee390f&utm_source=clipboard&utm_medium=text&utm_campaign=social_sharing\n",
      "Stream קזאז by Arabit | Listen online for free on SoundCloud\n",
      "https://on.soundcloud.com/53cCX\n",
      "https://on.soundcloud.com/53cCX?_impcp=1\n",
      "https://soundcloud.com/listen2arabit/ychun82pvfqf?si=9a5ff8759f114d8ca51dd7168eee390f&utm_source=clipboard&utm_medium=text&utm_campaign=social_sharing\n",
      "Stream חטם by Arabit | Listen online for free on SoundCloud\n",
      "https://on.soundcloud.com/5ub8j\n",
      "https://on.soundcloud.com/5ub8j?_impcp=1\n",
      "https://soundcloud.com/listen2arabit/ixd388cuibjp?si=9a5ff8759f114d8ca51dd7168eee390f&utm_source=clipboard&utm_medium=text&utm_campaign=social_sharing\n",
      "Stream סרעת אלברק by Arabit | Listen online for free on SoundCloud\n",
      "https://on.soundcloud.com/bgCy5\n",
      "https://on.soundcloud.com/bgCy5?_impcp=1\n",
      "https://soundcloud.com/listen2arabit/x0daz9m6jpuk?si=9a5ff8759f114d8ca51dd7168eee390f&utm_source=clipboard&utm_medium=text&utm_campaign=social_sharing\n",
      "Stream אנדמל by Arabit | Listen online for free on SoundCloud\n",
      "https://on.soundcloud.com/nRifU\n",
      "https://on.soundcloud.com/nRifU?_impcp=1\n",
      "https://soundcloud.com/listen2arabit/y9tfcsulluzz?si=9a5ff8759f114d8ca51dd7168eee390f&utm_source=clipboard&utm_medium=text&utm_campaign=social_sharing\n",
      "Stream אלמריח' by Arabit | Listen online for free on SoundCloud\n",
      "https://on.soundcloud.com/jpELy\n",
      "https://on.soundcloud.com/jpELy?_impcp=1\n",
      "https://soundcloud.com/listen2arabit/mgdlrslm36eu?si=9a5ff8759f114d8ca51dd7168eee390f&utm_source=clipboard&utm_medium=text&utm_campaign=social_sharing\n",
      "Stream רישה by Arabit | Listen online for free on SoundCloud\n",
      "https://on.soundcloud.com/dHVfE?fbclid=IwAR3bxTgivkqIT5pg6KadnQUOp6vJ4eO3Kc7ZEaw9zpYLwDQ8DB5oRo88hsQ\n",
      "https://on.soundcloud.com/dHVfE?_impcp=1\n",
      "https://soundcloud.com/listen2arabit/xbn1mk9apei6?si=dff337288b944908b9936f6755ff4d35&utm_source=clipboard&utm_medium=text&utm_campaign=social_sharing\n",
      "Stream אבליס by Arabit | Listen online for free on SoundCloud\n",
      "https://on.soundcloud.com/BrCXa?fbclid=IwAR3QpDnn0OJbVGnh6odUfrxbYQiKT0WP7DkRfFxgZpq6lXjGRYqUQU59wIk\n",
      "https://on.soundcloud.com/BrCXa?_impcp=1\n",
      "https://soundcloud.com/listen2arabit/tfeu5irtgvsx?si=dff337288b944908b9936f6755ff4d35&utm_source=clipboard&utm_medium=text&utm_campaign=social_sharing\n",
      "Stream סבאנח' by Arabit | Listen online for free on SoundCloud\n",
      "https://on.soundcloud.com/WDbQu?fbclid=IwAR3cK9_w-yKlM5olduneaZ1enFu85B1fqNg_eziJimWsfC1bESeon7CTj_4\n",
      "https://on.soundcloud.com/WDbQu?_impcp=1\n",
      "https://soundcloud.com/listen2arabit/hkjyyodi57b3?si=dff337288b944908b9936f6755ff4d35&utm_source=clipboard&utm_medium=text&utm_campaign=social_sharing\n",
      "Stream אלענקאא' by Arabit | Listen online for free on SoundCloud\n",
      "https://on.soundcloud.com/1RH88\n",
      "https://on.soundcloud.com/1RH88?_impcp=1\n",
      "https://soundcloud.com/listen2arabit/kfru1l0zfaqb?si=dff337288b944908b9936f6755ff4d35&utm_source=clipboard&utm_medium=text&utm_campaign=social_sharing\n",
      "Stream ח'אלד by Arabit | Listen online for free on SoundCloud\n",
      "https://on.soundcloud.com/fVa8p?fbclid=IwAR0m_Kksp7d5zUCEWogHtk0LBtMToMskQ_CJ7jmmvv3M27FobFz7MAAUTf4\n",
      "https://on.soundcloud.com/fVa8p?_impcp=1\n",
      "https://soundcloud.com/listen2arabit/0wzrfacppyty?si=dff337288b944908b9936f6755ff4d35&utm_source=clipboard&utm_medium=text&utm_campaign=social_sharing\n",
      "Stream פשאל by Arabit | Listen online for free on SoundCloud\n",
      "https://on.soundcloud.com/XWNAd\n",
      "https://on.soundcloud.com/XWNAd?_impcp=1\n",
      "https://soundcloud.com/listen2arabit/emcginlwqeoq?si=dff337288b944908b9936f6755ff4d35&utm_source=clipboard&utm_medium=text&utm_campaign=social_sharing\n",
      "Stream מארס by Arabit | Listen online for free on SoundCloud\n",
      "https://on.soundcloud.com/S4zYA?fbclid=IwAR1DR_8Rmox0PAijz_-AtAeDptiY-ZmQVvy_VOQXYY2rDxRAZJxD1ZO9H3k\n",
      "https://on.soundcloud.com/S4zYA?_impcp=1\n",
      "https://soundcloud.com/listen2arabit/tvwnpsvarzzc?si=dff337288b944908b9936f6755ff4d35&utm_source=clipboard&utm_medium=text&utm_campaign=social_sharing\n",
      "Stream סאמח by Arabit | Listen online for free on SoundCloud\n",
      "https://soundcloud.com/listen2arabit/xty8ssbw3lbu\n",
      "https://soundcloud.com/listen2arabit/xty8ssbw3lbu\n",
      "https://soundcloud.com/listen2arabit/xty8ssbw3lbu\n",
      "Stream תוע'ל by Arabit | Listen online for free on SoundCloud\n",
      "https://on.soundcloud.com/QpFUT\n",
      "https://on.soundcloud.com/QpFUT?_impcp=1\n",
      "https://soundcloud.com/listen2arabit/3reblgml6oie?si=17fb8c01ad7743a190f91411bd12783e&utm_source=clipboard&utm_medium=text&utm_campaign=social_sharing\n",
      "Stream רקצ by Arabit | Listen online for free on SoundCloud\n",
      "https://on.soundcloud.com/rM3eA\n",
      "https://on.soundcloud.com/rM3eA?_impcp=1\n",
      "https://soundcloud.com/listen2arabit/ljfk4kcfhmol?si=17fb8c01ad7743a190f91411bd12783e&utm_source=clipboard&utm_medium=text&utm_campaign=social_sharing\n",
      "Stream ערובה by Arabit | Listen online for free on SoundCloud\n",
      "https://on.soundcloud.com/UBgG7\n",
      "https://on.soundcloud.com/UBgG7?_impcp=1\n",
      "https://soundcloud.com/listen2arabit/ffvfbdjpuifh?si=17fb8c01ad7743a190f91411bd12783e&utm_source=clipboard&utm_medium=text&utm_campaign=social_sharing\n",
      "Stream והמי by Arabit | Listen online for free on SoundCloud\n",
      "https://on.soundcloud.com/itYKg\n",
      "https://on.soundcloud.com/itYKg?_impcp=1\n",
      "https://soundcloud.com/listen2arabit/cbeebxxfpqye?si=17fb8c01ad7743a190f91411bd12783e&utm_source=clipboard&utm_medium=text&utm_campaign=social_sharing\n",
      "Stream קרף by Arabit | Listen online for free on SoundCloud\n",
      "https://on.soundcloud.com/mMzLq\n",
      "https://on.soundcloud.com/mMzLq?_impcp=1\n",
      "https://soundcloud.com/listen2arabit/qct0oqs0tswf?si=17fb8c01ad7743a190f91411bd12783e&utm_source=clipboard&utm_medium=text&utm_campaign=social_sharing\n",
      "Stream ח'רפן by Arabit | Listen online for free on SoundCloud\n",
      "https://on.soundcloud.com/5eToK\n",
      "https://on.soundcloud.com/5eToK?_impcp=1\n",
      "https://soundcloud.com/listen2arabit/q90va8hdupng?si=17fb8c01ad7743a190f91411bd12783e&utm_source=clipboard&utm_medium=text&utm_campaign=social_sharing\n",
      "Stream צ'יאפה by Arabit | Listen online for free on SoundCloud\n",
      "https://on.soundcloud.com/fkThJ?fbclid=IwAR12oO2Qv2zpENj-EnSzgQDgXKA6_rUeTiC4f-QizR4qI7vT-f3GUJrYvl0\n",
      "https://on.soundcloud.com/fkThJ?_impcp=1\n",
      "https://soundcloud.com/listen2arabit/5dcim48gmd5u?si=17fb8c01ad7743a190f91411bd12783e&utm_source=clipboard&utm_medium=text&utm_campaign=social_sharing\n",
      "Stream מפרעקאת by Arabit | Listen online for free on SoundCloud\n",
      "https://soundcloud.com/listen2arabit/3oggnbs8cehy\n",
      "https://soundcloud.com/listen2arabit/3oggnbs8cehy\n",
      "https://soundcloud.com/listen2arabit/3oggnbs8cehy\n",
      "Stream משכלה by Arabit | Listen online for free on SoundCloud\n",
      "https://soundcloud.com/listen2arabit/1nxkouutxzdz\n",
      "https://soundcloud.com/listen2arabit/1nxkouutxzdz\n",
      "https://soundcloud.com/listen2arabit/1nxkouutxzdz\n",
      "Stream עאטל by Arabit | Listen online for free on SoundCloud\n",
      "https://soundcloud.com/listen2arabit/p52xuhbxkaig\n",
      "https://soundcloud.com/listen2arabit/p52xuhbxkaig\n",
      "https://soundcloud.com/listen2arabit/p52xuhbxkaig\n",
      "Stream עביק by Arabit | Listen online for free on SoundCloud\n",
      "https://soundcloud.com/listen2arabit/t1qm1yepqkac\n",
      "https://soundcloud.com/listen2arabit/t1qm1yepqkac\n",
      "https://soundcloud.com/listen2arabit/t1qm1yepqkac\n",
      "Stream ארג'אא' אלוטן by Arabit | Listen online for free on SoundCloud\n",
      "https://soundcloud.com/listen2arabit/sb7wk5lrqta5\n",
      "https://soundcloud.com/listen2arabit/sb7wk5lrqta5\n",
      "https://soundcloud.com/listen2arabit/sb7wk5lrqta5\n",
      "Stream ח'בית' by Arabit | Listen online for free on SoundCloud\n",
      "https://soundcloud.com/listen2arabit/j3ikhkrmq2cc\n",
      "https://soundcloud.com/listen2arabit/j3ikhkrmq2cc\n",
      "https://soundcloud.com/listen2arabit/j3ikhkrmq2cc\n",
      "Stream טען by Arabit | Listen online for free on SoundCloud\n",
      "https://soundcloud.com/listen2arabit/mydgkibbxopm\n",
      "https://soundcloud.com/listen2arabit/mydgkibbxopm\n",
      "https://soundcloud.com/listen2arabit/mydgkibbxopm\n",
      "Stream בוצלה by Arabit | Listen online for free on SoundCloud\n",
      "https://soundcloud.com/listen2arabit/pwu1pcjuzplw\n",
      "https://soundcloud.com/listen2arabit/pwu1pcjuzplw\n",
      "https://soundcloud.com/listen2arabit/pwu1pcjuzplw\n",
      "Stream שאחן by Arabit | Listen online for free on SoundCloud\n",
      "https://soundcloud.com/listen2arabit/gi5hxvecordd\n",
      "https://soundcloud.com/listen2arabit/gi5hxvecordd\n",
      "https://soundcloud.com/listen2arabit/gi5hxvecordd\n",
      "Stream דכאן by Arabit | Listen online for free on SoundCloud\n",
      "https://soundcloud.com/listen2arabit/cvhzkot2p0rg\n",
      "https://soundcloud.com/listen2arabit/cvhzkot2p0rg\n",
      "https://soundcloud.com/listen2arabit/cvhzkot2p0rg\n",
      "Stream אסתרג'א by Arabit | Listen online for free on SoundCloud\n",
      "https://soundcloud.com/listen2arabit/iidu8t4fkk75\n",
      "https://soundcloud.com/listen2arabit/iidu8t4fkk75\n",
      "https://soundcloud.com/listen2arabit/iidu8t4fkk75\n",
      "Stream עיאל by Arabit | Listen online for free on SoundCloud\n",
      "https://soundcloud.com/listen2arabit/raqvlkgqguif\n",
      "https://soundcloud.com/listen2arabit/raqvlkgqguif\n",
      "https://soundcloud.com/listen2arabit/raqvlkgqguif\n",
      "Stream ע'זוה by Arabit | Listen online for free on SoundCloud\n",
      "https://soundcloud.com/listen2arabit/mwixlwmn4d0e\n",
      "https://soundcloud.com/listen2arabit/mwixlwmn4d0e\n",
      "https://soundcloud.com/listen2arabit/mwixlwmn4d0e\n",
      "Stream למיס by Arabit | Listen online for free on SoundCloud\n",
      "https://soundcloud.com/listen2arabit/ye1hltewb8kp\n",
      "https://soundcloud.com/listen2arabit/ye1hltewb8kp\n",
      "https://soundcloud.com/listen2arabit/ye1hltewb8kp\n",
      "Stream ד'ח'ירה by Arabit | Listen online for free on SoundCloud\n",
      "https://soundcloud.com/listen2arabit/2wite2if1soq\n",
      "https://soundcloud.com/listen2arabit/2wite2if1soq\n",
      "https://soundcloud.com/listen2arabit/2wite2if1soq\n",
      "Stream דעם by Arabit | Listen online for free on SoundCloud\n",
      "https://soundcloud.app.goo.gl/2W49P\n",
      "https://soundcloud.app.goo.gl/2W49P\n",
      "https://soundcloud.com/listen2arabit/y8r0pxoy5emb?ref=clipboard&p=a&c=1&si=2c4e7ede77134730a8e5adc173dc229f&utm_campaign=social_sharing&utm_medium=text&utm_source=clipboard\n",
      "Stream שאהד עיאן by Arabit | Listen online for free on SoundCloud\n",
      "https://soundcloud.com/listen2arabit/nb7jopotdyxp\n",
      "https://soundcloud.com/listen2arabit/nb7jopotdyxp\n",
      "https://soundcloud.com/listen2arabit/nb7jopotdyxp\n",
      "Stream מן וראא׳ אלכואליס by Arabit | Listen online for free on SoundCloud\n",
      "https://soundcloud.app.goo.gl/8gJCP?fbclid=IwAR2cL-pqcl_00iglv3uKcFgMuJOTTxm7hRnRJ-jVNPKrGCSPQzAf1VjaigA\n",
      "https://soundcloud.app.goo.gl/8gJCP\n",
      "https://soundcloud.com/listen2arabit/tv17t5dkbypm?ref=clipboard&p=a&c=1&si=a1953cf363a645b7b9366e9c864393cf&utm_campaign=social_sharing&utm_medium=text&utm_source=clipboard\n",
      "Stream נומרה by Arabit | Listen online for free on SoundCloud\n",
      "https://soundcloud.app.goo.gl/ZVxT5?fbclid=IwAR0CQLzkmR3LBi4DwWRtPGQaXC4AoUcV_sDbc2aifJF0O_GZQiVHhPbP28o\n",
      "https://soundcloud.app.goo.gl/ZVxT5\n",
      "https://soundcloud.com/listen2arabit/xuqsizcc5lll?ref=clipboard&p=a&c=1&si=1e8025593c144d2babb10686ced4461d&utm_campaign=social_sharing&utm_medium=text&utm_source=clipboard\n",
      "Stream תעמים by Arabit | Listen online for free on SoundCloud\n",
      "https://soundcloud.com/listen2arabit/m7gq8sndnzxb\n",
      "https://soundcloud.com/listen2arabit/m7gq8sndnzxb\n",
      "https://soundcloud.com/listen2arabit/m7gq8sndnzxb\n",
      "Stream עזאבי by Arabit | Listen online for free on SoundCloud\n",
      "https://soundcloud.com/listen2arabit/f8m9kfsab188\n",
      "https://soundcloud.com/listen2arabit/f8m9kfsab188\n",
      "https://soundcloud.com/listen2arabit/f8m9kfsab188\n",
      "Stream חלף ימין by Arabit | Listen online for free on SoundCloud\n",
      "https://soundcloud.com/listen2arabit/zno9bhlrfsay\n",
      "https://soundcloud.com/listen2arabit/zno9bhlrfsay\n",
      "https://soundcloud.com/listen2arabit/zno9bhlrfsay\n",
      "Stream האג'ם by Arabit | Listen online for free on SoundCloud\n",
      "https://soundcloud.com/listen2arabit/2wmmkkf84pv0\n",
      "https://soundcloud.com/listen2arabit/2wmmkkf84pv0\n",
      "https://soundcloud.com/listen2arabit/2wmmkkf84pv0\n",
      "Stream מרכב by Arabit | Listen online for free on SoundCloud\n",
      "https://soundcloud.com/listen2arabit/84bng6bcpxnt\n",
      "https://soundcloud.com/listen2arabit/84bng6bcpxnt\n",
      "https://soundcloud.com/listen2arabit/84bng6bcpxnt\n",
      "Stream מזרעה by Arabit | Listen online for free on SoundCloud\n",
      "https://soundcloud.com/listen2arabit/wcrzqynt7wto\n",
      "https://soundcloud.com/listen2arabit/wcrzqynt7wto\n",
      "https://soundcloud.com/listen2arabit/wcrzqynt7wto\n",
      "Stream חצאר by Arabit | Listen online for free on SoundCloud\n",
      "https://soundcloud.com/listen2arabit/xd6l5an2xbzg\n",
      "https://soundcloud.com/listen2arabit/xd6l5an2xbzg\n",
      "https://soundcloud.com/listen2arabit/xd6l5an2xbzg\n",
      "Stream ממשא by Arabit | Listen online for free on SoundCloud\n",
      "https://soundcloud.com/listen2arabit/wxehyzaaz4lr\n",
      "https://soundcloud.com/listen2arabit/wxehyzaaz4lr\n",
      "https://soundcloud.com/listen2arabit/wxehyzaaz4lr\n",
      "Stream ביע by Arabit | Listen online for free on SoundCloud\n",
      "https://soundcloud.com/listen2arabit/jgmiupabm1ie\n",
      "https://soundcloud.com/listen2arabit/jgmiupabm1ie\n",
      "https://soundcloud.com/listen2arabit/jgmiupabm1ie\n",
      "Stream מכבר צות by Arabit | Listen online for free on SoundCloud\n",
      "https://soundcloud.com/listen2arabit/utoxtkh6xylw\n",
      "https://soundcloud.com/listen2arabit/utoxtkh6xylw\n",
      "https://soundcloud.com/listen2arabit/utoxtkh6xylw\n",
      "Stream סג׳ן by Arabit | Listen online for free on SoundCloud\n",
      "https://soundcloud.com/listen2arabit/nhlrocqn2tib\n",
      "https://soundcloud.com/listen2arabit/nhlrocqn2tib\n",
      "https://soundcloud.com/listen2arabit/nhlrocqn2tib\n",
      "Stream ח׳טף by Arabit | Listen online for free on SoundCloud\n",
      "https://soundcloud.com/listen2arabit/nk96a4hi1ayj\n",
      "https://soundcloud.com/listen2arabit/nk96a4hi1ayj\n",
      "https://soundcloud.com/listen2arabit/nk96a4hi1ayj\n",
      "Stream ע׳צ׳ב by Arabit | Listen online for free on SoundCloud\n",
      "https://soundcloud.com/listen2arabit/9b4t6fbjbtmu\n",
      "https://soundcloud.com/listen2arabit/9b4t6fbjbtmu\n",
      "https://soundcloud.com/listen2arabit/9b4t6fbjbtmu\n",
      "Stream נפק by Arabit | Listen online for free on SoundCloud\n",
      "https://soundcloud.com/listen2arabit/lvspjurdxuf6\n",
      "https://soundcloud.com/listen2arabit/lvspjurdxuf6\n",
      "https://soundcloud.com/listen2arabit/lvspjurdxuf6\n",
      "Stream עכאזה by Arabit | Listen online for free on SoundCloud\n",
      "https://soundcloud.com/listen2arabit/uov4ccezq2ak\n",
      "https://soundcloud.com/listen2arabit/uov4ccezq2ak\n",
      "https://soundcloud.com/listen2arabit/uov4ccezq2ak\n",
      "Stream דין by Arabit | Listen online for free on SoundCloud\n",
      "https://soundcloud.com/listen2arabit/azhvppqdrp5z\n",
      "https://soundcloud.com/listen2arabit/azhvppqdrp5z\n",
      "https://soundcloud.com/listen2arabit/azhvppqdrp5z\n",
      "Stream האדי by Arabit | Listen online for free on SoundCloud\n",
      "https://soundcloud.com/listen2arabit/btydmq4fn0ym\n",
      "https://soundcloud.com/listen2arabit/btydmq4fn0ym\n",
      "https://soundcloud.com/listen2arabit/btydmq4fn0ym\n",
      "Stream כליה by Arabit | Listen online for free on SoundCloud\n",
      "https://soundcloud.com/listen2arabit/ots55rgmandr\n",
      "https://soundcloud.com/listen2arabit/ots55rgmandr\n",
      "https://soundcloud.com/listen2arabit/ots55rgmandr\n",
      "Stream קצאצ by Arabit | Listen online for free on SoundCloud\n",
      "https://soundcloud.com/listen2arabit/nasnp20uaamo\n",
      "https://soundcloud.com/listen2arabit/nasnp20uaamo\n",
      "https://soundcloud.com/listen2arabit/nasnp20uaamo\n",
      "Stream תהריב by Arabit | Listen online for free on SoundCloud\n",
      "https://soundcloud.com/listen2arabit/3ryy9hwlwwcm\n",
      "https://soundcloud.com/listen2arabit/3ryy9hwlwwcm\n",
      "https://soundcloud.com/listen2arabit/3ryy9hwlwwcm\n",
      "Stream דאר מהג׳ורה by Arabit | Listen online for free on SoundCloud\n",
      "https://soundcloud.com/listen2arabit/g6no50tcgzuw\n",
      "https://soundcloud.com/listen2arabit/g6no50tcgzuw\n",
      "https://soundcloud.com/listen2arabit/g6no50tcgzuw\n",
      "Stream אסם רבאעי by Arabit | Listen online for free on SoundCloud\n",
      "https://soundcloud.com/listen2arabit/v0aamy4dfbop\n",
      "https://soundcloud.com/listen2arabit/v0aamy4dfbop\n",
      "https://soundcloud.com/listen2arabit/v0aamy4dfbop\n",
      "Stream יא עיב אלשום by Arabit | Listen online for free on SoundCloud\n",
      "https://soundcloud.com/palestine-nasheed/sfsqdjkcmswb\n",
      "https://soundcloud.com/palestine-nasheed/sfsqdjkcmswb\n",
      "https://soundcloud.com/palestine-nasheed/sfsqdjkcmswb\n",
      "SoundCloud - Hear the worldâ€™s sounds\n",
      "https://soundcloud.com/listen2arabit/ep3yngypdezr\n",
      "https://soundcloud.com/listen2arabit/ep3yngypdezr\n",
      "https://soundcloud.com/listen2arabit/ep3yngypdezr\n",
      "Stream כניס by Arabit | Listen online for free on SoundCloud\n",
      "https://soundcloud.com/listen2arabit/geyj5stixqk4\n",
      "https://soundcloud.com/listen2arabit/geyj5stixqk4\n",
      "https://soundcloud.com/listen2arabit/geyj5stixqk4\n",
      "Stream כוכב by Arabit | Listen online for free on SoundCloud\n",
      "https://soundcloud.com/listen2arabit/4wlvhbjkh5ce\n",
      "https://soundcloud.com/listen2arabit/4wlvhbjkh5ce\n",
      "https://soundcloud.com/listen2arabit/4wlvhbjkh5ce\n",
      "Stream כנז by Arabit | Listen online for free on SoundCloud\n",
      "https://soundcloud.com/listen2arabit/dxd2fehtp8gr\n",
      "https://soundcloud.com/listen2arabit/dxd2fehtp8gr\n",
      "https://soundcloud.com/listen2arabit/dxd2fehtp8gr\n",
      "Stream שע'אל by Arabit | Listen online for free on SoundCloud\n",
      "https://soundcloud.com/listen2arabit/3otaz68coads\n",
      "https://soundcloud.com/listen2arabit/3otaz68coads\n",
      "https://soundcloud.com/listen2arabit/3otaz68coads\n",
      "Stream צלח by Arabit | Listen online for free on SoundCloud\n"
     ]
    }
   ],
   "source": [
    "soundcloud_titles = {}\n",
    "soundcloud_link_refer = {}\n",
    "for i, title, sound, sound_link in sounds:\n",
    "    for link in sound_link:\n",
    "        clean_link = re.sub('\\?.*$', '', link)\n",
    "        if clean_link in soundcloud_titles or '/player/' in link:\n",
    "            continue\n",
    "        if '//on.' in clean_link:\n",
    "            link_to_request = clean_link + '?_impcp=1'\n",
    "        else:\n",
    "            link_to_request = clean_link\n",
    "        print(link)\n",
    "        print(link_to_request)\n",
    "        r = requests.get(link_to_request)#, headers=headers, allow_redirects=True)\n",
    "        r.encoding = r.apparent_encoding\n",
    "        print(r.url)\n",
    "        soundcloud_link_refer[link] = r.url\n",
    "        soup = BeautifulSoup(r.text, 'html.parser')\n",
    "        title = soup.find(\"title\").text\n",
    "        print(title)\n",
    "        soundcloud_titles[clean_link] = (r.url, title)"
   ]
  },
  {
   "cell_type": "code",
   "execution_count": 248,
   "id": "1cb0c4c1-8840-40a8-8eb8-29109c26a3d3",
   "metadata": {},
   "outputs": [
    {
     "data": {
      "text/plain": [
       "515"
      ]
     },
     "execution_count": 248,
     "metadata": {},
     "output_type": "execute_result"
    }
   ],
   "source": [
    "len(soundcloud_titles)"
   ]
  },
  {
   "cell_type": "code",
   "execution_count": 250,
   "id": "35a0cb1a-b27d-42a1-833e-a30f00b6e6e9",
   "metadata": {},
   "outputs": [
    {
     "data": {
      "text/html": [
       "<div>\n",
       "<style scoped>\n",
       "    .dataframe tbody tr th:only-of-type {\n",
       "        vertical-align: middle;\n",
       "    }\n",
       "\n",
       "    .dataframe tbody tr th {\n",
       "        vertical-align: top;\n",
       "    }\n",
       "\n",
       "    .dataframe thead th {\n",
       "        text-align: right;\n",
       "    }\n",
       "</style>\n",
       "<table border=\"1\" class=\"dataframe\">\n",
       "  <thead>\n",
       "    <tr style=\"text-align: right;\">\n",
       "      <th></th>\n",
       "      <th>clean_link</th>\n",
       "      <th>url</th>\n",
       "      <th>title</th>\n",
       "    </tr>\n",
       "  </thead>\n",
       "  <tbody>\n",
       "    <tr>\n",
       "      <th>0</th>\n",
       "      <td>https://on.soundcloud.com/s1Lxr</td>\n",
       "      <td>https://soundcloud.com/listen2arabit/d5yl754v5...</td>\n",
       "      <td>Stream שכרן (תודה) by Arabit | Listen online f...</td>\n",
       "    </tr>\n",
       "    <tr>\n",
       "      <th>1</th>\n",
       "      <td>https://on.soundcloud.com/Jag6v</td>\n",
       "      <td>https://soundcloud.com/listen2arabit/n1c2fhnql...</td>\n",
       "      <td>Stream מע׳ארה (מערה) by Arabit | Listen online...</td>\n",
       "    </tr>\n",
       "    <tr>\n",
       "      <th>2</th>\n",
       "      <td>https://on.soundcloud.com/9RqRd</td>\n",
       "      <td>https://soundcloud.com/listen2arabit/k0obd6mtn...</td>\n",
       "      <td>Stream כרסי רג׳אג׳ (כסא נדנדה) by Arabit | Lis...</td>\n",
       "    </tr>\n",
       "    <tr>\n",
       "      <th>3</th>\n",
       "      <td>https://on.soundcloud.com/HAA6e</td>\n",
       "      <td>https://soundcloud.com/listen2arabit/3rbrejejj...</td>\n",
       "      <td>Stream אנצ׳ם (הצטרף) by Arabit | Listen online...</td>\n",
       "    </tr>\n",
       "    <tr>\n",
       "      <th>4</th>\n",
       "      <td>https://on.soundcloud.com/SDpcs</td>\n",
       "      <td>https://soundcloud.com/listen2arabit/brxcpvenr...</td>\n",
       "      <td>Stream האתף (טלפון) by Arabit | Listen online ...</td>\n",
       "    </tr>\n",
       "  </tbody>\n",
       "</table>\n",
       "</div>"
      ],
      "text/plain": [
       "                        clean_link  \\\n",
       "0  https://on.soundcloud.com/s1Lxr   \n",
       "1  https://on.soundcloud.com/Jag6v   \n",
       "2  https://on.soundcloud.com/9RqRd   \n",
       "3  https://on.soundcloud.com/HAA6e   \n",
       "4  https://on.soundcloud.com/SDpcs   \n",
       "\n",
       "                                                 url  \\\n",
       "0  https://soundcloud.com/listen2arabit/d5yl754v5...   \n",
       "1  https://soundcloud.com/listen2arabit/n1c2fhnql...   \n",
       "2  https://soundcloud.com/listen2arabit/k0obd6mtn...   \n",
       "3  https://soundcloud.com/listen2arabit/3rbrejejj...   \n",
       "4  https://soundcloud.com/listen2arabit/brxcpvenr...   \n",
       "\n",
       "                                               title  \n",
       "0  Stream שכרן (תודה) by Arabit | Listen online f...  \n",
       "1  Stream מע׳ארה (מערה) by Arabit | Listen online...  \n",
       "2  Stream כרסי רג׳אג׳ (כסא נדנדה) by Arabit | Lis...  \n",
       "3  Stream אנצ׳ם (הצטרף) by Arabit | Listen online...  \n",
       "4  Stream האתף (טלפון) by Arabit | Listen online ...  "
      ]
     },
     "execution_count": 250,
     "metadata": {},
     "output_type": "execute_result"
    }
   ],
   "source": [
    "sc_titles_df = pd.DataFrame([(clean_link, url, title) for clean_link, (url, title) in soundcloud_titles.items()],\n",
    "                            columns=['clean_link', 'url', 'title'])\n",
    "sc_titles_df.head()"
   ]
  },
  {
   "cell_type": "code",
   "execution_count": 277,
   "id": "9ccdb60e-5ddd-4638-b85f-be615304c060",
   "metadata": {},
   "outputs": [
    {
     "data": {
      "text/plain": [
       "'Stream שכרן (תודה) by Arabit | Listen online for free on SoundCloud'"
      ]
     },
     "execution_count": 277,
     "metadata": {},
     "output_type": "execute_result"
    }
   ],
   "source": [
    "sc_titles_df.title.iat[0]"
   ]
  },
  {
   "cell_type": "code",
   "execution_count": 251,
   "id": "8b8dde8c-140e-42f1-9190-2b8716514dbc",
   "metadata": {},
   "outputs": [
    {
     "data": {
      "text/html": [
       "<div>\n",
       "<style scoped>\n",
       "    .dataframe tbody tr th:only-of-type {\n",
       "        vertical-align: middle;\n",
       "    }\n",
       "\n",
       "    .dataframe tbody tr th {\n",
       "        vertical-align: top;\n",
       "    }\n",
       "\n",
       "    .dataframe thead th {\n",
       "        text-align: right;\n",
       "    }\n",
       "</style>\n",
       "<table border=\"1\" class=\"dataframe\">\n",
       "  <thead>\n",
       "    <tr style=\"text-align: right;\">\n",
       "      <th></th>\n",
       "      <th>link</th>\n",
       "      <th>refer_url</th>\n",
       "    </tr>\n",
       "  </thead>\n",
       "  <tbody>\n",
       "    <tr>\n",
       "      <th>0</th>\n",
       "      <td>https://on.soundcloud.com/s1Lxr?fbclid=IwAR2rK...</td>\n",
       "      <td>https://soundcloud.com/listen2arabit/d5yl754v5...</td>\n",
       "    </tr>\n",
       "    <tr>\n",
       "      <th>1</th>\n",
       "      <td>https://on.soundcloud.com/Jag6v?fbclid=IwAR2DY...</td>\n",
       "      <td>https://soundcloud.com/listen2arabit/n1c2fhnql...</td>\n",
       "    </tr>\n",
       "    <tr>\n",
       "      <th>2</th>\n",
       "      <td>https://on.soundcloud.com/9RqRd?fbclid=IwAR1tQ...</td>\n",
       "      <td>https://soundcloud.com/listen2arabit/k0obd6mtn...</td>\n",
       "    </tr>\n",
       "    <tr>\n",
       "      <th>3</th>\n",
       "      <td>https://on.soundcloud.com/HAA6e?fbclid=IwAR1e3...</td>\n",
       "      <td>https://soundcloud.com/listen2arabit/3rbrejejj...</td>\n",
       "    </tr>\n",
       "    <tr>\n",
       "      <th>4</th>\n",
       "      <td>https://on.soundcloud.com/SDpcs</td>\n",
       "      <td>https://soundcloud.com/listen2arabit/brxcpvenr...</td>\n",
       "    </tr>\n",
       "  </tbody>\n",
       "</table>\n",
       "</div>"
      ],
      "text/plain": [
       "                                                link  \\\n",
       "0  https://on.soundcloud.com/s1Lxr?fbclid=IwAR2rK...   \n",
       "1  https://on.soundcloud.com/Jag6v?fbclid=IwAR2DY...   \n",
       "2  https://on.soundcloud.com/9RqRd?fbclid=IwAR1tQ...   \n",
       "3  https://on.soundcloud.com/HAA6e?fbclid=IwAR1e3...   \n",
       "4                    https://on.soundcloud.com/SDpcs   \n",
       "\n",
       "                                           refer_url  \n",
       "0  https://soundcloud.com/listen2arabit/d5yl754v5...  \n",
       "1  https://soundcloud.com/listen2arabit/n1c2fhnql...  \n",
       "2  https://soundcloud.com/listen2arabit/k0obd6mtn...  \n",
       "3  https://soundcloud.com/listen2arabit/3rbrejejj...  \n",
       "4  https://soundcloud.com/listen2arabit/brxcpvenr...  "
      ]
     },
     "execution_count": 251,
     "metadata": {},
     "output_type": "execute_result"
    }
   ],
   "source": [
    "sc_ref_df = pd.DataFrame(soundcloud_link_refer.items(), columns=['link', 'refer_url'])\n",
    "sc_ref_df.head()"
   ]
  },
  {
   "cell_type": "code",
   "execution_count": 253,
   "id": "3346edb7-357f-40b4-895a-ae8e3a2a5339",
   "metadata": {},
   "outputs": [],
   "source": [
    "sc_ref_df.to_csv('data/arabit/soundcloud_link_referrals.csv', index=False)"
   ]
  },
  {
   "cell_type": "code",
   "execution_count": 314,
   "id": "75754e81-f8d1-446f-848a-1ce6553232ea",
   "metadata": {},
   "outputs": [],
   "source": [
    "sc_titles_df.loc[sc_titles_df.clean_link=='https://on.soundcloud.com/bHxPz', 'url'] = 'https://soundcloud.com/listen2arabit/4wp9khxj4tru?si=b8542567dc5341caa02d61cbf46f9967&utm_source=clipboard&utm_medium=text&utm_campaign=social_sharing'\n",
    "sc_titles_df.loc[sc_titles_df.clean_link=='https://on.soundcloud.com/bHxPz', 'title'] = 'Stream מח\\'דראת by Arabit | Listen online for free on SoundCloud'"
   ]
  },
  {
   "cell_type": "code",
   "execution_count": 316,
   "id": "5d273c63-e108-418b-8caa-7a43a08c017e",
   "metadata": {},
   "outputs": [
    {
     "data": {
      "text/html": [
       "<div>\n",
       "<style scoped>\n",
       "    .dataframe tbody tr th:only-of-type {\n",
       "        vertical-align: middle;\n",
       "    }\n",
       "\n",
       "    .dataframe tbody tr th {\n",
       "        vertical-align: top;\n",
       "    }\n",
       "\n",
       "    .dataframe thead th {\n",
       "        text-align: right;\n",
       "    }\n",
       "</style>\n",
       "<table border=\"1\" class=\"dataframe\">\n",
       "  <thead>\n",
       "    <tr style=\"text-align: right;\">\n",
       "      <th></th>\n",
       "      <th>clean_link</th>\n",
       "      <th>url</th>\n",
       "      <th>title</th>\n",
       "      <th>title_extracted</th>\n",
       "      <th>local_path</th>\n",
       "      <th>original_link</th>\n",
       "    </tr>\n",
       "  </thead>\n",
       "  <tbody>\n",
       "    <tr>\n",
       "      <th>0</th>\n",
       "      <td>https://on.soundcloud.com/s1Lxr</td>\n",
       "      <td>https://soundcloud.com/listen2arabit/d5yl754v5...</td>\n",
       "      <td>Stream שכרן (תודה) by Arabit | Listen online f...</td>\n",
       "      <td>שכרן (תודה)</td>\n",
       "      <td>data/arabit/soundcloud/שכרן (תודה).mp3</td>\n",
       "      <td>https://on.soundcloud.com/s1Lxr?fbclid=IwAR2rK...</td>\n",
       "    </tr>\n",
       "    <tr>\n",
       "      <th>1</th>\n",
       "      <td>https://on.soundcloud.com/Jag6v</td>\n",
       "      <td>https://soundcloud.com/listen2arabit/n1c2fhnql...</td>\n",
       "      <td>Stream מע׳ארה (מערה) by Arabit | Listen online...</td>\n",
       "      <td>מע׳ארה (מערה)</td>\n",
       "      <td>data/arabit/soundcloud/מע׳ארה (מערה).mp3</td>\n",
       "      <td>https://on.soundcloud.com/Jag6v?fbclid=IwAR2DY...</td>\n",
       "    </tr>\n",
       "    <tr>\n",
       "      <th>2</th>\n",
       "      <td>https://on.soundcloud.com/9RqRd</td>\n",
       "      <td>https://soundcloud.com/listen2arabit/k0obd6mtn...</td>\n",
       "      <td>Stream כרסי רג׳אג׳ (כסא נדנדה) by Arabit | Lis...</td>\n",
       "      <td>כרסי רג׳אג׳ (כסא נדנדה)</td>\n",
       "      <td>data/arabit/soundcloud/כרסי רג׳אג׳ (כסא נדנדה)...</td>\n",
       "      <td>https://on.soundcloud.com/9RqRd?fbclid=IwAR1tQ...</td>\n",
       "    </tr>\n",
       "    <tr>\n",
       "      <th>3</th>\n",
       "      <td>https://on.soundcloud.com/HAA6e</td>\n",
       "      <td>https://soundcloud.com/listen2arabit/3rbrejejj...</td>\n",
       "      <td>Stream אנצ׳ם (הצטרף) by Arabit | Listen online...</td>\n",
       "      <td>אנצ׳ם (הצטרף)</td>\n",
       "      <td>data/arabit/soundcloud/אנצ׳ם (הצטרף).mp3</td>\n",
       "      <td>https://on.soundcloud.com/HAA6e?fbclid=IwAR1e3...</td>\n",
       "    </tr>\n",
       "    <tr>\n",
       "      <th>4</th>\n",
       "      <td>https://on.soundcloud.com/SDpcs</td>\n",
       "      <td>https://soundcloud.com/listen2arabit/brxcpvenr...</td>\n",
       "      <td>Stream האתף (טלפון) by Arabit | Listen online ...</td>\n",
       "      <td>האתף (טלפון)</td>\n",
       "      <td>data/arabit/soundcloud/האתף (טלפון).mp3</td>\n",
       "      <td>https://on.soundcloud.com/SDpcs</td>\n",
       "    </tr>\n",
       "  </tbody>\n",
       "</table>\n",
       "</div>"
      ],
      "text/plain": [
       "                        clean_link  \\\n",
       "0  https://on.soundcloud.com/s1Lxr   \n",
       "1  https://on.soundcloud.com/Jag6v   \n",
       "2  https://on.soundcloud.com/9RqRd   \n",
       "3  https://on.soundcloud.com/HAA6e   \n",
       "4  https://on.soundcloud.com/SDpcs   \n",
       "\n",
       "                                                 url  \\\n",
       "0  https://soundcloud.com/listen2arabit/d5yl754v5...   \n",
       "1  https://soundcloud.com/listen2arabit/n1c2fhnql...   \n",
       "2  https://soundcloud.com/listen2arabit/k0obd6mtn...   \n",
       "3  https://soundcloud.com/listen2arabit/3rbrejejj...   \n",
       "4  https://soundcloud.com/listen2arabit/brxcpvenr...   \n",
       "\n",
       "                                               title          title_extracted  \\\n",
       "0  Stream שכרן (תודה) by Arabit | Listen online f...              שכרן (תודה)   \n",
       "1  Stream מע׳ארה (מערה) by Arabit | Listen online...            מע׳ארה (מערה)   \n",
       "2  Stream כרסי רג׳אג׳ (כסא נדנדה) by Arabit | Lis...  כרסי רג׳אג׳ (כסא נדנדה)   \n",
       "3  Stream אנצ׳ם (הצטרף) by Arabit | Listen online...            אנצ׳ם (הצטרף)   \n",
       "4  Stream האתף (טלפון) by Arabit | Listen online ...             האתף (טלפון)   \n",
       "\n",
       "                                          local_path  \\\n",
       "0             data/arabit/soundcloud/שכרן (תודה).mp3   \n",
       "1           data/arabit/soundcloud/מע׳ארה (מערה).mp3   \n",
       "2  data/arabit/soundcloud/כרסי רג׳אג׳ (כסא נדנדה)...   \n",
       "3           data/arabit/soundcloud/אנצ׳ם (הצטרף).mp3   \n",
       "4            data/arabit/soundcloud/האתף (טלפון).mp3   \n",
       "\n",
       "                                       original_link  \n",
       "0  https://on.soundcloud.com/s1Lxr?fbclid=IwAR2rK...  \n",
       "1  https://on.soundcloud.com/Jag6v?fbclid=IwAR2DY...  \n",
       "2  https://on.soundcloud.com/9RqRd?fbclid=IwAR1tQ...  \n",
       "3  https://on.soundcloud.com/HAA6e?fbclid=IwAR1e3...  \n",
       "4                    https://on.soundcloud.com/SDpcs  "
      ]
     },
     "execution_count": 316,
     "metadata": {},
     "output_type": "execute_result"
    }
   ],
   "source": [
    "sc_fname_re = 'Stream (.*) by Arabit | Listen online for free on SoundCloud'\n",
    "sc_titles_df[\"title_extracted\"] = sc_titles_df.title.str.extract(sc_fname_re).iloc[:, 0].str.strip()\n",
    "sc_titles_df[\"local_path\"] = 'data/arabit/soundcloud/' + sc_titles_df.title_extracted.str.replace(\"/\", \"\") + '.mp3'\n",
    "sc_titles_df['original_link'] = sc_titles_df.url.map(sc_ref_df.set_index(\"refer_url\")[\"link\"])\n",
    "sc_titles_df.head()"
   ]
  },
  {
   "cell_type": "code",
   "execution_count": 317,
   "id": "dd7fc88f-bc8a-44e3-b684-8c32d9c5f3b4",
   "metadata": {},
   "outputs": [
    {
     "data": {
      "text/html": [
       "<div>\n",
       "<style scoped>\n",
       "    .dataframe tbody tr th:only-of-type {\n",
       "        vertical-align: middle;\n",
       "    }\n",
       "\n",
       "    .dataframe tbody tr th {\n",
       "        vertical-align: top;\n",
       "    }\n",
       "\n",
       "    .dataframe thead th {\n",
       "        text-align: right;\n",
       "    }\n",
       "</style>\n",
       "<table border=\"1\" class=\"dataframe\">\n",
       "  <thead>\n",
       "    <tr style=\"text-align: right;\">\n",
       "      <th></th>\n",
       "      <th>clean_link</th>\n",
       "      <th>url</th>\n",
       "      <th>title</th>\n",
       "      <th>title_extracted</th>\n",
       "      <th>local_path</th>\n",
       "      <th>original_link</th>\n",
       "    </tr>\n",
       "  </thead>\n",
       "  <tbody>\n",
       "    <tr>\n",
       "      <th>221</th>\n",
       "      <td>https://on.soundcloud.com/1XQTk</td>\n",
       "      <td>https://soundcloud.com/listen2arabit/olblsbfid...</td>\n",
       "      <td>SoundCloud - Hear the worldâ€™s sounds</td>\n",
       "      <td>NaN</td>\n",
       "      <td>NaN</td>\n",
       "      <td>https://on.soundcloud.com/1XQTk?fbclid=IwAR3eO...</td>\n",
       "    </tr>\n",
       "    <tr>\n",
       "      <th>509</th>\n",
       "      <td>https://soundcloud.com/palestine-nasheed/sfsqd...</td>\n",
       "      <td>https://soundcloud.com/palestine-nasheed/sfsqd...</td>\n",
       "      <td>SoundCloud - Hear the worldâ€™s sounds</td>\n",
       "      <td>NaN</td>\n",
       "      <td>NaN</td>\n",
       "      <td>https://soundcloud.com/palestine-nasheed/sfsqd...</td>\n",
       "    </tr>\n",
       "  </tbody>\n",
       "</table>\n",
       "</div>"
      ],
      "text/plain": [
       "                                            clean_link  \\\n",
       "221                    https://on.soundcloud.com/1XQTk   \n",
       "509  https://soundcloud.com/palestine-nasheed/sfsqd...   \n",
       "\n",
       "                                                   url  \\\n",
       "221  https://soundcloud.com/listen2arabit/olblsbfid...   \n",
       "509  https://soundcloud.com/palestine-nasheed/sfsqd...   \n",
       "\n",
       "                                      title title_extracted local_path  \\\n",
       "221  SoundCloud - Hear the worldâ€™s sounds             NaN        NaN   \n",
       "509  SoundCloud - Hear the worldâ€™s sounds             NaN        NaN   \n",
       "\n",
       "                                         original_link  \n",
       "221  https://on.soundcloud.com/1XQTk?fbclid=IwAR3eO...  \n",
       "509  https://soundcloud.com/palestine-nasheed/sfsqd...  "
      ]
     },
     "execution_count": 317,
     "metadata": {},
     "output_type": "execute_result"
    }
   ],
   "source": [
    "sc_titles_df[sc_titles_df.local_path.isna()]"
   ]
  },
  {
   "cell_type": "code",
   "execution_count": 318,
   "id": "9517b80e-a175-4f96-a635-c7c560db4afa",
   "metadata": {},
   "outputs": [],
   "source": [
    "sc_titles_df.to_csv('data/arabit/soundcloud_titles.csv', index=False)"
   ]
  },
  {
   "cell_type": "code",
   "execution_count": 319,
   "id": "cd135402-2031-4e9a-b2db-4d36e344a2d6",
   "metadata": {},
   "outputs": [],
   "source": [
    "for path in sc_titles_df.local_path:\n",
    "    if type(path)==str and not os.path.exists(path):\n",
    "        print(path)"
   ]
  },
  {
   "cell_type": "code",
   "execution_count": 351,
   "id": "fb1b4877-7b55-41f0-93fe-6e7e5fc0a96b",
   "metadata": {},
   "outputs": [
    {
     "name": "stdout",
     "output_type": "stream",
     "text": [
      "תגובה ברשת ['תעליק (תגובה ברשת)', 'עליק'] --> תעליק (תגובה ברשת)\n",
      "תקופת האבן ['אלעצר אלחג׳רי (תקופת האבן)', 'חג׳אר'] --> אלעצר אלחג׳רי (תקופת האבן)\n",
      "הועיל ['פאד (הועיל)', 'פאאדה'] --> פאד (הועיל)\n",
      "נעצר (במשטרה) ['אנחבס (נעצר במשטרה)', 'מחבוס'] --> אנחבס (נעצר במשטרה)\n",
      "תפקיד ['וט׳יפה (תפקיד)', \"מוט'פ\"] --> וט׳יפה (תפקיד)\n",
      "פנה בקריאה ['נאשד (פנה בקריאה)', 'נשיד וטני'] --> נאשד (פנה בקריאה)\n",
      "פרסם ['נשר (פרסם)', 'מנשור'] --> נשר (פרסם)\n",
      "יום הולדת ['עיד מילאד (יום הולדת)', 'ולאויד', 'ולד'] --> עיד מילאד (יום הולדת)\n",
      "לימד ['דרס (לימד)', 'מדרסה'] --> דרס (לימד)\n",
      "מבוהל ['מרעוב (מבוהל)', 'רעב'] --> מרעוב (מבוהל)\n",
      "שש ['סתה (שש)', 'מסדס'] --> סתה (שש)\n",
      "גרביים ['כלסאת (גרביים)', 'כלסון'] --> כלסאת (גרביים)\n",
      "הידרדרות ['אנחטאט (הדרדרות)', 'חט ע ראסה'] --> אנחטאט (הדרדרות)\n",
      "חסר תקדים ['ע׳יר מסבוק (חסר תקדים)', 'סבאק'] --> ע׳יר מסבוק (חסר תקדים)\n",
      "התגאה ['אפתח׳ר (התגאה)', \"פאח'ר\"] --> אפתח׳ר (התגאה)\n",
      "בגדים ['הדום (בגדים)', 'הדם'] --> הדום (בגדים)\n",
      "רחבה, כיכר ['באחה (רחבה, כיכר)', 'אסתבאח'] --> באחה (רחבה, כיכר)\n",
      "מקצוענות ['אחתראף (מקצוענות)', 'חרף'] --> אחתראף (מקצוענות)\n",
      "תרמית ['ח׳דיעה (תרמית)', 'ח׳דע'] --> ח׳דיעה (תרמית)\n",
      "אני נשבע באל העצום ['ואללה אלעט׳ים (אני נשבע באל העצום)', \"עט'ם\"] --> ואללה אלעט׳ים (אני נשבע באל העצום)\n",
      "סוגיה ['מסאלה (סוגיה)', 'סאאל'] --> מסאלה (סוגיה)\n",
      "שולחן אוכל ['ספרה (שולחן אוכל)', 'ספר'] --> ספרה (שולחן אוכל)\n",
      "מציל ['מנקד׳ בחרי (מציל)', 'אנקאד׳'] --> מנקד׳ בחרי (מציל)\n",
      "אדם מבוגר ['כביר אלסנ (אדם מבוגר)', 'סנאן'] --> כביר אלסנ (אדם מבוגר)\n",
      "מאוים ['מהדד (מאוים)', 'תהדיד'] --> מהדד (מאוים)\n",
      "לונה פארק ['מדינה מלאהי (לונה פארק)', 'מלאהי'] --> מדינה מלאהי (לונה פארק)\n",
      "עולם המתים והשדים ['אלעאלם אלספלי', 'סאפל'] --> אלעאלם אלספלי\n",
      "גנוב ['מסרוק', 'סרק'] --> מסרוק\n",
      "שמח ['מסרורה', 'סריר'] --> סריר\n",
      "קוקוס ['ג׳וז הנדי', \"ג'אאזה\"] --> ג'אאזה\n",
      "התעורר ['פאק', 'תפוק'] --> תפוק\n",
      "התעכב ['תאח׳ר', 'אלאאח׳רה'] --> תאח׳ר\n",
      "טוב ['ג׳יד', \"ג'ודה\"] --> ג׳יד\n",
      "שוק (איבר) ['סאק', 'סוק'] --> סוק\n",
      "רצה ['אראד', \"ראא'ד\"] --> אראד\n",
      "הרוג ['קתיל', 'קתל'] --> קתיל\n",
      "שים מבטחך באל ['תוכל עלא אללה', 'וכאלה'] --> תוכל עלא אללה\n",
      "טובע [\"ע'רקאן\", \"ע'רק\"] --> ע'רק\n",
      "סיפורים ובילויים בלילה ['סמר', 'אסמר'] --> סמר\n",
      "קדוש ['מקדס', 'בית אלמקדס'] --> מקדס\n",
      "שלווה ['אטמאנאן', 'מטמאן'] --> מטמאן\n",
      "שלב ['מרחלה', 'רחיל'] --> מרחלה\n",
      "מבוקש ['מטלוב', 'טאלב'] --> מטלוב\n",
      "יישום ['תטביק', 'טאבק'] --> תטביק\n",
      "עזר ['עאן', 'אללה יכון באלעון'] --> עאן\n",
      "מרוצה ['קריר אלעין', 'קראר'] --> קראר\n",
      "האכיל ['טעמא', 'טעאם', 'תטעים'] --> תטעים\n",
      "הפגנה [\"מט'אהרה\", 'מתט׳אהרין'] --> מט'אהרה\n",
      "תבשיל [\"טביח'\", \"טבח'\"] --> טביח'\n",
      "תל אביב ['תל אביב', 'תלה'] --> תל אביב\n",
      "ברואים בצלם האל [\"ח'לקת רבנא\", \"אח'לאק\"] --> אח'לאק\n",
      "שר ['וזיר', 'וזר'] --> וזר\n",
      "מזונות ['דעמ אלטפל', 'טפל'] --> טפל\n",
      "החזיר ['רד', 'תרדד'] --> רד\n",
      "מודאג ['קלקאן', 'קלק'] --> קלקאן\n",
      "מנה, ארוחה [\"וג'בה\", \"ואג'ב\"] --> וג'בה\n",
      "יש לך מזל ['חמאתכ בתחבכ', 'חמיה'] --> חמיה\n",
      "אדם זר [\"אג'נבי\", 'תג׳נב'] --> אג'נבי\n",
      "חזון ['ראיא', 'מראיה'] --> ראיא\n",
      "שחה ['סבח', 'סבחאן אללה'] --> סבח\n",
      "גרגר חיטה ['חבת קמח', 'קמח'] --> חבת קמח\n",
      "עוינות ['עדאוה', \"אעתדאא'\"] --> עדאוה\n",
      "מברג ['מפכ', 'פכ'] --> מפכ\n",
      "חזקו אלו את אלו [\"שדוא בעצ'כם\", 'שדה'] --> שדוא בעצ'כם\n",
      "מה חסר לך? ['איש נאקצכ', 'אנתקאץ'] --> איש נאקצכ\n",
      "כמה חבל [\"יא ח'סארה\", \"ח'סראן\"] --> ח'סראן\n",
      "מונה ['עדאד', 'עדד'] --> עדאד\n",
      "מודעות ['אואעי', 'ועי'] --> אואעי\n",
      "משרת [\"ח'אדם\", \"ח'דמה\"] --> ח'אדם\n",
      "צר [\"צ'יק\", \"מתצ'איק\"] --> צ'יק\n",
      "החליק ['זחלק', 'אנזלק'] --> זחלק\n",
      "קדמה ['רקי', 'תרקא'] --> רקי\n",
      "רקד ['רקצ', 'רקאצה'] --> רקצ\n",
      "אירוח [\"צ'יאפה\", 'מצ׳יפת טיראן'] --> צ'יאפה\n",
      "ילדים ['ולאויד', 'ולד'] --> ולד\n",
      "העז [\"אסתרג'א\", \"רג'א\"] --> רג'א\n",
      "עד ראייה ['שאהד עיאן', 'שהיד'] --> שאהד עיאן\n",
      "בריחה ['תהריב', 'הרוב'] --> תהריב\n"
     ]
    }
   ],
   "source": [
    "from textdistance import levenshtein\n",
    "def take_heb(tit):\n",
    "    if '(' in tit:\n",
    "        return tit.split('(')[1].strip('()')\n",
    "    else:\n",
    "        return tit\n",
    "page_to_sound_titles = []\n",
    "for i, page_title, iframe_title, links in sounds:\n",
    "    titles = list(sc_titles_df[(~sc_titles_df.title_extracted.isna()) & ((sc_titles_df.clean_link.isin(links)) | (sc_titles_df.original_link.isin(links)))].title_extracted.unique())\n",
    "\n",
    "    if iframe_title:\n",
    "        clean_title = iframe_title.replace(' by Arabit', '').strip()\n",
    "        if clean_title not in titles:\n",
    "            titles.append(clean_title)\n",
    "    if len(titles)==0:\n",
    "        continue\n",
    "    if len(titles)==1:\n",
    "        chosen_title = titles[0]\n",
    "    else:\n",
    "        distances = [levenshtein(page_title, take_heb(st)) for st in titles]\n",
    "        chosen_title = titles[np.argmin(distances)]\n",
    "        print(page_title, titles, '-->', chosen_title)\n",
    "    page_to_sound_titles.append( (i, page_title, chosen_title))    "
   ]
  },
  {
   "cell_type": "code",
   "execution_count": 355,
   "id": "daa61d11-d12e-41ef-a07a-4940b98754bc",
   "metadata": {},
   "outputs": [
    {
     "data": {
      "text/html": [
       "<div>\n",
       "<style scoped>\n",
       "    .dataframe tbody tr th:only-of-type {\n",
       "        vertical-align: middle;\n",
       "    }\n",
       "\n",
       "    .dataframe tbody tr th {\n",
       "        vertical-align: top;\n",
       "    }\n",
       "\n",
       "    .dataframe thead th {\n",
       "        text-align: right;\n",
       "    }\n",
       "</style>\n",
       "<table border=\"1\" class=\"dataframe\">\n",
       "  <thead>\n",
       "    <tr style=\"text-align: right;\">\n",
       "      <th></th>\n",
       "      <th>page_num</th>\n",
       "      <th>page_title</th>\n",
       "      <th>sound_title</th>\n",
       "      <th>local_path</th>\n",
       "    </tr>\n",
       "  </thead>\n",
       "  <tbody>\n",
       "    <tr>\n",
       "      <th>0</th>\n",
       "      <td>1</td>\n",
       "      <td>תודה</td>\n",
       "      <td>שכרן (תודה)</td>\n",
       "      <td>data/arabit/soundcloud/שכרן (תודה).mp3</td>\n",
       "    </tr>\n",
       "    <tr>\n",
       "      <th>1</th>\n",
       "      <td>2</td>\n",
       "      <td>מערה</td>\n",
       "      <td>מע׳ארה (מערה)</td>\n",
       "      <td>data/arabit/soundcloud/מע׳ארה (מערה).mp3</td>\n",
       "    </tr>\n",
       "    <tr>\n",
       "      <th>2</th>\n",
       "      <td>3</td>\n",
       "      <td>כיסא נדנדה</td>\n",
       "      <td>כרסי רג׳אג׳ (כסא נדנדה)</td>\n",
       "      <td>data/arabit/soundcloud/כרסי רג׳אג׳ (כסא נדנדה)...</td>\n",
       "    </tr>\n",
       "    <tr>\n",
       "      <th>3</th>\n",
       "      <td>4</td>\n",
       "      <td>הצטרף</td>\n",
       "      <td>אנצ׳ם (הצטרף)</td>\n",
       "      <td>data/arabit/soundcloud/אנצ׳ם (הצטרף).mp3</td>\n",
       "    </tr>\n",
       "    <tr>\n",
       "      <th>4</th>\n",
       "      <td>5</td>\n",
       "      <td>טלפון</td>\n",
       "      <td>האתף (טלפון)</td>\n",
       "      <td>data/arabit/soundcloud/האתף (טלפון).mp3</td>\n",
       "    </tr>\n",
       "  </tbody>\n",
       "</table>\n",
       "</div>"
      ],
      "text/plain": [
       "   page_num  page_title              sound_title  \\\n",
       "0         1        תודה              שכרן (תודה)   \n",
       "1         2        מערה            מע׳ארה (מערה)   \n",
       "2         3  כיסא נדנדה  כרסי רג׳אג׳ (כסא נדנדה)   \n",
       "3         4       הצטרף            אנצ׳ם (הצטרף)   \n",
       "4         5       טלפון             האתף (טלפון)   \n",
       "\n",
       "                                          local_path  \n",
       "0             data/arabit/soundcloud/שכרן (תודה).mp3  \n",
       "1           data/arabit/soundcloud/מע׳ארה (מערה).mp3  \n",
       "2  data/arabit/soundcloud/כרסי רג׳אג׳ (כסא נדנדה)...  \n",
       "3           data/arabit/soundcloud/אנצ׳ם (הצטרף).mp3  \n",
       "4            data/arabit/soundcloud/האתף (טלפון).mp3  "
      ]
     },
     "execution_count": 355,
     "metadata": {},
     "output_type": "execute_result"
    }
   ],
   "source": [
    "sound_map_fixes_str = '''\n",
    "תגובה ברשת --> תעליק (תגובה ברשת)\n",
    "תקופת האבן  --> אלעצר אלחג׳רי (תקופת האבן)\n",
    "הועיל  --> פאד (הועיל)\n",
    "נעצר (במשטרה)  --> אנחבס (נעצר במשטרה)\n",
    "תפקיד  --> וט׳יפה (תפקיד)\n",
    "פנה בקריאה --> נאשד (פנה בקריאה)\n",
    "פרסם --> נשר (פרסם)\n",
    "יום הולדת  --> עיד מילאד (יום הולדת)\n",
    "לימד  --> דרס (לימד)\n",
    "מבוהל --> מרעוב (מבוהל)\n",
    "שש --> סתה (שש)\n",
    "גרביים --> כלסאת (גרביים)\n",
    "הידרדרות  --> אנחטאט (הדרדרות)\n",
    "חסר תקדים  --> ע׳יר מסבוק (חסר תקדים)\n",
    "התגאה --> אפתח׳ר (התגאה)\n",
    "בגדים --> הדום (בגדים)\n",
    "רחבה, כיכר [--> באחה (רחבה, כיכר)\n",
    "מקצוענות --> אחתראף (מקצוענות)\n",
    "תרמית --> ח׳דיעה (תרמית)\n",
    "אני נשבע באל העצום--> ואללה אלעט׳ים (אני נשבע באל העצום)\n",
    "סוגיה --> מסאלה (סוגיה)\n",
    "שולחן אוכל --> ספרה (שולחן אוכל)\n",
    "מציל --> מנקד׳ בחרי (מציל)\n",
    "אדם מבוגר --> כביר אלסנ (אדם מבוגר)\n",
    "מאוים --> מהדד (מאוים)\n",
    "לונה פארק --> מדינה מלאהי (לונה פארק)\n",
    "עולם המתים והשדים --> אלעאלם אלספלי\n",
    "גנוב --> מסרוק\n",
    "שמח --> סריר\n",
    "קוקוס --> ג׳וז הנדי\n",
    "התעורר --> פאק\n",
    "התעכב --> תאח׳ר\n",
    "טוב --> ג׳יד\n",
    "שוק (איבר) --> סוק\n",
    "רצה --> אראד\n",
    "הרוג --> קתיל\n",
    "שים מבטחך באל --> תוכל עלא אללה\n",
    "טובע --> ע'רקאן\n",
    "סיפורים ובילויים בלילה --> סמר\n",
    "קדוש --> מקדס\n",
    "שלווה --> אטמאנאן\n",
    "שלב --> מרחלה\n",
    "מבוקש --> מטלוב\n",
    "יישום --> תטביק\n",
    "עזר --> עאן\n",
    "מרוצה --> קריר אלעין\n",
    "האכיל --> טעמא\n",
    "הפגנה --> מט'אהרה\n",
    "תבשיל --> טביח'\n",
    "תל אביב --> תל אביב\n",
    "ברואים בצלם האל --> ח'לקת רבנא\n",
    "שר --> וזיר\n",
    "מזונות --> דעמ אלטפל\n",
    "החזיר --> רד\n",
    "מודאג --> קלקאן\n",
    "מנה, ארוחה  --> וג'בה\n",
    "יש לך מזל --> חמאתכ בתחבכ\n",
    "אדם זר --> אג'נבי\n",
    "חזון --> ראיא\n",
    "שחה --> סבח\n",
    "גרגר חיטה --> חבת קמח\n",
    "עוינות --> עדאוה\n",
    "מברג --> מפכ\n",
    "חזקו אלו את אלו --> שדוא בעצ'כם\n",
    "מה חסר לך? --> איש נאקצכ\n",
    "כמה חבל --> יא ח'סארה\n",
    "מונה --> עדאד\n",
    "מודעות --> ועי\n",
    "משרת --> ח'אדם\n",
    "צר --> צ'יק\n",
    "החליק --> אנזלק\n",
    "קדמה --> רקי\n",
    "רקד --> רקצ\n",
    "אירוח --> צ'יאפה\n",
    "ילדים --> ולאויד\n",
    "העז --> אסתרג'א\n",
    "עד ראייה --> שאהד עיאן\n",
    "בריחה --> הרוב\n",
    "'''\n",
    "\n",
    "sound_map_fixes = {}\n",
    "for line in sound_map_fixes_str.split('\\n'):\n",
    "    if line.strip():\n",
    "        page_title, true_sound_title = line.split('-->')\n",
    "        sound_map_fixes[page_title.strip()] = true_sound_title.strip()\n",
    "\n",
    "fixed_ptst = [(i, pt,sound_map_fixes.get(pt, ct)) for i, pt, ct in page_to_sound_titles]\n",
    "soundcloud_page_mapping = pd.DataFrame(fixed_ptst, columns=[\"page_num\", \"page_title\", \"sound_title\"])\n",
    "soundcloud_page_mapping[\"local_path\"] = 'data/arabit/soundcloud/' + soundcloud_page_mapping.sound_title.str.replace(\"/\", \"\") + '.mp3'\n",
    "soundcloud_page_mapping.head()"
   ]
  },
  {
   "cell_type": "code",
   "execution_count": 356,
   "id": "bb714b79-1ecc-436e-9c60-65bc79ab4091",
   "metadata": {},
   "outputs": [],
   "source": [
    "soundcloud_page_mapping.to_csv('data/arabit/soundcloud_page_mapping.csv', index=False)"
   ]
  },
  {
   "cell_type": "code",
   "execution_count": null,
   "id": "c7732659-1f6f-4454-83a7-f5ac7733d471",
   "metadata": {},
   "outputs": [],
   "source": []
  },
  {
   "cell_type": "markdown",
   "id": "3d538c5f-1d92-4b50-ac74-1bb924f2347f",
   "metadata": {
    "tags": []
   },
   "source": [
    "## Match soundcloud to page"
   ]
  },
  {
   "cell_type": "raw",
   "id": "15c1eea6-c691-4e29-b34d-8846a7403b54",
   "metadata": {},
   "source": [
    "sound_files = []\n",
    "for sound_file in os.listdir('data/arabit/soundcloud/'):\n",
    "    if not sound_file.endswith('.mp3'):\n",
    "        continue\n",
    "    name = sound_file.split('.')[0]\n",
    "    arab_translit = name.split('(')[0].strip()\n",
    "    hebrew = name.split('(')[1].strip(') ') if '(' in name else None\n",
    "    timestamp = os.path.getmtime('data/arabit/soundcloud/'+sound_file)\n",
    "    sound_files.append((sound_file, arab_translit, hebrew, timestamp))\n",
    "    \n",
    "sfdf = pd.DataFrame(sound_files, columns=['sound_file', 'arab_translit', 'hebrew', 'timestamp'])\n",
    "sfdf['timestamp'] = pd.to_datetime(sfdf['timestamp'],unit='s')\n",
    "sfdf = sfdf.sort_values('timestamp')\n",
    "sfdf.tail()"
   ]
  },
  {
   "cell_type": "raw",
   "id": "8fc00bbf-cc2f-4ad8-95f6-43fd99fb3449",
   "metadata": {},
   "source": [
    "sfdf.head()"
   ]
  },
  {
   "cell_type": "code",
   "execution_count": null,
   "id": "41a4386e-74e1-4ffe-9a97-031ff8b71cb7",
   "metadata": {},
   "outputs": [],
   "source": []
  },
  {
   "cell_type": "markdown",
   "id": "79b63f02-e3a8-49d5-bf5b-d875f000fd1c",
   "metadata": {},
   "source": [
    "## Clypit sounds"
   ]
  },
  {
   "cell_type": "code",
   "execution_count": 267,
   "id": "213cf7cb-6b79-4f17-a4ee-58d589001678",
   "metadata": {},
   "outputs": [],
   "source": [
    "#taken from https://github.com/0x27/clypdown/blob/master/clypdown.py\n",
    "\n",
    "def download(mp3_url, filename):\n",
    "    try:\n",
    "        r = requests.get(url=mp3_url, stream=True)\n",
    "        with open(filename, 'wb') as f:\n",
    "            total_length = int(r.headers.get('content-length'))\n",
    "            for chunk in r.iter_content(chunk_size=1024):\n",
    "                if chunk:\n",
    "                    f.write(chunk)\n",
    "                    f.flush()\n",
    "    except Exception as e:\n",
    "        print (\"{-} Something has gone horribly wrong! Please report on the github issue tracker with the following backtrace: \\n%s\" %(e))\n",
    "    \n",
    "def get_mp3_url(url):\n",
    "    content_id = url.replace(\"https://clyp.it/\", \"\")\n",
    "    try:\n",
    "        r = requests.get(url=\"https://api.clyp.it/%s\" %(content_id))    \n",
    "    except Exception as e:\n",
    "        print (\"{-} Something has gone horribly wrong! Please report on the github issue tracker with the following backtrace: \\n%s\" %(e))\n",
    "    fucking_json = json.loads(r.text)\n",
    "    try:\n",
    "        song_title = fucking_json['Title']\n",
    "        mp3_url = fucking_json['Mp3Url']\n",
    "    except Exception as e:\n",
    "        print (\"{-} Something has gone horribly wrong! Please report on the github issue tracker with the following backtrace: \\n%s\" %(e))\n",
    "        raise KeyError\n",
    "\n",
    "    return song_title, mp3_url\n",
    "\n",
    "def main(args):\n",
    "    if len(args) != 2:\n",
    "        sys.exit(\"%s https://clyp.it/lolwat\" %(args[0]))\n",
    "    song_title, mp3_url = get_mp3_url(url=args[1])\n",
    "    download(mp3_url=mp3_url, title=song_title)\n"
   ]
  },
  {
   "cell_type": "code",
   "execution_count": 183,
   "id": "d90de131-6c3a-466a-a0c5-7df64328ff03",
   "metadata": {},
   "outputs": [
    {
     "data": {
      "text/plain": [
       "['https://clyp.it/wjrmj0au']"
      ]
     },
     "execution_count": 183,
     "metadata": {},
     "output_type": "execute_result"
    }
   ],
   "source": [
    "clypit_re = url_re = re.compile(r\"(https?://(?:[\\w\\.]+\\.)?clyp\\.it/[\\w]+\\b)(?:[-a-zA-Z0-9()@:%_\\+.~#?&/=]*)\")\n",
    "re.findall(clypit_re, 'https://clyp.it/wjrmj0au/widget')"
   ]
  },
  {
   "cell_type": "code",
   "execution_count": 372,
   "id": "42bc7f68-6ae1-4039-913b-f861afcbd3a6",
   "metadata": {},
   "outputs": [
    {
     "name": "stderr",
     "output_type": "stream",
     "text": [
      "100%|███████████████████████████████████████████████████████████████████████████████| 2302/2302 [01:52<00:00, 20.52it/s]\n"
     ]
    }
   ],
   "source": [
    "clypit_sounds = []\n",
    "for i, title, link in tqdm(list(wp_df.itertuples()), total=len(wp_df)):\n",
    "    #print(i, title, link)\n",
    "    wp_path = f'data/arabit/word_pages/{str(i+1)}.html'\n",
    "    with open(wp_path, 'r') as f:\n",
    "        wp_html = f.read()\n",
    "    soup = BeautifulSoup(wp_html, 'html.parser')\n",
    "    article = soup.find(\"article\")\n",
    "    sound_link = re.findall(clypit_re, article.prettify())\n",
    "    clypit_sounds.append((i+1, title, link, sound_link))\n"
   ]
  },
  {
   "cell_type": "code",
   "execution_count": 192,
   "id": "094e25ea-32a6-448b-9f55-ef265eb5e943",
   "metadata": {},
   "outputs": [
    {
     "data": {
      "text/plain": [
       "1600"
      ]
     },
     "execution_count": 192,
     "metadata": {},
     "output_type": "execute_result"
    }
   ],
   "source": [
    "len([1 for s in clypit_sounds if s[3]!=[]])"
   ]
  },
  {
   "cell_type": "code",
   "execution_count": 194,
   "id": "aa63fde9-1f8c-4066-913c-443f5a4a537f",
   "metadata": {},
   "outputs": [
    {
     "data": {
      "text/plain": [
       "320"
      ]
     },
     "execution_count": 194,
     "metadata": {},
     "output_type": "execute_result"
    }
   ],
   "source": [
    "len([1 for s in clypit_sounds if len(s[3])>1])"
   ]
  },
  {
   "cell_type": "code",
   "execution_count": 195,
   "id": "e6894b8a-3d11-4a2e-bec7-c904e6fdbe31",
   "metadata": {
    "tags": []
   },
   "outputs": [
    {
     "data": {
      "text/plain": [
       "[(1,\n",
       "  'תודה',\n",
       "  'https://arabit.me/%d7%aa%d7%95%d7%93%d7%94/',\n",
       "  ['https://clyp.it/3lxfc3rh']),\n",
       " (2,\n",
       "  'מערה',\n",
       "  'https://arabit.me/%d7%9e%d7%a2%d7%a8%d7%94/',\n",
       "  ['https://clyp.it/qgqnj2zc']),\n",
       " (3,\n",
       "  'כיסא נדנדה',\n",
       "  'https://arabit.me/%d7%9b%d7%99%d7%a1%d7%90-%d7%a0%d7%93%d7%a0%d7%93%d7%94/',\n",
       "  []),\n",
       " (4,\n",
       "  'הצטרף',\n",
       "  'https://arabit.me/%d7%94%d7%a6%d7%98%d7%a8%d7%a3/',\n",
       "  ['https://clyp.it/yq0whjd5']),\n",
       " (5,\n",
       "  'טלפון',\n",
       "  'https://arabit.me/%d7%98%d7%9c%d7%a4%d7%95%d7%9f/',\n",
       "  ['https://clyp.it/qfzesdvu'])]"
      ]
     },
     "execution_count": 195,
     "metadata": {},
     "output_type": "execute_result"
    }
   ],
   "source": [
    "clypit_sounds[:5]"
   ]
  },
  {
   "cell_type": "code",
   "execution_count": 158,
   "id": "d900518a-895b-48e1-abcd-6cd059cb94d9",
   "metadata": {},
   "outputs": [
    {
     "data": {
      "text/plain": [
       "2303"
      ]
     },
     "execution_count": 158,
     "metadata": {},
     "output_type": "execute_result"
    }
   ],
   "source": [
    "len(os.listdir('data/arabit/word_pages/'))"
   ]
  },
  {
   "cell_type": "code",
   "execution_count": 212,
   "id": "2397352f-6362-40eb-9f96-846df655781f",
   "metadata": {},
   "outputs": [
    {
     "data": {
      "text/plain": [
       "14"
      ]
     },
     "execution_count": 212,
     "metadata": {},
     "output_type": "execute_result"
    }
   ],
   "source": [
    "len([1 for s, c in zip(sounds, clypit_sounds) if s[3]==[] and c[3]==[]])"
   ]
  },
  {
   "cell_type": "code",
   "execution_count": 213,
   "id": "ae291e7b-0947-407a-9969-b28162cf04b2",
   "metadata": {},
   "outputs": [
    {
     "data": {
      "text/plain": [
       "[('הרה-אסון',\n",
       "  'https://arabit.me/%d7%94%d7%a8%d7%94-%d7%90%d7%a1%d7%95%d7%9f/'),\n",
       " ('זכינו!', 'https://arabit.me/%d7%96%d7%9b%d7%99%d7%a0%d7%95/'),\n",
       " ('התעורר!', 'https://arabit.me/%d7%94%d7%aa%d7%a2%d7%95%d7%a8%d7%a8-2/'),\n",
       " ('דירת יוקרה',\n",
       "  'https://arabit.me/%d7%93%d7%99%d7%a8%d7%aa-%d7%99%d7%95%d7%a7%d7%a8%d7%94/'),\n",
       " ('היריון', 'https://arabit.me/%d7%94%d7%99%d7%a8%d7%99%d7%95%d7%9f-2/'),\n",
       " ('פאודה', 'https://arabit.me/%d7%a4%d7%90%d7%95%d7%93%d7%94/'),\n",
       " ('לקוח', 'https://arabit.me/%d7%9c%d7%a7%d7%95%d7%97/'),\n",
       " ('לאן?', 'https://arabit.me/%d7%9c%d7%90%d7%9f/'),\n",
       " ('קולפן קישואים',\n",
       "  'https://arabit.me/%d7%a7%d7%95%d7%9c%d7%a4%d7%9f-%d7%a7%d7%99%d7%a9%d7%95%d7%90%d7%99%d7%9d/'),\n",
       " ('ילדה קטנה',\n",
       "  'https://arabit.me/%d7%99%d7%9c%d7%93%d7%94-%d7%a7%d7%98%d7%a0%d7%94/'),\n",
       " ('ביטויים ומטבעות לשון',\n",
       "  'https://arabit.me/%d7%91%d7%99%d7%98%d7%95%d7%99%d7%99%d7%9d-%d7%95%d7%9e%d7%98%d7%91%d7%a2%d7%95%d7%aa-%d7%9c%d7%a9%d7%95%d7%9f/'),\n",
       " ('דרך', 'https://arabit.me/%d7%93%d7%a8%d7%9a/'),\n",
       " ('תודה לכם!',\n",
       "  'https://arabit.me/%d7%aa%d7%95%d7%93%d7%94-%d7%9c%d7%9b%d7%9d/'),\n",
       " ('פיצוץ', 'https://arabit.me/%d7%a4%d7%99%d7%a6%d7%95%d7%a5/')]"
      ]
     },
     "execution_count": 213,
     "metadata": {},
     "output_type": "execute_result"
    }
   ],
   "source": [
    "[(c[1], c[2]) for s, c in zip(sounds, clypit_sounds) if s[3]==[] and c[3]==[]]"
   ]
  },
  {
   "cell_type": "code",
   "execution_count": 258,
   "id": "e0cd6e21-2139-41d0-8669-18f5592edbfb",
   "metadata": {},
   "outputs": [],
   "source": [
    "clypit_urls_for_download = []\n",
    "for c in clypit_sounds:\n",
    "    links = c[3]\n",
    "    for link in links:\n",
    "        save_name = link.split('.it/')[1]\n",
    "        clypit_urls_for_download.append((link, save_name))\n",
    "        \n",
    "clypit_urls_for_download = list(set(clypit_urls_for_download))"
   ]
  },
  {
   "cell_type": "code",
   "execution_count": null,
   "id": "8b93aea8-9576-4c68-a788-a06ad83ddf9c",
   "metadata": {},
   "outputs": [],
   "source": [
    "clypit_metadata = []"
   ]
  },
  {
   "cell_type": "code",
   "execution_count": 273,
   "id": "16cebef2-ed6a-4792-8be2-9cc6eb3eb57e",
   "metadata": {},
   "outputs": [
    {
     "name": "stderr",
     "output_type": "stream",
     "text": [
      "  7%|█████▋                                                                           | 98/1404 [00:03<00:31, 41.40it/s]"
     ]
    },
    {
     "name": "stdout",
     "output_type": "stream",
     "text": [
      "{-} Something has gone horribly wrong! Please report on the github issue tracker with the following backtrace: \n",
      "'Title'\n",
      "{-} Something has gone horribly wrong! Please report on the github issue tracker with the following backtrace: \n",
      "'Title'\n"
     ]
    },
    {
     "name": "stderr",
     "output_type": "stream",
     "text": [
      " 13%|██████████▎                                                                     | 181/1404 [00:05<00:24, 50.36it/s]"
     ]
    },
    {
     "name": "stdout",
     "output_type": "stream",
     "text": [
      "{-} Something has gone horribly wrong! Please report on the github issue tracker with the following backtrace: \n",
      "'Title'\n"
     ]
    },
    {
     "name": "stderr",
     "output_type": "stream",
     "text": [
      " 18%|██████████████▎                                                                 | 251/1404 [00:06<00:24, 47.98it/s]"
     ]
    },
    {
     "name": "stdout",
     "output_type": "stream",
     "text": [
      "{-} Something has gone horribly wrong! Please report on the github issue tracker with the following backtrace: \n",
      "'Title'\n"
     ]
    },
    {
     "name": "stderr",
     "output_type": "stream",
     "text": [
      " 38%|██████████████████████████████▋                                                 | 539/1404 [00:12<00:17, 48.39it/s]"
     ]
    },
    {
     "name": "stdout",
     "output_type": "stream",
     "text": [
      "{-} Something has gone horribly wrong! Please report on the github issue tracker with the following backtrace: \n",
      "'Title'\n"
     ]
    },
    {
     "name": "stderr",
     "output_type": "stream",
     "text": [
      " 40%|███████████████████████████████▊                                                | 559/1404 [00:13<00:17, 47.96it/s]"
     ]
    },
    {
     "name": "stdout",
     "output_type": "stream",
     "text": [
      "{-} Something has gone horribly wrong! Please report on the github issue tracker with the following backtrace: \n",
      "'Title'\n"
     ]
    },
    {
     "name": "stderr",
     "output_type": "stream",
     "text": [
      " 51%|████████████████████████████████████████▉                                       | 719/1404 [00:16<00:14, 47.40it/s]"
     ]
    },
    {
     "name": "stdout",
     "output_type": "stream",
     "text": [
      "{-} Something has gone horribly wrong! Please report on the github issue tracker with the following backtrace: \n",
      "'Title'{-} Something has gone horribly wrong! Please report on the github issue tracker with the following backtrace: \n",
      "'Title'\n",
      "\n"
     ]
    },
    {
     "name": "stderr",
     "output_type": "stream",
     "text": [
      " 55%|███████████████████████████████████████████▊                                    | 769/1404 [00:17<00:13, 47.06it/s]"
     ]
    },
    {
     "name": "stdout",
     "output_type": "stream",
     "text": [
      "{-} Something has gone horribly wrong! Please report on the github issue tracker with the following backtrace: \n",
      "'Title'\n"
     ]
    },
    {
     "name": "stderr",
     "output_type": "stream",
     "text": [
      " 64%|███████████████████████████████████████████████████▏                            | 899/1404 [00:20<00:10, 50.17it/s]"
     ]
    },
    {
     "name": "stdout",
     "output_type": "stream",
     "text": [
      "{-} Something has gone horribly wrong! Please report on the github issue tracker with the following backtrace: \n",
      "'Title'\n"
     ]
    },
    {
     "name": "stderr",
     "output_type": "stream",
     "text": [
      " 66%|████████████████████████████████████████████████████▋                           | 925/1404 [00:20<00:09, 48.65it/s]"
     ]
    },
    {
     "name": "stdout",
     "output_type": "stream",
     "text": [
      "{-} Something has gone horribly wrong! Please report on the github issue tracker with the following backtrace: \n",
      "'Title'\n"
     ]
    },
    {
     "name": "stderr",
     "output_type": "stream",
     "text": [
      " 67%|█████████████████████████████████████████████████████▊                          | 945/1404 [00:21<00:09, 47.12it/s]"
     ]
    },
    {
     "name": "stdout",
     "output_type": "stream",
     "text": [
      "{-} Something has gone horribly wrong! Please report on the github issue tracker with the following backtrace: \n",
      "'Title'\n"
     ]
    },
    {
     "name": "stderr",
     "output_type": "stream",
     "text": [
      " 68%|██████████████████████████████████████████████████████▌                         | 958/1404 [00:21<00:08, 52.76it/s]"
     ]
    },
    {
     "name": "stdout",
     "output_type": "stream",
     "text": [
      "{-} Something has gone horribly wrong! Please report on the github issue tracker with the following backtrace: \n",
      "'Title'\n"
     ]
    },
    {
     "name": "stderr",
     "output_type": "stream",
     "text": [
      " 78%|█████████████████████████████████████████████████████████████▋                 | 1097/1404 [00:24<00:05, 53.02it/s]"
     ]
    },
    {
     "name": "stdout",
     "output_type": "stream",
     "text": [
      "{-} Something has gone horribly wrong! Please report on the github issue tracker with the following backtrace: \n",
      "'Title'\n"
     ]
    },
    {
     "name": "stderr",
     "output_type": "stream",
     "text": [
      " 85%|███████████████████████████████████████████████████████████████████▏           | 1193/1404 [00:26<00:04, 44.35it/s]"
     ]
    },
    {
     "name": "stdout",
     "output_type": "stream",
     "text": [
      "{-} Something has gone horribly wrong! Please report on the github issue tracker with the following backtrace: \n",
      "'Title'\n"
     ]
    },
    {
     "name": "stderr",
     "output_type": "stream",
     "text": [
      " 93%|█████████████████████████████████████████████████████████████████████████▎     | 1302/1404 [00:28<00:02, 47.01it/s]"
     ]
    },
    {
     "name": "stdout",
     "output_type": "stream",
     "text": [
      "{-} Something has gone horribly wrong! Please report on the github issue tracker with the following backtrace: \n",
      "'Title'\n"
     ]
    },
    {
     "name": "stderr",
     "output_type": "stream",
     "text": [
      " 94%|██████████████████████████████████████████████████████████████████████████▍    | 1322/1404 [00:29<00:01, 46.27it/s]"
     ]
    },
    {
     "name": "stdout",
     "output_type": "stream",
     "text": [
      "{-} Something has gone horribly wrong! Please report on the github issue tracker with the following backtrace: \n",
      "'Title'\n"
     ]
    },
    {
     "name": "stderr",
     "output_type": "stream",
     "text": [
      "100%|███████████████████████████████████████████████████████████████████████████████| 1404/1404 [00:31<00:00, 45.24it/s]\n"
     ]
    }
   ],
   "source": [
    "from concurrent.futures import ThreadPoolExecutor\n",
    "\n",
    "def save_clypit(params):\n",
    "    link, save_name = params\n",
    "    try:\n",
    "        song_title, mp3_url = get_mp3_url(url=link)\n",
    "    except:\n",
    "        return\n",
    "    output_name = song_title.replace('/', '-')+'.mp3'\n",
    "    output_path = f'data/arabit/clypit/{output_name}'\n",
    "    if not os.path.exists(output_path): \n",
    "        download(mp3_url, output_path)\n",
    "        with open(output_path, 'w') as f:\n",
    "            f.write(word_page_html.text)\n",
    "    md_name = output_name.replace('.mp3', '.json')\n",
    "    metadata_output_path = f'data/arabit/clypit_metadata/{md_name}'\n",
    "    with open(metadata_output_path, 'w') as f:\n",
    "        json.dump({'link': link, 'song_title': song_title, 'mp3_url': mp3_url, 'output_name': output_name}, f, indent=4)\n",
    "\n",
    "with ThreadPoolExecutor(max_workers=10) as executor:\n",
    "    list(tqdm(executor.map(save_clypit, clypit_urls_for_download), total=len(clypit_urls_for_download)))"
   ]
  },
  {
   "cell_type": "code",
   "execution_count": 367,
   "id": "c14b7ad4-0f24-4ee2-8ac1-73f95b85191f",
   "metadata": {},
   "outputs": [
    {
     "data": {
      "text/html": [
       "<div>\n",
       "<style scoped>\n",
       "    .dataframe tbody tr th:only-of-type {\n",
       "        vertical-align: middle;\n",
       "    }\n",
       "\n",
       "    .dataframe tbody tr th {\n",
       "        vertical-align: top;\n",
       "    }\n",
       "\n",
       "    .dataframe thead th {\n",
       "        text-align: right;\n",
       "    }\n",
       "</style>\n",
       "<table border=\"1\" class=\"dataframe\">\n",
       "  <thead>\n",
       "    <tr style=\"text-align: right;\">\n",
       "      <th></th>\n",
       "      <th>link</th>\n",
       "      <th>song_title</th>\n",
       "      <th>mp3_url</th>\n",
       "      <th>output_name</th>\n",
       "      <th>local_clypit_file</th>\n",
       "    </tr>\n",
       "  </thead>\n",
       "  <tbody>\n",
       "    <tr>\n",
       "      <th>0</th>\n",
       "      <td>https://clyp.it/kld0eorr</td>\n",
       "      <td>ברג'</td>\n",
       "      <td>https://a.clyp.it/kld0eorr.mp3</td>\n",
       "      <td>ברג'.mp3</td>\n",
       "      <td>data/arabit/clypit/ברג'.mp3</td>\n",
       "    </tr>\n",
       "    <tr>\n",
       "      <th>1</th>\n",
       "      <td>https://clyp.it/ilsyy0aa</td>\n",
       "      <td>בלאש</td>\n",
       "      <td>https://audio.clyp.it/ilsyy0aa.mp3?Expires=170...</td>\n",
       "      <td>בלאש.mp3</td>\n",
       "      <td>data/arabit/clypit/בלאש.mp3</td>\n",
       "    </tr>\n",
       "    <tr>\n",
       "      <th>2</th>\n",
       "      <td>https://clyp.it/qmtjcccr</td>\n",
       "      <td>ד׳וק</td>\n",
       "      <td>https://audio.clyp.it/qmtjcccr.mp3?Expires=170...</td>\n",
       "      <td>ד׳וק.mp3</td>\n",
       "      <td>data/arabit/clypit/ד׳וק.mp3</td>\n",
       "    </tr>\n",
       "    <tr>\n",
       "      <th>3</th>\n",
       "      <td>https://clyp.it/tiq5eq4j</td>\n",
       "      <td>פטאיר</td>\n",
       "      <td>https://a.clyp.it/tiq5eq4j.mp3</td>\n",
       "      <td>פטאיר.mp3</td>\n",
       "      <td>data/arabit/clypit/פטאיר.mp3</td>\n",
       "    </tr>\n",
       "    <tr>\n",
       "      <th>4</th>\n",
       "      <td>https://clyp.it/f2jolwl2</td>\n",
       "      <td>ג׳והר</td>\n",
       "      <td>https://audio.clyp.it/f2jolwl2.mp3?Expires=170...</td>\n",
       "      <td>ג׳והר.mp3</td>\n",
       "      <td>data/arabit/clypit/ג׳והר.mp3</td>\n",
       "    </tr>\n",
       "    <tr>\n",
       "      <th>...</th>\n",
       "      <td>...</td>\n",
       "      <td>...</td>\n",
       "      <td>...</td>\n",
       "      <td>...</td>\n",
       "      <td>...</td>\n",
       "    </tr>\n",
       "    <tr>\n",
       "      <th>1374</th>\n",
       "      <td>https://clyp.it/l5owm2jn</td>\n",
       "      <td>סמיתו אלכלב בובי</td>\n",
       "      <td>https://audio.clyp.it/l5owm2jn.mp3?Expires=170...</td>\n",
       "      <td>סמיתו אלכלב בובי.mp3</td>\n",
       "      <td>data/arabit/clypit/סמיתו אלכלב בובי.mp3</td>\n",
       "    </tr>\n",
       "    <tr>\n",
       "      <th>1375</th>\n",
       "      <td>https://clyp.it/ol0silvr</td>\n",
       "      <td>ח׳ליפה</td>\n",
       "      <td>https://audio.clyp.it/ol0silvr.mp3?Expires=170...</td>\n",
       "      <td>ח׳ליפה.mp3</td>\n",
       "      <td>data/arabit/clypit/ח׳ליפה.mp3</td>\n",
       "    </tr>\n",
       "    <tr>\n",
       "      <th>1376</th>\n",
       "      <td>https://clyp.it/uem0rrak</td>\n",
       "      <td>חט'ירה</td>\n",
       "      <td>https://audio.clyp.it/uem0rrak.mp3?Expires=170...</td>\n",
       "      <td>חט'ירה.mp3</td>\n",
       "      <td>data/arabit/clypit/חט'ירה.mp3</td>\n",
       "    </tr>\n",
       "    <tr>\n",
       "      <th>1377</th>\n",
       "      <td>https://clyp.it/x52i1etn</td>\n",
       "      <td>נקאבה</td>\n",
       "      <td>https://audio.clyp.it/x52i1etn.mp3?Expires=170...</td>\n",
       "      <td>נקאבה.mp3</td>\n",
       "      <td>data/arabit/clypit/נקאבה.mp3</td>\n",
       "    </tr>\n",
       "    <tr>\n",
       "      <th>1378</th>\n",
       "      <td>https://clyp.it/wkna0431</td>\n",
       "      <td>רשת מלח</td>\n",
       "      <td>https://audio.clyp.it/wkna0431.mp3?Expires=170...</td>\n",
       "      <td>רשת מלח.mp3</td>\n",
       "      <td>data/arabit/clypit/רשת מלח.mp3</td>\n",
       "    </tr>\n",
       "  </tbody>\n",
       "</table>\n",
       "<p>1379 rows × 5 columns</p>\n",
       "</div>"
      ],
      "text/plain": [
       "                          link        song_title  \\\n",
       "0     https://clyp.it/kld0eorr              ברג'   \n",
       "1     https://clyp.it/ilsyy0aa              בלאש   \n",
       "2     https://clyp.it/qmtjcccr              ד׳וק   \n",
       "3     https://clyp.it/tiq5eq4j             פטאיר   \n",
       "4     https://clyp.it/f2jolwl2             ג׳והר   \n",
       "...                        ...               ...   \n",
       "1374  https://clyp.it/l5owm2jn  סמיתו אלכלב בובי   \n",
       "1375  https://clyp.it/ol0silvr            ח׳ליפה   \n",
       "1376  https://clyp.it/uem0rrak            חט'ירה   \n",
       "1377  https://clyp.it/x52i1etn             נקאבה   \n",
       "1378  https://clyp.it/wkna0431           רשת מלח   \n",
       "\n",
       "                                                mp3_url           output_name  \\\n",
       "0                        https://a.clyp.it/kld0eorr.mp3              ברג'.mp3   \n",
       "1     https://audio.clyp.it/ilsyy0aa.mp3?Expires=170...              בלאש.mp3   \n",
       "2     https://audio.clyp.it/qmtjcccr.mp3?Expires=170...              ד׳וק.mp3   \n",
       "3                        https://a.clyp.it/tiq5eq4j.mp3             פטאיר.mp3   \n",
       "4     https://audio.clyp.it/f2jolwl2.mp3?Expires=170...             ג׳והר.mp3   \n",
       "...                                                 ...                   ...   \n",
       "1374  https://audio.clyp.it/l5owm2jn.mp3?Expires=170...  סמיתו אלכלב בובי.mp3   \n",
       "1375  https://audio.clyp.it/ol0silvr.mp3?Expires=170...            ח׳ליפה.mp3   \n",
       "1376  https://audio.clyp.it/uem0rrak.mp3?Expires=170...            חט'ירה.mp3   \n",
       "1377  https://audio.clyp.it/x52i1etn.mp3?Expires=170...             נקאבה.mp3   \n",
       "1378  https://audio.clyp.it/wkna0431.mp3?Expires=170...           רשת מלח.mp3   \n",
       "\n",
       "                            local_clypit_file  \n",
       "0                 data/arabit/clypit/ברג'.mp3  \n",
       "1                 data/arabit/clypit/בלאש.mp3  \n",
       "2                 data/arabit/clypit/ד׳וק.mp3  \n",
       "3                data/arabit/clypit/פטאיר.mp3  \n",
       "4                data/arabit/clypit/ג׳והר.mp3  \n",
       "...                                       ...  \n",
       "1374  data/arabit/clypit/סמיתו אלכלב בובי.mp3  \n",
       "1375            data/arabit/clypit/ח׳ליפה.mp3  \n",
       "1376            data/arabit/clypit/חט'ירה.mp3  \n",
       "1377             data/arabit/clypit/נקאבה.mp3  \n",
       "1378           data/arabit/clypit/רשת מלח.mp3  \n",
       "\n",
       "[1379 rows x 5 columns]"
      ]
     },
     "execution_count": 367,
     "metadata": {},
     "output_type": "execute_result"
    }
   ],
   "source": [
    "clypit_sounds_metadata = []\n",
    "for file in os.listdir('data/arabit/clypit_metadata'):\n",
    "    if not '.json' in file:\n",
    "        continue\n",
    "    with open('data/arabit/clypit_metadata/'+file, 'r') as f:\n",
    "        md = json.load(f)\n",
    "    md['local_clypit_file'] = ('data/arabit/clypit_metadata/'+file).replace('.json', '.mp3').replace('_metadata/', '/')\n",
    "    clypit_sounds_metadata.append(md)\n",
    "    \n",
    "clypit_df = pd.DataFrame(clypit_sounds_metadata)\n",
    "clypit_df"
   ]
  },
  {
   "cell_type": "code",
   "execution_count": 380,
   "id": "c102f630-54f3-4fca-becb-408461ae98dc",
   "metadata": {
    "collapsed": true,
    "jupyter": {
     "outputs_hidden": true
    },
    "tags": []
   },
   "outputs": [
    {
     "data": {
      "text/plain": [
       "{'https://clyp.it/kld0eorr': \"ברג'\",\n",
       " 'https://clyp.it/ilsyy0aa': 'בלאש',\n",
       " 'https://clyp.it/qmtjcccr': 'ד׳וק',\n",
       " 'https://clyp.it/tiq5eq4j': 'פטאיר',\n",
       " 'https://clyp.it/f2jolwl2': 'ג׳והר',\n",
       " 'https://clyp.it/riv2uht4': 'אשקר',\n",
       " 'https://clyp.it/xny1xhoq': 'זאח',\n",
       " 'https://clyp.it/iav10n3x': 'תוזיע',\n",
       " 'https://clyp.it/hxed5xcf': 'תסריח',\n",
       " 'https://clyp.it/z3kcszc1': 'פרקה',\n",
       " 'https://clyp.it/qbuuchao': 'ח׳רפ',\n",
       " 'https://clyp.it/wr35ms0w': 'כאמל אלאוצאף',\n",
       " 'https://clyp.it/sbruca4p': 'חדאד',\n",
       " 'https://clyp.it/dtvty453': 'אסד',\n",
       " 'https://clyp.it/g1wadnbi': 'דולה',\n",
       " 'https://clyp.it/hdzssbvb': 'חראם',\n",
       " 'https://clyp.it/t1hofaza': 'מכפוף',\n",
       " 'https://clyp.it/3tizrxcq': 'ג׳אג׳',\n",
       " 'https://clyp.it/sgaj5vlb': 'תפרג׳',\n",
       " 'https://clyp.it/zqrdhsay': 'חואג׳ה',\n",
       " 'https://clyp.it/erifsjcv': 'וחי',\n",
       " 'https://clyp.it/4kqrhrv3': 'דרבכה',\n",
       " 'https://clyp.it/10dd3llw': \"פִנְגַ'אן\",\n",
       " 'https://clyp.it/huengh5c': 'חאפיה',\n",
       " 'https://clyp.it/0itzhqgm': 'לע׳ז',\n",
       " 'https://clyp.it/2cqttciy': 'פג׳עאן',\n",
       " 'https://clyp.it/trcn5mgw': 'חמל',\n",
       " 'https://clyp.it/wplfyues': \"תאג'\",\n",
       " 'https://clyp.it/dhozm5kh': 'טיר',\n",
       " 'https://clyp.it/vt0e4ev2': 'בנאא׳',\n",
       " 'https://clyp.it/43crg5ch': 'צ׳עיפ',\n",
       " 'https://clyp.it/owjdok5x': 'אלקאהרה',\n",
       " 'https://clyp.it/tf0zheoz': 'נמר',\n",
       " 'https://clyp.it/rb0acx52': 'חקל',\n",
       " 'https://clyp.it/0pfxqddu': 'תדליכ',\n",
       " 'https://clyp.it/hhjcvkvf': 'מרמרה',\n",
       " 'https://clyp.it/f2rlnejw': 'ח׳דמה',\n",
       " 'https://clyp.it/spjd0atv': 'אלחב סתאר אלעיוב',\n",
       " 'https://clyp.it/zkwz1hxm': 'בלוה',\n",
       " 'https://clyp.it/ptsjij4o': 'לפה',\n",
       " 'https://clyp.it/4isn204y': 'צחראא׳',\n",
       " 'https://clyp.it/xmfs0ivp': 'ח׳ויף',\n",
       " 'https://clyp.it/5mvluz41': 'אח׳ד׳',\n",
       " 'https://clyp.it/2oe3wosn': \"אלקנפד'\",\n",
       " 'https://clyp.it/ysh1zyea': 'ח׳רוג׳',\n",
       " 'https://clyp.it/4p3z04ut': 'ח׳רבש',\n",
       " 'https://clyp.it/5k2gvycl': \"אח'טבוט\",\n",
       " 'https://clyp.it/daw30dxh': 'עקיקה',\n",
       " 'https://clyp.it/d5td4lzb': 'כפארה',\n",
       " 'https://clyp.it/ccwd1b1z': 'מדלל',\n",
       " 'https://clyp.it/o5vjtkah': 'אטרש',\n",
       " 'https://clyp.it/0j5vx3ge': 'צרצור',\n",
       " 'https://clyp.it/euofhxap': 'עקד',\n",
       " 'https://clyp.it/0ferag4y': 'ראמאללה',\n",
       " 'https://clyp.it/twb4frq4': 'קבאר',\n",
       " 'https://clyp.it/ine3brxy': 'אחתפא׳',\n",
       " 'https://clyp.it/puuynrta': 'טאע׳יה',\n",
       " 'https://clyp.it/zcgyfwcl': 'מסתוטנא',\n",
       " 'https://clyp.it/mb2m2q5e': 'כראהיה',\n",
       " 'https://clyp.it/2dhmwxcy': 'תקריר',\n",
       " 'https://clyp.it/paaz0awt': 'רג׳ע',\n",
       " 'https://clyp.it/klcfccdr': 'בלהמוטי',\n",
       " 'https://clyp.it/tdrdzhqi': 'אסם עלא מסמא',\n",
       " 'https://clyp.it/lx2bgqkm': 'אקלאע',\n",
       " 'https://clyp.it/riwo2lka': 'פל',\n",
       " 'https://clyp.it/2q0gqkzi': 'אעמא',\n",
       " 'https://clyp.it/iyrnuzk0': 'שארע',\n",
       " 'https://clyp.it/wb30mpdp': 'בלבלה',\n",
       " 'https://clyp.it/e2g3pguz': 'כאתב טבאעה',\n",
       " 'https://clyp.it/mlf02ail': 'ג׳ח׳ה',\n",
       " 'https://clyp.it/fu2wc0o4': 'קיאדה',\n",
       " 'https://clyp.it/mdzeoplr': 'מפאעל נווי',\n",
       " 'https://clyp.it/gprestt5': 'יאקות',\n",
       " 'https://clyp.it/verikcgo': 'עמוד',\n",
       " 'https://clyp.it/bwdvljy1': 'מא׳מן',\n",
       " 'https://clyp.it/bhonqq55': 'ע׳מה',\n",
       " 'https://clyp.it/yq0whjd5': 'צ׳ם',\n",
       " 'https://clyp.it/4vmztzb3': 'בלדי',\n",
       " 'https://clyp.it/sq5fqxwj': 'בקשיש',\n",
       " 'https://clyp.it/dvtescho': 'מנחוס',\n",
       " 'https://clyp.it/ows03uik': 'כושוכ',\n",
       " 'https://clyp.it/jhtd2ilf': 'אבתזאז',\n",
       " 'https://clyp.it/kin5z1qj': 'חמלה',\n",
       " 'https://clyp.it/dyzxny5t': 'לוז',\n",
       " 'https://clyp.it/3scldpnj': 'ח׳וארזמיה',\n",
       " 'https://clyp.it/ztzqo3ip': 'לענה',\n",
       " 'https://clyp.it/ibnbiwou': 'חדותה',\n",
       " 'https://clyp.it/kssyryod': 'בחיאת רבכ',\n",
       " 'https://clyp.it/dt5svhd5': 'תחבא',\n",
       " 'https://clyp.it/qnii4ipa': 'זקה',\n",
       " 'https://clyp.it/5ooj4yxg': 'ח׳טיב',\n",
       " 'https://clyp.it/plaqrtrl': 'נח׳וה',\n",
       " 'https://clyp.it/q14c1qia': 'שביכ לביכ',\n",
       " 'https://clyp.it/oxfhc0y5': 'מחאמי',\n",
       " 'https://clyp.it/hiitzm2y': 'אנף',\n",
       " 'https://clyp.it/vffeomvh': 'לצקה',\n",
       " 'https://clyp.it/j1g3faaj': 'שם אלהוא',\n",
       " 'https://clyp.it/ph3q05dt': 'אלחלים',\n",
       " 'https://clyp.it/ijlbpgze': 'הדא',\n",
       " 'https://clyp.it/1b0gnpwb': 'שפאף',\n",
       " 'https://clyp.it/v4qor50m': 'עארצה אזיאא׳',\n",
       " 'https://clyp.it/neo5kkyb': 'אטלאק',\n",
       " 'https://clyp.it/01u55isp': 'רערע',\n",
       " 'https://clyp.it/gjgpoekr': 'אללה וכילכ',\n",
       " 'https://clyp.it/ibbxeehm': 'אללי ח׳לף מא מאת',\n",
       " 'https://clyp.it/qpsgrhxb': 'נזאע',\n",
       " 'https://clyp.it/ptwwx3it': 'שהד',\n",
       " 'https://clyp.it/tc3zw1yp': 'חסאסיה',\n",
       " 'https://clyp.it/1pre5v3y': \"ג'זר\",\n",
       " 'https://clyp.it/okqd0vck': 'מערוף',\n",
       " 'https://clyp.it/tjalq0eh': 'מחסובכ',\n",
       " 'https://clyp.it/2to403gh': \"בוט'ה\",\n",
       " 'https://clyp.it/4kk3rubc': 'עם',\n",
       " 'https://clyp.it/aoy1gniv': 'ג׳אמוס',\n",
       " 'https://clyp.it/4keasotn': 'זלמה',\n",
       " 'https://clyp.it/rlcqtz2y': 'סלבי',\n",
       " 'https://clyp.it/tfoxobbg': \"מד'בחה\",\n",
       " 'https://clyp.it/1nyybjuj': 'רבאח',\n",
       " 'https://clyp.it/memg1aqi': 'משתקאת',\n",
       " 'https://clyp.it/hoxssmb5': 'מפחפח',\n",
       " 'https://clyp.it/cbecxwuh': 'רואבי',\n",
       " 'https://clyp.it/ilbhy415': 'יטול עמרכ',\n",
       " 'https://clyp.it/ip1sdtzt': 'דרויש',\n",
       " 'https://clyp.it/3oiww5g4': 'קלנסוה',\n",
       " 'https://clyp.it/cz0dlcw3': 'אלח’בז אלחאפ בערצ’ אלכתאפ',\n",
       " 'https://clyp.it/qp5fe3d0': 'סיטרה',\n",
       " 'https://clyp.it/dr1mgqkq': 'טבל',\n",
       " 'https://clyp.it/hmnb2dgj': 'ובעדין',\n",
       " 'https://clyp.it/o0runwiy': 'אלמדינה',\n",
       " 'https://clyp.it/ll0c2qrb': 'משחר',\n",
       " 'https://clyp.it/fz1t5gxc': 'כיס',\n",
       " 'https://clyp.it/4cfj3qzd': 'ערבה',\n",
       " 'https://clyp.it/smfluke5': \"ע'זאל\",\n",
       " 'https://clyp.it/kvskvdqu': \"אלקרד פי עין אמה ע'זאל\",\n",
       " 'https://clyp.it/hrrnpp51': 'ט׳ל',\n",
       " 'https://clyp.it/midrko5f': \"תע'דא ותמדא תעשא ותמשא\",\n",
       " 'https://clyp.it/pk3nnxle': 'קלקאן',\n",
       " 'https://clyp.it/wnfhtiqp': 'אסיר',\n",
       " 'https://clyp.it/xxlcja0l': 'אללה יעינכ',\n",
       " 'https://clyp.it/13uuhzwi': 'מע׳לע׳ל',\n",
       " 'https://clyp.it/j1bfoeia': 'דהאן',\n",
       " 'https://clyp.it/3t2u3cbm': 'רבת אלבית',\n",
       " 'https://clyp.it/fcovcvcb': 'מרג׳יחה',\n",
       " 'https://clyp.it/kcdysale': 'מוהוב',\n",
       " 'https://clyp.it/15fz1kfx': 'הלאל',\n",
       " 'https://clyp.it/f4jlrpox': \"ע'ראב\",\n",
       " 'https://clyp.it/vr1iickt': 'שפיק',\n",
       " 'https://clyp.it/vwjbhpwc': 'נאצח',\n",
       " 'https://clyp.it/hsxqlmev': 'לאם',\n",
       " 'https://clyp.it/xrsem04e': 'בהדלה',\n",
       " 'https://clyp.it/mno3icjg': 'פחם',\n",
       " 'https://clyp.it/rotenfy2': 'זנח׳',\n",
       " 'https://clyp.it/1ug0vmas': 'קוה',\n",
       " 'https://clyp.it/jx4nf5wm': 'צות',\n",
       " 'https://clyp.it/d1hvvs1p': 'ברכאן',\n",
       " 'https://clyp.it/p1qsgm1h': 'חִמַאר וַחְש',\n",
       " 'https://clyp.it/srnjkq2v': 'שע׳ף',\n",
       " 'https://clyp.it/hxi2ifl2': 'ופאא׳',\n",
       " 'https://clyp.it/bwamf0gy': \"זע'יר\",\n",
       " 'https://clyp.it/ejkzgayf': 'קמיץ',\n",
       " 'https://clyp.it/amfky0wx': 'נורס',\n",
       " 'https://clyp.it/nf10rn2j': 'מנע',\n",
       " 'https://clyp.it/40ogbpbv': 'ודאע',\n",
       " 'https://clyp.it/m3241w1b': 'מצאריף',\n",
       " 'https://clyp.it/p1p5ftud': \"ח'בז מרקוק\",\n",
       " 'https://clyp.it/zivp0qe4': \"ע'אלי\",\n",
       " 'https://clyp.it/y4moxpbf': 'תקסים',\n",
       " 'https://clyp.it/400asbq0': 'פלוס',\n",
       " 'https://clyp.it/h2qg1zgl': 'מסתנקע',\n",
       " 'https://clyp.it/wzsgx4ix': 'רסול',\n",
       " 'https://clyp.it/0qyzwdhd': 'צ׳ב',\n",
       " 'https://clyp.it/4gpb2ogx': 'דבכה',\n",
       " 'https://clyp.it/xgjhr1lh': 'זין',\n",
       " 'https://clyp.it/s2n23hqw': 'דואמה תראביה',\n",
       " 'https://clyp.it/kv1hytdn': 'מקעד חדיקה',\n",
       " 'https://clyp.it/hpysrcrt': \"אבוכ בצל ואמכ ת'ום, מנינ לכ אלריחה אלטיבה\",\n",
       " 'https://clyp.it/rwt2q4pi': 'הרם',\n",
       " 'https://clyp.it/yikg2lj1': 'מתח׳צץ',\n",
       " 'https://clyp.it/zx020auc': 'אלסכרי',\n",
       " 'https://clyp.it/y0b33roa': 'פרפש',\n",
       " 'https://clyp.it/wksrjy3o': 'בגדאד',\n",
       " 'https://clyp.it/vu1jcll0': 'אתצל',\n",
       " 'https://clyp.it/ld3amfvq': 'אנואר',\n",
       " 'https://clyp.it/b4b2rwto': 'נטיטה',\n",
       " 'https://clyp.it/l5dhvrk3': 'עלמאני',\n",
       " 'https://clyp.it/s1fd4on2': 'צנדוק',\n",
       " 'https://clyp.it/11rdinjn': 'חלק',\n",
       " 'https://clyp.it/mqbxfxvz': 'נסר',\n",
       " 'https://clyp.it/mqvlktqi': 'רחמן',\n",
       " 'https://clyp.it/odgj5abf': 'אלתהאב',\n",
       " 'https://clyp.it/tbvoktxb': 'נפס אלשי',\n",
       " 'https://clyp.it/mkrmruhf': 'מסקעה',\n",
       " 'https://clyp.it/a4okmvnp': 'ח׳רמאן',\n",
       " 'https://clyp.it/ljblhmc4': 'בשע',\n",
       " 'https://clyp.it/anw1scgu': 'באבור',\n",
       " 'https://clyp.it/jyfrdxhu': 'דרב אלתבאנה',\n",
       " 'https://clyp.it/4emlid50': 'מתוסט',\n",
       " 'https://clyp.it/3rdhoisq': 'פלספה',\n",
       " 'https://clyp.it/xwsk20n2': 'ח׳פיפ ונט׳יפ',\n",
       " 'https://clyp.it/wnejcntw': 'פתוא',\n",
       " 'https://clyp.it/wzqpuc4o': 'באסל',\n",
       " 'https://clyp.it/jpof3wo1': 'נחס',\n",
       " 'https://clyp.it/k2ysyik4': 'מקרן',\n",
       " 'https://clyp.it/hkmwk4ht': 'סיא',\n",
       " 'https://clyp.it/1ss5o3xh': 'צאחבכ',\n",
       " 'https://clyp.it/5ul05ll1': 'מאכל הוא',\n",
       " 'https://clyp.it/qm3d24hg': 'ימא',\n",
       " 'https://clyp.it/yolzlssd': 'אבצר',\n",
       " 'https://clyp.it/u4k51pqq': 'קבה',\n",
       " 'https://clyp.it/xrdqgizl': 'וקת',\n",
       " 'https://clyp.it/jy1ssfod': 'סיארה משטובה',\n",
       " 'https://clyp.it/ad5gb241': 'ט׳מאאן',\n",
       " 'https://clyp.it/ir0o0vxw': 'ח׳אוה',\n",
       " 'https://clyp.it/oguoqnxt': 'צ׳רר',\n",
       " 'https://clyp.it/2dnddkgp': 'מנתזה',\n",
       " 'https://clyp.it/t05t3s5q': 'כפכ',\n",
       " 'https://clyp.it/3rdvserp': 'כרכובה',\n",
       " 'https://clyp.it/qqwkhjp2': 'בטיח׳ אצפר',\n",
       " 'https://clyp.it/w3qwejdg': 'אלסלאם',\n",
       " 'https://clyp.it/wbds0qfv': 'מצארעה',\n",
       " 'https://clyp.it/l3ksqdeq': 'בואבה',\n",
       " 'https://clyp.it/ltxh4tin': \"עמליה ג'ראחיה\",\n",
       " 'https://clyp.it/hedggkqn': 'רכן',\n",
       " 'https://clyp.it/gitae2ld': 'וסאדה',\n",
       " 'https://clyp.it/w13gascz': 'משרובאת',\n",
       " 'https://clyp.it/vd0n5p1b': 'סואקה',\n",
       " 'https://clyp.it/bnbcmbyp': 'עדאלה',\n",
       " 'https://clyp.it/0nz1t4mp': 'זבאלה',\n",
       " 'https://clyp.it/2gzxgmv1': 'ג׳מילה',\n",
       " 'https://clyp.it/onumnrn4': 'פספוס',\n",
       " 'https://clyp.it/a4gddwwu': 'טאולה',\n",
       " 'https://clyp.it/gdrxz1c1': 'בסטה',\n",
       " 'https://clyp.it/c4p5orit': 'דודא',\n",
       " 'https://clyp.it/twfxrv5b': 'סמכ',\n",
       " 'https://clyp.it/isg2qtba': 'מחטה באצאת',\n",
       " 'https://clyp.it/0cmjnf00': 'כשאפה',\n",
       " 'https://clyp.it/1g0dnnft': 'פלאפל',\n",
       " 'https://clyp.it/4nrlxgnf': 'ראח',\n",
       " 'https://clyp.it/55oy2qxr': 'פח׳',\n",
       " 'https://clyp.it/m5n3nphx': 'שאדי',\n",
       " 'https://clyp.it/40uqo4i2': 'נציב',\n",
       " 'https://clyp.it/pntdac1x': 'שילה בילה',\n",
       " 'https://clyp.it/nddimqhy': 'ג׳אהל',\n",
       " 'https://clyp.it/x0sokb10': 'ענטז',\n",
       " 'https://clyp.it/imv0sjnb': 'בסתאנ',\n",
       " 'https://clyp.it/ma4a4qgm': 'טריק',\n",
       " 'https://clyp.it/10dkni1n': 'נוח',\n",
       " 'https://clyp.it/yjxdir3l': 'טהור',\n",
       " 'https://clyp.it/5fe5g5bz': 'מסתשפא',\n",
       " 'https://clyp.it/zdvjmebr': 'מסתחיל',\n",
       " 'https://clyp.it/t45fgj1o': 'אג׳לכ',\n",
       " 'https://clyp.it/ga4abkhd': 'מח׳ים',\n",
       " 'https://clyp.it/hptwh3no': 'אח׳ס',\n",
       " 'https://clyp.it/5l0hgap1': 'אלקאדר',\n",
       " 'https://clyp.it/hekjjdfe': 'מעפן',\n",
       " 'https://clyp.it/51hjngav': 'ע׳מצ׳',\n",
       " 'https://clyp.it/ypn3qfbx': 'בהלואן',\n",
       " 'https://clyp.it/shiefuen': 'מחל אלדיב',\n",
       " 'https://clyp.it/0bzaanns': 'מזנוק',\n",
       " 'https://clyp.it/0z2r1klo': 'בעאד',\n",
       " 'https://clyp.it/e223hxte': 'שהר',\n",
       " 'https://clyp.it/psie2rzo': 'וש',\n",
       " 'https://clyp.it/fmk5id2w': 'אניס',\n",
       " 'https://clyp.it/bmftfwo1': 'קנבלה',\n",
       " 'https://clyp.it/hojmrz0p': 'באלעכס',\n",
       " 'https://clyp.it/2sizvetn': 'כאדר',\n",
       " 'https://clyp.it/l5shl5bu': 'אללה יסתר',\n",
       " 'https://clyp.it/udzmcegs': 'תדריב',\n",
       " 'https://clyp.it/t54xsuwu': 'צ׳אע',\n",
       " 'https://clyp.it/3udbxnnd': 'אכל הם',\n",
       " 'https://clyp.it/zafw04nf': 'כלב',\n",
       " 'https://clyp.it/2bfvbbak': 'דח׳ילכ',\n",
       " 'https://clyp.it/eil12pok': 'ג׳בל',\n",
       " 'https://clyp.it/x54mvjoe': 'עשק',\n",
       " 'https://clyp.it/tlmwg4nv': 'פולה ואנקסמת נצין',\n",
       " 'https://clyp.it/ds2ioyft': 'בנדקיה',\n",
       " 'https://clyp.it/0nnqdspw': 'עטשאן',\n",
       " 'https://clyp.it/l4jkvbpx': 'עצ׳בן ענכ',\n",
       " 'https://clyp.it/3wz1ztw2': 'ארז',\n",
       " 'https://clyp.it/kfkbch4b': 'עילה',\n",
       " 'https://clyp.it/ljrenwky': 'נצ',\n",
       " 'https://clyp.it/n0itassx': 'עמר',\n",
       " 'https://clyp.it/tuai3njv': 'חאא׳ט אלמבכא',\n",
       " 'https://clyp.it/m5pxu2wy': 'עכוב',\n",
       " 'https://clyp.it/cow3ggib': '99',\n",
       " 'https://clyp.it/nd5jz52o': 'קאעדה',\n",
       " 'https://clyp.it/qzc5og1i': 'ג׳ד׳ר',\n",
       " 'https://clyp.it/ehzwodvx': 'נקאק',\n",
       " 'https://clyp.it/ja5uv0kq': 'חמאר אלמרה',\n",
       " 'https://clyp.it/w20h5pkn': 'מהלביה',\n",
       " 'https://clyp.it/vjcng34r': 'הנאדי',\n",
       " 'https://clyp.it/04ckaig0': 'בימון עלי',\n",
       " 'https://clyp.it/h0xkkpgs': 'עפרית',\n",
       " 'https://clyp.it/veek0ekg': 'שריחה',\n",
       " 'https://clyp.it/wyty0uof': 'ורקה',\n",
       " 'https://clyp.it/yw55kftv': 'אג׳האצ׳',\n",
       " 'https://clyp.it/qnxec4qg': 'טח׳',\n",
       " 'https://clyp.it/wkmkhwh1': 'פתאכ',\n",
       " 'https://clyp.it/ophcpk53': 'שג׳אע',\n",
       " 'https://clyp.it/2lmcca4m': 'נבות',\n",
       " 'https://clyp.it/r2wvv5tw': 'דיב',\n",
       " 'https://clyp.it/zt1bgl0l': \"בח'ת\",\n",
       " 'https://clyp.it/k2xnlwv2': 'מנאיכ',\n",
       " 'https://clyp.it/x4vdvvgl': 'טרב',\n",
       " 'https://clyp.it/dfbj1h2y': 'ג׳ורה',\n",
       " 'https://clyp.it/b20orbac': 'וזיר',\n",
       " 'https://clyp.it/nednlwg5': 'לטמה',\n",
       " 'https://clyp.it/yxyzbgdu': 'ילא',\n",
       " 'https://clyp.it/ckosxnmp': 'ג׳לי',\n",
       " 'https://clyp.it/siv5a3t4': 'מחשי',\n",
       " 'https://clyp.it/rejorxhd': 'פאס',\n",
       " 'https://clyp.it/mtbdpw1a': 'רעד',\n",
       " 'https://clyp.it/kxv24wep': 'חכואתי',\n",
       " 'https://clyp.it/spk40njj': 'ניאלכ',\n",
       " 'https://clyp.it/scfx4ybm': 'סמיח',\n",
       " 'https://clyp.it/esvm02zw': 'תע׳נדר',\n",
       " 'https://clyp.it/czz1eplb': 'צידלי',\n",
       " 'https://clyp.it/kgxuolc3': 'שראכה',\n",
       " 'https://clyp.it/afg5soyt': 'ממסחה',\n",
       " 'https://clyp.it/bvnvutcc': 'נמש',\n",
       " 'https://clyp.it/nqhac31y': 'רפצ׳',\n",
       " 'https://clyp.it/nuamqdib': 'סמח',\n",
       " 'https://clyp.it/0oqm0jio': 'אלמאניא',\n",
       " 'https://clyp.it/hzoclmcv': 'כרה',\n",
       " 'https://clyp.it/rza5s2tm': 'אלג׳באר',\n",
       " 'https://clyp.it/4uxgzkvq': 'בנת',\n",
       " 'https://clyp.it/habgo1ny': 'סחליה',\n",
       " 'https://clyp.it/yfizh4bg': 'מסלסל',\n",
       " 'https://clyp.it/xz0becqn': 'סנסאל',\n",
       " 'https://clyp.it/nhfdbgpv': 'מהרג׳אן',\n",
       " 'https://clyp.it/fjielqwj': 'טלטמיס',\n",
       " 'https://clyp.it/vfka3aq1': 'מרג׳',\n",
       " 'https://clyp.it/upsou45o': 'בלח',\n",
       " 'https://clyp.it/xetkthll': 'סכת',\n",
       " 'https://clyp.it/qvhcrigl': 'משאה',\n",
       " 'https://clyp.it/3cldqqvs': \"קאצ'י\",\n",
       " 'https://clyp.it/yisjgcjo': 'רהינה',\n",
       " 'https://clyp.it/v5p5xxwa': 'עצפוריה',\n",
       " 'https://clyp.it/hu1m4tpg': 'נמרה',\n",
       " 'https://clyp.it/brddutky': \"דיכ אלג'יראן\",\n",
       " 'https://clyp.it/qpyfkmr2': 'שרף',\n",
       " 'https://clyp.it/q3jdjqhz': 'עהאד',\n",
       " 'https://clyp.it/4bmwa0eh': 'מאתור',\n",
       " 'https://clyp.it/mkxvonzc': 'ארבעין',\n",
       " 'https://clyp.it/dqqpfkq1': 'תאג׳יל',\n",
       " 'https://clyp.it/5w5kpwlj': 'שקפה',\n",
       " 'https://clyp.it/ixcelzrb': 'צדא',\n",
       " 'https://clyp.it/vqzprcdy': 'יקויכ',\n",
       " 'https://clyp.it/ms3cxib2': 'נעימן',\n",
       " 'https://clyp.it/l5mlqxav': 'ציפ',\n",
       " 'https://clyp.it/mumveavn': 'מהא',\n",
       " 'https://clyp.it/v1tpvxxj': 'משעל',\n",
       " 'https://clyp.it/bq152hkb': 'חרכה',\n",
       " 'https://clyp.it/wee5icph': 'חאלה',\n",
       " 'https://clyp.it/r4ejhtuw': 'נאדי',\n",
       " 'https://clyp.it/dknmfjix': 'כתאא׳ב אלקסאם',\n",
       " 'https://clyp.it/lsqp3w4n': 'רחלה',\n",
       " 'https://clyp.it/3lbtmye2': 'ד׳את מראוח ארבע',\n",
       " 'https://clyp.it/ljt1j4f4': 'ולכ',\n",
       " 'https://clyp.it/viyr2ysv': 'באבאגנוש',\n",
       " 'https://clyp.it/y2h0cpjz': 'קראיב',\n",
       " 'https://clyp.it/aoobabn4': \"ח'ביזה\",\n",
       " 'https://clyp.it/j2yw3i2e': \"סח'אם\",\n",
       " 'https://clyp.it/olq2to55': 'עאישין ומבסוטין',\n",
       " 'https://clyp.it/pc4c4hok': 'חאף',\n",
       " 'https://clyp.it/jlmgykqt': 'חמאם',\n",
       " 'https://clyp.it/yxomsx0p': 'שבר',\n",
       " 'https://clyp.it/pfnlquil': 'מנאל',\n",
       " 'https://clyp.it/mxo03i0r': 'שכל',\n",
       " 'https://clyp.it/gkkmhtvw': 'מטרמח׳',\n",
       " 'https://clyp.it/bvfrdqkz': 'תע׳דא',\n",
       " 'https://clyp.it/suvzfmxk': 'עדל',\n",
       " 'https://clyp.it/b0loobmh': 'ממתאז',\n",
       " 'https://clyp.it/r1uql2he': 'תחלחל',\n",
       " 'https://clyp.it/l2l1r33p': 'ד׳הב',\n",
       " 'https://clyp.it/hc1d2dqg': 'ח׳מסה ונצ',\n",
       " 'https://clyp.it/eh3qlkxk': 'ולול',\n",
       " 'https://clyp.it/b0vub2ms': 'קפא',\n",
       " 'https://clyp.it/4uver2s0': 'אזעאג׳',\n",
       " 'https://clyp.it/pwmcyq4d': 'ת׳אבת',\n",
       " 'https://clyp.it/bccodp1g': 'מכשר',\n",
       " 'https://clyp.it/k1wddu4v': \"מח'טה\",\n",
       " 'https://clyp.it/mzhwvwgo': 'אללה יעזכ',\n",
       " 'https://clyp.it/ix4yddlc': 'נקטה',\n",
       " 'https://clyp.it/atwkzck1': 'לאמע',\n",
       " 'https://clyp.it/54kwwmdl': 'מהלה',\n",
       " 'https://clyp.it/muxwd5eb': 'דאר אלצנאעה',\n",
       " 'https://clyp.it/isv05dyh': 'ע׳זל',\n",
       " 'https://clyp.it/kngxgfrz': 'ע׳דיר',\n",
       " 'https://clyp.it/ynvyhhai': 'פזעה',\n",
       " 'https://clyp.it/3u1ixnaj': 'קרד',\n",
       " 'https://clyp.it/bx2tcfs4': 'צלי ע אלנבי',\n",
       " 'https://clyp.it/rccac1op': 'אפתתאח',\n",
       " 'https://clyp.it/s15f2yzj': 'דף',\n",
       " 'https://clyp.it/ztsb0o4s': 'מדבסה',\n",
       " 'https://clyp.it/hofj3b4r': 'תערף',\n",
       " 'https://clyp.it/qo4d1v5x': 'ארק',\n",
       " 'https://clyp.it/0ky2ck1c': 'מת׳ל אללירה',\n",
       " 'https://clyp.it/po4powj5': 'חאג׳ז',\n",
       " 'https://clyp.it/qvv1ruqd': 'ימאמה',\n",
       " 'https://clyp.it/guk2hbbx': 'יסלמו אלאידין',\n",
       " 'https://clyp.it/4gioz3hl': 'דאימאן',\n",
       " 'https://clyp.it/qqlggtox': 'ג׳אב',\n",
       " 'https://clyp.it/3ywdhyuj': 'עאנס',\n",
       " 'https://clyp.it/lwylljeq': 'רמוש',\n",
       " 'https://clyp.it/sheqvm30': 'אסתנפאר',\n",
       " 'https://clyp.it/0t53efo3': 'גזדאן',\n",
       " 'https://clyp.it/oas2en34': 'ח׳ט מאא׳ל',\n",
       " 'https://clyp.it/xldrivz1': \"ג'זירה\",\n",
       " 'https://clyp.it/5enqh0ya': 'מעטיאת',\n",
       " 'https://clyp.it/mfqzkmx2': 'פח׳פח׳ה',\n",
       " 'https://clyp.it/y4pmfwlz': 'צאב',\n",
       " 'https://clyp.it/hac3chle': 'ח׳טא',\n",
       " 'https://clyp.it/5xvglleb': 'מנכוב',\n",
       " 'https://clyp.it/tohg2m45': 'שלח',\n",
       " 'https://clyp.it/ijtc2dhj': 'חנג׳לה',\n",
       " 'https://clyp.it/0pugzl4t': 'קרש',\n",
       " 'https://clyp.it/v1v02lth': 'לסאן',\n",
       " 'https://clyp.it/3jmod5xf': 'סאחר',\n",
       " 'https://clyp.it/bj5dwdyh': 'ח׳טוה',\n",
       " 'https://clyp.it/qsi4qc5u': 'קלעה',\n",
       " 'https://clyp.it/n02yzgzd': 'קנדיל אלבחר',\n",
       " 'https://clyp.it/3zoggrgi': 'שרם אלשיח׳',\n",
       " 'https://clyp.it/brn4asjd': 'ג׳האז אלתחכם ענ בעד',\n",
       " 'https://clyp.it/at2bxfok': 'אלחילה ואלפתילה',\n",
       " 'https://clyp.it/ke5rhh15': 'נַאטוּר',\n",
       " 'https://clyp.it/uxi0aq4u': 'סבע אלברמבה',\n",
       " 'https://clyp.it/j4smwecw': 'מעאק',\n",
       " 'https://clyp.it/evprlox0': 'באללה עליכ',\n",
       " 'https://clyp.it/dubhkrve': 'עלא טול',\n",
       " 'https://clyp.it/zyrxo4ja': 'קחבה',\n",
       " 'https://clyp.it/sk3hskiw': 'עאמל',\n",
       " 'https://clyp.it/40grfxbu': 'מסח׳ם',\n",
       " 'https://clyp.it/4ihmpfkg': 'עקבאל ענדכ',\n",
       " 'https://clyp.it/evy0txri': 'מקלב',\n",
       " 'https://clyp.it/vpo0iuu5': \"כל עאם ואנתם בח'יר\",\n",
       " 'https://clyp.it/3rlq2zsl': 'טרטור',\n",
       " 'https://clyp.it/ejfcdoza': 'כרש',\n",
       " 'https://clyp.it/m0un1c3c': 'תסריב',\n",
       " 'https://clyp.it/mfbupdns': 'קפצ',\n",
       " 'https://clyp.it/u1o0c5tk': 'מתואזי',\n",
       " 'https://clyp.it/qhk0zwre': 'מלתינה',\n",
       " 'https://clyp.it/warpqytv': 'רואבש',\n",
       " 'https://clyp.it/3atfqpai': 'נצר',\n",
       " 'https://clyp.it/lhjcdcpn': 'פקד',\n",
       " 'https://clyp.it/jtnlzjwj': 'קזאז',\n",
       " 'https://clyp.it/f3ackmuh': 'נכד',\n",
       " 'https://clyp.it/va2hcimd': 'הַאלשַּתְוֶה גַ’אבֶּת הַאלְוַחְלֶה',\n",
       " 'https://clyp.it/gathbh40': 'נאמוסה',\n",
       " 'https://clyp.it/cqna4ces': 'זאכי',\n",
       " 'https://clyp.it/ytok5knv': 'דשר',\n",
       " 'https://clyp.it/xlzfelq3': 'צובה',\n",
       " 'https://clyp.it/dwewokdy': 'בדי',\n",
       " 'https://clyp.it/0tkq1rrl': 'בארד',\n",
       " 'https://clyp.it/tqvjwhth': 'צורה',\n",
       " 'https://clyp.it/q5q1xjis': 'אנתפאצ׳ה',\n",
       " 'https://clyp.it/hedr5prx': 'כח',\n",
       " 'https://clyp.it/frhiznmd': \"בריא'\",\n",
       " 'https://clyp.it/vhv3n3zz': 'וצמת עאר',\n",
       " 'https://clyp.it/bpfedikb': 'עלא באב אללה',\n",
       " 'https://clyp.it/locd1fdi': 'שאכוש',\n",
       " 'https://clyp.it/52vn4zzm': 'טחין',\n",
       " 'https://clyp.it/y5myxuce': 'כאמירא',\n",
       " 'https://clyp.it/amzf5wrk': 'מרשח',\n",
       " 'https://clyp.it/ldwwufrp': 'מח׳זן',\n",
       " 'https://clyp.it/qeht3qnd': 'בלע ראדיו',\n",
       " 'https://clyp.it/ucprpqd4': 'זמזם',\n",
       " 'https://clyp.it/amziz5r4': 'אטפאא׳י',\n",
       " 'https://clyp.it/m1ydecdr': 'עזאבי',\n",
       " 'https://clyp.it/vlpq01pm': 'לבאן',\n",
       " 'https://clyp.it/tzraj30g': 'שער אלבנאת',\n",
       " 'https://clyp.it/rcgdarqo': 'קריד אלעש',\n",
       " 'https://clyp.it/gph0lpqo': 'נסי',\n",
       " 'https://clyp.it/2nowapuc': 'חאצלה',\n",
       " 'https://clyp.it/g5crii23': 'ורק דואלי',\n",
       " 'https://clyp.it/nnztbl3b': 'פריצ׳ה',\n",
       " 'https://clyp.it/c0nnbxji': 'ג׳לסה',\n",
       " 'https://clyp.it/z5lroz0n': 'קרן',\n",
       " 'https://clyp.it/o3m3jlfl': 'עג׳וה',\n",
       " 'https://clyp.it/jruone4s': 'דחיה',\n",
       " 'https://clyp.it/px333tww': 'מזדוג׳',\n",
       " 'https://clyp.it/brvbsjt3': 'אבו בריץ',\n",
       " 'https://clyp.it/5bcj0zyy': 'ע׳ראמה',\n",
       " 'https://clyp.it/3rzkkz52': 'דוח׳ה',\n",
       " 'https://clyp.it/qhqtmoi5': 'קאנון',\n",
       " 'https://clyp.it/s2qkgogt': 'ערצ',\n",
       " 'https://clyp.it/kdwlix2n': 'שד חילכ',\n",
       " 'https://clyp.it/ufag1abe': 'שלון',\n",
       " 'https://clyp.it/t0xtjjrr': 'מסוכר',\n",
       " 'https://clyp.it/lsdmdabd': 'ח׳ימה',\n",
       " 'https://clyp.it/wcszawbl': 'טכ חנכ',\n",
       " 'https://clyp.it/ci1frkj0': 'מא פיש',\n",
       " 'https://clyp.it/jdr0ds1j': 'טמאע',\n",
       " 'https://clyp.it/mdkfjdxz': 'רחמה',\n",
       " 'https://clyp.it/maswanbz': 'עג׳ה',\n",
       " 'https://clyp.it/tzsqywrj': 'וקאיה',\n",
       " 'https://clyp.it/ym5zywea': 'קרץ',\n",
       " 'https://clyp.it/o25tgyi5': 'האת',\n",
       " 'https://clyp.it/zxmpfv1f': 'לח׳מה',\n",
       " 'https://clyp.it/frwyr05s': 'שקלבה',\n",
       " 'https://clyp.it/xdzuv1sl': 'זלאבה',\n",
       " 'https://clyp.it/wedzebpt': 'מתבל חמץ',\n",
       " 'https://clyp.it/qoqll1pt': \"אלג'לטה אלדמאע'יה\",\n",
       " 'https://clyp.it/nrw4lax0': 'קואד',\n",
       " 'https://clyp.it/mpxava2l': 'כמאן',\n",
       " 'https://clyp.it/uqgpnjt2': \"כלאם פאצ'י\",\n",
       " 'https://clyp.it/lxsdpucv': 'אטאר',\n",
       " 'https://clyp.it/liwrcmww': 'ג׳ליד',\n",
       " 'https://clyp.it/dhonvjrl': 'בחת׳',\n",
       " 'https://clyp.it/42tjxhou': 'חפרתלי',\n",
       " 'https://clyp.it/h2s1s25r': 'שרארה 2.0',\n",
       " 'https://clyp.it/zn1isqei': 'סלק',\n",
       " 'https://clyp.it/kexw0axg': 'צפקה',\n",
       " 'https://clyp.it/3reejs4g': 'תוג׳יהי',\n",
       " 'https://clyp.it/qllrit3k': 'קטף אלזיתון',\n",
       " 'https://clyp.it/kz5fusco': 'תח׳ות׳',\n",
       " 'https://clyp.it/yb0tfsyg': 'מהרג׳',\n",
       " 'https://clyp.it/xsdc5kgz': 'צ׳רט',\n",
       " 'https://clyp.it/seknicho': 'סאטור',\n",
       " 'https://clyp.it/340qimvb': 'אצטפל',\n",
       " 'https://clyp.it/il0cqpgj': 'חאכורה',\n",
       " 'https://clyp.it/tuaw2sbu': 'מעתצם',\n",
       " 'https://clyp.it/b5yakjog': 'פג׳אתן',\n",
       " 'https://clyp.it/bealzol0': 'אלמג׳יד',\n",
       " 'https://clyp.it/exotorhf': 'אלבאשא ועסאכרה',\n",
       " 'https://clyp.it/ftaejv42': 'ערק',\n",
       " 'https://clyp.it/nfwpds0p': 'אלחמד ללה ע סלאמה',\n",
       " 'https://clyp.it/latsgqxn': 'דהשה',\n",
       " 'https://clyp.it/0meygfke': 'היאה',\n",
       " 'https://clyp.it/zneaogba': 'אשתאק',\n",
       " 'https://clyp.it/ijbww0ap': \"צארוח'\",\n",
       " 'https://clyp.it/1u0umyjk': 'חרדאנה',\n",
       " 'https://clyp.it/uoj4u3bt': \"ג'ראד\",\n",
       " 'https://clyp.it/k2zdzi1i': 'רפע',\n",
       " 'https://clyp.it/la35yrug': 'אלרזאק',\n",
       " 'https://clyp.it/gddlpgrx': 'בשר',\n",
       " 'https://clyp.it/cio13zrh': 'ח׳לצ',\n",
       " 'https://clyp.it/stvz41gh': 'דבדוב',\n",
       " 'https://clyp.it/zxexcne2': 'מחל',\n",
       " 'https://clyp.it/ll3xese2': 'עצפור',\n",
       " 'https://clyp.it/vi1ssmih': 'וחדת אלארבאכ אללילי',\n",
       " 'https://clyp.it/0nqwn4v4': \"אסתאד'\",\n",
       " 'https://clyp.it/ykg01sl4': 'נחלה',\n",
       " 'https://clyp.it/rxjz1xli': 'עאפיה',\n",
       " 'https://clyp.it/hyqgwcl4': 'תנזיל',\n",
       " 'https://clyp.it/f0ttgqym': 'סלם',\n",
       " 'https://clyp.it/wk12xdf2': 'אכיד',\n",
       " 'https://clyp.it/lbyouudy': 'אלח׳צ׳ר',\n",
       " 'https://clyp.it/sz5rjpav': 'וחשה',\n",
       " 'https://clyp.it/syxu3tmg': 'פרירה',\n",
       " 'https://clyp.it/lqq4ba4x': 'צ׳בע',\n",
       " 'https://clyp.it/jhd2psai': 'פלאח',\n",
       " 'https://clyp.it/d13bhvmi': 'מג׳ארי',\n",
       " 'https://clyp.it/v2s2pwvx': 'דולאב',\n",
       " 'https://clyp.it/aasbcdkq': 'עיד אלמסאח׳ר',\n",
       " 'https://clyp.it/n5jqctzt': 'מרחבא',\n",
       " 'https://clyp.it/5d0d4jsk': 'אלמע׳רב',\n",
       " 'https://clyp.it/3fslf1z1': \"ט'לם\",\n",
       " 'https://clyp.it/rkoc1ame': 'שופוני יא נאס',\n",
       " 'https://clyp.it/a3fcol5r': 'משכלה',\n",
       " 'https://clyp.it/jysn5wh5': 'פקר',\n",
       " 'https://clyp.it/w10gkcrc': 'מח׳תצר',\n",
       " 'https://clyp.it/tedomqhk': 'עין',\n",
       " 'https://clyp.it/0e4lnfzx': \"מוד'ן\",\n",
       " 'https://clyp.it/nctgnz2k': 'מתכתכ',\n",
       " 'https://clyp.it/rkk50m34': 'טאקיה',\n",
       " 'https://clyp.it/zatfe55n': \"סבטוח'ה\",\n",
       " 'https://clyp.it/o2na4wuz': \"קנפד'\",\n",
       " 'https://clyp.it/zcgwux0r': 'עאצפה',\n",
       " 'https://clyp.it/skejxm0o': 'עז',\n",
       " 'https://clyp.it/lwgoppzl': 'לחם',\n",
       " 'https://clyp.it/aaculr5g': 'מג׳רוד',\n",
       " 'https://clyp.it/y3kx2xeo': 'אללה ירצ׳א עליכ',\n",
       " 'https://clyp.it/ccb12fwy': 'אפ',\n",
       " 'https://clyp.it/wzog5hsy': 'רח׳צה',\n",
       " 'https://clyp.it/5pevnmtr': 'נכאח',\n",
       " 'https://clyp.it/baclr3xt': 'סחסליה',\n",
       " 'https://clyp.it/dkt4czkm': 'תופיר',\n",
       " 'https://clyp.it/l0qj2joq': 'פהלוי',\n",
       " 'https://clyp.it/knmq2o1c': 'מסחוק',\n",
       " 'https://clyp.it/wsr4drfq': 'מות',\n",
       " 'https://clyp.it/iebbzlt4': 'שעב',\n",
       " 'https://clyp.it/a5ihqbgo': 'חוש',\n",
       " 'https://clyp.it/obmrdbt1': 'חקיקה',\n",
       " 'https://clyp.it/33dpz2xp': 'סיח׳',\n",
       " 'https://clyp.it/4n2z443a': 'סואח',\n",
       " 'https://clyp.it/dw3mkabx': 'שאי',\n",
       " 'https://clyp.it/bnx31yms': 'בצ׳אעה',\n",
       " 'https://clyp.it/zmlrdfqm': 'קשערירה',\n",
       " 'https://clyp.it/pxkgfj34': 'טביעה',\n",
       " 'https://clyp.it/ifdkg325': 'קדר',\n",
       " 'https://clyp.it/ozo1wbq1': 'כביר',\n",
       " 'https://clyp.it/q5bw4kxt': 'שלביה',\n",
       " 'https://clyp.it/c4xcpqnc': 'כתיבה',\n",
       " 'https://clyp.it/ysv5mlks': \"עלאג'\",\n",
       " 'https://clyp.it/guy53nux': 'עמאן',\n",
       " 'https://clyp.it/husixuvw': \"וט'יפה אלבית\",\n",
       " 'https://clyp.it/5fnrokyg': 'ח׳תאן',\n",
       " 'https://clyp.it/bg0hdwty': 'פאול',\n",
       " 'https://clyp.it/yoxyvoec': 'ג׳מהור',\n",
       " 'https://clyp.it/pxt3hsg2': 'מריול',\n",
       " 'https://clyp.it/bhp4khna': 'תכראר',\n",
       " 'https://clyp.it/rhstyart': 'לעלה ח׳יר',\n",
       " 'https://clyp.it/ewlnif3l': \"דע'רי\",\n",
       " 'https://clyp.it/ezsnnboc': 'באלרפאא׳ ואלבנין',\n",
       " 'https://clyp.it/03trlaqg': 'מכוכ אלפצ׳אא׳',\n",
       " 'https://clyp.it/m3pvj1hv': 'תפצ׳ל',\n",
       " 'https://clyp.it/3iep53mj': 'תבחבח',\n",
       " 'https://clyp.it/4ipyaa0m': 'באר שבע',\n",
       " 'https://clyp.it/bgv2mfzt': 'מדונה',\n",
       " 'https://clyp.it/vbz54jh5': \"מג'הול\",\n",
       " 'https://clyp.it/gaz2dhul': 'סיארה',\n",
       " 'https://clyp.it/3zazuksj': 'מיזאן',\n",
       " 'https://clyp.it/e1birtib': 'עאדה',\n",
       " 'https://clyp.it/pfnkclgc': 'פצ׳פצ׳',\n",
       " 'https://clyp.it/obzecmww': 'שג׳רה',\n",
       " 'https://clyp.it/x5jrf4zw': 'לב',\n",
       " 'https://clyp.it/wcwyl2c2': \"ג'אג'ה\",\n",
       " 'https://clyp.it/hrjx0y4q': 'מדינה',\n",
       " 'https://clyp.it/dp1khubm': 'יאי',\n",
       " 'https://clyp.it/q2ffu4hr': \"דוי אח'תראק חאג'ז אלצות\",\n",
       " 'https://clyp.it/yx21bq01': 'סאלכ',\n",
       " 'https://clyp.it/0g5wfmvv': 'שבאב',\n",
       " 'https://clyp.it/zv55xnkq': 'אלמי אלסאח׳נה',\n",
       " 'https://clyp.it/kveh0ejs': 'אסתנזאפ',\n",
       " 'https://clyp.it/xychud3r': 'דיכ',\n",
       " 'https://clyp.it/3gijrupf': 'תמתע',\n",
       " 'https://clyp.it/11h3nm04': 'כהרבאא׳',\n",
       " 'https://clyp.it/1kjvhucc': 'תיסיר',\n",
       " 'https://clyp.it/35gjitnv': 'תאמל',\n",
       " 'https://clyp.it/kbfolxtp': 'עכרות',\n",
       " 'https://clyp.it/5lgdnpb0': 'אסתוא אלעדס',\n",
       " 'https://clyp.it/3tyoaoi5': 'ענכבות אלזנבור',\n",
       " 'https://clyp.it/54jwnhrk': 'חזין',\n",
       " 'https://clyp.it/yt3iq4kj': 'תין שוכי',\n",
       " 'https://clyp.it/a24g5lwn': 'אלסודאן',\n",
       " 'https://clyp.it/dgtjrded': 'ח׳זאנה',\n",
       " 'https://clyp.it/jwqzvklp': 'חי',\n",
       " 'https://clyp.it/30rsxtn0': 'יהודי',\n",
       " 'https://clyp.it/gzp1bp5l': 'שרד',\n",
       " 'https://clyp.it/yjfwjewe': 'מסג׳ד',\n",
       " 'https://clyp.it/04lj1no0': 'באלטו',\n",
       " 'https://clyp.it/1ekiufre': 'עיד',\n",
       " 'https://clyp.it/ywayn2pa': 'ג׳סר',\n",
       " 'https://clyp.it/akbzglnm': \"תנט'ים\",\n",
       " 'https://clyp.it/5nxhbhrt': 'מצר',\n",
       " 'https://clyp.it/bmg5topu': 'ג׳לד',\n",
       " 'https://clyp.it/3ou0pgz1': 'טרחה',\n",
       " 'https://clyp.it/pksybtfl': 'כלאם אלנאס',\n",
       " 'https://clyp.it/2cx5vf15': 'מרק',\n",
       " 'https://clyp.it/n3tkb3di': 'קשרה',\n",
       " 'https://clyp.it/acpaftsg': 'עלה',\n",
       " 'https://clyp.it/fsumakhu': 'פצ׳ול',\n",
       " 'https://clyp.it/fg00xiyc': 'מג׳נאן',\n",
       " 'https://clyp.it/ehwm4y4w': 'רמאדי',\n",
       " 'https://clyp.it/rkfk2qqx': 'חבת אלברכה',\n",
       " 'https://clyp.it/dmikxbyw': 'אסטואנת ע׳אז',\n",
       " 'https://clyp.it/qv3tmvxh': 'מח׳לל',\n",
       " 'https://clyp.it/wlrnvfwe': 'אסתקלאל',\n",
       " 'https://clyp.it/ipfb4ogo': 'נקלה',\n",
       " 'https://clyp.it/q5ochzwq': 'פג׳ל',\n",
       " 'https://clyp.it/yuacpmed': 'צדיק',\n",
       " 'https://clyp.it/os302izl': 'ח׳רבט',\n",
       " 'https://clyp.it/0fhna3qg': 'מבלע׳',\n",
       " 'https://clyp.it/dtzb54ds': 'אללה מעכ',\n",
       " 'https://clyp.it/qul24cev': 'זהק',\n",
       " 'https://clyp.it/epqv3pvd': 'נשאז',\n",
       " 'https://clyp.it/oyu5fzyk': 'לחלח',\n",
       " 'https://clyp.it/ojzvsgqk': 'ע׳יבובה',\n",
       " 'https://clyp.it/ouy4ul5w': 'מרצד',\n",
       " 'https://clyp.it/qejcvwiy': 'נשמי',\n",
       " 'https://clyp.it/rmgl4yvl': 'כרים',\n",
       " 'https://clyp.it/lwi15uxc': 'זנזאנה',\n",
       " 'https://clyp.it/sll4bhii': 'ע׳לבה',\n",
       " 'https://clyp.it/jmfklnfg': 'וקוד',\n",
       " 'https://clyp.it/dhj2knng': 'אללה אכבר',\n",
       " 'https://clyp.it/11uxlol2': 'ערצ׳',\n",
       " 'https://clyp.it/pne112lt': \"ינתהי אלעלם חית' יבדא אלג'הל\",\n",
       " 'https://clyp.it/wslmi2xp': 'סיארה אסעאפ',\n",
       " 'https://clyp.it/sbxmnesd': 'ג׳רג׳יר',\n",
       " 'https://clyp.it/tt0khf12': 'ביטרי',\n",
       " 'https://clyp.it/ozrzv1ce': \"ע'ול\",\n",
       " 'https://clyp.it/bdygchov': 'יעטיכ אלעאפיה',\n",
       " 'https://clyp.it/tr0e5soi': 'דרג׳את אלחרארה',\n",
       " 'https://clyp.it/gvqgscbe': 'ח׳טר',\n",
       " 'https://clyp.it/mzmqlmpy': 'באיח׳',\n",
       " 'https://clyp.it/vh1tug15': 'סד',\n",
       " 'https://clyp.it/mmgpp5vw': 'חלואני',\n",
       " 'https://clyp.it/2tkweidx': 'ח׳ריף',\n",
       " 'https://clyp.it/w0ch51gl': 'באח׳רה',\n",
       " 'https://clyp.it/nzhv4kl0': 'אלצדיק ענד אלדיק',\n",
       " 'https://clyp.it/rp3aq53l': 'כאבוס',\n",
       " 'https://clyp.it/w0jk3ufv': 'עבוטה',\n",
       " 'https://clyp.it/g0insx00': 'באסה סבבה 2',\n",
       " 'https://clyp.it/h3jxhmur': 'סח׳ן',\n",
       " 'https://clyp.it/qnnlxprv': 'סרג׳',\n",
       " 'https://clyp.it/ixoppfnx': \"אלע'פאר\",\n",
       " 'https://clyp.it/dcenlfax': 'חאלתה חאלה',\n",
       " 'https://clyp.it/2shv0cg4': 'חאויה',\n",
       " 'https://clyp.it/zut5l10b': 'מט׳לה / שמסיה',\n",
       " 'https://clyp.it/vkmnpxzh': 'מזאהר',\n",
       " 'https://clyp.it/wl1vbrtr': 'שתל',\n",
       " 'https://clyp.it/fpiyydrk': 'חין',\n",
       " 'https://clyp.it/hq50idav': 'נאפורה',\n",
       " 'https://clyp.it/dnfzzyif': 'ג׳מל',\n",
       " 'https://clyp.it/gxpgs0la': 'מידאן',\n",
       " 'https://clyp.it/ki4ibgb4': 'פצ׳ה',\n",
       " 'https://clyp.it/qgqnj2zc': 'ע׳ור מן ושי',\n",
       " 'https://clyp.it/jd3t0g2q': 'אלחמדו ללה',\n",
       " 'https://clyp.it/yy542bym': 'זואג׳',\n",
       " 'https://clyp.it/2wqtefjv': 'ביצ׳ה',\n",
       " 'https://clyp.it/itlu5vuw': 'נדאמה',\n",
       " 'https://clyp.it/1xt0oe01': 'תדח׳ין',\n",
       " 'https://clyp.it/thzzycij': 'קרושה',\n",
       " 'https://clyp.it/mkehgk1w': 'פשלה',\n",
       " 'https://clyp.it/dumllb2n': 'לולו',\n",
       " 'https://clyp.it/gi1frtd4': 'דורי',\n",
       " 'https://clyp.it/bplrbzah': 'תסליה',\n",
       " 'https://clyp.it/1kiovnvz': 'לקמה',\n",
       " 'https://clyp.it/kkhemnew': 'פשר',\n",
       " 'https://clyp.it/uq5i4r2i': 'ביאע',\n",
       " 'https://clyp.it/fflzxesd': \"נג'ס\",\n",
       " 'https://clyp.it/o0lfax5s': 'תאיה',\n",
       " 'https://clyp.it/4v02t13y': 'ג׳ריח',\n",
       " 'https://clyp.it/ooalps1k': 'תסג׳יל',\n",
       " 'https://clyp.it/exfmiudx': 'נור',\n",
       " 'https://clyp.it/fcknhe4i': 'ודא',\n",
       " 'https://clyp.it/pp4xsn1k': 'עזף',\n",
       " 'https://clyp.it/demcnpzb': 'רכצ׳',\n",
       " 'https://clyp.it/xx4y1bvq': 'מכסור',\n",
       " 'https://clyp.it/1fk2htip': \"עצ'לה\",\n",
       " 'https://clyp.it/dj2xalj3': 'ח׳בז',\n",
       " 'https://clyp.it/dnouztl0': 'בכרה פי אלמשמש',\n",
       " 'https://clyp.it/0w5vwhzq': 'זעראן',\n",
       " 'https://clyp.it/3ifalzki': 'כרם',\n",
       " 'https://clyp.it/ydy5qyvq': 'משבכ',\n",
       " 'https://clyp.it/22bl5uxn': 'קרנביט',\n",
       " 'https://clyp.it/lkzd23bd': 'רכלה ג׳זאא׳',\n",
       " 'https://clyp.it/hu3wwvpb': 'מרכב',\n",
       " 'https://clyp.it/f3dd0to2': 'ת׳אלול',\n",
       " 'https://clyp.it/hh3g1kcj': 'משט',\n",
       " 'https://clyp.it/s3mvdwxd': \"פרח' אלבט עואם\",\n",
       " 'https://clyp.it/5sngsyq2': 'אנתט׳אר',\n",
       " 'https://clyp.it/gnff0ftk': 'שו פי מא פי',\n",
       " 'https://clyp.it/q2hnt15k': 'מזבלה',\n",
       " 'https://clyp.it/okeoqrll': 'צ׳וא׳',\n",
       " 'https://clyp.it/wjrmj0au': 'יע׳צ באלכ',\n",
       " 'https://clyp.it/2t25ai54': 'כאכי',\n",
       " 'https://clyp.it/uezavq1k': 'נאזח',\n",
       " 'https://clyp.it/jx032yem': 'מברוכ',\n",
       " 'https://clyp.it/yeau211m': 'אמבארח',\n",
       " 'https://clyp.it/vuaofcua': 'מבסוט',\n",
       " 'https://clyp.it/0rjkwayi': 'ג׳נאזה',\n",
       " 'https://clyp.it/kifmqtjj': 'רישה',\n",
       " 'https://clyp.it/ae45trx3': 'אבלק',\n",
       " 'https://clyp.it/1k04v0f1': 'אלתוחיד',\n",
       " 'https://clyp.it/aj3fspkn': 'רוח בלט אלבחר',\n",
       " 'https://clyp.it/14vmwyly': 'שוב',\n",
       " 'https://clyp.it/fyq04a03': \"ע'ריב\",\n",
       " 'https://clyp.it/zwmwgoeo': 'חמאמה',\n",
       " 'https://clyp.it/0ybfe5ok': 'בדיל אלסכר',\n",
       " 'https://clyp.it/zegi3o1h': 'ע׳מיצ׳ה',\n",
       " 'https://clyp.it/23fyeliq': \"ע'לט\",\n",
       " 'https://clyp.it/3nyvfv3u': 'שח׳ר',\n",
       " 'https://clyp.it/532gh4s2': 'ח׳רבאן',\n",
       " 'https://clyp.it/pigtogs1': 'ודיע',\n",
       " 'https://clyp.it/sr2etqtj': \"ד'יל אלחצאן\",\n",
       " 'https://clyp.it/3cszknvy': 'חדית׳',\n",
       " 'https://clyp.it/wctcb15k': 'רואקה',\n",
       " 'https://clyp.it/2mbpsja3': 'כופיה',\n",
       " 'https://clyp.it/0opqr30s': 'כעכה',\n",
       " 'https://clyp.it/ge1cnvun': 'רג׳ל',\n",
       " 'https://clyp.it/haxwo1dm': 'סמרא',\n",
       " 'https://clyp.it/0cxvedg3': 'חרארה',\n",
       " 'https://clyp.it/5dhzrccd': 'חדיד',\n",
       " 'https://clyp.it/tptf22m2': 'מצארי',\n",
       " 'https://clyp.it/j2d0kiof': 'סיף',\n",
       " 'https://clyp.it/0qyhq0jx': 'ולי עלא קאמתה',\n",
       " 'https://clyp.it/xwawebfl': 'עלא המן יא פרעון',\n",
       " 'https://clyp.it/5ahi54f1': 'מנענש',\n",
       " 'https://clyp.it/bt31uub5': 'ג׳נון',\n",
       " 'https://clyp.it/22dgssnu': \"ג'ריא'\",\n",
       " 'https://clyp.it/5k1unxto': 'פרחה',\n",
       " 'https://clyp.it/ktcicopa': 'בוז',\n",
       " 'https://clyp.it/z2jfagct': 'רטל',\n",
       " 'https://clyp.it/zzn01fhc': 'קצר',\n",
       " 'https://clyp.it/qwxzqm4p': 'לאים',\n",
       " 'https://clyp.it/aczxvt2f': 'בכי',\n",
       " 'https://clyp.it/gyxwyc1p': 'צבי',\n",
       " 'https://clyp.it/jmlk3jph': 'מדלע',\n",
       " 'https://clyp.it/ikn0qy1i': 'כחל',\n",
       " 'https://clyp.it/ifwjlxqp': 'חארה',\n",
       " 'https://clyp.it/4r3rmx15': 'נחר',\n",
       " 'https://clyp.it/1i1eum4w': \"מא שאא' אללה\",\n",
       " 'https://clyp.it/4zzp12dz': 'ראסמאל',\n",
       " 'https://clyp.it/uh1mau4v': 'זנאן',\n",
       " 'https://clyp.it/q1fittoq': 'מטבוח׳',\n",
       " 'https://clyp.it/iy4s3mbs': 'שתא',\n",
       " 'https://clyp.it/lpr34hs3': 'יאבאי',\n",
       " 'https://clyp.it/onkybekp': 'צחיפה',\n",
       " 'https://clyp.it/4djxmmcs': 'מואצלאת',\n",
       " 'https://clyp.it/wx32hx45': 'אללטיף',\n",
       " 'https://clyp.it/2trnltvk': 'מכאבח',\n",
       " 'https://clyp.it/nhi0qaqb': 'אבו ענתר',\n",
       " 'https://clyp.it/byuz5zs4': 'מבלול',\n",
       " 'https://clyp.it/yws2dybq': 'ת׳רת׳רי',\n",
       " 'https://clyp.it/3zwa5i5o': 'יא וילי',\n",
       " 'https://clyp.it/cwvre1hh': 'עג׳וז',\n",
       " 'https://clyp.it/g3mjmamu': 'נעמה',\n",
       " 'https://clyp.it/mo4qza2g': 'ע׳בי',\n",
       " 'https://clyp.it/ulm52xbz': 'ד׳כרא',\n",
       " 'https://clyp.it/p3nu13pt': 'מלח',\n",
       " 'https://clyp.it/q0sa14ap': 'מאסורה',\n",
       " 'https://clyp.it/azqymf12': 'מקלובה',\n",
       " 'https://clyp.it/fivpxmpr': 'סלח׳',\n",
       " 'https://clyp.it/uk4wd01l': 'שוק',\n",
       " 'https://clyp.it/3encehd0': 'שוארב',\n",
       " 'https://clyp.it/c14gxel3': 'אסתאהל',\n",
       " 'https://clyp.it/q1esh4wx': 'תמאם',\n",
       " 'https://clyp.it/5z11c4md': \"ת'ום\",\n",
       " 'https://clyp.it/mbjzy1gk': \"ארצ'\",\n",
       " 'https://clyp.it/zlbcnvnf': 'בקדונס',\n",
       " 'https://clyp.it/sccfymko': 'אשכרא',\n",
       " 'https://clyp.it/puh0gjl1': 'אנתקאד',\n",
       " 'https://clyp.it/iujhxccb': 'תיס',\n",
       " 'https://clyp.it/bfnn2onf': 'ופד',\n",
       " 'https://clyp.it/b4f0aprq': 'שם',\n",
       " 'https://clyp.it/rtb12x4l': 'מחמד',\n",
       " 'https://clyp.it/r5bzdzfl': 'ח׳אצ',\n",
       " 'https://clyp.it/dstfyfvv': 'שער',\n",
       " 'https://clyp.it/hewdpvqn': 'אלשבעאן',\n",
       " 'https://clyp.it/jcfvi5gh': 'שאויש',\n",
       " 'https://clyp.it/s34x5a44': 'תונס',\n",
       " 'https://clyp.it/bgrmvith': 'פתפותה',\n",
       " 'https://clyp.it/gujtqdky': 'ג׳האד',\n",
       " 'https://clyp.it/1jjwzmfg': 'צחה',\n",
       " 'https://clyp.it/nstddijx': 'מצ׳בוט',\n",
       " 'https://clyp.it/qfzesdvu': 'האתפ ח׳לוי',\n",
       " 'https://clyp.it/5oyadhde': 'סריע',\n",
       " 'https://clyp.it/ju31thdr': \"ג'יש\",\n",
       " 'https://clyp.it/343md141': 'מר',\n",
       " 'https://clyp.it/jxfmcjj1': 'תנכ',\n",
       " 'https://clyp.it/mrzx5qhn': 'נהפה',\n",
       " 'https://clyp.it/teyvpeyz': 'ג׳רימה',\n",
       " 'https://clyp.it/luzmglpc': 'מות׳וק',\n",
       " 'https://clyp.it/de4kqf0v': 'חרב',\n",
       " 'https://clyp.it/shnhdmku': 'תמהל',\n",
       " 'https://clyp.it/mqu3mlww': 'חות',\n",
       " 'https://clyp.it/beozgh0w': 'אעוד׳ באללה',\n",
       " 'https://clyp.it/l2sjtsst': 'תצריח',\n",
       " 'https://clyp.it/hso2pitn': 'אלמזאד אלעלני',\n",
       " 'https://clyp.it/4pfbnabc': \"אלג'זאא'ר\",\n",
       " 'https://clyp.it/rr4145kr': 'ג׳סם',\n",
       " 'https://clyp.it/qfnkkvig': 'סהל',\n",
       " 'https://clyp.it/ybxrpo0t': 'עצמה',\n",
       " 'https://clyp.it/scldnyuu': 'שראשף',\n",
       " 'https://clyp.it/uym3a0zh': 'טיז',\n",
       " 'https://clyp.it/5obumrzp': 'ענצריה',\n",
       " 'https://clyp.it/sglg2wbb': 'אעלאן',\n",
       " 'https://clyp.it/gnnlbxsl': 'נאי',\n",
       " 'https://clyp.it/0hn1nxn1': 'מקס',\n",
       " 'https://clyp.it/poohuv1h': 'יסאר',\n",
       " 'https://clyp.it/5wp2bnsw': 'זקאק',\n",
       " 'https://clyp.it/xxitm1rw': 'פרע',\n",
       " 'https://clyp.it/r4kj5bje': \"אלליל יח'פי אלויל\",\n",
       " 'https://clyp.it/vm0hi0ob': \"אע'מאא'\",\n",
       " 'https://clyp.it/ctfsmubt': 'אסכאפי',\n",
       " 'https://clyp.it/ebk5h1no': 'מע׳יטה',\n",
       " 'https://clyp.it/mwgtjr23': 'צבאח',\n",
       " 'https://clyp.it/f0tdj1z2': 'מח׳ללאת',\n",
       " 'https://clyp.it/tzsvjtgs': 'שקה',\n",
       " 'https://clyp.it/jy0mq1k3': 'משתאק',\n",
       " 'https://clyp.it/txeobg0y': 'אלתואמאן',\n",
       " 'https://clyp.it/1q3fn4sj': 'חג׳ה',\n",
       " 'https://clyp.it/kemrbm3r': 'יא ורדי',\n",
       " 'https://clyp.it/tfbukxav': 'מריצ׳',\n",
       " 'https://clyp.it/3lxfc3rh': 'שכרן',\n",
       " 'https://clyp.it/j0k21x2x': 'ע׳טאס',\n",
       " 'https://clyp.it/ykbwoztw': 'בהאראת',\n",
       " 'https://clyp.it/owlyn0f2': \"אלע'אא'\",\n",
       " 'https://clyp.it/w42rfbyx': 'כת׳ר ח׳ירכ',\n",
       " 'https://clyp.it/u4nn4l5e': 'שרק',\n",
       " 'https://clyp.it/bkukiqfn': 'תעבאן',\n",
       " 'https://clyp.it/vzjvqewp': 'קש',\n",
       " 'https://clyp.it/2azx1gah': 'אסתכמאל',\n",
       " 'https://clyp.it/d4mfcdgz': 'מנקל',\n",
       " 'https://clyp.it/echp24bi': 'מדרסה',\n",
       " 'https://clyp.it/aj34mtpa': 'רבי',\n",
       " 'https://clyp.it/bzsp2vo2': \"אלא אללקאא'\",\n",
       " 'https://clyp.it/bemanmev': 'ח׳שם',\n",
       " 'https://clyp.it/2luvb40m': 'באקי',\n",
       " 'https://clyp.it/jegefi20': 'צנובר',\n",
       " 'https://clyp.it/td3n01td': 'בִּחְכִּי זַיֶּ אלְבֻּלְבֻּל',\n",
       " 'https://clyp.it/txtim5aq': 'עונטה',\n",
       " 'https://clyp.it/ovqy4acw': 'חמרה',\n",
       " 'https://clyp.it/pa2pgmnx': 'בקרפ',\n",
       " 'https://clyp.it/kqttlejn': 'משושה',\n",
       " 'https://clyp.it/ckptz4yf': 'ארגילה',\n",
       " 'https://clyp.it/juev2hgm': 'חאצ׳ר',\n",
       " 'https://clyp.it/uqy1b0hy': 'פאתן',\n",
       " 'https://clyp.it/2eowjolx': 'זיתון',\n",
       " 'https://clyp.it/pwue0j32': 'רמא',\n",
       " 'https://clyp.it/5umrz5sa': 'משבוה',\n",
       " 'https://clyp.it/kcvb2tcp': 'אללה',\n",
       " 'https://clyp.it/hhbnqo5y': 'חנאן',\n",
       " 'https://clyp.it/cltbxogl': 'ח׳מר',\n",
       " 'https://clyp.it/dp2idhhc': 'מג׳אכרה',\n",
       " 'https://clyp.it/fjifq5is': 'ג׳ד',\n",
       " 'https://clyp.it/l2sq42uq': 'דיר באלכ',\n",
       " 'https://clyp.it/cyl4xolu': 'זיארה',\n",
       " 'https://clyp.it/ixm02xie': 'וצ׳ע',\n",
       " 'https://clyp.it/r32cffhh': 'עבאד אלשמס',\n",
       " 'https://clyp.it/vmqxgh4v': 'מד',\n",
       " 'https://clyp.it/xbegt5l0': 'בלש',\n",
       " 'https://clyp.it/lgtd2xar': 'עאצי',\n",
       " 'https://clyp.it/eoh3sjoq': 'חמאר',\n",
       " 'https://clyp.it/px1zedub': 'ח׳ארק',\n",
       " 'https://clyp.it/vj2mhviw': 'טאבון',\n",
       " 'https://clyp.it/hni5sqny': \"תבאעד אג'תמאעי\",\n",
       " 'https://clyp.it/u4sxn0we': 'חלו',\n",
       " 'https://clyp.it/5dhhvkvm': 'בהלול',\n",
       " 'https://clyp.it/vmqxhoeo': 'עטלה',\n",
       " 'https://clyp.it/fbmdwmbf': 'הדנה',\n",
       " 'https://clyp.it/tzcxo0uf': 'חצ׳ן',\n",
       " 'https://clyp.it/4m3efilt': 'חאסוב',\n",
       " 'https://clyp.it/wmfszean': 'בטולה',\n",
       " 'https://clyp.it/5xvufj2x': 'צאחי',\n",
       " 'https://clyp.it/ux4vu5cy': 'שעיריה',\n",
       " 'https://clyp.it/simgb4f2': 'דיואן',\n",
       " 'https://clyp.it/hpzga4qf': 'יאקה',\n",
       " 'https://clyp.it/qqktcitb': 'שוי שוי',\n",
       " 'https://clyp.it/g5b10e2a': 'צקיע',\n",
       " 'https://clyp.it/dj5mspbh': 'ח׳תיאר',\n",
       " 'https://clyp.it/aoldwvso': 'זע׳אריד',\n",
       " 'https://clyp.it/juwp1g30': 'רסם',\n",
       " 'https://clyp.it/uzu2gsbd': 'תפסיר',\n",
       " 'https://clyp.it/v45mdqov': \"חט'\",\n",
       " 'https://clyp.it/v4yhcbif': 'ראצ׳י',\n",
       " 'https://clyp.it/mqdatnzi': 'כויס',\n",
       " 'https://clyp.it/2nm4w3ni': 'מניח',\n",
       " 'https://clyp.it/fmaitg10': 'לקאטה',\n",
       " 'https://clyp.it/q1wg32dx': 'צ׳חיה',\n",
       " 'https://clyp.it/4ged2vwh': 'בטראן',\n",
       " 'https://clyp.it/dhnjktlp': \"אַסְמַאאֻ' אללַּה אֶלְחֻסְנַא\",\n",
       " 'https://clyp.it/2ylpneyn': 'ח׳מסין',\n",
       " 'https://clyp.it/32d3mlmd': 'נעסאן',\n",
       " 'https://clyp.it/u5u0tnd5': 'אלעד׳ראא׳',\n",
       " 'https://clyp.it/kzdge1ok': 'טול בלאכ',\n",
       " 'https://clyp.it/od24httv': 'ואללה',\n",
       " 'https://clyp.it/0ydndpcp': 'ריאצ׳ה',\n",
       " 'https://clyp.it/ifr30mll': 'זכורת',\n",
       " 'https://clyp.it/lnwsdlp3': 'מואל',\n",
       " 'https://clyp.it/eoonghsy': 'ע׳שאש',\n",
       " 'https://clyp.it/wa3urm4y': 'אסתנא׳',\n",
       " 'https://clyp.it/rwrfhqoc': 'פח׳אמת אלראא׳ס',\n",
       " 'https://clyp.it/isnyykeq': 'פציח',\n",
       " 'https://clyp.it/jpn15rgb': 'צ׳חכה',\n",
       " 'https://clyp.it/asxvx4cd': 'אהלן',\n",
       " 'https://clyp.it/wvgliqez': \"הג'ום\",\n",
       " 'https://clyp.it/stn112my': 'ע׳סיל',\n",
       " 'https://clyp.it/epotk3wu': 'דכאן',\n",
       " 'https://clyp.it/3mvw1qxq': 'נקיב',\n",
       " 'https://clyp.it/rhrh3n2h': 'יא הלא',\n",
       " 'https://clyp.it/3pb5yut0': 'ח׳אתם',\n",
       " 'https://clyp.it/oi4kkop3': 'שקיק',\n",
       " 'https://clyp.it/4fo2fzzw': 'כסדר',\n",
       " 'https://clyp.it/uk0xpwik': \"לאג'א'\",\n",
       " 'https://clyp.it/cuttia3s': 'פצ׳יחה',\n",
       " 'https://clyp.it/htpymivy': 'צ׳מאן',\n",
       " 'https://clyp.it/jfobym0i': 'מקאבלה',\n",
       " 'https://clyp.it/x50vzolh': 'שרכה',\n",
       " 'https://clyp.it/3mkc3pd1': 'מקצופ אלרקבה',\n",
       " 'https://clyp.it/jocnoxnl': 'סנדיאנה',\n",
       " 'https://clyp.it/3wmpma5u': 'אח׳ו שלכה',\n",
       " 'https://clyp.it/xlcxv3r2': 'מח׳לוע',\n",
       " 'https://clyp.it/agb5uhhr': 'מעטל',\n",
       " 'https://clyp.it/g4ejm2st': \"אנתח'אבאת\",\n",
       " 'https://clyp.it/lkbifddj': 'מהיוב',\n",
       " 'https://clyp.it/jmbccnkq': 'ולע',\n",
       " 'https://clyp.it/jcb4m0d4': 'רמל',\n",
       " 'https://clyp.it/tiptyx1v': 'מרתזק',\n",
       " 'https://clyp.it/nnoewn0g': 'ענדליב',\n",
       " 'https://clyp.it/ft3nwnei': 'עלכה',\n",
       " 'https://clyp.it/ub3hew0q': 'קאפיה',\n",
       " 'https://clyp.it/bdf1y30r': 'יתרבא בעזכ ובדלאלכ',\n",
       " 'https://clyp.it/fayegvjv': 'חרוש',\n",
       " 'https://clyp.it/gkahjn4y': 'חיץ ביץ',\n",
       " 'https://clyp.it/dppiww32': 'צף',\n",
       " 'https://clyp.it/dnrdu2kb': \"צ'ע'ט אלדם\",\n",
       " 'https://clyp.it/1yywpqtm': 'שח׳',\n",
       " 'https://clyp.it/zc2ev2n5': 'אכתבאאב',\n",
       " 'https://clyp.it/mgghozha': 'מצטפא',\n",
       " 'https://clyp.it/yluvgirj': 'כרסי',\n",
       " 'https://clyp.it/wr300zhk': 'עצ׳',\n",
       " 'https://clyp.it/1sngmae1': 'תוג׳הן',\n",
       " 'https://clyp.it/gsxxol4t': 'ע אלריק',\n",
       " 'https://clyp.it/plb4me3w': 'הג׳רה',\n",
       " 'https://clyp.it/nuaq0cqi': 'עיב',\n",
       " 'https://clyp.it/thi2lqxr': 'חג׳ר צחי',\n",
       " 'https://clyp.it/kah1enc2': 'מעלם',\n",
       " ...}"
      ]
     },
     "execution_count": 380,
     "metadata": {},
     "output_type": "execute_result"
    }
   ],
   "source": [
    "clypit_link_to_title = clypit_df.set_index('link').song_title.to_dict()\n",
    "song_title_to_clypit_file = clypit_df.set_index('song_title').local_clypit_file.to_dict()\n",
    "clypit_link_to_title"
   ]
  },
  {
   "cell_type": "code",
   "execution_count": 381,
   "id": "339cb15c-123a-4280-a674-183a1fe5b868",
   "metadata": {},
   "outputs": [
    {
     "name": "stdout",
     "output_type": "stream",
     "text": [
      "תודה ['שכרן', 'שכרן'] --> שכרן\n",
      "הצטרף ['צ׳ם', 'צ׳ם'] --> צ׳ם\n",
      "פטפטן; נודניק ['זנאן', 'זנאן'] --> זנאן\n",
      "לחץ [\"צ'ע'ט אלדם\", \"צ'ע'ט אלדם\"] --> צ'ע'ט אלדם\n",
      "טעים ['זאכי', 'זאכי'] --> זאכי\n",
      "שמן ['זיתון', 'זית'] --> זיתון\n",
      "מטופש ['באיח׳', 'באיח׳'] --> באיח׳\n",
      "ענו ['ודאע', 'ודיע'] --> ודאע\n",
      "בלתי מזוהה ['ג׳אהל', \"מג'הול\", \"ינתהי אלעלם חית' יבדא אלג'הל\"] --> ג׳אהל\n",
      "בחורות ['צבי', 'צלי ע אלנבי'] --> צבי\n",
      "ברכוש ולא בנפש ['מואל', 'ראסמאל'] --> מואל\n",
      "חייזר [\"כלאם פאצ'י\", 'מכוכ אלפצ׳אא׳', \"כלאם פאצ'י\"] --> כלאם פאצ'י\n",
      "חומרי ['מד', \"תע'דא ותמדא תעשא ותמשא\"] --> מד\n",
      "בחורים שופעי תכונות גבריות ['נשמי', 'חוראני'] --> נשמי\n",
      "זנב [\"ד'יל אלחצאן\", 'אִללִּי עַנְדֹה כְּתִיר חִנֶּה בִּחַנִּי דֵיל חְמַארֹה'] --> ד'יל אלחצאן\n",
      "מדרגות ['דרג׳את אלחרארה', 'דראג׳ה נאריה'] --> דרג׳את אלחרארה\n",
      "טיפ ['כרם', 'כרים'] --> כרם\n",
      "עור ['בשאר', 'בשר'] --> בשאר\n",
      "אינקובטור ['חצ׳ן', \"אלקנפד'\"] --> חצ׳ן\n",
      "טעים, בריא ['הנא', 'ניאלכ'] --> הנא\n",
      "שוק (איבר) ['סואקה', 'סואקה'] --> סואקה\n",
      "מרגיש ['חסאסיה', 'חסאסיה'] --> חסאסיה\n",
      "סמטה ['זקאק', 'זקה'] --> זקאק\n",
      "מרוצה ['תקריר', 'תקריר'] --> תקריר\n",
      "תחבורה ציבורית ['אתצל', 'מואצלאת'] --> אתצל\n",
      "אפליה ['ממתאז', 'ממתאז'] --> ממתאז\n",
      "טוב לב ['אלראוף', 'אלראוף'] --> אלראוף\n",
      "כרובית ['מזאהר', 'זהרה'] --> מזאהר\n",
      "פלייר ['חִמַאר וַחְש', 'זרדיה'] --> חִמַאר וַחְש\n",
      "התפלל על הנביא! ['צלאה ח׳אצה', 'צלאה', 'אללהם'] --> צלאה ח׳אצה\n",
      "פרנסה ['מרתזק', 'אלרזאק'] --> מרתזק\n",
      "החפצה ['מעליש', 'שוי שוי'] --> מעליש\n",
      "במהירות הברק ['ברק', 'סריע'] --> ברק\n",
      "סלח ['סמח', 'סמיח'] --> סמח\n",
      "התחרפן ['ח׳ריף', 'ח׳רפ'] --> ח׳ריף\n",
      "בעיה ['שכל', 'משכלה'] --> שכל\n",
      "מובטל ['מעטל', 'עטלה'] --> מעטל\n",
      "זכה ['מנאל', 'ניאלכ'] --> מנאל\n",
      "העביר ['מנקל', 'נקלה'] --> מנקל\n",
      "אנשים ['אנס', 'אניס', 'שופוני יא נאס'] --> אנס\n",
      "רב חסד ['פצ׳ול', 'תפצ׳ל'] --> פצ׳ול\n",
      "משימה ['שד אלהמה', 'אכל הם'] --> שד אלהמה\n",
      "תהיה בריא ['עאפיה', 'יעטיכ אלעאפיה', 'עפואן'] --> עאפיה\n",
      "מילה טובה ['כלמה', \"כלאם פאצ'י\", 'כלאם אלנאס'] --> כלמה\n",
      "הסתנן ['מסלסל', 'סנסאל'] --> מסלסל\n",
      "התאהב ['ע׳ראמה', 'ע׳ראם'] --> ע׳ראמה\n",
      "מקולל ['לענה', 'ילען'] --> לענה\n",
      "נכר [\"ע'ראב\", 'אלמע׳רב', \"ע'ריב\"] --> ע'ראב\n",
      "שותף ['שרכה', 'שראכה'] --> שרכה\n",
      "צבע עיניו בכוחל ['כחל', 'אלכחול'] --> כחל\n",
      "אוהל ['מח׳ים', 'ח׳ימה'] --> מח׳ים\n",
      "שחרור ממעצר ['ח׳ליהא עלא אללה', 'יח׳ליכ'] --> ח׳ליהא עלא אללה\n",
      "קו אדום ['חמאר אלמרה', 'חמאר', 'חמרה'] --> חמאר אלמרה\n",
      "נקיטת אמצעי זהירות ['חיט', 'חאא׳ט אלמבכא'] --> חיט\n",
      "גבול(ות) ['חדיד', 'חדאד'] --> חדיד\n",
      "אישה צנועה השומרת על כבודה ['אללה יסתר', 'אלחב סתאר אלעיוב'] --> אללה יסתר\n",
      "רוע ['שרארה 2.0', 'אבט'] --> שרארה 2.0\n",
      "ספינה ['מרכבה', 'מרכב'] --> מרכבה\n",
      "משתף פעולה ['עאמל', 'נאמוסה'] --> עאמל\n",
      "גשש ['מקס', 'קצה'] --> מקס\n",
      "ריצה (ריצוי) ['ראצ׳י', 'אללה ירצ׳א עליכ'] --> ראצ׳י\n",
      "כוחות מיוחדים ['קוה', 'יקויכ'] --> קוה\n",
      "תאונה ['חדית׳', 'חדותה'] --> חדית׳\n",
      "קוץ ['תין שוכי', 'סיח׳'] --> תין שוכי\n",
      "פשוט ['עאישין ומבסוטין', 'בסטה', 'מבסוט'] --> עאישין ומבסוטין\n",
      "חד וחלק ['ח׳פיפ ונט׳יפ', 'ח׳פיפ'] --> ח׳פיפ ונט׳יפ\n",
      "משוגע ['ג׳נון', 'ג׳נינה'] --> ג׳נון\n",
      "בריון ['סנדיאנה', 'רוח בלט אלבחר'] --> סנדיאנה\n",
      "הסתלק! ['מצאריף', 'צראפ'] --> מצאריף\n",
      "ריח ['ראח', 'ד׳את מראוח ארבע'] --> ראח\n",
      "מקנה ['מאשי', 'משאה', \"תע'דא ותמדא תעשא ותמשא\"] --> מאשי\n",
      "גבוה ['עלא טול', 'יטול עמרכ', 'טול בלאכ'] --> עלא טול\n",
      "סלחנות ['סמח', 'סמיח'] --> סמח\n",
      "ארוחת בוקר ['פטאיר', 'פטור'] --> פטאיר\n",
      "פוזל ['חאלה', 'מסתחיל', 'חאלתה חאלה'] --> חאלה\n",
      "שמיים ['אסם', 'אסמאללה'] --> אסם\n",
      "מואזין ['אד׳ן', \"מוד'ן\"] --> אד׳ן\n",
      "באסה, סבבה ['באסה סבבה', 'באסה סבבה 2'] --> באסה סבבה\n",
      "מרוצה, מבסוט ['מבסוט', 'בסטה'] --> מבסוט\n",
      "מארב ['כמין', \"כל עאם ואנתם בח'יר\"] --> כמין\n",
      "שרט ['ח׳רבש', 'ח׳רבט'] --> ח׳רבש\n",
      "התנקשות ['אע׳תיאל', \"ע'ול\"] --> אע׳תיאל\n",
      "בלוג ['מדונה', 'דיואן'] --> מדונה\n",
      "דם ['דם', \"צ'ע'ט אלדם\", 'דמה ת׳קיל'] --> דם\n",
      "מקולקל ['מעטל', 'עטלה'] --> מעטל\n",
      "יין ['ח׳מר', 'אלכחול'] --> ח׳מר\n",
      "אור ['נור', 'נורת אלמחל', 'נורי'] --> נור\n",
      "מחסן ['מח׳זן', 'ח׳זאנה'] --> מח׳זן\n",
      "מרוצה ['ראצ׳י', 'אללה ירצ׳א עליכ'] --> ראצ׳י\n",
      "מזל טוב, מברוכ! ['מברוכ', 'חבת אלברכה'] --> מברוכ\n",
      "מתוק ['חלו', 'חלואני'] --> חלו\n",
      "סקרנות ['פצ׳ול', 'תפצ׳ל'] --> פצ׳ול\n",
      "סביבון ['פרירה', 'בִּחְכִּי זַיֶּ אלְבֻּלְבֻּל'] --> פרירה\n",
      "חיק ['חצ׳ן', \"אלקנפד'\"] --> חצ׳ן\n",
      "עקרת בית ['רבת אלבית', 'רבי'] --> רבת אלבית\n",
      "ממרח ['טעאם אלדהן', 'דהאן'] --> טעאם אלדהן\n",
      "מיד! ['עלא טול', 'יטול עמרכ', 'טול בלאכ'] --> עלא טול\n",
      "כריזמטי ['מהיוב', 'סמרא'] --> מהיוב\n",
      "שלא נדע מצרות ['אעוד׳ באללה', \"רג'ם\"] --> אעוד׳ באללה\n",
      "חילוני ['עלמאני', 'מעלם', \"ינתהי אלעלם חית' יבדא אלג'הל\"] --> עלמאני\n",
      "מגדת עתידות ['פתאחה', 'ג׳נון', 'ג׳נינה'] --> פתאחה\n",
      "בית בושת ['כרחאנה', 'מסטול'] --> כרחאנה\n",
      "להנאתך, עלא כיפכ ['עלא כיפאכ', 'מכיפ'] --> עלא כיפאכ\n",
      "חיים ומרוצים ['עאישין ומבסוטין', 'בסטה', 'מבסוט'] --> עאישין ומבסוטין\n",
      "רווח ['רבאח', 'רבחי'] --> רבאח\n",
      "ברזל ['חדיד', 'חדאד', 'ג׳סר'] --> חדיד\n",
      "ח’ליף, ח’ליפה ['ח׳ליפה', 'אללי ח׳לף מא מאת'] --> ח׳ליפה\n",
      "רְשות ['אד׳ן', \"מוד'ן\"] --> אד׳ן\n",
      "מִסְפָּר ['נמרה', \"ע'לט\"] --> נמרה\n",
      "תפארת ['עז', 'אלעזיז', 'יתרבא בעזכ ובדלאלכ', 'אללה יעזכ'] --> עז\n",
      "קלדן ['כאתב טבאעה', 'טביעה'] --> כאתב טבאעה\n",
      "שכיר חרב ['מרתזק', 'אלרזאק'] --> מרתזק\n",
      "זיתים ['זיתון', 'זית'] --> זיתון\n",
      "אגודה ['נקאבה', 'נקיב'] --> נקאבה\n",
      "מתיחה (הומור) ['מקלב', 'מקלובה'] --> מקלב\n",
      "ביש-מזל ['מנחוס', 'נחס'] --> מנחוס\n",
      "הולך ['מאשי', 'משאה', \"תע'דא ותמדא תעשא ותמשא\"] --> מאשי\n",
      "שמאל ['יסאר', 'תיסיר'] --> יסאר\n",
      "חלמית (ח’וביזה) [\"ח'ביזה\", 'אלח’בז אלחאפ בערצ’ אלכתאפ', 'ח׳בז'] --> ח'ביזה\n",
      "שלום (פניה) ['יא הלא', 'אהלן'] --> יא הלא\n",
      "שוטר מצרי ['שאויש', 'משושה'] --> שאויש\n",
      "יהיה בסדר ['ח׳ליהא עלא אללה', 'יח׳ליכ'] --> ח׳ליהא עלא אללה\n",
      "בקבוק חם ['קרבה', 'קראיב'] --> קרבה\n",
      "בחינם ['בלאש', 'דיכ'] --> בלאש\n",
      "פסטיבל ['מהרג׳אן', 'מהרג׳'] --> מהרג׳אן\n",
      "זאב ['דיב', 'מחל אלדיב'] --> דיב\n",
      "מה נשמע? ['שו פי מא פי', 'מצטפא'] --> שו פי מא פי\n",
      "שער ['בואבה', 'עלא באב אללה'] --> בואבה\n",
      "מזבלה ['מזבלה', 'זבאלה'] --> מזבלה\n",
      "מלח ['מלח', 'מאלח'] --> מלח\n",
      "חמנייה ['עבאד אלשמס', 'דורי'] --> עבאד אלשמס\n",
      "עיוור ['מכפוף', 'כפ'] --> מכפוף\n",
      "הלוואה ['סלפה', 'סלפי'] --> סלפה\n",
      "בוגדני ['ע׳דאר', 'ע׳דיר'] --> ע׳דאר\n",
      "עצם עין ['ע׳מצ׳', 'ע׳מיצ׳ה'] --> ע׳מצ׳\n",
      "בעל כבוד עצמי ['אבי', \"מא שאא' אללה\"] --> אבי\n",
      "פצוע ['ג׳ריח', \"עמליה ג'ראחיה\"] --> ג׳ריח\n",
      "בעל “שפוט” ['חמאר אלמרה', 'חמאר'] --> חמאר אלמרה\n",
      "סמטה ['זקאק', 'זקה'] --> זקאק\n",
      "סדרה ['מסלסל', 'סנסאל'] --> מסלסל\n",
      "הסחנה ['אלמי אלסאח׳נה', 'סח׳ן'] --> אלמי אלסאח׳נה\n",
      "דירה ['שקה', 'שקיק'] --> שקה\n",
      "מפלצת [\"ע'ול\", 'אע׳תיאל'] --> ע'ול\n",
      "התנחלות ['מסתוטנא', 'וטן'] --> מסתוטנא\n",
      "ספינת קיטור ['באח׳רה', 'באבור'] --> באח׳רה\n",
      "כלב ['כלב', 'כל כלב', 'סמיתו אלכלב בובי'] --> כלב\n",
      "בּוּר ['ג׳אהל', \"מג'הול\", \"ינתהי אלעלם חית' יבדא אלג'הל\"] --> ג׳אהל\n",
      "מצב ['חאלה', 'מסתחיל', 'חאלתה חאלה'] --> חאלה\n",
      "אוי ואבוי! ['יא וילי', \"אלליל יח'פי אלויל\"] --> יא וילי\n",
      "הוצאות ['מצאריף', 'צראפ'] --> מצאריף\n",
      "שירה ['שער', 'שער אלבנאת', 'שעיריה'] --> שער\n",
      "מלונים קטנים ['חרוש', 'שם אלהוא'] --> חרוש\n",
      "נישואין ['זואג׳', 'מזדוג׳'] --> זואג׳\n",
      "תנשום אוויר! ['ח׳ד נפס', 'נפס אלשי'] --> ח׳ד נפס\n",
      "פועֵל ['עאמל', 'נאמוסה'] --> עאמל\n",
      "אבוללה ['אבו אללילה', \"אלליל יח'פי אלויל\"] --> אבו אללילה\n",
      "מבשר ['בשאר', 'בשר'] --> בשאר\n",
      "מרפאה ['עיאדה', 'עאדה', \"רג'עת חלימה\", 'עיד'] --> עיאדה\n",
      "חמוצים ['מח׳ללאת', 'מח׳לל'] --> מח׳ללאת\n",
      "ידוע ['מעלום', 'עלמאני', 'מעלם', \"ינתהי אלעלם חית' יבדא אלג'הל\"] --> מעלום\n",
      "טוב ['ח׳יר', 'כת׳ר ח׳ירכ'] --> ח׳יר\n",
      "נער ['צבי', 'צלי ע אלנבי'] --> צבי\n",
      "איזה יופי! ['סלם', 'אלסלאם', 'אלחמד ללה ע סלאמה', 'יסלמו אלאידין'] --> סלם\n",
      "ציפור ['עצפור', 'זקזקת עצאפיר בטני'] --> עצפור\n",
      "דאג ['אכל הם', 'שד אלהמה'] --> אכל הם\n",
      "הלך ['ראח', 'ד׳את מראוח ארבע'] --> ראח\n",
      "סודאן ['אלסודאן', 'אסוד'] --> אלסודאן\n",
      "תוצרים של חומר גלם מסוים ['משתקאת', 'שקה', 'שקיק'] --> משתקאת\n",
      "מדוזה ['קנדיל אלבחר', 'אמיר אלבחר'] --> קנדיל אלבחר\n",
      "לשון מאזניים ['ביצ׳ת אלקבאן', 'קבה'] --> ביצ׳ת אלקבאן\n",
      "התמרמרות ['מרמרה', 'מר', 'בקרפ'] --> מרמרה\n",
      "חֶבְרָה ['שרכה', 'שראכה'] --> שרכה\n",
      "נזלת [\"מח'טה\", 'ח׳נאנה'] --> מח'טה\n",
      "גמל ['ג׳מל', 'ג׳מילה'] --> ג׳מל\n",
      "קוף ['קרד', 'קריד אלעש'] --> קרד\n",
      "אין בעיה ['עלא ראסי', 'ראסמאל'] --> עלא ראסי\n",
      "מנגל ['מנקל', 'נקלה'] --> מנקל\n",
      "תפילה מיוחדת ['צלאה ח׳אצה', 'צלאה'] --> צלאה ח׳אצה\n",
      "תוף מרים ['מזאהר', 'זהרה', 'דף'] --> מזאהר\n",
      "בת ['בנת', 'שער אלבנאת'] --> בנת\n",
      "מושב ['מקעד', 'קאעדה'] --> מקעד\n",
      "בית מרחץ ['חמאם', 'מחאמי'] --> חמאם\n",
      "זברה ['חִמַאר וַחְש', 'וחשה', 'זרדיה'] --> חִמַאר וַחְש\n",
      "אוכל קש ['מאכל הוא', 'הוא׳'] --> מאכל הוא\n",
      "נָכֶה ['מעאק', 'שלאל'] --> מעאק\n",
      "שמחה ['פרחה', \"פרח' אלבט עואם\"] --> פרחה\n",
      "אכל ארוחת צהריים ['תע׳דא', \"תע'דא ותמדא תעשא ותמשא\"] --> תע׳דא\n",
      "בלי עין הרע ['אסמאללה', \"מא שאא' אללה\"] --> אסמאללה\n",
      "כוחל ['כחל', 'אלכחול'] --> כחל\n",
      "סתיו ['ח׳ריף', 'ח׳רפ'] --> ח׳ריף\n",
      "פירור ['פתפותה', 'פספוס'] --> פתפותה\n",
      "אורות ['אנואר', 'נור', 'נורת אלמחל', 'נורי'] --> אנואר\n",
      "הנאה ['הנא', 'ניאלכ'] --> הנא\n",
      "גשם ['שתא', 'הַאלשַּתְוֶה גַ’אבֶּת הַאלְוַחְלֶה'] --> שתא\n",
      "פטפטן ['ת׳רת׳רי', 'טכ חנכ'] --> ת׳רת׳רי\n",
      "מספריים ['מקס', 'קצה'] --> מקס\n",
      "שפך את הלב ['פצ׳פצ׳', 'פצ׳ה'] --> פצ׳פצ׳\n",
      "מה אתה אומר! ['באללה עליכ', 'ואללה'] --> באללה עליכ\n",
      "חרטה ['נדאמה', 'מג׳אכרה'] --> נדאמה\n",
      "ליל הכלולות ['לילה אלדח׳לה', 'דח׳ילכ'] --> לילה אלדח׳לה\n",
      "חבר ['צדיק', 'אלצדיק ענד אלדיק'] --> צדיק\n",
      "פֶּה ['תם', 'בק', 'בוז'] --> תם\n",
      "מצודה ['קלעה', 'אקלאע'] --> קלעה\n",
      "בריאות ['עאפיה', 'יעטיכ אלעאפיה', 'עפואן'] --> עאפיה\n",
      "בלבול ['בלבלה', 'בִּחְכִּי זַיֶּ אלְבֻּלְבֻּל', 'עש אלבלבל'] --> בלבלה\n",
      "תרנגולת ['ג׳אג׳', \"ג'אג'ה\"] --> ג׳אג׳\n",
      "תמונה ['צורה', 'צאר'] --> צורה\n",
      "צבי [\"ע'זאל\", \"אלקרד פי עין אמה ע'זאל\", 'ע׳זל'] --> ע'זאל\n",
      "גורל ['קדר', 'אלקאדר'] --> קדר\n",
      "שכונה ['חארה', 'חי', 'חוריה'] --> חארה\n",
      "ארבה [\"ג'ראד\", 'מג׳רוד'] --> ג'ראד\n",
      "חבט [\"ח'בט\", 'עמוד'] --> ח'בט\n",
      "סוס ['חצאן', \"ד'יל אלחצאן\"] --> חצאן\n",
      "הכל לטובה ['לעלה ח׳יר', 'עלה'] --> לעלה ח׳יר\n",
      "מחנה אוהלים ['מח׳ים', 'ח׳ימה'] --> מח׳ים\n",
      "הצגה ['מסרחיה', 'תסריח'] --> מסרחיה\n",
      "מקום ['מחל', 'בנת חלאל'] --> מחל\n",
      "דוגמנית ['עארצה אזיאא׳', 'ערצ׳'] --> עארצה אזיאא׳\n",
      "שליטה ['סיטרה', 'סאטור'] --> סיטרה\n",
      "תחנת משטרה ['מח׳פר', \"אלע'פאר\"] --> מח׳פר\n",
      "מרוקו ['אלמע׳רב', \"ע'ריב\"] --> אלמע׳רב\n",
      "רופא ['מחכמה', 'ג׳האז אלתחכם ענ בעד'] --> מחכמה\n",
      "פיקחות ['שטארה', 'שאטר'] --> שטארה\n",
      "קיר ['חיט', 'חאא׳ט אלמבכא'] --> חיט\n",
      "גיא ['ואדי', 'ודא'] --> ואדי\n",
      "חמוצים ['מח׳ללאת', 'מח׳לל'] --> מח׳ללאת\n",
      "שכן ['ג׳אר', 'ג׳ורה'] --> ג׳אר\n",
      "סבא ['ג׳ד', 'ג׳דיד'] --> ג׳ד\n",
      "איש ['רג׳ל', 'זלמה'] --> רג׳ל\n",
      "מונותאיזם ['אלתוחיד', 'תוחד'] --> אלתוחיד\n",
      "ספורט ['ריאצ׳ה', \"ריאצ'יאת\"] --> ריאצ׳ה\n",
      "צמא ['ט׳מאאן', 'עטשאן'] --> ט׳מאאן\n",
      "ריבוע ['מרבע', 'ארבעין'] --> מרבע\n",
      "פסוק ['אאיה', 'אאיאת'] --> אאיה\n",
      "צדקה ['צדיק', 'אלצדיק ענד אלדיק'] --> צדיק\n",
      "חיזוק ['עז', 'אלעזיז', 'יתרבא בעזכ ובדלאלכ', 'אללה יעזכ'] --> עז\n",
      "עבירה על החוק ['ח׳ליפה', 'אללי ח׳לף מא מאת'] --> ח׳ליפה\n",
      "שלהבת ['להיב', 'אלתהאב'] --> להיב\n",
      "כוח ['קוה', 'יקויכ'] --> קוה\n",
      "ערבב ['ח׳לט', 'ח׳רטה'] --> ח׳לט\n",
      "עור ['ג׳לד', 'ג׳ליד'] --> ג׳לד\n",
      "נשאר ['ט׳ל', 'מט׳לה / שמסיה'] --> ט׳ל\n",
      "הפאשה וחייליו ['אלבאשא ועסאכרה', 'באשא'] --> אלבאשא ועסאכרה\n",
      "קנס ['ע׳ראמה', 'ע׳ראם'] --> ע׳ראמה\n",
      "צדק ['עדאלה', 'עדל'] --> עדאלה\n",
      "פרחים ['ורוד', 'יא ורדי'] --> ורוד\n",
      "קללה ['לענה', 'ילען'] --> לענה\n",
      "סיפור ['חדית׳', 'חדותה'] --> חדית׳\n",
      "עורף ['קפא', 'קאפיה'] --> קפא\n",
      "קרן ['קרן', 'מקרן'] --> קרן\n",
      "רבאבה ['רבאבה', 'רבת אלבית', 'רבי'] --> רבאבה\n",
      "חסינות מפני טעות וחטא ['עצמה', 'מעתצם'] --> עצמה\n",
      "טיפש ['אהבל', 'מהבול'] --> אהבל\n",
      "מיוחד ['ח׳אצ', 'מתח׳צץ'] --> ח׳אצ\n",
      "מעלות החום ['דרג׳את אלחרארה', 'דראג׳ה נאריה'] --> דרג׳את אלחרארה\n",
      "עץ אלון ['סנדיאנה', 'רוח בלט אלבחר'] --> סנדיאנה\n",
      "אמצעי תחבורה ['מרכבה', 'מרכב'] --> מרכבה\n",
      "הנהגה ['קיאדה', 'קואד'] --> קיאדה\n",
      "מכונית ['סיארה', 'מסירה'] --> סיארה\n",
      "חלוקה ['תקסים', 'כתאא׳ב אלקסאם'] --> תקסים\n",
      "חברותי וחביב ['אנס', 'אניס'] --> אנס\n",
      "אבו ט’בי ['ט׳בי', \"אבו ט'בי\"] --> ט׳בי\n",
      "חסד ['נעמה', 'נעימן'] --> נעמה\n",
      "טֶבַע ['טביעה', 'כאתב טבאעה'] --> טביעה\n",
      "רפובליקה [\"ג'מהוריה\", 'ג׳מהור'] --> ג'מהוריה\n",
      "יונה ['חמאמה', 'חמאם', 'מחאמי'] --> חמאמה\n",
      "סגרנו עניין! ['כפכ', 'מכפוף', 'כפ'] --> כפכ\n",
      "הרשה ['סמח', 'סמיח'] --> סמח\n",
      "פצע [\"ג'רח\", 'ג׳ריח', \"עמליה ג'ראחיה\"] --> ג'רח\n",
      "התרנגול של השכנים [\"דיכ אלג'יראן\", 'דיכ'] --> דיכ אלג'יראן\n",
      "פָּנים ['וש', 'תוג׳יהי'] --> וש\n",
      "מחשבה ['באל', 'דיר באלכ'] --> באל\n",
      "זוהמה [\"סח'אם\", 'מסח׳ם'] --> סח'אם\n",
      "פרק בקוראן ['סורה', 'אסוארה'] --> סורה\n",
      "מוסקה ['מסקעה', 'צקיע'] --> מסקעה\n",
      "סָגַר ['סכר', 'אלסכרי'] --> סכר\n",
      "ביטוח ['תאמין', 'מא׳מן'] --> תאמין\n",
      "צבר ['תין שוכי', 'סיח׳'] --> תין שוכי\n",
      "כרם ['כרם', 'כרים'] --> כרם\n",
      "כוננות ['אסתנפאר', 'נאפורה'] --> אסתנפאר\n",
      "לאומיות ['וטניה', 'מסתוטנא', 'וטן'] --> וטניה\n",
      "צלף קוצני ['קבאר', 'תקברני'] --> קבאר\n",
      "צורה ['שכל', 'משכלה'] --> שכל\n",
      "עלי גפן ['ורק דואלי', 'דלו'] --> ורק דואלי\n",
      "אַרְכָּה ['מהלה', 'תמהל'] --> מהלה\n",
      "ריחוק חברתי [\"תבאעד אג'תמאעי\", 'יום אלג׳מעה'] --> תבאעד אג'תמאעי\n",
      "רחמים ['רחמה', 'רחמן'] --> רחמה\n",
      "מאלובה ['מקלב', 'מקלובה'] --> מקלב\n",
      "שֵפֶל [\"ג'זר\", \"ג'זירה\"] --> ג'זר\n",
      "שקט ['סכון', 'סכן'] --> סכון\n",
      "ליצן ['מהרג׳אן', 'מהרג׳'] --> מהרג׳אן\n",
      "עכביש כסופי ['ענכבות אלזנבור', 'זמור'] --> ענכבות אלזנבור\n",
      "פחד [\"ח'וף\", 'ח׳ויף'] --> ח'וף\n",
      "קיטר ['ולול', \"אלליל יח'פי אלויל\"] --> ולול\n",
      "מלוח ['מלח', 'מאלח'] --> מלח\n",
      "עלם בעל גוף נאה ['רערע', 'מזה'] --> רערע\n",
      "עורב [\"ע'ראב\", 'אלמע׳רב', \"ע'ריב\"] --> ע'ראב\n",
      "גלידה [\"בוט'ה\", 'בוז'] --> בוט'ה\n",
      "תבורכנה ידייך ['יסלמו אידיכי', 'סלם', 'אלסלאם', 'אלחמד ללה ע סלאמה', 'יסלמו אלאידין'] --> יסלמו אידיכי\n",
      "השבח לאל ['אלחמדו ללה', 'מחמד'] --> אלחמדו ללה\n",
      "היריון ['חמל', 'חמלה'] --> חמל\n",
      "יעה ['לקאטה', 'מג׳רוד'] --> לקאטה\n",
      "עיוור ['אעמא', 'עמא'] --> אעמא\n",
      "הֵריח ['שם', 'חרוש', 'שם אלהוא'] --> שם\n",
      "אבן-חן ['יאקות', 'ג׳והר'] --> יאקות\n",
      "מתגעגע ['משתאק', 'אשתאק', 'שוק'] --> משתאק\n",
      "התקשר ['אתצל', 'מואצלאת'] --> אתצל\n",
      "נמר ['נמר', 'נמרה'] --> נמר\n",
      "היכרות ['תערף', 'מערוף'] --> תערף\n",
      "כיתה ['צף', 'צפ'] --> צף\n",
      "אדון ['סיד', 'אלסודאן', 'אסוד'] --> סיד\n",
      "נשיא ['עלא ראסי', 'ראסמאל'] --> עלא ראסי\n",
      "תאום ['אלתואמאן', \"ת'ום\", \"אבוכ בצל ואמכ ת'ום, מנינ לכ אלריחה אלטיבה\"] --> אלתואמאן\n",
      "מְנַהֵל ['דיר באלכ', 'דורי', 'עבאד אלשמס'] --> דיר באלכ\n",
      "משגע ['ג׳נון', 'ג׳נינה'] --> ג׳נון\n",
      "לכבוד העיניים שלך ['כרם', 'כרים'] --> כרם\n",
      "איכס ['אח׳ס', 'דיב'] --> אח׳ס\n",
      "נביא ['צלי ע אלנבי', 'אללהם'] --> צלי ע אלנבי\n"
     ]
    }
   ],
   "source": [
    "page_to_clypit_titles = []\n",
    "for page_num, page_title, page_url, links in clypit_sounds:\n",
    "    #titles = clypit_df[clypit_df.link.isin(links)].song_title.tolist()\n",
    "    titles = [clypit_link_to_title[link] for link in links if link in clypit_link_to_title]\n",
    "    if len(titles)==0:\n",
    "        continue\n",
    "    elif len(titles)==1:\n",
    "        chosen_title = titles[0]\n",
    "    else:\n",
    "        chosen_title = titles[0]\n",
    "        print(page_title, titles, '-->', chosen_title)\n",
    "    page_to_clypit_titles.append( (page_num, page_title, chosen_title, song_title_to_clypit_file[chosen_title]))    "
   ]
  },
  {
   "cell_type": "code",
   "execution_count": 382,
   "id": "e865458d-2d89-4cc4-a466-a6299f44ac28",
   "metadata": {},
   "outputs": [
    {
     "data": {
      "text/html": [
       "<div>\n",
       "<style scoped>\n",
       "    .dataframe tbody tr th:only-of-type {\n",
       "        vertical-align: middle;\n",
       "    }\n",
       "\n",
       "    .dataframe tbody tr th {\n",
       "        vertical-align: top;\n",
       "    }\n",
       "\n",
       "    .dataframe thead th {\n",
       "        text-align: right;\n",
       "    }\n",
       "</style>\n",
       "<table border=\"1\" class=\"dataframe\">\n",
       "  <thead>\n",
       "    <tr style=\"text-align: right;\">\n",
       "      <th></th>\n",
       "      <th>page_num</th>\n",
       "      <th>page_title</th>\n",
       "      <th>sound_title</th>\n",
       "      <th>local_file</th>\n",
       "    </tr>\n",
       "  </thead>\n",
       "  <tbody>\n",
       "    <tr>\n",
       "      <th>0</th>\n",
       "      <td>1</td>\n",
       "      <td>תודה</td>\n",
       "      <td>שכרן</td>\n",
       "      <td>data/arabit/clypit/שכרן.mp3</td>\n",
       "    </tr>\n",
       "    <tr>\n",
       "      <th>1</th>\n",
       "      <td>2</td>\n",
       "      <td>מערה</td>\n",
       "      <td>ע׳ור מן ושי</td>\n",
       "      <td>data/arabit/clypit/ע׳ור מן ושי.mp3</td>\n",
       "    </tr>\n",
       "    <tr>\n",
       "      <th>2</th>\n",
       "      <td>4</td>\n",
       "      <td>הצטרף</td>\n",
       "      <td>צ׳ם</td>\n",
       "      <td>data/arabit/clypit/צ׳ם.mp3</td>\n",
       "    </tr>\n",
       "    <tr>\n",
       "      <th>3</th>\n",
       "      <td>5</td>\n",
       "      <td>טלפון</td>\n",
       "      <td>האתפ ח׳לוי</td>\n",
       "      <td>data/arabit/clypit/האתפ ח׳לוי.mp3</td>\n",
       "    </tr>\n",
       "    <tr>\n",
       "      <th>4</th>\n",
       "      <td>6</td>\n",
       "      <td>פטפטן; נודניק</td>\n",
       "      <td>זנאן</td>\n",
       "      <td>data/arabit/clypit/זנאן.mp3</td>\n",
       "    </tr>\n",
       "  </tbody>\n",
       "</table>\n",
       "</div>"
      ],
      "text/plain": [
       "   page_num     page_title  sound_title                          local_file\n",
       "0         1           תודה         שכרן         data/arabit/clypit/שכרן.mp3\n",
       "1         2           מערה  ע׳ור מן ושי  data/arabit/clypit/ע׳ור מן ושי.mp3\n",
       "2         4          הצטרף          צ׳ם          data/arabit/clypit/צ׳ם.mp3\n",
       "3         5          טלפון   האתפ ח׳לוי   data/arabit/clypit/האתפ ח׳לוי.mp3\n",
       "4         6  פטפטן; נודניק         זנאן         data/arabit/clypit/זנאן.mp3"
      ]
     },
     "execution_count": 382,
     "metadata": {},
     "output_type": "execute_result"
    }
   ],
   "source": [
    "clypit_page_mapping = pd.DataFrame(page_to_clypit_titles, columns=[\"page_num\", \"page_title\", \"sound_title\", \"local_file\"])\n",
    "clypit_page_mapping.head()"
   ]
  },
  {
   "cell_type": "code",
   "execution_count": 383,
   "id": "85738a26-fff3-4dbf-8a65-5476e8a223a3",
   "metadata": {},
   "outputs": [],
   "source": [
    "clypit_page_mapping.to_csv('data/arabit/clypit_page_mapping.csv', index=False)"
   ]
  },
  {
   "cell_type": "markdown",
   "id": "5e9e882f-adca-4b2d-b319-eacb8dc6b710",
   "metadata": {},
   "source": [
    "## TODO: Choose sound file by the first between all of them!!!\n"
   ]
  },
  {
   "cell_type": "code",
   "execution_count": 436,
   "id": "1be95376-2646-4102-8f67-047428534b9c",
   "metadata": {},
   "outputs": [
    {
     "data": {
      "text/plain": [
       "'https?://(?:[\\\\w\\\\.]+\\\\.)?soundcloud\\\\.[a-zA-Z0-9()]{1,6}\\\\b(?:[-a-zA-Z0-9()@:%_\\\\+.~#?&/=]*)'"
      ]
     },
     "execution_count": 436,
     "metadata": {},
     "output_type": "execute_result"
    }
   ],
   "source": [
    "soundcloud_re.pattern"
   ]
  },
  {
   "cell_type": "code",
   "execution_count": 437,
   "id": "5bca05e0-c76c-4f11-a9ab-be95412131c7",
   "metadata": {},
   "outputs": [
    {
     "data": {
      "text/plain": [
       "'(https?://(?:[\\\\w\\\\.]+\\\\.)?clyp\\\\.it/[\\\\w]+\\\\b)(?:[-a-zA-Z0-9()@:%_\\\\+.~#?&/=]*)'"
      ]
     },
     "execution_count": 437,
     "metadata": {},
     "output_type": "execute_result"
    }
   ],
   "source": [
    "clypit_re.pattern"
   ]
  },
  {
   "cell_type": "code",
   "execution_count": 441,
   "id": "f7403d07-1cca-4c6c-ae50-cd54c3eaefb8",
   "metadata": {},
   "outputs": [],
   "source": [
    "sc_clyp_re = re.compile(fr'(?:{soundcloud_re.pattern})|(?:{clypit_re.pattern[1:-1]})|title=.* by Arabit')"
   ]
  },
  {
   "cell_type": "code",
   "execution_count": 443,
   "id": "1e324d6a-83bf-4319-801d-9e592478f77d",
   "metadata": {
    "collapsed": true,
    "jupyter": {
     "outputs_hidden": true
    },
    "tags": []
   },
   "outputs": [
    {
     "name": "stderr",
     "output_type": "stream",
     "text": [
      "  0%|                                                                                  | 3/2302 [00:00<01:40, 22.95it/s]"
     ]
    },
    {
     "name": "stdout",
     "output_type": "stream",
     "text": [
      "['https://on.soundcloud.com/s1Lxr?fbclid=IwAR2rKTdcdVf0Q2KqfKO5sd8ryS9v8YkyM4vTCNf1mM5GDWK7PFamfmh4-tI', 'https://on.soundcloud.com/s1Lxr', 'https://clyp.it/3lxfc3rh?fbclid=IwAR3TJCmLJYvdYWucL6DvETInvQ1WNwPJw6Afsw3sLjOwZdlTzB97tmec_Gs', 'https://clyp.it/3lxfc3rh']\n",
      "['https://on.soundcloud.com/Jag6v?fbclid=IwAR2DYrZ5SIN2FY_glT5_Dk9PgcXtkwbg0fjPc6ii808n_QMext7GPH73qjI', 'https://on.soundcloud.com/Jag6v', 'https://clyp.it/qgqnj2zc']\n",
      "['https://on.soundcloud.com/9RqRd?fbclid=IwAR1tQ0S383bBOnmGrl1Ra12LwOxaTUeb79i-3j_nKnPlAvk2vUR77ORw3ko', 'https://on.soundcloud.com/9RqRd']\n",
      "['https://on.soundcloud.com/HAA6e?fbclid=IwAR1e3r3Ng81_W_iHjGE_2OSld40V3zYkslbvG9ODc29ZiLIcPVAD2wRVQCk', 'https://on.soundcloud.com/HAA6e', 'https://clyp.it/yq0whjd5?fbclid=IwAR2KNG7EOrkm_XuA3-mh1xKRGxCZD7xSMA4aeO-Z79QOvJ7IyMAtgTu-s8g', 'https://clyp.it/yq0whjd5']\n",
      "['https://on.soundcloud.com/SDpcs', 'https://clyp.it/qfzesdvu/widget']\n"
     ]
    },
    {
     "name": "stderr",
     "output_type": "stream",
     "text": [
      "  0%|▎                                                                                 | 9/2302 [00:00<01:34, 24.39it/s]"
     ]
    },
    {
     "name": "stdout",
     "output_type": "stream",
     "text": [
      "['https://on.soundcloud.com/9LNpN?fbclid=IwAR2zSqZ9LWTFOfFOH-XfZQvdHSqdWsF7MKfoo0M2O40SKioF71QEr341k7k', 'https://on.soundcloud.com/9LNpN', 'https://clyp.it/uh1mau4v?fbclid=IwAR2YoHDSyt5ag8UJ7viB-NSQMAX3_kribJww5OaarWqRBdIw7sP-r_tf5Lw', 'https://clyp.it/uh1mau4v']\n",
      "['https://on.soundcloud.com/2vKQi?fbclid=IwAR3dck487XOcFSWEtf-NQN48qJFiOXA_yns3kmW7aCepp8PSxfPLvmOuKf0', 'https://on.soundcloud.com/2vKQi', 'https://clyp.it/juwp1g30']\n",
      "['https://on.soundcloud.com/Duit7']\n",
      "['https://on.soundcloud.com/cEU6s?fbclid=IwAR0Gpo1KeoWhxdLpxiiYyfqUjGlgo56wDFajMAoiIdPv96r4CBu2GBH4b08', 'https://on.soundcloud.com/cEU6s', 'https://clyp.it/stn112my']\n",
      "['https://on.soundcloud.com/nCZCk']\n",
      "['https://on.soundcloud.com/FbWTy', 'https://clyp.it/ojzvsgqk/widget']\n"
     ]
    },
    {
     "name": "stderr",
     "output_type": "stream",
     "text": [
      "  1%|▌                                                                                | 15/2302 [00:00<01:29, 25.47it/s]"
     ]
    },
    {
     "name": "stdout",
     "output_type": "stream",
     "text": [
      "['https://on.soundcloud.com/qTV3D?fbclid=IwAR2u6Tgio--WCDZ0QeUtMQ-SMqtLi1v9fdDGVhagUxAdqi4SjO960ze3O_8', 'https://on.soundcloud.com/qTV3D', 'https://clyp.it/iwwaiusj', 'https://clyp.it/eocfdb0p', 'https://clyp.it/iwwaiusj', 'https://clyp.it/eocfdb0p']\n",
      "['https://on.soundcloud.com/tyXHN?fbclid=IwAR1Xvw44uXilNmlxCqR1DHx9SyDsbT3xVOuP3ZCB6hY1OW4symvW9WkdHmU', 'https://on.soundcloud.com/tyXHN', 'https://clyp.it/kgolxbps']\n",
      "['https://on.soundcloud.com/e7Wcz?fbclid=IwAR1gvWNKJiSvFD3jNUVRNrzbxiVdDWn8AVHahV6kJzGH4AKMyffaMKuKbag', 'https://on.soundcloud.com/e7Wcz', 'https://clyp.it/dnrdu2kb?fbclid=IwAR2goHqsCyz0ShxVCt3l2hSW8uGdkhF1C8d0Y9yj7R5aVUCB2At1lDyEInk', 'https://clyp.it/dnrdu2kb']\n",
      "['https://on.soundcloud.com/869ND']\n",
      "['https://on.soundcloud.com/wdLbM?fbclid=IwAR0eY2efAUcPcPwOcrzWkguq_leirGP2VgmQTYtYPcOIsY17Bc7OEqXAdIw', 'https://on.soundcloud.com/wdLbM']\n",
      "['https://on.soundcloud.com/z12Fh']\n"
     ]
    },
    {
     "name": "stderr",
     "output_type": "stream",
     "text": [
      "  1%|▋                                                                                | 21/2302 [00:00<01:27, 26.19it/s]"
     ]
    },
    {
     "name": "stdout",
     "output_type": "stream",
     "text": [
      "['https://on.soundcloud.com/6NXmn', 'https://clyp.it/locd1fdi/widget']\n",
      "['https://on.soundcloud.com/ECWHp', 'https://w.soundcloud.com/player/?visual=false&amp', 'title=\"עליק by Arabit']\n",
      "['https://on.soundcloud.com/vVEHH', 'https://on.soundcloud.com/rfJ7z', 'https://clyp.it/thi2lqxr/widget']\n",
      "['https://on.soundcloud.com/jX4Px', 'https://on.soundcloud.com/z2VqL']\n",
      "['https://on.soundcloud.com/8qi2u', 'https://w.soundcloud.com/player/?visual=false&amp', 'title=\"מחבוס by Arabit']\n",
      "['https://on.soundcloud.com/k1kdk']\n"
     ]
    },
    {
     "name": "stderr",
     "output_type": "stream",
     "text": [
      "  1%|▉                                                                                | 27/2302 [00:01<01:23, 27.11it/s]"
     ]
    },
    {
     "name": "stdout",
     "output_type": "stream",
     "text": [
      "['https://on.soundcloud.com/fQYE4']\n",
      "['https://on.soundcloud.com/xgJDA', 'https://clyp.it/qzc5og1i/widget']\n",
      "['https://on.soundcloud.com/n5R1T', 'https://clyp.it/mpxava2l/widget']\n",
      "['https://on.soundcloud.com/rMX6w?fbclid=IwAR3PCllhMV6ubREGDkuiuWlYjgec9f5Fz_6dskmmE9Oh8jVkG9H4Vhm1ZjQ', 'https://on.soundcloud.com/rMX6w', 'https://clyp.it/rdwpiwz2']\n",
      "['https://on.soundcloud.com/2Pm22?fbclid=IwAR0TCTtFHFwBbi1O78dXjE4B9J25NdpR929jrYMP31fYQIcYrx8wqKOL1Ak', 'https://on.soundcloud.com/2Pm22']\n",
      "['https://on.soundcloud.com/ok4ix', 'https://clyp.it/mdzeoplr/widget']\n"
     ]
    },
    {
     "name": "stderr",
     "output_type": "stream",
     "text": [
      "  1%|█▏                                                                               | 33/2302 [00:01<01:25, 26.47it/s]"
     ]
    },
    {
     "name": "stdout",
     "output_type": "stream",
     "text": [
      "['https://on.soundcloud.com/BptgQ', 'https://soundcloud.com/listen2arabit/dswmvkmzjhwf', 'https://clyp.it/husixuvw']\n",
      "['https://on.soundcloud.com/nh1n6?fbclid=IwAR3Q1Yc_Kpm_qx4HU95RQp7UMbH4_WMPuFXvNQCzM6vXIm298ICoI9pEFks', 'https://on.soundcloud.com/nh1n6', 'https://clyp.it/bealzol0']\n",
      "['https://on.soundcloud.com/m1jxP', 'https://clyp.it/cqna4ces?fbclid=IwAR2gm530jvTaq6c5PkY4TejruV4M5fFTz8TeGsX2wjcsMWZK90BiKzt_OIY', 'https://clyp.it/cqna4ces']\n",
      "['https://on.soundcloud.com/4qZp1', 'https://clyp.it/q1wg32dx']\n",
      "['https://on.soundcloud.com/McfVc']\n",
      "['https://on.soundcloud.com/g4qTr', 'https://clyp.it/mh1slraf']\n"
     ]
    },
    {
     "name": "stderr",
     "output_type": "stream",
     "text": [
      "  2%|█▎                                                                               | 39/2302 [00:01<01:23, 26.96it/s]"
     ]
    },
    {
     "name": "stdout",
     "output_type": "stream",
     "text": [
      "['https://on.soundcloud.com/LXAj8?fbclid=IwAR1OO8KEKTAU4Dx5FViQ4kl4LzsZG56CtALDzcFZ7Gs99Nmj8LgEqAYDNpM', 'https://on.soundcloud.com/LXAj8', 'https://on.soundcloud.com/8P9L8']\n",
      "['https://on.soundcloud.com/P5UQP?fbclid=IwAR33QRhsnTudqUaVfvnN5j1lR9H_FOkBTNgPK0d6VlYueQTefQv4trBgpzc', 'https://on.soundcloud.com/P5UQP']\n",
      "['https://on.soundcloud.com/QBvAJ', 'https://clyp.it/tsvpolfs']\n",
      "['https://on.soundcloud.com/LEWRH?fbclid=IwAR2e9y3vtQ8YBSAVwHgShL01HOzB6D61rPggCb0X2jtmbEEwzyiX-7lmcwE', 'https://on.soundcloud.com/LEWRH']\n",
      "['https://on.soundcloud.com/6LVd5?fbclid=IwAR1cARMJrplG894E5Cwj_NUSzxPSFBSX_FT63SbPRxb_oCDpVHbs0cndS6o', 'https://on.soundcloud.com/6LVd5', 'https://clyp.it/5fe5g5bz']\n",
      "['https://on.soundcloud.com/bqXPU?fbclid=IwAR0HiDFOSR7FhWRmLngFYT0khBiYQ82QWcw9wK37sqeTZ1Q7jlrsCcobnNM', 'https://on.soundcloud.com/bqXPU', 'https://soundcloud.com/listen2arabit/64wda3y9wt6d', 'https://clyp.it/ntvdsjij']\n"
     ]
    },
    {
     "name": "stderr",
     "output_type": "stream",
     "text": [
      "  2%|█▌                                                                               | 45/2302 [00:01<01:25, 26.44it/s]"
     ]
    },
    {
     "name": "stdout",
     "output_type": "stream",
     "text": [
      "['https://on.soundcloud.com/RjT8c']\n",
      "['https://on.soundcloud.com/F8e12', 'https://clyp.it/g4ejm2st']\n",
      "['https://on.soundcloud.com/RkvyQ?fbclid=IwAR1dFLLp_jRnigHN3L1fNOU7D63KVyXSma8YVV20VDArXenLZAnhj_PpwdA', 'https://on.soundcloud.com/RkvyQ', 'https://soundcloud.com/listen2arabit/jbpyytlrhzsp', 'https://soundcloud.com/listen2arabit/2uucaoawpkgo']\n",
      "['https://on.soundcloud.com/8qah5?fbclid=IwAR0gW4avW14dnZUTDxp7xr6w6vDbuFXlOrjbWuDhk2PaX1YKhf7MI_e61JE', 'https://on.soundcloud.com/8qah5']\n",
      "['https://on.soundcloud.com/j9mAB?fbclid=IwAR0VXJDsXAqtddigJ_KJAxLPFe6lr0XsT4_1IXROAQA52RMYi4AfV6t7geU', 'https://on.soundcloud.com/j9mAB', 'https://w.soundcloud.com/player/?visual=false&amp', 'title=\"מדרסה by Arabit', 'https://w.soundcloud.com/player/?visual=false&amp', 'title=\"דרס by Arabit', 'https://clyp.it/echp24bi/widget']\n",
      "['https://on.soundcloud.com/cgqCY?fbclid=IwAR3ug9ha9BH4X_JVAd2-t7Icb8psOuETZnusFxt7WolTA76S8---kKtD8bo', 'https://on.soundcloud.com/cgqCY']\n"
     ]
    },
    {
     "name": "stderr",
     "output_type": "stream",
     "text": [
      "  2%|█▊                                                                               | 51/2302 [00:01<01:31, 24.58it/s]"
     ]
    },
    {
     "name": "stdout",
     "output_type": "stream",
     "text": [
      "['https://on.soundcloud.com/8znGQ']\n",
      "['https://on.soundcloud.com/cQjdp?fbclid=IwAR3V-vf8tqNzYep1S9adKgIhUNYn8hyvE6rEO1b6tu8f9hmJT59ih2R_1LE', 'https://on.soundcloud.com/cQjdp']\n",
      "['https://on.soundcloud.com/Dqjap?fbclid=IwAR2L9IQRTVZgjf_F-asOEc0Xb8GtIj8GB_X9E1Q_BQZSCw-qNrnPjPzUs08', 'https://on.soundcloud.com/Dqjap', 'https://clyp.it/xrsem04e']\n",
      "['https://on.soundcloud.com/dVYjG?fbclid=IwAR2NiF0n5y_zGKhd_6Kt5rYcJtdi9Zj1Xlf8GtrGUClJUvwPLTvJaXjkLI4', 'https://on.soundcloud.com/dVYjG']\n",
      "['https://on.soundcloud.com/cKUSC?fbclid=IwAR0P9cfBGdvYyy_r6JQ6z3aLZWP9ynEi_pqCh3_RLbPH_9NF1rZecKw_N68', 'https://on.soundcloud.com/cKUSC']\n"
     ]
    },
    {
     "name": "stderr",
     "output_type": "stream",
     "text": [
      "  2%|██                                                                               | 57/2302 [00:02<01:33, 24.10it/s]"
     ]
    },
    {
     "name": "stdout",
     "output_type": "stream",
     "text": [
      "['https://on.soundcloud.com/EyRkh']\n",
      "['https://on.soundcloud.com/4dJWK', 'https://clyp.it/ezsnnboc/widget']\n",
      "['https://on.soundcloud.com/bVJGN?fbclid=IwAR2Roh2rxKpS4BvbEoUDXM7c5E53XL0jLPl092KFTH1P9REboNwhWATkhok', 'https://on.soundcloud.com/bVJGN', 'https://clyp.it/ckakwrgm']\n",
      "['https://on.soundcloud.com/ZaMh4?fbclid=IwAR2vXT7XAfkOmOVylhX4pSgngzNHh5ozqYlVBUkaTERjDhGCGCKuR_a_CVk', 'https://on.soundcloud.com/ZaMh4', 'https://clyp.it/xrdqgizl/widget']\n",
      "['https://on.soundcloud.com/S2mPw', 'https://clyp.it/oas2en34']\n"
     ]
    },
    {
     "name": "stderr",
     "output_type": "stream",
     "text": [
      "  3%|██                                                                               | 60/2302 [00:02<01:32, 24.30it/s]"
     ]
    },
    {
     "name": "stdout",
     "output_type": "stream",
     "text": [
      "['https://on.soundcloud.com/a4NrR', 'https://soundcloud.com/listen2arabit/tzheuvc7xeh8']\n",
      "[]\n",
      "['https://on.soundcloud.com/5gzdu?fbclid=IwAR0xQjbJXiL5_TTJEKSaCkZvrbGc12PtTaY_S0_5jSN9c25IK5Ke-wVkU0s', 'https://on.soundcloud.com/5gzdu', 'https://soundcloud.com/listen2arabit/mmd7kv9a2yaq']\n",
      "['https://on.soundcloud.com/qX9JY?fbclid=IwAR03rAIz09d8WYG6xq5ML6BedBA4t08i5-vKZlqj_pYFoT1aDas95osye1c', 'https://on.soundcloud.com/qX9JY', 'https://clyp.it/2wqtefjv/widget']\n",
      "['https://on.soundcloud.com/15ESW?fbclid=IwAR3gzRKmZII5goMxBxEsG73v9zlzsIg2PqSJZDEC56h1w2ZPRWCx0b-qZaU', 'https://on.soundcloud.com/15ESW', 'https://clyp.it/hrjx0y4q/widget']\n",
      "['https://on.soundcloud.com/QktsA?fbclid=IwAR2_0E4jJW3qso_afcPp_tbcvd0kf9ey8sqUCaZl0gaG4Q9nle50X3iKMCA', 'https://on.soundcloud.com/QktsA', 'https://w.soundcloud.com/player/?visual=false&amp', 'title=\"כלסון by Arabit', 'https://w.soundcloud.com/player/?visual=false&amp', 'title=\"מן וראא׳ אלכואליס by Arabit']\n"
     ]
    },
    {
     "name": "stderr",
     "output_type": "stream",
     "text": [
      "  3%|██▎                                                                              | 66/2302 [00:02<01:34, 23.69it/s]"
     ]
    },
    {
     "name": "stdout",
     "output_type": "stream",
     "text": [
      "['https://on.soundcloud.com/4WwZm?fbclid=IwAR1alrQHR0CESVb6ObYwQ6zKYLFlJp4SctsIQtOb_UqeNkgXCVNxGAr2HIc', 'https://on.soundcloud.com/4WwZm']\n",
      "['https://on.soundcloud.com/N7Vvi?fbclid=IwAR2m-BI63r9xf76ltkFGO8NTr3h7rr3Cj--ivNfHIZQNFxHD96YERZwnfI0', 'https://on.soundcloud.com/N7Vvi', 'https://clyp.it/kxv24wep']\n",
      "['https://on.soundcloud.com/YtcgD?fbclid=IwAR3jAmttjl8ops-w9eo0J7U48eelmWlejILSNx_wEJhNqfNMCHdBsqLEulM', 'https://on.soundcloud.com/YtcgD']\n",
      "['https://on.soundcloud.com/ZEpCh']\n",
      "['https://on.soundcloud.com/y5i8q', 'https://clyp.it/11rdinjn']\n"
     ]
    },
    {
     "name": "stderr",
     "output_type": "stream",
     "text": [
      "  3%|██▌                                                                              | 72/2302 [00:03<03:46,  9.86it/s]"
     ]
    },
    {
     "name": "stdout",
     "output_type": "stream",
     "text": [
      "['https://on.soundcloud.com/x8Qrr']\n",
      "['https://on.soundcloud.com/BQXwU?fbclid=IwAR02Bzkk_tXUXwEMnrFK5Juh6W0Yx_9lJkE9tL0uqK5h8FtUpKVoD6pzV1A', 'https://on.soundcloud.com/BQXwU']\n",
      "['https://on.soundcloud.com/aW3s8', 'https://clyp.it/hqdovn2t']\n",
      "['https://on.soundcloud.com/fwvtT']\n",
      "['https://clyp.it/2dzivloh']\n"
     ]
    },
    {
     "name": "stderr",
     "output_type": "stream",
     "text": [
      "  3%|██▋                                                                              | 78/2302 [00:03<02:38, 14.02it/s]"
     ]
    },
    {
     "name": "stdout",
     "output_type": "stream",
     "text": [
      "['https://on.soundcloud.com/pecM7']\n",
      "['https://on.soundcloud.com/TMwVv?fbclid=IwAR0v5ghmYeURd6lBRTerO8t68Tk81CtQ3OyoCRh4CutSvJzkMLyxAZS-EHQ', 'https://on.soundcloud.com/TMwVv']\n",
      "['https://on.soundcloud.com/8aZCA', 'https://clyp.it/2eowjolx/widget', 'https://clyp.it/kedibwon/widget']\n",
      "['https://on.soundcloud.com/yBTxQ?fbclid=IwAR2BYHx9kjooRY8A0rNyeYpAjt0UcyCgFHxh58m_9CT8bgOgYaPuXMp5xvA', 'https://on.soundcloud.com/yBTxQ']\n",
      "['https://on.soundcloud.com/zgRk9?fbclid=IwAR3M2Lx8_s2XEfOc-UIABgf7EYbSE_nKE2tdXN4knwQgQvUOWrQlZO495Vs', 'https://on.soundcloud.com/zgRk9', 'https://soundcloud.com/listen2arabit/slo3jcldkztx', 'https://clyp.it/isg2qtba']\n"
     ]
    },
    {
     "name": "stderr",
     "output_type": "stream",
     "text": [
      "  4%|██▉                                                                              | 84/2302 [00:04<02:02, 18.05it/s]"
     ]
    },
    {
     "name": "stdout",
     "output_type": "stream",
     "text": [
      "['https://on.soundcloud.com/L1xtR', 'https://clyp.it/3cldqqvs/widget']\n",
      "['https://on.soundcloud.com/EUkRt?fbclid=IwAR2SfpeLgU-7ftyVzwGNfdWSAsovkTPJ_BZq9GY3ksovLc0kKMRy8uy_UPw', 'https://on.soundcloud.com/EUkRt', 'https://soundcloud.com/listen2arabit/xalagodpsctv']\n",
      "['https://on.soundcloud.com/ACD8C?fbclid=IwAR2_agOrYm6vG6VvjvtWn5-QQANW_UAwUKvFp0HRiNQEScT3HU09VZN4HYA', 'https://on.soundcloud.com/ACD8C', 'https://clyp.it/mzmqlmpy?fbclid=IwAR3T-LZC5sfJKRjFw2pEzcM_TeNJ0IkPq-l86MDc-pBK2d1F7mqfcwXFvP0', 'https://clyp.it/mzmqlmpy']\n",
      "['https://on.soundcloud.com/wQ135']\n",
      "['https://on.soundcloud.com/2asJa?fbclid=IwAR3GCzwKIr6Pwf4Y9_dFZF7DzKNeL_TGxlQJsJpZ1TnqjO6mNDfA0JnJVvE', 'https://on.soundcloud.com/2asJa']\n",
      "['https://on.soundcloud.com/37zDf', 'https://clyp.it/40ogbpbv', 'https://clyp.it/pigtogs1']\n"
     ]
    },
    {
     "name": "stderr",
     "output_type": "stream",
     "text": [
      "  4%|███                                                                              | 87/2302 [00:04<01:52, 19.78it/s]"
     ]
    },
    {
     "name": "stdout",
     "output_type": "stream",
     "text": [
      "['https://on.soundcloud.com/vez5F']\n",
      "['https://on.soundcloud.com/Uz9HT', 'https://clyp.it/nddimqhy', 'https://clyp.it/vbz54jh5', 'https://clyp.it/pne112lt']\n",
      "['https://on.soundcloud.com/cd2KJ', 'https://soundcloud.com/listen2arabit/bwbe3hstkmmg?fbclid=IwAR2gctxtvF32-hzviw7NgxY_a4-tClNL4WL3G9hw_rdSUD8t02XAtxsbDAE', 'https://soundcloud.com/listen2arabit/bwbe3hstkmmg']\n",
      "['https://on.soundcloud.com/WK9pS', 'https://clyp.it/upsou45o/widget']\n"
     ]
    },
    {
     "name": "stderr",
     "output_type": "stream",
     "text": [
      "  4%|███▎                                                                             | 93/2302 [00:04<02:04, 17.71it/s]"
     ]
    },
    {
     "name": "stdout",
     "output_type": "stream",
     "text": [
      "['https://on.soundcloud.com/H8Mdh?fbclid=IwAR0nDOm3a09riwvIh4KNzaccQhbUP7BFOnKI7O10BKSq9A7zmNobYtMVLxQ', 'https://on.soundcloud.com/H8Mdh', 'https://w.soundcloud.com/player/?visual=false&amp', 'title=\"הדם by Arabit']\n",
      "['https://on.soundcloud.com/23maF?fbclid=IwAR0WVKcEnQhTK8BapHIgLbFjMsUOMSozc6heTi0ED0qitiy4aha9tVLRnrE', 'https://on.soundcloud.com/23maF']\n",
      "['https://on.soundcloud.com/EMsne', 'https://clyp.it/gyxwyc1p/widget', 'https://clyp.it/bx2tcfs4/widget']\n",
      "['https://on.soundcloud.com/ftRgG', 'https://on.soundcloud.com/bw4UB?fbclid=IwAR3xLCaqoK5Slk_659vlFrmPZE7OdjSQZOmCXLOqd2EWqHpuHrO5lNuZIBY', 'https://on.soundcloud.com/bw4UB']\n",
      "['https://on.soundcloud.com/kpHEL', 'https://w.soundcloud.com/player/?visual=false&amp', 'title=\"חרף by Arabit']\n"
     ]
    },
    {
     "name": "stderr",
     "output_type": "stream",
     "text": [
      "  4%|███▍                                                                             | 96/2302 [00:04<01:59, 18.46it/s]"
     ]
    },
    {
     "name": "stdout",
     "output_type": "stream",
     "text": [
      "['https://on.soundcloud.com/nntQT', 'https://clyp.it/0fhna3qg/widget']\n",
      "['https://on.soundcloud.com/RR4iY', 'https://clyp.it/yjfwjewe/widget']\n",
      "['https://on.soundcloud.com/o4KpG']\n",
      "['https://on.soundcloud.com/RHNPJ?fbclid=IwAR18zHmx9z6qv38XqxrjzCdGhH8wRmvTxm383teulUnZmz57T4QbnEEOgBo', 'https://on.soundcloud.com/RHNPJ']\n",
      "['https://on.soundcloud.com/awN4e']\n"
     ]
    },
    {
     "name": "stderr",
     "output_type": "stream",
     "text": [
      "  4%|███▌                                                                            | 102/2302 [00:05<01:44, 21.09it/s]"
     ]
    },
    {
     "name": "stdout",
     "output_type": "stream",
     "text": [
      "['https://on.soundcloud.com/Ji1m2']\n",
      "['https://on.soundcloud.com/fsfcg', 'https://clyp.it/lnwsdlp3/widget', 'https://clyp.it/4zzp12dz/widget']\n",
      "['https://on.soundcloud.com/YqL2z', 'https://clyp.it/pntdac1x/widget']\n",
      "['https://on.soundcloud.com/YpVLF']\n",
      "['https://on.soundcloud.com/3Dz9b?fbclid=IwAR2ULbtGFBqEUXRxVtsqq4oNCO_lFRDxsmAfRBykcp_TYr5fjtAGHmUUwBQ', 'https://on.soundcloud.com/3Dz9b']\n",
      "['https://on.soundcloud.com/JLFcw', 'https://w.soundcloud.com/player/?visual=false&amp', 'title=\"ח׳דע by Arabit']\n"
     ]
    },
    {
     "name": "stderr",
     "output_type": "stream",
     "text": [
      "  5%|███▊                                                                            | 108/2302 [00:05<01:38, 22.32it/s]"
     ]
    },
    {
     "name": "stdout",
     "output_type": "stream",
     "text": [
      "['https://on.soundcloud.com/8d8gu?fbclid=IwAR1B-okAlymL2q-7PJaWJ2StdDTcs2_Ib66VdzR8jI7Yvf7bvxlUK39zAXw', 'https://on.soundcloud.com/8d8gu', 'https://clyp.it/4ged2vwh']\n",
      "['https://on.soundcloud.com/U3D5c', 'https://soundcloud.com/listen2arabit/k51r2vlgwrcz?fbclid=IwAR001AcCj-YiQI9-VIPhUgwHmau8OjUTNdYctHqrTdKjsBhiJyoCxIlmqhc', 'https://soundcloud.com/listen2arabit/k51r2vlgwrcz', 'https://clyp.it/l4arkgqm']\n",
      "['https://on.soundcloud.com/bmqyA', 'https://w.soundcloud.com/player/?visual=false&amp', 'title=\"סאאל by Arabit', 'https://w.soundcloud.com/player/?visual=false&amp', 'title=\"מסאול by Arabit']\n",
      "['https://on.soundcloud.com/T7Ba5', 'https://clyp.it/bzsp2vo2/widget']\n",
      "['https://on.soundcloud.com/ayZmd']\n"
     ]
    },
    {
     "name": "stderr",
     "output_type": "stream",
     "text": [
      "  5%|███▉                                                                            | 114/2302 [00:05<01:32, 23.76it/s]"
     ]
    },
    {
     "name": "stdout",
     "output_type": "stream",
     "text": [
      "['https://on.soundcloud.com/5AiUx', 'https://clyp.it/mwgtjr23/widget']\n",
      "['https://on.soundcloud.com/hgbNA?fbclid=IwAR0oPkOk8jWEmxJE32rstOr7gm30nHJTfGRsBoP9TsL1Hx-YcuID06p036k', 'https://on.soundcloud.com/hgbNA', 'https://w.soundcloud.com/player/?visual=false&amp', 'title=\"ספר by Arabit']\n",
      "['https://on.soundcloud.com/GkxSq?fbclid=IwAR1yNsZLmpqPd7JjziGpsfkuzL_9L_MeS3ok6JWSDod2XjfOKhS0cqkX4Qw', 'https://on.soundcloud.com/GkxSq']\n",
      "['https://on.soundcloud.com/WewdD?fbclid=IwAR1cN5yEzWaf64MIlTZ6nTxlg8Pegb4hQlQRmbKBz4UN7uN-ucZRz_fJZiM', 'https://on.soundcloud.com/WewdD']\n",
      "['https://on.soundcloud.com/PR3vZ']\n",
      "['https://on.soundcloud.com/FCkNU']\n"
     ]
    },
    {
     "name": "stderr",
     "output_type": "stream",
     "text": [
      "  5%|████▏                                                                           | 120/2302 [00:05<01:30, 24.11it/s]"
     ]
    },
    {
     "name": "stdout",
     "output_type": "stream",
     "text": [
      "['https://on.soundcloud.com/EnJLY', 'https://clyp.it/30rsxtn0']\n",
      "['https://on.soundcloud.com/FEqC8?fbclid=IwAR0DOP2QqKkLIR3vN2LOASH-fzYcSl6c-utxlOEFwC7uBTSo-zrQ97qkc8Y', 'https://on.soundcloud.com/FEqC8']\n",
      "['https://on.soundcloud.com/QZxk6?fbclid=IwAR0Ov3BVxr6exldCYjQUwM4bed5k7SwaH9tG-Cm7zJRX3yd9MgPcemBkHVw', 'https://on.soundcloud.com/QZxk6', 'https://clyp.it/uqgpnjt2', 'https://clyp.it/03trlaqg', 'https://clyp.it/uqgpnjt2']\n",
      "['https://on.soundcloud.com/HwucB?fbclid=IwAR2woai_gZy9ZyIx43NPmpC59WLITcGs9DGdnX3Ql_QEnXXzqTw8Lmz8v7o', 'https://on.soundcloud.com/HwucB', 'https://clyp.it/kwmlpp2t']\n",
      "['https://on.soundcloud.com/mzCwT']\n"
     ]
    },
    {
     "name": "stderr",
     "output_type": "stream",
     "text": [
      "  5%|████▎                                                                           | 123/2302 [00:05<01:32, 23.66it/s]"
     ]
    },
    {
     "name": "stdout",
     "output_type": "stream",
     "text": [
      "['https://on.soundcloud.com/ht4d1', 'https://soundcloud.com/listen2arabit/svyslhatb6uk']\n",
      "['https://on.soundcloud.com/7AwAb?fbclid=IwAR3dYkXksTWOoDCzSok17VbpWZ5U2IGET8rpiKF-OfnWSylBepRTLULbo4U', 'https://on.soundcloud.com/7AwAb', 'https://on.soundcloud.com/XbTXi']\n",
      "['https://on.soundcloud.com/JL3M1?fbclid=IwAR2RWNc9zLq26Z2Gwtm6HACe_zfCQEGQ-w5mEYGAxYzdxfSBfPM4jlaSk3Q', 'https://on.soundcloud.com/JL3M1', 'https://clyp.it/wa3urm4y']\n",
      "['https://on.soundcloud.com/GV77B?fbclid=IwAR1nHshJpAPyXh3awehUqgl2eGY6jS51EEGtB-ScP5-NhPFqyIz9TX7xJSM', 'https://on.soundcloud.com/GV77B', 'https://clyp.it/4vg1uafd/widget']\n",
      "['https://on.soundcloud.com/GSQAu', 'https://clyp.it/vmqxgh4v/widget', 'https://clyp.it/midrko5f/widget']\n"
     ]
    },
    {
     "name": "stderr",
     "output_type": "stream",
     "text": [
      "  6%|████▍                                                                           | 129/2302 [00:06<01:31, 23.73it/s]"
     ]
    },
    {
     "name": "stdout",
     "output_type": "stream",
     "text": [
      "['https://on.soundcloud.com/wGx5X', 'https://clyp.it/wki0vppj']\n",
      "['https://on.soundcloud.com/S4n8M', 'https://clyp.it/nf10rn2j']\n",
      "['https://on.soundcloud.com/DAKLg?fbclid=IwAR1cQHoyJhTPH9f0-Qr0y8-D8uYtKjUuNb2yakuj3Ml6GacomKjzNQAeNk8', 'https://on.soundcloud.com/DAKLg', 'https://w.soundcloud.com/player/?visual=false&amp', 'title=\"תהדיד by Arabit']\n",
      "['https://on.soundcloud.com/ocEZt?fbclid=IwAR1AkmfXQqkFarOjQfFMUvCCzAkXano1nkhZdVlALnAhyYQnsO0RpVz4TBY', 'https://on.soundcloud.com/ocEZt', 'https://clyp.it/rza5s2tm/widget']\n",
      "['https://on.soundcloud.com/YFQnu?fbclid=IwAR3Kh-8BxjswEBpa9Pt-M8eaFGigHxPMeCQxMbkynwwzU4uHsbLBvOa_ous', 'https://on.soundcloud.com/YFQnu']\n",
      "['https://on.soundcloud.com/tTzdP?fbclid=IwAR3nmFWa_qZyBMayv9HdkBVaBBsD_eNrTDE2q1K5HcaEJqCZkNJYQZ3_SY0', 'https://on.soundcloud.com/tTzdP', 'https://clyp.it/2dnddkgp/widget']\n"
     ]
    },
    {
     "name": "stderr",
     "output_type": "stream",
     "text": [
      "  6%|████▋                                                                           | 135/2302 [00:06<01:30, 23.94it/s]"
     ]
    },
    {
     "name": "stdout",
     "output_type": "stream",
     "text": [
      "['https://on.soundcloud.com/efdnR?fbclid=IwAR28qlnxfIVJ7lhvdd2sP0BBc78-sdvmxjoJYhUw_zcjbSpmAHgfcdk-VYs', 'https://on.soundcloud.com/efdnR', 'https://clyp.it/midrko5f/widget']\n",
      "['https://on.soundcloud.com/t8Tbt?fbclid=IwAR37mNZLSRq4rGkBHH5DbAM20swlQp0wExwx1R0oqSGAoWzY82aKjJ8D8dM', 'https://on.soundcloud.com/t8Tbt']\n",
      "['https://on.soundcloud.com/BKVwj?fbclid=IwAR2m1KRKcRGuYKD7BGd8otBqz5Xzq2T4f_AukIOPZBZzCnLy3Ziw2r_ZC5Y', 'https://on.soundcloud.com/BKVwj', 'https://clyp.it/v3x51yg2/widget']\n",
      "['https://on.soundcloud.com/VGmTU']\n",
      "['https://on.soundcloud.com/gKvLS', 'https://clyp.it/qejcvwiy', 'https://clyp.it/b24ycqlg']\n"
     ]
    },
    {
     "name": "stderr",
     "output_type": "stream",
     "text": [
      "  6%|████▉                                                                           | 141/2302 [00:06<01:29, 24.07it/s]"
     ]
    },
    {
     "name": "stdout",
     "output_type": "stream",
     "text": [
      "['https://on.soundcloud.com/2eeNA', 'https://clyp.it/fudopiw1/widget']\n",
      "['https://on.soundcloud.com/qCfyx?fbclid=IwAR3FiRUpKuXzNe4437Paicsh5EZtrTQtzzOX4gAqWWXdwcN6jhsA_eGcesY', 'https://on.soundcloud.com/qCfyx', 'https://clyp.it/sr2etqtj', 'https://clyp.it/nwpgkhbe']\n",
      "['https://on.soundcloud.com/PSyMg?fbclid=IwAR3IP1tb1oHA7BuWvQqgkD-g0RXdKwGxqGX0mt7VmDI21yoYW-QtQCTkIXo', 'https://on.soundcloud.com/PSyMg', 'https://clyp.it/l5mlqxav/widget']\n",
      "['https://on.soundcloud.com/qLaFF']\n",
      "['https://on.soundcloud.com/gvCpo?fbclid=IwAR2thZwaeryiiYVNjMq5-cyaHJ-YGKcRAnJH2JhdbvJotgwiE4_mC_ACcts', 'https://on.soundcloud.com/gvCpo', 'https://w.soundcloud.com/player/?visual=false&amp', 'title=\"מלאהי by Arabit']\n",
      "['https://on.soundcloud.com/XUe9B']\n"
     ]
    },
    {
     "name": "stderr",
     "output_type": "stream",
     "text": [
      "  6%|█████                                                                           | 144/2302 [00:06<01:26, 25.09it/s]"
     ]
    },
    {
     "name": "stdout",
     "output_type": "stream",
     "text": [
      "['https://on.soundcloud.com/enup3?fbclid=IwAR0kxvHCsO7gB1t5WCWemBZ1eIDCWTxjyd8siZY9Ov_QUlieY_Pa3d8fOI0', 'https://on.soundcloud.com/enup3', 'https://clyp.it/rb0acx52/widget']\n",
      "['https://on.soundcloud.com/FVU4R']\n"
     ]
    },
    {
     "name": "stderr",
     "output_type": "stream",
     "text": [
      "  7%|█████▏                                                                          | 150/2302 [00:07<03:32, 10.13it/s]"
     ]
    },
    {
     "name": "stdout",
     "output_type": "stream",
     "text": [
      "['https://on.soundcloud.com/RoJrM?fbclid=IwAR0ehQ1m_6rRs2QbBAwiZKqj6x-nxIaix9JVZXfmWZGko865noc80o-qV5Y', 'https://on.soundcloud.com/RoJrM']\n",
      "['https://on.soundcloud.com/EZRq4?fbclid=IwAR0UotU6xvXv4VQhYNr_oqT9rD7iE0073OSEBWCZ0pDodmFYNBRwJoMvzkw', 'https://on.soundcloud.com/EZRq4']\n",
      "['https://on.soundcloud.com/MWiX4', 'https://clyp.it/5opecyf5']\n",
      "['https://on.soundcloud.com/iYy4T?fbclid=IwAR2Zvl0EqP4EjUiAez73oVCTEYsIs5lp9IvyTY0L2jzLX2Yxo0HuJP1N2Wo', 'https://on.soundcloud.com/iYy4T']\n",
      "['https://on.soundcloud.com/zVDVx', 'https://clyp.it/tr0e5soi', 'https://clyp.it/nulm11s1']\n",
      "['https://on.soundcloud.com/SPMQ4', 'https://clyp.it/vffeomvh']\n"
     ]
    },
    {
     "name": "stderr",
     "output_type": "stream",
     "text": [
      "  7%|█████▎                                                                          | 153/2302 [00:08<02:55, 12.25it/s]"
     ]
    },
    {
     "name": "stdout",
     "output_type": "stream",
     "text": [
      "['https://on.soundcloud.com/6H9hX?fbclid=IwAR1vXiz2pWkui2OJo0WnmJUHkRttKNQTuv2fuuMVrrLq9EGyC5ysSSk09CQ', 'https://on.soundcloud.com/6H9hX']\n",
      "['https://on.soundcloud.com/uk5Nt?fbclid=IwAR3W7kEVtVmSRQ5Kr6d9TXG_G27toFIg0YwJTbRm6WlINhADmXqeDqRBp0g', 'https://on.soundcloud.com/uk5Nt', 'https://clyp.it/3ifalzki/widget', 'https://clyp.it/rmgl4yvl/widget']\n",
      "['https://on.soundcloud.com/Qk4LJ?fbclid=IwAR0sr6aPuRVbHSF9ST50bhon3wgvLqp_WbsfM6KDXOMytGTp2-IYtTJsDZU', 'https://on.soundcloud.com/Qk4LJ']\n",
      "['https://on.soundcloud.com/en5Ai?fbclid=IwAR3L8mUkb1M2a_p-UiU3HvsbuGt8jA6B0zEjZ92JgMkzn3wVxFkAnW3hWLQ', 'https://on.soundcloud.com/en5Ai', 'https://clyp.it/mwmxnabp', 'https://clyp.it/gddlpgrx']\n",
      "['https://on.soundcloud.com/Y8Mpa']\n"
     ]
    },
    {
     "name": "stderr",
     "output_type": "stream",
     "text": [
      "  7%|█████▌                                                                          | 159/2302 [00:08<02:08, 16.68it/s]"
     ]
    },
    {
     "name": "stdout",
     "output_type": "stream",
     "text": [
      "['https://on.soundcloud.com/XCsCD?fbclid=IwAR0rMEE9p0c91a4cq8iVE8p6EiKUB6rafHcBNvDNEjZkc74IlGudWR3R6m0', 'https://on.soundcloud.com/XCsCD']\n",
      "['https://on.soundcloud.com/B8Pw3?fbclid=IwAR3KU_V8sJRGLzFHky2XI-g91tg_2flgwDRFmla_NMonvT7inwcPsXRznhk', 'https://on.soundcloud.com/B8Pw3']\n",
      "['https://on.soundcloud.com/RNHtN']\n",
      "['https://on.soundcloud.com/9ScCk?fbclid=IwAR2lsXl8bFt-yykXBIowqqh86gZ7ZSr5KDP_XSffwrOAYb40OJ6x8Gtxnco', 'https://on.soundcloud.com/9ScCk', 'https://clyp.it/ysv5mlks']\n",
      "['https://on.soundcloud.com/8p2xm']\n",
      "['https://on.soundcloud.com/9b7du?fbclid=IwAR2eXbc9cWJw9_OpFm-xHQtmi95SxKjdGaFV5E7mYY3Xodolo9ZNbIyWym4', 'https://on.soundcloud.com/9b7du']\n"
     ]
    },
    {
     "name": "stderr",
     "output_type": "stream",
     "text": [
      "  7%|█████▋                                                                          | 165/2302 [00:08<01:47, 19.93it/s]"
     ]
    },
    {
     "name": "stdout",
     "output_type": "stream",
     "text": [
      "['https://on.soundcloud.com/QF6PP?fbclid=IwAR1yrDoL-nhCNtu6vyYhIfvO0LDp9JU-KZuOS6CLhrTH0CQrvIP96L0B6po', 'https://on.soundcloud.com/QF6PP']\n",
      "['https://on.soundcloud.com/CZ5ek', 'https://clyp.it/tzcxo0uf', 'https://clyp.it/2oe3wosn']\n",
      "['https://on.soundcloud.com/9DakF?fbclid=IwAR3vcziHNxRPw7NVI32QxjtIIHYE6uw8GobZyby4H2bI-ycGfFD2Ezso5fM', 'https://on.soundcloud.com/9DakF', 'https://soundcloud.com/listen2arabit/9mlwccehqj0f']\n",
      "['https://on.soundcloud.com/Cn5zh']\n",
      "['https://on.soundcloud.com/C1vpH']\n"
     ]
    },
    {
     "name": "stderr",
     "output_type": "stream",
     "text": [
      "  7%|█████▉                                                                          | 171/2302 [00:08<01:40, 21.17it/s]"
     ]
    },
    {
     "name": "stdout",
     "output_type": "stream",
     "text": [
      "['https://on.soundcloud.com/5QASg', 'https://clyp.it/ifnuz3gl/widget']\n",
      "['https://on.soundcloud.com/E8jyL?fbclid=IwAR3vCzZ486NqwlOEiJaoA0d281ymrNDf8mb6zuTE9_OJTyKOojO1IqkL6h0', 'https://on.soundcloud.com/E8jyL', 'https://clyp.it/wkna0431/widget']\n",
      "['https://on.soundcloud.com/cSdvo?fbclid=IwAR3yyNvvWSIMcmcxbIjqZKlpW5M0i0aB3CzCRE_8rJCf96SPCBQCcEz9w4s', 'https://on.soundcloud.com/cSdvo', 'https://clyp.it/okeoqrll']\n",
      "['https://on.soundcloud.com/yqS4t', 'https://w.soundcloud.com/player/?visual=false&amp', 'title=\"סרק by Arabit']\n",
      "['https://on.soundcloud.com/Fsufr?fbclid=IwAR2q3q6ZRav-BOw9KoBUoAbHDq7Oz3ZoLfhdAh01XZWHOwq69KwUIhC6iK8', 'https://on.soundcloud.com/Fsufr', 'https://clyp.it/4gmy0gzc/widget']\n",
      "['https://on.soundcloud.com/YeHwA?fbclid=IwAR3xza-RtZ1lrcAuDX0y9noaM61aN1Gi9mYD_hLlldnP8XWCtAys_KMt-A8', 'https://on.soundcloud.com/YeHwA']\n"
     ]
    },
    {
     "name": "stderr",
     "output_type": "stream",
     "text": [
      "  8%|██████▏                                                                         | 177/2302 [00:09<01:31, 23.17it/s]"
     ]
    },
    {
     "name": "stdout",
     "output_type": "stream",
     "text": [
      "['https://on.soundcloud.com/f2oBH']\n",
      "['https://on.soundcloud.com/d8yR6?fbclid=IwAR3kHNdHqowI5tnL9x1_PbNWVbXa9KBFDv3yLS_jItWPyBSN-vRes3uAMcY', 'https://on.soundcloud.com/d8yR6']\n",
      "['https://on.soundcloud.com/F3y1A', 'https://clyp.it/1b0gnpwb']\n",
      "['https://on.soundcloud.com/rfJ7z?fbclid=IwAR1FcKuy5z-hfmKGSrMwTguCp0RwhsPUPym6iOPV-B6cEIAaq9u5DVrptYc', 'https://on.soundcloud.com/rfJ7z', 'https://clyp.it/thi2lqxr/widget']\n",
      "['https://on.soundcloud.com/DbmDk?fbclid=IwAR1FHKVUfjHMumR0SX7-okBJPQRSqeh5ZaKAIZ7NB3UTtfwG7I-0Am83C78', 'https://on.soundcloud.com/DbmDk']\n"
     ]
    },
    {
     "name": "stderr",
     "output_type": "stream",
     "text": [
      "  8%|██████▎                                                                         | 183/2302 [00:09<01:25, 24.78it/s]"
     ]
    },
    {
     "name": "stdout",
     "output_type": "stream",
     "text": [
      "['https://on.soundcloud.com/a7cdu', 'https://on.soundcloud.com/7BQ91?fbclid=IwAR1D3wDF0A3ilPzMERlcJPwVf1FEezE1wnzZjPFaz3sL0XewoTvkdJvcv4g', 'https://on.soundcloud.com/7BQ91']\n",
      "['https://on.soundcloud.com/Jvc8G']\n",
      "['https://on.soundcloud.com/fmPXS']\n",
      "['https://on.soundcloud.com/wR1AZ?fbclid=IwAR1gH-__Ij4ffLlVU2M8kXub58dqTqzCrivTa7V73JB2avPqpxrFfxQbAGI', 'https://on.soundcloud.com/wR1AZ', 'https://soundcloud.com/listen2arabit/pmc2c4wd4zkq?fbclid=IwAR2Vv9yd20lq0vd74bbgmhckNdBgbUmvYYf0v1JlCKRo0mK5hn2Je2SsCbg', 'https://soundcloud.com/listen2arabit/pmc2c4wd4zkq']\n",
      "['https://on.soundcloud.com/d3Sy1', 'https://soundcloud.com/listen2arabit/c47gsfsmred0']\n",
      "['https://on.soundcloud.com/6G48s?fbclid=IwAR1dJMidQrByivRqAw7z1dnXQWlXfW-4tlFB6HzhtjDYFqmuMaXjTZWic_s', 'https://on.soundcloud.com/6G48s']\n"
     ]
    },
    {
     "name": "stderr",
     "output_type": "stream",
     "text": [
      "  8%|██████▌                                                                         | 189/2302 [00:09<01:23, 25.39it/s]"
     ]
    },
    {
     "name": "stdout",
     "output_type": "stream",
     "text": [
      "['https://on.soundcloud.com/9USkJ', 'https://clyp.it/uqbtz2yh']\n",
      "['https://on.soundcloud.com/FSWmf?fbclid=IwAR20UDoGYieBFKhk2NzloZB5NQ42uRt_9D7FKjYAnFAz3EYA0NVxXqe-BRA', 'https://on.soundcloud.com/FSWmf']\n",
      "['https://on.soundcloud.com/ig2kE']\n",
      "['https://on.soundcloud.com/oZgDB?fbclid=IwAR0lEip6zDMU_f9KI7fizqTO2SXEId0D396yCxFLKP-Z0PcR6tH2h2SXHWs', 'https://on.soundcloud.com/oZgDB']\n",
      "['https://on.soundcloud.com/3pRtA?fbclid=IwAR1jbje0ajrx8NR1XVB249QnyVtScVX_DfZbbVgnTTvs4k7PL5yEwa5SYns', 'https://on.soundcloud.com/3pRtA']\n",
      "['https://on.soundcloud.com/fFp8c']\n"
     ]
    },
    {
     "name": "stderr",
     "output_type": "stream",
     "text": [
      "  8%|██████▋                                                                         | 192/2302 [00:09<01:25, 24.75it/s]"
     ]
    },
    {
     "name": "stdout",
     "output_type": "stream",
     "text": [
      "['https://on.soundcloud.com/L7ZLN?fbclid=IwAR2f4eCvPKzyq3CTQNQR7aJU_K8-RBDEgMyVMn72yPcH41DpWKeIUBnQ4BM', 'https://on.soundcloud.com/L7ZLN', 'https://clyp.it/s3mvdwxd']\n",
      "['https://on.soundcloud.com/QAsvP?fbclid=IwAR1adW1_FzjEY235ImI4S3vydls00KNxAx9hkNcWWp3WikzX7T3OLprNGFc', 'https://on.soundcloud.com/QAsvP', 'https://clyp.it/0g5wfmvv']\n",
      "['https://on.soundcloud.com/gErPz']\n",
      "['https://on.soundcloud.com/PCDAN']\n",
      "['https://on.soundcloud.com/ME1Br']\n",
      "['https://on.soundcloud.com/BQmJB']\n"
     ]
    },
    {
     "name": "stderr",
     "output_type": "stream",
     "text": [
      "  9%|██████▉                                                                         | 198/2302 [00:09<01:24, 24.81it/s]"
     ]
    },
    {
     "name": "stdout",
     "output_type": "stream",
     "text": [
      "['https://on.soundcloud.com/EUpc7?fbclid=IwAR0m_bLcYpyZfIBlZynb3VPmlBtPJh8Oy58bYqUALwAUMiy4fCTEPsE2Ilo', 'https://on.soundcloud.com/EUpc7']\n",
      "['https://on.soundcloud.com/gAA2g?fbclid=IwAR2F8APag-ny8rKtpcmRyDHRONHcJ8L9Fs9aYLJdyKjryqxZ52UP84ly2Ws', 'https://on.soundcloud.com/gAA2g', 'https://clyp.it/n233xdh5', 'https://clyp.it/spk40njj']\n",
      "['https://on.soundcloud.com/UuqQr?fbclid=IwAR1aoqQ7zy79SGsfdvms2U2VXQt3zvDwg79SYzfLEbjUOIF8PQ2I8nEpYoY', 'https://on.soundcloud.com/UuqQr', 'https://soundcloud.com/listen2arabit/frm1elg3pvs9']\n",
      "['https://on.soundcloud.com/f47G8?fbclid=IwAR2nDvgLp4hRJ96MUNpkHrvdDI5mMiU-4Iepy5Ib-_PEKapwyIDsi_jaxAU', 'https://on.soundcloud.com/f47G8', 'https://w.soundcloud.com/player/?visual=false&amp', 'title=\"ג\\'ודה by Arabit']\n",
      "['https://on.soundcloud.com/EUpc7?fbclid=IwAR19EfPT04xkk8-aFHYFU96aBUnbBtNNwt-a6IeR73ogVL09dCiJaz8Cx10', 'https://on.soundcloud.com/EUpc7']\n",
      "['https://on.soundcloud.com/dGM7X']\n"
     ]
    },
    {
     "name": "stderr",
     "output_type": "stream",
     "text": [
      "  9%|███████▏                                                                        | 207/2302 [00:10<01:24, 24.80it/s]"
     ]
    },
    {
     "name": "stdout",
     "output_type": "stream",
     "text": [
      "['https://on.soundcloud.com/gHjqT', 'https://clyp.it/3kxf4l0x/widget']\n",
      "['https://on.soundcloud.com/hzss5', 'https://clyp.it/5k2gvycl']\n",
      "['https://on.soundcloud.com/Rabzn']\n",
      "['https://on.soundcloud.com/1XQTk?fbclid=IwAR3eOzgZesVqeNhyf01gxHNV9rFYt1aw9nolNjQ3FDiC5B4zGvFpHPB7hnE', 'https://on.soundcloud.com/1XQTk', 'https://clyp.it/hewdpvqn/widget']\n",
      "['https://on.soundcloud.com/KSUw4']\n",
      "['https://on.soundcloud.com/Rxnah?fbclid=IwAR1cRM4GGf0z06g7kGkC9W2pMvcZ9hI_V1lO3hpIL2NMh8YsxJaiSjFuPmA', 'https://on.soundcloud.com/Rxnah']\n"
     ]
    },
    {
     "name": "stderr",
     "output_type": "stream",
     "text": [
      "  9%|███████▎                                                                        | 210/2302 [00:10<01:27, 23.85it/s]"
     ]
    },
    {
     "name": "stdout",
     "output_type": "stream",
     "text": [
      "['https://on.soundcloud.com/xuruc', 'https://soundcloud.com/listen2arabit/jhdzesk5iexs', 'https://clyp.it/vd0n5p1b?fbclid=IwAR2m7l1hZ4vwmSv5WuvgfTTF_chfwL2G6E64VkBVRiN_gQsyW1SSaMGy_Ks', 'https://clyp.it/vd0n5p1b']\n",
      "['https://on.soundcloud.com/djoua?fbclid=IwAR3yACilEAQESKX_bwEvh6fPHZQ2YJXNmXEpm0ZJC_nZvla6ks-Ml6npu-Q', 'https://on.soundcloud.com/djoua', 'https://clyp.it/ztsb0o4s/widget']\n",
      "['https://on.soundcloud.com/7evsh?fbclid=IwAR0e8nBVNY9VFUllBlx8R67aBZG4XXJzC2c59NiEpCCq2FA54QLMTRx8WZE', 'https://on.soundcloud.com/7evsh']\n",
      "['https://on.soundcloud.com/pP8wG?fbclid=IwAR1Hs6ljkSfDH59Y0BeFG7Mw9BWg_Uy7nlEj_zQV_JGyzV7xtDnmsC1ypr8', 'https://on.soundcloud.com/pP8wG']\n",
      "['https://on.soundcloud.com/b5uSr']\n"
     ]
    },
    {
     "name": "stderr",
     "output_type": "stream",
     "text": [
      "  9%|███████▌                                                                        | 216/2302 [00:10<01:27, 23.80it/s]"
     ]
    },
    {
     "name": "stdout",
     "output_type": "stream",
     "text": [
      "['https://on.soundcloud.com/i4q5j', 'https://clyp.it/3rlq2zsl/widget']\n",
      "['https://on.soundcloud.com/XF7Tf', 'https://clyp.it/yx21bq01']\n",
      "['https://on.soundcloud.com/QdGbf']\n",
      "['https://on.soundcloud.com/RWZb8?fbclid=IwAR1yH4CivA-93dv4Al6TxBtGlg-Ebyzb7XX-yx4RU9fEwXVYIiQuz2nvPiQ', 'https://on.soundcloud.com/RWZb8', 'https://clyp.it/tc3zw1yp?fbclid=IwAR2ebyB053VMrLc4IQ5Oq6EWBN7K4BRfVqojsG1dGYtU9799vSpAKy07rwc', 'https://clyp.it/tc3zw1yp']\n",
      "['https://on.soundcloud.com/r6878', 'https://clyp.it/o25tgyi5/widget']\n"
     ]
    },
    {
     "name": "stderr",
     "output_type": "stream",
     "text": [
      " 10%|███████▌                                                                        | 219/2302 [00:10<01:28, 23.50it/s]"
     ]
    },
    {
     "name": "stdout",
     "output_type": "stream",
     "text": [
      "['https://on.soundcloud.com/dCMnT?fbclid=IwAR1GVw0syJWOJqEKcxPJD8Fs0DnqhB194afiWR21mhcVm333QQQ62EdcYEE', 'https://on.soundcloud.com/dCMnT', 'https://clyp.it/iav10n3x']\n",
      "['https://on.soundcloud.com/uYpAo', 'https://clyp.it/42eu3pq4']\n"
     ]
    },
    {
     "name": "stderr",
     "output_type": "stream",
     "text": [
      " 10%|███████▊                                                                        | 225/2302 [00:11<03:27, 10.00it/s]"
     ]
    },
    {
     "name": "stdout",
     "output_type": "stream",
     "text": [
      "['https://on.soundcloud.com/bYczT?fbclid=IwAR0KcR3y-gRX4PnKdmRYbG2GqEJY6upSeBTQPcduG4R6FUG4nivNmaxWdfU', 'https://on.soundcloud.com/bYczT']\n",
      "['https://on.soundcloud.com/mxxNc', 'https://soundcloud.com/listen2arabit/xdv1fz96fczo']\n",
      "['https://on.soundcloud.com/4eDmg']\n",
      "['https://on.soundcloud.com/5dwNm', 'https://w.soundcloud.com/player/?visual=false&amp', 'title=\"קתל by Arabit']\n",
      "['https://on.soundcloud.com/QhHyy', 'https://clyp.it/awbaluxz/widget']\n",
      "['https://on.soundcloud.com/JjbXv?fbclid=IwAR12CQuxRXP8U5_EwaVeGXdSz05w9nQ-BnNfqK_GwwJsn5JfDxFBhwesN1Y', 'https://on.soundcloud.com/JjbXv', 'https://clyp.it/wttucjft']\n"
     ]
    },
    {
     "name": "stderr",
     "output_type": "stream",
     "text": [
      " 10%|████████                                                                        | 231/2302 [00:12<02:22, 14.57it/s]"
     ]
    },
    {
     "name": "stdout",
     "output_type": "stream",
     "text": [
      "['https://on.soundcloud.com/s2osi?fbclid=IwAR1NsGgs7EtljjKJZVJ-AyZ1sOl7nWmBCpix5rJP3CnZDcEwlXMQlJDmZMw', 'https://on.soundcloud.com/s2osi', 'https://soundcloud.com/listen2arabit/pg7xzg29nwov?fbclid=IwAR3LN8GYZZZqRtqegpKpU9g-0cnx-AcLnGnWAsNQshHWeWKJYuMvaHwGOFM', 'https://soundcloud.com/listen2arabit/pg7xzg29nwov', 'https://clyp.it/gjgpoekr']\n",
      "['https://on.soundcloud.com/GQsoq?fbclid=IwAR21grm9DihemktO4eyU565G61HR4LnIvkqsai93mefz9UI68lukxBTaL3E', 'https://on.soundcloud.com/GQsoq']\n",
      "['https://on.soundcloud.com/QgiRQ?fbclid=IwAR02V_NMZoUyCmm7cEjU9ix5U1udqSjFzh63qFeVVTDKoAPgtcAUNoA2Jp0', 'https://on.soundcloud.com/QgiRQ', 'https://soundcloud.com/listen2arabit/5znwka11yn5x']\n",
      "['https://on.soundcloud.com/dJvjd', 'https://w.soundcloud.com/player/?visual=false&amp', 'title=\"אסמר by Arabit', 'https://clyp.it/haxwo1dm/widget']\n",
      "['https://on.soundcloud.com/MmMTB']\n",
      "['https://on.soundcloud.com/TrfNh']\n"
     ]
    },
    {
     "name": "stderr",
     "output_type": "stream",
     "text": [
      " 10%|████████▏                                                                       | 234/2302 [00:12<02:05, 16.53it/s]"
     ]
    },
    {
     "name": "stdout",
     "output_type": "stream",
     "text": [
      "['https://on.soundcloud.com/5eivL']\n",
      "['https://on.soundcloud.com/z2B1J']\n",
      "['https://on.soundcloud.com/kZSdo?fbclid=IwAR0JWw30LBSiMw7BzKqLsJUdVgkzrrejKxjZkZYDDpmXHWt6JPZUlMB1h5E', 'https://on.soundcloud.com/kZSdo', 'https://soundcloud.com/listen2arabit/qrlbb6fwp9hd']\n",
      "['https://on.soundcloud.com/ikdxv?fbclid=IwAR2wobcbVqe92lw4KDeWrz13KO3t14w65r2KroQ3OXVoIe86PloPsnCypqY', 'https://on.soundcloud.com/ikdxv', 'https://soundcloud.com/listen2arabit/gvrfb29ep2ly?fbclid=IwAR03iziQXtkpT_KmPNb9MGmgQy0KlJF_FxinoNIXsnf9osV9Ve5TV6SsrHA', 'https://soundcloud.com/listen2arabit/gvrfb29ep2ly', 'https://clyp.it/cidzex2l']\n",
      "['https://on.soundcloud.com/bMHJs?fbclid=IwAR2R9Cxa3ir1uJ--uYu4QBCUruBrLs-jAzQYAxOXK63gdGnKAeDzIYBf9VE', 'https://on.soundcloud.com/bMHJs']\n"
     ]
    },
    {
     "name": "stderr",
     "output_type": "stream",
     "text": [
      " 10%|████████▎                                                                       | 240/2302 [00:12<01:47, 19.16it/s]"
     ]
    },
    {
     "name": "stdout",
     "output_type": "stream",
     "text": [
      "['https://on.soundcloud.com/UGuRw']\n",
      "['https://on.soundcloud.com/auvdi?fbclid=IwAR06__bxe9aOcsdCYyvK74JD6IwZ6JBAIc1NA6MQojsspnIW3wGJUmBlxFk', 'https://on.soundcloud.com/auvdi', 'https://clyp.it/mqu3mlww']\n",
      "['https://on.soundcloud.com/4ph3C?fbclid=IwAR16cVxhi6NC7MZFCM-_YZAAeEttGMXJdruMJ8GgRtcAQhjurn6N-d-e1Yo', 'https://on.soundcloud.com/4ph3C']\n",
      "['https://on.soundcloud.com/49azN', 'https://clyp.it/qoqll1pt/widget']\n",
      "['https://on.soundcloud.com/upRuV?fbclid=IwAR23C8KzH_zIVASdN3QWpp2xOM0g33Jal6Cv3--Ds9E_9WI52TybPgWnjGg', 'https://on.soundcloud.com/upRuV', 'https://soundcloud.com/listen2arabit/rtmgxfwopkq6', 'https://clyp.it/lsqp3w4n']\n"
     ]
    },
    {
     "name": "stderr",
     "output_type": "stream",
     "text": [
      " 11%|████████▌                                                                       | 246/2302 [00:12<01:38, 20.97it/s]"
     ]
    },
    {
     "name": "stdout",
     "output_type": "stream",
     "text": [
      "['https://on.soundcloud.com/6PpJu?fbclid=IwAR1nRVQ7f_7HwdJSI7mHStuMWY612T-Y0Zn1A-H9BMmAr929V1UsyuoQoX4', 'https://on.soundcloud.com/6PpJu']\n",
      "['https://on.soundcloud.com/uYV4m', 'https://clyp.it/u2ln10ie']\n",
      "['https://on.soundcloud.com/g7cPm?fbclid=IwAR1iRzK-TksEv2wZxh8gq1M2KGxqSX89CoL_eGLKEB97SqL7vftUS8YpGJ0', 'https://on.soundcloud.com/g7cPm']\n",
      "['https://on.soundcloud.com/vMiK1', 'https://clyp.it/5wp2bnsw/widget', 'https://clyp.it/qnii4ipa/widget']\n",
      "['https://on.soundcloud.com/8kQe1', 'https://clyp.it/vjcng34r/widget']\n"
     ]
    },
    {
     "name": "stderr",
     "output_type": "stream",
     "text": [
      " 11%|████████▋                                                                       | 249/2302 [00:12<01:35, 21.56it/s]"
     ]
    },
    {
     "name": "stdout",
     "output_type": "stream",
     "text": [
      "['https://on.soundcloud.com/U9y89', 'https://w.soundcloud.com/player/?visual=false&amp', 'title=\"טאלב by Arabit']\n",
      "['https://on.soundcloud.com/TDqDv']\n",
      "['https://on.soundcloud.com/5kps6', 'https://clyp.it/juev2hgm/widget']\n",
      "['https://on.soundcloud.com/z16xq']\n",
      "['https://on.soundcloud.com/ke1D9']\n",
      "['https://on.soundcloud.com/KSpgW?fbclid=IwAR1QyPtNCQa1lzE9luF7WBpDKRMEPCWH1EgHYAoZIfaKK-lYwh9QW-wADc4', 'https://on.soundcloud.com/KSpgW']\n"
     ]
    },
    {
     "name": "stderr",
     "output_type": "stream",
     "text": [
      " 11%|████████▊                                                                       | 255/2302 [00:13<01:31, 22.29it/s]"
     ]
    },
    {
     "name": "stdout",
     "output_type": "stream",
     "text": [
      "['https://on.soundcloud.com/bePxG?fbclid=IwAR3PNsIH0orIPjHBhlD2zk6K-Z6taBoMR3cWH_sUMSzOtEfMMkPFVEAFl4Q', 'https://on.soundcloud.com/bePxG', 'https://clyp.it/muxwd5eb']\n",
      "['https://on.soundcloud.com/6v6Fn', 'https://soundcloud.com/listen2arabit/fqkjo96ctiy4']\n",
      "['https://on.soundcloud.com/9Y4gf', 'https://clyp.it/3i3xdqil/widget']\n",
      "['https://on.soundcloud.com/k2KHj?fbclid=IwAR0aZHeWQR9zB8n7qB-XhOvfqiC1YYHOtiG0Xm8TBb6el4P2Gim1ftqZ9bI', 'https://on.soundcloud.com/k2KHj', 'https://w.soundcloud.com/player/?visual=false&amp', 'title=\"אללה יכון באלעון by Arabit', 'https://clyp.it/xxlcja0l/widget']\n",
      "['https://on.soundcloud.com/XAqXW']\n"
     ]
    },
    {
     "name": "stderr",
     "output_type": "stream",
     "text": [
      " 11%|█████████                                                                       | 261/2302 [00:13<01:29, 22.93it/s]"
     ]
    },
    {
     "name": "stdout",
     "output_type": "stream",
     "text": [
      "['https://on.soundcloud.com/6JaTm?fbclid=IwAR15PYJZZ68X8Ecqz_8VwPHozJATdszQOYcsAY5bo3QfjYmkfBqKxOxdXwo', 'https://on.soundcloud.com/6JaTm']\n",
      "['https://on.soundcloud.com/3SfS6', 'https://clyp.it/o3hxxzgl']\n",
      "['https://on.soundcloud.com/FuDW8']\n",
      "['https://on.soundcloud.com/ioZxQ?fbclid=IwAR0SLw9tumLpfMkv53XXuVimQ_t6EWtTfwCpSGPxinMohPgLgvjOLRHrE0Y', 'https://on.soundcloud.com/ioZxQ', 'https://soundcloud.com/listen2arabit/w67sbhygknh0', 'https://clyp.it/2dhmwxcy?fbclid=IwAR3pKPCXgKTYtYHFph61eG7j28e2nvbKLgSde0YebiFb-CNcjsqODJWXIcg', 'https://clyp.it/2dhmwxcy']\n",
      "['https://on.soundcloud.com/zbfVc', 'https://soundcloud.com/listen2arabit/0jxkubpap0pf?fbclid=IwAR1lhkhRWPfLv_aIUyM_z8Nuc8e4JPrWqtgTXMTkocTE5fNE26eHMApA8sk', 'https://soundcloud.com/listen2arabit/0jxkubpap0pf', 'https://soundcloud.com/listen2arabit/gawy8tzvovuz?fbclid=IwAR0V_cp354kYpOhIY73A8soDorg8TxUUEyakDt1tiWPo8G8dxjbCStD9gYo', 'https://soundcloud.com/listen2arabit/gawy8tzvovuz']\n"
     ]
    },
    {
     "name": "stderr",
     "output_type": "stream",
     "text": [
      " 12%|█████████▎                                                                      | 267/2302 [00:13<01:28, 23.03it/s]"
     ]
    },
    {
     "name": "stdout",
     "output_type": "stream",
     "text": [
      "['https://on.soundcloud.com/Ktxg1', 'https://soundcloud.com/listen2arabit/gj436i65yqqw']\n",
      "['https://on.soundcloud.com/bUVS7?fbclid=IwAR2XyS6JVN867dA_-7FRBwOVG9OdQk9qtD0TqOoLDD_RpT2FqZ3XE1hYsco', 'https://on.soundcloud.com/bUVS7']\n",
      "['https://on.soundcloud.com/Ma1uE?fbclid=IwAR3UPX8yDw8wmSvRoERc4VemBA5w_nlO8X4fzEzseptxebKyZssgdMnsdrI', 'https://on.soundcloud.com/Ma1uE']\n",
      "['https://on.soundcloud.com/JuZjb?fbclid=IwAR211CBID3ifET_dbdtOPTYg5XrWuQabeFgQxIkfjprP9xTVv2nodzA2UTw', 'https://on.soundcloud.com/JuZjb']\n",
      "['https://on.soundcloud.com/kDz56']\n"
     ]
    },
    {
     "name": "stderr",
     "output_type": "stream",
     "text": [
      " 12%|█████████▍                                                                      | 273/2302 [00:13<01:24, 23.90it/s]"
     ]
    },
    {
     "name": "stdout",
     "output_type": "stream",
     "text": [
      "['https://on.soundcloud.com/wnXkf?fbclid=IwAR0Jo-FQpNVCCNYYqJUQTOB2g_TWgekxl8f2rHpIGNFyMoQLWG0OLFwSE48', 'https://on.soundcloud.com/wnXkf', 'https://w.soundcloud.com/player/?visual=false&amp', 'title=\"טבח\\' by Arabit', 'https://clyp.it/q1fittoq/widget']\n",
      "['https://on.soundcloud.com/kDysh?fbclid=IwAR1QMo0eaBvA1NiXzJV5hEAdv7aJsvnULHoNOgDyoNJzzG0-h_1nVMnwTTQ', 'https://on.soundcloud.com/kDysh']\n",
      "['https://on.soundcloud.com/oAu5V']\n",
      "['https://on.soundcloud.com/rdEi8']\n",
      "['https://on.soundcloud.com/BhZbC', 'https://w.soundcloud.com/player/?visual=false&amp', 'title=\"תלה by Arabit']\n",
      "['https://on.soundcloud.com/NpQjt', 'https://clyp.it/x2hndrn5/widget', 'https://clyp.it/wgyvclfz']\n"
     ]
    },
    {
     "name": "stderr",
     "output_type": "stream",
     "text": [
      " 12%|█████████▌                                                                      | 276/2302 [00:13<01:25, 23.82it/s]"
     ]
    },
    {
     "name": "stdout",
     "output_type": "stream",
     "text": [
      "['https://w.soundcloud.com/player/?visual=false&amp', 'title=\"כסתנה by Arabit']\n",
      "['https://on.soundcloud.com/63zEF', 'https://clyp.it/k5aga5gt/widget']\n",
      "['https://on.soundcloud.com/j3XZH?fbclid=IwAR3g5AfMFRprUO3uA2zsBsrBlBfmkX58qF6MmU_7wuSbnFE1HG50XTTSwro', 'https://on.soundcloud.com/j3XZH', 'https://clyp.it/bjax2j4y/widget']\n",
      "['https://on.soundcloud.com/iNurk']\n",
      "['https://on.soundcloud.com/VdY9i?fbclid=IwAR1t8RzAfD5JnQoE19GJDsPYP38ustNYP2NKwvuKAE3pix1bMQ_qDEnWuWs', 'https://on.soundcloud.com/VdY9i']\n"
     ]
    },
    {
     "name": "stderr",
     "output_type": "stream",
     "text": [
      " 12%|█████████▊                                                                      | 282/2302 [00:14<01:30, 22.25it/s]"
     ]
    },
    {
     "name": "stdout",
     "output_type": "stream",
     "text": [
      "['https://on.soundcloud.com/igoud?fbclid=IwAR3HKRydKVdfnvR5wP-lfDKSE9WjiCEQQWqfVT-4q38HvOUDdgfHzbIcxXQ', 'https://on.soundcloud.com/igoud', 'https://clyp.it/vu1jcll0/widget', 'https://clyp.it/4djxmmcs/widget']\n",
      "['https://on.soundcloud.com/rNy3F?fbclid=IwAR1QRQQ43NNlYVAiR8CQqR9JP9Wh1uqcXgdDuMtmMzC-XNpgbo9mOLIpbdk', 'https://on.soundcloud.com/rNy3F', 'https://soundcloud.com/listen2arabit/hfrddzviwomw?fbclid=IwAR0AtKLF2flU76KGVf5hEyDtq8-et_iJCN7-W88Z3n64ZqOcmwPUNVnwobg', 'https://soundcloud.com/listen2arabit/hfrddzviwomw', 'https://clyp.it/xajdlg4g']\n",
      "['https://on.soundcloud.com/z2VqL?fbclid=IwAR1Bp4pkTINmctuAwyzaU4cPRFZps8SWRZQBa8iIGE2wmjIVECDZpl8paEk', 'https://on.soundcloud.com/z2VqL']\n",
      "['https://on.soundcloud.com/S3nNQ?fbclid=IwAR1xDXYvKtmMWYVEvkSgDZLeA9ev4f5taMBtBZ23WumZAc_NJpQOLwXPc3k', 'https://on.soundcloud.com/S3nNQ', 'https://clyp.it/czz1eplb']\n",
      "['https://on.soundcloud.com/ZQ7Xw', 'https://clyp.it/b0loobmh?fbclid=IwAR3i9flJB6z5GyBfJkNTtcqTTIuvzH14CjZTFSLwkMVXHcuv4COCwP2vCBA', 'https://clyp.it/b0loobmh']\n"
     ]
    },
    {
     "name": "stderr",
     "output_type": "stream",
     "text": [
      " 13%|██████████                                                                      | 288/2302 [00:14<01:23, 24.23it/s]"
     ]
    },
    {
     "name": "stdout",
     "output_type": "stream",
     "text": [
      "['https://on.soundcloud.com/Cwdxi', 'https://soundcloud.com/listen2arabit/hd1parnxikq2', 'https://clyp.it/b20orbac']\n",
      "['https://on.soundcloud.com/5XuGL']\n",
      "['https://on.soundcloud.com/oS4st?fbclid=IwAR3p_93HgWdinTcTlhL8JyJB1dQdfYcccrkOUfisqsrv_WuDSG0L0FnMKn4', 'https://on.soundcloud.com/oS4st', 'https://soundcloud.com/listen2arabit/t39mj3raafua']\n",
      "['https://on.soundcloud.com/Uzdzv?fbclid=IwAR3untAEJRrHgID5rNPFkWwdkf6R0rUHsbSZLSen7YJ-A55YkG5Mz3mWvEE', 'https://on.soundcloud.com/Uzdzv', 'https://clyp.it/mdxggcjy?fbclid=IwAR1acs2T64u1kvGMmaBh6eAqcLceikt0lCkHbX7L83Uo7kl_Y177uxxsSgI', 'https://clyp.it/mdxggcjy']\n",
      "['https://on.soundcloud.com/dNoHj?fbclid=IwAR0dd0M1F7loqktHSXtcz_6RmOvd7zPNXDVkxkDh85wWM3OuaYCuc2TVkbk', 'https://on.soundcloud.com/dNoHj']\n",
      "['https://on.soundcloud.com/HRrk8?fbclid=IwAR3ln6EVWaGxd1cboMiGopd04a43tmFRvz46S7B2irobOPKf5rrZhohzvdg', 'https://on.soundcloud.com/HRrk8', 'https://clyp.it/c14gxel3/widget']\n"
     ]
    },
    {
     "name": "stderr",
     "output_type": "stream",
     "text": [
      " 13%|██████████▏                                                                     | 294/2302 [00:14<01:18, 25.60it/s]"
     ]
    },
    {
     "name": "stdout",
     "output_type": "stream",
     "text": [
      "['https://on.soundcloud.com/UwkX3']\n",
      "['https://on.soundcloud.com/8gcJc?fbclid=IwAR0cFjRb54SB7rqUujpYI6_lYD4JewaOoU1mSWD9LXOosBfQWlJKpJWWeTI', 'https://on.soundcloud.com/8gcJc']\n",
      "['https://on.soundcloud.com/uPR77?fbclid=IwAR2tD6zkWeU3-Wqj_4WdjvwMASYEeg4QJgy9Y-47xLKMLFvBm_WfNhmnRJE', 'https://on.soundcloud.com/uPR77']\n",
      "['https://on.soundcloud.com/XQSDc']\n",
      "['https://on.soundcloud.com/Us1KA']\n",
      "['https://on.soundcloud.com/5XFFv']\n"
     ]
    },
    {
     "name": "stderr",
     "output_type": "stream",
     "text": [
      " 13%|██████████▍                                                                     | 300/2302 [00:15<03:23,  9.84it/s]"
     ]
    },
    {
     "name": "stdout",
     "output_type": "stream",
     "text": [
      "['https://on.soundcloud.com/gRZAs?fbclid=IwAR0KtsZ9Yhg_RzHf484HEXdRdkeXtMqvnPo1jXz9dSf8JeDmetRievSBAPQ', 'https://on.soundcloud.com/gRZAs', 'https://w.soundcloud.com/player/?visual=false&amp', 'title=\"תרדד by Arabit']\n",
      "['https://on.soundcloud.com/RQXqP?fbclid=IwAR0LU3FQEro3OPY8kXZ31dc_HtMjiAtkwGxFmNFxtNmlJpdf_moJ1hKxJvk', 'https://on.soundcloud.com/RQXqP']\n",
      "['https://on.soundcloud.com/jzBxj', 'https://clyp.it/vkmnpxzh', 'https://clyp.it/2enjssap']\n",
      "['https://on.soundcloud.com/eBKdJ?fbclid=IwAR3eMR8aRoywGT1oQvek_oAIqbiw2xjctvkZOV3yZHr0mSqUYHOz4tdy-mA', 'https://on.soundcloud.com/eBKdJ']\n",
      "['https://on.soundcloud.com/9exVw', 'https://clyp.it/x22tgdia']\n",
      "['https://on.soundcloud.com/Ce5iT?fbclid=IwAR2sKZkFM1NgbsXUUqwxXKMvUT8e6hOWyqQtTjsG9YUtGTkyDQkkld2pp9w', 'https://on.soundcloud.com/Ce5iT', 'https://clyp.it/amziz5r4']\n"
     ]
    },
    {
     "name": "stderr",
     "output_type": "stream",
     "text": [
      " 13%|██████████▋                                                                     | 306/2302 [00:16<02:20, 14.16it/s]"
     ]
    },
    {
     "name": "stdout",
     "output_type": "stream",
     "text": [
      "['https://on.soundcloud.com/DQLJN?fbclid=IwAR0qYQd8TtJjA7q2jp22CGnu948LAP19WNyUkOkafk1tSJWThc224QqREEE', 'https://on.soundcloud.com/DQLJN']\n",
      "['https://on.soundcloud.com/AbJsU?fbclid=IwAR3ge1IYH3AcIYd3MV2nqR0gpyge8M37-wVdNJIqTP4k8XByLqvdTOiX0UA', 'https://on.soundcloud.com/AbJsU', 'https://soundcloud.com/listen2arabit/nwzg8xxmwapq', 'https://clyp.it/pk3nnxle']\n",
      "['https://on.soundcloud.com/5F2oh?fbclid=IwAR35DFVd9kUXfZ2N4OnLiqJgNfeATijhxQG7j4MXH0e2W5NOC7OOHGzo2sA', 'https://on.soundcloud.com/5F2oh', 'https://clyp.it/izjzwaok']\n",
      "['https://on.soundcloud.com/LfBDB?fbclid=IwAR06lwEd2WmGKuGxch43EVZNobh7hRZ-0fysNGEpyzZ-fEae0mH9qOAq1wA', 'https://on.soundcloud.com/LfBDB', 'https://clyp.it/txfys5zu']\n",
      "['https://on.soundcloud.com/cY1ai?fbclid=IwAR2asE1h57XX5cdBraD896QCS6q68E1SzcSQVOyize4byfJZHNoRhkERiss', 'https://on.soundcloud.com/cY1ai']\n",
      "['https://on.soundcloud.com/XEzwB?fbclid=IwAR3lx1amMG9GzxP3n_2Nwlr_ngQHllIGM6k1CwfGYryQYXTAEDavl2mhzlk', 'https://on.soundcloud.com/XEzwB']\n"
     ]
    },
    {
     "name": "stderr",
     "output_type": "stream",
     "text": [
      " 14%|██████████▊                                                                     | 312/2302 [00:16<01:46, 18.68it/s]"
     ]
    },
    {
     "name": "stdout",
     "output_type": "stream",
     "text": [
      "['https://on.soundcloud.com/cz6TX?fbclid=IwAR12jmmO7rwo8XPg2tVUh7Ijnh4WiuNObwCRmXq6K9XA6nCSBC-8zcjDDcg', 'https://on.soundcloud.com/cz6TX']\n",
      "['https://on.soundcloud.com/iYYzs?fbclid=IwAR0W3ArpCjApO33T6lGZj8KYFzl75s_cYJr4VsNX26zulBlc7ij4Z8V1UNU', 'https://on.soundcloud.com/iYYzs', 'https://w.soundcloud.com/player/?visual=false&amp', 'title=\"ואג\\'ב by Arabit']\n",
      "['https://on.soundcloud.com/WPnhL?fbclid=IwAR0pHO7Fxcma4NSedUBBuqW7XV_4fnDcd-eHi07GPmtlCmxZNoYa8VOn7kw', 'https://on.soundcloud.com/WPnhL', 'https://clyp.it/p1qsgm1h/widget', 'https://clyp.it/5spjv1ie/widget']\n",
      "['https://on.soundcloud.com/Q7QfX', 'https://clyp.it/2cx5vf15']\n",
      "['https://on.soundcloud.com/Ss6X2?fbclid=IwAR15IGlSqmGlFtth3doPcIDj7Viilb4elDlkAbi7l1REEIHdnjWYapLFZKU', 'https://on.soundcloud.com/Ss6X2']\n",
      "['https://on.soundcloud.com/V91HF', 'https://w.soundcloud.com/player/?visual=false&amp', 'title=\"חמיה by Arabit', 'https://clyp.it/oxfhc0y5/widget']\n"
     ]
    },
    {
     "name": "stderr",
     "output_type": "stream",
     "text": [
      " 14%|███████████                                                                     | 318/2302 [00:16<01:34, 20.94it/s]"
     ]
    },
    {
     "name": "stdout",
     "output_type": "stream",
     "text": [
      "['https://on.soundcloud.com/xncyW']\n",
      "['https://on.soundcloud.com/UMAow']\n",
      "['https://on.soundcloud.com/9qZT9']\n",
      "['https://on.soundcloud.com/eHg7w', 'https://soundcloud.com/listen2arabit/qsdmsw22hqxm?fbclid=IwAR2Guyc6xj6abNvGatWWuJ_y7M85F_aDLR-i2Yl9IQZ023sSAXhsyLD2SyA', 'https://soundcloud.com/listen2arabit/qsdmsw22hqxm', 'https://clyp.it/1f24jwnp']\n",
      "['https://on.soundcloud.com/eaJ3Q', 'https://clyp.it/sql03hrj', 'https://clyp.it/dvzpgnta']\n",
      "['https://on.soundcloud.com/xt8Bn?fbclid=IwAR2dKNTKPtpOUy3J64fi0goGoOSI8ueEMF64GZrQmhRZiB3k7iNSzXSdhPs', 'https://on.soundcloud.com/xt8Bn']\n"
     ]
    },
    {
     "name": "stderr",
     "output_type": "stream",
     "text": [
      " 14%|███████████▎                                                                    | 324/2302 [00:16<01:26, 22.79it/s]"
     ]
    },
    {
     "name": "stdout",
     "output_type": "stream",
     "text": [
      "['https://on.soundcloud.com/EzsQH']\n",
      "['https://on.soundcloud.com/fVULo']\n",
      "['https://on.soundcloud.com/jx4xg', 'https://clyp.it/kv1hytdn']\n",
      "['https://on.soundcloud.com/xJya9?fbclid=IwAR2mtMRmPVmkFi24MgoKugWvZJIGW-OlgLtQMmg-qMLTkUtG9vew-oKBxn4', 'https://on.soundcloud.com/xJya9', 'https://clyp.it/nstddijx/widget']\n",
      "['https://on.soundcloud.com/k1e2v?fbclid=IwAR2pv5ttOMCC2Okv6ME9a2hSlda_-oQcIy7Tyb-wmcpUSac3ob3BGA_1tkg', 'https://on.soundcloud.com/k1e2v', 'https://soundcloud.com/listen2arabit/tssqeggcnojw']\n",
      "['https://on.soundcloud.com/gjb4R?fbclid=IwAR1CLHieiuPfYCAT_OONH9WAmj4h4PBeYijgXlUc3ludGbntea5sjUdVFA8', 'https://on.soundcloud.com/gjb4R', 'https://soundcloud.com/listen2arabit/zfhgjjkrasat?fbclid=IwAR0PdmLg73HSnBelf-Cx-mCeNKDTscNFt7LQZnHEzfwPCQ_OXNkw_vpG7e0', 'https://soundcloud.com/listen2arabit/zfhgjjkrasat']\n"
     ]
    },
    {
     "name": "stderr",
     "output_type": "stream",
     "text": [
      " 14%|███████████▍                                                                    | 330/2302 [00:17<01:22, 23.91it/s]"
     ]
    },
    {
     "name": "stdout",
     "output_type": "stream",
     "text": [
      "['https://clyp.it/5opecyf5/widget']\n",
      "['https://on.soundcloud.com/djRk2']\n",
      "['https://on.soundcloud.com/gR8TP?fbclid=IwAR2F3abOpU0KByAznK2QKOd3kH3PGzDhUkbIJy-eu3GVDBjDnsZIM4Pshzw', 'https://on.soundcloud.com/gR8TP']\n",
      "['https://on.soundcloud.com/gAMJv']\n",
      "['https://on.soundcloud.com/nAq4b']\n",
      "['https://on.soundcloud.com/Lnq4j?fbclid=IwAR1SqX_Tu0ZaHX7_aSFpc_6qhuF1KuPgddVcdfvP2Qmswivvw2FZcpwA5-0', 'https://on.soundcloud.com/Lnq4j', 'https://clyp.it/5obumrzp/widget']\n"
     ]
    },
    {
     "name": "stderr",
     "output_type": "stream",
     "text": [
      " 15%|███████████▋                                                                    | 336/2302 [00:17<01:21, 24.21it/s]"
     ]
    },
    {
     "name": "stdout",
     "output_type": "stream",
     "text": [
      "['https://on.soundcloud.com/95GsS']\n",
      "['https://on.soundcloud.com/eV7ph?fbclid=IwAR2BXfpp7YR_XW66nP7sxVoqNVWaXFZq9Dg9B1qsuYbxFLFERwytv-MdZf4', 'https://on.soundcloud.com/eV7ph', 'https://clyp.it/s3mvdwxd']\n",
      "['https://on.soundcloud.com/zoqmE?fbclid=IwAR2n7JiWz2boZ3WhR1nwykuqeZAwwPD2MV7PucKPXwn0ZAGQTMMdzXYyq7g', 'https://on.soundcloud.com/zoqmE']\n",
      "['https://on.soundcloud.com/BxzZE?fbclid=IwAR27hVBeOr1a2KE2BNnnUPghU7tZv1dtpyMkWVMJRW_PGiRuzj6nVoYYnjY', 'https://on.soundcloud.com/BxzZE']\n",
      "['https://on.soundcloud.com/9ppRq?fbclid=IwAR0QttQlJbV-CVcTeoDOGVgREn4H5M8u450cs3p0l1Y3D3N-FvjHteucvk8', 'https://on.soundcloud.com/9ppRq', 'https://clyp.it/ma4a4qgm/widget']\n",
      "['https://on.soundcloud.com/LnnYM?fbclid=IwAR06SH3hP8mKThtYWSRmw1hhitLzzLUodbRf0e3OSDTs5iogVP1rfGLEGdA', 'https://on.soundcloud.com/LnnYM']\n"
     ]
    },
    {
     "name": "stderr",
     "output_type": "stream",
     "text": [
      " 15%|███████████▉                                                                    | 342/2302 [00:17<01:18, 24.92it/s]"
     ]
    },
    {
     "name": "stdout",
     "output_type": "stream",
     "text": [
      "['https://soundcloud.com/listen2arabit/wjqybvhlbnkg?fbclid=IwAR09gSfjlTHRAqxt6-2Syq_c6Pfmo9p2OgqqG_F-d3pBGNNVeK4hVc2WaUs', 'https://soundcloud.com/listen2arabit/wjqybvhlbnkg', 'https://soundcloud.com/listen2arabit/di9iqxsfuxtj']\n",
      "['https://soundcloud.com/listen2arabit/vwb99o9ozd8k?fbclid=IwAR1z7OmEJfNbE0eV-kfCrRrDfg63zCz1nZE6ddxFgxuimtVrtIW-8PdUijY', 'https://soundcloud.com/listen2arabit/vwb99o9ozd8k']\n",
      "['https://soundcloud.com/listen2arabit/yftjyhpozmmx?fbclid=IwAR0YIP5GlkwhNHQzexv2Zd1Ro5JpN2D-WLkxY5-72jgVAAXlhTRzfwx572Q', 'https://soundcloud.com/listen2arabit/yftjyhpozmmx']\n",
      "['https://soundcloud.com/listen2arabit/hgkjhrtu7di8?fbclid=IwAR0GdOYsiBFYjkW8uzETbsFCuLsTNLMkh79b0__s4KxFF0wgcF2YOpsG5lY', 'https://soundcloud.com/listen2arabit/hgkjhrtu7di8', 'https://soundcloud.com/listen2arabit/uykubzfxgcff?fbclid=IwAR0l44xeqyJuQhBrlqRXdBcxbYxtDnNlnqfxzI60sOARErDQW8hespXb01I', 'https://soundcloud.com/listen2arabit/uykubzfxgcff']\n",
      "['https://soundcloud.com/listen2arabit/ivogve0r42n2?fbclid=IwAR2Bhn7T9RKu1Z2G7Eu-wMcLJbqMkXsoXOFwfTM1He3YTgDpJIEG74XKylk', 'https://soundcloud.com/listen2arabit/ivogve0r42n2']\n",
      "['https://w.soundcloud.com/player/?visual=false&amp', 'title=\"חבק by Arabit']\n"
     ]
    },
    {
     "name": "stderr",
     "output_type": "stream",
     "text": [
      " 15%|████████████                                                                    | 348/2302 [00:17<01:17, 25.14it/s]"
     ]
    },
    {
     "name": "stdout",
     "output_type": "stream",
     "text": [
      "['https://soundcloud.com/listen2arabit/dx9jzenbi0zh?fbclid=IwAR38gaX5B-B70zG1Q9RV6U0EnHcZrMINNVndj28H1XsHB4rTK8efg5J599U', 'https://soundcloud.com/listen2arabit/dx9jzenbi0zh']\n",
      "['https://w.soundcloud.com/player/?visual=false&amp', 'title=\"סאאל by Arabit', 'https://w.soundcloud.com/player/?visual=false&amp', 'title=\"מסאול by Arabit']\n",
      "['https://soundcloud.com/listen2arabit/9tcyeh3rihyy?fbclid=IwAR30MHc_9cjzjgADySkFKxmn-L8MNHNFuAFqXJOOUBr3UuyMLScb1QFRAT4', 'https://soundcloud.com/listen2arabit/9tcyeh3rihyy']\n",
      "['https://w.soundcloud.com/player/?visual=false&amp', 'title=\"הלכאן by Arabit', 'https://clyp.it/katqkxj1/widget']\n",
      "['https://soundcloud.com/listen2arabit/wyr3xf2kutia', 'https://clyp.it/zn1eeopk/widget']\n",
      "['https://soundcloud.com/listen2arabit/kew72wqvzczx?fbclid=IwAR0eX4de6SnntqVwV6yj_iazoTQfLUEY7MZz4aOapxxcnHOnJ1cIsbGj1JA', 'https://soundcloud.com/listen2arabit/kew72wqvzczx']\n"
     ]
    },
    {
     "name": "stderr",
     "output_type": "stream",
     "text": [
      " 15%|████████████▎                                                                   | 354/2302 [00:17<01:17, 25.27it/s]"
     ]
    },
    {
     "name": "stdout",
     "output_type": "stream",
     "text": [
      "['https://w.soundcloud.com/player/?visual=false&amp', 'title=\"ממאטלה by Arabit']\n",
      "['https://w.soundcloud.com/player/?visual=false&amp', 'title=\"ג\\'חים by Arabit']\n",
      "['https://on.soundcloud.com/EEdrP?fbclid=IwAR0SJ4-KKiDAgIR9FWGQyelr_c53hzX_1DS32UP6G3Nbz-kpBzRz-v9tXoU', 'https://on.soundcloud.com/EEdrP']\n",
      "['https://on.soundcloud.com/1t6Dk']\n",
      "['https://on.soundcloud.com/Wsx8e?fbclid=IwAR0CSuoOtK0i5fABU9ECQSgl3S3-17DdAzas0oom5xOp0632kNaTFHkbBb8', 'https://on.soundcloud.com/Wsx8e', 'https://clyp.it/v45mdqov/widget']\n",
      "['https://on.soundcloud.com/RoC6J?fbclid=IwAR3XpLQc8s5OhtlFjSw1C1wpaRxsfU0JcZg0enrVi8fkumzxxklCBAuOOfI', 'https://on.soundcloud.com/RoC6J', 'https://clyp.it/habgo1ny/widget']\n"
     ]
    },
    {
     "name": "stderr",
     "output_type": "stream",
     "text": [
      " 16%|████████████▌                                                                   | 360/2302 [00:18<01:15, 25.61it/s]"
     ]
    },
    {
     "name": "stdout",
     "output_type": "stream",
     "text": [
      "['https://on.soundcloud.com/YmEM8']\n",
      "['https://w.soundcloud.com/player/?visual=false&amp', 'title=\"בד by Arabit']\n",
      "['https://on.soundcloud.com/CeSZJ']\n",
      "['https://on.soundcloud.com/wmxN4?fbclid=IwAR0QXcIubUwTA3_extwbCOneWWBayx9xW-dTuf1xOv2c9oew6NbpCYrpsGM', 'https://on.soundcloud.com/wmxN4']\n",
      "['https://on.soundcloud.com/cPywK?fbclid=IwAR1l9P6Pk2-XsXvTZsmPePEdE7NxQwxny7e20NGndSZgJyRRSjf8CAnT9PI', 'https://on.soundcloud.com/cPywK', 'https://w.soundcloud.com/player/?visual=false&amp', 'title=\"פכ by Arabit', 'https://clyp.it/3ojoooxo/widget']\n",
      "['https://on.soundcloud.com/VAExh?fbclid=IwAR31ebtTfoBoFZDit7E8-CU83BEtlW-DAQ-zPtR7JwnhRgfZfQyqMYhEr0w', 'https://on.soundcloud.com/VAExh']\n"
     ]
    },
    {
     "name": "stderr",
     "output_type": "stream",
     "text": [
      " 16%|████████████▋                                                                   | 366/2302 [00:18<01:15, 25.67it/s]"
     ]
    },
    {
     "name": "stdout",
     "output_type": "stream",
     "text": [
      "['https://on.soundcloud.com/Lo5Cw', 'https://clyp.it/irtarjw1/widget']\n",
      "['https://on.soundcloud.com/nkgh7?fbclid=IwAR3-mi3Q5hs0d2ZAr398Fr85DJOC5mAJj1_deUHRYp1jY6PYdbtGOGO4RhU', 'https://on.soundcloud.com/nkgh7']\n",
      "['https://on.soundcloud.com/HBokd', 'https://clyp.it/ehzwodvx/widget']\n",
      "['https://on.soundcloud.com/rGWKP?fbclid=IwAR2wDW0ZXHazbMwu3pkwvuj9jCWGt4gGQxzf0fJrUF8-FnTDIsSl9EvjV3Y', 'https://on.soundcloud.com/rGWKP']\n",
      "['https://w.soundcloud.com/player/?visual=false&amp', 'title=\"חרת\\' by Arabit']\n",
      "['https://w.soundcloud.com/player/?visual=false&amp', 'title=\"פדיה by Arabit', 'https://clyp.it/gylb01gr/widget']\n"
     ]
    },
    {
     "name": "stderr",
     "output_type": "stream",
     "text": [
      " 16%|████████████▉                                                                   | 372/2302 [00:18<01:19, 24.20it/s]"
     ]
    },
    {
     "name": "stdout",
     "output_type": "stream",
     "text": [
      "['https://w.soundcloud.com/player/?visual=false&amp', 'title=\"מוג\\'ה by Arabit']\n",
      "['https://w.soundcloud.com/player/?visual=false&amp', 'title=\"דיות\\' by Arabit']\n",
      "['https://w.soundcloud.com/player/?visual=false&amp', 'title=\"מנשאן אללה by Arabit']\n",
      "['https://w.soundcloud.com/player/?visual=false&amp', 'title=\"אכתסח by Arabit', 'https://w.soundcloud.com/player/?visual=false&amp', 'title=\"כסח by Arabit']\n",
      "['https://w.soundcloud.com/player/?visual=false&amp', 'title=\"חלם by Arabit', 'https://clyp.it/ph3q05dt/widget']\n",
      "['https://on.soundcloud.com/bHxPz?fbclid=IwAR11ECd74ZAVmuwUm1hQrVUi5-g61S_7yqDDRRulTMwO8XPLwhPY7z2FxB8', 'https://on.soundcloud.com/bHxPz']\n"
     ]
    },
    {
     "name": "stderr",
     "output_type": "stream",
     "text": [
      " 16%|█████████████▏                                                                  | 378/2302 [00:19<03:19,  9.65it/s]"
     ]
    },
    {
     "name": "stdout",
     "output_type": "stream",
     "text": [
      "['https://on.soundcloud.com/WZJps?fbclid=IwAR1lrWQl6yovghSUtU0SmLabY_05htKkwx9nXv0v34-nkCa7Nk9kEozPvdg', 'https://on.soundcloud.com/WZJps', 'https://clyp.it/m43kmt1j/widget']\n",
      "['https://on.soundcloud.com/9JB4E?fbclid=IwAR27dSwLGcLua30rjAGPpzp7BF5sNwUsQo3AZV_xI3V3FHL0zpjTZ4wzDVE', 'https://on.soundcloud.com/9JB4E', 'https://clyp.it/yzsxkoto/widget']\n",
      "['https://on.soundcloud.com/4kSaS?fbclid=IwAR2-qONm1GBhhZGqvmswr_VKC0qg27XYJDmqlcFB1WhIV7Tkdagl8qMyZmg', 'https://on.soundcloud.com/4kSaS', 'https://clyp.it/exotorhf/widget']\n",
      "['https://on.soundcloud.com/8P9L8']\n",
      "['https://on.soundcloud.com/JFsuf?fbclid=IwAR2H82I8FtdGwMz7M3fsTkIoKTw9-Jw9NWRP2cRxWaI1mEZBuu81Ogi8Jn4', 'https://on.soundcloud.com/JFsuf', 'https://clyp.it/umnkgqw4/widget']\n",
      "['https://on.soundcloud.com/acR77']\n"
     ]
    },
    {
     "name": "stderr",
     "output_type": "stream",
     "text": [
      " 17%|█████████████▎                                                                  | 384/2302 [00:20<02:17, 13.94it/s]"
     ]
    },
    {
     "name": "stdout",
     "output_type": "stream",
     "text": [
      "['https://w.soundcloud.com/player/?visual=false&amp', 'title=\"חאשיה by Arabit', 'https://clyp.it/siv5a3t4/widget']\n",
      "['https://w.soundcloud.com/player/?visual=false&amp', 'title=\"כאס אלעאלם by Arabit']\n",
      "['https://w.soundcloud.com/player/?visual=false&amp', 'title=\"אשאעה by Arabit']\n",
      "['https://w.soundcloud.com/player/?visual=false&amp', 'title=\"משלח by Arabit', 'https://clyp.it/tohg2m45/widget']\n",
      "['https://w.soundcloud.com/player/?visual=false&amp', 'title=\"עקד זואג\\' by Arabit', 'https://clyp.it/euofhxap/widget']\n"
     ]
    },
    {
     "name": "stderr",
     "output_type": "stream",
     "text": [
      " 17%|█████████████▍                                                                  | 387/2302 [00:20<02:02, 15.68it/s]"
     ]
    },
    {
     "name": "stdout",
     "output_type": "stream",
     "text": [
      "['https://w.soundcloud.com/player/?visual=false&amp', 'title=\"מנאח\\' by Arabit']\n",
      "['https://w.soundcloud.com/player/?visual=false&amp', 'title=\"כת\\'אפה סכאניה by Arabit', 'https://w.soundcloud.com/player/?visual=false&amp', 'title=\"מכת׳ף by Arabit']\n",
      "['https://on.soundcloud.com/3t41H?fbclid=IwAR0aHwhD-wJuapP7Q8LwNDPVbbZygqJTRExxbazeDFv7DQkegvqiJLLO_Qc', 'https://on.soundcloud.com/3t41H']\n",
      "['https://on.soundcloud.com/aSqCn?fbclid=IwAR1Q_on_Is2WYSI7z2Bzl3-84h6oasYidWiFEQkQvPTgUAdDIwEMuZtiKjI', 'https://on.soundcloud.com/aSqCn']\n",
      "['https://on.soundcloud.com/y4LHx']\n"
     ]
    },
    {
     "name": "stderr",
     "output_type": "stream",
     "text": [
      " 17%|█████████████▋                                                                  | 393/2302 [00:20<01:42, 18.61it/s]"
     ]
    },
    {
     "name": "stdout",
     "output_type": "stream",
     "text": [
      "['https://w.soundcloud.com/player/?visual=false&amp', 'title=\"צות by Arabit', 'https://clyp.it/jx4nf5wm/widget']\n",
      "['https://on.soundcloud.com/yevop?fbclid=IwAR0R1WxXY75w193f461e8lcNnrWiW7T5-ZhXp0g1C7sfYZuBYJ89wePcqnA', 'https://on.soundcloud.com/yevop']\n",
      "['https://on.soundcloud.com/Paxzx?fbclid=IwAR3Ae7G65q-CvFQGeMGsPuo_ReY2KLrRJesgI_RRetpsWWiNylYGyQDEHdM', 'https://on.soundcloud.com/Paxzx']\n",
      "['https://on.soundcloud.com/ByYUd?fbclid=IwAR0hh0znL6E4-Zu2wXZQHmVr1QAOtXxNoAM7_5h7a8IC28O45oKhrgwhd-s', 'https://on.soundcloud.com/ByYUd', 'https://w.soundcloud.com/player/?visual=false&amp', 'title=\"שדה by Arabit']\n",
      "['https://w.soundcloud.com/player/?visual=false&amp', 'title=\"אלימן by Arabit']\n"
     ]
    },
    {
     "name": "stderr",
     "output_type": "stream",
     "text": [
      " 17%|█████████████▊                                                                  | 399/2302 [00:20<01:33, 20.30it/s]"
     ]
    },
    {
     "name": "stdout",
     "output_type": "stream",
     "text": [
      "['https://w.soundcloud.com/player/?visual=false&amp', 'title=\"פילא by Arabit']\n",
      "['https://w.soundcloud.com/player/?visual=false&amp', 'title=\"ג\\'לטה by Arabit', 'https://clyp.it/qoqll1pt/widget']\n",
      "['https://w.soundcloud.com/player/?visual=false&amp', 'title=\"מסלה by Arabit', 'https://w.soundcloud.com/player/?visual=false&amp', 'title=\"תסלל by Arabit']\n",
      "['https://w.soundcloud.com/player/?visual=false&amp', 'title=\"ע\\'רדק by Arabit']\n",
      "['https://w.soundcloud.com/player/?visual=false&amp', 'title=\"רע\\'בה by Arabit']\n"
     ]
    },
    {
     "name": "stderr",
     "output_type": "stream",
     "text": [
      " 17%|█████████████▉                                                                  | 402/2302 [00:20<01:26, 21.89it/s]"
     ]
    },
    {
     "name": "stdout",
     "output_type": "stream",
     "text": [
      "['https://w.soundcloud.com/player/?visual=false&amp', 'title=\"ערינ אלאסוד by Arabit']\n",
      "['https://on.soundcloud.com/dCLwm', 'https://clyp.it/jhtd2ilf/widget']\n",
      "['https://w.soundcloud.com/player/?visual=false&amp', 'title=\"נהאיה by Arabit']\n",
      "['https://on.soundcloud.com/bw4UB?fbclid=IwAR0v0NvBpkoST6aPCOEWUgagYfXThpilUiRoZzMyuEmk81NUicNeIvOt7zs', 'https://on.soundcloud.com/bw4UB']\n",
      "['https://on.soundcloud.com/jtecy?fbclid=IwAR0ZSSZUJnbjUntTgGnjJfaxGHqx9YJ1jC62ic_dQ5ImAT4jDsA19-jlSXM', 'https://on.soundcloud.com/jtecy', 'https://soundcloud.com/listen2arabit/5qjwdeqhiya1']\n",
      "['https://on.soundcloud.com/qv2YW?fbclid=IwAR2Q7N4FVNSdnlV0X8_dHRiak6Y969_6nOQ6V_efaVgb6Nf3-1Mqe4rgYwQ', 'https://on.soundcloud.com/qv2YW', 'https://clyp.it/dm50ioog/widget']\n"
     ]
    },
    {
     "name": "stderr",
     "output_type": "stream",
     "text": [
      " 18%|██████████████▏                                                                 | 408/2302 [00:21<01:25, 22.28it/s]"
     ]
    },
    {
     "name": "stdout",
     "output_type": "stream",
     "text": [
      "['https://on.soundcloud.com/x334w?fbclid=IwAR077Bh3iTSBozS3b0zkX3ZcB90eMA0XP186Bp1wct_LhrfWj8I2561jKEI', 'https://on.soundcloud.com/x334w']\n",
      "['https://on.soundcloud.com/ANzxS?fbclid=IwAR29LSN7ej5s7s7vbm3XeJ2-MybBPNQ4MWuluxIyZb8yPNKwk6SasBKR1L8', 'https://on.soundcloud.com/ANzxS']\n",
      "['https://on.soundcloud.com/GN7sP?fbclid=IwAR3mNTILHu71dnB3sUVOMjOicO6YiMnjerAzL2ciAaju7US8RGtL3KD68gg', 'https://on.soundcloud.com/GN7sP']\n",
      "['https://on.soundcloud.com/Av2yC?fbclid=IwAR0asvq2QAfF4MLqvSg9JajIy0ZuexLR2wLIuDNl0ZDfr4jmFuXP3Og4YD0', 'https://on.soundcloud.com/Av2yC', 'https://clyp.it/5lgdnpb0/widget']\n",
      "['https://on.soundcloud.com/7BQ91?fbclid=IwAR3RXXpSPlfnvN-p_bPEktDYprpa9GnXG5rea-xMqYXKeXeM9IywWxlgL6s', 'https://on.soundcloud.com/7BQ91']\n"
     ]
    },
    {
     "name": "stderr",
     "output_type": "stream",
     "text": [
      " 18%|██████████████▍                                                                 | 414/2302 [00:21<01:21, 23.23it/s]"
     ]
    },
    {
     "name": "stdout",
     "output_type": "stream",
     "text": [
      "['https://on.soundcloud.com/z7Rby?fbclid=IwAR34-nhc0lqRluKsi-4KMPfh4tO7slhATj4CvA4nBJGAdA1TD_24eAHZyFw', 'https://on.soundcloud.com/z7Rby']\n",
      "['https://on.soundcloud.com/hGPXK?fbclid=IwAR31tLmZILKPANQh5UoHd25yOjQWJFKsV9HQv-6L_d2PMuD5DU7KfHf5Mus', 'https://on.soundcloud.com/hGPXK', 'https://w.soundcloud.com/player/?visual=false&amp', 'title=\"ח\\'סראן by Arabit']\n",
      "['https://on.soundcloud.com/hTR9u']\n",
      "['https://on.soundcloud.com/Qpwpx']\n",
      "['https://on.soundcloud.com/JhCYJ']\n",
      "['https://on.soundcloud.com/4TDqD?fbclid=IwAR1FC2yCF8Pmc43IqJgIDKFwL3YhTMW3bS8FIM1CnHWNtn43DeMPbXUeqzY', 'https://on.soundcloud.com/4TDqD', 'https://clyp.it/kveh0ejs/widget']\n"
     ]
    },
    {
     "name": "stderr",
     "output_type": "stream",
     "text": [
      " 18%|██████████████▌                                                                 | 420/2302 [00:21<01:20, 23.42it/s]"
     ]
    },
    {
     "name": "stdout",
     "output_type": "stream",
     "text": [
      "['https://on.soundcloud.com/36ZPC', 'https://clyp.it/htpymivy/widget']\n",
      "['https://on.soundcloud.com/XTdVe?fbclid=IwAR17ZPs3gZDmNPSgVJNzdtWrwSTlShK8yOyPTFEbFJAyRIhSU_gh2y23-OU', 'https://on.soundcloud.com/XTdVe', 'https://w.soundcloud.com/player/?visual=false&amp', 'title=\"עדד by Arabit']\n",
      "['https://on.soundcloud.com/wNRUw?fbclid=IwAR3t1k2P7rrLBEWKmhgcsQrwFv0IxvItBgT7LteqLV9NE05RytdN6Bq50d4', 'https://on.soundcloud.com/wNRUw']\n",
      "['https://on.soundcloud.com/6thx6']\n",
      "['https://on.soundcloud.com/fHL2A', 'https://clyp.it/akbzglnm/widget']\n"
     ]
    },
    {
     "name": "stderr",
     "output_type": "stream",
     "text": [
      " 19%|██████████████▊                                                                 | 426/2302 [00:21<01:22, 22.69it/s]"
     ]
    },
    {
     "name": "stdout",
     "output_type": "stream",
     "text": [
      "['https://on.soundcloud.com/2xzwL', 'https://clyp.it/ju31thdr/widget']\n",
      "['https://on.soundcloud.com/Xm5rg?fbclid=IwAR15WsgbDNVCIjjyiS0Rt7FmhVvkYo0axwScLunP9XU19iFqQHtDMcV1uJs', 'https://on.soundcloud.com/Xm5rg', 'https://clyp.it/nvctmd3p/widget', 'https://clyp.it/5wn0a4ec/widget', 'https://clyp.it/xhitbh2m/widget']\n",
      "['https://on.soundcloud.com/xJ1aK?fbclid=IwAR2GG2sqW4-SIlcsqavHi3GmJZKdxY4knJ8kNBUafmZ-lzGSKIHBBASWS60', 'https://on.soundcloud.com/xJ1aK']\n",
      "['https://on.soundcloud.com/XbTXi']\n",
      "['https://on.soundcloud.com/BDLtM?fbclid=IwAR1q1Ww5PHWUt4_eDs1dBYBLOLNCU6CN5vJVmJiWCOpKaVf6JI5r5nCYuSs', 'https://on.soundcloud.com/BDLtM']\n"
     ]
    },
    {
     "name": "stderr",
     "output_type": "stream",
     "text": [
      " 19%|██████████████▉                                                                 | 429/2302 [00:22<01:21, 23.05it/s]"
     ]
    },
    {
     "name": "stdout",
     "output_type": "stream",
     "text": [
      "['https://on.soundcloud.com/RUzRA?fbclid=IwAR3ki6X0dxOuzGX3nnnAjd64J3FrSrzCefxraSv1GtfcID2PbrbYBI0i60c', 'https://on.soundcloud.com/RUzRA', 'https://clyp.it/aj3fspkn/widget']\n",
      "['https://on.soundcloud.com/ZX2TJ?fbclid=IwAR3-7JT077jFGYn8Vl4kKOEd8D2chWHmHMRxxAbOOXpx1_w9smCyyVebCcg', 'https://on.soundcloud.com/ZX2TJ']\n",
      "['https://w.soundcloud.com/player/?visual=false&amp', 'title=\"אסרלה by Arabit']\n",
      "['https://w.soundcloud.com/player/?visual=false&amp', 'title=\"הבוט ארצ\\'י by Arabit']\n",
      "['https://w.soundcloud.com/player/?visual=false&amp', 'title=\"אלכם בתנדק אלתחיה by Arabit', 'https://w.soundcloud.com/player/?visual=false&amp', 'title=\"דקה ע אלבאב by Arabit', 'https://clyp.it/0bmt5fh3/widget']\n"
     ]
    },
    {
     "name": "stderr",
     "output_type": "stream",
     "text": [
      " 19%|███████████████                                                                 | 435/2302 [00:22<01:21, 22.88it/s]"
     ]
    },
    {
     "name": "stdout",
     "output_type": "stream",
     "text": [
      "['https://w.soundcloud.com/player/?visual=false&amp', 'title=\"וקת אלפראע\\' by Arabit']\n",
      "['https://w.soundcloud.com/player/?visual=false&amp', 'title=\"דאס by Arabit']\n",
      "['https://w.soundcloud.com/player/?visual=false&amp', 'title=\"נבעה by Arabit', 'https://clyp.it/z0fqeiq2/widget']\n",
      "['https://w.soundcloud.com/player/?visual=false&amp', 'title=\"שופיר by Arabit']\n",
      "['https://w.soundcloud.com/player/?visual=false&amp', 'title=\"מסדס by Arabit']\n"
     ]
    },
    {
     "name": "stderr",
     "output_type": "stream",
     "text": [
      " 19%|███████████████▎                                                                | 441/2302 [00:22<01:16, 24.41it/s]"
     ]
    },
    {
     "name": "stdout",
     "output_type": "stream",
     "text": [
      "['https://w.soundcloud.com/player/?visual=false&amp', 'title=\"זנא by Arabit']\n",
      "['https://w.soundcloud.com/player/?visual=false&amp', 'title=\"אח\\'ת by Arabit']\n",
      "['https://w.soundcloud.com/player/?visual=false&amp', 'title=\"ועי by Arabit', 'https://soundcloud.com/listen2arabit/ko46mvkfa3zh']\n",
      "['https://w.soundcloud.com/player/?visual=false&amp', 'title=\"ע\\'לבאן by Arabit']\n",
      "['https://w.soundcloud.com/player/?visual=false&amp', 'title=\"פכ by Arabit', 'https://clyp.it/3ojoooxo/widget']\n",
      "['https://w.soundcloud.com/player/?visual=false&amp', 'title=\"משרוב טאקה by Arabit', 'https://clyp.it/rkk50m34/widget']\n"
     ]
    },
    {
     "name": "stderr",
     "output_type": "stream",
     "text": [
      " 19%|███████████████▌                                                                | 447/2302 [00:22<01:18, 23.56it/s]"
     ]
    },
    {
     "name": "stdout",
     "output_type": "stream",
     "text": [
      "['https://on.soundcloud.com/6XBem?fbclid=IwAR12OMfsvJ2X4Dx6JfN4J1oSXV_nR1vHDAEKsGoGxKReBEIPbzRf8bsYFcs', 'https://on.soundcloud.com/6XBem', 'https://w.soundcloud.com/player/?visual=false&amp', 'title=\"ח\\'דמה by Arabit', 'https://clyp.it/f2rlnejw/widget']\n",
      "['https://on.soundcloud.com/mt8v1?fbclid=IwAR0ENfL8vf_n_7_8G5X1B3L8YNpzailOd-o98KNHH7pawBdEIjNpU8YNT4s', 'https://on.soundcloud.com/mt8v1']\n",
      "['https://on.soundcloud.com/gEDuZ?fbclid=IwAR14-KTTUckRkkqSTxFDad_Uh8sUf3jCW7xO5xDNBC32P-J_dPixUBk--zc', 'https://on.soundcloud.com/gEDuZ', 'https://clyp.it/sll4bhii/widget']\n",
      "['https://on.soundcloud.com/TJ1N1?fbclid=IwAR271j6D3sFUXXGzDj_ylj9ep7gkyeYh3jmuJWW7S9zr4pJqvOYpTa_4e6w', 'https://on.soundcloud.com/TJ1N1', 'https://w.soundcloud.com/player/?visual=false&amp', 'title=\"מתצ\\'איק by Arabit']\n",
      "['https://on.soundcloud.com/6H819?fbclid=IwAR2m16BeFIEG4R1hATvw8w5XSic3LotIZTcTMNGUcMxcTDRkI00Cn3URK50', 'https://on.soundcloud.com/6H819', 'https://clyp.it/ix4yddlc/widget']\n",
      "['https://on.soundcloud.com/QXvJf?fbclid=IwAR1zRCKLtIu7ds9W5keZhMLAtCqjbMLcBdqfylinf43lw0IsKZIic2f7nAs', 'https://on.soundcloud.com/QXvJf', 'https://clyp.it/uem0rrak/widget']\n",
      "['https://on.soundcloud.com/HiZTy']\n"
     ]
    },
    {
     "name": "stderr",
     "output_type": "stream",
     "text": [
      " 20%|███████████████▋                                                                | 453/2302 [00:23<02:58, 10.37it/s]"
     ]
    },
    {
     "name": "stdout",
     "output_type": "stream",
     "text": [
      "['https://on.soundcloud.com/4tY3Y?fbclid=IwAR3YZKZnm7akRykH9JEM0bCb0l0QL-GxuG7b5tzFzt9ulYVbY9OyCS6uWOs', 'https://on.soundcloud.com/4tY3Y', 'https://clyp.it/tiptyx1v/widget', 'https://clyp.it/la35yrug/widget']\n",
      "['https://on.soundcloud.com/P26iN?fbclid=IwAR0upSXOI6QzaeXCMCqsl2yel5PK24YRy-aReGuqY_k5YyjGKSNNAXnPt9I', 'https://on.soundcloud.com/P26iN', 'https://w.soundcloud.com/player/?visual=false&amp', 'title=\"אנזלק by Arabit', 'https://clyp.it/baclr3xt/widget']\n",
      "['https://on.soundcloud.com/1Dy4w', 'https://clyp.it/hojmrz0p/widget']\n",
      "['https://on.soundcloud.com/PhA1b', 'https://w.soundcloud.com/player/?visual=false&amp', 'title=\"תרקא by Arabit']\n",
      "['https://on.soundcloud.com/G4v2H']\n",
      "['https://on.soundcloud.com/JGiyw', 'https://clyp.it/5eqp0v1b/widget', 'https://clyp.it/qqktcitb/widget']\n"
     ]
    },
    {
     "name": "stderr",
     "output_type": "stream",
     "text": [
      " 20%|███████████████▉                                                                | 459/2302 [00:24<02:07, 14.43it/s]"
     ]
    },
    {
     "name": "stdout",
     "output_type": "stream",
     "text": [
      "['https://on.soundcloud.com/RgQam', 'https://clyp.it/lwgoppzl/widget']\n",
      "['https://on.soundcloud.com/n3knP?fbclid=IwAR09J2BQQ8FkMLrS1u_KA1Skog5Esg4z-OVFv1ZVszu2wPl6RqbP5nEvYBg', 'https://on.soundcloud.com/n3knP', 'https://clyp.it/m4ibhrkc/widget']\n",
      "['https://on.soundcloud.com/pdUxF?fbclid=IwAR0-LU8hBTFzGYEkhCla5BuDq5mnFNznChzDwRgNBPDMGbAaNtaEhWan8tw', 'https://on.soundcloud.com/pdUxF', 'https://clyp.it/jtnlzjwj/widget']\n",
      "['https://on.soundcloud.com/53cCX']\n",
      "['https://on.soundcloud.com/5ub8j', 'https://clyp.it/nwnxzfyf/widget', 'https://clyp.it/5oyadhde/widget']\n",
      "['https://on.soundcloud.com/bgCy5']\n"
     ]
    },
    {
     "name": "stderr",
     "output_type": "stream",
     "text": [
      " 20%|████████████████▏                                                               | 465/2302 [00:24<01:38, 18.70it/s]"
     ]
    },
    {
     "name": "stdout",
     "output_type": "stream",
     "text": [
      "['https://on.soundcloud.com/nRifU']\n",
      "['https://on.soundcloud.com/jpELy', 'https://clyp.it/kifmqtjj/widget']\n",
      "['https://on.soundcloud.com/dHVfE?fbclid=IwAR3bxTgivkqIT5pg6KadnQUOp6vJ4eO3Kc7ZEaw9zpYLwDQ8DB5oRo88hsQ', 'https://on.soundcloud.com/dHVfE']\n",
      "['https://on.soundcloud.com/BrCXa?fbclid=IwAR3QpDnn0OJbVGnh6odUfrxbYQiKT0WP7DkRfFxgZpq6lXjGRYqUQU59wIk', 'https://on.soundcloud.com/BrCXa']\n",
      "['https://on.soundcloud.com/WDbQu?fbclid=IwAR3cK9_w-yKlM5olduneaZ1enFu85B1fqNg_eziJimWsfC1bESeon7CTj_4', 'https://on.soundcloud.com/WDbQu']\n",
      "['https://on.soundcloud.com/1RH88']\n"
     ]
    },
    {
     "name": "stderr",
     "output_type": "stream",
     "text": [
      " 20%|████████████████▎                                                               | 471/2302 [00:24<01:25, 21.40it/s]"
     ]
    },
    {
     "name": "stdout",
     "output_type": "stream",
     "text": [
      "['https://on.soundcloud.com/fVa8p?fbclid=IwAR0m_Kksp7d5zUCEWogHtk0LBtMToMskQ_CJ7jmmvv3M27FobFz7MAAUTf4', 'https://on.soundcloud.com/fVa8p', 'https://clyp.it/mkehgk1w/widget']\n",
      "['https://on.soundcloud.com/XWNAd']\n",
      "['https://on.soundcloud.com/S4zYA?fbclid=IwAR1DR_8Rmox0PAijz_-AtAeDptiY-ZmQVvy_VOQXYY2rDxRAZJxD1ZO9H3k', 'https://on.soundcloud.com/S4zYA', 'https://clyp.it/nuamqdib/widget', 'https://clyp.it/scfx4ybm/widget']\n",
      "['https://w.soundcloud.com/player/?visual=false&amp', 'title=\"נט\\'ר by Arabit', 'https://clyp.it/5sngsyq2/widget']\n",
      "['https://w.soundcloud.com/player/?visual=false&amp', 'title=\"אמתחאן by Arabit', 'https://clyp.it/jdc3yvam/widget']\n",
      "['https://soundcloud.com/listen2arabit/xty8ssbw3lbu']\n"
     ]
    },
    {
     "name": "stderr",
     "output_type": "stream",
     "text": [
      " 21%|████████████████▌                                                               | 477/2302 [00:24<01:22, 22.08it/s]"
     ]
    },
    {
     "name": "stdout",
     "output_type": "stream",
     "text": [
      "['https://w.soundcloud.com/player/?visual=false&amp', 'title=\"מציבה by Arabit', 'https://clyp.it/y4pmfwlz/widget']\n",
      "['https://w.soundcloud.com/player/?visual=false&amp', 'title=\"ברע\\'ות\\' by Arabit']\n",
      "['https://w.soundcloud.com/player/?visual=false&amp', 'title=\"וזר by Arabit', 'https://clyp.it/b20orbac/widget']\n",
      "['https://w.soundcloud.com/player/?visual=false&amp', 'title=\"תע\\'ריד by Arabit']\n",
      "['https://on.soundcloud.com/QpFUT', 'https://w.soundcloud.com/player/?visual=false&amp', 'title=\"רקאצה by Arabit']\n"
     ]
    },
    {
     "name": "stderr",
     "output_type": "stream",
     "text": [
      " 21%|████████████████▊                                                               | 483/2302 [00:25<01:21, 22.37it/s]"
     ]
    },
    {
     "name": "stdout",
     "output_type": "stream",
     "text": [
      "['https://on.soundcloud.com/rM3eA', 'https://clyp.it/4cfj3qzd/widget']\n",
      "['https://on.soundcloud.com/UBgG7']\n",
      "[]\n",
      "['https://on.soundcloud.com/itYKg', 'https://clyp.it/pa2pgmnx/widget']\n",
      "['https://on.soundcloud.com/mMzLq', 'https://clyp.it/2tkweidx/widget', 'https://clyp.it/qbuuchao/widget']\n"
     ]
    },
    {
     "name": "stderr",
     "output_type": "stream",
     "text": [
      " 21%|████████████████▉                                                               | 486/2302 [00:25<01:19, 22.79it/s]"
     ]
    },
    {
     "name": "stdout",
     "output_type": "stream",
     "text": [
      "['https://on.soundcloud.com/5eToK', 'https://w.soundcloud.com/player/?visual=false&amp', 'title=\"מצ׳יפת טיראן by Arabit']\n",
      "['https://on.soundcloud.com/fkThJ?fbclid=IwAR12oO2Qv2zpENj-EnSzgQDgXKA6_rUeTiC4f-QizR4qI7vT-f3GUJrYvl0', 'https://on.soundcloud.com/fkThJ']\n",
      "['https://w.soundcloud.com/player/?visual=false&amp', 'title=\"קנינה by Arabit', 'https://clyp.it/qhqtmoi5/widget']\n",
      "['https://w.soundcloud.com/player/?visual=false&amp', 'title=\"אג\\'ר by Arabit']\n",
      "['https://w.soundcloud.com/player/?visual=false&amp', 'title=\"מח\\'מג by Arabit']\n",
      "['https://w.soundcloud.com/player/?visual=false&amp', 'title=\"אסתחק by Arabit', 'https://clyp.it/obmrdbt1/widget']\n"
     ]
    },
    {
     "name": "stderr",
     "output_type": "stream",
     "text": [
      " 22%|█████████████████▏                                                              | 495/2302 [00:25<01:12, 24.81it/s]"
     ]
    },
    {
     "name": "stdout",
     "output_type": "stream",
     "text": [
      "['https://w.soundcloud.com/player/?visual=false&amp', 'title=\"הש ונש by Arabit']\n",
      "['https://w.soundcloud.com/player/?visual=false&amp', 'title=\"מאסאה by Arabit']\n",
      "['https://w.soundcloud.com/player/?visual=false&amp', 'title=\"תיתי תיתי by Arabit']\n",
      "['https://w.soundcloud.com/player/?visual=false&amp', 'title=\"ורקה by Arabit', 'https://clyp.it/wyty0uof/widget']\n",
      "['https://w.soundcloud.com/player/?visual=false&amp', 'title=\"מטר by Arabit']\n",
      "['https://w.soundcloud.com/player/?visual=false&amp', 'title=\"מרצ\\' by Arabit', 'https://clyp.it/tfbukxav/widget']\n"
     ]
    },
    {
     "name": "stderr",
     "output_type": "stream",
     "text": [
      " 22%|█████████████████▍                                                              | 501/2302 [00:25<01:12, 24.77it/s]"
     ]
    },
    {
     "name": "stdout",
     "output_type": "stream",
     "text": [
      "['https://w.soundcloud.com/player/?visual=false&amp', 'title=\"אלשרק אלאוסט by Arabit', 'https://clyp.it/4emlid50/widget']\n",
      "['https://w.soundcloud.com/player/?visual=false&amp', 'title=\"קטאר by Arabit', 'https://clyp.it/45guleyw/widget']\n",
      "['https://w.soundcloud.com/player/?visual=false&amp', 'title=\"תמסח\\'ר by Arabit', 'https://clyp.it/aasbcdkq/widget']\n",
      "['https://w.soundcloud.com/player/?visual=false&amp', 'title=\"זחלה by Arabit']\n",
      "['https://w.soundcloud.com/player/?visual=false&amp', 'title=\"נזע by Arabit', 'https://clyp.it/qpsgrhxb/widget']\n",
      "['https://w.soundcloud.com/player/?visual=false&amp', 'title=\"תופיק by Arabit']\n"
     ]
    },
    {
     "name": "stderr",
     "output_type": "stream",
     "text": [
      " 22%|█████████████████▌                                                              | 504/2302 [00:25<01:15, 23.96it/s]"
     ]
    },
    {
     "name": "stdout",
     "output_type": "stream",
     "text": [
      "['https://soundcloud.com/listen2arabit/3oggnbs8cehy', 'https://clyp.it/mxo03i0r/widget', 'https://clyp.it/a3fcol5r/widget']\n",
      "['https://w.soundcloud.com/player/?visual=false&amp', 'title=\"בטל ח\\'ארק by Arabit', 'https://clyp.it/wmfszean/widget']\n",
      "['https://w.soundcloud.com/player/?visual=false&amp', 'title=\"דיר by Arabit']\n",
      "['https://w.soundcloud.com/player/?visual=false&amp', 'title=\"שאד\\' by Arabit']\n",
      "['https://w.soundcloud.com/player/?visual=false&amp', 'title=\"פוזי מוזי by Arabit']\n"
     ]
    },
    {
     "name": "stderr",
     "output_type": "stream",
     "text": [
      " 22%|█████████████████▋                                                              | 510/2302 [00:26<01:14, 23.91it/s]"
     ]
    },
    {
     "name": "stdout",
     "output_type": "stream",
     "text": [
      "['https://w.soundcloud.com/player/?visual=false&amp', 'title=\"מקטוע מן אלבנזין by Arabit', 'https://w.soundcloud.com/player/?visual=false&amp', 'title=\"קטעה by Arabit']\n",
      "['https://soundcloud.com/listen2arabit/1nxkouutxzdz', 'https://clyp.it/agb5uhhr/widget', 'https://clyp.it/vmqxhoeo/widget']\n",
      "['https://w.soundcloud.com/player/?visual=false&amp', 'title=\"תמסאח by Arabit']\n",
      "['https://w.soundcloud.com/player/?visual=false&amp', 'title=\"יא רית by Arabit']\n",
      "['https://w.soundcloud.com/player/?visual=false&amp', 'title=\"נאל by Arabit', 'https://clyp.it/pfnlquil/widget', 'https://clyp.it/spk40njj/widget']\n"
     ]
    },
    {
     "name": "stderr",
     "output_type": "stream",
     "text": [
      " 22%|█████████████████▉                                                              | 516/2302 [00:26<01:11, 24.89it/s]"
     ]
    },
    {
     "name": "stdout",
     "output_type": "stream",
     "text": [
      "['https://w.soundcloud.com/player/?visual=false&amp', 'title=\"בראשים by Arabit']\n",
      "['https://w.soundcloud.com/player/?visual=false&amp', 'title=\"נסי by Arabit', 'https://clyp.it/gph0lpqo/widget']\n",
      "['https://w.soundcloud.com/player/?visual=false&amp', 'title=\"תעויצ\\' by Arabit']\n",
      "['https://w.soundcloud.com/player/?visual=false&amp', 'title=\"דפש by Arabit']\n",
      "['https://w.soundcloud.com/player/?visual=false&amp', 'title=\"ג\\'על by Arabit']\n",
      "['https://w.soundcloud.com/player/?visual=false&amp', 'title=\"ת\\'לאג\\'ה by Arabit', 'https://w.soundcloud.com/player/?visual=false&amp', 'title=\"ת׳לג׳ by Arabit']\n"
     ]
    },
    {
     "name": "stderr",
     "output_type": "stream",
     "text": [
      " 23%|██████████████████▏                                                             | 522/2302 [00:26<01:12, 24.67it/s]"
     ]
    },
    {
     "name": "stdout",
     "output_type": "stream",
     "text": [
      "['https://w.soundcloud.com/player/?visual=false&amp', 'title=\"קסאוה by Arabit']\n",
      "['https://w.soundcloud.com/player/?visual=false&amp', 'title=\"מרפוצ\\' by Arabit', 'https://clyp.it/nqhac31y/widget']\n",
      "['https://w.soundcloud.com/player/?visual=false&amp', 'title=\"ארתטם by Arabit']\n",
      "['https://w.soundcloud.com/player/?visual=false&amp', 'title=\"פקיר by Arabit', 'https://clyp.it/jysn5wh5/widget']\n",
      "['https://w.soundcloud.com/player/?visual=false&amp', 'title=\"חפרה by Arabit']\n",
      "['https://w.soundcloud.com/player/?visual=false&amp', 'title=\"מכיוד by Arabit', 'https://w.soundcloud.com/player/?visual=false&amp', 'title=\"מכידה by Arabit']\n",
      "['https://w.soundcloud.com/player/?visual=false&amp', 'title=\"מעציה by Arabit', 'https://clyp.it/lgtd2xar/widget']\n"
     ]
    },
    {
     "name": "stderr",
     "output_type": "stream",
     "text": [
      " 23%|██████████████████▎                                                             | 528/2302 [00:27<03:06,  9.53it/s]"
     ]
    },
    {
     "name": "stdout",
     "output_type": "stream",
     "text": [
      "['https://w.soundcloud.com/player/?visual=false&amp', 'title=\"רסאלה by Arabit', 'https://clyp.it/wzsgx4ix/widget']\n",
      "['https://w.soundcloud.com/player/?visual=false&amp', 'title=\"אסבוע by Arabit', 'https://clyp.it/uxi0aq4u/widget']\n",
      "['https://w.soundcloud.com/player/?visual=false&amp', 'title=\"ח\\'אנה by Arabit', 'https://clyp.it/nuaqiu02/widget']\n",
      "['https://soundcloud.com/listen2arabit/jbpyytlrhzsp', 'https://w.soundcloud.com/player/?visual=false&amp', 'title=\"ולד by Arabit']\n",
      "['https://w.soundcloud.com/player/?visual=false&amp', 'title=\"הדהד by Arabit']\n"
     ]
    },
    {
     "name": "stderr",
     "output_type": "stream",
     "text": [
      " 23%|██████████████████▌                                                             | 534/2302 [00:28<02:08, 13.81it/s]"
     ]
    },
    {
     "name": "stdout",
     "output_type": "stream",
     "text": [
      "['https://w.soundcloud.com/player/?visual=false&amp', 'title=\"פי ד\\'מת אללה by Arabit']\n",
      "['https://w.soundcloud.com/player/?visual=false&amp', 'title=\"ד\\'ראע by Arabit']\n",
      "['https://w.soundcloud.com/player/?visual=false&amp', 'title=\"כאט\\'ם by Arabit']\n",
      "['https://w.soundcloud.com/player/?visual=false&amp', 'title=\"תנורה by Arabit']\n",
      "['https://w.soundcloud.com/player/?visual=false&amp', 'title=\"כשף by Arabit', 'https://clyp.it/0cmjnf00/widget']\n",
      "['https://w.soundcloud.com/player/?visual=false&amp', 'title=\"שהוה by Arabit']\n"
     ]
    },
    {
     "name": "stderr",
     "output_type": "stream",
     "text": [
      " 23%|██████████████████▊                                                             | 540/2302 [00:28<01:40, 17.55it/s]"
     ]
    },
    {
     "name": "stdout",
     "output_type": "stream",
     "text": [
      "['https://w.soundcloud.com/player/?visual=false&amp', 'title=\"אג\\'ר by Arabit']\n",
      "['https://w.soundcloud.com/player/?visual=false&amp', 'title=\"אקתראח by Arabit']\n",
      "['https://w.soundcloud.com/player/?visual=false&amp', 'title=\"חאזם by Arabit']\n",
      "['https://w.soundcloud.com/player/?visual=false&amp', 'title=\"פצ\\'יחה by Arabit', 'https://clyp.it/k0b0nlg2/widget', 'https://clyp.it/cuttia3s/widget']\n",
      "['https://w.soundcloud.com/player/?visual=false&amp', 'title=\"תחרי by Arabit']\n",
      "['https://soundcloud.com/listen2arabit/p52xuhbxkaig']\n"
     ]
    },
    {
     "name": "stderr",
     "output_type": "stream",
     "text": [
      " 24%|██████████████████▉                                                             | 546/2302 [00:28<01:24, 20.70it/s]"
     ]
    },
    {
     "name": "stdout",
     "output_type": "stream",
     "text": [
      "['https://w.soundcloud.com/player/?visual=false&amp', 'title=\"מסח by Arabit', 'https://clyp.it/afg5soyt/widget']\n",
      "['https://w.soundcloud.com/player/?visual=false&amp', 'title=\"צליב by Arabit']\n",
      "['https://w.soundcloud.com/player/?visual=false&amp', 'title=\"בהאראת by Arabit', 'https://clyp.it/ykbwoztw/widget']\n",
      "['https://w.soundcloud.com/player/?visual=false&amp', 'title=\"אלבלדה אלקדימה by Arabit', 'https://clyp.it/4vmztzb3/widget']\n",
      "['https://w.soundcloud.com/player/?visual=false&amp', 'title=\"אנתהאכ by Arabit']\n",
      "['https://w.soundcloud.com/player/?visual=false&amp', 'title=\"תראת\\' by Arabit']\n"
     ]
    },
    {
     "name": "stderr",
     "output_type": "stream",
     "text": [
      " 24%|███████████████████▏                                                            | 552/2302 [00:28<01:16, 22.79it/s]"
     ]
    },
    {
     "name": "stdout",
     "output_type": "stream",
     "text": [
      "['https://w.soundcloud.com/player/?visual=false&amp', 'title=\"תזחזח by Arabit', 'https://clyp.it/xny1xhoq/widget']\n",
      "['https://w.soundcloud.com/player/?visual=false&amp', 'title=\"תהדיד by Arabit']\n",
      "['https://w.soundcloud.com/player/?visual=false&amp', 'title=\"מדרסה by Arabit', 'https://w.soundcloud.com/player/?visual=false&amp', 'title=\"דרס by Arabit', 'https://clyp.it/echp24bi/widget']\n",
      "['https://w.soundcloud.com/player/?visual=false&amp', 'title=\"צאעק אנפג\\'אר by Arabit']\n",
      "['https://w.soundcloud.com/player/?visual=false&amp', 'title=\"שכ by Arabit']\n",
      "['https://w.soundcloud.com/player/?visual=false&amp', 'title=\"נקל by Arabit', 'https://clyp.it/d4mfcdgz/widget', 'https://clyp.it/ipfb4ogo/widget']\n"
     ]
    },
    {
     "name": "stderr",
     "output_type": "stream",
     "text": [
      " 24%|███████████████████▍                                                            | 558/2302 [00:29<01:12, 23.99it/s]"
     ]
    },
    {
     "name": "stdout",
     "output_type": "stream",
     "text": [
      "['https://w.soundcloud.com/player/?visual=false&amp', 'title=\"חסם אלג\\'דל by Arabit']\n",
      "['https://w.soundcloud.com/player/?visual=false&amp', 'title=\"מטראן by Arabit']\n",
      "['https://w.soundcloud.com/player/?visual=false&amp', 'title=\"אזרק by Arabit', 'https://clyp.it/tr1hhbkk']\n",
      "['https://w.soundcloud.com/player/?visual=false&amp', 'title=\"סכתה קלביה by Arabit', 'https://clyp.it/xetkthll/widget']\n",
      "['https://w.soundcloud.com/player/?visual=false&amp', 'title=\"נעש by Arabit', 'https://clyp.it/5ahi54f1/widget']\n",
      "['https://w.soundcloud.com/player/?visual=false&amp', 'title=\"אסתולא by Arabit']\n"
     ]
    },
    {
     "name": "stderr",
     "output_type": "stream",
     "text": [
      " 25%|███████████████████▌                                                            | 564/2302 [00:29<01:12, 24.12it/s]"
     ]
    },
    {
     "name": "stdout",
     "output_type": "stream",
     "text": [
      "['https://soundcloud.com/listen2arabit/t1qm1yepqkac']\n",
      "['https://w.soundcloud.com/player/?visual=false&amp', 'title=\"אע\\'תצב by Arabit', 'https://clyp.it/l4jkvbpx/widget']\n",
      "['https://w.soundcloud.com/player/?visual=false&amp', 'title=\"באלרוח באלדם by Arabit']\n",
      "['https://soundcloud.com/listen2arabit/5qjwdeqhiya1']\n",
      "['https://w.soundcloud.com/player/?visual=false&amp', 'title=\"האן by Arabit', 'https://w.soundcloud.com/player/?visual=false&amp', 'title=\"הין by Arabit']\n"
     ]
    },
    {
     "name": "stderr",
     "output_type": "stream",
     "text": [
      " 25%|███████████████████▊                                                            | 570/2302 [00:29<01:10, 24.67it/s]"
     ]
    },
    {
     "name": "stdout",
     "output_type": "stream",
     "text": [
      "['https://w.soundcloud.com/player/?visual=false&amp', 'title=\"ערצ\\' אזיאא\\' by Arabit']\n",
      "['https://w.soundcloud.com/player/?visual=false&amp', 'title=\"אנג\\'אז by Arabit']\n",
      "['https://w.soundcloud.com/player/?visual=false&amp', 'title=\"מנצור by Arabit', 'https://clyp.it/3atfqpai/widget']\n",
      "['https://w.soundcloud.com/player/?visual=false&amp', 'title=\"כאזיה by Arabit']\n",
      "['https://w.soundcloud.com/player/?visual=false&amp', 'title=\"נעאל by Arabit']\n",
      "['https://w.soundcloud.com/player/?visual=false&amp', 'title=\"ראיה by Arabit']\n"
     ]
    },
    {
     "name": "stderr",
     "output_type": "stream",
     "text": [
      " 25%|███████████████████▉                                                            | 573/2302 [00:29<01:10, 24.45it/s]"
     ]
    },
    {
     "name": "stdout",
     "output_type": "stream",
     "text": [
      "['https://w.soundcloud.com/player/?visual=false&amp', 'title=\"נאס by Arabit', 'https://clyp.it/v1oi0gwl/widget', 'https://clyp.it/fmk5id2w/widget', 'https://clyp.it/rkoc1ame/widget']\n",
      "['https://w.soundcloud.com/player/?visual=false&amp', 'title=\"תחריצ\\' by Arabit']\n",
      "['https://w.soundcloud.com/player/?visual=false&amp', 'title=\"רפע אלעתב by Arabit']\n",
      "['https://w.soundcloud.com/player/?visual=false&amp', 'title=\"צור by Arabit', 'https://clyp.it/tqvjwhth/widget', 'https://clyp.it/5yd1j5vd/widget']\n",
      "['https://w.soundcloud.com/player/?visual=false&amp', 'title=\"פצ\\'יל by Arabit', 'https://clyp.it/fsumakhu/widget', 'https://clyp.it/m3pvj1hv/widget']\n"
     ]
    },
    {
     "name": "stderr",
     "output_type": "stream",
     "text": [
      " 25%|████████████████████                                                            | 579/2302 [00:29<01:13, 23.31it/s]"
     ]
    },
    {
     "name": "stdout",
     "output_type": "stream",
     "text": [
      "['https://w.soundcloud.com/player/?visual=false&amp', 'title=\"זמרה by Arabit', 'https://clyp.it/yvhi4udr/widget']\n",
      "['https://w.soundcloud.com/player/?visual=false&amp', 'title=\"דעאא\\' by Arabit']\n",
      "['https://w.soundcloud.com/player/?visual=false&amp', 'title=\"חקיר by Arabit']\n",
      "['https://w.soundcloud.com/player/?visual=false&amp', 'title=\"חג\\'ה by Arabit', 'https://clyp.it/1q3fn4sj/widget']\n",
      "['https://w.soundcloud.com/player/?visual=false&amp', 'title=\"תרבצ by Arabit']\n"
     ]
    },
    {
     "name": "stderr",
     "output_type": "stream",
     "text": [
      " 25%|████████████████████▎                                                           | 585/2302 [00:30<01:15, 22.85it/s]"
     ]
    },
    {
     "name": "stdout",
     "output_type": "stream",
     "text": [
      "['https://w.soundcloud.com/player/?visual=false&amp', 'title=\"סעאדה by Arabit', 'https://clyp.it/0f2ibqmp/widget']\n",
      "['https://w.soundcloud.com/player/?visual=false&amp', 'title=\"טעאם by Arabit', 'https://w.soundcloud.com/player/?visual=false&amp', 'title=\"תטעים by Arabit']\n",
      "['https://w.soundcloud.com/player/?visual=false&amp', 'title=\"ח\\'מירה by Arabit', 'https://clyp.it/cltbxogl/widget']\n",
      "['https://w.soundcloud.com/player/?visual=false&amp', 'title=\"ח\\'ג\\'ל by Arabit', 'https://w.soundcloud.com/player/?visual=false&amp', 'title=\"ח׳ג׳לאן by Arabit']\n",
      "['https://w.soundcloud.com/player/?visual=false&amp', 'title=\"עמאר by Arabit', 'https://clyp.it/n0itassx/widget']\n"
     ]
    },
    {
     "name": "stderr",
     "output_type": "stream",
     "text": [
      " 26%|████████████████████▍                                                           | 588/2302 [00:30<01:14, 22.90it/s]"
     ]
    },
    {
     "name": "stdout",
     "output_type": "stream",
     "text": [
      "['https://soundcloud.com/listen2arabit/sb7wk5lrqta5']\n",
      "['https://w.soundcloud.com/player/?visual=false&amp', 'title=\"מג\\'לס אלשורא by Arabit', 'https://clyp.it/k4fsx1el/widget']\n",
      "['https://w.soundcloud.com/player/?visual=false&amp', 'title=\"עג\\'בה by Arabit', 'https://clyp.it/44subjem/widget']\n",
      "['https://w.soundcloud.com/player/?visual=false&amp', 'title=\"קרבאן by Arabit']\n",
      "['https://w.soundcloud.com/player/?visual=false&amp', 'title=\"מהמה by Arabit', 'https://clyp.it/rywoe44y/widget', 'https://clyp.it/3udbxnnd/widget']\n"
     ]
    },
    {
     "name": "stderr",
     "output_type": "stream",
     "text": [
      " 26%|████████████████████▋                                                           | 594/2302 [00:30<01:12, 23.57it/s]"
     ]
    },
    {
     "name": "stdout",
     "output_type": "stream",
     "text": [
      "['https://w.soundcloud.com/player/?visual=false&amp', 'title=\"אסתע\\'לאל by Arabit', 'https://clyp.it/13uuhzwi/widget']\n",
      "['https://w.soundcloud.com/player/?visual=false&amp', 'title=\"חרמה by Arabit']\n",
      "['https://w.soundcloud.com/player/?visual=false&amp', 'title=\"טאבור ח\\'אמס by Arabit']\n",
      "['https://w.soundcloud.com/player/?visual=false&amp', 'title=\"צרצור by Arabit', 'https://clyp.it/0j5vx3ge/widget']\n",
      "['https://w.soundcloud.com/player/?visual=false&amp', 'title=\"ג\\'נדי by Arabit']\n"
     ]
    },
    {
     "name": "stderr",
     "output_type": "stream",
     "text": [
      " 26%|████████████████████▊                                                           | 600/2302 [00:30<01:10, 24.16it/s]"
     ]
    },
    {
     "name": "stdout",
     "output_type": "stream",
     "text": [
      "['https://w.soundcloud.com/player/?visual=false&amp', 'title=\"לע\\'ה by Arabit', 'https://clyp.it/owlyn0f2/widget']\n",
      "['https://w.soundcloud.com/player/?visual=false&amp', 'title=\"טקה by Arabit', 'https://clyp.it/wcszawbl/widget']\n",
      "['https://w.soundcloud.com/player/?visual=false&amp', 'title=\"שבשב by Arabit']\n",
      "['https://w.soundcloud.com/player/?visual=false&amp', 'title=\"טאבק by Arabit']\n",
      "['https://w.soundcloud.com/player/?visual=false&amp', 'title=\"ג\\'ריא\\' by Arabit', 'https://clyp.it/22dgssnu/widget']\n"
     ]
    },
    {
     "name": "stderr",
     "output_type": "stream",
     "text": [
      " 26%|████████████████████▉                                                           | 603/2302 [00:31<03:44,  7.58it/s]"
     ]
    },
    {
     "name": "stdout",
     "output_type": "stream",
     "text": [
      "['https://w.soundcloud.com/player/?visual=false&amp', 'title=\"אללה יעאפיכ by Arabit', 'https://clyp.it/rxjz1xli/widget', 'https://clyp.it/bdygchov/widget', 'https://clyp.it/dxczxj3a/widget']\n",
      "['https://w.soundcloud.com/player/?visual=false&amp', 'title=\"תפאג\\'א\\' by Arabit', 'https://clyp.it/b5yakjog/widget']\n",
      "['https://w.soundcloud.com/player/?visual=false&amp', 'title=\"רח\\'יץ by Arabit', 'https://clyp.it/wzog5hsy/widget']\n",
      "['https://w.soundcloud.com/player/?visual=false&amp', 'title=\"אג\\'ואא\\' by Arabit', 'https://clyp.it/2s5do0xn/widget']\n",
      "['https://w.soundcloud.com/player/?visual=false&amp', 'title=\"בוסה by Arabit', 'https://w.soundcloud.com/player/?visual=false&amp', 'title=\"אבוס עינכ by Arabit']\n"
     ]
    },
    {
     "name": "stderr",
     "output_type": "stream",
     "text": [
      " 26%|█████████████████████▏                                                          | 609/2302 [00:32<02:25, 11.65it/s]"
     ]
    },
    {
     "name": "stdout",
     "output_type": "stream",
     "text": [
      "['https://w.soundcloud.com/player/?visual=false&amp', 'title=\"כלמת ח\\'יר by Arabit', 'https://clyp.it/rie3ton5/widget', 'https://clyp.it/uqgpnjt2/widget', 'https://clyp.it/pksybtfl/widget']\n",
      "['https://w.soundcloud.com/player/?visual=false&amp', 'title=\"עליק by Arabit']\n",
      "['https://w.soundcloud.com/player/?visual=false&amp', 'title=\"בסה by Arabit', 'https://clyp.it/kivhgumw/widget']\n",
      "['https://w.soundcloud.com/player/?visual=false&amp', 'title=\"בקאלה by Arabit']\n",
      "['https://w.soundcloud.com/player/?visual=false&amp', 'title=\"תסלל by Arabit', 'https://clyp.it/yfizh4bg/widget', 'https://clyp.it/xz0becqn/widget']\n",
      "['https://w.soundcloud.com/player/?visual=false&amp', 'title=\"אנע\\'רם by Arabit', 'https://clyp.it/5bcj0zyy/widget', 'https://clyp.it/q3apop3c/widget']\n"
     ]
    },
    {
     "name": "stderr",
     "output_type": "stream",
     "text": [
      " 27%|█████████████████████▎                                                          | 615/2302 [00:32<01:47, 15.71it/s]"
     ]
    },
    {
     "name": "stdout",
     "output_type": "stream",
     "text": [
      "['https://w.soundcloud.com/player/?visual=false&amp', 'title=\"פרד by Arabit']\n",
      "['https://soundcloud.com/listen2arabit/j3ikhkrmq2cc']\n",
      "['https://w.soundcloud.com/player/?visual=false&amp', 'title=\"תלטפ by Arabit', 'https://clyp.it/wx32hx45/widget']\n",
      "['https://w.soundcloud.com/player/?visual=false&amp', 'title=\"רעב by Arabit']\n",
      "['https://w.soundcloud.com/player/?visual=false&amp', 'title=\"דקה ע אלבאב by Arabit', 'https://clyp.it/0bmt5fh3/widget']\n"
     ]
    },
    {
     "name": "stderr",
     "output_type": "stream",
     "text": [
      " 27%|█████████████████████▌                                                          | 621/2302 [00:32<01:26, 19.36it/s]"
     ]
    },
    {
     "name": "stdout",
     "output_type": "stream",
     "text": [
      "['https://w.soundcloud.com/player/?visual=false&amp', 'title=\"מפקוד by Arabit', 'https://clyp.it/lhjcdcpn/widget']\n",
      "['https://w.soundcloud.com/player/?visual=false&amp', 'title=\"תע\\'אוש by Arabit']\n",
      "['https://soundcloud.com/listen2arabit/mydgkibbxopm']\n",
      "['https://soundcloud.com/listen2arabit/pwu1pcjuzplw', 'https://clyp.it/tnxof1be/widget']\n",
      "['https://w.soundcloud.com/player/?visual=false&amp', 'title=\"צ\\'ר by Arabit', 'https://clyp.it/oguoqnxt/widget']\n",
      "['https://soundcloud.com/listen2arabit/gi5hxvecordd', 'https://clyp.it/epotk3wu/widget']\n"
     ]
    },
    {
     "name": "stderr",
     "output_type": "stream",
     "text": [
      " 27%|█████████████████████▊                                                          | 627/2302 [00:32<01:12, 23.16it/s]"
     ]
    },
    {
     "name": "stdout",
     "output_type": "stream",
     "text": [
      "['https://w.soundcloud.com/player/?visual=false&amp', 'title=\"עדנאן by Arabit']\n",
      "['https://w.soundcloud.com/player/?visual=false&amp', 'title=\"קמאר by Arabit', 'https://clyp.it/j0um2k2o/widget']\n",
      "['https://w.soundcloud.com/player/?visual=false&amp', 'title=\"שחשט by Arabit']\n",
      "['https://w.soundcloud.com/player/?visual=false&amp', 'title=\"ע\\'באא\\' by Arabit', 'https://clyp.it/mo4qza2g/widget']\n",
      "['https://w.soundcloud.com/player/?visual=false&amp', 'title=\"בנטלון by Arabit']\n",
      "['https://w.soundcloud.com/player/?visual=false&amp', 'title=\"אללה יח\\'זיכ by Arabit']\n"
     ]
    },
    {
     "name": "stderr",
     "output_type": "stream",
     "text": [
      " 27%|█████████████████████▉                                                          | 633/2302 [00:33<01:10, 23.54it/s]"
     ]
    },
    {
     "name": "stdout",
     "output_type": "stream",
     "text": [
      "['https://w.soundcloud.com/player/?visual=false&amp', 'title=\"עברה by Arabit', 'https://clyp.it/py2bu52u/widget']\n",
      "['https://soundcloud.com/listen2arabit/cvhzkot2p0rg', 'https://w.soundcloud.com/player/?visual=false&amp', 'title=\"רג\\'א by Arabit', 'https://clyp.it/c1ximees/widget']\n",
      "['https://w.soundcloud.com/player/?visual=false&amp', 'title=\"חט ע ראסה by Arabit', 'https://clyp.it/isg2qtba/widget']\n",
      "['https://soundcloud.com/listen2arabit/iidu8t4fkk75', 'https://clyp.it/kfkbch4b/widget']\n",
      "['https://w.soundcloud.com/player/?visual=false&amp', 'title=\"ח\\'דמה by Arabit', 'https://clyp.it/f2rlnejw/widget']\n",
      "['https://w.soundcloud.com/player/?visual=false&amp', 'title=\"שהאמה by Arabit']\n"
     ]
    },
    {
     "name": "stderr",
     "output_type": "stream",
     "text": [
      " 28%|██████████████████████▏                                                         | 639/2302 [00:33<01:08, 24.33it/s]"
     ]
    },
    {
     "name": "stdout",
     "output_type": "stream",
     "text": [
      "['https://w.soundcloud.com/player/?visual=false&amp', 'title=\"מלעון by Arabit', 'https://clyp.it/ztzqo3ip/widget', 'https://clyp.it/t5gyaqxb/widget']\n",
      "['https://w.soundcloud.com/player/?visual=false&amp', 'title=\"מעסל by Arabit', 'https://clyp.it/ew21t0us/widget']\n",
      "['https://w.soundcloud.com/player/?visual=false&amp', 'title=\"ג\\'ודה by Arabit', 'https://clyp.it/mbkgmmp0/widget']\n",
      "['https://w.soundcloud.com/player/?visual=false&amp', 'title=\"הראוה by Arabit']\n",
      "['https://w.soundcloud.com/player/?visual=false&amp', 'title=\"ערבד by Arabit']\n",
      "['https://w.soundcloud.com/player/?visual=false&amp', 'title=\"פיצ\\'אן by Arabit']\n"
     ]
    },
    {
     "name": "stderr",
     "output_type": "stream",
     "text": [
      " 28%|██████████████████████▍                                                         | 645/2302 [00:33<01:07, 24.45it/s]"
     ]
    },
    {
     "name": "stdout",
     "output_type": "stream",
     "text": [
      "['https://w.soundcloud.com/player/?visual=false&amp', 'title=\"ע\\'נם by Arabit']\n",
      "['https://w.soundcloud.com/player/?visual=false&amp', 'title=\"באמיה by Arabit']\n",
      "['https://w.soundcloud.com/player/?visual=false&amp', 'title=\"נט by Arabit', 'https://clyp.it/b4b2rwto/widget']\n",
      "['https://w.soundcloud.com/player/?visual=false&amp', 'title=\"מחאפט\\'ה by Arabit']\n",
      "['https://w.soundcloud.com/player/?visual=false&amp', 'title=\"וג\\'יה by Arabit']\n"
     ]
    },
    {
     "name": "stderr",
     "output_type": "stream",
     "text": [
      " 28%|██████████████████████▌                                                         | 648/2302 [00:33<01:10, 23.42it/s]"
     ]
    },
    {
     "name": "stdout",
     "output_type": "stream",
     "text": [
      "['https://w.soundcloud.com/player/?visual=false&amp', 'title=\"מחרוקאת by Arabit', 'https://w.soundcloud.com/player/?visual=false&amp', 'title=\"חריק by Arabit']\n",
      "['https://w.soundcloud.com/player/?visual=false&amp', 'title=\"ח\\'טבה by Arabit']\n",
      "['https://w.soundcloud.com/player/?visual=false&amp', 'title=\"מיזאן אלחסנאת by Arabit', 'https://clyp.it/3zazuksj/widget']\n",
      "['https://w.soundcloud.com/player/?visual=false&amp', 'title=\"תות by Arabit']\n",
      "['https://w.soundcloud.com/player/?visual=false&amp', 'title=\"ע\\'רס by Arabit']\n"
     ]
    },
    {
     "name": "stderr",
     "output_type": "stream",
     "text": [
      " 28%|██████████████████████▋                                                         | 654/2302 [00:33<01:06, 24.95it/s]"
     ]
    },
    {
     "name": "stdout",
     "output_type": "stream",
     "text": [
      "['https://w.soundcloud.com/player/?visual=false&amp', 'title=\"ג\\'מעאת אלח\\'יר by Arabit']\n",
      "['https://w.soundcloud.com/player/?visual=false&amp', 'title=\"מוהוב by Arabit', 'https://clyp.it/kcdysale/widget']\n",
      "['https://soundcloud.com/listen2arabit/raqvlkgqguif']\n",
      "['https://w.soundcloud.com/player/?visual=false&amp', 'title=\"אנת קדהא וקדוד by Arabit']\n",
      "['https://w.soundcloud.com/player/?visual=false&amp', 'title=\"מהצ\\'ום by Arabit']\n",
      "['https://w.soundcloud.com/player/?visual=false&amp', 'title=\"ג\\'הנם by Arabit']\n"
     ]
    },
    {
     "name": "stderr",
     "output_type": "stream",
     "text": [
      " 29%|██████████████████████▉                                                         | 660/2302 [00:34<01:07, 24.49it/s]"
     ]
    },
    {
     "name": "stdout",
     "output_type": "stream",
     "text": [
      "['https://w.soundcloud.com/player/?visual=false&amp', 'title=\"ע\\'לאא אלמעישה by Arabit']\n",
      "['https://w.soundcloud.com/player/?visual=false&amp', 'title=\"הדיה by Arabit', 'https://clyp.it/ijlbpgze/widget']\n",
      "['https://w.soundcloud.com/player/?visual=false&amp', 'title=\"פג\\'אעה by Arabit', 'https://clyp.it/2cqttciy/widget']\n",
      "['https://w.soundcloud.com/player/?visual=false&amp', 'title=\"ואטא\\' by Arabit']\n",
      "['https://w.soundcloud.com/player/?visual=false&amp', 'title=\"שמאתה by Arabit']\n",
      "['https://w.soundcloud.com/player/?visual=false&amp', 'title=\"סקט by Arabit']\n"
     ]
    },
    {
     "name": "stderr",
     "output_type": "stream",
     "text": [
      " 29%|███████████████████████▏                                                        | 666/2302 [00:34<01:05, 25.04it/s]"
     ]
    },
    {
     "name": "stdout",
     "output_type": "stream",
     "text": [
      "['https://w.soundcloud.com/player/?visual=false&amp', 'title=\"בת\\' מבאשר by Arabit']\n",
      "['https://w.soundcloud.com/player/?visual=false&amp', 'title=\"מכורן by Arabit']\n",
      "['https://w.soundcloud.com/player/?visual=false&amp', 'title=\"שרטי by Arabit', 'https://w.soundcloud.com/player/?visual=false&amp', 'title=\"שרטה by Arabit']\n",
      "['https://w.soundcloud.com/player/?visual=false&amp', 'title=\"אסיל by Arabit']\n",
      "['https://w.soundcloud.com/player/?visual=false&amp', 'title=\"תרדד by Arabit']\n",
      "['https://soundcloud.com/listen2arabit/mwixlwmn4d0e']\n"
     ]
    },
    {
     "name": "stderr",
     "output_type": "stream",
     "text": [
      " 29%|███████████████████████▎                                                        | 672/2302 [00:34<01:06, 24.52it/s]"
     ]
    },
    {
     "name": "stdout",
     "output_type": "stream",
     "text": [
      "['https://soundcloud.com/listen2arabit/ye1hltewb8kp']\n",
      "['https://w.soundcloud.com/player/?visual=false&amp', 'title=\"ת׳לג׳ by Arabit']\n",
      "['https://w.soundcloud.com/player/?visual=false&amp', 'title=\"הג\\'ין by Arabit']\n",
      "['https://w.soundcloud.com/player/?visual=false&amp', 'title=\"לבנה by Arabit', 'https://clyp.it/vlpq01pm/widget']\n",
      "['https://w.soundcloud.com/player/?visual=false&amp', 'title=\"ח\\'סראן by Arabit']\n"
     ]
    },
    {
     "name": "stderr",
     "output_type": "stream",
     "text": [
      " 29%|███████████████████████▍                                                        | 675/2302 [00:34<01:06, 24.37it/s]"
     ]
    },
    {
     "name": "stdout",
     "output_type": "stream",
     "text": [
      "['https://w.soundcloud.com/player/?visual=false&amp', 'title=\"ואג\\'ב by Arabit']\n",
      "['https://w.soundcloud.com/player/?visual=false&amp', 'title=\"קטש by Arabit']\n",
      "['https://w.soundcloud.com/player/?visual=false&amp', 'title=\"קארב by Arabit', 'https://clyp.it/y2h0cpjz/widget']\n"
     ]
    },
    {
     "name": "stderr",
     "output_type": "stream",
     "text": [
      " 30%|███████████████████████▋                                                        | 681/2302 [00:35<02:40, 10.12it/s]"
     ]
    },
    {
     "name": "stdout",
     "output_type": "stream",
     "text": [
      "['https://w.soundcloud.com/player/?visual=false&amp', 'title=\"מלת\\'ם by Arabit']\n",
      "['https://w.soundcloud.com/player/?visual=false&amp', 'title=\"ראא\\'ד by Arabit']\n",
      "['https://w.soundcloud.com/player/?visual=false&amp', 'title=\"אדמאן by Arabit']\n",
      "['https://w.soundcloud.com/player/?visual=false&amp', 'title=\"ג\\'חש by Arabit']\n",
      "['https://soundcloud.com/listen2arabit/2wite2if1soq']\n",
      "['https://w.soundcloud.com/player/?visual=false&amp', 'title=\"ע\\'רבה by Arabit', 'https://clyp.it/f4jlrpox/widget', 'https://clyp.it/5d0d4jsk/widget', 'https://clyp.it/fyq04a03/widget']\n"
     ]
    },
    {
     "name": "stderr",
     "output_type": "stream",
     "text": [
      " 30%|███████████████████████▊                                                        | 687/2302 [00:36<01:52, 14.38it/s]"
     ]
    },
    {
     "name": "stdout",
     "output_type": "stream",
     "text": [
      "['https://w.soundcloud.com/player/?visual=false&amp', 'title=\"נצ\\'אל by Arabit']\n",
      "['https://w.soundcloud.com/player/?visual=false&amp', 'title=\"שריכ by Arabit', 'https://clyp.it/x50vzolh/widget', 'https://clyp.it/kgxuolc3/widget']\n",
      "['https://soundcloud.app.goo.gl/2W49P', 'https://w.soundcloud.com/player/?visual=false&amp', 'title=\"שהיד by Arabit', 'https://clyp.it/ptwwx3it/widget']\n",
      "['https://w.soundcloud.com/player/?visual=false&amp', 'title=\"רמז by Arabit']\n",
      "['https://w.soundcloud.com/player/?visual=false&amp', 'title=\"פהמאן by Arabit']\n"
     ]
    },
    {
     "name": "stderr",
     "output_type": "stream",
     "text": [
      " 30%|████████████████████████                                                        | 693/2302 [00:36<01:28, 18.26it/s]"
     ]
    },
    {
     "name": "stdout",
     "output_type": "stream",
     "text": [
      "['https://w.soundcloud.com/player/?visual=false&amp', 'title=\"חמאס by Arabit']\n",
      "['https://soundcloud.com/listen2arabit/nb7jopotdyxp']\n",
      "['https://soundcloud.app.goo.gl/8gJCP?fbclid=IwAR2cL-pqcl_00iglv3uKcFgMuJOTTxm7hRnRJ-jVNPKrGCSPQzAf1VjaigA', 'https://soundcloud.app.goo.gl/8gJCP']\n",
      "['https://soundcloud.app.goo.gl/ZVxT5?fbclid=IwAR0CQLzkmR3LBi4DwWRtPGQaXC4AoUcV_sDbc2aifJF0O_GZQiVHhPbP28o', 'https://soundcloud.app.goo.gl/ZVxT5', 'https://clyp.it/4kk3rubc/widget']\n",
      "['https://w.soundcloud.com/player/?visual=false&amp', 'title=\"סאפל by Arabit']\n",
      "['https://w.soundcloud.com/player/?visual=false&amp', 'title=\"ח׳לצת אלסנה by Arabit', 'https://clyp.it/cio13zrh/widget']\n"
     ]
    },
    {
     "name": "stderr",
     "output_type": "stream",
     "text": [
      " 30%|████████████████████████▏                                                       | 696/2302 [00:36<01:22, 19.47it/s]"
     ]
    },
    {
     "name": "stdout",
     "output_type": "stream",
     "text": [
      "['https://w.soundcloud.com/player/?visual=false&amp', 'title=\"פלפל by Arabit']\n",
      "['https://w.soundcloud.com/player/?visual=false&amp', 'title=\"תג׳נב by Arabit', 'https://clyp.it/1f24jwnp/widget']\n",
      "['https://soundcloud.com/listen2arabit/m7gq8sndnzxb', 'https://clyp.it/m1ydecdr/widget']\n",
      "['https://w.soundcloud.com/player/?visual=false&amp', 'title=\"אחתאג׳ by Arabit', 'https://w.soundcloud.com/player/?visual=false&amp', 'title=\"חאג\\'ה by Arabit']\n",
      "['https://w.soundcloud.com/player/?visual=false&amp', 'title=\"תכחל by Arabit', 'https://clyp.it/ikn0qy1i/widget', 'https://clyp.it/vxwwpunc/widget']\n"
     ]
    },
    {
     "name": "stderr",
     "output_type": "stream",
     "text": [
      " 30%|████████████████████████▍                                                       | 702/2302 [00:36<01:14, 21.57it/s]"
     ]
    },
    {
     "name": "stdout",
     "output_type": "stream",
     "text": [
      "['https://w.soundcloud.com/player/?visual=false&amp', 'title=\"שוא by Arabit']\n",
      "['https://w.soundcloud.com/player/?visual=false&amp', 'title=\"ח׳ימה by Arabit', 'https://clyp.it/ga4abkhd/widget', 'https://clyp.it/lsdmdabd/widget']\n",
      "['https://w.soundcloud.com/player/?visual=false&amp', 'title=\"פאא׳ד by Arabit']\n",
      "['https://w.soundcloud.com/player/?visual=false&amp', 'title=\"אח׳לאא׳ סביל by Arabit', 'https://clyp.it/rcixns4k/widget', 'https://clyp.it/553vrsne/widget']\n",
      "['https://w.soundcloud.com/player/?visual=false&amp', 'title=\"ג׳יל by Arabit']\n",
      "['https://w.soundcloud.com/player/?visual=false&amp', 'title=\"בני אדם by Arabit']\n"
     ]
    },
    {
     "name": "stderr",
     "output_type": "stream",
     "text": [
      " 31%|████████████████████████▌                                                       | 708/2302 [00:36<01:10, 22.55it/s]"
     ]
    },
    {
     "name": "stdout",
     "output_type": "stream",
     "text": [
      "['https://w.soundcloud.com/player/?visual=false&amp', 'title=\"אעתד׳ר by Arabit', 'https://clyp.it/u5u0tnd5/widget']\n",
      "['https://w.soundcloud.com/player/?visual=false&amp', 'title=\"ט׳אלם by Arabit', 'https://clyp.it/lcjcbpqe/widget']\n",
      "['https://w.soundcloud.com/player/?visual=false&amp', 'title=\"ג׳נינה by Arabit']\n",
      "['https://w.soundcloud.com/player/?visual=false&amp', 'title=\"עמלה by Arabit']\n",
      "['https://w.soundcloud.com/player/?visual=false&amp', 'title=\"רז by Arabit']\n"
     ]
    },
    {
     "name": "stderr",
     "output_type": "stream",
     "text": [
      " 31%|████████████████████████▊                                                       | 714/2302 [00:37<01:08, 23.11it/s]"
     ]
    },
    {
     "name": "stdout",
     "output_type": "stream",
     "text": [
      "['https://w.soundcloud.com/player/?visual=false&amp', 'title=\"ותר by Arabit']\n",
      "['https://w.soundcloud.com/player/?visual=false&amp', 'title=\"ג׳רו by Arabit']\n",
      "['https://w.soundcloud.com/player/?visual=false&amp', 'title=\"אצבע by Arabit']\n",
      "['https://w.soundcloud.com/player/?visual=false&amp', 'title=\"וסאא׳ל אלאעלאם by Arabit']\n",
      "['https://soundcloud.com/listen2arabit/f8m9kfsab188']\n",
      "['https://w.soundcloud.com/player/?visual=false&amp', 'title=\"סאב by Arabit']\n"
     ]
    },
    {
     "name": "stderr",
     "output_type": "stream",
     "text": [
      " 31%|█████████████████████████                                                       | 720/2302 [00:37<01:08, 23.18it/s]"
     ]
    },
    {
     "name": "stdout",
     "output_type": "stream",
     "text": [
      "['https://w.soundcloud.com/player/?visual=false&amp', 'title=\"ח׳ט אחמר by Arabit', 'https://clyp.it/ja5uv0kq/widget', 'https://clyp.it/eoh3sjoq/widget', 'https://clyp.it/ovqy4acw/widget']\n",
      "['https://w.soundcloud.com/player/?visual=false&amp', 'title=\"עואטף by Arabit']\n",
      "['https://w.soundcloud.com/player/?visual=false&amp', 'title=\"חכי שרוי ע׳רוי by Arabit']\n",
      "['https://w.soundcloud.com/player/?visual=false&amp', 'title=\"פלתאן אמני by Arabit', 'https://clyp.it/mpikhkti/widget']\n",
      "['https://w.soundcloud.com/player/?visual=false&amp', 'title=\"ח\\'טה by Arabit']\n",
      "['https://w.soundcloud.com/player/?visual=false&amp', 'title=\"אנהיאר by Arabit']\n"
     ]
    },
    {
     "name": "stderr",
     "output_type": "stream",
     "text": [
      " 32%|█████████████████████████▏                                                      | 726/2302 [00:37<01:01, 25.48it/s]"
     ]
    },
    {
     "name": "stdout",
     "output_type": "stream",
     "text": [
      "['https://w.soundcloud.com/player/?visual=false&amp', 'title=\"אנתקאם by Arabit']\n",
      "['https://w.soundcloud.com/player/?visual=false&amp', 'title=\"פאח\\'ר by Arabit']\n",
      "['https://w.soundcloud.com/player/?visual=false&amp', 'title=\"אח\\'תרע by Arabit']\n",
      "['https://w.soundcloud.com/player/?visual=false&amp', 'title=\"טפרה by Arabit', 'https://clyp.it/lowuhbdu/widget']\n",
      "['https://w.soundcloud.com/player/?visual=false&amp', 'title=\"קימה by Arabit']\n",
      "['https://w.soundcloud.com/player/?visual=false&amp', 'title=\"שבכת כהרבאא\\' by Arabit', 'https://clyp.it/ydy5qyvq/widget']\n"
     ]
    },
    {
     "name": "stderr",
     "output_type": "stream",
     "text": [
      " 32%|█████████████████████████▍                                                      | 732/2302 [00:37<01:00, 25.74it/s]"
     ]
    },
    {
     "name": "stdout",
     "output_type": "stream",
     "text": [
      "[]\n",
      "['https://w.soundcloud.com/player/?visual=false&amp', 'title=\"ח\\'ראב ודמאר by Arabit']\n",
      "['https://w.soundcloud.com/player/?visual=false&amp', 'title=\"אח׳ד׳ אלחיטה ואלחד׳ר by Arabit', 'https://clyp.it/rvbefwms/widget', 'https://clyp.it/tuai3njv/widget']\n",
      "['https://w.soundcloud.com/player/?visual=false&amp', 'title=\"בקרה חלוב by Arabit']\n",
      "['https://w.soundcloud.com/player/?visual=false&amp', 'title=\"הדנה by Arabit', 'https://clyp.it/fbmdwmbf/widget']\n",
      "['https://w.soundcloud.com/player/?visual=false&amp', 'title=\"סמאד by Arabit']\n"
     ]
    },
    {
     "name": "stderr",
     "output_type": "stream",
     "text": [
      " 32%|█████████████████████████▋                                                      | 738/2302 [00:38<01:02, 24.90it/s]"
     ]
    },
    {
     "name": "stdout",
     "output_type": "stream",
     "text": [
      "['https://w.soundcloud.com/player/?visual=false&amp', 'title=\"ח\\'טר by Arabit', 'https://clyp.it/gvqgscbe/widget']\n",
      "['https://w.soundcloud.com/player/?visual=false&amp', 'title=\"עצר by Arabit']\n",
      "['https://w.soundcloud.com/player/?visual=false&amp', 'title=\"מעג\\'זה by Arabit', 'https://clyp.it/cwvre1hh/widget']\n",
      "['https://w.soundcloud.com/player/?visual=false&amp', 'title=\"קלק by Arabit', 'https://clyp.it/pk3nnxle/widget']\n",
      "['https://w.soundcloud.com/player/?visual=false&amp', 'title=\"ראדע by Arabit']\n"
     ]
    },
    {
     "name": "stderr",
     "output_type": "stream",
     "text": [
      " 32%|█████████████████████████▊                                                      | 741/2302 [00:38<01:05, 23.68it/s]"
     ]
    },
    {
     "name": "stdout",
     "output_type": "stream",
     "text": [
      "['https://w.soundcloud.com/player/?visual=false&amp', 'title=\"תראב by Arabit', 'https://clyp.it/s2n23hqw/widget']\n",
      "['https://w.soundcloud.com/player/?visual=false&amp', 'title=\"ע\\'באר by Arabit']\n",
      "['https://w.soundcloud.com/player/?visual=false&amp', 'title=\"חטהא חלקה פי דאנכ by Arabit']\n",
      "['https://w.soundcloud.com/player/?visual=false&amp', 'title=\"מכת׳ף by Arabit']\n",
      "['https://w.soundcloud.com/player/?visual=false&amp', 'title=\"תעד׳ב by Arabit']\n"
     ]
    },
    {
     "name": "stderr",
     "output_type": "stream",
     "text": [
      " 32%|█████████████████████████▉                                                      | 747/2302 [00:38<01:05, 23.83it/s]"
     ]
    },
    {
     "name": "stdout",
     "output_type": "stream",
     "text": [
      "['https://w.soundcloud.com/player/?visual=false&amp', 'title=\"תלה by Arabit']\n",
      "['https://w.soundcloud.com/player/?visual=false&amp', 'title=\"צפ אלסיארה by Arabit', 'https://clyp.it/dppiww32/widget']\n",
      "['https://w.soundcloud.com/player/?visual=false&amp', 'title=\"ביאן by Arabit']\n",
      "['https://w.soundcloud.com/player/?visual=false&amp', 'title=\"מליאן by Arabit']\n",
      "['https://w.soundcloud.com/player/?visual=false&amp', 'title=\"חדוד by Arabit', 'https://clyp.it/5dhzrccd/widget', 'https://clyp.it/sbruca4p/widget']\n"
     ]
    },
    {
     "name": "stderr",
     "output_type": "stream",
     "text": [
      " 33%|██████████████████████████                                                      | 750/2302 [00:38<01:03, 24.34it/s]"
     ]
    },
    {
     "name": "stdout",
     "output_type": "stream",
     "text": [
      "['https://w.soundcloud.com/player/?visual=false&amp', 'title=\"מנשור by Arabit', 'https://clyp.it/ntvdsjij/widget']\n",
      "['https://w.soundcloud.com/player/?visual=false&amp', 'title=\"שטרנג׳ by Arabit']\n"
     ]
    },
    {
     "name": "stderr",
     "output_type": "stream",
     "text": [
      " 33%|██████████████████████████▏                                                     | 753/2302 [00:39<03:22,  7.66it/s]"
     ]
    },
    {
     "name": "stdout",
     "output_type": "stream",
     "text": [
      "['https://w.soundcloud.com/player/?visual=false&amp', 'title=\"חרף by Arabit']\n",
      "['https://w.soundcloud.com/player/?visual=false&amp', 'title=\"רואק by Arabit', 'https://clyp.it/wctcb15k/widget']\n",
      "['https://w.soundcloud.com/player/?visual=false&amp', 'title=\"עשירה by Arabit']\n",
      "['https://w.soundcloud.com/player/?visual=false&amp', 'title=\"לבוס by Arabit']\n",
      "['https://w.soundcloud.com/player/?visual=false&amp', 'title=\"ספר by Arabit']\n"
     ]
    },
    {
     "name": "stderr",
     "output_type": "stream",
     "text": [
      " 33%|██████████████████████████▍                                                     | 759/2302 [00:39<02:11, 11.75it/s]"
     ]
    },
    {
     "name": "stdout",
     "output_type": "stream",
     "text": [
      "['https://w.soundcloud.com/player/?visual=false&amp', 'title=\"בנת רג׳אל by Arabit', 'https://clyp.it/4uxgzkvq/widget']\n",
      "['https://w.soundcloud.com/player/?visual=false&amp', 'title=\"אסתיאא׳ by Arabit']\n",
      "['https://w.soundcloud.com/player/?visual=false&amp', 'title=\"מסתורה by Arabit', 'https://clyp.it/l5shl5bu/widget', 'https://clyp.it/spjd0atv/widget']\n",
      "['https://w.soundcloud.com/player/?visual=false&amp', 'title=\"מכידה by Arabit']\n",
      "['https://w.soundcloud.com/player/?visual=false&amp', 'title=\"אכתט׳אט׳ by Arabit']\n",
      "['https://w.soundcloud.com/player/?visual=false&amp', 'title=\"ח\\'נאקה by Arabit']\n"
     ]
    },
    {
     "name": "stderr",
     "output_type": "stream",
     "text": [
      " 33%|██████████████████████████▌                                                     | 765/2302 [00:40<01:34, 16.29it/s]"
     ]
    },
    {
     "name": "stdout",
     "output_type": "stream",
     "text": [
      "['https://w.soundcloud.com/player/?visual=false&amp', 'title=\"שמס by Arabit', 'https://clyp.it/r32cffhh/widget']\n",
      "['https://w.soundcloud.com/player/?visual=false&amp', 'title=\"נצאב by Arabit']\n",
      "['https://w.soundcloud.com/player/?visual=false&amp', 'title=\"שר by Arabit', 'https://clyp.it/h2s1s25r/widget', 'https://clyp.it/renkzgwh/widget']\n",
      "['https://w.soundcloud.com/player/?visual=false&amp', 'title=\"חליג׳ by Arabit']\n",
      "['https://w.soundcloud.com/player/?visual=false&amp', 'title=\"צ׳ריבה by Arabit', 'https://clyp.it/1stcsjpl/widget']\n",
      "['https://w.soundcloud.com/player/?visual=false&amp', 'title=\"שריפ by Arabit']\n"
     ]
    },
    {
     "name": "stderr",
     "output_type": "stream",
     "text": [
      " 33%|██████████████████████████▊                                                     | 771/2302 [00:40<01:16, 20.00it/s]"
     ]
    },
    {
     "name": "stdout",
     "output_type": "stream",
     "text": [
      "['https://w.soundcloud.com/player/?visual=false&amp', 'title=\"סמאק by Arabit']\n",
      "['https://w.soundcloud.com/player/?visual=false&amp', 'title=\"ירע׳ול by Arabit']\n",
      "['https://w.soundcloud.com/player/?visual=false&amp', 'title=\"אלוצ\\'ע אלסיאסי by Arabit']\n",
      "['https://w.soundcloud.com/player/?visual=false&amp', 'title=\"הדם by Arabit']\n",
      "['https://soundcloud.com/listen2arabit/zno9bhlrfsay', 'https://clyp.it/wvgliqez/widget']\n",
      "['https://w.soundcloud.com/player/?visual=false&amp', 'title=\"מעאש by Arabit', 'https://clyp.it/olq2to55/widget']\n"
     ]
    },
    {
     "name": "stderr",
     "output_type": "stream",
     "text": [
      " 34%|███████████████████████████                                                     | 777/2302 [00:40<01:09, 21.83it/s]"
     ]
    },
    {
     "name": "stdout",
     "output_type": "stream",
     "text": [
      "['https://w.soundcloud.com/player/?visual=false&amp', 'title=\"טלאק by Arabit']\n",
      "['https://w.soundcloud.com/player/?visual=false&amp', 'title=\"מעאנאה by Arabit', 'https://clyp.it/xi1csvuq/widget']\n",
      "['https://w.soundcloud.com/player/?visual=false&amp', 'title=\"סתי by Arabit']\n",
      "['https://w.soundcloud.com/player/?visual=false&amp', 'title=\"נפע by Arabit', 'https://clyp.it/ruil5nxh/widget']\n",
      "['https://w.soundcloud.com/player/?visual=false&amp', 'title=\"תקוא by Arabit']\n"
     ]
    },
    {
     "name": "stderr",
     "output_type": "stream",
     "text": [
      " 34%|███████████████████████████▏                                                    | 783/2302 [00:40<01:01, 24.80it/s]"
     ]
    },
    {
     "name": "stdout",
     "output_type": "stream",
     "text": [
      "['https://w.soundcloud.com/player/?visual=false&amp', 'title=\"קטעה by Arabit']\n",
      "['https://w.soundcloud.com/player/?visual=false&amp', 'title=\"מרכז by Arabit']\n",
      "['https://w.soundcloud.com/player/?visual=false&amp', 'title=\"ע׳דה by Arabit']\n",
      "['https://w.soundcloud.com/player/?visual=false&amp', 'title=\"פט׳יע by Arabit', 'https://clyp.it/njvjal05/widget']\n",
      "['https://w.soundcloud.com/player/?visual=false&amp', 'title=\"מנבה by Arabit']\n",
      "['https://w.soundcloud.com/player/?visual=false&amp', 'title=\"ג׳רדון by Arabit']\n",
      "['https://w.soundcloud.com/player/?visual=false&amp', 'title=\"שאמח׳ by Arabit']\n"
     ]
    },
    {
     "name": "stderr",
     "output_type": "stream",
     "text": [
      " 34%|███████████████████████████▍                                                    | 789/2302 [00:41<00:58, 25.79it/s]"
     ]
    },
    {
     "name": "stdout",
     "output_type": "stream",
     "text": [
      "['https://w.soundcloud.com/player/?visual=false&amp', 'title=\"שג׳רה by Arabit', 'https://clyp.it/obzecmww/widget']\n",
      "['https://w.soundcloud.com/player/?visual=false&amp', 'title=\"רקאצה by Arabit']\n",
      "['https://w.soundcloud.com/player/?visual=false&amp', 'title=\"ג׳סר by Arabit', 'https://clyp.it/ywayn2pa/widget']\n",
      "['https://w.soundcloud.com/player/?visual=false&amp', 'title=\"ח׳דע by Arabit']\n",
      "['https://w.soundcloud.com/player/?visual=false&amp', 'title=\"קראר by Arabit', 'https://clyp.it/2dhmwxcy/widget']\n",
      "['https://w.soundcloud.com/player/?visual=false&amp', 'title=\"רציד by Arabit', 'https://clyp.it/ouy4ul5w/widget']\n"
     ]
    },
    {
     "name": "stderr",
     "output_type": "stream",
     "text": [
      " 35%|███████████████████████████▋                                                    | 795/2302 [00:41<00:59, 25.18it/s]"
     ]
    },
    {
     "name": "stdout",
     "output_type": "stream",
     "text": [
      "['https://w.soundcloud.com/player/?visual=false&amp', 'title=\"עצאבה by Arabit', 'https://clyp.it/0up0ibti/widget']\n",
      "['https://w.soundcloud.com/player/?visual=false&amp', 'title=\"נוע by Arabit']\n",
      "['https://w.soundcloud.com/player/?visual=false&amp', 'title=\"בח׳יל by Arabit']\n",
      "['https://w.soundcloud.com/player/?visual=false&amp', 'title=\"כמשה by Arabit']\n",
      "['https://soundcloud.com/listen2arabit/2wmmkkf84pv0', 'https://clyp.it/r2hsjp3h/widget', 'https://clyp.it/hu3wwvpb/widget']\n"
     ]
    },
    {
     "name": "stderr",
     "output_type": "stream",
     "text": [
      " 35%|███████████████████████████▊                                                    | 801/2302 [00:41<01:00, 24.82it/s]"
     ]
    },
    {
     "name": "stdout",
     "output_type": "stream",
     "text": [
      "['https://w.soundcloud.com/player/?visual=false&amp', 'title=\"סחר by Arabit', 'https://clyp.it/3jmod5xf/widget']\n",
      "['https://soundcloud.com/listen2arabit/frm1elg3pvs9']\n",
      "['https://soundcloud.com/listen2arabit/84bng6bcpxnt', 'https://clyp.it/wl1vbrtr/widget']\n",
      "['https://soundcloud.com/listen2arabit/wcrzqynt7wto']\n",
      "['https://soundcloud.com/listen2arabit/xd6l5an2xbzg', 'https://clyp.it/2dnddkgp/widget']\n",
      "['https://soundcloud.com/listen2arabit/wxehyzaaz4lr', 'https://clyp.it/uq5i4r2i/widget']\n"
     ]
    },
    {
     "name": "stderr",
     "output_type": "stream",
     "text": [
      " 35%|████████████████████████████                                                    | 807/2302 [00:41<01:00, 24.83it/s]"
     ]
    },
    {
     "name": "stdout",
     "output_type": "stream",
     "text": [
      "['https://soundcloud.com/listen2arabit/jgmiupabm1ie', 'https://clyp.it/jx4nf5wm/widget']\n",
      "['https://soundcloud.com/listen2arabit/utoxtkh6xylw']\n",
      "['https://soundcloud.com/listen2arabit/nhlrocqn2tib']\n",
      "[]\n",
      "['https://soundcloud.com/listen2arabit/nk96a4hi1ayj']\n",
      "['https://soundcloud.com/listen2arabit/9b4t6fbjbtmu']\n"
     ]
    },
    {
     "name": "stderr",
     "output_type": "stream",
     "text": [
      " 35%|████████████████████████████▎                                                   | 813/2302 [00:42<00:59, 25.16it/s]"
     ]
    },
    {
     "name": "stdout",
     "output_type": "stream",
     "text": [
      "['https://soundcloud.com/listen2arabit/lvspjurdxuf6']\n",
      "['https://soundcloud.com/listen2arabit/uov4ccezq2ak', 'https://clyp.it/cqic23wf/widget']\n",
      "['https://soundcloud.com/listen2arabit/azhvppqdrp5z']\n",
      "['https://soundcloud.com/listen2arabit/btydmq4fn0ym']\n",
      "['https://w.soundcloud.com/player/?visual=false&amp', 'title=\"מלאהי by Arabit']\n",
      "['https://w.soundcloud.com/player/?visual=false&amp', 'title=\"מזרכש by Arabit']\n"
     ]
    },
    {
     "name": "stderr",
     "output_type": "stream",
     "text": [
      " 36%|████████████████████████████▍                                                   | 819/2302 [00:42<00:58, 25.22it/s]"
     ]
    },
    {
     "name": "stdout",
     "output_type": "stream",
     "text": [
      "['https://w.soundcloud.com/player/?visual=false&amp', 'title=\"עמיל by Arabit', 'https://clyp.it/sk3hskiw/widget', 'https://clyp.it/gathbh40/widget']\n",
      "['https://soundcloud.com/listen2arabit/ots55rgmandr', 'https://clyp.it/0hn1nxn1/widget', 'https://clyp.it/02pw30ck/widget']\n",
      "['https://w.soundcloud.com/player/?visual=false&amp', 'title=\"ת׳קה by Arabit', 'https://clyp.it/luzmglpc/widget']\n",
      "['https://w.soundcloud.com/player/?visual=false&amp', 'title=\"מתט׳אהרין by Arabit']\n",
      "['https://w.soundcloud.com/player/?visual=false&amp', 'title=\"טאלע by Arabit']\n",
      "['https://w.soundcloud.com/player/?visual=false&amp', 'title=\"באסל by Arabit', 'https://clyp.it/wzqpuc4o/widget']\n"
     ]
    },
    {
     "name": "stderr",
     "output_type": "stream",
     "text": [
      " 36%|████████████████████████████▌                                                   | 822/2302 [00:42<00:58, 25.49it/s]"
     ]
    },
    {
     "name": "stdout",
     "output_type": "stream",
     "text": [
      "['https://w.soundcloud.com/player/?visual=false&amp', 'title=\"טב by Arabit']\n",
      "['https://w.soundcloud.com/player/?visual=false&amp', 'title=\"זואל by Arabit']\n",
      "['https://w.soundcloud.com/player/?visual=false&amp', 'title=\"בקעה by Arabit']\n",
      "['https://w.soundcloud.com/player/?visual=false&amp', 'title=\"מלאבס by Arabit']\n"
     ]
    },
    {
     "name": "stderr",
     "output_type": "stream",
     "text": [
      " 36%|████████████████████████████▊                                                   | 828/2302 [00:43<02:29,  9.84it/s]"
     ]
    },
    {
     "name": "stdout",
     "output_type": "stream",
     "text": [
      "['https://w.soundcloud.com/player/?visual=false&amp', 'title=\"הרוב by Arabit', 'https://soundcloud.com/listen2arabit/nasnp20uaamo']\n",
      "['https://w.soundcloud.com/player/?visual=false&amp', 'title=\"עג׳אל by Arabit', 'https://clyp.it/bw5ppeob/widget']\n",
      "['https://w.soundcloud.com/player/?visual=false&amp', 'title=\"טאלב by Arabit']\n",
      "['https://w.soundcloud.com/player/?visual=false&amp', 'title=\"הלהל by Arabit', 'https://clyp.it/15fz1kfx/widget']\n",
      "['https://w.soundcloud.com/player/?visual=false&amp', 'title=\"ארצ׳א by Arabit', 'https://clyp.it/v4yhcbif/widget', 'https://clyp.it/y3kx2xeo/widget']\n",
      "['https://w.soundcloud.com/player/?visual=false&amp', 'title=\"וכאלה by Arabit', 'https://clyp.it/gjgpoekr/widget']\n"
     ]
    },
    {
     "name": "stderr",
     "output_type": "stream",
     "text": [
      " 36%|████████████████████████████▉                                                   | 834/2302 [00:43<01:42, 14.26it/s]"
     ]
    },
    {
     "name": "stdout",
     "output_type": "stream",
     "text": [
      "['https://w.soundcloud.com/player/?visual=false&amp', 'title=\"שדה by Arabit']\n",
      "['https://w.soundcloud.com/player/?visual=false&amp', 'title=\"קואת ח׳אצה by Arabit', 'https://clyp.it/1ug0vmas/widget', 'https://clyp.it/vqzprcdy/widget']\n",
      "['https://w.soundcloud.com/player/?visual=false&amp', 'title=\"קצ׳באן by Arabit']\n",
      "['https://w.soundcloud.com/player/?visual=false&amp', 'title=\"קטן by Arabit']\n",
      "['https://w.soundcloud.com/player/?visual=false&amp', 'title=\"מתאסף by Arabit']\n",
      "['https://w.soundcloud.com/player/?visual=false&amp', 'title=\"ע׳מיאן by Arabit', 'https://clyp.it/vm0hi0ob/widget']\n"
     ]
    },
    {
     "name": "stderr",
     "output_type": "stream",
     "text": [
      " 36%|█████████████████████████████▏                                                  | 840/2302 [00:44<01:24, 17.39it/s]"
     ]
    },
    {
     "name": "stdout",
     "output_type": "stream",
     "text": [
      "['https://w.soundcloud.com/player/?visual=false&amp', 'title=\"חאדת׳ by Arabit', 'https://clyp.it/3cszknvy/widget', 'https://clyp.it/ibnbiwou/widget']\n",
      "['https://w.soundcloud.com/player/?visual=false&amp', 'title=\"זטמה by Arabit']\n",
      "['https://w.soundcloud.com/player/?visual=false&amp', 'title=\"מצ׳יפת טיראן by Arabit']\n",
      "['https://w.soundcloud.com/player/?visual=false&amp', 'title=\"איהם by Arabit']\n",
      "['https://w.soundcloud.com/player/?visual=false&amp', 'title=\"חזן by Arabit']\n"
     ]
    },
    {
     "name": "stderr",
     "output_type": "stream",
     "text": [
      " 37%|█████████████████████████████▍                                                  | 846/2302 [00:44<01:10, 20.71it/s]"
     ]
    },
    {
     "name": "stdout",
     "output_type": "stream",
     "text": [
      "['https://w.soundcloud.com/player/?visual=false&amp', 'title=\"אעתכאפ by Arabit']\n",
      "['https://w.soundcloud.com/player/?visual=false&amp', 'title=\"סבחאן אללה by Arabit']\n",
      "['https://w.soundcloud.com/player/?visual=false&amp', 'title=\"אתפאק by Arabit']\n",
      "['https://w.soundcloud.com/player/?visual=false&amp', 'title=\"דושה by Arabit']\n",
      "['https://w.soundcloud.com/player/?visual=false&amp', 'title=\"דמעה by Arabit']\n",
      "['https://w.soundcloud.com/player/?visual=false&amp', 'title=\"ופאה by Arabit', 'https://clyp.it/hxi2ifl2/widget']\n"
     ]
    },
    {
     "name": "stderr",
     "output_type": "stream",
     "text": [
      " 37%|█████████████████████████████▌                                                  | 852/2302 [00:44<01:03, 22.77it/s]"
     ]
    },
    {
     "name": "stdout",
     "output_type": "stream",
     "text": [
      "['https://w.soundcloud.com/player/?visual=false&amp', 'title=\"אד׳א by Arabit']\n",
      "['https://w.soundcloud.com/player/?visual=false&amp', 'title=\"ברמיל by Arabit']\n",
      "['https://w.soundcloud.com/player/?visual=false&amp', 'title=\"סאחה by Arabit', 'https://clyp.it/4n2z443a/widget']\n",
      "['https://w.soundcloud.com/player/?visual=false&amp', 'title=\"תח׳וית by Arabit', 'https://clyp.it/kz5fusco/widget']\n",
      "['https://w.soundcloud.com/player/?visual=false&amp', 'title=\"צאבון by Arabit']\n",
      "['https://w.soundcloud.com/player/?visual=false&amp', 'title=\"פכר by Arabit', 'https://w.soundcloud.com/player/?visual=false&amp', 'title=\"פכרה by Arabit']\n"
     ]
    },
    {
     "name": "stderr",
     "output_type": "stream",
     "text": [
      " 37%|█████████████████████████████▊                                                  | 858/2302 [00:44<01:00, 23.89it/s]"
     ]
    },
    {
     "name": "stdout",
     "output_type": "stream",
     "text": [
      "['https://w.soundcloud.com/player/?visual=false&amp', 'title=\"פחץ by Arabit']\n",
      "['https://w.soundcloud.com/player/?visual=false&amp', 'title=\"ג׳אסוס by Arabit']\n",
      "['https://w.soundcloud.com/player/?visual=false&amp', 'title=\"ת׳אר by Arabit']\n",
      "['https://w.soundcloud.com/player/?visual=false&amp', 'title=\"שוכה by Arabit', 'https://clyp.it/yt3iq4kj/widget', 'https://clyp.it/33dpz2xp/widget']\n",
      "['https://soundcloud.com/listen2arabit/3ryy9hwlwwcm', 'https://clyp.it/plb4me3w/widget']\n",
      "['https://w.soundcloud.com/player/?visual=false&amp', 'title=\"ג׳אמח by Arabit']\n"
     ]
    },
    {
     "name": "stderr",
     "output_type": "stream",
     "text": [
      " 38%|██████████████████████████████                                                  | 864/2302 [00:44<00:56, 25.36it/s]"
     ]
    },
    {
     "name": "stdout",
     "output_type": "stream",
     "text": [
      "['https://w.soundcloud.com/player/?visual=false&amp', 'title=\"דרע by Arabit']\n",
      "['https://w.soundcloud.com/player/?visual=false&amp', 'title=\"פסאד by Arabit']\n",
      "['https://w.soundcloud.com/player/?visual=false&amp', 'title=\"להג\\'ה by Arabit']\n",
      "['https://w.soundcloud.com/player/?visual=false&amp', 'title=\"צ\\'ג\\'ה by Arabit']\n",
      "['https://w.soundcloud.com/player/?visual=false&amp', 'title=\"ח\\'צ\\'רי by Arabit', 'https://clyp.it/lbyouudy/widget']\n",
      "['https://soundcloud.com/listen2arabit/g6no50tcgzuw']\n"
     ]
    },
    {
     "name": "stderr",
     "output_type": "stream",
     "text": [
      " 38%|██████████████████████████████▏                                                 | 870/2302 [00:45<00:54, 26.29it/s]"
     ]
    },
    {
     "name": "stdout",
     "output_type": "stream",
     "text": [
      "['https://w.soundcloud.com/player/?visual=false&amp', 'title=\"תח\\'ת by Arabit']\n",
      "['https://w.soundcloud.com/player/?visual=false&amp', 'title=\"תפוק by Arabit']\n",
      "['https://w.soundcloud.com/player/?visual=false&amp', 'title=\"פאתורה by Arabit']\n",
      "['https://w.soundcloud.com/player/?visual=false&amp', 'title=\"סבאק by Arabit']\n",
      "['https://w.soundcloud.com/player/?visual=false&amp', 'title=\"בנדורה by Arabit', 'https://clyp.it/bdvdtynn/widget']\n",
      "['https://w.soundcloud.com/player/?visual=false&amp', 'title=\"ביאה by Arabit']\n"
     ]
    },
    {
     "name": "stderr",
     "output_type": "stream",
     "text": [
      " 38%|██████████████████████████████▍                                                 | 876/2302 [00:45<00:54, 26.01it/s]"
     ]
    },
    {
     "name": "stdout",
     "output_type": "stream",
     "text": [
      "['https://w.soundcloud.com/player/?visual=false&amp', 'title=\"אבד by Arabit', 'https://clyp.it/sx1c24h0/widget']\n",
      "['https://w.soundcloud.com/player/?visual=false&amp', 'title=\"שלאלית by Arabit']\n",
      "['https://w.soundcloud.com/player/?visual=false&amp', 'title=\"בסיט by Arabit', 'https://clyp.it/olq2to55/widget', 'https://clyp.it/gdrxz1c1/widget', 'https://clyp.it/vuaofcua/widget']\n",
      "['https://w.soundcloud.com/player/?visual=false&amp', 'title=\"לאזם by Arabit']\n",
      "['https://soundcloud.com/listen2arabit/v0aamy4dfbop']\n",
      "['https://w.soundcloud.com/player/?visual=false&amp', 'title=\"צחי by Arabit']\n"
     ]
    },
    {
     "name": "stderr",
     "output_type": "stream",
     "text": [
      " 38%|██████████████████████████████▋                                                 | 882/2302 [00:45<00:54, 26.26it/s]"
     ]
    },
    {
     "name": "stdout",
     "output_type": "stream",
     "text": [
      "['https://w.soundcloud.com/player/?visual=false&amp', 'title=\"נסב by Arabit']\n",
      "['https://w.soundcloud.com/player/?visual=false&amp', 'title=\"ח׳יאר by Arabit']\n",
      "['https://w.soundcloud.com/player/?visual=false&amp', 'title=\"מנזל by Arabit', 'https://clyp.it/hyqgwcl4/widget']\n",
      "['https://w.soundcloud.com/player/?visual=false&amp', 'title=\"אמאם by Arabit']\n",
      "['https://w.soundcloud.com/player/?visual=false&amp', 'title=\"לם by Arabit']\n",
      "['https://w.soundcloud.com/player/?visual=false&amp', 'title=\"אעתדאא\\' by Arabit']\n"
     ]
    },
    {
     "name": "stderr",
     "output_type": "stream",
     "text": [
      " 39%|██████████████████████████████▊                                                 | 888/2302 [00:45<00:53, 26.25it/s]"
     ]
    },
    {
     "name": "stdout",
     "output_type": "stream",
     "text": [
      "['https://w.soundcloud.com/player/?visual=false&amp', 'title=\"חבר by Arabit']\n",
      "['https://w.soundcloud.com/player/?visual=false&amp', 'title=\"כפאר by Arabit', 'https://clyp.it/d5td4lzb/widget']\n",
      "['https://w.soundcloud.com/player/?visual=false&amp', 'title=\"אלאמן אלוקאאי by Arabit']\n",
      "['https://w.soundcloud.com/player/?visual=false&amp', 'title=\"ח\\'וח\\' by Arabit']\n",
      "['https://w.soundcloud.com/player/?visual=false&amp', 'title=\"ג\\'בנה by Arabit', 'https://clyp.it/bryntaet/widget']\n",
      "['https://w.soundcloud.com/player/?visual=false&amp', 'title=\"צח\\'רה by Arabit']\n"
     ]
    },
    {
     "name": "stderr",
     "output_type": "stream",
     "text": [
      " 39%|███████████████████████████████                                                 | 894/2302 [00:46<00:54, 25.99it/s]"
     ]
    },
    {
     "name": "stdout",
     "output_type": "stream",
     "text": [
      "['https://w.soundcloud.com/player/?visual=false&amp', 'title=\"אלחרכה אלאסלאמיה by Arabit', 'https://clyp.it/bq152hkb/widget']\n",
      "['https://w.soundcloud.com/player/?visual=false&amp', 'title=\"נג\\'דה by Arabit']\n",
      "['https://w.soundcloud.com/player/?visual=false&amp', 'title=\"שרטה by Arabit']\n",
      "['https://w.soundcloud.com/player/?visual=false&amp', 'title=\"עפש by Arabit']\n",
      "['https://w.soundcloud.com/player/?visual=false&amp', 'title=\"טבח\\' by Arabit', 'https://clyp.it/q1fittoq/widget']\n",
      "['https://w.soundcloud.com/player/?visual=false&amp', 'title=\"קמח by Arabit']\n"
     ]
    },
    {
     "name": "stderr",
     "output_type": "stream",
     "text": [
      " 39%|███████████████████████████████▏                                                | 897/2302 [00:46<00:52, 26.56it/s]"
     ]
    },
    {
     "name": "stdout",
     "output_type": "stream",
     "text": [
      "['https://w.soundcloud.com/player/?visual=false&amp', 'title=\"מערופיה by Arabit']\n",
      "['https://w.soundcloud.com/player/?visual=false&amp', 'title=\"אנד\\'אר by Arabit']\n",
      "['https://w.soundcloud.com/player/?visual=false&amp', 'title=\"ח\\'פיפ ונט\\'יפ by Arabit', 'https://clyp.it/xwsk20n2/widget', 'https://clyp.it/uw31kirf/widget']\n",
      "['https://w.soundcloud.com/player/?visual=false&amp', 'title=\"תרקא by Arabit']\n"
     ]
    },
    {
     "name": "stderr",
     "output_type": "stream",
     "text": [
      " 39%|███████████████████████████████▍                                                | 903/2302 [00:47<02:20,  9.96it/s]"
     ]
    },
    {
     "name": "stdout",
     "output_type": "stream",
     "text": [
      "['https://w.soundcloud.com/player/?visual=false&amp', 'title=\"מג\\'נון by Arabit', 'https://w.soundcloud.com/player/?visual=false&amp', 'title=\"בג\\'נן by Arabit', 'https://clyp.it/bt31uub5/widget', 'https://clyp.it/ywj4s2rb/widget']\n",
      "['https://w.soundcloud.com/player/?visual=false&amp', 'title=\"עדד by Arabit']\n",
      "['https://w.soundcloud.com/player/?visual=false&amp', 'title=\"מנא by Arabit']\n",
      "['https://w.soundcloud.com/player/?visual=false&amp', 'title=\"ח\\'לע by Arabit', 'https://clyp.it/xlcxv3r2/widget']\n",
      "['https://w.soundcloud.com/player/?visual=false&amp', 'title=\"חמיה by Arabit', 'https://clyp.it/oxfhc0y5/widget']\n"
     ]
    },
    {
     "name": "stderr",
     "output_type": "stream",
     "text": [
      " 39%|███████████████████████████████▌                                                | 909/2302 [00:47<01:39, 13.98it/s]"
     ]
    },
    {
     "name": "stdout",
     "output_type": "stream",
     "text": [
      "['https://w.soundcloud.com/player/?visual=false&amp', 'title=\"דואוין by Arabit', 'https://clyp.it/bgv2mfzt/widget']\n",
      "['https://w.soundcloud.com/player/?visual=false&amp', 'title=\"מסתקבל by Arabit', 'https://clyp.it/jfobym0i/widget']\n",
      "['https://w.soundcloud.com/player/?visual=false&amp', 'title=\"וארם by Arabit']\n",
      "['https://w.soundcloud.com/player/?visual=false&amp', 'title=\"מחשש by Arabit', 'https://clyp.it/0gdutaoy/widget']\n",
      "['https://w.soundcloud.com/player/?visual=false&amp', 'title=\"פרק by Arabit', 'https://clyp.it/z3kcszc1/widget']\n",
      "['https://w.soundcloud.com/player/?visual=false&amp', 'title=\"עהר by Arabit']\n"
     ]
    },
    {
     "name": "stderr",
     "output_type": "stream",
     "text": [
      " 40%|███████████████████████████████▊                                                | 915/2302 [00:47<01:14, 18.52it/s]"
     ]
    },
    {
     "name": "stdout",
     "output_type": "stream",
     "text": [
      "['https://w.soundcloud.com/player/?visual=false&amp', 'title=\"בלטג\\'י by Arabit', 'https://clyp.it/jocnoxnl/widget', 'https://clyp.it/aj3fspkn/widget']\n",
      "['https://w.soundcloud.com/player/?visual=false&amp', 'title=\"תהויד by Arabit']\n",
      "['https://w.soundcloud.com/player/?visual=false&amp', 'title=\"הלוסה by Arabit']\n",
      "['https://w.soundcloud.com/player/?visual=false&amp', 'title=\"תברעאת by Arabit']\n",
      "['https://w.soundcloud.com/player/?visual=false&amp', 'title=\"מחארבה by Arabit', 'https://clyp.it/de4kqf0v/widget']\n",
      "['https://w.soundcloud.com/player/?visual=false&amp', 'title=\"כושאן by Arabit']\n"
     ]
    },
    {
     "name": "stderr",
     "output_type": "stream",
     "text": [
      " 40%|████████████████████████████████                                                | 921/2302 [00:48<01:02, 21.94it/s]"
     ]
    },
    {
     "name": "stdout",
     "output_type": "stream",
     "text": [
      "['https://w.soundcloud.com/player/?visual=false&amp', 'title=\"אנצרף by Arabit', 'https://clyp.it/m3241w1b/widget', 'https://clyp.it/30b2sbow/widget']\n",
      "['https://w.soundcloud.com/player/?visual=false&amp', 'title=\"סריה by Arabit']\n",
      "['https://w.soundcloud.com/player/?visual=false&amp', 'title=\"תצ\\'ליל by Arabit']\n",
      "['https://w.soundcloud.com/player/?visual=false&amp', 'title=\"סלטה by Arabit', 'https://clyp.it/0e51md11/widget']\n",
      "['https://w.soundcloud.com/player/?visual=false&amp', 'title=\"תבח\\'תר by Arabit']\n",
      "['https://w.soundcloud.com/player/?visual=false&amp', 'title=\"מסאומה by Arabit']\n"
     ]
    },
    {
     "name": "stderr",
     "output_type": "stream",
     "text": [
      " 40%|████████████████████████████████▏                                               | 927/2302 [00:48<00:55, 24.77it/s]"
     ]
    },
    {
     "name": "stdout",
     "output_type": "stream",
     "text": [
      "['https://w.soundcloud.com/player/?visual=false&amp', 'title=\"תנסיק by Arabit']\n",
      "['https://w.soundcloud.com/player/?visual=false&amp', 'title=\"תפאח by Arabit']\n",
      "['https://w.soundcloud.com/player/?visual=false&amp', 'title=\"דנס by Arabit']\n",
      "['https://w.soundcloud.com/player/?visual=false&amp', 'title=\"עטוה by Arabit', 'https://clyp.it/5enqh0ya/widget']\n",
      "['https://w.soundcloud.com/player/?visual=false&amp', 'title=\"ארתח\\'א by Arabit']\n",
      "['https://w.soundcloud.com/player/?visual=false&amp', 'title=\"טושה by Arabit']\n"
     ]
    },
    {
     "name": "stderr",
     "output_type": "stream",
     "text": [
      " 41%|████████████████████████████████▍                                               | 933/2302 [00:48<00:51, 26.60it/s]"
     ]
    },
    {
     "name": "stdout",
     "output_type": "stream",
     "text": [
      "['https://w.soundcloud.com/player/?visual=false&amp', 'title=\"מתאבעה by Arabit']\n",
      "['https://w.soundcloud.com/player/?visual=false&amp', 'title=\"תאריח\\' by Arabit']\n",
      "['https://w.soundcloud.com/player/?visual=false&amp', 'title=\"אע\\'ראצ\\' by Arabit']\n",
      "['https://w.soundcloud.com/player/?visual=false&amp', 'title=\"מידאן by Arabit', 'https://clyp.it/gxpgs0la/widget']\n",
      "['https://w.soundcloud.com/player/?visual=false&amp', 'title=\"חליב by Arabit']\n",
      "['https://w.soundcloud.com/player/?visual=false&amp', 'title=\"בית אלמקדס by Arabit']\n"
     ]
    },
    {
     "name": "stderr",
     "output_type": "stream",
     "text": [
      " 41%|████████████████████████████████▋                                               | 939/2302 [00:48<00:51, 26.59it/s]"
     ]
    },
    {
     "name": "stdout",
     "output_type": "stream",
     "text": [
      "['https://w.soundcloud.com/player/?visual=false&amp', 'title=\"טריק אלתפאפי by Arabit', 'https://clyp.it/ptsjij4o/widget']\n",
      "['https://w.soundcloud.com/player/?visual=false&amp', 'title=\"מזח by Arabit']\n",
      "['https://w.soundcloud.com/player/?visual=false&amp', 'title=\"אקתחאם by Arabit']\n",
      "['https://w.soundcloud.com/player/?visual=false&amp', 'title=\"מערכה by Arabit']\n",
      "['https://w.soundcloud.com/player/?visual=false&amp', 'title=\"חרכש by Arabit']\n",
      "['https://w.soundcloud.com/player/?visual=false&amp', 'title=\"סרק by Arabit']\n"
     ]
    },
    {
     "name": "stderr",
     "output_type": "stream",
     "text": [
      " 41%|████████████████████████████████▊                                               | 945/2302 [00:48<00:51, 26.16it/s]"
     ]
    },
    {
     "name": "stdout",
     "output_type": "stream",
     "text": [
      "['https://w.soundcloud.com/player/?visual=false&amp', 'title=\"פצ\\' by Arabit', 'https://clyp.it/ki4ibgb4/widget']\n",
      "['https://w.soundcloud.com/player/?visual=false&amp', 'title=\"מאכל ח\\'רא by Arabit']\n",
      "['https://w.soundcloud.com/player/?visual=false&amp', 'title=\"סג\\'ל by Arabit', 'https://clyp.it/ooalps1k/widget']\n",
      "['https://w.soundcloud.com/player/?visual=false&amp', 'title=\"ראבט by Arabit', 'https://clyp.it/s3fsuobf/widget']\n",
      "['https://w.soundcloud.com/player/?visual=false&amp', 'title=\"ריחה by Arabit', 'https://clyp.it/4nrlxgnf/widget', 'https://clyp.it/3lbtmye2/widget']\n",
      "['https://w.soundcloud.com/player/?visual=false&amp', 'title=\"לע\\'ם by Arabit']\n"
     ]
    },
    {
     "name": "stderr",
     "output_type": "stream",
     "text": [
      " 41%|█████████████████████████████████                                               | 951/2302 [00:49<00:50, 26.75it/s]"
     ]
    },
    {
     "name": "stdout",
     "output_type": "stream",
     "text": [
      "['https://w.soundcloud.com/player/?visual=false&amp', 'title=\"באצ by Arabit']\n",
      "['https://w.soundcloud.com/player/?visual=false&amp', 'title=\"מחא by Arabit']\n",
      "['https://w.soundcloud.com/player/?visual=false&amp', 'title=\"נציחה by Arabit', 'https://clyp.it/vwjbhpwc/widget']\n",
      "['https://w.soundcloud.com/player/?visual=false&amp', 'title=\"מראיה by Arabit']\n",
      "['https://w.soundcloud.com/player/?visual=false&amp', 'title=\"כתכות by Arabit']\n",
      "['https://w.soundcloud.com/player/?visual=false&amp', 'title=\"עליהם by Arabit', 'https://clyp.it/xwawebfl/widget']\n"
     ]
    },
    {
     "name": "stderr",
     "output_type": "stream",
     "text": [
      " 42%|█████████████████████████████████▎                                              | 957/2302 [00:49<00:49, 27.28it/s]"
     ]
    },
    {
     "name": "stdout",
     "output_type": "stream",
     "text": [
      "['https://w.soundcloud.com/player/?visual=false&amp', 'title=\"עט\\'ם by Arabit', 'https://clyp.it/l4arkgqm/widget']\n",
      "['https://w.soundcloud.com/player/?visual=false&amp', 'title=\"נכאיה by Arabit']\n",
      "['https://w.soundcloud.com/player/?visual=false&amp', 'title=\"טבטב by Arabit']\n",
      "['https://w.soundcloud.com/player/?visual=false&amp', 'title=\"כארה by Arabit']\n",
      "['https://w.soundcloud.com/player/?visual=false&amp', 'title=\"חמזה by Arabit']\n",
      "['https://w.soundcloud.com/player/?visual=false&amp', 'title=\"עזם by Arabit']\n",
      "['https://w.soundcloud.com/player/?visual=false&amp', 'title=\"אנכסר by Arabit', 'https://clyp.it/xx4y1bvq/widget']\n"
     ]
    },
    {
     "name": "stderr",
     "output_type": "stream",
     "text": [
      " 42%|█████████████████████████████████▍                                              | 963/2302 [00:49<00:49, 26.79it/s]"
     ]
    },
    {
     "name": "stdout",
     "output_type": "stream",
     "text": [
      "['https://soundcloud.com/listen2arabit/ko46mvkfa3zh']\n",
      "['https://w.soundcloud.com/player/?visual=false&amp', 'title=\"מוט\\'פ by Arabit', 'https://clyp.it/husixuvw/widget']\n",
      "['https://w.soundcloud.com/player/?visual=false&amp', 'title=\"חאג\\'ה by Arabit']\n",
      "['https://w.soundcloud.com/player/?visual=false&amp', 'title=\"פתאה by Arabit', 'https://clyp.it/wnejcntw/widget']\n",
      "['https://w.soundcloud.com/player/?visual=false&amp', 'title=\"זאויה by Arabit']\n",
      "['https://w.soundcloud.com/player/?visual=false&amp', 'title=\"דרדכה by Arabit']\n"
     ]
    },
    {
     "name": "stderr",
     "output_type": "stream",
     "text": [
      " 42%|█████████████████████████████████▋                                              | 969/2302 [00:49<00:57, 23.08it/s]"
     ]
    },
    {
     "name": "stdout",
     "output_type": "stream",
     "text": [
      "['https://w.soundcloud.com/player/?visual=false&amp', 'title=\"ג\\'אהז by Arabit']\n",
      "['https://w.soundcloud.com/player/?visual=false&amp', 'title=\"מערכת סיפ אלקדס by Arabit']\n",
      "['https://w.soundcloud.com/player/?visual=false&amp', 'title=\"ח\\'ראב by Arabit', 'https://clyp.it/532gh4s2/widget']\n",
      "['https://w.soundcloud.com/player/?visual=false&amp', 'title=\"רצאצה טאישה by Arabit']\n"
     ]
    },
    {
     "name": "stderr",
     "output_type": "stream",
     "text": [
      " 42%|█████████████████████████████████▊                                              | 972/2302 [00:50<01:00, 21.92it/s]"
     ]
    },
    {
     "name": "stdout",
     "output_type": "stream",
     "text": [
      "['https://w.soundcloud.com/player/?visual=false&amp', 'title=\"לחק by Arabit']\n",
      "['https://w.soundcloud.com/player/?visual=false&amp', 'title=\"רג\\'א by Arabit', 'https://clyp.it/c1ximees/widget']\n",
      "['https://w.soundcloud.com/player/?visual=false&amp', 'title=\"סיף by Arabit', 'https://clyp.it/j2d0kiof/widget']\n",
      "['https://w.soundcloud.com/player/?visual=false&amp', 'title=\"נאדא by Arabit', 'https://soundcloud.com/palestine-nasheed/sfsqdjkcmswb']\n",
      "['https://w.soundcloud.com/player/?visual=false&amp', 'title=\"כסח by Arabit']\n"
     ]
    },
    {
     "name": "stderr",
     "output_type": "stream",
     "text": [
      " 42%|█████████████████████████████████▉                                              | 975/2302 [00:50<00:59, 22.32it/s]"
     ]
    },
    {
     "name": "stdout",
     "output_type": "stream",
     "text": [
      "['https://soundcloud.com/listen2arabit/ep3yngypdezr', 'https://clyp.it/5i1oujlm/widget']\n"
     ]
    },
    {
     "name": "stderr",
     "output_type": "stream",
     "text": [
      " 42%|█████████████████████████████████▉                                              | 978/2302 [00:51<02:53,  7.62it/s]"
     ]
    },
    {
     "name": "stdout",
     "output_type": "stream",
     "text": [
      "['https://w.soundcloud.com/player/?visual=false&amp', 'title=\"מצ\\'מצ\\' by Arabit']\n",
      "['https://w.soundcloud.com/player/?visual=false&amp', 'title=\"שנכליש by Arabit']\n",
      "['https://w.soundcloud.com/player/?visual=false&amp', 'title=\"זר by Arabit']\n",
      "['https://w.soundcloud.com/player/?visual=false&amp', 'title=\"מואשי by Arabit', 'https://clyp.it/prawoun3/widget', 'https://clyp.it/qvhcrigl/widget', 'https://clyp.it/midrko5f/widget']\n",
      "['https://w.soundcloud.com/player/?visual=false&amp', 'title=\"סמעה by Arabit', 'https://clyp.it/t1hyz3xd/widget']\n",
      "['https://w.soundcloud.com/player/?visual=false&amp', 'title=\"דעס by Arabit']\n"
     ]
    },
    {
     "name": "stderr",
     "output_type": "stream",
     "text": [
      " 43%|██████████████████████████████████▎                                             | 987/2302 [00:51<01:33, 14.10it/s]"
     ]
    },
    {
     "name": "stdout",
     "output_type": "stream",
     "text": [
      "['https://w.soundcloud.com/player/?visual=false&amp', 'title=\"פהד by Arabit']\n",
      "['https://w.soundcloud.com/player/?visual=false&amp', 'title=\"טויל by Arabit', 'https://clyp.it/dubhkrve/widget', 'https://clyp.it/ilbhy415/widget', 'https://clyp.it/kzdge1ok/widget']\n",
      "['https://w.soundcloud.com/player/?visual=false&amp', 'title=\"נג\\'מה by Arabit', 'https://clyp.it/bjs5t42a/widget']\n",
      "['https://w.soundcloud.com/player/?visual=false&amp', 'title=\"רצאנה by Arabit']\n",
      "['https://w.soundcloud.com/player/?visual=false&amp', 'title=\"תוג\\'הן by Arabit', 'https://clyp.it/1sngmae1/widget']\n",
      "['https://w.soundcloud.com/player/?visual=false&amp', 'title=\"אלאאן by Arabit']\n"
     ]
    },
    {
     "name": "stderr",
     "output_type": "stream",
     "text": [
      " 43%|██████████████████████████████████▍                                             | 990/2302 [00:51<01:24, 15.48it/s]"
     ]
    },
    {
     "name": "stdout",
     "output_type": "stream",
     "text": [
      "['https://w.soundcloud.com/player/?visual=false&amp', 'title=\"אח\\'לאק by Arabit', 'https://clyp.it/xajdlg4g/widget']\n",
      "['https://w.soundcloud.com/player/?visual=false&amp', 'title=\"תסאמח by Arabit', 'https://clyp.it/nuamqdib/widget', 'https://clyp.it/scfx4ybm/widget']\n",
      "['https://w.soundcloud.com/player/?visual=false&amp', 'title=\"ד\\'אכרה by Arabit', 'https://clyp.it/ulm52xbz/widget']\n",
      "['https://soundcloud.com/listen2arabit/geyj5stixqk4']\n",
      "['https://w.soundcloud.com/player/?visual=false&amp', 'title=\"דעוה by Arabit']\n"
     ]
    },
    {
     "name": "stderr",
     "output_type": "stream",
     "text": [
      " 43%|██████████████████████████████████▌                                             | 996/2302 [00:51<01:12, 17.97it/s]"
     ]
    },
    {
     "name": "stdout",
     "output_type": "stream",
     "text": [
      "['https://w.soundcloud.com/player/?visual=false&amp', 'title=\"טריק מסדוד by Arabit', 'https://clyp.it/vh1tug15/widget']\n",
      "['https://w.soundcloud.com/player/?visual=false&amp', 'title=\"פטור by Arabit', 'https://clyp.it/tiq5eq4j/widget', 'https://clyp.it/biobk3al/widget']\n",
      "['https://w.soundcloud.com/player/?visual=false&amp', 'title=\"ע\\'לטה by Arabit', 'https://clyp.it/23fyeliq/widget']\n",
      "['https://w.soundcloud.com/player/?visual=false&amp', 'title=\"חיואן by Arabit', 'https://clyp.it/kssyryod/widget']\n",
      "['https://w.soundcloud.com/player/?visual=false&amp', 'title=\"טנג\\'רה by Arabit']\n"
     ]
    },
    {
     "name": "stderr",
     "output_type": "stream",
     "text": [
      " 44%|██████████████████████████████████▍                                            | 1002/2302 [00:52<00:59, 21.97it/s]"
     ]
    },
    {
     "name": "stdout",
     "output_type": "stream",
     "text": [
      "['https://w.soundcloud.com/player/?visual=false&amp', 'title=\"סנאא\\' by Arabit']\n",
      "['https://w.soundcloud.com/player/?visual=false&amp', 'title=\"קרקש by Arabit']\n",
      "['https://w.soundcloud.com/player/?visual=false&amp', 'title=\"חריק by Arabit']\n",
      "['https://w.soundcloud.com/player/?visual=false&amp', 'title=\"תצעיד by Arabit']\n",
      "['https://soundcloud.com/listen2arabit/4wlvhbjkh5ce']\n",
      "['https://w.soundcloud.com/player/?visual=false&amp', 'title=\"אבוס עינכ by Arabit']\n"
     ]
    },
    {
     "name": "stderr",
     "output_type": "stream",
     "text": [
      " 44%|██████████████████████████████████▌                                            | 1008/2302 [00:52<00:54, 23.87it/s]"
     ]
    },
    {
     "name": "stdout",
     "output_type": "stream",
     "text": [
      "['https://w.soundcloud.com/player/?visual=false&amp', 'title=\"שאיף חאלה by Arabit', 'https://clyp.it/rkoc1ame/widget']\n",
      "['https://w.soundcloud.com/player/?visual=false&amp', 'title=\"תעוים by Arabit', 'https://clyp.it/s3mvdwxd/widget']\n",
      "['https://w.soundcloud.com/player/?visual=false&amp', 'title=\"מג\\'דרה by Arabit']\n",
      "['https://w.soundcloud.com/player/?visual=false&amp', 'title=\"פרח by Arabit']\n",
      "['https://w.soundcloud.com/player/?visual=false&amp', 'title=\"אחול by Arabit', 'https://clyp.it/wee5icph/widget', 'https://clyp.it/zdvjmebr/widget', 'https://clyp.it/dcenlfax/widget']\n",
      "['https://w.soundcloud.com/player/?visual=false&amp', 'title=\"וער by Arabit']\n"
     ]
    },
    {
     "name": "stderr",
     "output_type": "stream",
     "text": [
      " 44%|██████████████████████████████████▊                                            | 1014/2302 [00:52<00:50, 25.75it/s]"
     ]
    },
    {
     "name": "stdout",
     "output_type": "stream",
     "text": [
      "['https://w.soundcloud.com/player/?visual=false&amp', 'title=\"קתל by Arabit']\n",
      "['https://soundcloud.com/listen2arabit/nasnp20uaamo']\n",
      "['https://w.soundcloud.com/player/?visual=false&amp', 'title=\"אלמאניא by Arabit', 'https://clyp.it/0oqm0jio/widget']\n",
      "['https://w.soundcloud.com/player/?visual=false&amp', 'title=\"מרח by Arabit']\n",
      "['https://w.soundcloud.com/player/?visual=false&amp', 'title=\"צ\\'פה by Arabit']\n",
      "['https://soundcloud.com/listen2arabit/dxd2fehtp8gr', 'https://clyp.it/h5acjq0c/widget']\n"
     ]
    },
    {
     "name": "stderr",
     "output_type": "stream",
     "text": [
      " 44%|███████████████████████████████████                                            | 1020/2302 [00:52<00:49, 25.74it/s]"
     ]
    },
    {
     "name": "stdout",
     "output_type": "stream",
     "text": [
      "['https://w.soundcloud.com/player/?visual=false&amp', 'title=\"אבתסאם by Arabit']\n",
      "['https://clyp.it/ewlnif3l/widget']\n",
      "['https://w.soundcloud.com/player/?visual=false&amp', 'title=\"מפלס by Arabit', 'https://clyp.it/400asbq0/widget']\n",
      "['https://w.soundcloud.com/player/?visual=false&amp', 'title=\"תאג\\' ראסנא by Arabit', 'https://clyp.it/wplfyues/widget']\n",
      "['https://w.soundcloud.com/player/?visual=false&amp', 'title=\"דח\\'אן by Arabit', 'https://clyp.it/1xt0oe01/widget']\n",
      "['https://w.soundcloud.com/player/?visual=false&amp', 'title=\"נקי by Arabit']\n"
     ]
    },
    {
     "name": "stderr",
     "output_type": "stream",
     "text": [
      " 45%|███████████████████████████████████▏                                           | 1026/2302 [00:53<00:47, 27.07it/s]"
     ]
    },
    {
     "name": "stdout",
     "output_type": "stream",
     "text": [
      "['https://w.soundcloud.com/player/?visual=false&amp', 'title=\"אנזלק by Arabit', 'https://clyp.it/baclr3xt/widget']\n",
      "['https://w.soundcloud.com/player/?visual=false&amp', 'title=\"מתצפח ויב by Arabit']\n",
      "['https://w.soundcloud.com/player/?visual=false&amp', 'title=\"צמת by Arabit']\n",
      "['https://w.soundcloud.com/player/?visual=false&amp', 'title=\"טריש by Arabit', 'https://clyp.it/o5vjtkah/widget']\n",
      "['https://w.soundcloud.com/player/?visual=false&amp', 'title=\"חריר by Arabit', 'https://clyp.it/0cxvedg3/widget']\n",
      "['https://w.soundcloud.com/player/?visual=false&amp', 'title=\"חראמי by Arabit', 'https://clyp.it/hdzssbvb/widget']\n"
     ]
    },
    {
     "name": "stderr",
     "output_type": "stream",
     "text": [
      " 45%|███████████████████████████████████▍                                           | 1032/2302 [00:53<00:47, 26.46it/s]"
     ]
    },
    {
     "name": "stdout",
     "output_type": "stream",
     "text": [
      "['https://w.soundcloud.com/player/?visual=false&amp', 'title=\"אמראה by Arabit', 'https://clyp.it/gph0lpqo/widget']\n",
      "['https://w.soundcloud.com/player/?visual=false&amp', 'title=\"סמאא׳ by Arabit', 'https://clyp.it/eqqjhnj4/widget', 'https://clyp.it/htylcan0/widget']\n",
      "['https://w.soundcloud.com/player/?visual=false&amp', 'title=\"סכראן by Arabit']\n",
      "['https://w.soundcloud.com/player/?visual=false&amp', 'title=\"ד׳נב by Arabit']\n",
      "['https://w.soundcloud.com/player/?visual=false&amp', 'title=\"נכתה by Arabit']\n",
      "['https://w.soundcloud.com/player/?visual=false&amp', 'title=\"רחיל by Arabit', 'https://clyp.it/lsqp3w4n/widget']\n"
     ]
    },
    {
     "name": "stderr",
     "output_type": "stream",
     "text": [
      " 45%|███████████████████████████████████▌                                           | 1038/2302 [00:53<00:49, 25.47it/s]"
     ]
    },
    {
     "name": "stdout",
     "output_type": "stream",
     "text": [
      "['https://w.soundcloud.com/player/?visual=false&amp', 'title=\"שבעאן by Arabit', 'https://clyp.it/hewdpvqn/widget']\n",
      "['https://w.soundcloud.com/player/?visual=false&amp', 'title=\"רצאץ by Arabit']\n",
      "['https://w.soundcloud.com/player/?visual=false&amp', 'title=\"ג׳ארושה by Arabit']\n",
      "['https://w.soundcloud.com/player/?visual=false&amp', 'title=\"ברדאן by Arabit', 'https://clyp.it/0tkq1rrl/widget']\n",
      "['https://w.soundcloud.com/player/?visual=false&amp', 'title=\"צראחה by Arabit']\n",
      "['https://w.soundcloud.com/player/?visual=false&amp', 'title=\"מחבובה by Arabit', 'https://clyp.it/audfjlcd/widget']\n"
     ]
    },
    {
     "name": "stderr",
     "output_type": "stream",
     "text": [
      " 45%|███████████████████████████████████▊                                           | 1044/2302 [00:53<00:48, 25.86it/s]"
     ]
    },
    {
     "name": "stdout",
     "output_type": "stream",
     "text": [
      "['https://w.soundcloud.com/player/?visual=false&amp', 'title=\"הזר by Arabit']\n",
      "['https://w.soundcloud.com/player/?visual=false&amp', 'title=\"בקרף by Arabit', 'https://clyp.it/pa2pgmnx/widget']\n",
      "['https://w.soundcloud.com/player/?visual=false&amp', 'title=\"ג׳ראר by Arabit', 'https://clyp.it/2gtdfwwj/widget']\n",
      "['https://w.soundcloud.com/player/?visual=false&amp', 'title=\"נשיט by Arabit']\n",
      "['https://w.soundcloud.com/player/?visual=false&amp', 'title=\"בעת׳ by Arabit']\n",
      "['https://w.soundcloud.com/player/?visual=false&amp', 'title=\"ח׳ג׳לאן by Arabit']\n"
     ]
    },
    {
     "name": "stderr",
     "output_type": "stream",
     "text": [
      " 46%|████████████████████████████████████                                           | 1050/2302 [00:53<00:47, 26.32it/s]"
     ]
    },
    {
     "name": "stdout",
     "output_type": "stream",
     "text": [
      "['https://w.soundcloud.com/player/?visual=false&amp', 'title=\"צפעת כף by Arabit']\n",
      "['https://w.soundcloud.com/player/?visual=false&amp', 'title=\"צפק by Arabit', 'https://clyp.it/kexw0axg/widget']\n",
      "['https://w.soundcloud.com/player/?visual=false&amp', 'title=\"בכיר by Arabit', 'https://clyp.it/dnouztl0/widget']\n",
      "['https://w.soundcloud.com/player/?visual=false&amp', 'title=\"מהד by Arabit']\n",
      "['https://w.soundcloud.com/player/?visual=false&amp', 'title=\"אללה יכון באלעון by Arabit', 'https://clyp.it/xxlcja0l/widget']\n",
      "['https://w.soundcloud.com/player/?visual=false&amp', 'title=\"מטמאן by Arabit', 'https://clyp.it/cidzex2l/widget']\n"
     ]
    },
    {
     "name": "stderr",
     "output_type": "stream",
     "text": [
      " 46%|████████████████████████████████████▏                                          | 1056/2302 [00:55<02:04, 10.02it/s]"
     ]
    },
    {
     "name": "stdout",
     "output_type": "stream",
     "text": [
      "['https://soundcloud.com/listen2arabit/3otaz68coads']\n",
      "['https://w.soundcloud.com/player/?visual=false&amp', 'title=\"מעזול by Arabit']\n",
      "['https://w.soundcloud.com/player/?visual=false&amp', 'title=\"חפלה תנכריה by Arabit']\n",
      "['https://w.soundcloud.com/player/?visual=false&amp', 'title=\"דרס by Arabit', 'https://clyp.it/echp24bi/widget']\n",
      "['https://w.soundcloud.com/player/?visual=false&amp', 'title=\"פכרה by Arabit']\n",
      "['https://w.soundcloud.com/player/?visual=false&amp', 'title=\"שבח by Arabit']\n",
      "['https://w.soundcloud.com/player/?visual=false&amp', 'title=\"ג׳ולה by Arabit']\n"
     ]
    },
    {
     "name": "stderr",
     "output_type": "stream",
     "text": [
      " 46%|████████████████████████████████████▍                                          | 1063/2302 [00:55<01:20, 15.35it/s]"
     ]
    },
    {
     "name": "stdout",
     "output_type": "stream",
     "text": [
      "['https://w.soundcloud.com/player/?visual=false&amp', 'title=\"אנקאד׳ by Arabit']\n",
      "['https://w.soundcloud.com/player/?visual=false&amp', 'title=\"ג׳זא by Arabit']\n",
      "['https://w.soundcloud.com/player/?visual=false&amp', 'title=\"רקם by Arabit']\n",
      "['https://w.soundcloud.com/player/?visual=false&amp', 'title=\"מאד׳ן by Arabit', 'https://clyp.it/uwhpdmd3/widget', 'https://clyp.it/0e4lnfzx/widget', 'https://clyp.it/y05ibhuw']\n",
      "['https://clyp.it/hpzga4qf/widget']\n",
      "['https://clyp.it/efsn53oy/widget']\n"
     ]
    },
    {
     "name": "stderr",
     "output_type": "stream",
     "text": [
      " 46%|████████████████████████████████████▋                                          | 1070/2302 [00:55<00:59, 20.73it/s]"
     ]
    },
    {
     "name": "stdout",
     "output_type": "stream",
     "text": [
      "['https://clyp.it/kv1hytdn/widget']\n",
      "['https://clyp.it/verikcgo/widget']\n",
      "['https://clyp.it/okqd0vck/widget']\n",
      "['https://clyp.it/xny1xhoq/widget']\n",
      "['https://clyp.it/2gzxgmv1/widget']\n",
      "['https://clyp.it/v5p5xxwa/widget']\n",
      "['https://clyp.it/uw31kirf/widget']\n"
     ]
    },
    {
     "name": "stderr",
     "output_type": "stream",
     "text": [
      " 47%|████████████████████████████████████▉                                          | 1076/2302 [00:55<00:52, 23.45it/s]"
     ]
    },
    {
     "name": "stdout",
     "output_type": "stream",
     "text": [
      "['https://clyp.it/viyr2ysv/widget']\n",
      "['https://clyp.it/1lkxdwx0/widget']\n",
      "['https://clyp.it/y0b33roa/widget']\n",
      "['https://clyp.it/os302izl/widget']\n",
      "['https://clyp.it/ztsxu4d5/widget']\n",
      "['https://clyp.it/yisjgcjo/widget']\n"
     ]
    },
    {
     "name": "stderr",
     "output_type": "stream",
     "text": [
      " 47%|█████████████████████████████████████▏                                         | 1082/2302 [00:55<00:46, 26.11it/s]"
     ]
    },
    {
     "name": "stdout",
     "output_type": "stream",
     "text": [
      "['https://clyp.it/l2sq42uq/widget']\n",
      "['https://clyp.it/zut5l10b/widget']\n",
      "['https://clyp.it/g1wadnbi/widget']\n",
      "['https://clyp.it/ysh1zyea/widget']\n",
      "['https://clyp.it/ztsb0o4s/widget']\n",
      "['https://clyp.it/yxomsx0p/widget']\n",
      "['https://clyp.it/h0xkkpgs/widget']\n"
     ]
    },
    {
     "name": "stderr",
     "output_type": "stream",
     "text": [
      " 47%|█████████████████████████████████████▎                                         | 1088/2302 [00:56<00:44, 27.55it/s]"
     ]
    },
    {
     "name": "stdout",
     "output_type": "stream",
     "text": [
      "['https://clyp.it/xdzuv1sl/widget']\n",
      "['https://clyp.it/ljrenwky/widget']\n",
      "['https://clyp.it/k2zdzi1i/widget']\n",
      "['https://clyp.it/jpn15rgb/widget']\n",
      "['https://clyp.it/lhjcdcpn/widget']\n",
      "['https://clyp.it/11rdinjn/widget']\n"
     ]
    },
    {
     "name": "stderr",
     "output_type": "stream",
     "text": [
      " 48%|█████████████████████████████████████▌                                         | 1094/2302 [00:56<00:44, 26.96it/s]"
     ]
    },
    {
     "name": "stdout",
     "output_type": "stream",
     "text": [
      "['https://clyp.it/wnfhtiqp/widget']\n",
      "['https://clyp.it/eoonghsy/widget']\n",
      "[]\n",
      "[]\n",
      "['https://clyp.it/mkehgk1w/widget']\n",
      "['https://clyp.it/jdnycxh2/widget']\n"
     ]
    },
    {
     "name": "stderr",
     "output_type": "stream",
     "text": [
      " 48%|█████████████████████████████████████▋                                         | 1100/2302 [00:56<00:42, 28.16it/s]"
     ]
    },
    {
     "name": "stdout",
     "output_type": "stream",
     "text": [
      "['https://clyp.it/4zqjjrbq/widget']\n",
      "['https://clyp.it/mfbupdns/widget']\n",
      "['https://clyp.it/ckptz4yf/widget']\n",
      "['https://clyp.it/v1v02lth/widget']\n",
      "['https://w.soundcloud.com/player/?visual=false&amp', 'title=\"ביכפי by Arabit']\n",
      "['https://w.soundcloud.com/player/?visual=false&amp', 'title=\"חנין by Arabit']\n"
     ]
    },
    {
     "name": "stderr",
     "output_type": "stream",
     "text": [
      " 48%|█████████████████████████████████████▉                                         | 1107/2302 [00:56<00:43, 27.70it/s]"
     ]
    },
    {
     "name": "stdout",
     "output_type": "stream",
     "text": [
      "['https://w.soundcloud.com/player/?visual=false&amp', 'title=\"מח׳דה by Arabit']\n",
      "[]\n",
      "['https://clyp.it/s1fd4on2/widget']\n",
      "['https://clyp.it/05u3cq4s/widget']\n",
      "['https://clyp.it/ivofqras/widget']\n",
      "['https://clyp.it/rcgdarqo/widget']\n"
     ]
    },
    {
     "name": "stderr",
     "output_type": "stream",
     "text": [
      " 48%|██████████████████████████████████████▏                                        | 1113/2302 [00:57<00:42, 27.74it/s]"
     ]
    },
    {
     "name": "stdout",
     "output_type": "stream",
     "text": [
      "['https://clyp.it/5umrz5sa/widget']\n",
      "['https://clyp.it/ydy5qyvq/widget']\n",
      "['https://clyp.it/0pfxqddu/widget']\n",
      "['https://clyp.it/ux4vu5cy/widget']\n",
      "['https://clyp.it/bj5dwdyh/widget']\n",
      "['https://clyp.it/onumnrn4/widget']\n"
     ]
    },
    {
     "name": "stderr",
     "output_type": "stream",
     "text": [
      " 49%|██████████████████████████████████████▍                                        | 1120/2302 [00:57<00:42, 27.95it/s]"
     ]
    },
    {
     "name": "stdout",
     "output_type": "stream",
     "text": [
      "['https://clyp.it/cow3ggib/widget']\n",
      "['https://clyp.it/34czfixi/widget']\n",
      "['https://clyp.it/xz0becqn/widget']\n",
      "['https://clyp.it/a4gddwwu/widget']\n",
      "['https://clyp.it/gkkmhtvw/widget']\n",
      "['https://clyp.it/b5dtdz5k/widget']\n"
     ]
    },
    {
     "name": "stderr",
     "output_type": "stream",
     "text": [
      " 49%|██████████████████████████████████████▋                                        | 1126/2302 [00:57<00:43, 27.27it/s]"
     ]
    },
    {
     "name": "stdout",
     "output_type": "stream",
     "text": [
      "['https://clyp.it/xxyc5zqz/widget']\n",
      "['https://clyp.it/wcszawbl/widget']\n",
      "['https://clyp.it/l5shl5bu/widget']\n",
      "['https://clyp.it/cfyrj5hk/widget']\n",
      "['https://clyp.it/kivhgumw/widget']\n",
      "['https://clyp.it/xu4dhkdc/widget']\n"
     ]
    },
    {
     "name": "stderr",
     "output_type": "stream",
     "text": [
      " 49%|██████████████████████████████████████▊                                        | 1132/2302 [00:57<00:41, 28.11it/s]"
     ]
    },
    {
     "name": "stdout",
     "output_type": "stream",
     "text": [
      "['https://clyp.it/vt0e4ev2/widget']\n",
      "['https://clyp.it/tjalq0eh/widget']\n",
      "['https://clyp.it/45guleyw/widget']\n",
      "['https://clyp.it/4m3efilt/widget']\n",
      "['https://clyp.it/etd1cb0y/widget']\n",
      "['https://clyp.it/2azx1gah/widget']\n",
      "['https://clyp.it/brn4asjd/widget']\n",
      "['https://clyp.it/npo4pxa2/widget']\n"
     ]
    },
    {
     "name": "stderr",
     "output_type": "stream",
     "text": [
      " 49%|███████████████████████████████████████                                        | 1138/2302 [00:58<01:48, 10.69it/s]"
     ]
    },
    {
     "name": "stdout",
     "output_type": "stream",
     "text": [
      "['https://clyp.it/hc1d2dqg/widget']\n",
      "['https://clyp.it/xk53vtvr/widget']\n",
      "['https://clyp.it/1kiovnvz/widget']\n",
      "['https://clyp.it/3i3xdqil/widget']\n",
      "['https://clyp.it/3lbtmye2/widget']\n",
      "['https://clyp.it/plb4me3w/widget']\n"
     ]
    },
    {
     "name": "stderr",
     "output_type": "stream",
     "text": [
      " 50%|███████████████████████████████████████▎                                       | 1144/2302 [00:59<01:14, 15.56it/s]"
     ]
    },
    {
     "name": "stdout",
     "output_type": "stream",
     "text": [
      "['https://clyp.it/x2hndrn5/widget']\n",
      "['https://clyp.it/1q3fn4sj/widget']\n",
      "['https://clyp.it/11h3nm04/widget']\n",
      "['https://clyp.it/shiefuen/widget']\n",
      "['https://clyp.it/0ybfe5ok/widget']\n",
      "['https://clyp.it/c1ximees/widget']\n"
     ]
    },
    {
     "name": "stderr",
     "output_type": "stream",
     "text": [
      " 50%|███████████████████████████████████████▍                                       | 1150/2302 [00:59<00:56, 20.26it/s]"
     ]
    },
    {
     "name": "stdout",
     "output_type": "stream",
     "text": [
      "['https://clyp.it/3toxcpmt/widget']\n",
      "['https://clyp.it/vj2mhviw/widget']\n",
      "['https://clyp.it/2wqtefjv/widget']\n",
      "['https://clyp.it/y2h0cpjz/widget']\n",
      "['https://clyp.it/px333tww/widget']\n",
      "['https://clyp.it/uym3a0zh/widget']\n"
     ]
    },
    {
     "name": "stderr",
     "output_type": "stream",
     "text": [
      " 50%|███████████████████████████████████████▋                                       | 1157/2302 [00:59<00:47, 24.36it/s]"
     ]
    },
    {
     "name": "stdout",
     "output_type": "stream",
     "text": [
      "['https://clyp.it/sq5fqxwj/widget']\n",
      "['https://clyp.it/fjielqwj/widget']\n",
      "['https://clyp.it/2nm4w3ni/widget']\n",
      "['https://clyp.it/4keasotn/widget']\n",
      "['https://clyp.it/k4fsx1el/widget']\n",
      "['https://clyp.it/bvvi2ccw/widget']\n",
      "['https://clyp.it/qqwkhjp2/widget']\n"
     ]
    },
    {
     "name": "stderr",
     "output_type": "stream",
     "text": [
      " 51%|███████████████████████████████████████▉                                       | 1164/2302 [00:59<00:42, 26.70it/s]"
     ]
    },
    {
     "name": "stdout",
     "output_type": "stream",
     "text": [
      "['https://clyp.it/qeddgykg/widget']\n",
      "['https://clyp.it/11uxlol2/widget']\n",
      "['https://clyp.it/bhonqq55/widget']\n",
      "['https://clyp.it/5lgdnpb0/widget']\n",
      "['https://clyp.it/frwyr05s/widget']\n",
      "['https://clyp.it/1ekiufre/widget']\n"
     ]
    },
    {
     "name": "stderr",
     "output_type": "stream",
     "text": [
      " 51%|████████████████████████████████████████▏                                      | 1170/2302 [00:59<00:40, 27.98it/s]"
     ]
    },
    {
     "name": "stdout",
     "output_type": "stream",
     "text": [
      "['https://clyp.it/pntdac1x/widget']\n",
      "['https://clyp.it/tzraj30g/widget']\n",
      "['https://clyp.it/mdzeoplr/widget']\n",
      "['https://clyp.it/ijtc2dhj/widget']\n",
      "['https://clyp.it/shnhdmku/widget']\n",
      "['https://clyp.it/qhk0zwre/widget']\n"
     ]
    },
    {
     "name": "stderr",
     "output_type": "stream",
     "text": [
      " 51%|████████████████████████████████████████▎                                      | 1176/2302 [01:00<00:41, 27.23it/s]"
     ]
    },
    {
     "name": "stdout",
     "output_type": "stream",
     "text": [
      "['https://clyp.it/irtarjw1/widget']\n",
      "['https://clyp.it/scldnyuu/widget']\n",
      "['https://clyp.it/1ss5o3xh/widget']\n",
      "['https://clyp.it/0bmt5fh3/widget']\n",
      "['https://clyp.it/audfjlcd/widget']\n",
      "['https://clyp.it/evavtjnn/widget']\n"
     ]
    },
    {
     "name": "stderr",
     "output_type": "stream",
     "text": [
      " 51%|████████████████████████████████████████▌                                      | 1183/2302 [01:00<00:39, 28.06it/s]"
     ]
    },
    {
     "name": "stdout",
     "output_type": "stream",
     "text": [
      "['https://clyp.it/qqlggtox/widget']\n",
      "['https://clyp.it/cxdhx3sd/widget']\n",
      "['https://clyp.it/oyu5fzyk/widget']\n",
      "['https://clyp.it/n3tkb3di/widget']\n",
      "['https://clyp.it/zqrdhsay/widget']\n",
      "['https://clyp.it/3rlq2zsl/widget']\n",
      "['https://clyp.it/5oyadhde/widget']\n"
     ]
    },
    {
     "name": "stderr",
     "output_type": "stream",
     "text": [
      " 52%|████████████████████████████████████████▊                                      | 1189/2302 [01:00<00:40, 27.35it/s]"
     ]
    },
    {
     "name": "stdout",
     "output_type": "stream",
     "text": [
      "['https://clyp.it/ma4a4qgm/widget']\n",
      "['https://clyp.it/lnwsdlp3/widget']\n",
      "['https://clyp.it/haxwo1dm/widget']\n",
      "['https://clyp.it/3oiww5g4/widget']\n",
      "['https://clyp.it/0pugzl4t/widget']\n",
      "['https://clyp.it/d1hvvs1p/widget']\n"
     ]
    },
    {
     "name": "stderr",
     "output_type": "stream",
     "text": [
      " 52%|█████████████████████████████████████████                                      | 1195/2302 [01:00<00:40, 27.31it/s]"
     ]
    },
    {
     "name": "stdout",
     "output_type": "stream",
     "text": [
      "['https://clyp.it/m4ibhrkc/widget']\n",
      "['https://clyp.it/rtb12x4l/widget', 'https://clyp.it/jdql4k03/widget']\n",
      "['https://clyp.it/dj2xalj3/widget']\n",
      "['https://clyp.it/lx2bgqkm/widget']\n",
      "['https://clyp.it/ows03uik/widget']\n",
      "['https://clyp.it/lxsdpucv/widget']\n"
     ]
    },
    {
     "name": "stderr",
     "output_type": "stream",
     "text": [
      " 52%|█████████████████████████████████████████▏                                     | 1201/2302 [01:01<00:39, 27.83it/s]"
     ]
    },
    {
     "name": "stdout",
     "output_type": "stream",
     "text": [
      "['https://clyp.it/mmgpp5vw/widget']\n",
      "['https://clyp.it/dhj2knng/widget']\n",
      "['https://clyp.it/mb2m2q5e/widget']\n",
      "['https://clyp.it/xrsem04e/widget']\n",
      "['https://clyp.it/0t53efo3/widget']\n",
      "['https://clyp.it/ijwpekix/widget']\n"
     ]
    },
    {
     "name": "stderr",
     "output_type": "stream",
     "text": [
      " 52%|█████████████████████████████████████████▍                                     | 1208/2302 [01:01<00:37, 28.81it/s]"
     ]
    },
    {
     "name": "stdout",
     "output_type": "stream",
     "text": [
      "['https://clyp.it/xgjhr1lh/widget']\n",
      "['https://clyp.it/3mvw1qxq/widget']\n",
      "['https://clyp.it/ezsnnboc/widget']\n",
      "['https://clyp.it/txtim5aq/widget']\n",
      "['https://clyp.it/wk12xdf2/widget']\n",
      "['https://clyp.it/v2s2pwvx/widget']\n",
      "['https://clyp.it/x0sokb10/widget']\n"
     ]
    },
    {
     "name": "stderr",
     "output_type": "stream",
     "text": [
      " 53%|█████████████████████████████████████████▋                                     | 1214/2302 [01:01<00:37, 28.88it/s]"
     ]
    },
    {
     "name": "stdout",
     "output_type": "stream",
     "text": [
      "['https://clyp.it/qfzesdvu/widget']\n",
      "['https://clyp.it/sbxmnesd/widget']\n",
      "['https://clyp.it/1g0dnnft/widget']\n",
      "['https://clyp.it/3zoggrgi/widget']\n",
      "['https://clyp.it/rywoe44y/widget']\n",
      "['https://clyp.it/qul24cev/widget']\n",
      "['https://clyp.it/3ry1xoe2/widget', 'https://clyp.it/g0insx00/widget']\n"
     ]
    },
    {
     "name": "stderr",
     "output_type": "stream",
     "text": [
      " 53%|█████████████████████████████████████████▊                                     | 1217/2302 [01:01<00:37, 29.17it/s]"
     ]
    },
    {
     "name": "stdout",
     "output_type": "stream",
     "text": [
      "['https://clyp.it/vqklvdyg/widget']\n",
      "['https://clyp.it/vuaofcua/widget', 'https://clyp.it/gdrxz1c1/widget']\n",
      "['https://clyp.it/1e1bugix/widget']\n"
     ]
    },
    {
     "name": "stderr",
     "output_type": "stream",
     "text": [
      " 53%|█████████████████████████████████████████▉                                     | 1223/2302 [01:02<01:43, 10.47it/s]"
     ]
    },
    {
     "name": "stdout",
     "output_type": "stream",
     "text": [
      "['https://clyp.it/wzsgx4ix/widget']\n",
      "['https://clyp.it/lcjcbpqe/widget']\n",
      "['https://clyp.it/twfxrv5b/widget']\n",
      "['https://clyp.it/lpr34hs3/widget']\n",
      "['https://clyp.it/wr1tmvvn/widget']\n",
      "['https://clyp.it/njvjal05/widget']\n"
     ]
    },
    {
     "name": "stderr",
     "output_type": "stream",
     "text": [
      " 53%|██████████████████████████████████████████▏                                    | 1230/2302 [01:02<01:05, 16.33it/s]"
     ]
    },
    {
     "name": "stdout",
     "output_type": "stream",
     "text": [
      "['https://clyp.it/kssyryod/widget']\n",
      "['https://clyp.it/xi1csvuq/widget']\n",
      "['https://clyp.it/zagy4mgt/widget']\n",
      "['https://clyp.it/jg3urgl3/widget']\n",
      "['https://clyp.it/j0k21x2x/widget']\n",
      "['https://clyp.it/mpikhkti/widget']\n",
      "['https://clyp.it/1jjwzmfg/widget']\n"
     ]
    },
    {
     "name": "stderr",
     "output_type": "stream",
     "text": [
      " 54%|██████████████████████████████████████████▍                                    | 1236/2302 [01:03<00:51, 20.79it/s]"
     ]
    },
    {
     "name": "stdout",
     "output_type": "stream",
     "text": [
      "['https://clyp.it/0cxvedg3/widget']\n",
      "['https://clyp.it/wslmi2xp/widget']\n",
      "['https://clyp.it/ufag1abe/widget']\n",
      "['https://clyp.it/hfzjelul/widget']\n",
      "['https://clyp.it/2ljbeqxp/widget']\n",
      "['https://clyp.it/v3x51yg2/widget']\n"
     ]
    },
    {
     "name": "stderr",
     "output_type": "stream",
     "text": [
      " 54%|██████████████████████████████████████████▌                                    | 1242/2302 [01:03<00:44, 23.89it/s]"
     ]
    },
    {
     "name": "stdout",
     "output_type": "stream",
     "text": [
      "['https://clyp.it/nkftt4cd/widget']\n",
      "['https://clyp.it/dtzb54ds/widget']\n",
      "['https://clyp.it/iebbzlt4/widget']\n",
      "['https://clyp.it/lbyouudy/widget']\n",
      "['https://clyp.it/t45fgj1o/widget']\n",
      "['https://clyp.it/lnt5qgws/widget']\n"
     ]
    },
    {
     "name": "stderr",
     "output_type": "stream",
     "text": [
      " 54%|██████████████████████████████████████████▊                                    | 1248/2302 [01:03<00:40, 25.76it/s]"
     ]
    },
    {
     "name": "stdout",
     "output_type": "stream",
     "text": [
      "['https://clyp.it/hsxqlmev/widget']\n",
      "['https://clyp.it/42eu3pq4/widget']\n",
      "['https://clyp.it/uq5i4r2i/widget']\n",
      "['https://clyp.it/wmfszean/widget']\n",
      "['https://clyp.it/l3ru2u2i/widget']\n",
      "['https://clyp.it/kdwlix2n/widget']\n"
     ]
    },
    {
     "name": "stderr",
     "output_type": "stream",
     "text": [
      " 54%|███████████████████████████████████████████                                    | 1254/2302 [01:03<00:38, 27.22it/s]"
     ]
    },
    {
     "name": "stdout",
     "output_type": "stream",
     "text": [
      "['https://clyp.it/lkzd23bd/widget']\n",
      "['https://clyp.it/vhv3n3zz/widget']\n",
      "['https://clyp.it/kl1bbtag/widget']\n",
      "['https://clyp.it/4i0newlo/widget']\n",
      "['https://clyp.it/dfbj1h2y/widget']\n",
      "['https://clyp.it/h5acjq0c/widget']\n",
      "['https://clyp.it/dp1khubm/widget']\n"
     ]
    },
    {
     "name": "stderr",
     "output_type": "stream",
     "text": [
      " 55%|███████████████████████████████████████████▎                                   | 1261/2302 [01:04<00:37, 28.08it/s]"
     ]
    },
    {
     "name": "stdout",
     "output_type": "stream",
     "text": [
      "['https://clyp.it/nxcuvj4q/widget']\n",
      "['https://clyp.it/yxyzbgdu/widget']\n",
      "['https://clyp.it/p21siqlj/widget']\n",
      "['https://clyp.it/bwdvljy1/widget']\n",
      "['https://clyp.it/bpfedikb/widget']\n",
      "['https://clyp.it/xsdc5kgz/widget']\n"
     ]
    },
    {
     "name": "stderr",
     "output_type": "stream",
     "text": [
      " 55%|███████████████████████████████████████████▍                                   | 1267/2302 [01:04<00:37, 27.83it/s]"
     ]
    },
    {
     "name": "stdout",
     "output_type": "stream",
     "text": [
      "['https://clyp.it/0oic2dci/widget']\n",
      "['https://clyp.it/0e51md11/widget']\n",
      "['https://clyp.it/hhbnqo5y/widget']\n",
      "['https://clyp.it/dumllb2n/widget']\n",
      "['https://clyp.it/4gioz3hl/widget']\n",
      "['https://clyp.it/3kxf4l0x/widget']\n"
     ]
    },
    {
     "name": "stderr",
     "output_type": "stream",
     "text": [
      " 55%|███████████████████████████████████████████▋                                   | 1273/2302 [01:04<00:37, 27.61it/s]"
     ]
    },
    {
     "name": "stdout",
     "output_type": "stream",
     "text": [
      "['https://clyp.it/kin5z1qj/widget']\n",
      "['https://clyp.it/kz5fusco/widget']\n",
      "['https://clyp.it/gi1frtd4/widget']\n",
      "['https://clyp.it/esvm02zw/widget']\n",
      "['https://clyp.it/jyfrdxhu/widget']\n",
      "['https://clyp.it/nnoewn0g/widget']\n"
     ]
    },
    {
     "name": "stderr",
     "output_type": "stream",
     "text": [
      " 56%|███████████████████████████████████████████▉                                   | 1279/2302 [01:04<00:36, 27.69it/s]"
     ]
    },
    {
     "name": "stdout",
     "output_type": "stream",
     "text": [
      "['https://clyp.it/0ky2ck1c/widget']\n",
      "['https://clyp.it/t54xsuwu/widget']\n",
      "['https://clyp.it/ine3brxy/widget']\n",
      "['https://clyp.it/tmyfx5m1/widget']\n",
      "['https://clyp.it/u4nn4l5e/widget']\n",
      "['https://clyp.it/c14gxel3/widget']\n"
     ]
    },
    {
     "name": "stderr",
     "output_type": "stream",
     "text": [
      " 56%|████████████████████████████████████████████▏                                  | 1286/2302 [01:04<00:34, 29.11it/s]"
     ]
    },
    {
     "name": "stdout",
     "output_type": "stream",
     "text": [
      "['https://clyp.it/pzcd4aqi/widget']\n",
      "['https://clyp.it/spk40njj/widget']\n",
      "['https://clyp.it/3rdvserp/widget']\n",
      "['https://clyp.it/ccb12fwy/widget']\n",
      "['https://clyp.it/ypn3qfbx/widget']\n",
      "['https://clyp.it/s2qkgogt/widget']\n",
      "['https://clyp.it/2lmcca4m/widget']\n"
     ]
    },
    {
     "name": "stderr",
     "output_type": "stream",
     "text": [
      " 56%|████████████████████████████████████████████▎                                  | 1292/2302 [01:05<00:34, 28.90it/s]"
     ]
    },
    {
     "name": "stdout",
     "output_type": "stream",
     "text": [
      "['https://clyp.it/zc2ev2n5/widget']\n",
      "[]\n",
      "['https://clyp.it/czz1eplb/widget']\n",
      "['https://clyp.it/jhd2psai/widget']\n",
      "['https://clyp.it/5xvufj2x/widget']\n",
      "['https://clyp.it/s3fsuobf/widget']\n"
     ]
    },
    {
     "name": "stderr",
     "output_type": "stream",
     "text": [
      " 56%|████████████████████████████████████████████▌                                  | 1298/2302 [01:05<00:35, 28.46it/s]"
     ]
    },
    {
     "name": "stdout",
     "output_type": "stream",
     "text": [
      "['https://clyp.it/u4k51pqq/widget']\n",
      "['https://clyp.it/gylb01gr/widget']\n",
      "['https://clyp.it/qm3d24hg/widget']\n",
      "['https://clyp.it/c4xcpqnc/widget']\n",
      "['https://clyp.it/lowuhbdu/widget']\n",
      "['https://clyp.it/yky4apx5/widget']\n"
     ]
    },
    {
     "name": "stderr",
     "output_type": "stream",
     "text": [
      " 57%|████████████████████████████████████████████▋                                  | 1301/2302 [01:05<00:34, 28.66it/s]"
     ]
    },
    {
     "name": "stdout",
     "output_type": "stream",
     "text": [
      "['https://clyp.it/0qyhq0jx/widget']\n",
      "['https://clyp.it/sz5rjpav/widget']\n",
      "['https://clyp.it/4gpb2ogx/widget']\n"
     ]
    },
    {
     "name": "stderr",
     "output_type": "stream",
     "text": [
      " 57%|████████████████████████████████████████████▊                                  | 1307/2302 [01:06<01:36, 10.33it/s]"
     ]
    },
    {
     "name": "stdout",
     "output_type": "stream",
     "text": [
      "['https://clyp.it/zahy5pxr/widget', 'https://clyp.it/vpo0iuu5/widget']\n",
      "['https://clyp.it/rkfk2qqx/widget']\n",
      "['https://clyp.it/jcb4m0d4/widget']\n",
      "['https://clyp.it/wr35ms0w/widget']\n",
      "['https://clyp.it/q3apop3c/widget']\n",
      "['https://clyp.it/ccwd1b1z/widget']\n"
     ]
    },
    {
     "name": "stderr",
     "output_type": "stream",
     "text": [
      " 57%|█████████████████████████████████████████████                                  | 1314/2302 [01:06<01:01, 16.12it/s]"
     ]
    },
    {
     "name": "stdout",
     "output_type": "stream",
     "text": [
      "['https://clyp.it/aaculr5g/widget']\n",
      "['https://clyp.it/5i1oujlm/widget']\n",
      "['https://clyp.it/d13bhvmi/widget']\n",
      "['https://clyp.it/a5ihqbgo/widget']\n",
      "[]\n",
      "['https://clyp.it/4p3z04ut/widget', 'https://clyp.it/os302izl/widget']\n",
      "['https://clyp.it/ulk4rndr/widget']\n"
     ]
    },
    {
     "name": "stderr",
     "output_type": "stream",
     "text": [
      " 57%|█████████████████████████████████████████████▎                                 | 1320/2302 [01:06<00:48, 20.29it/s]"
     ]
    },
    {
     "name": "stdout",
     "output_type": "stream",
     "text": [
      "['https://clyp.it/mqvlktqi/widget']\n",
      "['https://clyp.it/j4nc4ghy/widget', 'https://clyp.it/ozrzv1ce/widget']\n",
      "['https://clyp.it/fb304tbl/widget']\n",
      "['https://clyp.it/x4vdvvgl/widget']\n",
      "['https://clyp.it/udzmcegs/widget']\n",
      "['https://clyp.it/r4ejhtuw/widget']\n"
     ]
    },
    {
     "name": "stderr",
     "output_type": "stream",
     "text": [
      " 58%|█████████████████████████████████████████████▌                                 | 1327/2302 [01:07<00:39, 24.68it/s]"
     ]
    },
    {
     "name": "stdout",
     "output_type": "stream",
     "text": [
      "['https://clyp.it/bgv2mfzt/widget', 'https://clyp.it/simgb4f2/widget']\n",
      "['https://clyp.it/3rdhoisq/widget']\n",
      "['https://clyp.it/q0sa14ap/widget']\n",
      "['https://clyp.it/afg5soyt/widget']\n",
      "['https://clyp.it/55yb1hdi/widget']\n",
      "['https://w.soundcloud.com/player/?visual=false&amp', 'title=\"כלסון by Arabit']\n"
     ]
    },
    {
     "name": "stderr",
     "output_type": "stream",
     "text": [
      " 58%|█████████████████████████████████████████████▋                                 | 1333/2302 [01:07<00:37, 25.83it/s]"
     ]
    },
    {
     "name": "stdout",
     "output_type": "stream",
     "text": [
      "['https://clyp.it/gujtqdky/widget']\n",
      "['https://clyp.it/xbegt5l0/widget']\n",
      "['https://w.soundcloud.com/player/?visual=false&amp', 'title=\"ט׳רף by Arabit']\n",
      "['https://w.soundcloud.com/player/?visual=false&amp', 'title=\"נשף ריקה by Arabit']\n",
      "['https://clyp.it/ke5rhh15/widget']\n",
      "['https://clyp.it/rzgvyolu/widget', 'https://clyp.it/dnrdu2kb/widget', 'https://clyp.it/4ygqjze1/widget']\n"
     ]
    },
    {
     "name": "stderr",
     "output_type": "stream",
     "text": [
      " 58%|█████████████████████████████████████████████▉                                 | 1339/2302 [01:07<00:35, 26.83it/s]"
     ]
    },
    {
     "name": "stdout",
     "output_type": "stream",
     "text": [
      "['https://clyp.it/1stcsjpl/widget']\n",
      "['https://clyp.it/m5n3nphx/widget']\n",
      "['https://clyp.it/oas2en34/widget']\n",
      "['https://clyp.it/w0jk3ufv/widget']\n",
      "['https://clyp.it/400asbq0/widget']\n",
      "['https://clyp.it/hxed5xcf/widget']\n"
     ]
    },
    {
     "name": "stderr",
     "output_type": "stream",
     "text": [
      " 58%|██████████████████████████████████████████████▏                                | 1345/2302 [01:07<00:34, 27.67it/s]"
     ]
    },
    {
     "name": "stdout",
     "output_type": "stream",
     "text": [
      "['https://clyp.it/0itzhqgm/widget']\n",
      "['https://clyp.it/5wptlp05/widget']\n",
      "['https://clyp.it/0tkq1rrl/widget']\n",
      "['https://clyp.it/l2sjtsst/widget']\n",
      "['https://clyp.it/cwvre1hh/widget']\n",
      "['https://clyp.it/ks3gksyv/widget']\n"
     ]
    },
    {
     "name": "stderr",
     "output_type": "stream",
     "text": [
      " 59%|██████████████████████████████████████████████▎                                | 1351/2302 [01:08<00:35, 27.11it/s]"
     ]
    },
    {
     "name": "stdout",
     "output_type": "stream",
     "text": [
      "['https://clyp.it/agb5uhhr/widget', 'https://clyp.it/vmqxhoeo/widget']\n",
      "['https://clyp.it/xlcxv3r2/widget']\n",
      "['https://clyp.it/4zzp12dz/widget']\n",
      "['https://clyp.it/cltbxogl/widget', 'https://clyp.it/q4abno3p', 'https://clyp.it/vxwwpunc/widget']\n",
      "['https://clyp.it/dj5mspbh/widget']\n",
      "[]\n"
     ]
    },
    {
     "name": "stderr",
     "output_type": "stream",
     "text": [
      " 59%|██████████████████████████████████████████████▌                                | 1358/2302 [01:08<00:32, 28.65it/s]"
     ]
    },
    {
     "name": "stdout",
     "output_type": "stream",
     "text": [
      "['https://clyp.it/2ws5m1mn/widget']\n",
      "['https://clyp.it/g4ejm2st/widget']\n",
      "['https://clyp.it/q5q1xjis/widget']\n",
      "['https://clyp.it/qeht3qnd/widget']\n",
      "['https://clyp.it/o2jti1ef/widget']\n",
      "['https://clyp.it/exfmiudx/widget', 'https://clyp.it/l1hdnhlw/widget', 'https://clyp.it/xk53vtvr/widget']\n",
      "['https://clyp.it/ptwwx3it/widget']\n"
     ]
    },
    {
     "name": "stderr",
     "output_type": "stream",
     "text": [
      " 59%|██████████████████████████████████████████████▊                                | 1364/2302 [01:08<00:32, 28.89it/s]"
     ]
    },
    {
     "name": "stdout",
     "output_type": "stream",
     "text": [
      "['https://clyp.it/umnkgqw4/widget']\n",
      "['https://clyp.it/x54mvjoe/widget']\n",
      "['https://clyp.it/ldwwufrp/widget', 'https://clyp.it/dgtjrded/widget']\n",
      "['https://clyp.it/chtjesl0/widget']\n",
      "['https://clyp.it/pktuqyll/widget']\n",
      "['https://clyp.it/bw5ppeob/widget']\n",
      "['https://clyp.it/sx1c24h0/widget']\n"
     ]
    },
    {
     "name": "stderr",
     "output_type": "stream",
     "text": [
      " 60%|███████████████████████████████████████████████                                | 1370/2302 [01:08<00:32, 28.74it/s]"
     ]
    },
    {
     "name": "stdout",
     "output_type": "stream",
     "text": [
      "['https://clyp.it/rkk50m34/widget']\n",
      "['https://clyp.it/cio13zrh/widget']\n",
      "['https://clyp.it/aoy1gniv/widget']\n",
      "['https://clyp.it/v4yhcbif/widget', 'https://clyp.it/y3kx2xeo/widget']\n",
      "['https://clyp.it/zt1bgl0l/widget']\n",
      "['https://clyp.it/kwmlpp2t/widget']\n"
     ]
    },
    {
     "name": "stderr",
     "output_type": "stream",
     "text": [
      " 60%|███████████████████████████████████████████████▎                               | 1377/2302 [01:08<00:31, 29.40it/s]"
     ]
    },
    {
     "name": "stdout",
     "output_type": "stream",
     "text": [
      "['https://clyp.it/2bfvbbak/widget']\n",
      "['https://clyp.it/d5td4lzb/widget']\n",
      "['https://clyp.it/yjfwjewe/widget']\n",
      "['https://clyp.it/ftaejv42/widget']\n",
      "['https://clyp.it/ub3hew0q/widget']\n",
      "['https://clyp.it/tptf22m2/widget']\n",
      "['https://clyp.it/qo4d1v5x/widget']\n"
     ]
    },
    {
     "name": "stderr",
     "output_type": "stream",
     "text": [
      " 60%|███████████████████████████████████████████████▍                               | 1384/2302 [01:09<00:30, 29.63it/s]"
     ]
    },
    {
     "name": "stdout",
     "output_type": "stream",
     "text": [
      "['https://clyp.it/veek0ekg/widget']\n",
      "['https://clyp.it/532gh4s2/widget']\n",
      "['https://clyp.it/jx032yem/widget', 'https://clyp.it/rkfk2qqx/widget']\n",
      "['https://clyp.it/mfqzkmx2/widget']\n",
      "['https://clyp.it/5fe5g5bz/widget']\n",
      "['https://clyp.it/yvhi4udr/widget']\n",
      "['https://clyp.it/u4sxn0we/widget', 'https://clyp.it/mmgpp5vw/widget']\n"
     ]
    },
    {
     "name": "stderr",
     "output_type": "stream",
     "text": [
      " 60%|███████████████████████████████████████████████▌                               | 1387/2302 [01:09<00:31, 29.26it/s]"
     ]
    },
    {
     "name": "stdout",
     "output_type": "stream",
     "text": [
      "['https://clyp.it/yyniz34s/widget']\n"
     ]
    },
    {
     "name": "stderr",
     "output_type": "stream",
     "text": [
      " 61%|███████████████████████████████████████████████▊                               | 1393/2302 [01:10<01:25, 10.59it/s]"
     ]
    },
    {
     "name": "stdout",
     "output_type": "stream",
     "text": [
      "['https://clyp.it/ejfcdoza/widget']\n",
      "['https://clyp.it/fsumakhu/widget', 'https://clyp.it/m3pvj1hv/widget']\n",
      "['https://clyp.it/2trnltvk/widget']\n",
      "['https://clyp.it/qgqnj2zc/widget']\n",
      "['https://clyp.it/syxu3tmg/widget', 'https://clyp.it/td3n01td/widget']\n",
      "['https://w.soundcloud.com/player/?visual=false&amp', 'title=\"ע׳יר by Arabit', 'https://clyp.it/qgqnj2zc/widget']\n"
     ]
    },
    {
     "name": "stderr",
     "output_type": "stream",
     "text": [
      " 61%|████████████████████████████████████████████████                               | 1399/2302 [01:10<00:58, 15.52it/s]"
     ]
    },
    {
     "name": "stdout",
     "output_type": "stream",
     "text": [
      "['https://w.soundcloud.com/player/?visual=false&amp', 'title=\"אברה by Arabit']\n",
      "['https://clyp.it/nn5kkyrg/widget']\n",
      "['https://clyp.it/pnfgsxqy/widget']\n",
      "['https://clyp.it/1yywpqtm/widget']\n",
      "['https://clyp.it/tzcxo0uf/widget', 'https://clyp.it/2oe3wosn/widget']\n",
      "['https://clyp.it/wd4jxj3d/widget']\n"
     ]
    },
    {
     "name": "stderr",
     "output_type": "stream",
     "text": [
      " 61%|████████████████████████████████████████████████▏                              | 1405/2302 [01:10<00:44, 20.09it/s]"
     ]
    },
    {
     "name": "stdout",
     "output_type": "stream",
     "text": [
      "['https://clyp.it/3t2u3cbm/widget', 'https://clyp.it/aj34mtpa/widget']\n",
      "['https://clyp.it/fflzxesd/widget']\n",
      "['https://clyp.it/ozo1wbq1/widget']\n",
      "['https://clyp.it/xrdqgizl/widget']\n",
      "['https://clyp.it/5ooj4yxg/widget']\n",
      "['https://clyp.it/3hbqv0h3/widget', 'https://clyp.it/j1bfoeia/widget']\n"
     ]
    },
    {
     "name": "stderr",
     "output_type": "stream",
     "text": [
      " 61%|████████████████████████████████████████████████▍                              | 1411/2302 [01:11<00:37, 23.45it/s]"
     ]
    },
    {
     "name": "stdout",
     "output_type": "stream",
     "text": [
      "['https://clyp.it/n0itassx/widget']\n",
      "['https://clyp.it/gnnlbxsl/widget']\n",
      "['https://clyp.it/yzsxkoto/widget']\n",
      "['https://clyp.it/lu1dyikv/widget']\n",
      "['https://clyp.it/qhqtmoi5/widget']\n",
      "['https://clyp.it/l4jkvbpx/widget']\n"
     ]
    },
    {
     "name": "stderr",
     "output_type": "stream",
     "text": [
      " 62%|████████████████████████████████████████████████▋                              | 1417/2302 [01:11<00:34, 25.51it/s]"
     ]
    },
    {
     "name": "stdout",
     "output_type": "stream",
     "text": [
      "['https://clyp.it/hoxssmb5']\n",
      "['https://w.soundcloud.com/player/?visual=false&amp', 'title=\"אסקא by Arabit']\n",
      "['https://w.soundcloud.com/player/?visual=false&amp', 'title=\"שיח׳ by Arabit', 'https://clyp.it/3zoggrgi/widget']\n",
      "['https://clyp.it/bfxgelky/widget']\n",
      "['https://clyp.it/y41dmokg/widget', 'https://clyp.it/c1azqnjf']\n",
      "['https://clyp.it/muxwd5eb/widget']\n"
     ]
    },
    {
     "name": "stderr",
     "output_type": "stream",
     "text": [
      " 62%|████████████████████████████████████████████████▊                              | 1423/2302 [01:11<00:32, 26.98it/s]"
     ]
    },
    {
     "name": "stdout",
     "output_type": "stream",
     "text": [
      "['https://clyp.it/2sizvetn/widget']\n",
      "['https://clyp.it/suvzfmxk/widget']\n",
      "['https://clyp.it/oxfhc0y5/widget']\n",
      "['https://clyp.it/awgkasso/widget']\n",
      "['https://clyp.it/ds2ioyft/widget']\n",
      "['https://clyp.it/wx32hx45/widget']\n"
     ]
    },
    {
     "name": "stderr",
     "output_type": "stream",
     "text": [
      " 62%|█████████████████████████████████████████████████                              | 1430/2302 [01:11<00:30, 28.54it/s]"
     ]
    },
    {
     "name": "stdout",
     "output_type": "stream",
     "text": [
      "['https://clyp.it/5mk4uaot/widget']\n",
      "['https://clyp.it/ckakwrgm/widget']\n",
      "['https://clyp.it/zyrxo4ja/widget']\n",
      "['https://clyp.it/kwqn4iub/widget']\n",
      "['https://clyp.it/dubhkrve/widget', 'https://clyp.it/ilbhy415/widget', 'https://clyp.it/kzdge1ok/widget']\n",
      "['https://clyp.it/2nowapuc/widget']\n",
      "['https://clyp.it/a4okmvnp/widget']\n"
     ]
    },
    {
     "name": "stderr",
     "output_type": "stream",
     "text": [
      " 62%|█████████████████████████████████████████████████▎                             | 1436/2302 [01:11<00:30, 28.01it/s]"
     ]
    },
    {
     "name": "stdout",
     "output_type": "stream",
     "text": [
      "['https://clyp.it/10dd3llw/widget']\n",
      "['https://clyp.it/5w5kpwlj/widget']\n",
      "['https://clyp.it/zatfe55n/widget']\n",
      "['https://clyp.it/lkbifddj/widget', 'https://clyp.it/haxwo1dm/widget']\n",
      "['https://clyp.it/beozgh0w/widget', 'https://clyp.it/wydgcbxw/widget']\n",
      "['https://clyp.it/hso2pitn/widget']\n"
     ]
    },
    {
     "name": "stderr",
     "output_type": "stream",
     "text": [
      " 63%|█████████████████████████████████████████████████▍                             | 1442/2302 [01:12<00:30, 28.34it/s]"
     ]
    },
    {
     "name": "stdout",
     "output_type": "stream",
     "text": [
      "['https://clyp.it/l5dhvrk3/widget', 'https://clyp.it/kah1enc2/widget', 'https://clyp.it/pne112lt/widget']\n",
      "['https://clyp.it/ycccy25v/widget']\n",
      "['https://clyp.it/00gumbgn/widget', 'https://clyp.it/bt31uub5/widget', 'https://clyp.it/ywj4s2rb/widget']\n",
      "['https://clyp.it/sql03hrj/widget', 'https://clyp.it/dvzpgnta']\n",
      "['https://clyp.it/tlmwg4nv/widget']\n",
      "['https://clyp.it/dcenlfax/widget']\n"
     ]
    },
    {
     "name": "stderr",
     "output_type": "stream",
     "text": [
      " 63%|█████████████████████████████████████████████████▋                             | 1448/2302 [01:12<00:30, 27.60it/s]"
     ]
    },
    {
     "name": "stdout",
     "output_type": "stream",
     "text": [
      "['https://clyp.it/ntxg2xzb/widget']\n",
      "['https://clyp.it/tvxk2wwp/widget']\n",
      "['https://clyp.it/nstddijx/widget']\n",
      "['https://clyp.it/iujhxccb/widget']\n",
      "['https://clyp.it/nuaqiu02/widget', 'https://clyp.it/yl1no4ob/widget']\n",
      "['https://clyp.it/mwgtjr23/widget']\n"
     ]
    },
    {
     "name": "stderr",
     "output_type": "stream",
     "text": [
      " 63%|█████████████████████████████████████████████████▊                             | 1452/2302 [01:12<00:29, 28.45it/s]"
     ]
    },
    {
     "name": "stdout",
     "output_type": "stream",
     "text": [
      "['https://clyp.it/rwrfhqoc/widget']\n",
      "['https://clyp.it/2qesgnsz']\n",
      "['https://clyp.it/aa2152gw/widget', 'https://clyp.it/lv4agrfk/widget']\n",
      "['https://clyp.it/j20ntyn2/widget']\n",
      "['https://clyp.it/iav10n3x/widget']\n",
      "['https://clyp.it/bccodp1g/widget']\n",
      "['https://clyp.it/2t25ai54/widget']\n"
     ]
    },
    {
     "name": "stderr",
     "output_type": "stream",
     "text": [
      " 63%|██████████████████████████████████████████████████▏                            | 1461/2302 [01:12<00:30, 28.02it/s]"
     ]
    },
    {
     "name": "stdout",
     "output_type": "stream",
     "text": [
      "['https://clyp.it/knmq2o1c/widget']\n",
      "['https://clyp.it/sccfymko/widget']\n",
      "['https://clyp.it/fmk5id2w/widget']\n",
      "['https://clyp.it/uqgpnjt2/widget']\n",
      "['https://clyp.it/s1f3nn00/widget']\n",
      "['https://clyp.it/mbkgmmp0/widget']\n"
     ]
    },
    {
     "name": "stderr",
     "output_type": "stream",
     "text": [
      " 64%|██████████████████████████████████████████████████▎                            | 1467/2302 [01:13<00:29, 27.96it/s]"
     ]
    },
    {
     "name": "stdout",
     "output_type": "stream",
     "text": [
      "['https://clyp.it/c51srbrg']\n",
      "['https://clyp.it/u5uxaslb/widget']\n",
      "['https://clyp.it/zn1eeopk/widget']\n",
      "['https://clyp.it/seknicho/widget']\n",
      "['https://clyp.it/acpaftsg/widget']\n",
      "['https://clyp.it/htpymivy/widget']\n",
      "['https://clyp.it/olq2to55/widget', 'https://clyp.it/gdrxz1c1/widget', 'https://clyp.it/vuaofcua/widget']\n",
      "['https://clyp.it/dliy4bs4/widget']\n"
     ]
    },
    {
     "name": "stderr",
     "output_type": "stream",
     "text": [
      " 64%|██████████████████████████████████████████████████▌                            | 1473/2302 [01:14<01:20, 10.24it/s]"
     ]
    },
    {
     "name": "stdout",
     "output_type": "stream",
     "text": [
      "['https://clyp.it/sjfig2fj']\n",
      "['https://clyp.it/ms3cxib2/widget']\n",
      "['https://clyp.it/2wyx2flt/widget']\n",
      "['https://clyp.it/atwkzck1/widget']\n",
      "['https://clyp.it/h2s1s25r/widget']\n",
      "['https://clyp.it/5lr2lddt/widget']\n"
     ]
    },
    {
     "name": "stderr",
     "output_type": "stream",
     "text": [
      " 64%|██████████████████████████████████████████████████▊                            | 1479/2302 [01:14<00:54, 15.04it/s]"
     ]
    },
    {
     "name": "stdout",
     "output_type": "stream",
     "text": [
      "['https://clyp.it/1nyybjuj/widget', 'https://clyp.it/hesfwy4x/widget']\n",
      "['https://clyp.it/5dhzrccd/widget', 'https://clyp.it/sbruca4p/widget', 'https://clyp.it/ywayn2pa/widget']\n",
      "['https://clyp.it/nnztbl3b/widget']\n",
      "['https://clyp.it/40grfxbu/widget']\n",
      "['https://clyp.it/qvv1ruqd/widget']\n",
      "['https://clyp.it/3j3b5j4y/widget']\n"
     ]
    },
    {
     "name": "stderr",
     "output_type": "stream",
     "text": [
      " 65%|██████████████████████████████████████████████████▉                            | 1485/2302 [01:14<00:42, 19.44it/s]"
     ]
    },
    {
     "name": "stdout",
     "output_type": "stream",
     "text": [
      "['https://clyp.it/ol0silvr/widget', 'https://clyp.it/ibbxeehm/widget']\n",
      "['https://clyp.it/lvpefap1/widget']\n",
      "['https://clyp.it/55oy2qxr/widget']\n",
      "['https://clyp.it/qmtjcccr/widget']\n",
      "['https://clyp.it/uwhpdmd3/widget', 'https://clyp.it/0e4lnfzx/widget', 'https://clyp.it/y05ibhuw']\n",
      "['https://clyp.it/0ferag4y/widget']\n"
     ]
    },
    {
     "name": "stderr",
     "output_type": "stream",
     "text": [
      " 65%|███████████████████████████████████████████████████▏                           | 1491/2302 [01:14<00:36, 22.31it/s]"
     ]
    },
    {
     "name": "stdout",
     "output_type": "stream",
     "text": [
      "['https://clyp.it/4fo2fzzw/widget']\n",
      "['https://clyp.it/eqqjhnj4/widget']\n",
      "['https://clyp.it/hu1m4tpg/widget', 'https://clyp.it/23fyeliq/widget']\n",
      "['https://clyp.it/5351pv1r/widget']\n",
      "['https://clyp.it/wksrjy3o/widget']\n",
      "['https://clyp.it/hac3chle/widget']\n"
     ]
    },
    {
     "name": "stderr",
     "output_type": "stream",
     "text": [
      " 65%|███████████████████████████████████████████████████▎                           | 1497/2302 [01:15<00:33, 24.10it/s]"
     ]
    },
    {
     "name": "stdout",
     "output_type": "stream",
     "text": [
      "['https://clyp.it/22dz4nqh/widget']\n",
      "['https://clyp.it/fpiyydrk/widget']\n",
      "['https://clyp.it/amzf5wrk/widget']\n",
      "['https://clyp.it/tdrdzhqi/widget']\n",
      "['https://clyp.it/4ipyaa0m/widget']\n"
     ]
    },
    {
     "name": "stderr",
     "output_type": "stream",
     "text": [
      " 65%|███████████████████████████████████████████████████▌                           | 1503/2302 [01:15<00:34, 23.50it/s]"
     ]
    },
    {
     "name": "stdout",
     "output_type": "stream",
     "text": [
      "['https://clyp.it/bg0hdwty/widget', 'https://clyp.it/iwwaiusj', 'https://clyp.it/eocfdb0p']\n",
      "['https://clyp.it/skejxm0o/widget', 'https://clyp.it/lxtr1k1r/widget', 'https://clyp.it/bdf1y30r/widget', 'https://clyp.it/mzhwvwgo/widget']\n",
      "['https://clyp.it/dp2idhhc/widget']\n",
      "['https://clyp.it/3nyvfv3u/widget']\n",
      "['https://clyp.it/3encehd0/widget']\n"
     ]
    },
    {
     "name": "stderr",
     "output_type": "stream",
     "text": [
      " 66%|███████████████████████████████████████████████████▊                           | 1509/2302 [01:15<00:31, 25.07it/s]"
     ]
    },
    {
     "name": "stdout",
     "output_type": "stream",
     "text": [
      "['https://clyp.it/imv0sjnb/widget']\n",
      "['https://clyp.it/o0runwiy/widget']\n",
      "['https://clyp.it/dnouztl0/widget']\n",
      "['https://clyp.it/e2g3pguz/widget', 'https://clyp.it/pxkgfj34/widget']\n",
      "['https://clyp.it/rccac1op/widget']\n",
      "['https://clyp.it/0qyzwdhd/widget']\n"
     ]
    },
    {
     "name": "stderr",
     "output_type": "stream",
     "text": [
      " 66%|███████████████████████████████████████████████████▉                           | 1513/2302 [01:15<00:29, 26.72it/s]"
     ]
    },
    {
     "name": "stdout",
     "output_type": "stream",
     "text": [
      "['https://clyp.it/qwxzqm4p/widget']\n",
      "['https://clyp.it/tiptyx1v/widget', 'https://clyp.it/la35yrug/widget']\n",
      "[]\n",
      "['https://clyp.it/2eowjolx/widget', 'https://clyp.it/kedibwon/widget', 'https://clyp.it/44qvnfck']\n",
      "['https://clyp.it/c5pb5vjr/widget']\n",
      "['https://clyp.it/ktcicopa/widget']\n"
     ]
    },
    {
     "name": "stderr",
     "output_type": "stream",
     "text": [
      " 66%|████████████████████████████████████████████████████▏                          | 1519/2302 [01:15<00:28, 27.18it/s]"
     ]
    },
    {
     "name": "stdout",
     "output_type": "stream",
     "text": [
      "['https://clyp.it/0gdutaoy/widget']\n",
      "['https://clyp.it/c2d4unvw/widget']\n",
      "['https://clyp.it/q5ochzwq/widget']\n",
      "['https://clyp.it/sgaj5vlb/widget']\n",
      "['https://clyp.it/aasbcdkq/widget']\n",
      "['https://clyp.it/21ulqes3/widget']\n"
     ]
    },
    {
     "name": "stderr",
     "output_type": "stream",
     "text": [
      " 66%|████████████████████████████████████████████████████▎                          | 1525/2302 [01:16<00:28, 27.43it/s]"
     ]
    },
    {
     "name": "stdout",
     "output_type": "stream",
     "text": [
      "['https://clyp.it/dw3mkabx/widget']\n",
      "['https://clyp.it/x52i1etn/widget', 'https://clyp.it/3mvw1qxq/widget']\n",
      "['https://clyp.it/rp3aq53l/widget']\n",
      "['https://clyp.it/evy0txri/widget', 'https://clyp.it/azqymf12/widget']\n",
      "['https://clyp.it/ouy4ul5w/widget']\n",
      "['https://clyp.it/q14c1qia/widget']\n"
     ]
    },
    {
     "name": "stderr",
     "output_type": "stream",
     "text": [
      " 67%|████████████████████████████████████████████████████▌                          | 1531/2302 [01:16<00:28, 26.67it/s]"
     ]
    },
    {
     "name": "stdout",
     "output_type": "stream",
     "text": [
      "['https://clyp.it/dvtescho/widget', 'https://clyp.it/jpof3wo1/widget']\n",
      "['https://clyp.it/dknmfjix/widget']\n",
      "['https://clyp.it/0bqq0apc/widget']\n",
      "['https://clyp.it/ci1frkj0/widget']\n",
      "['https://clyp.it/vi1ssmih/widget']\n",
      "['https://clyp.it/mqdatnzi/widget']\n"
     ]
    },
    {
     "name": "stderr",
     "output_type": "stream",
     "text": [
      " 67%|████████████████████████████████████████████████████▊                          | 1538/2302 [01:16<00:26, 28.39it/s]"
     ]
    },
    {
     "name": "stdout",
     "output_type": "stream",
     "text": [
      "['https://clyp.it/prawoun3/widget', 'https://clyp.it/qvhcrigl/widget', 'https://clyp.it/midrko5f/widget']\n",
      "['https://clyp.it/ae45trx3/widget']\n",
      "['https://clyp.it/zvy2uur5/widget']\n",
      "['https://clyp.it/ohmrrt30/widget']\n",
      "['https://clyp.it/0cmjnf00/widget']\n",
      "['https://clyp.it/kld0eorr/widget']\n",
      "['https://clyp.it/qejcvwiy/widget']\n"
     ]
    },
    {
     "name": "stderr",
     "output_type": "stream",
     "text": [
      " 67%|█████████████████████████████████████████████████████                          | 1546/2302 [01:16<00:26, 28.77it/s]"
     ]
    },
    {
     "name": "stdout",
     "output_type": "stream",
     "text": [
      "['https://clyp.it/j0um2k2o/widget']\n",
      "['https://clyp.it/dhnjktlp/widget']\n",
      "['https://clyp.it/poohuv1h/widget', 'https://clyp.it/1kjvhucc/widget']\n",
      "['https://clyp.it/ip1sdtzt/widget']\n",
      "['https://clyp.it/xu4dhkdc/widget']\n",
      "['https://clyp.it/aoobabn4/widget', 'https://clyp.it/cz0dlcw3/widget', 'https://clyp.it/dj2xalj3/widget']\n"
     ]
    },
    {
     "name": "stderr",
     "output_type": "stream",
     "text": [
      " 67%|█████████████████████████████████████████████████████▎                         | 1552/2302 [01:17<00:26, 28.00it/s]"
     ]
    },
    {
     "name": "stdout",
     "output_type": "stream",
     "text": [
      "['https://clyp.it/ouiym3j2/widget']\n",
      "['https://clyp.it/ctfsmubt/widget']\n",
      "['https://clyp.it/0opqr30s/widget']\n",
      "['https://clyp.it/bkukiqfn/widget']\n",
      "['https://clyp.it/2ylpneyn/widget']\n",
      "['https://clyp.it/vzocynfp']\n"
     ]
    },
    {
     "name": "stderr",
     "output_type": "stream",
     "text": [
      " 68%|█████████████████████████████████████████████████████▍                         | 1558/2302 [01:18<01:11, 10.40it/s]"
     ]
    },
    {
     "name": "stdout",
     "output_type": "stream",
     "text": [
      "['https://clyp.it/rhrh3n2h/widget', 'https://clyp.it/asxvx4cd/widget']\n",
      "['https://clyp.it/r1uql2he/widget']\n",
      "['https://w.soundcloud.com/player/?visual=false&amp', 'title=\"הין by Arabit']\n",
      "['https://w.soundcloud.com/player/?visual=false&amp', 'title=\"תמנא by Arabit']\n",
      "['https://clyp.it/0w5vwhzq/widget']\n",
      "['https://clyp.it/jcfvi5gh/widget', 'https://clyp.it/kqttlejn/widget']\n"
     ]
    },
    {
     "name": "stderr",
     "output_type": "stream",
     "text": [
      " 68%|█████████████████████████████████████████████████████▋                         | 1564/2302 [01:18<00:48, 15.28it/s]"
     ]
    },
    {
     "name": "stdout",
     "output_type": "stream",
     "text": [
      "['https://clyp.it/z2jfagct/widget']\n",
      "['https://clyp.it/gkahjn4y/widget']\n",
      "['https://clyp.it/yolzlssd/widget']\n",
      "['https://clyp.it/inrs5toh/widget']\n",
      "['https://clyp.it/zxmpfv1f/widget']\n",
      "['https://clyp.it/rbq4dy1e/widget']\n"
     ]
    },
    {
     "name": "stderr",
     "output_type": "stream",
     "text": [
      " 68%|█████████████████████████████████████████████████████▊                         | 1568/2302 [01:18<00:39, 18.59it/s]"
     ]
    },
    {
     "name": "stdout",
     "output_type": "stream",
     "text": [
      "['https://clyp.it/rcixns4k/widget', 'https://clyp.it/553vrsne/widget']\n",
      "['https://clyp.it/xwawebfl/widget']\n",
      "['https://clyp.it/5nxhbhrt/widget']\n",
      "['https://clyp.it/2gazqgl5/widget']\n",
      "['https://clyp.it/5pylsfwy/widget']\n",
      "['https://clyp.it/w20h5pkn/widget']\n",
      "['https://clyp.it/yw55kftv/widget']\n"
     ]
    },
    {
     "name": "stderr",
     "output_type": "stream",
     "text": [
      " 69%|██████████████████████████████████████████████████████▏                        | 1578/2302 [01:18<00:29, 24.76it/s]"
     ]
    },
    {
     "name": "stdout",
     "output_type": "stream",
     "text": [
      "['https://clyp.it/l1bw1mo5/widget', 'https://clyp.it/y2h0cpjz/widget']\n",
      "['https://clyp.it/fcknhe4i/widget']\n",
      "['https://clyp.it/ki4ibgb4/widget']\n",
      "['https://clyp.it/fivpxmpr/widget']\n",
      "['https://clyp.it/fz1t5gxc/widget']\n",
      "['https://clyp.it/ilsyy0aa/widget', 'https://clyp.it/xychud3r/widget']\n",
      "['https://clyp.it/pfnlquil/widget']\n"
     ]
    },
    {
     "name": "stderr",
     "output_type": "stream",
     "text": [
      " 69%|██████████████████████████████████████████████████████▎                        | 1584/2302 [01:19<00:27, 26.16it/s]"
     ]
    },
    {
     "name": "stdout",
     "output_type": "stream",
     "text": [
      "['https://clyp.it/nhfdbgpv/widget', 'https://clyp.it/yb0tfsyg/widget']\n",
      "['https://clyp.it/amziz5r4/widget']\n",
      "['https://clyp.it/q5bw4kxt/widget']\n",
      "['https://clyp.it/r2wvv5tw/widget', 'https://clyp.it/shiefuen/widget']\n",
      "['https://clyp.it/euofhxap/widget']\n",
      "['https://clyp.it/4kk3rubc/widget']\n"
     ]
    },
    {
     "name": "stderr",
     "output_type": "stream",
     "text": [
      " 69%|██████████████████████████████████████████████████████▌                        | 1591/2302 [01:19<00:25, 28.00it/s]"
     ]
    },
    {
     "name": "stdout",
     "output_type": "stream",
     "text": [
      "['https://clyp.it/habgo1ny/widget']\n",
      "['https://clyp.it/latsgqxn/widget']\n",
      "['https://clyp.it/m5pxu2wy/widget']\n",
      "['https://clyp.it/bq152hkb/widget']\n",
      "['https://clyp.it/iojcyoa5/widget']\n",
      "['https://clyp.it/3mkc3pd1/widget']\n",
      "['https://clyp.it/jdr0ds1j/widget']\n"
     ]
    },
    {
     "name": "stderr",
     "output_type": "stream",
     "text": [
      " 69%|██████████████████████████████████████████████████████▊                        | 1597/2302 [01:19<00:24, 28.68it/s]"
     ]
    },
    {
     "name": "stdout",
     "output_type": "stream",
     "text": [
      "['https://clyp.it/lqq4ba4x/widget']\n",
      "['https://clyp.it/ilime3ir/widget']\n",
      "['https://clyp.it/gnff0ftk/widget', 'https://clyp.it/mgghozha/widget']\n",
      "['https://clyp.it/u2ln10ie/widget']\n",
      "['https://clyp.it/3atfqpai/widget']\n",
      "['https://clyp.it/l3ksqdeq/widget', 'https://clyp.it/bpfedikb/widget']\n",
      "['https://clyp.it/o3m3jlfl/widget']\n"
     ]
    },
    {
     "name": "stderr",
     "output_type": "stream",
     "text": [
      " 70%|███████████████████████████████████████████████████████                        | 1604/2302 [01:19<00:23, 29.18it/s]"
     ]
    },
    {
     "name": "stdout",
     "output_type": "stream",
     "text": [
      "['https://clyp.it/px1zedub/widget']\n",
      "['https://clyp.it/wjrmj0au/widget']\n",
      "['https://clyp.it/epqv3pvd/widget']\n",
      "['https://clyp.it/hdzssbvb/widget']\n",
      "['https://clyp.it/0f2ibqmp/widget']\n",
      "['https://clyp.it/43crg5ch/widget']\n",
      "['https://clyp.it/b0loobmh/widget']\n"
     ]
    },
    {
     "name": "stderr",
     "output_type": "stream",
     "text": [
      " 70%|███████████████████████████████████████████████████████▎                       | 1610/2302 [01:19<00:23, 29.07it/s]"
     ]
    },
    {
     "name": "stdout",
     "output_type": "stream",
     "text": [
      "['https://clyp.it/3wmpma5u/widget']\n",
      "['https://clyp.it/vegkxc4n/widget']\n",
      "['https://clyp.it/rkoc1ame/widget']\n",
      "['https://clyp.it/yl1no4ob/widget']\n",
      "['https://clyp.it/5vfdvtei/widget']\n",
      "['https://clyp.it/0rjkwayi/widget']\n",
      "['https://clyp.it/o545hhtu']\n"
     ]
    },
    {
     "name": "stderr",
     "output_type": "stream",
     "text": [
      " 70%|███████████████████████████████████████████████████████▍                       | 1617/2302 [01:20<00:23, 29.43it/s]"
     ]
    },
    {
     "name": "stdout",
     "output_type": "stream",
     "text": [
      "['https://clyp.it/mx1ovlko/widget']\n",
      "['https://clyp.it/22bl5uxn/widget']\n",
      "['https://clyp.it/q2hnt15k/widget', 'https://clyp.it/0nz1t4mp/widget']\n",
      "['https://clyp.it/p3nu13pt/widget', 'https://clyp.it/h4caufxw/widget']\n",
      "['https://clyp.it/3jmod5xf/widget']\n",
      "['https://clyp.it/mlf02ail/widget']\n"
     ]
    },
    {
     "name": "stderr",
     "output_type": "stream",
     "text": [
      " 71%|███████████████████████████████████████████████████████▋                       | 1623/2302 [01:20<00:24, 27.59it/s]"
     ]
    },
    {
     "name": "stdout",
     "output_type": "stream",
     "text": [
      "['https://w.soundcloud.com/player/?visual=false&amp', 'title=\"מסאול by Arabit', 'https://clyp.it/knjyqp3s/widget']\n",
      "['https://w.soundcloud.com/player/?visual=false&amp', 'title=\"מסהר by Arabit', 'https://clyp.it/i5wdwnv5/widget']\n",
      "['https://clyp.it/po4powj5/widget']\n",
      "['https://w.soundcloud.com/player/?visual=false&amp', 'title=\"טנש by Arabit']\n",
      "['https://clyp.it/f3ackmuh/widget']\n",
      "['https://clyp.it/il0cqpgj/widget']\n"
     ]
    },
    {
     "name": "stderr",
     "output_type": "stream",
     "text": [
      " 71%|███████████████████████████████████████████████████████▉                       | 1629/2302 [01:20<00:23, 28.38it/s]"
     ]
    },
    {
     "name": "stdout",
     "output_type": "stream",
     "text": [
      "['https://clyp.it/nn403jtr/widget']\n",
      "['https://clyp.it/kemrbm3r/widget']\n",
      "['https://clyp.it/rhwcamxm/widget']\n",
      "['https://clyp.it/4pfbnabc/widget']\n",
      "['https://clyp.it/wr300zhk/widget']\n",
      "['https://clyp.it/ltasoazn/widget']\n"
     ]
    },
    {
     "name": "stderr",
     "output_type": "stream",
     "text": [
      " 71%|████████████████████████████████████████████████████████                       | 1632/2302 [01:20<00:23, 28.44it/s]"
     ]
    },
    {
     "name": "stdout",
     "output_type": "stream",
     "text": [
      "['https://clyp.it/r32cffhh/widget', 'https://clyp.it/gi1frtd4/widget']\n",
      "['https://clyp.it/aqapg5hy/widget']\n",
      "['https://clyp.it/5ntjjqh1/widget']\n",
      "['https://clyp.it/itxk3uqp/widget']\n"
     ]
    },
    {
     "name": "stderr",
     "output_type": "stream",
     "text": [
      " 71%|████████████████████████████████████████████████████████▏                      | 1638/2302 [01:21<01:03, 10.49it/s]"
     ]
    },
    {
     "name": "stdout",
     "output_type": "stream",
     "text": [
      "['https://clyp.it/dzg0tbxf/widget']\n",
      "['https://clyp.it/kkhemnew/widget']\n",
      "['https://clyp.it/hwms0mbi/widget']\n",
      "['https://clyp.it/xx4y1bvq/widget']\n",
      "['https://clyp.it/eearryj2/widget']\n",
      "['https://clyp.it/ynvyhhai/widget']\n"
     ]
    },
    {
     "name": "stderr",
     "output_type": "stream",
     "text": [
      " 71%|████████████████████████████████████████████████████████▍                      | 1644/2302 [01:22<00:44, 14.88it/s]"
     ]
    },
    {
     "name": "stdout",
     "output_type": "stream",
     "text": [
      "['https://clyp.it/2cqttciy/widget']\n",
      "['https://clyp.it/rejorxhd/widget']\n",
      "['https://clyp.it/t1hofaza/widget', 'https://clyp.it/ymsfr4ag/widget']\n",
      "['https://clyp.it/mkxvonzc/widget']\n",
      "['https://clyp.it/bagrnwgx/widget', 'https://clyp.it/xvepn4kb/widget']\n"
     ]
    },
    {
     "name": "stderr",
     "output_type": "stream",
     "text": [
      " 72%|████████████████████████████████████████████████████████▌                      | 1650/2302 [01:22<00:34, 18.73it/s]"
     ]
    },
    {
     "name": "stdout",
     "output_type": "stream",
     "text": [
      "[]\n",
      "['https://clyp.it/ih2sgn2j/widget', 'https://clyp.it/kngxgfrz/widget']\n",
      "['https://clyp.it/dhonvjrl/widget']\n",
      "['https://clyp.it/tfbukxav/widget']\n",
      "['https://clyp.it/b4b2rwto/widget']\n",
      "['https://clyp.it/51hjngav/widget', 'https://clyp.it/zegi3o1h/widget']\n"
     ]
    },
    {
     "name": "stderr",
     "output_type": "stream",
     "text": [
      " 72%|████████████████████████████████████████████████████████▊                      | 1656/2302 [01:22<00:30, 21.44it/s]"
     ]
    },
    {
     "name": "stdout",
     "output_type": "stream",
     "text": [
      "['https://clyp.it/u5zywlcm/widget', 'https://clyp.it/1i1eum4w/widget']\n",
      "['https://clyp.it/yx21bq01/widget']\n",
      "['https://clyp.it/4v02t13y/widget', 'https://clyp.it/ltxh4tin/widget']\n",
      "['https://clyp.it/owjdok5x/widget']\n",
      "['https://clyp.it/aoldwvso/widget']\n",
      "['https://clyp.it/sc3qbchv/widget']\n"
     ]
    },
    {
     "name": "stderr",
     "output_type": "stream",
     "text": [
      " 72%|█████████████████████████████████████████████████████████                      | 1662/2302 [01:22<00:27, 22.95it/s]"
     ]
    },
    {
     "name": "stdout",
     "output_type": "stream",
     "text": [
      "['https://clyp.it/anvbwnfh/widget']\n",
      "['https://clyp.it/y4j3fvhu/widget']\n",
      "['https://clyp.it/3ywdhyuj/widget']\n",
      "['https://clyp.it/2mbpsja3/widget']\n",
      "['https://clyp.it/po4powj5/widget']\n",
      "['https://clyp.it/guy53nux/widget']\n"
     ]
    },
    {
     "name": "stderr",
     "output_type": "stream",
     "text": [
      " 72%|█████████████████████████████████████████████████████████▏                     | 1668/2302 [01:23<00:26, 23.99it/s]"
     ]
    },
    {
     "name": "stdout",
     "output_type": "stream",
     "text": [
      "['https://clyp.it/rr4145kr/widget']\n",
      "['https://clyp.it/hyqgwcl4/widget']\n",
      "['https://clyp.it/ja5uv0kq/widget', 'https://clyp.it/eoh3sjoq/widget']\n",
      "['https://clyp.it/fwienkjn/widget']\n",
      "['https://clyp.it/0fhna3qg/widget']\n",
      "['https://clyp.it/ljt1j4f4/widget']\n"
     ]
    },
    {
     "name": "stderr",
     "output_type": "stream",
     "text": [
      " 73%|█████████████████████████████████████████████████████████▍                     | 1674/2302 [01:23<00:24, 25.43it/s]"
     ]
    },
    {
     "name": "stdout",
     "output_type": "stream",
     "text": [
      "['https://clyp.it/k2ysyik4/widget']\n",
      "['https://clyp.it/isnyykeq/widget']\n",
      "['https://clyp.it/jgoyrzjf/widget']\n",
      "['https://clyp.it/mo4qza2g/widget']\n",
      "['https://clyp.it/1ueh455m/widget']\n",
      "['https://clyp.it/qpyfkmr2/widget']\n"
     ]
    },
    {
     "name": "stderr",
     "output_type": "stream",
     "text": [
      " 73%|█████████████████████████████████████████████████████████▋                     | 1680/2302 [01:23<00:23, 26.86it/s]"
     ]
    },
    {
     "name": "stdout",
     "output_type": "stream",
     "text": [
      "['https://clyp.it/mvssgpvw/widget']\n",
      "['https://clyp.it/5wp2bnsw/widget', 'https://clyp.it/qnii4ipa/widget']\n",
      "['https://clyp.it/3rzkkz52/widget']\n",
      "['https://clyp.it/neo5kkyb/widget']\n",
      "['https://clyp.it/yfizh4bg/widget', 'https://clyp.it/xz0becqn/widget']\n",
      "['https://clyp.it/q1esh4wx/widget']\n",
      "['https://clyp.it/i5wdwnv5/widget']\n"
     ]
    },
    {
     "name": "stderr",
     "output_type": "stream",
     "text": [
      " 73%|█████████████████████████████████████████████████████████▊                     | 1686/2302 [01:23<00:22, 27.53it/s]"
     ]
    },
    {
     "name": "stdout",
     "output_type": "stream",
     "text": [
      "['https://clyp.it/zv55xnkq/widget', 'https://clyp.it/h3jxhmur/widget']\n",
      "['https://clyp.it/mrzx5qhn/widget']\n",
      "['https://clyp.it/wbds0qfv/widget']\n",
      "['https://clyp.it/ubrgds33/widget']\n",
      "['https://clyp.it/plaqrtrl/widget']\n",
      "['https://clyp.it/m2ovkbgh/widget']\n",
      "['https://clyp.it/1f24jwnp/widget']\n"
     ]
    },
    {
     "name": "stderr",
     "output_type": "stream",
     "text": [
      " 74%|██████████████████████████████████████████████████████████                     | 1693/2302 [01:23<00:21, 28.63it/s]"
     ]
    },
    {
     "name": "stdout",
     "output_type": "stream",
     "text": [
      "['https://clyp.it/cbecxwuh/widget']\n",
      "['https://clyp.it/tzsvjtgs/widget', 'https://clyp.it/oi4kkop3/widget']\n",
      "['https://clyp.it/4uver2s0/widget']\n",
      "['https://clyp.it/3reejs4g/widget']\n",
      "['https://clyp.it/hekjjdfe/widget']\n",
      "['https://clyp.it/ozrzv1ce/widget', 'https://clyp.it/j4nc4ghy/widget']\n",
      "['https://clyp.it/pxt3hsg2/widget']\n"
     ]
    },
    {
     "name": "stderr",
     "output_type": "stream",
     "text": [
      " 74%|██████████████████████████████████████████████████████████▎                    | 1701/2302 [01:24<00:20, 29.26it/s]"
     ]
    },
    {
     "name": "stdout",
     "output_type": "stream",
     "text": [
      "['https://clyp.it/wki0vppj/widget']\n",
      "['https://clyp.it/5eqp0v1b/widget']\n",
      "['https://clyp.it/zcgyfwcl/widget', 'https://clyp.it/uuhdsywk/widget']\n",
      "['https://clyp.it/zkwz1hxm/widget']\n",
      "['https://clyp.it/42tjxhou/widget']\n",
      "['https://clyp.it/s34x5a44/widget']\n",
      "['https://clyp.it/3jyzpyw1/widget', 'https://clyp.it/wgyvclfz']\n"
     ]
    },
    {
     "name": "stderr",
     "output_type": "stream",
     "text": [
      " 74%|██████████████████████████████████████████████████████████▌                    | 1707/2302 [01:24<00:20, 28.86it/s]"
     ]
    },
    {
     "name": "stdout",
     "output_type": "stream",
     "text": [
      "['https://clyp.it/dqqpfkq1/widget']\n",
      "['https://clyp.it/uqy1b0hy/widget']\n",
      "['https://clyp.it/wedzebpt/widget']\n",
      "['https://clyp.it/sll4bhii/widget']\n",
      "['https://clyp.it/wnejcntw/widget']\n",
      "['https://clyp.it/w0ch51gl/widget', 'https://clyp.it/anw1scgu/widget']\n"
     ]
    },
    {
     "name": "stderr",
     "output_type": "stream",
     "text": [
      " 74%|██████████████████████████████████████████████████████████▊                    | 1713/2302 [01:24<00:21, 27.64it/s]"
     ]
    },
    {
     "name": "stdout",
     "output_type": "stream",
     "text": [
      "['https://clyp.it/0g5wfmvv/widget']\n",
      "['https://clyp.it/01hvsulk/widget']\n",
      "['https://clyp.it/nz2l2oxn/widget']\n",
      "['https://clyp.it/2dhmwxcy/widget']\n",
      "['https://clyp.it/ir0o0vxw/widget']\n",
      "['https://clyp.it/renkzgwh/widget']\n"
     ]
    },
    {
     "name": "stderr",
     "output_type": "stream",
     "text": [
      " 75%|██████████████████████████████████████████████████████████▉                    | 1716/2302 [01:24<00:21, 27.17it/s]"
     ]
    },
    {
     "name": "stdout",
     "output_type": "stream",
     "text": [
      "['https://clyp.it/zafw04nf/widget', 'https://clyp.it/sg5ve0dv/widget', 'https://clyp.it/l5owm2jn/widget']\n",
      "['https://clyp.it/jfobym0i/widget']\n"
     ]
    },
    {
     "name": "stderr",
     "output_type": "stream",
     "text": [
      " 75%|███████████████████████████████████████████████████████████                    | 1722/2302 [01:25<00:57, 10.02it/s]"
     ]
    },
    {
     "name": "stdout",
     "output_type": "stream",
     "text": [
      "['https://clyp.it/nddimqhy/widget', 'https://clyp.it/vbz54jh5/widget', 'https://clyp.it/pne112lt/widget']\n",
      "['https://clyp.it/nrw4lax0/widget']\n",
      "['https://clyp.it/wee5icph/widget', 'https://clyp.it/zdvjmebr/widget', 'https://clyp.it/dcenlfax/widget']\n",
      "['https://clyp.it/amfky0wx/widget']\n",
      "['https://clyp.it/f2rsj4yl/widget']\n",
      "['https://clyp.it/3zwa5i5o/widget', 'https://clyp.it/r4kj5bje/widget']\n"
     ]
    },
    {
     "name": "stderr",
     "output_type": "stream",
     "text": [
      " 75%|███████████████████████████████████████████████████████████▎                   | 1728/2302 [01:26<00:38, 15.01it/s]"
     ]
    },
    {
     "name": "stdout",
     "output_type": "stream",
     "text": [
      "['https://clyp.it/m3241w1b/widget', 'https://clyp.it/30b2sbow/widget']\n",
      "['https://clyp.it/3pb5yut0/widget']\n",
      "['https://clyp.it/5mvluz41/widget']\n",
      "['https://clyp.it/5enqh0ya/widget']\n",
      "['https://clyp.it/ao5rftw5/widget']\n",
      "['https://clyp.it/nednlwg5/widget']\n",
      "['https://clyp.it/dstfyfvv/widget', 'https://clyp.it/tzraj30g/widget', 'https://clyp.it/ux4vu5cy/widget']\n"
     ]
    },
    {
     "name": "stderr",
     "output_type": "stream",
     "text": [
      " 75%|███████████████████████████████████████████████████████████▌                   | 1734/2302 [01:26<00:28, 19.88it/s]"
     ]
    },
    {
     "name": "stdout",
     "output_type": "stream",
     "text": [
      "['https://clyp.it/fayegvjv/widget', 'https://clyp.it/j1g3faaj/widget']\n",
      "['https://clyp.it/yy542bym/widget', 'https://clyp.it/px333tww/widget']\n",
      "['https://w.soundcloud.com/player/?visual=false&amp', 'title=\"סהם by Arabit']\n",
      "['https://clyp.it/zprrzj3q/widget', 'https://clyp.it/tbvoktxb/widget']\n",
      "['https://clyp.it/klcfccdr/widget']\n",
      "['https://clyp.it/oguoqnxt/widget']\n",
      "['https://clyp.it/wk1dmf1c/widget']\n"
     ]
    },
    {
     "name": "stderr",
     "output_type": "stream",
     "text": [
      " 76%|███████████████████████████████████████████████████████████▊                   | 1743/2302 [01:26<00:22, 24.98it/s]"
     ]
    },
    {
     "name": "stdout",
     "output_type": "stream",
     "text": [
      "['https://clyp.it/4cfj3qzd/widget']\n",
      "['https://clyp.it/ruil5nxh/widget']\n",
      "['https://clyp.it/tn3vr1ch/widget']\n",
      "['https://clyp.it/q3jdjqhz/widget']\n",
      "['https://clyp.it/sk3hskiw/widget', 'https://clyp.it/gathbh40/widget']\n",
      "['https://clyp.it/zlbcnvnf/widget']\n"
     ]
    },
    {
     "name": "stderr",
     "output_type": "stream",
     "text": [
      " 76%|███████████████████████████████████████████████████████████▉                   | 1747/2302 [01:26<00:20, 26.54it/s]"
     ]
    },
    {
     "name": "stdout",
     "output_type": "stream",
     "text": [
      "['https://clyp.it/4kqrhrv3/widget']\n",
      "['https://clyp.it/nctgnz2k/widget']\n",
      "['https://clyp.it/xjvw0n2v/widget', 'https://clyp.it/r4kj5bje/widget']\n",
      "['https://clyp.it/mwmxnabp/widget', 'https://clyp.it/gddlpgrx/widget']\n",
      "['https://clyp.it/3kkrxsh3/widget', 'https://clyp.it/e1birtib/widget', 'https://clyp.it/cpnwovrx/widget', 'https://clyp.it/1ekiufre/widget']\n",
      "['https://clyp.it/kcvb2tcp/widget']\n"
     ]
    },
    {
     "name": "stderr",
     "output_type": "stream",
     "text": [
      " 76%|████████████████████████████████████████████████████████████▏                  | 1753/2302 [01:26<00:20, 27.19it/s]"
     ]
    },
    {
     "name": "stdout",
     "output_type": "stream",
     "text": [
      "['https://clyp.it/f0tdj1z2/widget', 'https://clyp.it/qv3tmvxh/widget']\n",
      "['https://clyp.it/bcc3or0s/widget', 'https://clyp.it/l5dhvrk3/widget', 'https://clyp.it/kah1enc2/widget', 'https://clyp.it/pne112lt/widget']\n",
      "['https://clyp.it/35gjitnv/widget']\n",
      "['https://clyp.it/u1kkg2by/widget', 'https://clyp.it/w42rfbyx/widget']\n",
      "['https://clyp.it/gyxwyc1p/widget', 'https://clyp.it/bx2tcfs4/widget']\n",
      "['https://clyp.it/a0phnxge/widget']\n",
      "['https://clyp.it/eji52wif/widget']\n"
     ]
    },
    {
     "name": "stderr",
     "output_type": "stream",
     "text": [
      " 76%|████████████████████████████████████████████████████████████▍                  | 1760/2302 [01:27<00:19, 28.14it/s]"
     ]
    },
    {
     "name": "stdout",
     "output_type": "stream",
     "text": [
      "['https://clyp.it/44subjem/widget']\n",
      "['https://clyp.it/f0ttgqym/widget', 'https://clyp.it/w3qwejdg/widget', 'https://clyp.it/nfwpds0p/widget', 'https://clyp.it/guk2hbbx/widget']\n",
      "['https://clyp.it/ll3xese2/widget', 'https://clyp.it/xhqwchti/widget']\n",
      "['https://clyp.it/yclwsix3/widget']\n",
      "['https://clyp.it/3ou0pgz1/widget']\n",
      "['https://clyp.it/3udbxnnd/widget', 'https://clyp.it/rywoe44y/widget']\n"
     ]
    },
    {
     "name": "stderr",
     "output_type": "stream",
     "text": [
      " 77%|████████████████████████████████████████████████████████████▌                  | 1766/2302 [01:27<00:19, 27.92it/s]"
     ]
    },
    {
     "name": "stdout",
     "output_type": "stream",
     "text": [
      "['https://clyp.it/g5b10e2a/widget']\n",
      "['https://clyp.it/ptsjij4o/widget']\n",
      "['https://clyp.it/4nrlxgnf/widget', 'https://clyp.it/3lbtmye2/widget']\n",
      "['https://clyp.it/l0qj2joq/widget']\n",
      "['https://clyp.it/bjax2j4y/widget']\n",
      "['https://clyp.it/rotenfy2/widget']\n",
      "['https://clyp.it/a24g5lwn/widget', 'https://clyp.it/5imlp0nd/widget']\n"
     ]
    },
    {
     "name": "stderr",
     "output_type": "stream",
     "text": [
      " 77%|████████████████████████████████████████████████████████████▉                  | 1775/2302 [01:27<00:18, 28.95it/s]"
     ]
    },
    {
     "name": "stdout",
     "output_type": "stream",
     "text": [
      "['https://clyp.it/pp4xsn1k/widget']\n",
      "['https://clyp.it/uzyhtx5d/widget']\n",
      "['https://clyp.it/f3dd0to2/widget']\n",
      "['https://clyp.it/dkt4czkm/widget']\n",
      "['https://clyp.it/memg1aqi/widget', 'https://clyp.it/tzsvjtgs/widget', 'https://clyp.it/oi4kkop3/widget']\n",
      "['https://clyp.it/reebpvqp/widget']\n"
     ]
    },
    {
     "name": "stderr",
     "output_type": "stream",
     "text": [
      " 77%|█████████████████████████████████████████████████████████████                  | 1779/2302 [01:27<00:17, 29.41it/s]"
     ]
    },
    {
     "name": "stdout",
     "output_type": "stream",
     "text": [
      "['https://clyp.it/4vmztzb3/widget']\n",
      "['https://clyp.it/5dhhvkvm/widget']\n",
      "['https://clyp.it/ysaalcel/widget']\n",
      "['https://clyp.it/n02yzgzd/widget', 'https://clyp.it/ckakwrgm/widget']\n",
      "['https://clyp.it/dtvty453/widget']\n",
      "['https://clyp.it/t1qadyvv/widget']\n",
      "['https://clyp.it/dk2ljdvv/widget']\n"
     ]
    },
    {
     "name": "stderr",
     "output_type": "stream",
     "text": [
      " 78%|█████████████████████████████████████████████████████████████▎                 | 1788/2302 [01:28<00:17, 29.22it/s]"
     ]
    },
    {
     "name": "stdout",
     "output_type": "stream",
     "text": [
      "['https://clyp.it/brvbsjt3/widget']\n",
      "['https://clyp.it/nhp2beck/widget', 'https://clyp.it/u4k51pqq/widget']\n",
      "['https://clyp.it/hhjcvkvf/widget', 'https://clyp.it/343md141/widget', 'https://clyp.it/pa2pgmnx/widget']\n",
      "['https://clyp.it/04ckaig0/widget']\n",
      "['https://clyp.it/x50vzolh/widget', 'https://clyp.it/kgxuolc3/widget']\n",
      "['https://clyp.it/4n2z443a/widget']\n"
     ]
    },
    {
     "name": "stderr",
     "output_type": "stream",
     "text": [
      " 78%|█████████████████████████████████████████████████████████████▌                 | 1795/2302 [01:28<00:16, 29.85it/s]"
     ]
    },
    {
     "name": "stdout",
     "output_type": "stream",
     "text": [
      "['https://clyp.it/kbfolxtp/widget']\n",
      "['https://clyp.it/1cojiklo/widget']\n",
      "['https://clyp.it/b5yakjog/widget']\n",
      "['https://clyp.it/bryntaet/widget']\n",
      "['https://clyp.it/wl1vbrtr/widget']\n",
      "['https://clyp.it/k1wddu4v/widget', 'https://clyp.it/3toxcpmt/widget']\n",
      "['https://clyp.it/bvnvutcc/widget']\n",
      "['https://clyp.it/qrciecni/widget']\n",
      "['https://clyp.it/ehzwodvx/widget']\n",
      "['https://clyp.it/byuz5zs4/widget']\n"
     ]
    },
    {
     "name": "stderr",
     "output_type": "stream",
     "text": [
      " 78%|█████████████████████████████████████████████████████████████▊                 | 1802/2302 [01:29<00:44, 11.36it/s]"
     ]
    },
    {
     "name": "stdout",
     "output_type": "stream",
     "text": [
      "['https://clyp.it/dnfzzyif/widget', 'https://clyp.it/2gzxgmv1/widget']\n",
      "['https://clyp.it/c0nnbxji/widget']\n",
      "['https://clyp.it/4bmwa0eh/widget']\n",
      "['https://clyp.it/tsvpolfs/widget']\n",
      "['https://clyp.it/3u1ixnaj/widget', 'https://clyp.it/rcgdarqo/widget']\n",
      "['https://clyp.it/0up0ibti/widget']\n"
     ]
    },
    {
     "name": "stderr",
     "output_type": "stream",
     "text": [
      " 79%|██████████████████████████████████████████████████████████████                 | 1808/2302 [01:29<00:30, 16.00it/s]"
     ]
    },
    {
     "name": "stdout",
     "output_type": "stream",
     "text": [
      "['https://clyp.it/3scldpnj/widget']\n",
      "['https://clyp.it/uqbtz2yh']\n",
      "['https://clyp.it/zu22jg4v/widget']\n",
      "['https://clyp.it/pwmcyq4d/widget']\n",
      "['https://clyp.it/5zgqqe5u/widget', 'https://clyp.it/4zzp12dz/widget', 'https://clyp.it/xfqg3pj1']\n",
      "['https://clyp.it/yc3lnitv/widget']\n"
     ]
    },
    {
     "name": "stderr",
     "output_type": "stream",
     "text": [
      " 79%|██████████████████████████████████████████████████████████████▎                | 1814/2302 [01:29<00:23, 20.62it/s]"
     ]
    },
    {
     "name": "stdout",
     "output_type": "stream",
     "text": [
      "['https://clyp.it/dwewokdy/widget']\n",
      "['https://clyp.it/3xnaifv1/widget']\n",
      "['https://clyp.it/od24httv/widget']\n",
      "['https://clyp.it/uxi0aq4u/widget']\n",
      "['https://clyp.it/d4mfcdgz/widget', 'https://clyp.it/ipfb4ogo/widget']\n",
      "['https://clyp.it/5sngsyq2/widget']\n",
      "['https://clyp.it/yeau211m/widget']\n"
     ]
    },
    {
     "name": "stderr",
     "output_type": "stream",
     "text": [
      " 79%|██████████████████████████████████████████████████████████████▍                | 1821/2302 [01:30<00:19, 24.34it/s]"
     ]
    },
    {
     "name": "stdout",
     "output_type": "stream",
     "text": [
      "['https://clyp.it/y5myxuce/widget']\n",
      "['https://clyp.it/ijfh23zw/widget']\n",
      "['https://clyp.it/nvctmd3p/widget', 'https://clyp.it/5wn0a4ec/widget']\n",
      "['https://clyp.it/vkmnpxzh/widget', 'https://clyp.it/2enjssap/widget', 'https://clyp.it/s15f2yzj/widget']\n",
      "['https://clyp.it/mumveavn/widget']\n",
      "['https://clyp.it/4uxgzkvq/widget', 'https://clyp.it/tzraj30g/widget']\n"
     ]
    },
    {
     "name": "stderr",
     "output_type": "stream",
     "text": [
      " 79%|██████████████████████████████████████████████████████████████▋                | 1827/2302 [01:30<00:18, 25.38it/s]"
     ]
    },
    {
     "name": "stdout",
     "output_type": "stream",
     "text": [
      "['https://clyp.it/t1hyz3xd/widget']\n",
      "['https://clyp.it/w13gascz/widget']\n",
      "['https://clyp.it/wa3urm4y/widget']\n",
      "['https://clyp.it/wkna0431/widget']\n",
      "['https://clyp.it/ehxtepnh/widget', 'https://clyp.it/nd5jz52o/widget']\n",
      "['https://clyp.it/jlmgykqt/widget', 'https://clyp.it/oxfhc0y5/widget']\n"
     ]
    },
    {
     "name": "stderr",
     "output_type": "stream",
     "text": [
      " 80%|██████████████████████████████████████████████████████████████▉                | 1834/2302 [01:30<00:16, 27.56it/s]"
     ]
    },
    {
     "name": "stdout",
     "output_type": "stream",
     "text": [
      "['https://clyp.it/l2l1r33p/widget']\n",
      "['https://clyp.it/ejkzgayf/widget']\n",
      "['https://clyp.it/de4kqf0v/widget']\n",
      "['https://clyp.it/p1qsgm1h/widget', 'https://clyp.it/sz5rjpav/widget', 'https://clyp.it/5spjv1ie/widget']\n",
      "['https://clyp.it/kxv24wep/widget']\n",
      "['https://clyp.it/0eifvwas/widget']\n",
      "['https://clyp.it/5ul05ll1/widget', 'https://clyp.it/pktuqyll/widget']\n"
     ]
    },
    {
     "name": "stderr",
     "output_type": "stream",
     "text": [
      " 80%|███████████████████████████████████████████████████████████████▏               | 1840/2302 [01:30<00:17, 26.73it/s]"
     ]
    },
    {
     "name": "stdout",
     "output_type": "stream",
     "text": [
      "['https://clyp.it/pwue0j32/widget']\n",
      "['https://clyp.it/hmnb2dgj/widget']\n",
      "['https://clyp.it/paaz0awt/widget']\n",
      "['https://clyp.it/4r3rmx15/widget']\n",
      "['https://clyp.it/jx4nf5wm/widget']\n"
     ]
    },
    {
     "name": "stderr",
     "output_type": "stream",
     "text": [
      " 80%|███████████████████████████████████████████████████████████████▎               | 1846/2302 [01:31<00:17, 25.58it/s]"
     ]
    },
    {
     "name": "stdout",
     "output_type": "stream",
     "text": [
      "['https://clyp.it/j4smwecw/widget', 'https://clyp.it/chtjesl0/widget']\n",
      "['https://clyp.it/5k1unxto/widget', 'https://clyp.it/s3mvdwxd/widget']\n",
      "['https://clyp.it/qqktcitb/widget']\n",
      "['https://clyp.it/nqhac31y/widget']\n",
      "['https://clyp.it/ykg01sl4/widget']\n",
      "['https://clyp.it/maswanbz/widget']\n"
     ]
    },
    {
     "name": "stderr",
     "output_type": "stream",
     "text": [
      " 80%|███████████████████████████████████████████████████████████████▌               | 1852/2302 [01:31<00:18, 24.23it/s]"
     ]
    },
    {
     "name": "stdout",
     "output_type": "stream",
     "text": [
      "['https://clyp.it/vh1tug15/widget']\n",
      "['https://clyp.it/dr1mgqkq/widget']\n",
      "['https://clyp.it/xmfs0ivp/widget']\n",
      "['https://clyp.it/bvfrdqkz/widget', 'https://clyp.it/midrko5f/widget']\n",
      "['https://clyp.it/rmgl4yvl/widget']\n"
     ]
    },
    {
     "name": "stderr",
     "output_type": "stream",
     "text": [
      " 81%|███████████████████████████████████████████████████████████████▊               | 1858/2302 [01:31<00:18, 24.38it/s]"
     ]
    },
    {
     "name": "stdout",
     "output_type": "stream",
     "text": [
      "['https://clyp.it/10dkni1n/widget']\n",
      "['https://clyp.it/xhitbh2m/widget']\n",
      "['https://clyp.it/l5mlqxav/widget']\n",
      "['https://clyp.it/htylcan0/widget', 'https://clyp.it/1i1eum4w/widget']\n",
      "['https://clyp.it/yjxdir3l/widget']\n",
      "['https://clyp.it/fse3qwl1/widget']\n"
     ]
    },
    {
     "name": "stderr",
     "output_type": "stream",
     "text": [
      " 81%|███████████████████████████████████████████████████████████████▊               | 1861/2302 [01:31<00:18, 24.30it/s]"
     ]
    },
    {
     "name": "stdout",
     "output_type": "stream",
     "text": [
      "['https://clyp.it/rza5s2tm/widget']\n",
      "['https://clyp.it/dza3canc/widget']\n",
      "['https://clyp.it/jysn5wh5/widget']\n",
      "['https://clyp.it/dmikxbyw/widget']\n",
      "['https://clyp.it/ikn0qy1i/widget', 'https://clyp.it/vxwwpunc/widget']\n",
      "['https://clyp.it/i2fapfxx/widget']\n"
     ]
    },
    {
     "name": "stderr",
     "output_type": "stream",
     "text": [
      " 81%|████████████████████████████████████████████████████████████████▏              | 1870/2302 [01:32<00:16, 26.10it/s]"
     ]
    },
    {
     "name": "stdout",
     "output_type": "stream",
     "text": [
      "['https://clyp.it/w10gkcrc/widget']\n",
      "['https://clyp.it/5fnrokyg/widget']\n",
      "['https://clyp.it/2tkweidx/widget', 'https://clyp.it/qbuuchao/widget']\n",
      "['https://clyp.it/bgrmvith/widget', 'https://clyp.it/onumnrn4/widget']\n",
      "['https://clyp.it/ld3amfvq/widget', 'https://clyp.it/exfmiudx/widget', 'https://clyp.it/l1hdnhlw/widget', 'https://clyp.it/xk53vtvr/widget']\n",
      "['https://clyp.it/n233xdh5/widget', 'https://clyp.it/spk40njj/widget']\n",
      "['https://clyp.it/a1r1zpie/widget']\n"
     ]
    },
    {
     "name": "stderr",
     "output_type": "stream",
     "text": [
      " 81%|████████████████████████████████████████████████████████████████▍              | 1876/2302 [01:32<00:15, 27.77it/s]"
     ]
    },
    {
     "name": "stdout",
     "output_type": "stream",
     "text": [
      "['https://clyp.it/egj3bv3n/widget']\n",
      "['https://clyp.it/mh1slraf/widget']\n",
      "['https://clyp.it/e10w4fza/widget']\n",
      "['https://clyp.it/iy4s3mbs/widget', 'https://clyp.it/va2hcimd/widget']\n",
      "['https://clyp.it/yws2dybq/widget', 'https://clyp.it/wcszawbl/widget']\n",
      "['https://clyp.it/juev2hgm/widget']\n"
     ]
    },
    {
     "name": "stderr",
     "output_type": "stream",
     "text": [
      " 82%|████████████████████████████████████████████████████████████████▍              | 1879/2302 [01:33<00:51,  8.25it/s]"
     ]
    },
    {
     "name": "stdout",
     "output_type": "stream",
     "text": [
      "['https://clyp.it/s1kokbp4/widget']\n",
      "['https://clyp.it/hh3g1kcj/widget']\n"
     ]
    },
    {
     "name": "stderr",
     "output_type": "stream",
     "text": [
      " 82%|████████████████████████████████████████████████████████████████▋              | 1885/2302 [01:33<00:32, 12.88it/s]"
     ]
    },
    {
     "name": "stdout",
     "output_type": "stream",
     "text": [
      "['https://clyp.it/ixm02xie/widget']\n",
      "['https://clyp.it/xlzfelq3/widget', 'https://clyp.it/goml2g0y/widget']\n",
      "['https://clyp.it/stn112my/widget']\n",
      "['https://clyp.it/d5tarrok/widget']\n",
      "['https://clyp.it/5z2jj1tp/widget']\n",
      "['https://clyp.it/wzog5hsy/widget']\n",
      "['https://clyp.it/0hn1nxn1/widget', 'https://clyp.it/02pw30ck/widget']\n"
     ]
    },
    {
     "name": "stderr",
     "output_type": "stream",
     "text": [
      " 82%|████████████████████████████████████████████████████████████████▉              | 1891/2302 [01:33<00:23, 17.78it/s]"
     ]
    },
    {
     "name": "stdout",
     "output_type": "stream",
     "text": [
      "['https://clyp.it/ijbww0ap/widget']\n",
      "['https://clyp.it/pfnkclgc/widget', 'https://clyp.it/ki4ibgb4/widget']\n",
      "['https://clyp.it/evprlox0/widget', 'https://clyp.it/od24httv/widget']\n",
      "['https://clyp.it/e223hxte/widget']\n",
      "['https://clyp.it/eil12pok/widget']\n",
      "['https://clyp.it/itlu5vuw/widget', 'https://clyp.it/dp2idhhc/widget']\n"
     ]
    },
    {
     "name": "stderr",
     "output_type": "stream",
     "text": [
      " 82%|█████████████████████████████████████████████████████████████████              | 1897/2302 [01:33<00:18, 21.89it/s]"
     ]
    },
    {
     "name": "stdout",
     "output_type": "stream",
     "text": [
      "['https://clyp.it/aczxvt2f/widget']\n",
      "['https://clyp.it/hkmwk4ht/widget']\n",
      "['https://clyp.it/ym5zywea/widget']\n",
      "['https://clyp.it/v2fxmxh4/widget', 'https://clyp.it/2bfvbbak/widget']\n",
      "['https://clyp.it/yuacpmed/widget', 'https://clyp.it/nzhv4kl0/widget']\n",
      "['https://clyp.it/kexw0axg/widget']\n"
     ]
    },
    {
     "name": "stderr",
     "output_type": "stream",
     "text": [
      " 83%|█████████████████████████████████████████████████████████████████▎             | 1903/2302 [01:34<00:16, 24.19it/s]"
     ]
    },
    {
     "name": "stdout",
     "output_type": "stream",
     "text": [
      "['https://clyp.it/jmbccnkq/widget']\n",
      "['https://clyp.it/4isn204y/widget']\n",
      "['https://clyp.it/4zq0h1uc/widget', 'https://clyp.it/x2hndrn5/widget', 'https://clyp.it/ktcicopa/widget']\n",
      "['https://clyp.it/5eygnevx/widget']\n",
      "['https://clyp.it/py2bu52u/widget']\n",
      "['https://clyp.it/xxitm1rw/widget']\n"
     ]
    },
    {
     "name": "stderr",
     "output_type": "stream",
     "text": [
      " 83%|█████████████████████████████████████████████████████████████████▌             | 1909/2302 [01:34<00:15, 25.57it/s]"
     ]
    },
    {
     "name": "stdout",
     "output_type": "stream",
     "text": [
      "['https://clyp.it/qsi4qc5u/widget', 'https://clyp.it/lx2bgqkm/widget']\n",
      "['https://clyp.it/rxjz1xli/widget', 'https://clyp.it/bdygchov/widget', 'https://clyp.it/dxczxj3a/widget']\n",
      "['https://clyp.it/2dzivloh/widget']\n",
      "['https://clyp.it/5ahi54f1/widget']\n",
      "['https://clyp.it/wb30mpdp/widget', 'https://clyp.it/td3n01td/widget', 'https://clyp.it/4vg1uafd/widget']\n",
      "['https://clyp.it/hojmrz0p/widget']\n"
     ]
    },
    {
     "name": "stderr",
     "output_type": "stream",
     "text": [
      " 83%|█████████████████████████████████████████████████████████████████▋             | 1915/2302 [01:34<00:14, 26.06it/s]"
     ]
    },
    {
     "name": "stdout",
     "output_type": "stream",
     "text": [
      "['https://clyp.it/k05q42br/widget']\n",
      "['https://clyp.it/4ihmpfkg/widget']\n",
      "['https://clyp.it/zmlrdfqm/widget']\n",
      "['https://clyp.it/dt5svhd5/widget']\n",
      "['https://clyp.it/yikg2lj1/widget']\n",
      "['https://clyp.it/nms11luh/widget']\n"
     ]
    },
    {
     "name": "stderr",
     "output_type": "stream",
     "text": [
      " 83%|█████████████████████████████████████████████████████████████████▉             | 1921/2302 [01:34<00:14, 25.41it/s]"
     ]
    },
    {
     "name": "stdout",
     "output_type": "stream",
     "text": [
      "['https://clyp.it/u1o0c5tk/widget']\n",
      "['https://clyp.it/tzsqywrj/widget']\n",
      "['https://clyp.it/wzmenfnr/widget']\n",
      "['https://clyp.it/3tizrxcq/widget', 'https://clyp.it/wcwyl2c2/widget']\n",
      "['https://clyp.it/puuynrta/widget']\n",
      "['https://clyp.it/lwi15uxc/widget']\n"
     ]
    },
    {
     "name": "stderr",
     "output_type": "stream",
     "text": [
      " 84%|██████████████████████████████████████████████████████████████████▏            | 1927/2302 [01:34<00:14, 25.14it/s]"
     ]
    },
    {
     "name": "stdout",
     "output_type": "stream",
     "text": [
      "['https://clyp.it/iyrnuzk0/widget']\n",
      "['https://clyp.it/tqvjwhth/widget', 'https://clyp.it/5yd1j5vd/widget', 'https://clyp.it/5z2jj1tp/widget']\n",
      "['https://clyp.it/4njblzsl/widget']\n",
      "['https://clyp.it/ckosxnmp/widget']\n",
      "['https://clyp.it/ovqy4acw/widget']\n",
      "['https://clyp.it/dm50ioog/widget']\n"
     ]
    },
    {
     "name": "stderr",
     "output_type": "stream",
     "text": [
      " 84%|██████████████████████████████████████████████████████████████████▎            | 1933/2302 [01:35<00:14, 24.72it/s]"
     ]
    },
    {
     "name": "stdout",
     "output_type": "stream",
     "text": [
      "['https://clyp.it/vfka3aq1/widget']\n",
      "['https://clyp.it/smfluke5/widget', 'https://clyp.it/kvskvdqu/widget', 'https://clyp.it/isv05dyh/widget']\n",
      "['https://clyp.it/tedomqhk/widget']\n",
      "['https://clyp.it/jhtd2ilf/widget']\n",
      "['https://clyp.it/hedr5prx/widget']\n",
      "['https://clyp.it/5pevnmtr/widget']\n"
     ]
    },
    {
     "name": "stderr",
     "output_type": "stream",
     "text": [
      " 84%|██████████████████████████████████████████████████████████████████▌            | 1939/2302 [01:35<00:14, 25.61it/s]"
     ]
    },
    {
     "name": "stdout",
     "output_type": "stream",
     "text": [
      "['https://clyp.it/z0fqeiq2/widget']\n",
      "['https://clyp.it/ifdkg325/widget', 'https://clyp.it/5l0hgap1/widget']\n",
      "['https://clyp.it/2dnddkgp/widget']\n",
      "['https://clyp.it/ifwjlxqp/widget', 'https://clyp.it/jwqzvklp/widget', 'https://clyp.it/0s3flyfr/widget']\n",
      "['https://clyp.it/uoj4u3bt/widget', 'https://clyp.it/aaculr5g/widget']\n",
      "['https://clyp.it/ut4h2nia/widget', 'https://clyp.it/verikcgo/widget']\n"
     ]
    },
    {
     "name": "stderr",
     "output_type": "stream",
     "text": [
      " 84%|██████████████████████████████████████████████████████████████████▋            | 1945/2302 [01:35<00:13, 26.69it/s]"
     ]
    },
    {
     "name": "stdout",
     "output_type": "stream",
     "text": [
      "['https://clyp.it/dyzxny5t/widget']\n",
      "['https://clyp.it/hle3micf/widget']\n",
      "['https://clyp.it/ljblhmc4/widget']\n",
      "['https://w.soundcloud.com/player/?visual=false&amp', 'title=\"צחן by Arabit']\n",
      "['https://clyp.it/zcgwux0r/widget']\n",
      "['https://clyp.it/vwjbhpwc/widget']\n"
     ]
    },
    {
     "name": "stderr",
     "output_type": "stream",
     "text": [
      " 85%|██████████████████████████████████████████████████████████████████▉            | 1951/2302 [01:35<00:12, 27.60it/s]"
     ]
    },
    {
     "name": "stdout",
     "output_type": "stream",
     "text": [
      "['https://clyp.it/jo524gyv/widget']\n",
      "['https://clyp.it/m43kmt1j/widget']\n",
      "['https://clyp.it/riv2uht4/widget']\n",
      "['https://clyp.it/yshea0if/widget', 'https://clyp.it/sr2etqtj/widget']\n",
      "['https://clyp.it/cypdczle/widget']\n",
      "['https://clyp.it/0nvxc0gr/widget']\n"
     ]
    },
    {
     "name": "stderr",
     "output_type": "stream",
     "text": [
      " 85%|███████████████████████████████████████████████████████████████████▏           | 1957/2302 [01:36<00:12, 27.80it/s]"
     ]
    },
    {
     "name": "stdout",
     "output_type": "stream",
     "text": [
      "['https://clyp.it/thi2lqxr/widget']\n",
      "['https://clyp.it/0z2r1klo/widget']\n",
      "['https://clyp.it/wismo1u2/widget']\n",
      "['https://clyp.it/2luvb40m/widget']\n",
      "['https://clyp.it/32d3mlmd/widget']\n",
      "['https://clyp.it/cyl4xolu/widget']\n",
      "['https://clyp.it/rhstyart/widget', 'https://clyp.it/acpaftsg/widget']\n"
     ]
    },
    {
     "name": "stderr",
     "output_type": "stream",
     "text": [
      " 85%|███████████████████████████████████████████████████████████████████▎           | 1963/2302 [01:37<00:32, 10.49it/s]"
     ]
    },
    {
     "name": "stdout",
     "output_type": "stream",
     "text": [
      "['https://clyp.it/103k01un/widget']\n",
      "['https://clyp.it/h2qg1zgl/widget']\n",
      "['https://clyp.it/luzmglpc/widget']\n",
      "['https://clyp.it/jxfmcjj1/widget']\n",
      "['https://clyp.it/ph3q05dt/widget']\n",
      "['https://clyp.it/kfkbch4b/widget']\n"
     ]
    },
    {
     "name": "stderr",
     "output_type": "stream",
     "text": [
      " 86%|███████████████████████████████████████████████████████████████████▌           | 1969/2302 [01:37<00:21, 15.27it/s]"
     ]
    },
    {
     "name": "stdout",
     "output_type": "stream",
     "text": [
      "['https://clyp.it/bwamf0gy/widget']\n",
      "['https://clyp.it/hq50idav/widget']\n",
      "['https://clyp.it/sglg2wbb/widget']\n",
      "['https://clyp.it/3uz3aqm1/widget']\n",
      "['https://clyp.it/1qg0rsea/widget', 'https://clyp.it/rczgd4tv/widget']\n",
      "['https://clyp.it/x5jrf4zw/widget']\n"
     ]
    },
    {
     "name": "stderr",
     "output_type": "stream",
     "text": [
      " 86%|███████████████████████████████████████████████████████████████████▊           | 1975/2302 [01:37<00:17, 19.16it/s]"
     ]
    },
    {
     "name": "stdout",
     "output_type": "stream",
     "text": [
      "['https://clyp.it/ixcelzrb/widget']\n",
      "['https://clyp.it/sshz5izs/widget']\n",
      "['https://clyp.it/wlrnvfwe/widget']\n",
      "['https://clyp.it/klx2334w/widget']\n",
      "['https://clyp.it/ga4abkhd/widget', 'https://clyp.it/lsdmdabd/widget']\n"
     ]
    },
    {
     "name": "stderr",
     "output_type": "stream",
     "text": [
      " 86%|███████████████████████████████████████████████████████████████████▉           | 1981/2302 [01:37<00:15, 21.20it/s]"
     ]
    },
    {
     "name": "stdout",
     "output_type": "stream",
     "text": [
      "['https://clyp.it/jmlk3jph/widget']\n",
      "['https://clyp.it/13uuhzwi/widget']\n",
      "['https://clyp.it/y4pmfwlz/widget']\n",
      "['https://clyp.it/tohg2m45/widget']\n",
      "['https://clyp.it/ulm52xbz/widget']\n",
      "['https://clyp.it/3gijrupf/widget']\n"
     ]
    },
    {
     "name": "stderr",
     "output_type": "stream",
     "text": [
      " 86%|████████████████████████████████████████████████████████████████████▏          | 1987/2302 [01:38<00:13, 22.78it/s]"
     ]
    },
    {
     "name": "stdout",
     "output_type": "stream",
     "text": [
      "['https://clyp.it/kqvhmyak/widget']\n",
      "['https://clyp.it/wsr4drfq/widget']\n",
      "['https://clyp.it/xhaywugt/widget', 'https://clyp.it/hxed5xcf/widget']\n",
      "['https://clyp.it/bnx31yms/widget']\n",
      "['https://clyp.it/zxexcne2/widget', 'https://clyp.it/ltasoazn/widget']\n"
     ]
    },
    {
     "name": "stderr",
     "output_type": "stream",
     "text": [
      " 87%|████████████████████████████████████████████████████████████████████▍          | 1993/2302 [01:38<00:12, 24.56it/s]"
     ]
    },
    {
     "name": "stdout",
     "output_type": "stream",
     "text": [
      "['https://clyp.it/bplrbzah/widget']\n",
      "['https://clyp.it/v4qor50m/widget', 'https://clyp.it/11uxlol2/widget']\n",
      "['https://clyp.it/340qimvb/widget']\n",
      "['https://clyp.it/qp5fe3d0/widget', 'https://clyp.it/seknicho/widget']\n",
      "['https://clyp.it/rnpzb2kk/widget', 'https://clyp.it/ixoppfnx/widget']\n",
      "['https://clyp.it/bemanmev/widget']\n"
     ]
    },
    {
     "name": "stderr",
     "output_type": "stream",
     "text": [
      " 87%|████████████████████████████████████████████████████████████████████▌          | 1999/2302 [01:38<00:12, 25.20it/s]"
     ]
    },
    {
     "name": "stdout",
     "output_type": "stream",
     "text": [
      "['https://clyp.it/mxwuzce3/widget']\n",
      "['https://clyp.it/5d0d4jsk/widget', 'https://clyp.it/fyq04a03/widget']\n",
      "['https://clyp.it/zzn01fhc/widget']\n",
      "['https://w.soundcloud.com/player/?visual=false&amp', 'title=\"חכים by Arabit', 'https://clyp.it/kwqn4iub/widget', 'https://clyp.it/brn4asjd/widget']\n",
      "['https://clyp.it/qnxec4qg/widget']\n",
      "['https://clyp.it/fzppcoif/widget']\n",
      "['https://clyp.it/mtbdpw1a/widget']\n"
     ]
    },
    {
     "name": "stderr",
     "output_type": "stream",
     "text": [
      " 87%|████████████████████████████████████████████████████████████████████▊          | 2005/2302 [01:38<00:12, 23.61it/s]"
     ]
    },
    {
     "name": "stdout",
     "output_type": "stream",
     "text": [
      "['https://clyp.it/nwnxzfyf/widget']\n",
      "['https://clyp.it/hiitzm2y/widget']\n",
      "['https://clyp.it/noio24v3/widget']\n",
      "['https://clyp.it/qup340rn/widget', 'https://clyp.it/c2d4unvw/widget']\n",
      "['https://clyp.it/kw43jp3v/widget']\n"
     ]
    },
    {
     "name": "stderr",
     "output_type": "stream",
     "text": [
      " 87%|█████████████████████████████████████████████████████████████████████          | 2011/2302 [01:39<00:11, 24.97it/s]"
     ]
    },
    {
     "name": "stdout",
     "output_type": "stream",
     "text": [
      "['https://clyp.it/15fz1kfx/widget']\n",
      "['https://clyp.it/ooalps1k/widget']\n",
      "['https://clyp.it/lfse4alk/widget']\n",
      "['https://clyp.it/srnjkq2v/widget']\n",
      "['https://clyp.it/pc4c4hok/widget']\n",
      "['https://clyp.it/e1btayeo/widget']\n"
     ]
    },
    {
     "name": "stderr",
     "output_type": "stream",
     "text": [
      " 87%|█████████████████████████████████████████████████████████████████████          | 2014/2302 [01:39<00:12, 23.90it/s]"
     ]
    },
    {
     "name": "stdout",
     "output_type": "stream",
     "text": [
      "['https://clyp.it/rvbefwms/widget', 'https://clyp.it/tuai3njv/widget']\n",
      "['https://clyp.it/mzt1bzth/widget']\n",
      "['https://clyp.it/k5aga5gt/widget']\n",
      "['https://clyp.it/hxi2ifl2/widget']\n",
      "['https://clyp.it/thzzycij/widget']\n"
     ]
    },
    {
     "name": "stderr",
     "output_type": "stream",
     "text": [
      " 88%|█████████████████████████████████████████████████████████████████████▎         | 2020/2302 [01:39<00:11, 23.84it/s]"
     ]
    },
    {
     "name": "stdout",
     "output_type": "stream",
     "text": [
      "['https://clyp.it/hujxiklr/widget', 'https://clyp.it/fcknhe4i/widget']\n",
      "['https://clyp.it/rpg2t25c/widget']\n",
      "['https://clyp.it/f0tdj1z2/widget', 'https://clyp.it/qv3tmvxh/widget']\n",
      "['https://clyp.it/qgjhobpq/widget', 'https://clyp.it/dfbj1h2y/widget']\n",
      "['https://clyp.it/14vmwyly/widget']\n"
     ]
    },
    {
     "name": "stderr",
     "output_type": "stream",
     "text": [
      " 88%|█████████████████████████████████████████████████████████████████████▌         | 2026/2302 [01:39<00:11, 25.03it/s]"
     ]
    },
    {
     "name": "stdout",
     "output_type": "stream",
     "text": [
      "['https://clyp.it/2gtdfwwj/widget']\n",
      "['https://clyp.it/2s5do0xn/widget']\n",
      "['https://clyp.it/2shv0cg4/widget']\n",
      "['https://clyp.it/fjifq5is/widget', 'https://clyp.it/a0phnxge/widget']\n",
      "['https://clyp.it/d4vny0pd/widget']\n",
      "['https://clyp.it/m0un1c3c']\n"
     ]
    },
    {
     "name": "stderr",
     "output_type": "stream",
     "text": [
      " 88%|█████████████████████████████████████████████████████████████████████▊         | 2033/2302 [01:39<00:10, 26.41it/s]"
     ]
    },
    {
     "name": "stdout",
     "output_type": "stream",
     "text": [
      "['https://clyp.it/qnnlxprv/widget']\n",
      "['https://clyp.it/s2n23hqw/widget']\n",
      "[]\n",
      "['https://clyp.it/ge1cnvun/widget', 'https://clyp.it/4keasotn/widget']\n",
      "['https://clyp.it/ifr30mll/widget']\n",
      "['https://clyp.it/1k04v0f1/widget', 'https://clyp.it/eearryj2/widget']\n"
     ]
    },
    {
     "name": "stderr",
     "output_type": "stream",
     "text": [
      " 89%|█████████████████████████████████████████████████████████████████████▉         | 2039/2302 [01:40<00:09, 27.11it/s]"
     ]
    },
    {
     "name": "stdout",
     "output_type": "stream",
     "text": [
      "['https://clyp.it/bmftfwo1/widget']\n",
      "['https://clyp.it/at2bxfok/widget']\n",
      "['https://clyp.it/hzoclmcv/widget']\n",
      "['https://clyp.it/0ydndpcp/widget', 'https://clyp.it/icisq555/widget']\n",
      "['https://clyp.it/ad5gb241/widget', 'https://clyp.it/0nnqdspw/widget']\n",
      "['https://clyp.it/rlcqtz2y/widget']\n",
      "['https://clyp.it/zn1isqei/widget']\n"
     ]
    },
    {
     "name": "stderr",
     "output_type": "stream",
     "text": [
      " 89%|██████████████████████████████████████████████████████████████████████▏        | 2045/2302 [01:41<00:25,  9.91it/s]"
     ]
    },
    {
     "name": "stdout",
     "output_type": "stream",
     "text": [
      "['https://clyp.it/oc4vmdx1/widget', 'https://clyp.it/mkxvonzc/widget']\n",
      "['https://clyp.it/kl1bbtag/widget']\n",
      "['https://clyp.it/qpsgrhxb/widget']\n",
      "['https://clyp.it/4emlid50/widget']\n",
      "['https://clyp.it/qfnkkvig/widget']\n"
     ]
    },
    {
     "name": "stderr",
     "output_type": "stream",
     "text": [
      " 89%|██████████████████████████████████████████████████████████████████████▍        | 2051/2302 [01:41<00:17, 14.56it/s]"
     ]
    },
    {
     "name": "stdout",
     "output_type": "stream",
     "text": [
      "['https://clyp.it/0meygfke/widget']\n",
      "['https://clyp.it/vd0n5p1b/widget']\n",
      "['https://clyp.it/n21cl1nx/widget', 'https://clyp.it/mnazelcs/widget']\n",
      "['https://clyp.it/erifsjcv/widget']\n",
      "['https://w.soundcloud.com/player/?visual=false&amp', 'title=\"מתטור by Arabit']\n",
      "['https://clyp.it/fcovcvcb/widget']\n"
     ]
    },
    {
     "name": "stderr",
     "output_type": "stream",
     "text": [
      " 89%|██████████████████████████████████████████████████████████████████████▍        | 2054/2302 [01:41<00:15, 16.30it/s]"
     ]
    },
    {
     "name": "stdout",
     "output_type": "stream",
     "text": [
      "['https://w.soundcloud.com/player/?visual=false&amp', 'title=\"צדקה by Arabit', 'https://clyp.it/yuacpmed/widget', 'https://clyp.it/nzhv4kl0/widget']\n",
      "['https://w.soundcloud.com/player/?visual=false&amp', 'title=\"תטעים by Arabit']\n",
      "['https://w.soundcloud.com/player/?visual=false&amp', 'title=\"עקרב by Arabit', 'https://clyp.it/3fslf1z1/widget']\n",
      "['https://w.soundcloud.com/player/?visual=false&amp', 'title=\"קצד by Arabit']\n",
      "['https://w.soundcloud.com/player/?visual=false&amp', 'title=\"תעזיז by Arabit', 'https://clyp.it/skejxm0o/widget', 'https://clyp.it/lxtr1k1r/widget', 'https://clyp.it/bdf1y30r/widget', 'https://clyp.it/mzhwvwgo/widget']\n",
      "['https://w.soundcloud.com/player/?visual=false&amp', 'title=\"תע\\'נג\\'ת by Arabit', 'https://clyp.it/viyr2ysv/widget']\n"
     ]
    },
    {
     "name": "stderr",
     "output_type": "stream",
     "text": [
      " 89%|██████████████████████████████████████████████████████████████████████▋        | 2060/2302 [01:41<00:12, 19.40it/s]"
     ]
    },
    {
     "name": "stdout",
     "output_type": "stream",
     "text": [
      "['https://w.soundcloud.com/player/?visual=false&amp', 'title=\"טפל by Arabit']\n",
      "['https://w.soundcloud.com/player/?visual=false&amp', 'title=\"אנת\\'א by Arabit']\n",
      "['https://w.soundcloud.com/player/?visual=false&amp', 'title=\"ע\\'אלי by Arabit', 'https://clyp.it/zivp0qe4/widget']\n",
      "['https://w.soundcloud.com/player/?visual=false&amp', 'title=\"ארנב by Arabit']\n",
      "['https://w.soundcloud.com/player/?visual=false&amp', 'title=\"מח\\'אלפה by Arabit', 'https://clyp.it/ol0silvr/widget', 'https://clyp.it/ibbxeehm/widget']\n"
     ]
    },
    {
     "name": "stderr",
     "output_type": "stream",
     "text": [
      " 90%|██████████████████████████████████████████████████████████████████████▉        | 2066/2302 [01:42<00:11, 21.33it/s]"
     ]
    },
    {
     "name": "stdout",
     "output_type": "stream",
     "text": [
      "['https://clyp.it/yan32b1s/widget', 'https://clyp.it/odgj5abf/widget']\n",
      "['https://clyp.it/teyvpeyz/widget']\n",
      "['https://clyp.it/bhp4khna/widget']\n",
      "['https://clyp.it/q1wg32dx/widget']\n",
      "['https://clyp.it/yq0whjd5/widget']\n",
      "['https://clyp.it/1ug0vmas/widget', 'https://clyp.it/vqzprcdy/widget']\n"
     ]
    },
    {
     "name": "stderr",
     "output_type": "stream",
     "text": [
      " 90%|███████████████████████████████████████████████████████████████████████        | 2072/2302 [01:42<00:09, 23.32it/s]"
     ]
    },
    {
     "name": "stdout",
     "output_type": "stream",
     "text": [
      "['https://clyp.it/jmfklnfg/widget']\n",
      "['https://clyp.it/tjrhwxft/widget', 'https://clyp.it/flnvqtfi/widget']\n",
      "['https://clyp.it/vlpq01pm/widget']\n",
      "['https://clyp.it/vzjvqewp/widget']\n",
      "['https://clyp.it/2cx5vf15/widget']\n",
      "['https://clyp.it/cg4j5gt2/widget']\n"
     ]
    },
    {
     "name": "stderr",
     "output_type": "stream",
     "text": [
      " 90%|███████████████████████████████████████████████████████████████████████▎       | 2078/2302 [01:42<00:08, 25.31it/s]"
     ]
    },
    {
     "name": "stdout",
     "output_type": "stream",
     "text": [
      "['https://clyp.it/bmg5topu/widget', 'https://clyp.it/liwrcmww/widget']\n",
      "['https://clyp.it/3wz1ztw2/widget']\n",
      "['https://clyp.it/hrrnpp51/widget', 'https://clyp.it/zut5l10b/widget']\n",
      "['https://clyp.it/ebk5h1no/widget']\n",
      "['https://clyp.it/o0lfax5s/widget']\n",
      "['https://clyp.it/o3hxxzgl/widget']\n"
     ]
    },
    {
     "name": "stderr",
     "output_type": "stream",
     "text": [
      " 91%|███████████████████████████████████████████████████████████████████████▌       | 2084/2302 [01:42<00:08, 25.57it/s]"
     ]
    },
    {
     "name": "stdout",
     "output_type": "stream",
     "text": [
      "['https://clyp.it/q5q3lxy3/widget']\n",
      "['https://clyp.it/3iep53mj/widget']\n",
      "['https://clyp.it/exotorhf/widget', 'https://clyp.it/ouiym3j2/widget']\n",
      "['https://clyp.it/nf10rn2j/widget']\n",
      "['https://clyp.it/5bcj0zyy/widget', 'https://clyp.it/q3apop3c/widget']\n"
     ]
    },
    {
     "name": "stderr",
     "output_type": "stream",
     "text": [
      " 91%|███████████████████████████████████████████████████████████████████████▋       | 2090/2302 [01:43<00:09, 23.38it/s]"
     ]
    },
    {
     "name": "stdout",
     "output_type": "stream",
     "text": [
      "['https://clyp.it/bnbcmbyp/widget', 'https://clyp.it/suvzfmxk/widget']\n",
      "['https://clyp.it/3ynk1htm/widget', 'https://clyp.it/kemrbm3r/widget']\n",
      "['https://clyp.it/ztzqo3ip/widget', 'https://clyp.it/t5gyaqxb/widget']\n",
      "['https://clyp.it/3cszknvy/widget', 'https://clyp.it/ibnbiwou/widget']\n",
      "['https://clyp.it/b0vub2ms/widget', 'https://clyp.it/ub3hew0q/widget']\n"
     ]
    },
    {
     "name": "stderr",
     "output_type": "stream",
     "text": [
      " 91%|███████████████████████████████████████████████████████████████████████▉       | 2096/2302 [01:43<00:08, 24.76it/s]"
     ]
    },
    {
     "name": "stdout",
     "output_type": "stream",
     "text": [
      "['https://clyp.it/z5lroz0n/widget', 'https://clyp.it/k2ysyik4/widget']\n",
      "['https://clyp.it/m3naopzv/widget', 'https://clyp.it/3t2u3cbm/widget', 'https://clyp.it/aj34mtpa/widget']\n",
      "['https://clyp.it/ybxrpo0t/widget', 'https://clyp.it/gcscn32o', 'https://clyp.it/tuaw2sbu/widget']\n",
      "['https://clyp.it/ophcpk53/widget']\n",
      "['https://clyp.it/uywhpjty/widget', 'https://clyp.it/hfzjelul/widget']\n",
      "['https://clyp.it/r5bzdzfl/widget', 'https://clyp.it/yikg2lj1/widget']\n"
     ]
    },
    {
     "name": "stderr",
     "output_type": "stream",
     "text": [
      " 91%|████████████████████████████████████████████████████████████████████████▏      | 2102/2302 [01:43<00:07, 25.79it/s]"
     ]
    },
    {
     "name": "stdout",
     "output_type": "stream",
     "text": [
      "['https://clyp.it/puh0gjl1/widget']\n",
      "['https://clyp.it/tr0e5soi/widget', 'https://clyp.it/nulm11s1/widget']\n",
      "['https://clyp.it/izykbjtp/widget']\n",
      "['https://clyp.it/jocnoxnl/widget', 'https://clyp.it/aj3fspkn/widget']\n",
      "['https://clyp.it/nuaq0cqi/widget']\n",
      "['https://clyp.it/0bzaanns/widget']\n"
     ]
    },
    {
     "name": "stderr",
     "output_type": "stream",
     "text": [
      " 92%|████████████████████████████████████████████████████████████████████████▎      | 2108/2302 [01:43<00:07, 26.43it/s]"
     ]
    },
    {
     "name": "stdout",
     "output_type": "stream",
     "text": [
      "['https://clyp.it/fg00xiyc/widget']\n",
      "['https://clyp.it/r2hsjp3h/widget', 'https://clyp.it/hu3wwvpb/widget']\n",
      "[]\n",
      "['https://clyp.it/fu2wc0o4/widget', 'https://clyp.it/nrw4lax0/widget']\n",
      "['https://clyp.it/wctcb15k/widget']\n",
      "['https://clyp.it/wkmkhwh1/widget']\n"
     ]
    },
    {
     "name": "stderr",
     "output_type": "stream",
     "text": [
      " 92%|████████████████████████████████████████████████████████████████████████▍      | 2111/2302 [01:43<00:07, 26.54it/s]"
     ]
    },
    {
     "name": "stdout",
     "output_type": "stream",
     "text": [
      "['https://clyp.it/gaz2dhul/widget', 'https://clyp.it/tmyfx5m1/widget']\n",
      "['https://clyp.it/v1tpvxxj/widget']\n",
      "['https://clyp.it/tw02y00s/widget']\n",
      "['https://clyp.it/c4p5orit/widget']\n",
      "['https://clyp.it/jegefi20/widget']\n",
      "['https://clyp.it/p1p5ftud/widget']\n"
     ]
    },
    {
     "name": "stderr",
     "output_type": "stream",
     "text": [
      " 92%|████████████████████████████████████████████████████████████████████████▌      | 2115/2302 [01:44<00:06, 27.52it/s]"
     ]
    },
    {
     "name": "stdout",
     "output_type": "stream",
     "text": [
      "['https://clyp.it/y4moxpbf/widget', 'https://clyp.it/dknmfjix/widget']\n",
      "['https://clyp.it/ll0c2qrb/widget']\n",
      "['https://clyp.it/v1oi0gwl/widget', 'https://clyp.it/fmk5id2w/widget']\n"
     ]
    },
    {
     "name": "stderr",
     "output_type": "stream",
     "text": [
      " 92%|████████████████████████████████████████████████████████████████████████▊      | 2121/2302 [01:45<00:17, 10.39it/s]"
     ]
    },
    {
     "name": "stdout",
     "output_type": "stream",
     "text": [
      "['https://clyp.it/b24ycqlg/widget']\n",
      "['https://clyp.it/y41dmokg/widget', 'https://clyp.it/1lf4jwnn/widget']\n",
      "['https://clyp.it/frhiznmd/widget']\n",
      "['https://clyp.it/2dzivloh/widget']\n",
      "['https://clyp.it/g3mjmamu/widget', 'https://clyp.it/ms3cxib2/widget']\n",
      "['https://clyp.it/pxkgfj34/widget', 'https://clyp.it/e2g3pguz/widget']\n"
     ]
    },
    {
     "name": "stderr",
     "output_type": "stream",
     "text": [
      " 92%|████████████████████████████████████████████████████████████████████████▉      | 2127/2302 [01:45<00:11, 15.11it/s]"
     ]
    },
    {
     "name": "stdout",
     "output_type": "stream",
     "text": [
      "['https://clyp.it/jrr0ewqr/widget']\n",
      "['https://clyp.it/ohbmh2za/widget', 'https://clyp.it/yoxyvoec/widget']\n",
      "['https://clyp.it/tkllsey4/widget']\n",
      "['https://clyp.it/zrmkv4q5/widget']\n",
      "['https://clyp.it/zwmwgoeo/widget', 'https://clyp.it/jlmgykqt/widget', 'https://clyp.it/oxfhc0y5/widget']\n",
      "['https://clyp.it/yluvgirj/widget']\n"
     ]
    },
    {
     "name": "stderr",
     "output_type": "stream",
     "text": [
      " 93%|█████████████████████████████████████████████████████████████████████████▏     | 2133/2302 [01:45<00:08, 19.60it/s]"
     ]
    },
    {
     "name": "stdout",
     "output_type": "stream",
     "text": [
      "['https://clyp.it/3jzvjilt/widget']\n",
      "['https://clyp.it/h0ljklsu/widget']\n",
      "['https://clyp.it/n2xnja12/widget']\n",
      "['https://clyp.it/siv5a3t4/widget']\n",
      "['https://clyp.it/lgtd2xar/widget']\n",
      "['https://clyp.it/30rsxtn0/widget']\n"
     ]
    },
    {
     "name": "stderr",
     "output_type": "stream",
     "text": [
      " 93%|█████████████████████████████████████████████████████████████████████████▍     | 2139/2302 [01:45<00:07, 22.54it/s]"
     ]
    },
    {
     "name": "stdout",
     "output_type": "stream",
     "text": [
      "['https://clyp.it/t05t3s5q/widget', 'https://clyp.it/t1hofaza/widget', 'https://clyp.it/ymsfr4ag/widget']\n",
      "['https://clyp.it/5xvglleb/widget']\n",
      "['https://clyp.it/tt0khf12/widget']\n",
      "['https://clyp.it/k2xnlwv2/widget']\n",
      "['https://clyp.it/uem0rrak/widget']\n",
      "['https://clyp.it/4gmy0gzc/widget']\n"
     ]
    },
    {
     "name": "stderr",
     "output_type": "stream",
     "text": [
      " 93%|█████████████████████████████████████████████████████████████████████████▌     | 2145/2302 [01:46<00:06, 23.18it/s]"
     ]
    },
    {
     "name": "stdout",
     "output_type": "stream",
     "text": [
      "['https://clyp.it/nuamqdib/widget', 'https://clyp.it/scfx4ybm/widget']\n",
      "['https://clyp.it/o55b4mpn/widget', 'https://clyp.it/4v02t13y/widget', 'https://clyp.it/ltxh4tin/widget']\n",
      "['https://clyp.it/54jwnhrk/widget']\n",
      "['https://clyp.it/brddutky/widget', 'https://clyp.it/xychud3r/widget']\n",
      "['https://clyp.it/psie2rzo/widget', 'https://clyp.it/3reejs4g/widget']\n"
     ]
    },
    {
     "name": "stderr",
     "output_type": "stream",
     "text": [
      " 93%|█████████████████████████████████████████████████████████████████████████▊     | 2151/2302 [01:46<00:06, 23.34it/s]"
     ]
    },
    {
     "name": "stdout",
     "output_type": "stream",
     "text": [
      "['https://w.soundcloud.com/player/?visual=false&amp', 'title=\"תאג\\'ר by Arabit']\n",
      "['https://clyp.it/vm0hi0ob/widget']\n",
      "['https://clyp.it/mbhvjgej/widget', 'https://clyp.it/l2sq42uq/widget']\n",
      "['https://clyp.it/1u0umyjk/widget']\n",
      "['https://clyp.it/j2yw3i2e/widget', 'https://clyp.it/40grfxbu/widget']\n",
      "['https://clyp.it/1ddydvxe/widget', 'https://clyp.it/ivofqras/widget']\n"
     ]
    },
    {
     "name": "stderr",
     "output_type": "stream",
     "text": [
      " 94%|██████████████████████████████████████████████████████████████████████████     | 2157/2302 [01:46<00:06, 23.89it/s]"
     ]
    },
    {
     "name": "stdout",
     "output_type": "stream",
     "text": [
      "['https://clyp.it/mkrmruhf/widget', 'https://clyp.it/g5b10e2a/widget']\n",
      "['https://clyp.it/xsr4ju2c/widget', 'https://clyp.it/zx020auc/widget']\n",
      "['https://clyp.it/qxh23nto/widget', 'https://clyp.it/bwdvljy1/widget']\n",
      "['https://clyp.it/sclhx11y/widget']\n",
      "['https://clyp.it/q2ffu4hr/widget']\n",
      "['https://clyp.it/owlyn0f2/widget']\n"
     ]
    },
    {
     "name": "stderr",
     "output_type": "stream",
     "text": [
      " 94%|██████████████████████████████████████████████████████████████████████████▏    | 2163/2302 [01:46<00:05, 24.42it/s]"
     ]
    },
    {
     "name": "stdout",
     "output_type": "stream",
     "text": [
      "['https://clyp.it/yt3iq4kj/widget', 'https://clyp.it/33dpz2xp/widget']\n",
      "['https://clyp.it/3ifalzki/widget', 'https://clyp.it/rmgl4yvl/widget']\n",
      "['https://clyp.it/0nqwn4v4/widget']\n",
      "['https://clyp.it/sheqvm30/widget', 'https://clyp.it/hq50idav/widget']\n",
      "['https://clyp.it/tlagqzzx/widget', 'https://clyp.it/zcgyfwcl/widget', 'https://clyp.it/uuhdsywk/widget']\n",
      "['https://clyp.it/twb4frq4/widget', 'https://clyp.it/o2jti1ef/widget']\n"
     ]
    },
    {
     "name": "stderr",
     "output_type": "stream",
     "text": [
      " 94%|██████████████████████████████████████████████████████████████████████████▍    | 2169/2302 [01:47<00:05, 24.53it/s]"
     ]
    },
    {
     "name": "stdout",
     "output_type": "stream",
     "text": [
      "['https://clyp.it/jruone4s']\n",
      "['https://clyp.it/nhi0qaqb/widget']\n",
      "['https://clyp.it/mxo03i0r/widget', 'https://clyp.it/a3fcol5r/widget']\n",
      "['https://clyp.it/g5crii23/widget', 'https://clyp.it/irh51jn1/widget']\n",
      "['https://clyp.it/t0xtjjrr/widget']\n",
      "['https://clyp.it/54kwwmdl/widget', 'https://clyp.it/shnhdmku/widget']\n"
     ]
    },
    {
     "name": "stderr",
     "output_type": "stream",
     "text": [
      " 94%|██████████████████████████████████████████████████████████████████████████▋    | 2175/2302 [01:47<00:05, 25.12it/s]"
     ]
    },
    {
     "name": "stdout",
     "output_type": "stream",
     "text": [
      "['https://clyp.it/hni5sqny/widget', 'https://clyp.it/0oic2dci/widget']\n",
      "['https://clyp.it/mdkfjdxz/widget', 'https://clyp.it/mqvlktqi/widget']\n",
      "['https://clyp.it/ew21t0us/widget']\n",
      "['https://clyp.it/evy0txri/widget', 'https://clyp.it/azqymf12/widget']\n",
      "['https://clyp.it/huengh5c/widget']\n",
      "['https://clyp.it/obmrdbt1/widget']\n"
     ]
    },
    {
     "name": "stderr",
     "output_type": "stream",
     "text": [
      " 95%|██████████████████████████████████████████████████████████████████████████▊    | 2181/2302 [01:47<00:04, 24.94it/s]"
     ]
    },
    {
     "name": "stdout",
     "output_type": "stream",
     "text": [
      "['https://clyp.it/vr1iickt/widget']\n",
      "['https://clyp.it/gsxxol4t/widget']\n",
      "['https://clyp.it/vmqxgh4v/widget']\n",
      "['https://clyp.it/1pre5v3y/widget', 'https://clyp.it/xldrivz1/widget']\n",
      "['https://clyp.it/44m0qley/widget', 'https://clyp.it/amfcz2xz/widget']\n",
      "['https://clyp.it/reettbx5/widget']\n"
     ]
    },
    {
     "name": "stderr",
     "output_type": "stream",
     "text": [
      " 95%|███████████████████████████████████████████████████████████████████████████    | 2187/2302 [01:47<00:04, 25.93it/s]"
     ]
    },
    {
     "name": "stdout",
     "output_type": "stream",
     "text": [
      "['https://clyp.it/nhfdbgpv/widget', 'https://clyp.it/yb0tfsyg/widget']\n",
      "['https://clyp.it/uk0xpwik/widget']\n",
      "['https://clyp.it/uezavq1k/widget']\n",
      "['https://clyp.it/04lj1no0/widget']\n",
      "['https://clyp.it/3tyoaoi5/widget', 'https://clyp.it/yvhi4udr/widget']\n",
      "['https://clyp.it/gitae2ld/widget']\n"
     ]
    },
    {
     "name": "stderr",
     "output_type": "stream",
     "text": [
      " 95%|███████████████████████████████████████████████████████████████████████████▎   | 2193/2302 [01:47<00:04, 26.69it/s]"
     ]
    },
    {
     "name": "stdout",
     "output_type": "stream",
     "text": [
      "['https://clyp.it/1q0ocb3h/widget', 'https://clyp.it/xmfs0ivp/widget']\n",
      "['https://clyp.it/eh3qlkxk/widget', 'https://clyp.it/r4kj5bje/widget']\n",
      "['https://clyp.it/p3nu13pt/widget', 'https://clyp.it/h4caufxw/widget']\n",
      "['https://clyp.it/o5vjtkah/widget']\n",
      "['https://clyp.it/ggxpancj/widget']\n",
      "['https://clyp.it/zjhm20mg/widget']\n"
     ]
    },
    {
     "name": "stderr",
     "output_type": "stream",
     "text": [
      " 95%|███████████████████████████████████████████████████████████████████████████▎   | 2196/2302 [01:48<00:04, 26.42it/s]"
     ]
    },
    {
     "name": "stdout",
     "output_type": "stream",
     "text": [
      "['https://clyp.it/35uopc4e/widget']\n",
      "['https://clyp.it/kveh0ejs/widget']\n"
     ]
    },
    {
     "name": "stderr",
     "output_type": "stream",
     "text": [
      " 96%|███████████████████████████████████████████████████████████████████████████▍   | 2199/2302 [01:49<00:12,  8.03it/s]"
     ]
    },
    {
     "name": "stdout",
     "output_type": "stream",
     "text": [
      "['https://clyp.it/mno3icjg/widget']\n",
      "['https://clyp.it/riwo2lka/widget']\n",
      "['https://clyp.it/aslxg5xf/widget']\n",
      "['https://clyp.it/ucprpqd4/widget']\n",
      "['https://clyp.it/stvz41gh/widget']\n"
     ]
    },
    {
     "name": "stderr",
     "output_type": "stream",
     "text": [
      " 96%|███████████████████████████████████████████████████████████████████████████▋   | 2205/2302 [01:49<00:08, 12.05it/s]"
     ]
    },
    {
     "name": "stdout",
     "output_type": "stream",
     "text": [
      "['https://clyp.it/01u55isp/widget', 'https://clyp.it/d5tarrok/widget']\n",
      "['https://clyp.it/warpqytv/widget']\n",
      "['https://clyp.it/gzp1bp5l/widget']\n",
      "['https://clyp.it/f4jlrpox/widget', 'https://clyp.it/5d0d4jsk/widget', 'https://clyp.it/fyq04a03/widget']\n",
      "['https://clyp.it/xetkthll/widget']\n"
     ]
    },
    {
     "name": "stderr",
     "output_type": "stream",
     "text": [
      " 96%|███████████████████████████████████████████████████████████████████████████▉   | 2211/2302 [01:49<00:05, 16.17it/s]"
     ]
    },
    {
     "name": "stdout",
     "output_type": "stream",
     "text": [
      "['https://clyp.it/qllrit3k/widget']\n",
      "['https://clyp.it/2to403gh/widget', 'https://clyp.it/ktcicopa/widget']\n",
      "['https://clyp.it/jy1ssfod/widget']\n",
      "['https://clyp.it/rwt2q4pi/widget']\n",
      "['https://clyp.it/ehwm4y4w/widget']\n"
     ]
    },
    {
     "name": "stderr",
     "output_type": "stream",
     "text": [
      " 96%|███████████████████████████████████████████████████████████████████████████▉   | 2214/2302 [01:49<00:05, 17.46it/s]"
     ]
    },
    {
     "name": "stdout",
     "output_type": "stream",
     "text": [
      "['https://clyp.it/mbjzy1gk/widget']\n",
      "['https://clyp.it/z3kcszc1/widget']\n",
      "['https://clyp.it/evdd4kpq/widget']\n",
      "['https://clyp.it/gegfyiyx/widget', 'https://clyp.it/f0ttgqym/widget', 'https://clyp.it/w3qwejdg/widget', 'https://clyp.it/nfwpds0p/widget', 'https://clyp.it/guk2hbbx/widget']\n",
      "['https://clyp.it/jd3t0g2q/widget', 'https://clyp.it/rtb12x4l/widget', 'https://clyp.it/jdql4k03/widget']\n"
     ]
    },
    {
     "name": "stderr",
     "output_type": "stream",
     "text": [
      " 96%|████████████████████████████████████████████████████████████████████████████▏  | 2220/2302 [01:49<00:04, 19.86it/s]"
     ]
    },
    {
     "name": "stdout",
     "output_type": "stream",
     "text": [
      "['https://clyp.it/trcn5mgw/widget', 'https://clyp.it/wchdnieq/widget', 'https://clyp.it/kin5z1qj/widget']\n",
      "['https://clyp.it/ft3nwnei/widget']\n",
      "['https://clyp.it/hedggkqn/widget']\n",
      "['https://clyp.it/bfnn2onf/widget']\n",
      "['https://clyp.it/40uqo4i2/widget']\n"
     ]
    },
    {
     "name": "stderr",
     "output_type": "stream",
     "text": [
      " 97%|████████████████████████████████████████████████████████████████████████████▍  | 2226/2302 [01:50<00:03, 22.05it/s]"
     ]
    },
    {
     "name": "stdout",
     "output_type": "stream",
     "text": [
      "['https://clyp.it/0t5mccht/widget']\n",
      "['https://clyp.it/fmaitg10/widget', 'https://clyp.it/aaculr5g/widget']\n",
      "['https://clyp.it/3cldqqvs/widget']\n",
      "['https://clyp.it/4mrlzb3e/widget']\n",
      "['https://clyp.it/ysv5mlks/widget']\n",
      "['https://clyp.it/dhozm5kh/widget']\n"
     ]
    },
    {
     "name": "stderr",
     "output_type": "stream",
     "text": [
      " 97%|████████████████████████████████████████████████████████████████████████████▌  | 2232/2302 [01:50<00:02, 23.40it/s]"
     ]
    },
    {
     "name": "stdout",
     "output_type": "stream",
     "text": [
      "['https://clyp.it/2q0gqkzi/widget', 'https://clyp.it/3j3b5j4y/widget']\n",
      "['https://clyp.it/b4f0aprq/widget', 'https://clyp.it/fayegvjv/widget', 'https://clyp.it/j1g3faaj/widget']\n",
      "['https://clyp.it/lwylljeq/widget']\n",
      "['https://clyp.it/5obumrzp/widget']\n",
      "['https://clyp.it/52vn4zzm/widget']\n",
      "['https://clyp.it/mqbxfxvz/widget']\n"
     ]
    },
    {
     "name": "stderr",
     "output_type": "stream",
     "text": [
      " 97%|████████████████████████████████████████████████████████████████████████████▊  | 2238/2302 [01:50<00:02, 25.12it/s]"
     ]
    },
    {
     "name": "stdout",
     "output_type": "stream",
     "text": [
      "['https://clyp.it/kf2kutdr/widget']\n",
      "['https://clyp.it/bt55rbsc/widget']\n",
      "['https://clyp.it/rilwicoz/widget']\n",
      "['https://clyp.it/oxruzyk2/widget']\n",
      "['https://clyp.it/onkybekp/widget']\n",
      "['https://clyp.it/gprestt5/widget', 'https://clyp.it/f2jolwl2/widget']\n"
     ]
    },
    {
     "name": "stderr",
     "output_type": "stream",
     "text": [
      " 97%|█████████████████████████████████████████████████████████████████████████████  | 2244/2302 [01:50<00:02, 25.88it/s]"
     ]
    },
    {
     "name": "stdout",
     "output_type": "stream",
     "text": [
      "['https://clyp.it/ix4yddlc/widget']\n",
      "['https://clyp.it/jy0mq1k3/widget', 'https://clyp.it/zneaogba/widget', 'https://clyp.it/uk4wd01l/widget']\n",
      "['https://clyp.it/vu1jcll0/widget', 'https://clyp.it/4djxmmcs/widget']\n",
      "['https://clyp.it/daw30dxh/widget']\n",
      "['https://clyp.it/tf0zheoz/widget', 'https://clyp.it/hu1m4tpg/widget']\n",
      "['https://clyp.it/ydz43zhn/widget']\n"
     ]
    },
    {
     "name": "stderr",
     "output_type": "stream",
     "text": [
      " 98%|█████████████████████████████████████████████████████████████████████████████▏ | 2250/2302 [01:51<00:01, 26.38it/s]"
     ]
    },
    {
     "name": "stdout",
     "output_type": "stream",
     "text": [
      "['https://clyp.it/1fk2htip/widget']\n",
      "['https://clyp.it/hofj3b4r/widget', 'https://clyp.it/okqd0vck/widget']\n",
      "['https://clyp.it/n5jqctzt/widget']\n",
      "['https://clyp.it/dppiww32/widget', 'https://clyp.it/raqrxhyc/widget']\n",
      "['https://clyp.it/ytok5knv/widget']\n",
      "['https://clyp.it/csnzsyhp/widget', 'https://clyp.it/a24g5lwn/widget', 'https://clyp.it/5imlp0nd/widget']\n"
     ]
    },
    {
     "name": "stderr",
     "output_type": "stream",
     "text": [
      " 98%|█████████████████████████████████████████████████████████████████████████████▍ | 2256/2302 [01:51<00:01, 25.54it/s]"
     ]
    },
    {
     "name": "stdout",
     "output_type": "stream",
     "text": [
      "['https://clyp.it/o2na4wuz/widget']\n",
      "['https://clyp.it/iqck1rcg/widget', 'https://clyp.it/goml2g0y/widget']\n",
      "['https://w.soundcloud.com/player/?visual=false&amp', 'title=\"אסמר by Arabit', 'https://clyp.it/haxwo1dm/widget']\n",
      "['https://clyp.it/demcnpzb/widget']\n",
      "['https://w.soundcloud.com/player/?visual=false&amp', 'title=\"שנטה by Arabit']\n",
      "['https://w.soundcloud.com/player/?visual=false&amp', 'title=\"ראא\\'ס by Arabit', 'https://clyp.it/5zgqqe5u/widget', 'https://clyp.it/4zzp12dz/widget', 'https://clyp.it/xfqg3pj1']\n"
     ]
    },
    {
     "name": "stderr",
     "output_type": "stream",
     "text": [
      " 98%|█████████████████████████████████████████████████████████████████████████████▋ | 2262/2302 [01:51<00:01, 25.11it/s]"
     ]
    },
    {
     "name": "stdout",
     "output_type": "stream",
     "text": [
      "['https://w.soundcloud.com/player/?visual=false&amp', 'title=\"תואם by Arabit', 'https://clyp.it/txeobg0y/widget', 'https://clyp.it/5z11c4md/widget', 'https://clyp.it/hpysrcrt/widget']\n",
      "['https://w.soundcloud.com/player/?visual=false&amp', 'title=\"סג\\'ין by Arabit']\n",
      "['https://w.soundcloud.com/player/?visual=false&amp', 'title=\"חג\\'אב by Arabit', 'https://clyp.it/ao5rftw5/widget']\n",
      "['https://w.soundcloud.com/player/?visual=false&amp', 'title=\"מפרוצ\\' by Arabit', 'https://clyp.it/nnztbl3b/widget']\n",
      "['https://w.soundcloud.com/player/?visual=false&amp', 'title=\"ולד by Arabit']\n",
      "['https://w.soundcloud.com/player/?visual=false&amp', 'title=\"מדיר by Arabit', 'https://clyp.it/l2sq42uq/widget', 'https://clyp.it/gi1frtd4/widget', 'https://clyp.it/r32cffhh/widget']\n"
     ]
    },
    {
     "name": "stderr",
     "output_type": "stream",
     "text": [
      " 99%|█████████████████████████████████████████████████████████████████████████████▊ | 2268/2302 [01:51<00:01, 25.95it/s]"
     ]
    },
    {
     "name": "stdout",
     "output_type": "stream",
     "text": [
      "['https://w.soundcloud.com/player/?visual=false&amp', 'title=\"קרעה by Arabit']\n",
      "['https://w.soundcloud.com/player/?visual=false&amp', 'title=\"אזער by Arabit']\n",
      "['https://clyp.it/1b0gnpwb/widget']\n",
      "['https://w.soundcloud.com/player/?visual=false&amp', 'title=\"לד\\'יד\\' by Arabit']\n",
      "['https://w.soundcloud.com/player/?visual=false&amp', 'title=\"מפלוג\\' by Arabit']\n",
      "['https://w.soundcloud.com/player/?visual=false&amp', 'title=\"עקים by Arabit']\n"
     ]
    },
    {
     "name": "stderr",
     "output_type": "stream",
     "text": [
      " 99%|█████████████████████████████████████████████████████████████████████████████▉ | 2271/2302 [01:51<00:01, 25.79it/s]"
     ]
    },
    {
     "name": "stdout",
     "output_type": "stream",
     "text": [
      "['https://w.soundcloud.com/player/?visual=false&amp', 'title=\"ע\\'רק by Arabit']\n",
      "['https://w.soundcloud.com/player/?visual=false&amp', 'title=\"מתצ\\'איק by Arabit']\n",
      "['https://w.soundcloud.com/player/?visual=false&amp', 'title=\"נתיג\\'ה by Arabit']\n",
      "['https://w.soundcloud.com/player/?visual=false&amp', 'title=\"חפט\\' by Arabit']\n"
     ]
    },
    {
     "name": "stderr",
     "output_type": "stream",
     "text": [
      " 99%|██████████████████████████████████████████████████████████████████████████████▏| 2277/2302 [01:53<00:02, 10.25it/s]"
     ]
    },
    {
     "name": "stdout",
     "output_type": "stream",
     "text": [
      "['https://w.soundcloud.com/player/?visual=false&amp', 'title=\"בג\\'נן by Arabit', 'https://clyp.it/bt31uub5/widget', 'https://clyp.it/ywj4s2rb/widget']\n",
      "['https://w.soundcloud.com/player/?visual=false&amp', 'title=\"שאיב by Arabit']\n",
      "['https://w.soundcloud.com/player/?visual=false&amp', 'title=\"ראחת אלחלקום by Arabit']\n",
      "['https://w.soundcloud.com/player/?visual=false&amp', 'title=\"קדים by Arabit']\n",
      "['https://w.soundcloud.com/player/?visual=false&amp', 'title=\"בצל by Arabit']\n",
      "['https://w.soundcloud.com/player/?visual=false&amp', 'title=\"שהיד by Arabit', 'https://clyp.it/ptwwx3it/widget']\n"
     ]
    },
    {
     "name": "stderr",
     "output_type": "stream",
     "text": [
      " 99%|██████████████████████████████████████████████████████████████████████████████▎| 2283/2302 [01:53<00:01, 14.98it/s]"
     ]
    },
    {
     "name": "stdout",
     "output_type": "stream",
     "text": [
      "['https://w.soundcloud.com/player/?visual=false&amp', 'title=\"אם by Arabit', 'https://clyp.it/kvskvdqu/widget']\n",
      "['https://w.soundcloud.com/player/?visual=false&amp', 'title=\"אח\\' by Arabit']\n",
      "['https://w.soundcloud.com/player/?visual=false&amp', 'title=\"סוק by Arabit', 'https://clyp.it/vd0n5p1b/widget']\n",
      "['https://w.soundcloud.com/player/?visual=false&amp', 'title=\"מכסוף by Arabit']\n",
      "['https://w.soundcloud.com/player/?visual=false&amp', 'title=\"בארז by Arabit']\n",
      "['https://w.soundcloud.com/player/?visual=false&amp', 'title=\"וצ\\'עת by Arabit', 'https://clyp.it/ixm02xie']\n"
     ]
    },
    {
     "name": "stderr",
     "output_type": "stream",
     "text": [
      " 99%|██████████████████████████████████████████████████████████████████████████████▌| 2289/2302 [01:53<00:00, 19.67it/s]"
     ]
    },
    {
     "name": "stdout",
     "output_type": "stream",
     "text": [
      "['https://w.soundcloud.com/player/?visual=false&amp', 'title=\"אסתע\\'את\\'ה by Arabit']\n",
      "['https://w.soundcloud.com/player/?visual=false&amp', 'title=\"לקאח by Arabit']\n",
      "['https://w.soundcloud.com/player/?visual=false&amp', 'title=\"סאא\\'ל by Arabit']\n",
      "['https://w.soundcloud.com/player/?visual=false&amp', 'title=\"ג\\'אאזה by Arabit']\n",
      "['https://w.soundcloud.com/player/?visual=false&amp', 'title=\"חבשה by Arabit']\n",
      "['https://clyp.it/uzu2gsbd/widget']\n"
     ]
    },
    {
     "name": "stderr",
     "output_type": "stream",
     "text": [
      "100%|██████████████████████████████████████████████████████████████████████████████▊| 2295/2302 [01:53<00:00, 23.30it/s]"
     ]
    },
    {
     "name": "stdout",
     "output_type": "stream",
     "text": [
      "['https://w.soundcloud.com/player/?visual=false&amp', 'title=\"תרשיח by Arabit', 'https://clyp.it/amzf5wrk/widget']\n",
      "['https://w.soundcloud.com/player/?visual=false&amp', 'title=\"אחסן by Arabit', 'https://clyp.it/vegkxc4n/widget']\n",
      "['https://w.soundcloud.com/player/?visual=false&amp', 'title=\"לג\\'נה by Arabit']\n",
      "['https://w.soundcloud.com/player/?visual=false&amp', 'title=\"אונטה by Arabit']\n",
      "['https://w.soundcloud.com/player/?visual=false&amp', 'title=\"מתח\\'וזק by Arabit', 'https://clyp.it/etd1cb0y/widget']\n",
      "['https://w.soundcloud.com/player/?visual=false&amp', 'title=\"כרמאל עיונכ by Arabit', 'https://clyp.it/3ifalzki/widget', 'https://clyp.it/rmgl4yvl/widget']\n"
     ]
    },
    {
     "name": "stderr",
     "output_type": "stream",
     "text": [
      "100%|███████████████████████████████████████████████████████████████████████████████| 2302/2302 [01:53<00:00, 20.20it/s]"
     ]
    },
    {
     "name": "stdout",
     "output_type": "stream",
     "text": [
      "['https://clyp.it/hptwh3no/widget', 'https://clyp.it/r2wvv5tw/widget']\n",
      "['https://w.soundcloud.com/player/?visual=false&amp', 'title=\"מחבוס by Arabit']\n",
      "['https://clyp.it/rhwou5up/widget']\n",
      "['https://clyp.it/tfoxobbg/widget']\n",
      "['https://w.soundcloud.com/player/?visual=false&amp', 'title=\"נבי by Arabit', 'https://clyp.it/bx2tcfs4/widget', 'https://clyp.it/xhitbh2m/widget']\n"
     ]
    },
    {
     "name": "stderr",
     "output_type": "stream",
     "text": [
      "\n"
     ]
    }
   ],
   "source": [
    "all_sound_links = []\n",
    "for i, title, link in tqdm(list(wp_df.itertuples()), total=len(wp_df)):\n",
    "    #print(i, title, link)\n",
    "    wp_path = f'data/arabit/word_pages/{str(i+1)}.html'\n",
    "    with open(wp_path, 'r') as f:\n",
    "        wp_html = f.read()\n",
    "    soup = BeautifulSoup(wp_html, 'html.parser')\n",
    "    article = soup.find(\"article\")\n",
    "    sound_link = re.findall(sc_clyp_re, article.prettify())\n",
    "    sound = article.find(\"iframe\", title=re.compile(\".* by Arabit\"))\n",
    "    if sound is not None:\n",
    "        sound = sound.get(\"title\")\n",
    "    else:\n",
    "        sound = None\n",
    "    all_sound_links.append((i, title, sound, sound_link))"
   ]
  },
  {
   "cell_type": "markdown",
   "id": "adeea900-92a7-411a-b505-e674dc0993ca",
   "metadata": {},
   "source": [
    "## Collect all to one csv"
   ]
  },
  {
   "cell_type": "code",
   "execution_count": 444,
   "id": "e30c2c19-6f76-4040-9535-61e6896fd644",
   "metadata": {},
   "outputs": [
    {
     "data": {
      "text/html": [
       "<div>\n",
       "<style scoped>\n",
       "    .dataframe tbody tr th:only-of-type {\n",
       "        vertical-align: middle;\n",
       "    }\n",
       "\n",
       "    .dataframe tbody tr th {\n",
       "        vertical-align: top;\n",
       "    }\n",
       "\n",
       "    .dataframe thead th {\n",
       "        text-align: right;\n",
       "    }\n",
       "</style>\n",
       "<table border=\"1\" class=\"dataframe\">\n",
       "  <thead>\n",
       "    <tr style=\"text-align: right;\">\n",
       "      <th></th>\n",
       "      <th>page_num</th>\n",
       "      <th>title</th>\n",
       "      <th>link</th>\n",
       "      <th>image</th>\n",
       "      <th>caption</th>\n",
       "      <th>caption_part</th>\n",
       "      <th>arabic_word</th>\n",
       "    </tr>\n",
       "  </thead>\n",
       "  <tbody>\n",
       "    <tr>\n",
       "      <th>0</th>\n",
       "      <td>0</td>\n",
       "      <td>תודה</td>\n",
       "      <td>https://arabit.me/%d7%aa%d7%95%d7%93%d7%94/</td>\n",
       "      <td>https://arabit.me/wp-content/uploads/2024/01/ת...</td>\n",
       "      <td>תודה</td>\n",
       "      <td>תודה</td>\n",
       "      <td>شُكْرًا</td>\n",
       "    </tr>\n",
       "    <tr>\n",
       "      <th>1</th>\n",
       "      <td>1</td>\n",
       "      <td>מערה</td>\n",
       "      <td>https://arabit.me/%d7%9e%d7%a2%d7%a8%d7%94/</td>\n",
       "      <td>https://arabit.me/wp-content/uploads/2024/01/מ...</td>\n",
       "      <td>מערה</td>\n",
       "      <td>מערה</td>\n",
       "      <td>مغارة</td>\n",
       "    </tr>\n",
       "    <tr>\n",
       "      <th>2</th>\n",
       "      <td>2</td>\n",
       "      <td>כיסא נדנדה</td>\n",
       "      <td>https://arabit.me/%d7%9b%d7%99%d7%a1%d7%90-%d7...</td>\n",
       "      <td>https://arabit.me/wp-content/uploads/2024/01/כ...</td>\n",
       "      <td>כיסא נדנדה</td>\n",
       "      <td>כיסא נדנדה</td>\n",
       "      <td>كُرْسِيّ رَجَّاج</td>\n",
       "    </tr>\n",
       "    <tr>\n",
       "      <th>3</th>\n",
       "      <td>3</td>\n",
       "      <td>הצטרף</td>\n",
       "      <td>https://arabit.me/%d7%94%d7%a6%d7%98%d7%a8%d7%a3/</td>\n",
       "      <td>https://arabit.me/wp-content/uploads/2024/01/ה...</td>\n",
       "      <td>הצטרף</td>\n",
       "      <td>הצטרף</td>\n",
       "      <td>اِنْضَمّ</td>\n",
       "    </tr>\n",
       "    <tr>\n",
       "      <th>4</th>\n",
       "      <td>4</td>\n",
       "      <td>טלפון</td>\n",
       "      <td>https://arabit.me/%d7%98%d7%9c%d7%a4%d7%95%d7%9f/</td>\n",
       "      <td>https://arabit.me/wp-content/uploads/2024/01/ט...</td>\n",
       "      <td>טלפון</td>\n",
       "      <td>טלפון</td>\n",
       "      <td>هاتف</td>\n",
       "    </tr>\n",
       "  </tbody>\n",
       "</table>\n",
       "</div>"
      ],
      "text/plain": [
       "   page_num       title                                               link  \\\n",
       "0         0        תודה        https://arabit.me/%d7%aa%d7%95%d7%93%d7%94/   \n",
       "1         1        מערה        https://arabit.me/%d7%9e%d7%a2%d7%a8%d7%94/   \n",
       "2         2  כיסא נדנדה  https://arabit.me/%d7%9b%d7%99%d7%a1%d7%90-%d7...   \n",
       "3         3       הצטרף  https://arabit.me/%d7%94%d7%a6%d7%98%d7%a8%d7%a3/   \n",
       "4         4       טלפון  https://arabit.me/%d7%98%d7%9c%d7%a4%d7%95%d7%9f/   \n",
       "\n",
       "                                               image     caption caption_part  \\\n",
       "0  https://arabit.me/wp-content/uploads/2024/01/ת...        תודה         תודה   \n",
       "1  https://arabit.me/wp-content/uploads/2024/01/מ...        מערה         מערה   \n",
       "2  https://arabit.me/wp-content/uploads/2024/01/כ...  כיסא נדנדה   כיסא נדנדה   \n",
       "3  https://arabit.me/wp-content/uploads/2024/01/ה...       הצטרף        הצטרף   \n",
       "4  https://arabit.me/wp-content/uploads/2024/01/ט...       טלפון        טלפון   \n",
       "\n",
       "          arabic_word  \n",
       "0            شُكْرًا   \n",
       "1              مغارة   \n",
       "2   كُرْسِيّ رَجَّاج   \n",
       "3           اِنْضَمّ   \n",
       "4               هاتف   "
      ]
     },
     "execution_count": 444,
     "metadata": {},
     "output_type": "execute_result"
    }
   ],
   "source": [
    "wdf = pd.DataFrame(words, columns=[\"page_num\", \"title\", \"link\", \"image\", \"caption\", \"caption_part\", \"arabic_word\"])\n",
    "wdf.head()"
   ]
  },
  {
   "cell_type": "code",
   "execution_count": 445,
   "id": "ac7fbcd7-a900-43c2-89ae-f97394a5cbdf",
   "metadata": {},
   "outputs": [
    {
     "data": {
      "text/plain": [
       "2286"
      ]
     },
     "execution_count": 445,
     "metadata": {},
     "output_type": "execute_result"
    }
   ],
   "source": [
    "wdf.link.nunique()"
   ]
  },
  {
   "cell_type": "code",
   "execution_count": 414,
   "id": "421c1f96-d078-4d6c-bc55-43130fea2544",
   "metadata": {},
   "outputs": [],
   "source": [
    "# add local image path"
   ]
  },
  {
   "cell_type": "code",
   "execution_count": 446,
   "id": "8c1fd6db-54d6-402d-864d-4b0bba6e7240",
   "metadata": {},
   "outputs": [
    {
     "data": {
      "text/html": [
       "<div>\n",
       "<style scoped>\n",
       "    .dataframe tbody tr th:only-of-type {\n",
       "        vertical-align: middle;\n",
       "    }\n",
       "\n",
       "    .dataframe tbody tr th {\n",
       "        vertical-align: top;\n",
       "    }\n",
       "\n",
       "    .dataframe thead th {\n",
       "        text-align: right;\n",
       "    }\n",
       "</style>\n",
       "<table border=\"1\" class=\"dataframe\">\n",
       "  <thead>\n",
       "    <tr style=\"text-align: right;\">\n",
       "      <th></th>\n",
       "      <th>page_num</th>\n",
       "      <th>title</th>\n",
       "      <th>link</th>\n",
       "      <th>image</th>\n",
       "      <th>caption</th>\n",
       "      <th>caption_part</th>\n",
       "      <th>arabic_word</th>\n",
       "      <th>local_image_path</th>\n",
       "      <th>local_image_path_small</th>\n",
       "      <th>local_image_path_xs</th>\n",
       "    </tr>\n",
       "  </thead>\n",
       "  <tbody>\n",
       "    <tr>\n",
       "      <th>0</th>\n",
       "      <td>0</td>\n",
       "      <td>תודה</td>\n",
       "      <td>https://arabit.me/%d7%aa%d7%95%d7%93%d7%94/</td>\n",
       "      <td>https://arabit.me/wp-content/uploads/2024/01/ת...</td>\n",
       "      <td>תודה</td>\n",
       "      <td>תודה</td>\n",
       "      <td>شُكْرًا</td>\n",
       "      <td>data/arabit/images/תודה.jpg</td>\n",
       "      <td>data/arabit/images_smaller/תודה.jpg</td>\n",
       "      <td>data/arabit/images_xs/תודה.jpg</td>\n",
       "    </tr>\n",
       "    <tr>\n",
       "      <th>1</th>\n",
       "      <td>1</td>\n",
       "      <td>מערה</td>\n",
       "      <td>https://arabit.me/%d7%9e%d7%a2%d7%a8%d7%94/</td>\n",
       "      <td>https://arabit.me/wp-content/uploads/2024/01/מ...</td>\n",
       "      <td>מערה</td>\n",
       "      <td>מערה</td>\n",
       "      <td>مغارة</td>\n",
       "      <td>data/arabit/images/מערה.jpg</td>\n",
       "      <td>data/arabit/images_smaller/מערה.jpg</td>\n",
       "      <td>data/arabit/images_xs/מערה.jpg</td>\n",
       "    </tr>\n",
       "    <tr>\n",
       "      <th>2</th>\n",
       "      <td>2</td>\n",
       "      <td>כיסא נדנדה</td>\n",
       "      <td>https://arabit.me/%d7%9b%d7%99%d7%a1%d7%90-%d7...</td>\n",
       "      <td>https://arabit.me/wp-content/uploads/2024/01/כ...</td>\n",
       "      <td>כיסא נדנדה</td>\n",
       "      <td>כיסא נדנדה</td>\n",
       "      <td>كُرْسِيّ رَجَّاج</td>\n",
       "      <td>data/arabit/images/כיסא-נדנדה.jpg</td>\n",
       "      <td>data/arabit/images_smaller/כיסא-נדנדה.jpg</td>\n",
       "      <td>data/arabit/images_xs/כיסא-נדנדה.jpg</td>\n",
       "    </tr>\n",
       "    <tr>\n",
       "      <th>3</th>\n",
       "      <td>3</td>\n",
       "      <td>הצטרף</td>\n",
       "      <td>https://arabit.me/%d7%94%d7%a6%d7%98%d7%a8%d7%a3/</td>\n",
       "      <td>https://arabit.me/wp-content/uploads/2024/01/ה...</td>\n",
       "      <td>הצטרף</td>\n",
       "      <td>הצטרף</td>\n",
       "      <td>اِنْضَمّ</td>\n",
       "      <td>data/arabit/images/הצטרף.jpg</td>\n",
       "      <td>data/arabit/images_smaller/הצטרף.jpg</td>\n",
       "      <td>data/arabit/images_xs/הצטרף.jpg</td>\n",
       "    </tr>\n",
       "    <tr>\n",
       "      <th>4</th>\n",
       "      <td>4</td>\n",
       "      <td>טלפון</td>\n",
       "      <td>https://arabit.me/%d7%98%d7%9c%d7%a4%d7%95%d7%9f/</td>\n",
       "      <td>https://arabit.me/wp-content/uploads/2024/01/ט...</td>\n",
       "      <td>טלפון</td>\n",
       "      <td>טלפון</td>\n",
       "      <td>هاتف</td>\n",
       "      <td>data/arabit/images/טלפון.jpg</td>\n",
       "      <td>data/arabit/images_smaller/טלפון.jpg</td>\n",
       "      <td>data/arabit/images_xs/טלפון.jpg</td>\n",
       "    </tr>\n",
       "  </tbody>\n",
       "</table>\n",
       "</div>"
      ],
      "text/plain": [
       "   page_num       title                                               link  \\\n",
       "0         0        תודה        https://arabit.me/%d7%aa%d7%95%d7%93%d7%94/   \n",
       "1         1        מערה        https://arabit.me/%d7%9e%d7%a2%d7%a8%d7%94/   \n",
       "2         2  כיסא נדנדה  https://arabit.me/%d7%9b%d7%99%d7%a1%d7%90-%d7...   \n",
       "3         3       הצטרף  https://arabit.me/%d7%94%d7%a6%d7%98%d7%a8%d7%a3/   \n",
       "4         4       טלפון  https://arabit.me/%d7%98%d7%9c%d7%a4%d7%95%d7%9f/   \n",
       "\n",
       "                                               image     caption caption_part  \\\n",
       "0  https://arabit.me/wp-content/uploads/2024/01/ת...        תודה         תודה   \n",
       "1  https://arabit.me/wp-content/uploads/2024/01/מ...        מערה         מערה   \n",
       "2  https://arabit.me/wp-content/uploads/2024/01/כ...  כיסא נדנדה   כיסא נדנדה   \n",
       "3  https://arabit.me/wp-content/uploads/2024/01/ה...       הצטרף        הצטרף   \n",
       "4  https://arabit.me/wp-content/uploads/2024/01/ט...       טלפון        טלפון   \n",
       "\n",
       "          arabic_word                   local_image_path  \\\n",
       "0            شُكْرًا         data/arabit/images/תודה.jpg   \n",
       "1              مغارة         data/arabit/images/מערה.jpg   \n",
       "2   كُرْسِيّ رَجَّاج   data/arabit/images/כיסא-נדנדה.jpg   \n",
       "3           اِنْضَمّ        data/arabit/images/הצטרף.jpg   \n",
       "4               هاتف        data/arabit/images/טלפון.jpg   \n",
       "\n",
       "                      local_image_path_small  \\\n",
       "0        data/arabit/images_smaller/תודה.jpg   \n",
       "1        data/arabit/images_smaller/מערה.jpg   \n",
       "2  data/arabit/images_smaller/כיסא-נדנדה.jpg   \n",
       "3       data/arabit/images_smaller/הצטרף.jpg   \n",
       "4       data/arabit/images_smaller/טלפון.jpg   \n",
       "\n",
       "                    local_image_path_xs  \n",
       "0        data/arabit/images_xs/תודה.jpg  \n",
       "1        data/arabit/images_xs/מערה.jpg  \n",
       "2  data/arabit/images_xs/כיסא-נדנדה.jpg  \n",
       "3       data/arabit/images_xs/הצטרף.jpg  \n",
       "4       data/arabit/images_xs/טלפון.jpg  "
      ]
     },
     "execution_count": 446,
     "metadata": {},
     "output_type": "execute_result"
    }
   ],
   "source": [
    "wdf[\"local_image_path\"] = wdf.image.apply(lambda x: f'data/arabit/images/{x.split(\"/\")[-1]}')\n",
    "wdf[\"local_image_path_small\"] = wdf.image.apply(lambda x: f'data/arabit/images_smaller/{x.split(\"/\")[-1]}')\n",
    "wdf[\"local_image_path_xs\"] = wdf.image.apply(lambda x: f'data/arabit/images_xs/{x.split(\"/\")[-1]}')\n",
    "wdf.head()"
   ]
  },
  {
   "cell_type": "raw",
   "id": "5b99924b-17e2-4dd9-8539-d41eac694883",
   "metadata": {},
   "source": [
    "# add local soundcloud audio"
   ]
  },
  {
   "cell_type": "raw",
   "id": "a04c0495-645b-4ebc-ba16-ca0d4e252520",
   "metadata": {},
   "source": [
    "wdf[\"soundcloud_local_file\"] = wdf.page_num.map(soundcloud_page_mapping.set_index('page_num')[\"local_path\"])\n",
    "wdf.head()"
   ]
  },
  {
   "cell_type": "raw",
   "id": "f9422c61-8955-4705-8346-264c83210fc5",
   "metadata": {},
   "source": [
    "# add local clypit audio\n",
    "wdf[\"clypit_local_file\"] = wdf.page_num.map(clypit_page_mapping.set_index('page_num')[\"local_file\"])\n",
    "wdf.head()"
   ]
  },
  {
   "cell_type": "code",
   "execution_count": 462,
   "id": "514476df-3956-4a10-a2fe-64047d01f89c",
   "metadata": {},
   "outputs": [
    {
     "data": {
      "text/plain": [
       "2554"
      ]
     },
     "execution_count": 462,
     "metadata": {},
     "output_type": "execute_result"
    }
   ],
   "source": [
    "all_sound_mapping = {}\n",
    "clypit_link_to_local_file = clypit_df.set_index('link').local_clypit_file.to_dict()\n",
    "soundcloud_link_to_local_file = sc_titles_df.set_index('original_link').local_path.to_dict()\n",
    "soundcloud_clean_link_to_local_file = sc_titles_df.set_index('clean_link').local_path.to_dict()\n",
    "soundcloud_url_to_local_file = sc_titles_df.set_index('url').local_path.to_dict()\n",
    "all_sound_mapping = clypit_link_to_local_file | soundcloud_link_to_local_file | soundcloud_clean_link_to_local_file | soundcloud_url_to_local_file\n",
    "len(all_sound_mapping)"
   ]
  },
  {
   "cell_type": "code",
   "execution_count": 467,
   "id": "9731d2a7-a229-4276-92e7-03cc0c121d88",
   "metadata": {},
   "outputs": [
    {
     "name": "stdout",
     "output_type": "stream",
     "text": [
      "'https://on.soundcloud.com/rfJ7z?fbclid=IwAR1FcKuy5z-hfmKGSrMwTguCp0RwhsPUPym6iOPV-B6cEIAaq9u5DVrptYc'\n",
      "'https://on.soundcloud.com/EUpc7?fbclid=IwAR19EfPT04xkk8-aFHYFU96aBUnbBtNNwt-a6IeR73ogVL09dCiJaz8Cx10'\n",
      "'https://on.soundcloud.com/z2VqL?fbclid=IwAR1Bp4pkTINmctuAwyzaU4cPRFZps8SWRZQBa8iIGE2wmjIVECDZpl8paEk'\n",
      "'https://clyp.it/5opecyf5'\n",
      "'https://on.soundcloud.com/bw4UB?fbclid=IwAR0v0NvBpkoST6aPCOEWUgagYfXThpilUiRoZzMyuEmk81NUicNeIvOt7zs'\n",
      "'https://on.soundcloud.com/7BQ91?fbclid=IwAR3RXXpSPlfnvN-p_bPEktDYprpa9GnXG5rea-xMqYXKeXeM9IywWxlgL6s'\n",
      "'https://clyp.it/2qesgnsz'\n",
      "'https://clyp.it/c51srbrg'\n",
      "'https://clyp.it/sjfig2fj'\n",
      "'https://clyp.it/c5pb5vjr'\n",
      "'https://clyp.it/vzocynfp'\n",
      "'https://clyp.it/o545hhtu'\n",
      "'https://clyp.it/uqbtz2yh'\n",
      "'https://clyp.it/1qg0rsea'\n"
     ]
    },
    {
     "data": {
      "text/html": [
       "<div>\n",
       "<style scoped>\n",
       "    .dataframe tbody tr th:only-of-type {\n",
       "        vertical-align: middle;\n",
       "    }\n",
       "\n",
       "    .dataframe tbody tr th {\n",
       "        vertical-align: top;\n",
       "    }\n",
       "\n",
       "    .dataframe thead th {\n",
       "        text-align: right;\n",
       "    }\n",
       "</style>\n",
       "<table border=\"1\" class=\"dataframe\">\n",
       "  <thead>\n",
       "    <tr style=\"text-align: right;\">\n",
       "      <th></th>\n",
       "      <th>page_num</th>\n",
       "      <th>title</th>\n",
       "      <th>link</th>\n",
       "      <th>image</th>\n",
       "      <th>caption</th>\n",
       "      <th>caption_part</th>\n",
       "      <th>arabic_word</th>\n",
       "      <th>local_image_path</th>\n",
       "      <th>local_image_path_small</th>\n",
       "      <th>local_image_path_xs</th>\n",
       "      <th>local_sound_path</th>\n",
       "    </tr>\n",
       "  </thead>\n",
       "  <tbody>\n",
       "    <tr>\n",
       "      <th>0</th>\n",
       "      <td>0</td>\n",
       "      <td>תודה</td>\n",
       "      <td>https://arabit.me/%d7%aa%d7%95%d7%93%d7%94/</td>\n",
       "      <td>https://arabit.me/wp-content/uploads/2024/01/ת...</td>\n",
       "      <td>תודה</td>\n",
       "      <td>תודה</td>\n",
       "      <td>شُكْرًا</td>\n",
       "      <td>data/arabit/images/תודה.jpg</td>\n",
       "      <td>data/arabit/images_smaller/תודה.jpg</td>\n",
       "      <td>data/arabit/images_xs/תודה.jpg</td>\n",
       "      <td>data/arabit/soundcloud/שכרן (תודה).mp3</td>\n",
       "    </tr>\n",
       "    <tr>\n",
       "      <th>1</th>\n",
       "      <td>1</td>\n",
       "      <td>מערה</td>\n",
       "      <td>https://arabit.me/%d7%9e%d7%a2%d7%a8%d7%94/</td>\n",
       "      <td>https://arabit.me/wp-content/uploads/2024/01/מ...</td>\n",
       "      <td>מערה</td>\n",
       "      <td>מערה</td>\n",
       "      <td>مغارة</td>\n",
       "      <td>data/arabit/images/מערה.jpg</td>\n",
       "      <td>data/arabit/images_smaller/מערה.jpg</td>\n",
       "      <td>data/arabit/images_xs/מערה.jpg</td>\n",
       "      <td>data/arabit/soundcloud/מע׳ארה (מערה).mp3</td>\n",
       "    </tr>\n",
       "    <tr>\n",
       "      <th>2</th>\n",
       "      <td>2</td>\n",
       "      <td>כיסא נדנדה</td>\n",
       "      <td>https://arabit.me/%d7%9b%d7%99%d7%a1%d7%90-%d7...</td>\n",
       "      <td>https://arabit.me/wp-content/uploads/2024/01/כ...</td>\n",
       "      <td>כיסא נדנדה</td>\n",
       "      <td>כיסא נדנדה</td>\n",
       "      <td>كُرْسِيّ رَجَّاج</td>\n",
       "      <td>data/arabit/images/כיסא-נדנדה.jpg</td>\n",
       "      <td>data/arabit/images_smaller/כיסא-נדנדה.jpg</td>\n",
       "      <td>data/arabit/images_xs/כיסא-נדנדה.jpg</td>\n",
       "      <td>data/arabit/soundcloud/כרסי רג׳אג׳ (כסא נדנדה)...</td>\n",
       "    </tr>\n",
       "    <tr>\n",
       "      <th>3</th>\n",
       "      <td>3</td>\n",
       "      <td>הצטרף</td>\n",
       "      <td>https://arabit.me/%d7%94%d7%a6%d7%98%d7%a8%d7%a3/</td>\n",
       "      <td>https://arabit.me/wp-content/uploads/2024/01/ה...</td>\n",
       "      <td>הצטרף</td>\n",
       "      <td>הצטרף</td>\n",
       "      <td>اِنْضَمّ</td>\n",
       "      <td>data/arabit/images/הצטרף.jpg</td>\n",
       "      <td>data/arabit/images_smaller/הצטרף.jpg</td>\n",
       "      <td>data/arabit/images_xs/הצטרף.jpg</td>\n",
       "      <td>data/arabit/soundcloud/אנצ׳ם (הצטרף).mp3</td>\n",
       "    </tr>\n",
       "    <tr>\n",
       "      <th>4</th>\n",
       "      <td>4</td>\n",
       "      <td>טלפון</td>\n",
       "      <td>https://arabit.me/%d7%98%d7%9c%d7%a4%d7%95%d7%9f/</td>\n",
       "      <td>https://arabit.me/wp-content/uploads/2024/01/ט...</td>\n",
       "      <td>טלפון</td>\n",
       "      <td>טלפון</td>\n",
       "      <td>هاتف</td>\n",
       "      <td>data/arabit/images/טלפון.jpg</td>\n",
       "      <td>data/arabit/images_smaller/טלפון.jpg</td>\n",
       "      <td>data/arabit/images_xs/טלפון.jpg</td>\n",
       "      <td>data/arabit/soundcloud/האתף (טלפון).mp3</td>\n",
       "    </tr>\n",
       "  </tbody>\n",
       "</table>\n",
       "</div>"
      ],
      "text/plain": [
       "   page_num       title                                               link  \\\n",
       "0         0        תודה        https://arabit.me/%d7%aa%d7%95%d7%93%d7%94/   \n",
       "1         1        מערה        https://arabit.me/%d7%9e%d7%a2%d7%a8%d7%94/   \n",
       "2         2  כיסא נדנדה  https://arabit.me/%d7%9b%d7%99%d7%a1%d7%90-%d7...   \n",
       "3         3       הצטרף  https://arabit.me/%d7%94%d7%a6%d7%98%d7%a8%d7%a3/   \n",
       "4         4       טלפון  https://arabit.me/%d7%98%d7%9c%d7%a4%d7%95%d7%9f/   \n",
       "\n",
       "                                               image     caption caption_part  \\\n",
       "0  https://arabit.me/wp-content/uploads/2024/01/ת...        תודה         תודה   \n",
       "1  https://arabit.me/wp-content/uploads/2024/01/מ...        מערה         מערה   \n",
       "2  https://arabit.me/wp-content/uploads/2024/01/כ...  כיסא נדנדה   כיסא נדנדה   \n",
       "3  https://arabit.me/wp-content/uploads/2024/01/ה...       הצטרף        הצטרף   \n",
       "4  https://arabit.me/wp-content/uploads/2024/01/ט...       טלפון        טלפון   \n",
       "\n",
       "          arabic_word                   local_image_path  \\\n",
       "0            شُكْرًا         data/arabit/images/תודה.jpg   \n",
       "1              مغارة         data/arabit/images/מערה.jpg   \n",
       "2   كُرْسِيّ رَجَّاج   data/arabit/images/כיסא-נדנדה.jpg   \n",
       "3           اِنْضَمّ        data/arabit/images/הצטרף.jpg   \n",
       "4               هاتف        data/arabit/images/טלפון.jpg   \n",
       "\n",
       "                      local_image_path_small  \\\n",
       "0        data/arabit/images_smaller/תודה.jpg   \n",
       "1        data/arabit/images_smaller/מערה.jpg   \n",
       "2  data/arabit/images_smaller/כיסא-נדנדה.jpg   \n",
       "3       data/arabit/images_smaller/הצטרף.jpg   \n",
       "4       data/arabit/images_smaller/טלפון.jpg   \n",
       "\n",
       "                    local_image_path_xs  \\\n",
       "0        data/arabit/images_xs/תודה.jpg   \n",
       "1        data/arabit/images_xs/מערה.jpg   \n",
       "2  data/arabit/images_xs/כיסא-נדנדה.jpg   \n",
       "3       data/arabit/images_xs/הצטרף.jpg   \n",
       "4       data/arabit/images_xs/טלפון.jpg   \n",
       "\n",
       "                                    local_sound_path  \n",
       "0             data/arabit/soundcloud/שכרן (תודה).mp3  \n",
       "1           data/arabit/soundcloud/מע׳ארה (מערה).mp3  \n",
       "2  data/arabit/soundcloud/כרסי רג׳אג׳ (כסא נדנדה)...  \n",
       "3           data/arabit/soundcloud/אנצ׳ם (הצטרף).mp3  \n",
       "4            data/arabit/soundcloud/האתף (טלפון).mp3  "
      ]
     },
     "execution_count": 467,
     "metadata": {},
     "output_type": "execute_result"
    }
   ],
   "source": [
    "all_page_sound_mapping = {}\n",
    "for page_num, title, sound, sound_links in all_sound_links:\n",
    "    sound_links = [s for s in sound_links if '/player/' not in s]\n",
    "    first_sound = sound_links[0] if sound_links!=[] else sound\n",
    "    if first_sound is None:\n",
    "        continue\n",
    "    try:\n",
    "        if first_sound.startswith('http'):\n",
    "            local_path = all_sound_mapping.get(first_sound)\n",
    "            if local_path is None:\n",
    "                clean_link = re.sub('\\?.*$', '', first_sound)\n",
    "                clean_link = re.sub('/widget$', '', first_sound)\n",
    "                local_path = all_sound_mapping[clean_link]\n",
    "        else:\n",
    "            clean_title = first_sound.replace('title=\"', '').replace(' by Arabit', '').strip()\n",
    "            local_path = 'data/arabit/soundcloud/' + clean_title.replace(\"/\", \"\") + '.mp3'\n",
    "        all_page_sound_mapping[page_num-1] = local_path\n",
    "    except Exception as e:\n",
    "        print(e)\n",
    "        #print(page_num, title, sound, sound_links, first_sound)\n",
    "    \n",
    "wdf['local_sound_path'] = wdf.page_num.map(all_page_sound_mapping)\n",
    "wdf.head()\n",
    "        "
   ]
  },
  {
   "cell_type": "code",
   "execution_count": 469,
   "id": "661a98f3-41b7-4e6c-b4a3-ab84b1eee6cd",
   "metadata": {},
   "outputs": [
    {
     "data": {
      "text/html": [
       "<div>\n",
       "<style scoped>\n",
       "    .dataframe tbody tr th:only-of-type {\n",
       "        vertical-align: middle;\n",
       "    }\n",
       "\n",
       "    .dataframe tbody tr th {\n",
       "        vertical-align: top;\n",
       "    }\n",
       "\n",
       "    .dataframe thead th {\n",
       "        text-align: right;\n",
       "    }\n",
       "</style>\n",
       "<table border=\"1\" class=\"dataframe\">\n",
       "  <thead>\n",
       "    <tr style=\"text-align: right;\">\n",
       "      <th></th>\n",
       "      <th>page_num</th>\n",
       "      <th>title</th>\n",
       "      <th>link</th>\n",
       "      <th>image</th>\n",
       "      <th>caption</th>\n",
       "      <th>caption_part</th>\n",
       "      <th>arabic_word</th>\n",
       "      <th>local_image_path</th>\n",
       "      <th>local_image_path_small</th>\n",
       "      <th>local_image_path_xs</th>\n",
       "      <th>local_sound_path</th>\n",
       "    </tr>\n",
       "  </thead>\n",
       "  <tbody>\n",
       "    <tr>\n",
       "      <th>2281</th>\n",
       "      <td>2297</td>\n",
       "      <td>איכס</td>\n",
       "      <td>https://arabit.me/%d7%90%d7%99%d7%9b%d7%a1/</td>\n",
       "      <td>https://arabit.me/wp-content/uploads/2021/01/1...</td>\n",
       "      <td>איכס</td>\n",
       "      <td>איכס</td>\n",
       "      <td>اخسا</td>\n",
       "      <td>data/arabit/images/139431422_952611835272677_2...</td>\n",
       "      <td>data/arabit/images_smaller/139431422_952611835...</td>\n",
       "      <td>data/arabit/images_xs/139431422_95261183527267...</td>\n",
       "      <td>data/arabit/clypit/אח׳ס.mp3</td>\n",
       "    </tr>\n",
       "    <tr>\n",
       "      <th>2282</th>\n",
       "      <td>2298</td>\n",
       "      <td>כלוא</td>\n",
       "      <td>https://arabit.me/%d7%9b%d7%9c%d7%95%d7%90/</td>\n",
       "      <td>https://arabit.me/wp-content/uploads/2021/01/1...</td>\n",
       "      <td>כלוא</td>\n",
       "      <td>כלוא</td>\n",
       "      <td>مَحْبُوس</td>\n",
       "      <td>data/arabit/images/138843949_952605831939944_5...</td>\n",
       "      <td>data/arabit/images_smaller/138843949_952605831...</td>\n",
       "      <td>data/arabit/images_xs/138843949_95260583193994...</td>\n",
       "      <td>data/arabit/soundcloud/מחבוס.mp3</td>\n",
       "    </tr>\n",
       "    <tr>\n",
       "      <th>2283</th>\n",
       "      <td>2299</td>\n",
       "      <td>נעל ישנה</td>\n",
       "      <td>https://arabit.me/%d7%a0%d7%a2%d7%9c-%d7%99%d7...</td>\n",
       "      <td>https://arabit.me/wp-content/uploads/2021/01/1...</td>\n",
       "      <td>נעל ישנה</td>\n",
       "      <td>נעל ישנה</td>\n",
       "      <td>صُرْمَاية</td>\n",
       "      <td>data/arabit/images/139030053_952606478606546_3...</td>\n",
       "      <td>data/arabit/images_smaller/139030053_952606478...</td>\n",
       "      <td>data/arabit/images_xs/139030053_95260647860654...</td>\n",
       "      <td>data/arabit/clypit/צרמאיה.mp3</td>\n",
       "    </tr>\n",
       "    <tr>\n",
       "      <th>2284</th>\n",
       "      <td>2300</td>\n",
       "      <td>טבח</td>\n",
       "      <td>https://arabit.me/%d7%98%d7%91%d7%97/</td>\n",
       "      <td>https://arabit.me/wp-content/uploads/2021/01/1...</td>\n",
       "      <td>טבח</td>\n",
       "      <td>טבח</td>\n",
       "      <td>مَذْبَحَة</td>\n",
       "      <td>data/arabit/images/118540761_853060481894480_5...</td>\n",
       "      <td>data/arabit/images_smaller/118540761_853060481...</td>\n",
       "      <td>data/arabit/images_xs/118540761_85306048189448...</td>\n",
       "      <td>data/arabit/clypit/מד'בחה.mp3</td>\n",
       "    </tr>\n",
       "    <tr>\n",
       "      <th>2285</th>\n",
       "      <td>2301</td>\n",
       "      <td>נביא</td>\n",
       "      <td>https://arabit.me/%d7%a0%d7%91%d7%99%d7%90/</td>\n",
       "      <td>https://arabit.me/wp-content/uploads/2021/01/1...</td>\n",
       "      <td>נביא</td>\n",
       "      <td>נביא</td>\n",
       "      <td>نَبِيّ</td>\n",
       "      <td>data/arabit/images/136962660_949236392276888_3...</td>\n",
       "      <td>data/arabit/images_smaller/136962660_949236392...</td>\n",
       "      <td>data/arabit/images_xs/136962660_94923639227688...</td>\n",
       "      <td>data/arabit/soundcloud/נבי.mp3</td>\n",
       "    </tr>\n",
       "  </tbody>\n",
       "</table>\n",
       "</div>"
      ],
      "text/plain": [
       "      page_num     title                                               link  \\\n",
       "2281      2297      איכס        https://arabit.me/%d7%90%d7%99%d7%9b%d7%a1/   \n",
       "2282      2298      כלוא        https://arabit.me/%d7%9b%d7%9c%d7%95%d7%90/   \n",
       "2283      2299  נעל ישנה  https://arabit.me/%d7%a0%d7%a2%d7%9c-%d7%99%d7...   \n",
       "2284      2300       טבח              https://arabit.me/%d7%98%d7%91%d7%97/   \n",
       "2285      2301      נביא        https://arabit.me/%d7%a0%d7%91%d7%99%d7%90/   \n",
       "\n",
       "                                                  image   caption  \\\n",
       "2281  https://arabit.me/wp-content/uploads/2021/01/1...      איכס   \n",
       "2282  https://arabit.me/wp-content/uploads/2021/01/1...      כלוא   \n",
       "2283  https://arabit.me/wp-content/uploads/2021/01/1...  נעל ישנה   \n",
       "2284  https://arabit.me/wp-content/uploads/2021/01/1...       טבח   \n",
       "2285  https://arabit.me/wp-content/uploads/2021/01/1...      נביא   \n",
       "\n",
       "     caption_part  arabic_word  \\\n",
       "2281         איכס        اخسا    \n",
       "2282         כלוא    مَحْبُوس    \n",
       "2283     נעל ישנה   صُرْمَاية    \n",
       "2284          טבח   مَذْبَحَة    \n",
       "2285         נביא      نَبِيّ    \n",
       "\n",
       "                                       local_image_path  \\\n",
       "2281  data/arabit/images/139431422_952611835272677_2...   \n",
       "2282  data/arabit/images/138843949_952605831939944_5...   \n",
       "2283  data/arabit/images/139030053_952606478606546_3...   \n",
       "2284  data/arabit/images/118540761_853060481894480_5...   \n",
       "2285  data/arabit/images/136962660_949236392276888_3...   \n",
       "\n",
       "                                 local_image_path_small  \\\n",
       "2281  data/arabit/images_smaller/139431422_952611835...   \n",
       "2282  data/arabit/images_smaller/138843949_952605831...   \n",
       "2283  data/arabit/images_smaller/139030053_952606478...   \n",
       "2284  data/arabit/images_smaller/118540761_853060481...   \n",
       "2285  data/arabit/images_smaller/136962660_949236392...   \n",
       "\n",
       "                                    local_image_path_xs  \\\n",
       "2281  data/arabit/images_xs/139431422_95261183527267...   \n",
       "2282  data/arabit/images_xs/138843949_95260583193994...   \n",
       "2283  data/arabit/images_xs/139030053_95260647860654...   \n",
       "2284  data/arabit/images_xs/118540761_85306048189448...   \n",
       "2285  data/arabit/images_xs/136962660_94923639227688...   \n",
       "\n",
       "                      local_sound_path  \n",
       "2281       data/arabit/clypit/אח׳ס.mp3  \n",
       "2282  data/arabit/soundcloud/מחבוס.mp3  \n",
       "2283     data/arabit/clypit/צרמאיה.mp3  \n",
       "2284     data/arabit/clypit/מד'בחה.mp3  \n",
       "2285    data/arabit/soundcloud/נבי.mp3  "
      ]
     },
     "execution_count": 469,
     "metadata": {},
     "output_type": "execute_result"
    }
   ],
   "source": [
    "wdf.tail()\n"
   ]
  },
  {
   "cell_type": "code",
   "execution_count": 468,
   "id": "b63a3152-7e93-4396-92bb-563cfa765e94",
   "metadata": {},
   "outputs": [],
   "source": [
    "wdf.to_csv(\"data/arabit/words.csv\", index=False)"
   ]
  },
  {
   "cell_type": "markdown",
   "id": "3ce3a45b-5dfd-47cf-989b-cef7b83f6c9c",
   "metadata": {
    "tags": []
   },
   "source": [
    "## Create Anki Deck"
   ]
  },
  {
   "cell_type": "raw",
   "id": "cd118a55-5def-4bec-85a7-d88608192363",
   "metadata": {},
   "source": [
    "model_id = 1359479921\n",
    "deck_id = 1491813214"
   ]
  },
  {
   "cell_type": "code",
   "execution_count": 605,
   "id": "2dd7fc51-d25e-4541-975b-01a9a9b50ced",
   "metadata": {},
   "outputs": [
    {
     "name": "stdout",
     "output_type": "stream",
     "text": [
      "1359479921\n",
      "1491813214\n"
     ]
    }
   ],
   "source": [
    "import random\n",
    "import genanki\n",
    "random.seed(64)\n",
    "\n",
    "# model_id = random.randrange(1 << 30, 1 << 31)\n",
    "# deck_id = random.randrange(1 << 30, 1 << 31)\n",
    "model_id = 1359479921\n",
    "deck_id = 1491813214\n",
    "\n",
    "print(model_id)\n",
    "print(deck_id)\n",
    "\n",
    "\n",
    "my_model = genanki.Model(\n",
    "  model_id,\n",
    "  'Arabit',\n",
    "  fields=[\n",
    "    {'name': 'Recording'},\n",
    "    {'name': 'Image'},\n",
    "    {'name': 'URL'},\n",
    "    {'name': 'Arabic', 'rtl': True, 'html': True},\n",
    "    {'name': 'Hebrew', 'rtl': True, 'html': True},\n",
    "  ],\n",
    "  templates=[\n",
    "    {\n",
    "      'name': 'Card 1',\n",
    "      'qfmt': '{{Recording}}',\n",
    "      'afmt': '{{FrontSide}}'\n",
    "              '<br><hr id=\"answer\"><br>'\n",
    "              '<div style=\"text-align:center;font-size:30px\">'\n",
    "              '{{Image}}'\n",
    "              '<br>'\n",
    "              '<div style=\"color:#00055f\"><span dir=\"rtl\">&rlm;{{Arabic}}&rlm;</span></div>'\n",
    "              '<span dir=\"rtl\">&rlm;{{Hebrew}}&rlm;</span>'\n",
    "              '<br>'\n",
    "              '<a href=\"{{URL}}\">arabit.me</a>'\n",
    "              '</div>',\n",
    "    },\n",
    "  ],\n",
    "    css='''.card {\n",
    " font-family: abraham;\n",
    " font-size: 30px;\n",
    " text-align: center\n",
    " \n",
    " }\n",
    " \n",
    " @font-face {\n",
    "    font-family: abraham;\n",
    "    src: url('_Abraham-Light.otf')\n",
    "}\n",
    "''')"
   ]
  },
  {
   "cell_type": "code",
   "execution_count": 606,
   "id": "c549b026-37ce-412a-938b-4e7e58d9d43f",
   "metadata": {},
   "outputs": [],
   "source": [
    "my_deck = genanki.Deck(\n",
    "  deck_id,\n",
    "  'Arabit')\n"
   ]
  },
  {
   "cell_type": "code",
   "execution_count": 607,
   "id": "47decd13-4b63-41b4-b45b-7d7169d1628e",
   "metadata": {},
   "outputs": [
    {
     "data": {
      "text/plain": [
       "(2150, 11)"
      ]
     },
     "execution_count": 607,
     "metadata": {},
     "output_type": "execute_result"
    }
   ],
   "source": [
    "wdf.dropna().shape"
   ]
  },
  {
   "cell_type": "code",
   "execution_count": 608,
   "id": "9001a737-3f9d-423b-8772-46816f665198",
   "metadata": {},
   "outputs": [
    {
     "data": {
      "text/plain": [
       "(2286, 11)"
      ]
     },
     "execution_count": 608,
     "metadata": {},
     "output_type": "execute_result"
    }
   ],
   "source": [
    "wdf.shape"
   ]
  },
  {
   "cell_type": "code",
   "execution_count": 609,
   "id": "4cd3052a-2918-4a2c-825f-2aadae90caa8",
   "metadata": {},
   "outputs": [
    {
     "data": {
      "text/plain": [
       "Index(['page_num', 'title', 'link', 'image', 'caption', 'caption_part',\n",
       "       'arabic_word', 'local_image_path', 'local_image_path_small',\n",
       "       'local_image_path_xs', 'local_sound_path'],\n",
       "      dtype='object')"
      ]
     },
     "execution_count": 609,
     "metadata": {},
     "output_type": "execute_result"
    }
   ],
   "source": [
    "wdf.columns"
   ]
  },
  {
   "cell_type": "code",
   "execution_count": 610,
   "id": "6636174e-7e7b-4ef8-b0aa-57bf18988a8f",
   "metadata": {},
   "outputs": [],
   "source": [
    "columns_to_use = ['link', 'caption', 'arabic_word', 'local_image_path_small', 'local_sound_path']"
   ]
  },
  {
   "cell_type": "code",
   "execution_count": 611,
   "id": "86ccebc3-c2ee-41a6-a3a7-4fdb973bcd58",
   "metadata": {
    "tags": []
   },
   "outputs": [],
   "source": [
    "media_files = []\n",
    "for _, link, hebrew, arabic, image, sound in wdf[columns_to_use].dropna().itertuples():\n",
    "    media_files.append(image)\n",
    "    media_files.append(sound)\n",
    "    my_note = genanki.Note(\n",
    "        model=my_model,\n",
    "        fields=[f'[sound:{sound.split(\"/\")[-1]}]',\n",
    "                f'<img src=\"{image.split(\"/\")[-1]}\">',\n",
    "                link,\n",
    "                html.escape(arabic),\n",
    "                html.escape(hebrew)])\n",
    "    my_deck.add_note(my_note)"
   ]
  },
  {
   "cell_type": "code",
   "execution_count": 612,
   "id": "b710a67c-3701-4fd9-b92d-94c19fafb460",
   "metadata": {},
   "outputs": [],
   "source": [
    "my_package = genanki.Package(my_deck)\n",
    "# my_package.media_files = (['data/arabit/clypit/' + file for file in os.listdir('data/arabit/clypit/')]\n",
    "#                           + ['data/arabit/soundcloud/' + file for file in os.listdir('data/arabit/soundcloud/')]\n",
    "#                           + ['data/arabit/images_smaller/' + file for file in os.listdir('data/arabit/images_smaller/')]\n",
    "#                          )\n",
    "my_package.media_files = media_files"
   ]
  },
  {
   "cell_type": "code",
   "execution_count": 613,
   "id": "d3065a5e-ddc9-445f-9da4-e6456f777233",
   "metadata": {},
   "outputs": [],
   "source": [
    "my_package.write_to_file('data/arabit_recordings.apkg')"
   ]
  },
  {
   "cell_type": "code",
   "execution_count": null,
   "id": "49a0f0be-4331-4ce0-a6ef-b2fe3857dc30",
   "metadata": {},
   "outputs": [],
   "source": []
  },
  {
   "cell_type": "code",
   "execution_count": null,
   "id": "b34dedd2-5c9b-455b-8fd1-6466cae34610",
   "metadata": {},
   "outputs": [],
   "source": []
  },
  {
   "cell_type": "code",
   "execution_count": null,
   "id": "e6d42a77-8a0a-457d-8da4-8c9e77f1d87e",
   "metadata": {},
   "outputs": [],
   "source": []
  },
  {
   "cell_type": "code",
   "execution_count": null,
   "id": "4c810597-0838-4128-a7c7-ecdd05e67b96",
   "metadata": {},
   "outputs": [],
   "source": []
  },
  {
   "cell_type": "code",
   "execution_count": null,
   "id": "600ecd94-3837-4e60-bd30-1f3a21797792",
   "metadata": {},
   "outputs": [],
   "source": []
  }
 ],
 "metadata": {
  "kernelspec": {
   "display_name": "Python 3 (ipykernel)",
   "language": "python",
   "name": "python3"
  },
  "language_info": {
   "codemirror_mode": {
    "name": "ipython",
    "version": 3
   },
   "file_extension": ".py",
   "mimetype": "text/x-python",
   "name": "python",
   "nbconvert_exporter": "python",
   "pygments_lexer": "ipython3",
   "version": "3.10.9"
  }
 },
 "nbformat": 4,
 "nbformat_minor": 5
}
