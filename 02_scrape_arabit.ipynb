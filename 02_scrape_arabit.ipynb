{
 "cells": [
  {
   "cell_type": "code",
   "execution_count": 47,
   "id": "cc4b0b91-62a2-4ec2-a96e-21530e30de59",
   "metadata": {},
   "outputs": [],
   "source": [
    "import html\n",
    "from bs4 import BeautifulSoup\n",
    "from glob import glob\n",
    "from itertools import chain\n",
    "from pathlib import Path\n",
    "import pandas as pd\n",
    "import requests\n",
    "import numpy as np\n",
    "from tqdm import tqdm\n",
    "import json"
   ]
  },
  {
   "cell_type": "markdown",
   "id": "0e22651c-f9e5-4f51-8bce-cd46312941b6",
   "metadata": {},
   "source": [
    "## Arabic - Hebrew"
   ]
  },
  {
   "cell_type": "code",
   "execution_count": 16,
   "id": "7107217d-6d31-4662-89f0-ee7436f743f9",
   "metadata": {
    "tags": []
   },
   "outputs": [
    {
     "name": "stderr",
     "output_type": "stream",
     "text": [
      "100%|██████████████████████████████████████████████████████████████████████████████████████████████████████████████████████████████████████████████████████████| 231/231 [05:58<00:00,  1.55s/it]\n"
     ]
    }
   ],
   "source": [
    "arabit_browse_template = \"https://arabit.me/page/{page_number}/\"\n",
    "headers = {\n",
    "    \"User-Agent\": \"Mozilla/5.0 (Macintosh; Intel Mac OS X 10_15_7) AppleWebKit/537.36 (KHTML, like Gecko) Chrome/120.0.0.0 Safari/537.36\",\n",
    "}\n",
    "page_htmls = []\n",
    "for page_number in tqdm(np.arange(1, 232)):\n",
    "    page_url = arabit_browse_template.format(page_number=page_number)\n",
    "    page_html = requests.get(page_url, headers=headers)\n",
    "    page_htmls.append(page_html)"
   ]
  },
  {
   "cell_type": "code",
   "execution_count": 17,
   "id": "6688e98a-e4e1-4e50-8ad4-bf8e2ecbde66",
   "metadata": {},
   "outputs": [],
   "source": [
    "for i, page in enumerate(page_htmls):\n",
    "    with open(f'data/arabit/browse/{str(i+1)}', 'w') as f:\n",
    "        f.write(page.text)"
   ]
  },
  {
   "cell_type": "code",
   "execution_count": 23,
   "id": "72c4f98b-1175-418b-9257-2e4e9280b2de",
   "metadata": {},
   "outputs": [],
   "source": [
    "word_pages = []\n",
    "for page in page_htmls:\n",
    "    soup = BeautifulSoup(page.text, 'html.parser')\n",
    "\n",
    "    entries = soup.find_all('h2', class_='entry-title')\n",
    "    for entry in entries:\n",
    "        link = entry.find('a').get(\"href\")\n",
    "        title = entry.text.strip()\n",
    "        word_pages.append((title, link))"
   ]
  },
  {
   "cell_type": "code",
   "execution_count": 24,
   "id": "989af54b-e967-482d-ae4e-e188b0264cea",
   "metadata": {},
   "outputs": [
    {
     "data": {
      "text/html": [
       "<div>\n",
       "<style scoped>\n",
       "    .dataframe tbody tr th:only-of-type {\n",
       "        vertical-align: middle;\n",
       "    }\n",
       "\n",
       "    .dataframe tbody tr th {\n",
       "        vertical-align: top;\n",
       "    }\n",
       "\n",
       "    .dataframe thead th {\n",
       "        text-align: right;\n",
       "    }\n",
       "</style>\n",
       "<table border=\"1\" class=\"dataframe\">\n",
       "  <thead>\n",
       "    <tr style=\"text-align: right;\">\n",
       "      <th></th>\n",
       "      <th>title</th>\n",
       "      <th>link</th>\n",
       "    </tr>\n",
       "  </thead>\n",
       "  <tbody>\n",
       "    <tr>\n",
       "      <th>2297</th>\n",
       "      <td>איכס</td>\n",
       "      <td>https://arabit.me/%d7%90%d7%99%d7%9b%d7%a1/</td>\n",
       "    </tr>\n",
       "    <tr>\n",
       "      <th>2298</th>\n",
       "      <td>כלוא</td>\n",
       "      <td>https://arabit.me/%d7%9b%d7%9c%d7%95%d7%90/</td>\n",
       "    </tr>\n",
       "    <tr>\n",
       "      <th>2299</th>\n",
       "      <td>נעל ישנה</td>\n",
       "      <td>https://arabit.me/%d7%a0%d7%a2%d7%9c-%d7%99%d7...</td>\n",
       "    </tr>\n",
       "    <tr>\n",
       "      <th>2300</th>\n",
       "      <td>טבח</td>\n",
       "      <td>https://arabit.me/%d7%98%d7%91%d7%97/</td>\n",
       "    </tr>\n",
       "    <tr>\n",
       "      <th>2301</th>\n",
       "      <td>נביא</td>\n",
       "      <td>https://arabit.me/%d7%a0%d7%91%d7%99%d7%90/</td>\n",
       "    </tr>\n",
       "  </tbody>\n",
       "</table>\n",
       "</div>"
      ],
      "text/plain": [
       "         title                                               link\n",
       "2297      איכס        https://arabit.me/%d7%90%d7%99%d7%9b%d7%a1/\n",
       "2298      כלוא        https://arabit.me/%d7%9b%d7%9c%d7%95%d7%90/\n",
       "2299  נעל ישנה  https://arabit.me/%d7%a0%d7%a2%d7%9c-%d7%99%d7...\n",
       "2300       טבח              https://arabit.me/%d7%98%d7%91%d7%97/\n",
       "2301      נביא        https://arabit.me/%d7%a0%d7%91%d7%99%d7%90/"
      ]
     },
     "execution_count": 24,
     "metadata": {},
     "output_type": "execute_result"
    }
   ],
   "source": [
    "wp_df = pd.DataFrame(word_pages, columns=['title', 'link'])\n",
    "wp_df.tail()"
   ]
  },
  {
   "cell_type": "code",
   "execution_count": 25,
   "id": "604659f2-6e8e-4e16-9d1b-19a5e9dbdf18",
   "metadata": {},
   "outputs": [
    {
     "data": {
      "text/plain": [
       "(2302, 2)"
      ]
     },
     "execution_count": 25,
     "metadata": {},
     "output_type": "execute_result"
    }
   ],
   "source": [
    "wp_df.shape"
   ]
  },
  {
   "cell_type": "code",
   "execution_count": 28,
   "id": "0f0f55f9-b709-49ae-a31e-de5bcf9d6bdb",
   "metadata": {},
   "outputs": [
    {
     "data": {
      "text/plain": [
       "2167"
      ]
     },
     "execution_count": 28,
     "metadata": {},
     "output_type": "execute_result"
    }
   ],
   "source": [
    "wp_df.title.nunique()"
   ]
  },
  {
   "cell_type": "code",
   "execution_count": 27,
   "id": "0c0d45d5-b593-4f8b-a2cc-e43adc6914f8",
   "metadata": {},
   "outputs": [
    {
     "data": {
      "text/plain": [
       "2302"
      ]
     },
     "execution_count": 27,
     "metadata": {},
     "output_type": "execute_result"
    }
   ],
   "source": [
    "wp_df.link.nunique()"
   ]
  },
  {
   "cell_type": "code",
   "execution_count": 26,
   "id": "fe4e5808-e5c7-4bb2-8030-12f6b7acaaeb",
   "metadata": {},
   "outputs": [],
   "source": [
    "wp_df.to_csv('data/arabit/pages.csv', index=False)"
   ]
  },
  {
   "cell_type": "code",
   "execution_count": 33,
   "id": "27c686e1-a6e4-477a-be0e-945fb289501c",
   "metadata": {},
   "outputs": [],
   "source": [
    "import os"
   ]
  },
  {
   "cell_type": "raw",
   "id": "d5e47ec3-c895-493c-a834-7832af58a6a3",
   "metadata": {},
   "source": [
    "word_page_htmls = []\n",
    "for i, title, link in tqdm(wp_df.itertuples(), total=len(wp_df)):\n",
    "    output_path = f'data/arabit/word_pages/{str(i+1)}.html'\n",
    "    if not os.path.exists(output_path): \n",
    "        word_page_html = requests.get(link, headers=headers)\n",
    "        word_page_htmls.append(word_page_html)\n",
    "        with open(output_path, 'w') as f:\n",
    "            f.write(word_page_html.text)"
   ]
  },
  {
   "cell_type": "code",
   "execution_count": 35,
   "id": "f4d46495-40a4-44b9-90cf-2d0412f6e59d",
   "metadata": {},
   "outputs": [
    {
     "name": "stderr",
     "output_type": "stream",
     "text": [
      "100%|████████████████████████████████████████████████████████████████████████████████████████████████████████████████████████████████████████████████████████| 2302/2302 [17:21<00:00,  2.21it/s]\n"
     ]
    }
   ],
   "source": [
    "from concurrent.futures import ThreadPoolExecutor\n",
    "\n",
    "def save_page(params):\n",
    "    i, title, link = params\n",
    "    output_path = f'data/arabit/word_pages/{str(i+1)}.html'\n",
    "    if not os.path.exists(output_path): \n",
    "        word_page_html = requests.get(link, headers=headers)\n",
    "        with open(output_path, 'w') as f:\n",
    "            f.write(word_page_html.text)\n",
    "\n",
    "with ThreadPoolExecutor(max_workers=10) as executor:\n",
    "    list(tqdm(executor.map(save_page, wp_df.itertuples()), total=len(wp_df)))"
   ]
  },
  {
   "cell_type": "code",
   "execution_count": 95,
   "id": "39623e7f-ce89-432d-a357-c8b593ff36bb",
   "metadata": {},
   "outputs": [
    {
     "name": "stderr",
     "output_type": "stream",
     "text": [
      " 26%|████████████████████████████████████████▌                                                                                                                | 610/2302 [00:27<01:01, 27.45it/s]"
     ]
    },
    {
     "name": "stdout",
     "output_type": "stream",
     "text": [
      "Failed: https://arabit.me/%d7%9e%d7%9b%d7%95%d7%9c%d7%aa/\n"
     ]
    },
    {
     "name": "stderr",
     "output_type": "stream",
     "text": [
      " 29%|███████████████████████████████████████████▋                                                                                                             | 657/2302 [00:30<01:05, 25.02it/s]"
     ]
    },
    {
     "name": "stdout",
     "output_type": "stream",
     "text": [
      "Failed: https://arabit.me/%d7%a4%d7%9c%d7%99%d7%a9%d7%94/\n"
     ]
    },
    {
     "name": "stderr",
     "output_type": "stream",
     "text": [
      " 68%|██████████████████████████████████████████████████████████████████████████████████████████████████████▊                                                 | 1558/2302 [01:10<00:26, 28.11it/s]"
     ]
    },
    {
     "name": "stdout",
     "output_type": "stream",
     "text": [
      "Failed: https://arabit.me/%d7%a9%d7%9c%d7%95%d7%9d-2/\n",
      "Failed: https://arabit.me/%d7%94%d7%a9%d7%aa%d7%97%d7%a8%d7%a8-%d7%94%d7%aa%d7%a8%d7%95%d7%a4%d7%a3/\n",
      "Failed: https://arabit.me/%d7%a4%d7%a8%d7%97%d7%97%d7%99%d7%9d/\n"
     ]
    },
    {
     "name": "stderr",
     "output_type": "stream",
     "text": [
      " 69%|█████████████████████████████████████████████████████████████████████████████████████████████████████████▍                                              | 1596/2302 [01:12<00:25, 27.95it/s]"
     ]
    },
    {
     "name": "stdout",
     "output_type": "stream",
     "text": [
      "Failed: https://arabit.me/%d7%92%d7%9c%d7%a2%d7%99%d7%9f/\n"
     ]
    },
    {
     "name": "stderr",
     "output_type": "stream",
     "text": [
      " 70%|█████████████████████████████████████████████████████████████████████████████████████████████████████████▊                                              | 1602/2302 [01:12<00:38, 18.00it/s]"
     ]
    },
    {
     "name": "stdout",
     "output_type": "stream",
     "text": [
      "Failed: https://arabit.me/%d7%99%d7%95%d7%a6%d7%90-%d7%9e%d7%92%d7%93%d7%a8-%d7%94%d7%a8%d7%92%d7%99%d7%9c/\n",
      "Failed: https://arabit.me/%d7%9c%d7%9b%d7%9c-%d7%94%d7%a8%d7%95%d7%97%d7%95%d7%aa/\n",
      "Failed: https://arabit.me/%d7%96%d7%99%d7%95%d7%a3-%d7%91%d7%a9%d7%99%d7%a8%d7%94/\n",
      "Failed: https://arabit.me/%d7%90%d7%a1%d7%95%d7%a8/\n",
      "Failed: https://arabit.me/%d7%a9%d7%90%d7%9c%d7%9c%d7%94-%d7%99%d7%a2%d7%96%d7%95%d7%a8-%d7%9c%d7%9a/\n",
      "Failed: https://arabit.me/%d7%97%d7%9c%d7%a9/\n"
     ]
    },
    {
     "name": "stderr",
     "output_type": "stream",
     "text": [
      " 70%|██████████████████████████████████████████████████████████████████████████████████████████████████████████▏                                             | 1608/2302 [01:12<00:31, 21.88it/s]"
     ]
    },
    {
     "name": "stdout",
     "output_type": "stream",
     "text": [
      "Failed: https://arabit.me/%d7%9e%d7%a6%d7%95%d7%99%d7%9f/\n",
      "Failed: https://arabit.me/%d7%90%d7%97%d7%95%d7%a9%d7%9c%d7%95%d7%a7%d7%99/\n",
      "Failed: https://arabit.me/%d7%a9%d7%99%d7%a4%d7%95%d7%a8/\n"
     ]
    },
    {
     "name": "stderr",
     "output_type": "stream",
     "text": [
      " 77%|████████████████████████████████████████████████████████████████████████████████████████████████████████████████████▋                                   | 1768/2302 [01:19<00:24, 21.63it/s]"
     ]
    },
    {
     "name": "stdout",
     "output_type": "stream",
     "text": [
      "Failed: https://arabit.me/%d7%a4%d7%99%d7%aa%d7%aa-%d7%9c%d7%a4%d7%94-2/\n"
     ]
    },
    {
     "name": "stderr",
     "output_type": "stream",
     "text": [
      "100%|████████████████████████████████████████████████████████████████████████████████████████████████████████████████████████████████████████████████████████| 2302/2302 [01:44<00:00, 22.12it/s]\n"
     ]
    }
   ],
   "source": [
    "import re\n",
    "import unicodedata\n",
    "\n",
    "\n",
    "def normalize_text(text):\n",
    "    return ''.join(c for c in unicodedata.normalize('NFD', text)\n",
    "                   if unicodedata.category(c) != 'Mn')\n",
    "\n",
    "\n",
    "def find_image(soup):\n",
    "    yoast = json.loads(soup.find(\"script\", class_=\"yoast-schema-graph\").string)\n",
    "    for elem in yoast[\"@graph\"]:\n",
    "        if elem.get(\"@type\") == 'ImageObject':\n",
    "            return elem[\"caption\"], elem[\"url\"]\n",
    "        \n",
    "        \n",
    "SEPS = \"();,\"\n",
    "rsplit = re.compile(\"\\\\\"+\"|\\\\\".join(SEPS)).split\n",
    "\n",
    "\n",
    "def find_arabic_words(s):\n",
    "    pattern = r'[\\u0600-\\u06FF\\s]+'\n",
    "    return [ w for w in re.findall(pattern, s) if len(w)>1 ]\n",
    "\n",
    "\n",
    "words = []\n",
    "for i, title, link in tqdm(list(wp_df.itertuples()), total=len(wp_df)):\n",
    "    #print(i, title, link)\n",
    "    wp_path = f'data/arabit/word_pages/{str(i+1)}.html'\n",
    "    with open(wp_path, 'r') as f:\n",
    "        wp_html = f.read()\n",
    "    soup = BeautifulSoup(wp_html, 'html.parser')\n",
    "    try:\n",
    "        caption, image = find_image(soup)\n",
    "    except:\n",
    "        print(f\"Failed: {link}\")\n",
    "        continue\n",
    "    caption_part = normalize_text(rsplit(caption)[0].strip(\" “\\\"\"))\n",
    "    #print(caption_part, image)\n",
    "    \n",
    "    #find in body\n",
    "    body = soup.find(\"body\")\n",
    "    arabic_word = None\n",
    "    for line in body.text.split(\"\\n\"):\n",
    "        line_norm = normalize_text(line)\n",
    "        if caption_part in line_norm:\n",
    "            arabic_words = find_arabic_words(line)\n",
    "            if arabic_words:\n",
    "                arabic_word = arabic_words[0]\n",
    "                break\n",
    "    #print(arabic_word)\n",
    "    words.append((i+1, title, link, image, caption, caption_part, arabic_word))\n"
   ]
  },
  {
   "cell_type": "markdown",
   "id": "ce51e032-20c4-49ad-b860-93106a7d7a79",
   "metadata": {},
   "source": [
    "## Download images\n"
   ]
  },
  {
   "cell_type": "code",
   "execution_count": 102,
   "id": "31781e96-632d-4ff2-953d-18b48d2ef4c4",
   "metadata": {},
   "outputs": [],
   "source": [
    "image_urls = [iu for w in words if (iu:=w[3]).startswith(\"http\")]"
   ]
  },
  {
   "cell_type": "code",
   "execution_count": 104,
   "id": "636de2a5-1e53-47d5-9ece-8efefa9ef2a5",
   "metadata": {},
   "outputs": [
    {
     "name": "stderr",
     "output_type": "stream",
     "text": [
      "100%|████████████████████████████████████████████████████████████████████████████████████████████████████████████████████████████████████████████████████████| 2286/2286 [02:36<00:00, 14.61it/s]\n"
     ]
    }
   ],
   "source": [
    "from concurrent.futures import ThreadPoolExecutor\n",
    "import shutil\n",
    "\n",
    "def save_image(image_url):\n",
    "    image_name = image_url.split(\"/\")[-1]\n",
    "    output_path = f'data/arabit/images/{image_name}'\n",
    "    if not os.path.exists(output_path): \n",
    "        r = requests.get(image_url, headers=headers, stream=True)\n",
    "        if r.status_code == 200:\n",
    "            with open(output_path, 'wb') as f:\n",
    "                for chunk in r:\n",
    "                    f.write(chunk)\n",
    "\n",
    "with ThreadPoolExecutor(max_workers=10) as executor:\n",
    "    list(tqdm(executor.map(save_image, image_urls), total=len(image_urls)))"
   ]
  },
  {
   "cell_type": "markdown",
   "id": "db1bdf44-86e5-4bc1-884f-2c1d4d5f91c8",
   "metadata": {},
   "source": [
    "## Reduce image size"
   ]
  },
  {
   "cell_type": "code",
   "execution_count": 117,
   "id": "d3948287-0073-4a5c-9dac-a10311710f02",
   "metadata": {
    "tags": []
   },
   "outputs": [
    {
     "name": "stderr",
     "output_type": "stream",
     "text": [
      "100%|████████████████████████████████████████████████████████████████████████████████████████████████████████████████████████████████████████████████████████| 2254/2254 [06:35<00:00,  5.69it/s]\n"
     ]
    }
   ],
   "source": [
    "from PIL import Image\n",
    "OUTPUT_FOLDER = 'data/arabit/images_smaller/'\n",
    "def compress_image(image, max_size=100000, scale=0.9):\n",
    "    output_path = os.path.join(OUTPUT_FOLDER, image)\n",
    "    if os.path.exists(output_path):\n",
    "        return\n",
    "    image_path = os.path.join('data/arabit/images/', image)\n",
    "    img = Image.open(image_path)\n",
    "\n",
    "    if os.path.getsize(image_path) <= max_size:\n",
    "        shutil.copy(image_path, output_path)\n",
    "        return\n",
    "    # If image size is more than max size provided, reduce the quality of image \n",
    "    while os.path.getsize(image_path) > max_size:\n",
    "        width, height = img.size\n",
    "        img.thumbnail((width*scale, height*scale))\n",
    "        image_path = os.path.join(OUTPUT_FOLDER, image)\n",
    "        img.save(image_path,optimize=True, quality=85)\n",
    "\n",
    "for image in tqdm(os.listdir('data/arabit/images/')):\n",
    "    filename, extension = os.path.splitext(image)\n",
    "    compress_image(image)"
   ]
  },
  {
   "cell_type": "code",
   "execution_count": 119,
   "id": "e841f291-f853-4d80-8b1a-8f353a64f582",
   "metadata": {
    "tags": []
   },
   "outputs": [
    {
     "name": "stderr",
     "output_type": "stream",
     "text": [
      "100%|████████████████████████████████████████████████████████████████████████████████████████████████████████████████████████████████████████████████████████| 2255/2255 [02:54<00:00, 12.94it/s]\n"
     ]
    }
   ],
   "source": [
    "from PIL import Image\n",
    "OUTPUT_FOLDER = 'data/arabit/images_xs/'\n",
    "def compress_image(image, max_size=25000, scale=0.9):\n",
    "    output_path = os.path.join(OUTPUT_FOLDER, image)\n",
    "    if os.path.exists(output_path):\n",
    "        return\n",
    "    image_path = os.path.join('data/arabit/images_smaller/', image)\n",
    "    img = Image.open(image_path)\n",
    "\n",
    "    if os.path.getsize(image_path) <= max_size:\n",
    "        shutil.copy(image_path, output_path)\n",
    "        return\n",
    "    # If image size is more than max size provided, reduce the quality of image \n",
    "    while os.path.getsize(image_path) > max_size:\n",
    "        width, height = img.size\n",
    "        img.thumbnail((width*scale, height*scale))\n",
    "        image_path = os.path.join(OUTPUT_FOLDER, image)\n",
    "        img.save(image_path,optimize=True, quality=75)\n",
    "\n",
    "for image in tqdm(os.listdir('data/arabit/images_smaller/')):\n",
    "    if '.DS_Store' in image or '.ipynb' in image:\n",
    "        continue\n",
    "    filename, extension = os.path.splitext(image)\n",
    "    compress_image(image)"
   ]
  },
  {
   "cell_type": "markdown",
   "id": "6a4bd330-e301-485e-97a6-2e281a7f9fcf",
   "metadata": {},
   "source": [
    "## Find matching audio for each page"
   ]
  },
  {
   "cell_type": "code",
   "execution_count": 141,
   "id": "b6a77202-b288-40e3-9804-308ed397ad95",
   "metadata": {},
   "outputs": [],
   "source": [
    "url_re = re.compile(\"https?:\\\\/\\\\/(?:w+\\\\.)?[-a-zA-Z0-9@:%._\\\\+~#=]{1,256}\\\\.[a-zA-Z0-9()]{1,6}\\\\b(?:[-a-zA-Z0-9()@:%_\\\\+.~#?&\\\\/=]*)\")\n",
    "soundcloud_re = url_re = re.compile(\"https?://(?:www\\.)?soundcloud\\.[a-zA-Z0-9()]{1,6}\\\\b(?:[-a-zA-Z0-9()@:%_\\+.~#?&/=]*)\")"
   ]
  },
  {
   "cell_type": "code",
   "execution_count": 145,
   "id": "49ca58d8-52a5-412f-92da-00233286d5f4",
   "metadata": {},
   "outputs": [
    {
     "name": "stderr",
     "output_type": "stream",
     "text": [
      "100%|████████████████████████████████████████████████████████████████████████████████████████████████████████████████████████████████████████████████████████| 2302/2302 [01:42<00:00, 22.49it/s]\n"
     ]
    }
   ],
   "source": [
    "sounds = []\n",
    "for i, title, link in tqdm(list(wp_df.itertuples()), total=len(wp_df)):\n",
    "    #print(i, title, link)\n",
    "    wp_path = f'data/arabit/word_pages/{str(i+1)}.html'\n",
    "    with open(wp_path, 'r') as f:\n",
    "        wp_html = f.read()\n",
    "    sound_link = re.findall(soundcloud_re, wp_html)\n",
    "    soup = BeautifulSoup(wp_html, 'html.parser')\n",
    "    sound = soup.find(\"iframe\", title=re.compile(\".* by Arabit\"))\n",
    "    if sound is not None:\n",
    "        sound = sound.get(\"title\")\n",
    "    else:\n",
    "        sound = None\n",
    "    sounds.append((i+1, title, sound, sound_link))"
   ]
  },
  {
   "cell_type": "code",
   "execution_count": 146,
   "id": "4db3b15c-76af-4d85-8669-a78ea1149b20",
   "metadata": {},
   "outputs": [
    {
     "data": {
      "text/plain": [
       "683"
      ]
     },
     "execution_count": 146,
     "metadata": {},
     "output_type": "execute_result"
    }
   ],
   "source": [
    "len([1 for s in sounds if s[2] is not None])"
   ]
  },
  {
   "cell_type": "code",
   "execution_count": 149,
   "id": "7540ebe8-44a9-4c84-af95-ab52bcb1ff1c",
   "metadata": {},
   "outputs": [
    {
     "data": {
      "text/plain": [
       "773"
      ]
     },
     "execution_count": 149,
     "metadata": {},
     "output_type": "execute_result"
    }
   ],
   "source": [
    "len([1 for s in sounds if s[2] is not None or (s[3] is not None and s[3]!=[])])"
   ]
  },
  {
   "cell_type": "code",
   "execution_count": 108,
   "id": "8a04254e-9123-4205-b2ae-19f32104e4ab",
   "metadata": {},
   "outputs": [
    {
     "data": {
      "text/plain": [
       "1143"
      ]
     },
     "execution_count": 108,
     "metadata": {},
     "output_type": "execute_result"
    }
   ],
   "source": [
    "len(os.listdir('data/arabit/soundcloud/'))"
   ]
  },
  {
   "cell_type": "code",
   "execution_count": null,
   "id": "90ae9470-c8b8-4ae2-a747-3dbe359e4836",
   "metadata": {},
   "outputs": [],
   "source": [
    "len(os.listdir('data/arabit/word_pages/'))"
   ]
  },
  {
   "cell_type": "markdown",
   "id": "3832f2d6-26d1-47c8-aeb4-a0ec4e4f0691",
   "metadata": {},
   "source": [
    "## Match iframe titles to souncloud file names"
   ]
  },
  {
   "cell_type": "code",
   "execution_count": null,
   "id": "ec5c30f9-0ef6-4a7d-832c-aae2f1478c8c",
   "metadata": {},
   "outputs": [],
   "source": [
    "#TODO"
   ]
  },
  {
   "cell_type": "markdown",
   "id": "6d7b4fef-3d79-4321-9f71-032902d96405",
   "metadata": {},
   "source": [
    "## Scrape title of soundcloud links and match to soundcloud file names"
   ]
  },
  {
   "cell_type": "code",
   "execution_count": null,
   "id": "2d1c41df-ae06-4a8f-84e1-11858561cf6d",
   "metadata": {},
   "outputs": [],
   "source": [
    "#TODO"
   ]
  },
  {
   "cell_type": "code",
   "execution_count": null,
   "id": "3c36108b-5b66-4d8c-a385-97064b21c429",
   "metadata": {},
   "outputs": [],
   "source": []
  },
  {
   "cell_type": "code",
   "execution_count": null,
   "id": "1c1ebdf8-f39f-45e6-b469-d6e3cb3391dc",
   "metadata": {},
   "outputs": [],
   "source": []
  },
  {
   "cell_type": "markdown",
   "id": "3d538c5f-1d92-4b50-ac74-1bb924f2347f",
   "metadata": {
    "tags": []
   },
   "source": [
    "## look for souncloud arabit translit in body text"
   ]
  },
  {
   "cell_type": "code",
   "execution_count": 127,
   "id": "d5b774d8-562b-4ab4-a724-913caad3fe0e",
   "metadata": {},
   "outputs": [
    {
     "data": {
      "text/html": [
       "<div>\n",
       "<style scoped>\n",
       "    .dataframe tbody tr th:only-of-type {\n",
       "        vertical-align: middle;\n",
       "    }\n",
       "\n",
       "    .dataframe tbody tr th {\n",
       "        vertical-align: top;\n",
       "    }\n",
       "\n",
       "    .dataframe thead th {\n",
       "        text-align: right;\n",
       "    }\n",
       "</style>\n",
       "<table border=\"1\" class=\"dataframe\">\n",
       "  <thead>\n",
       "    <tr style=\"text-align: right;\">\n",
       "      <th></th>\n",
       "      <th>sound_file</th>\n",
       "      <th>arab_translit</th>\n",
       "      <th>hebrew</th>\n",
       "      <th>timestamp</th>\n",
       "    </tr>\n",
       "  </thead>\n",
       "  <tbody>\n",
       "    <tr>\n",
       "      <th>672</th>\n",
       "      <td>אנצ׳ם (הצטרף).mp3</td>\n",
       "      <td>אנצ׳ם</td>\n",
       "      <td>הצטרף</td>\n",
       "      <td>2024-01-13 05:39:50</td>\n",
       "    </tr>\n",
       "    <tr>\n",
       "      <th>406</th>\n",
       "      <td>האתף (טלפון).mp3</td>\n",
       "      <td>האתף</td>\n",
       "      <td>טלפון</td>\n",
       "      <td>2024-01-13 05:40:12</td>\n",
       "    </tr>\n",
       "    <tr>\n",
       "      <th>91</th>\n",
       "      <td>כרסי רג׳אג׳ (כסא נדנדה).mp3</td>\n",
       "      <td>כרסי רג׳אג׳</td>\n",
       "      <td>כסא נדנדה</td>\n",
       "      <td>2024-01-13 05:40:31</td>\n",
       "    </tr>\n",
       "    <tr>\n",
       "      <th>401</th>\n",
       "      <td>עבאס (זעוף פנים).mp3</td>\n",
       "      <td>עבאס</td>\n",
       "      <td>זעוף פנים</td>\n",
       "      <td>2024-01-13 05:40:53</td>\n",
       "    </tr>\n",
       "    <tr>\n",
       "      <th>1045</th>\n",
       "      <td>תצ׳ביט בנאת (להתחיל עם בחורות).mp3</td>\n",
       "      <td>תצ׳ביט בנאת</td>\n",
       "      <td>להתחיל עם בחורות</td>\n",
       "      <td>2024-01-13 05:41:10</td>\n",
       "    </tr>\n",
       "  </tbody>\n",
       "</table>\n",
       "</div>"
      ],
      "text/plain": [
       "                              sound_file arab_translit            hebrew  \\\n",
       "672                    אנצ׳ם (הצטרף).mp3         אנצ׳ם             הצטרף   \n",
       "406                     האתף (טלפון).mp3          האתף             טלפון   \n",
       "91           כרסי רג׳אג׳ (כסא נדנדה).mp3   כרסי רג׳אג׳         כסא נדנדה   \n",
       "401                 עבאס (זעוף פנים).mp3          עבאס         זעוף פנים   \n",
       "1045  תצ׳ביט בנאת (להתחיל עם בחורות).mp3   תצ׳ביט בנאת  להתחיל עם בחורות   \n",
       "\n",
       "               timestamp  \n",
       "672  2024-01-13 05:39:50  \n",
       "406  2024-01-13 05:40:12  \n",
       "91   2024-01-13 05:40:31  \n",
       "401  2024-01-13 05:40:53  \n",
       "1045 2024-01-13 05:41:10  "
      ]
     },
     "execution_count": 127,
     "metadata": {},
     "output_type": "execute_result"
    }
   ],
   "source": [
    "sound_files = []\n",
    "for sound_file in os.listdir('data/arabit/soundcloud/'):\n",
    "    if not sound_file.endswith('.mp3'):\n",
    "        continue\n",
    "    name = sound_file.split('.')[0]\n",
    "    arab_translit = name.split('(')[0].strip()\n",
    "    hebrew = name.split('(')[1].strip(') ') if '(' in name else None\n",
    "    timestamp = os.path.getmtime('data/arabit/soundcloud/'+sound_file)\n",
    "    sound_files.append((sound_file, arab_translit, hebrew, timestamp))\n",
    "    \n",
    "sfdf = pd.DataFrame(sound_files, columns=['sound_file', 'arab_translit', 'hebrew', 'timestamp'])\n",
    "sfdf['timestamp'] = pd.to_datetime(sfdf['timestamp'],unit='s')\n",
    "sfdf = sfdf.sort_values('timestamp')\n",
    "sfdf.tail()"
   ]
  },
  {
   "cell_type": "code",
   "execution_count": 128,
   "id": "97ca540a-3ff0-43eb-9e60-ba01a13d2229",
   "metadata": {},
   "outputs": [
    {
     "data": {
      "text/html": [
       "<div>\n",
       "<style scoped>\n",
       "    .dataframe tbody tr th:only-of-type {\n",
       "        vertical-align: middle;\n",
       "    }\n",
       "\n",
       "    .dataframe tbody tr th {\n",
       "        vertical-align: top;\n",
       "    }\n",
       "\n",
       "    .dataframe thead th {\n",
       "        text-align: right;\n",
       "    }\n",
       "</style>\n",
       "<table border=\"1\" class=\"dataframe\">\n",
       "  <thead>\n",
       "    <tr style=\"text-align: right;\">\n",
       "      <th></th>\n",
       "      <th>sound_file</th>\n",
       "      <th>arab_translit</th>\n",
       "      <th>hebrew</th>\n",
       "      <th>timestamp</th>\n",
       "    </tr>\n",
       "  </thead>\n",
       "  <tbody>\n",
       "    <tr>\n",
       "      <th>655</th>\n",
       "      <td>אסמר.mp3</td>\n",
       "      <td>אסמר</td>\n",
       "      <td>None</td>\n",
       "      <td>2020-12-14 03:06:04</td>\n",
       "    </tr>\n",
       "    <tr>\n",
       "      <th>563</th>\n",
       "      <td>חג'אב.mp3</td>\n",
       "      <td>חג'אב</td>\n",
       "      <td>None</td>\n",
       "      <td>2020-12-14 03:07:07</td>\n",
       "    </tr>\n",
       "    <tr>\n",
       "      <th>882</th>\n",
       "      <td>מפרוצ'.mp3</td>\n",
       "      <td>מפרוצ'</td>\n",
       "      <td>None</td>\n",
       "      <td>2020-12-14 03:07:39</td>\n",
       "    </tr>\n",
       "    <tr>\n",
       "      <th>663</th>\n",
       "      <td>סג'ין.mp3</td>\n",
       "      <td>סג'ין</td>\n",
       "      <td>None</td>\n",
       "      <td>2020-12-14 03:07:59</td>\n",
       "    </tr>\n",
       "    <tr>\n",
       "      <th>153</th>\n",
       "      <td>ראא'ס.mp3</td>\n",
       "      <td>ראא'ס</td>\n",
       "      <td>None</td>\n",
       "      <td>2020-12-14 03:08:15</td>\n",
       "    </tr>\n",
       "  </tbody>\n",
       "</table>\n",
       "</div>"
      ],
      "text/plain": [
       "     sound_file arab_translit hebrew           timestamp\n",
       "655    אסמר.mp3          אסמר   None 2020-12-14 03:06:04\n",
       "563   חג'אב.mp3         חג'אב   None 2020-12-14 03:07:07\n",
       "882  מפרוצ'.mp3        מפרוצ'   None 2020-12-14 03:07:39\n",
       "663   סג'ין.mp3         סג'ין   None 2020-12-14 03:07:59\n",
       "153   ראא'ס.mp3         ראא'ס   None 2020-12-14 03:08:15"
      ]
     },
     "execution_count": 128,
     "metadata": {},
     "output_type": "execute_result"
    }
   ],
   "source": [
    "sfdf.head()"
   ]
  },
  {
   "cell_type": "code",
   "execution_count": null,
   "id": "41a4386e-74e1-4ffe-9a97-031ff8b71cb7",
   "metadata": {},
   "outputs": [],
   "source": []
  },
  {
   "cell_type": "code",
   "execution_count": null,
   "id": "79e3538e-96af-41ed-a5cd-29d8bf311a66",
   "metadata": {},
   "outputs": [],
   "source": [
    "# try to "
   ]
  },
  {
   "cell_type": "code",
   "execution_count": null,
   "id": "51e9aa1e-82df-4cc8-9cff-cb8c0fdaa681",
   "metadata": {},
   "outputs": [],
   "source": []
  },
  {
   "cell_type": "markdown",
   "id": "79b63f02-e3a8-49d5-bf5b-d875f000fd1c",
   "metadata": {},
   "source": [
    "## Clypit sounds"
   ]
  },
  {
   "cell_type": "code",
   "execution_count": null,
   "id": "213cf7cb-6b79-4f17-a4ee-58d589001678",
   "metadata": {},
   "outputs": [],
   "source": [
    "def download(mp3_url, title):\n",
    "    filename = \"%s.mp3\" %(title)\n",
    "    print \"{*} Saving file to %s\" %(filename)\n",
    "    try:\n",
    "        r = requests.get(url=mp3_url, stream=True)\n",
    "        with open(filename, 'wb') as f:\n",
    "            total_length = int(r.headers.get('content-length'))\n",
    "            for chunk in r.iter_content(chunk_size=1024):\n",
    "                if chunk:\n",
    "                    f.write(chunk)\n",
    "                    f.flush()\n",
    "    except Exception, e:\n",
    "        print \"{-} Something has gone horribly wrong! Please report on the github issue tracker with the following backtrace: \\n%s\" %(e)\n",
    "    print \"{*} Done!\"\n",
    "    \n",
    "def get_mp3_url(url):\n",
    "    content_id = url.replace(\"https://clyp.it/\", \"\")\n",
    "    try:\n",
    "        r = requests.get(url=\"https://api.clyp.it/%s\" %(content_id))    \n",
    "    except Exception, e:\n",
    "        print \"{-} Something has gone horribly wrong! Please report on the github issue tracker with the following backtrace: \\n%s\" %(e)\n",
    "    fucking_json = json.loads(r.text)\n",
    "    song_title = fucking_json['Title']\n",
    "    mp3_url = fucking_json['Mp3Url']\n",
    "    if fucking_json['Status'] == \"DownloadDisabled\":\n",
    "        print \"{i} Uploader has disabled downloading. Who fucking cares.\"\n",
    "    print \"{*} Got song title: %s\" %(song_title)\n",
    "    print \"{*} Got mp3 url: %s\" %(mp3_url)\n",
    "    return song_title, mp3_url\n",
    "\n",
    "def main(args):\n",
    "    if len(args) != 2:\n",
    "        sys.exit(\"%s https://clyp.it/lolwat\" %(args[0]))\n",
    "    song_title, mp3_url = get_mp3_url(url=args[1])\n",
    "    download(mp3_url=mp3_url, title=song_title)\n"
   ]
  },
  {
   "cell_type": "markdown",
   "id": "0ea9fc7c-da82-4848-a77c-16fee9ee5d77",
   "metadata": {},
   "source": [
    "## Collect all to one csv"
   ]
  },
  {
   "cell_type": "code",
   "execution_count": 96,
   "id": "e30c2c19-6f76-4040-9535-61e6896fd644",
   "metadata": {},
   "outputs": [
    {
     "data": {
      "text/html": [
       "<div>\n",
       "<style scoped>\n",
       "    .dataframe tbody tr th:only-of-type {\n",
       "        vertical-align: middle;\n",
       "    }\n",
       "\n",
       "    .dataframe tbody tr th {\n",
       "        vertical-align: top;\n",
       "    }\n",
       "\n",
       "    .dataframe thead th {\n",
       "        text-align: right;\n",
       "    }\n",
       "</style>\n",
       "<table border=\"1\" class=\"dataframe\">\n",
       "  <thead>\n",
       "    <tr style=\"text-align: right;\">\n",
       "      <th></th>\n",
       "      <th>page_num</th>\n",
       "      <th>title</th>\n",
       "      <th>link</th>\n",
       "      <th>image</th>\n",
       "      <th>caption</th>\n",
       "      <th>caption_part</th>\n",
       "      <th>arabic_word</th>\n",
       "    </tr>\n",
       "  </thead>\n",
       "  <tbody>\n",
       "    <tr>\n",
       "      <th>0</th>\n",
       "      <td>1</td>\n",
       "      <td>תודה</td>\n",
       "      <td>https://arabit.me/%d7%aa%d7%95%d7%93%d7%94/</td>\n",
       "      <td>https://arabit.me/wp-content/uploads/2024/01/ת...</td>\n",
       "      <td>תודה</td>\n",
       "      <td>תודה</td>\n",
       "      <td>شُكْرًا</td>\n",
       "    </tr>\n",
       "    <tr>\n",
       "      <th>1</th>\n",
       "      <td>2</td>\n",
       "      <td>מערה</td>\n",
       "      <td>https://arabit.me/%d7%9e%d7%a2%d7%a8%d7%94/</td>\n",
       "      <td>https://arabit.me/wp-content/uploads/2024/01/מ...</td>\n",
       "      <td>מערה</td>\n",
       "      <td>מערה</td>\n",
       "      <td>مغارة</td>\n",
       "    </tr>\n",
       "    <tr>\n",
       "      <th>2</th>\n",
       "      <td>3</td>\n",
       "      <td>כיסא נדנדה</td>\n",
       "      <td>https://arabit.me/%d7%9b%d7%99%d7%a1%d7%90-%d7...</td>\n",
       "      <td>https://arabit.me/wp-content/uploads/2024/01/כ...</td>\n",
       "      <td>כיסא נדנדה</td>\n",
       "      <td>כיסא נדנדה</td>\n",
       "      <td>كُرْسِيّ رَجَّاج</td>\n",
       "    </tr>\n",
       "    <tr>\n",
       "      <th>3</th>\n",
       "      <td>4</td>\n",
       "      <td>הצטרף</td>\n",
       "      <td>https://arabit.me/%d7%94%d7%a6%d7%98%d7%a8%d7%a3/</td>\n",
       "      <td>https://arabit.me/wp-content/uploads/2024/01/ה...</td>\n",
       "      <td>הצטרף</td>\n",
       "      <td>הצטרף</td>\n",
       "      <td>اِنْضَمّ</td>\n",
       "    </tr>\n",
       "    <tr>\n",
       "      <th>4</th>\n",
       "      <td>5</td>\n",
       "      <td>טלפון</td>\n",
       "      <td>https://arabit.me/%d7%98%d7%9c%d7%a4%d7%95%d7%9f/</td>\n",
       "      <td>https://arabit.me/wp-content/uploads/2024/01/ט...</td>\n",
       "      <td>טלפון</td>\n",
       "      <td>טלפון</td>\n",
       "      <td>هاتف</td>\n",
       "    </tr>\n",
       "  </tbody>\n",
       "</table>\n",
       "</div>"
      ],
      "text/plain": [
       "   page_num       title                                               link  \\\n",
       "0         1        תודה        https://arabit.me/%d7%aa%d7%95%d7%93%d7%94/   \n",
       "1         2        מערה        https://arabit.me/%d7%9e%d7%a2%d7%a8%d7%94/   \n",
       "2         3  כיסא נדנדה  https://arabit.me/%d7%9b%d7%99%d7%a1%d7%90-%d7...   \n",
       "3         4       הצטרף  https://arabit.me/%d7%94%d7%a6%d7%98%d7%a8%d7%a3/   \n",
       "4         5       טלפון  https://arabit.me/%d7%98%d7%9c%d7%a4%d7%95%d7%9f/   \n",
       "\n",
       "                                               image     caption caption_part  \\\n",
       "0  https://arabit.me/wp-content/uploads/2024/01/ת...        תודה         תודה   \n",
       "1  https://arabit.me/wp-content/uploads/2024/01/מ...        מערה         מערה   \n",
       "2  https://arabit.me/wp-content/uploads/2024/01/כ...  כיסא נדנדה   כיסא נדנדה   \n",
       "3  https://arabit.me/wp-content/uploads/2024/01/ה...       הצטרף        הצטרף   \n",
       "4  https://arabit.me/wp-content/uploads/2024/01/ט...       טלפון        טלפון   \n",
       "\n",
       "          arabic_word  \n",
       "0            شُكْرًا   \n",
       "1              مغارة   \n",
       "2   كُرْسِيّ رَجَّاج   \n",
       "3           اِنْضَمّ   \n",
       "4               هاتف   "
      ]
     },
     "execution_count": 96,
     "metadata": {},
     "output_type": "execute_result"
    }
   ],
   "source": [
    "wdf = pd.DataFrame(words, columns=[\"page_num\", \"title\", \"link\", \"image\", \"caption\", \"caption_part\", \"arabic_word\"])\n",
    "wdf.head()"
   ]
  },
  {
   "cell_type": "code",
   "execution_count": 110,
   "id": "ac7fbcd7-a900-43c2-89ae-f97394a5cbdf",
   "metadata": {},
   "outputs": [
    {
     "data": {
      "text/plain": [
       "2286"
      ]
     },
     "execution_count": 110,
     "metadata": {},
     "output_type": "execute_result"
    }
   ],
   "source": [
    "wdf.link.nunique()"
   ]
  },
  {
   "cell_type": "code",
   "execution_count": null,
   "id": "1c1096bf-6b46-4766-9641-0c030e8d8a35",
   "metadata": {},
   "outputs": [],
   "source": [
    "# add local image path\n",
    "# add local audio"
   ]
  },
  {
   "cell_type": "code",
   "execution_count": 97,
   "id": "b63a3152-7e93-4396-92bb-563cfa765e94",
   "metadata": {},
   "outputs": [],
   "source": [
    "wdf.to_csv(\"data/arabit/words.csv\", index=False)"
   ]
  },
  {
   "cell_type": "code",
   "execution_count": null,
   "id": "3cbc2bf1-8ad3-489f-b884-de5f7bcae07c",
   "metadata": {},
   "outputs": [],
   "source": []
  },
  {
   "cell_type": "markdown",
   "id": "3ce3a45b-5dfd-47cf-989b-cef7b83f6c9c",
   "metadata": {},
   "source": [
    "## Create Anki Deck"
   ]
  },
  {
   "cell_type": "code",
   "execution_count": null,
   "id": "49a0f0be-4331-4ce0-a6ef-b2fe3857dc30",
   "metadata": {},
   "outputs": [],
   "source": []
  },
  {
   "cell_type": "code",
   "execution_count": null,
   "id": "b34dedd2-5c9b-455b-8fd1-6466cae34610",
   "metadata": {},
   "outputs": [],
   "source": []
  },
  {
   "cell_type": "code",
   "execution_count": null,
   "id": "e6d42a77-8a0a-457d-8da4-8c9e77f1d87e",
   "metadata": {},
   "outputs": [],
   "source": []
  },
  {
   "cell_type": "code",
   "execution_count": null,
   "id": "4c810597-0838-4128-a7c7-ecdd05e67b96",
   "metadata": {},
   "outputs": [],
   "source": []
  },
  {
   "cell_type": "code",
   "execution_count": null,
   "id": "600ecd94-3837-4e60-bd30-1f3a21797792",
   "metadata": {},
   "outputs": [],
   "source": []
  }
 ],
 "metadata": {
  "kernelspec": {
   "display_name": "Python 3 (ipykernel)",
   "language": "python",
   "name": "python3"
  },
  "language_info": {
   "codemirror_mode": {
    "name": "ipython",
    "version": 3
   },
   "file_extension": ".py",
   "mimetype": "text/x-python",
   "name": "python",
   "nbconvert_exporter": "python",
   "pygments_lexer": "ipython3",
   "version": "3.10.9"
  }
 },
 "nbformat": 4,
 "nbformat_minor": 5
}
